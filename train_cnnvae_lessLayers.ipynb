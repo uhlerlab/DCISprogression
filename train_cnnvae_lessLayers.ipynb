{
 "cells": [
  {
   "cell_type": "code",
   "execution_count": 29,
   "metadata": {},
   "outputs": [],
   "source": [
    "import time\n",
    "import os\n",
    "\n",
    "import scanpy\n",
    "import numpy as np\n",
    "import scipy.sparse as sp\n",
    "\n",
    "import torch\n",
    "from torch import optim\n",
    "from torch.utils.data import DataLoader\n",
    "\n",
    "import models.loadImg as loadImg\n",
    "import models.modelsCNN as modelsCNN\n",
    "import models.optimizer as optimizer\n",
    "\n",
    "import pickle\n",
    "import matplotlib.pyplot as plt\n",
    "import seaborn as sns\n",
    "import pandas as pd\n",
    "import gc\n",
    "from skimage import io\n",
    "import umap\n",
    "from sklearn.decomposition import PCA\n",
    "from sklearn.cluster import MiniBatchKMeans"
   ]
  },
  {
   "cell_type": "code",
   "execution_count": 2,
   "metadata": {},
   "outputs": [],
   "source": [
    "os.environ[\"CUDA_LAUNCH_BLOCKING\"] = \"1\" \n",
    "os.environ[\"CUDA_VISIBLE_DEVICES\"] = \"2\" "
   ]
  },
  {
   "cell_type": "code",
   "execution_count": 3,
   "metadata": {},
   "outputs": [
    {
     "name": "stdout",
     "output_type": "stream",
     "text": [
      "['br1003a_1_cytokeratin_555_aSMA_647_hoechst', 'br1003a_3_collagen1_647_hoechst', 'br1003a_4_cytokeratin_555_gh2ax_647_hoechst', 'br301_4_cytokeratin_555_aSMA_647_hoechst', 'br301_6_collagen1_647_hoechst', 'br8018a_1_cytokeratin_555_aSMA_647_hoechst', 'br8018a_3_collagen1_647_hoechst', 'br8018a_4_cytokeratin_555_gh2ax_647_hoechst']\n"
     ]
    }
   ],
   "source": [
    "radius=48\n",
    "datadir='/media/xinyi/dcis2idc1/data'\n",
    "sampleList=[]\n",
    "for s in os.listdir('/media/xinyi/dcis2idc1/data'):\n",
    "    if 'hoechst'  in s and ('_1_' in s or '_3_' in s or '_4_' in s or '_6_' in s):\n",
    "#     if 'hoechst'  in s and ('_3_' in s or '_4_' in s or '_6_' in s):\n",
    "        sampleList.append(s)\n",
    "print(sampleList)\n",
    "trainingCores={'br1003a':[],'br8018a':[],'br301':[]}\n",
    "for s in range(1,11):\n",
    "# for s in range(5,11):\n",
    "    trainingCores['br1003a'].append('A'+str(s))\n",
    "    trainingCores['br1003a'].append('C'+str(s))\n",
    "    trainingCores['br1003a'].append('I'+str(s))\n",
    "for s in range(1,11):\n",
    "    if s<9:\n",
    "        trainingCores['br8018a'].append('H'+str(s))\n",
    "    trainingCores['br8018a'].append('A'+str(s))\n",
    "    trainingCores['br8018a'].append('B'+str(s))\n",
    "    trainingCores['br8018a'].append('F'+str(s))\n",
    "for s in range(1,7):\n",
    "    for sr in ['A','B','C','D','E']:\n",
    "        trainingCores['br301'].append(sr+str(s))"
   ]
  },
  {
   "cell_type": "code",
   "execution_count": 4,
   "metadata": {
    "scrolled": true
   },
   "outputs": [
    {
     "data": {
      "text/plain": [
       "{'br1003a': ['A1',\n",
       "  'C1',\n",
       "  'I1',\n",
       "  'A2',\n",
       "  'C2',\n",
       "  'I2',\n",
       "  'A3',\n",
       "  'C3',\n",
       "  'I3',\n",
       "  'A4',\n",
       "  'C4',\n",
       "  'I4',\n",
       "  'A5',\n",
       "  'C5',\n",
       "  'I5',\n",
       "  'A6',\n",
       "  'C6',\n",
       "  'I6',\n",
       "  'A7',\n",
       "  'C7',\n",
       "  'I7',\n",
       "  'A8',\n",
       "  'C8',\n",
       "  'I8',\n",
       "  'A9',\n",
       "  'C9',\n",
       "  'I9',\n",
       "  'A10',\n",
       "  'C10',\n",
       "  'I10'],\n",
       " 'br8018a': ['H1',\n",
       "  'A1',\n",
       "  'B1',\n",
       "  'F1',\n",
       "  'H2',\n",
       "  'A2',\n",
       "  'B2',\n",
       "  'F2',\n",
       "  'H3',\n",
       "  'A3',\n",
       "  'B3',\n",
       "  'F3',\n",
       "  'H4',\n",
       "  'A4',\n",
       "  'B4',\n",
       "  'F4',\n",
       "  'H5',\n",
       "  'A5',\n",
       "  'B5',\n",
       "  'F5',\n",
       "  'H6',\n",
       "  'A6',\n",
       "  'B6',\n",
       "  'F6',\n",
       "  'H7',\n",
       "  'A7',\n",
       "  'B7',\n",
       "  'F7',\n",
       "  'H8',\n",
       "  'A8',\n",
       "  'B8',\n",
       "  'F8',\n",
       "  'A9',\n",
       "  'B9',\n",
       "  'F9',\n",
       "  'A10',\n",
       "  'B10',\n",
       "  'F10'],\n",
       " 'br301': ['A1',\n",
       "  'B1',\n",
       "  'C1',\n",
       "  'D1',\n",
       "  'E1',\n",
       "  'A2',\n",
       "  'B2',\n",
       "  'C2',\n",
       "  'D2',\n",
       "  'E2',\n",
       "  'A3',\n",
       "  'B3',\n",
       "  'C3',\n",
       "  'D3',\n",
       "  'E3',\n",
       "  'A4',\n",
       "  'B4',\n",
       "  'C4',\n",
       "  'D4',\n",
       "  'E4',\n",
       "  'A5',\n",
       "  'B5',\n",
       "  'C5',\n",
       "  'D5',\n",
       "  'E5',\n",
       "  'A6',\n",
       "  'B6',\n",
       "  'C6',\n",
       "  'D6',\n",
       "  'E6']}"
      ]
     },
     "execution_count": 4,
     "metadata": {},
     "output_type": "execute_result"
    }
   ],
   "source": [
    "trainingCores"
   ]
  },
  {
   "cell_type": "code",
   "execution_count": 3,
   "metadata": {
    "scrolled": true
   },
   "outputs": [
    {
     "name": "stdout",
     "output_type": "stream",
     "text": [
      "['br1003a_1_cytokeratin_555_aSMA_647_hoechst', 'br1003a_3_collagen1_647_hoechst', 'br1003a_4_cytokeratin_555_gh2ax_647_hoechst', 'br301_4_cytokeratin_555_aSMA_647_hoechst', 'br301_6_collagen1_647_hoechst', 'br8018a_1_cytokeratin_555_aSMA_647_hoechst', 'br8018a_3_collagen1_647_hoechst', 'br8018a_4_cytokeratin_555_gh2ax_647_hoechst']\n",
      "br1003a_1_cytokeratin_555_aSMA_647_hoechst\n",
      "A1\n",
      "C1\n",
      "I1\n",
      "A2\n",
      "C2\n",
      "I2\n",
      "C3\n",
      "I3\n",
      "A4\n",
      "C4\n",
      "A5\n",
      "C5\n",
      "A6\n",
      "C6\n",
      "A7\n",
      "C7\n",
      "I7\n",
      "A8\n",
      "C8\n",
      "I8\n",
      "A9\n",
      "C9\n",
      "I9\n",
      "C10\n",
      "I10\n",
      "br1003a_3_collagen1_647_hoechst\n",
      "A1\n",
      "C1\n",
      "I1\n",
      "A2\n",
      "C2\n",
      "I2\n",
      "A3\n",
      "C3\n",
      "I3\n",
      "C4\n",
      "A5\n",
      "C5\n",
      "A6\n",
      "C6\n",
      "A7\n",
      "C7\n",
      "I7\n",
      "A8\n",
      "C8\n",
      "I8\n",
      "A9\n",
      "C9\n",
      "I9\n",
      "C10\n",
      "I10\n",
      "br1003a_4_cytokeratin_555_gh2ax_647_hoechst\n",
      "A1\n",
      "C1\n",
      "I1\n",
      "A2\n",
      "C2\n",
      "I2\n",
      "A3\n",
      "I3\n",
      "A4\n",
      "C4\n",
      "A5\n",
      "C5\n",
      "A6\n",
      "C6\n",
      "A7\n",
      "C7\n",
      "I7\n",
      "A8\n",
      "C8\n",
      "I8\n",
      "A9\n",
      "C9\n",
      "I9\n",
      "A10\n",
      "C10\n",
      "br301_4_cytokeratin_555_aSMA_647_hoechst\n",
      "A1\n",
      "B1\n",
      "C1\n",
      "D1\n",
      "E1\n",
      "A2\n",
      "B2\n",
      "C2\n",
      "D2\n",
      "E2\n",
      "A3\n",
      "B3\n",
      "C3\n",
      "D3\n",
      "E3\n",
      "A4\n",
      "B4\n",
      "C4\n",
      "D4\n",
      "E4\n",
      "A5\n",
      "B5\n",
      "C5\n",
      "D5\n",
      "E5\n",
      "A6\n",
      "B6\n",
      "C6\n",
      "D6\n",
      "E6\n",
      "br301_6_collagen1_647_hoechst\n",
      "A1\n",
      "B1\n",
      "C1\n",
      "D1\n",
      "E1\n",
      "A2\n",
      "B2\n",
      "C2\n",
      "D2\n",
      "E2\n",
      "A3\n",
      "B3\n",
      "C3\n",
      "D3\n",
      "E3\n",
      "A4\n",
      "B4\n",
      "C4\n",
      "D4\n",
      "E4\n",
      "A5\n",
      "B5\n",
      "C5\n",
      "D5\n",
      "E5\n",
      "A6\n",
      "B6\n",
      "C6\n",
      "D6\n",
      "E6\n",
      "br8018a_1_cytokeratin_555_aSMA_647_hoechst\n",
      "H1\n",
      "A1\n",
      "B1\n",
      "F1\n",
      "H2\n",
      "A2\n",
      "B2\n",
      "F2\n",
      "H3\n",
      "A3\n",
      "B3\n",
      "F3\n",
      "H4\n",
      "A4\n",
      "B4\n",
      "F4\n",
      "H5\n",
      "A5\n",
      "B5\n",
      "F5\n",
      "H6\n",
      "A6\n",
      "B6\n",
      "F6\n",
      "H7\n",
      "A7\n",
      "B7\n",
      "F7\n",
      "H8\n",
      "A8\n",
      "B8\n",
      "F8\n",
      "A9\n",
      "F9\n",
      "A10\n",
      "B10\n",
      "F10\n",
      "br8018a_3_collagen1_647_hoechst\n",
      "A1\n",
      "B1\n",
      "A2\n",
      "B2\n",
      "A3\n",
      "B3\n",
      "F3\n",
      "A4\n",
      "B4\n",
      "F4\n",
      "B5\n",
      "A6\n",
      "B6\n",
      "F6\n",
      "A7\n",
      "B7\n",
      "F7\n",
      "A8\n",
      "B8\n",
      "F8\n",
      "A9\n",
      "B9\n",
      "F9\n",
      "B10\n",
      "F10\n",
      "br8018a_4_cytokeratin_555_gh2ax_647_hoechst\n",
      "H1\n",
      "A2\n",
      "H3\n",
      "A3\n",
      "F3\n",
      "B4\n",
      "F4\n",
      "H5\n",
      "A5\n",
      "B5\n",
      "H6\n",
      "B6\n",
      "A7\n",
      "B7\n",
      "F7\n",
      "H8\n",
      "A8\n",
      "F8\n"
     ]
    }
   ],
   "source": [
    "allImg=loadImg.loadImg(datadir,sampleList,trainingCores,'segmented_nucleus','zproject/dna',radius,minmax=True)"
   ]
  },
  {
   "cell_type": "code",
   "execution_count": 18,
   "metadata": {},
   "outputs": [],
   "source": [
    "sampleList_add=['br8018a_4_cytokeratin_555_gh2ax_647_hoechst']\n",
    "trainingCores_add={'br8018a':['H2','H4','H7']}"
   ]
  },
  {
   "cell_type": "code",
   "execution_count": 8,
   "metadata": {},
   "outputs": [
    {
     "name": "stdout",
     "output_type": "stream",
     "text": [
      "br8018a_4_cytokeratin_555_gh2ax_647_hoechst\n",
      "H2\n",
      "H4\n",
      "H7\n"
     ]
    }
   ],
   "source": [
    "addImg=loadImg.loadImg(datadir,sampleList_add,trainingCores_add,'segmented_nucleus','zproject/dna',radius,minmax=True)"
   ]
  },
  {
   "cell_type": "code",
   "execution_count": 9,
   "metadata": {},
   "outputs": [],
   "source": [
    "allImg=np.concatenate((allImg,addImg),axis=0)"
   ]
  },
  {
   "cell_type": "code",
   "execution_count": 10,
   "metadata": {},
   "outputs": [
    {
     "data": {
      "text/plain": [
       "(1876734, 1, 96, 96)"
      ]
     },
     "execution_count": 10,
     "metadata": {},
     "output_type": "execute_result"
    }
   ],
   "source": [
    "allImg.shape"
   ]
  },
  {
   "cell_type": "code",
   "execution_count": 11,
   "metadata": {},
   "outputs": [],
   "source": [
    "with open(os.path.join(datadir,'processed','train_cnnvae'), 'wb') as output:\n",
    "    pickle.dump(allImg, output, pickle.HIGHEST_PROTOCOL)"
   ]
  },
  {
   "cell_type": "code",
   "execution_count": 12,
   "metadata": {},
   "outputs": [],
   "source": [
    "#train-test split\n",
    "np.random.seed(3)\n",
    "pctVal=0.05\n",
    "pctTest=0.1\n",
    "allIdx=np.arange(allImg.shape[0])\n",
    "np.random.shuffle(allIdx)\n",
    "valIdx=allIdx[:int(pctVal*allImg.shape[0])]\n",
    "testIdx=allIdx[int(pctVal*allImg.shape[0]):(int(pctVal*allImg.shape[0])+int(pctTest*allImg.shape[0]))]\n",
    "trainIdx=allIdx[(int(pctVal*allImg.shape[0])+int(pctTest*allImg.shape[0])):]"
   ]
  },
  {
   "cell_type": "code",
   "execution_count": 13,
   "metadata": {},
   "outputs": [],
   "source": [
    "with open(os.path.join(datadir,'processed','train_cnnvae_trainIdx'), 'wb') as output:\n",
    "    pickle.dump(trainIdx, output, pickle.HIGHEST_PROTOCOL)\n",
    "with open(os.path.join(datadir,'processed','train_cnnvae_valIdx'), 'wb') as output:\n",
    "    pickle.dump(valIdx, output, pickle.HIGHEST_PROTOCOL)\n",
    "with open(os.path.join(datadir,'processed','train_cnnvae_testIdx'), 'wb') as output:\n",
    "    pickle.dump(testIdx, output, pickle.HIGHEST_PROTOCOL)"
   ]
  },
  {
   "cell_type": "code",
   "execution_count": 4,
   "metadata": {},
   "outputs": [],
   "source": [
    "with open(os.path.join(datadir,'processed','train_cnnvae'), 'rb') as input:\n",
    "    allImg=pickle.load(input)\n",
    "with open(os.path.join(datadir,'processed','train_cnnvae_trainIdx'), 'rb') as input:\n",
    "    trainIdx=pickle.load(input)\n",
    "with open(os.path.join(datadir,'processed','train_cnnvae_valIdx'), 'rb') as input:\n",
    "    valIdx=pickle.load(input)\n",
    "with open(os.path.join(datadir,'processed','train_cnnvae_testIdx'), 'rb') as input:\n",
    "    testIdx=pickle.load(input)"
   ]
  },
  {
   "cell_type": "code",
   "execution_count": 5,
   "metadata": {},
   "outputs": [],
   "source": [
    "#VAE settings\n",
    "seed=3\n",
    "epochs=10000\n",
    "saveFreq=2000\n",
    "lr=0.00001 #initial learning rate\n",
    "lr_adv=0.001\n",
    "weight_decay=0 #Weight for L2 loss on embedding matrix.\n",
    "\n",
    "# batchsize=4\n",
    "batchsize=4000\n",
    "kernel_size=4\n",
    "stride=2\n",
    "padding=1\n",
    "\n",
    "# fc_dim1=6000\n",
    "hidden1=64 #Number of channels in hidden layer 1\n",
    "hidden2=128 \n",
    "hidden3=256\n",
    "fc_dim1=256*12*12\n",
    "fc_dim2=50\n",
    "# fc_dim3=128\n",
    "# fc_dim4=128\n",
    "# gcn_dim1=2600\n",
    "# adv_hidden=128\n",
    "\n",
    "dropout=0.01\n",
    "kl_weight=0.0000001\n",
    "model_str='cnn_vae_lessLayers'\n",
    "\n",
    "name='exp2_lessLayers'\n",
    "logsavepath='/media/xinyi/dcis2idc1/log/cnnvae'+name\n",
    "modelsavepath='/media/xinyi/dcis2idc1/models/cnnvae'+name\n",
    "plotsavepath='/media/xinyi/dcis2idc1/plots/cnnvae'+name\n",
    "\n",
    "\n",
    "if not os.path.exists(logsavepath):\n",
    "    os.mkdir(logsavepath)\n",
    "if not os.path.exists(modelsavepath):\n",
    "    os.mkdir(modelsavepath)\n",
    "if not os.path.exists(plotsavepath):\n",
    "    os.mkdir(plotsavepath)"
   ]
  },
  {
   "cell_type": "code",
   "execution_count": 6,
   "metadata": {},
   "outputs": [],
   "source": [
    "# Set cuda and seed\n",
    "np.random.seed(seed)\n",
    "torch.manual_seed(seed)\n",
    "torch.cuda.manual_seed(seed)\n",
    "torch.backends.cudnn.enabled = True\n",
    "    \n",
    "loss_match=torch.nn.MSELoss()\n",
    "# Create model\n",
    "if model_str=='cnn_vae':\n",
    "    modelcnn = modelsCNN.CNN_VAE(kernel_size, stride, padding, 1, hidden1, hidden2, hidden3, hidden4, hidden5, fc_dim1,fc_dim2)\n",
    "    loss_kl=optimizer.optimizer_kl\n",
    "    loss_x=torch.nn.MSELoss()\n",
    "if model_str=='cnn_vae_lessLayers':\n",
    "    modelcnn = modelsCNN.CNN_VAE_small(kernel_size, stride, padding, 1, hidden1, hidden2, hidden3, fc_dim1,fc_dim2)\n",
    "    loss_kl=optimizer.optimizer_kl\n",
    "    loss_x=torch.nn.MSELoss()\n",
    "if model_str=='cnn_vae_sharded':\n",
    "    modelcnn = modelsCNN.CNN_VAE_sharded(kernel_size, stride, padding, 1, hidden1, hidden2, hidden3, hidden4, hidden5, fc_dim1,fc_dim2)\n",
    "    loss_kl=optimizer.optimizer_kl\n",
    "    loss_x=torch.nn.MSELoss()\n",
    "    use_cuda=False\n",
    "\n",
    "if model_str=='cnn_vae_alexnet':\n",
    "    modelcnn = modelsCNN.CNN_VAE_alexnet(fc_dim1)\n",
    "    loss_kl=optimizer.optimizer_kl\n",
    "    loss_x=torch.nn.MSELoss(reduction='sum')\n",
    "\n",
    "    \n",
    "modelcnn.cuda()       \n",
    "optimizerCNN = optim.Adam(modelcnn.parameters(), lr=lr, weight_decay=weight_decay)"
   ]
  },
  {
   "cell_type": "code",
   "execution_count": 7,
   "metadata": {
    "scrolled": true
   },
   "outputs": [
    {
     "name": "stdout",
     "output_type": "stream",
     "text": [
      "Epoch: 0000 loss_train: 0.1501 loss_kl_train: 538.4607 loss_x_train: 0.1500 loss_val: 0.0614 time: 265.9317s\n",
      "Epoch: 0001 loss_train: 0.0461 loss_kl_train: 0.0832 loss_x_train: 0.0461 loss_val: 0.0288 time: 257.2746s\n",
      "Epoch: 0002 loss_train: 0.0253 loss_kl_train: 0.0686 loss_x_train: 0.0253 loss_val: 0.0216 time: 257.3351s\n",
      "Epoch: 0003 loss_train: 0.0193 loss_kl_train: 0.0718 loss_x_train: 0.0193 loss_val: 0.0173 time: 257.2062s\n",
      "Epoch: 0004 loss_train: 0.0158 loss_kl_train: 0.0757 loss_x_train: 0.0158 loss_val: 0.0146 time: 257.0840s\n",
      "Epoch: 0005 loss_train: 0.0136 loss_kl_train: 0.0790 loss_x_train: 0.0136 loss_val: 0.0127 time: 257.2181s\n",
      "Epoch: 0006 loss_train: 0.0119 loss_kl_train: 0.0824 loss_x_train: 0.0119 loss_val: 0.0113 time: 257.2037s\n",
      "Epoch: 0007 loss_train: 0.0106 loss_kl_train: 0.0859 loss_x_train: 0.0106 loss_val: 0.0099 time: 257.1730s\n",
      "Epoch: 0008 loss_train: 0.0092 loss_kl_train: 0.0900 loss_x_train: 0.0092 loss_val: 0.0085 time: 257.0979s\n",
      "Epoch: 0009 loss_train: 0.0078 loss_kl_train: 0.0956 loss_x_train: 0.0078 loss_val: 0.0072 time: 257.1959s\n",
      "Epoch: 0010 loss_train: 0.0067 loss_kl_train: 0.1013 loss_x_train: 0.0067 loss_val: 0.0062 time: 257.3716s\n",
      "Epoch: 0011 loss_train: 0.0058 loss_kl_train: 0.1065 loss_x_train: 0.0058 loss_val: 0.0054 time: 257.4304s\n",
      "Epoch: 0012 loss_train: 0.0050 loss_kl_train: 0.1110 loss_x_train: 0.0050 loss_val: 0.0048 time: 257.6367s\n",
      "Epoch: 0013 loss_train: 0.0045 loss_kl_train: 0.1150 loss_x_train: 0.0045 loss_val: 0.0043 time: 257.6543s\n",
      "Epoch: 0014 loss_train: 0.0040 loss_kl_train: 0.1186 loss_x_train: 0.0040 loss_val: 0.0039 time: 257.5209s\n",
      "Epoch: 0015 loss_train: 0.0036 loss_kl_train: 0.1224 loss_x_train: 0.0036 loss_val: 0.0035 time: 257.5843s\n",
      "Epoch: 0016 loss_train: 0.0033 loss_kl_train: 0.1261 loss_x_train: 0.0033 loss_val: 0.0032 time: 257.5709s\n",
      "Epoch: 0017 loss_train: 0.0030 loss_kl_train: 0.1292 loss_x_train: 0.0030 loss_val: 0.0030 time: 257.7080s\n",
      "Epoch: 0018 loss_train: 0.0028 loss_kl_train: 0.1316 loss_x_train: 0.0028 loss_val: 0.0028 time: 257.6444s\n",
      "Epoch: 0019 loss_train: 0.0026 loss_kl_train: 0.1337 loss_x_train: 0.0026 loss_val: 0.0026 time: 257.5615s\n",
      "Epoch: 0020 loss_train: 0.0025 loss_kl_train: 0.1357 loss_x_train: 0.0025 loss_val: 0.0025 time: 257.4846s\n",
      "Epoch: 0021 loss_train: 0.0023 loss_kl_train: 0.1378 loss_x_train: 0.0023 loss_val: 0.0023 time: 257.5874s\n",
      "Epoch: 0022 loss_train: 0.0022 loss_kl_train: 0.1399 loss_x_train: 0.0022 loss_val: 0.0022 time: 257.5327s\n",
      "Epoch: 0023 loss_train: 0.0021 loss_kl_train: 0.1423 loss_x_train: 0.0021 loss_val: 0.0021 time: 257.5369s\n",
      "Epoch: 0024 loss_train: 0.0020 loss_kl_train: 0.1445 loss_x_train: 0.0020 loss_val: 0.0020 time: 257.6768s\n",
      "Epoch: 0025 loss_train: 0.0019 loss_kl_train: 0.1469 loss_x_train: 0.0019 loss_val: 0.0019 time: 257.5637s\n",
      "Epoch: 0026 loss_train: 0.0018 loss_kl_train: 0.1492 loss_x_train: 0.0018 loss_val: 0.0018 time: 257.5157s\n",
      "Epoch: 0027 loss_train: 0.0017 loss_kl_train: 0.1516 loss_x_train: 0.0017 loss_val: 0.0017 time: 257.8006s\n",
      "Epoch: 0028 loss_train: 0.0017 loss_kl_train: 0.1539 loss_x_train: 0.0017 loss_val: 0.0017 time: 257.4693s\n",
      "Epoch: 0029 loss_train: 0.0016 loss_kl_train: 0.1561 loss_x_train: 0.0016 loss_val: 0.0016 time: 257.5936s\n",
      "Epoch: 0030 loss_train: 0.0016 loss_kl_train: 0.1582 loss_x_train: 0.0016 loss_val: 0.0016 time: 257.5175s\n",
      "Epoch: 0031 loss_train: 0.0016 loss_kl_train: 0.1603 loss_x_train: 0.0016 loss_val: 0.0016 time: 257.8589s\n",
      "Epoch: 0032 loss_train: 0.0015 loss_kl_train: 0.1622 loss_x_train: 0.0015 loss_val: 0.0015 time: 257.5965s\n",
      "Epoch: 0033 loss_train: 0.0015 loss_kl_train: 0.1640 loss_x_train: 0.0015 loss_val: 0.0015 time: 257.6994s\n",
      "Epoch: 0034 loss_train: 0.0015 loss_kl_train: 0.1658 loss_x_train: 0.0015 loss_val: 0.0015 time: 257.4621s\n",
      "Epoch: 0035 loss_train: 0.0014 loss_kl_train: 0.1676 loss_x_train: 0.0014 loss_val: 0.0014 time: 257.8924s\n",
      "Epoch: 0036 loss_train: 0.0014 loss_kl_train: 0.1693 loss_x_train: 0.0014 loss_val: 0.0014 time: 257.4965s\n",
      "Epoch: 0037 loss_train: 0.0014 loss_kl_train: 0.1709 loss_x_train: 0.0014 loss_val: 0.0014 time: 257.6709s\n",
      "Epoch: 0038 loss_train: 0.0014 loss_kl_train: 0.1725 loss_x_train: 0.0014 loss_val: 0.0014 time: 257.6820s\n",
      "Epoch: 0039 loss_train: 0.0013 loss_kl_train: 0.1739 loss_x_train: 0.0013 loss_val: 0.0013 time: 302.6809s\n",
      "Epoch: 0040 loss_train: 0.0013 loss_kl_train: 0.1753 loss_x_train: 0.0013 loss_val: 0.0013 time: 268.8184s\n",
      "Epoch: 0041 loss_train: 0.0013 loss_kl_train: 0.1766 loss_x_train: 0.0013 loss_val: 0.0013 time: 279.8262s\n",
      "Epoch: 0042 loss_train: 0.0013 loss_kl_train: 0.1778 loss_x_train: 0.0013 loss_val: 0.0013 time: 294.2247s\n",
      "Epoch: 0043 loss_train: 0.0013 loss_kl_train: 0.1789 loss_x_train: 0.0013 loss_val: 0.0013 time: 265.5142s\n",
      "Epoch: 0044 loss_train: 0.0013 loss_kl_train: 0.1801 loss_x_train: 0.0013 loss_val: 0.0012 time: 254.3767s\n",
      "Epoch: 0045 loss_train: 0.0012 loss_kl_train: 0.1811 loss_x_train: 0.0012 loss_val: 0.0012 time: 254.2708s\n",
      "Epoch: 0046 loss_train: 0.0012 loss_kl_train: 0.1822 loss_x_train: 0.0012 loss_val: 0.0012 time: 253.9889s\n",
      "Epoch: 0048 loss_train: 0.0012 loss_kl_train: 0.1843 loss_x_train: 0.0012 loss_val: 0.0012 time: 254.8927s\n",
      "Epoch: 0049 loss_train: 0.0012 loss_kl_train: 0.1851 loss_x_train: 0.0012 loss_val: 0.0012 time: 254.8315s\n",
      "Epoch: 0050 loss_train: 0.0012 loss_kl_train: 0.1860 loss_x_train: 0.0012 loss_val: 0.0011 time: 254.8546s\n",
      "Epoch: 0051 loss_train: 0.0011 loss_kl_train: 0.1870 loss_x_train: 0.0011 loss_val: 0.0011 time: 254.9474s\n",
      "Epoch: 0052 loss_train: 0.0011 loss_kl_train: 0.1879 loss_x_train: 0.0011 loss_val: 0.0011 time: 254.6127s\n",
      "Epoch: 0053 loss_train: 0.0011 loss_kl_train: 0.1887 loss_x_train: 0.0011 loss_val: 0.0011 time: 254.5436s\n",
      "Epoch: 0054 loss_train: 0.0011 loss_kl_train: 0.1894 loss_x_train: 0.0011 loss_val: 0.0011 time: 254.7536s\n",
      "Epoch: 0055 loss_train: 0.0011 loss_kl_train: 0.1900 loss_x_train: 0.0011 loss_val: 0.0011 time: 254.8052s\n",
      "Epoch: 0056 loss_train: 0.0011 loss_kl_train: 0.1907 loss_x_train: 0.0011 loss_val: 0.0011 time: 254.8308s\n",
      "Epoch: 0057 loss_train: 0.0011 loss_kl_train: 0.1916 loss_x_train: 0.0011 loss_val: 0.0011 time: 254.7730s\n",
      "Epoch: 0058 loss_train: 0.0011 loss_kl_train: 0.1923 loss_x_train: 0.0011 loss_val: 0.0011 time: 254.6814s\n",
      "Epoch: 0059 loss_train: 0.0011 loss_kl_train: 0.1929 loss_x_train: 0.0011 loss_val: 0.0011 time: 254.8316s\n",
      "Epoch: 0060 loss_train: 0.0011 loss_kl_train: 0.1936 loss_x_train: 0.0011 loss_val: 0.0010 time: 254.7628s\n",
      "Epoch: 0061 loss_train: 0.0010 loss_kl_train: 0.1943 loss_x_train: 0.0010 loss_val: 0.0010 time: 254.6747s\n",
      "Epoch: 0062 loss_train: 0.0010 loss_kl_train: 0.1951 loss_x_train: 0.0010 loss_val: 0.0010 time: 254.8216s\n",
      "Epoch: 0063 loss_train: 0.0010 loss_kl_train: 0.1958 loss_x_train: 0.0010 loss_val: 0.0010 time: 254.8503s\n",
      "Epoch: 0064 loss_train: 0.0010 loss_kl_train: 0.1965 loss_x_train: 0.0010 loss_val: 0.0010 time: 254.5980s\n",
      "Epoch: 0065 loss_train: 0.0010 loss_kl_train: 0.1971 loss_x_train: 0.0010 loss_val: 0.0010 time: 254.4325s\n",
      "Epoch: 0066 loss_train: 0.0010 loss_kl_train: 0.1980 loss_x_train: 0.0010 loss_val: 0.0010 time: 254.3394s\n",
      "Epoch: 0067 loss_train: 0.0010 loss_kl_train: 0.1986 loss_x_train: 0.0010 loss_val: 0.0010 time: 254.2226s\n",
      "Epoch: 0068 loss_train: 0.0010 loss_kl_train: 0.1992 loss_x_train: 0.0010 loss_val: 0.0010 time: 254.2806s\n",
      "Epoch: 0069 loss_train: 0.0010 loss_kl_train: 0.1998 loss_x_train: 0.0010 loss_val: 0.0010 time: 254.1897s\n",
      "Epoch: 0070 loss_train: 0.0010 loss_kl_train: 0.2003 loss_x_train: 0.0010 loss_val: 0.0010 time: 254.4952s\n",
      "Epoch: 0071 loss_train: 0.0010 loss_kl_train: 0.2008 loss_x_train: 0.0010 loss_val: 0.0010 time: 254.3508s\n",
      "Epoch: 0072 loss_train: 0.0010 loss_kl_train: 0.2016 loss_x_train: 0.0010 loss_val: 0.0010 time: 254.2469s\n",
      "Epoch: 0073 loss_train: 0.0010 loss_kl_train: 0.2022 loss_x_train: 0.0010 loss_val: 0.0010 time: 254.2823s\n",
      "Epoch: 0074 loss_train: 0.0010 loss_kl_train: 0.2029 loss_x_train: 0.0010 loss_val: 0.0010 time: 254.2224s\n",
      "Epoch: 0075 loss_train: 0.0009 loss_kl_train: 0.2035 loss_x_train: 0.0009 loss_val: 0.0009 time: 254.2241s\n",
      "Epoch: 0076 loss_train: 0.0009 loss_kl_train: 0.2040 loss_x_train: 0.0009 loss_val: 0.0009 time: 254.4638s\n",
      "Epoch: 0077 loss_train: 0.0009 loss_kl_train: 0.2048 loss_x_train: 0.0009 loss_val: 0.0009 time: 254.2655s\n"
     ]
    },
    {
     "name": "stdout",
     "output_type": "stream",
     "text": [
      "Epoch: 0078 loss_train: 0.0009 loss_kl_train: 0.2053 loss_x_train: 0.0009 loss_val: 0.0009 time: 254.1694s\n",
      "Epoch: 0079 loss_train: 0.0009 loss_kl_train: 0.2059 loss_x_train: 0.0009 loss_val: 0.0009 time: 254.2793s\n",
      "Epoch: 0080 loss_train: 0.0009 loss_kl_train: 0.2064 loss_x_train: 0.0009 loss_val: 0.0009 time: 254.2935s\n",
      "Epoch: 0081 loss_train: 0.0009 loss_kl_train: 0.2068 loss_x_train: 0.0009 loss_val: 0.0009 time: 254.1010s\n",
      "Epoch: 0082 loss_train: 0.0009 loss_kl_train: 0.2073 loss_x_train: 0.0009 loss_val: 0.0009 time: 254.1257s\n",
      "Epoch: 0083 loss_train: 0.0009 loss_kl_train: 0.2081 loss_x_train: 0.0009 loss_val: 0.0009 time: 254.2542s\n",
      "Epoch: 0084 loss_train: 0.0009 loss_kl_train: 0.2084 loss_x_train: 0.0009 loss_val: 0.0009 time: 254.2995s\n",
      "Epoch: 0085 loss_train: 0.0009 loss_kl_train: 0.2091 loss_x_train: 0.0009 loss_val: 0.0009 time: 254.3083s\n",
      "Epoch: 0086 loss_train: 0.0009 loss_kl_train: 0.2097 loss_x_train: 0.0009 loss_val: 0.0009 time: 254.2154s\n",
      "Epoch: 0087 loss_train: 0.0009 loss_kl_train: 0.2105 loss_x_train: 0.0009 loss_val: 0.0009 time: 254.1103s\n",
      "Epoch: 0088 loss_train: 0.0009 loss_kl_train: 0.2111 loss_x_train: 0.0009 loss_val: 0.0009 time: 254.1598s\n",
      "Epoch: 0089 loss_train: 0.0009 loss_kl_train: 0.2117 loss_x_train: 0.0009 loss_val: 0.0009 time: 254.0670s\n",
      "Epoch: 0090 loss_train: 0.0009 loss_kl_train: 0.2123 loss_x_train: 0.0009 loss_val: 0.0009 time: 254.0003s\n",
      "Epoch: 0091 loss_train: 0.0009 loss_kl_train: 0.2127 loss_x_train: 0.0009 loss_val: 0.0009 time: 254.2934s\n",
      "Epoch: 0092 loss_train: 0.0009 loss_kl_train: 0.2131 loss_x_train: 0.0009 loss_val: 0.0009 time: 254.0155s\n",
      "Epoch: 0093 loss_train: 0.0009 loss_kl_train: 0.2137 loss_x_train: 0.0009 loss_val: 0.0009 time: 254.6143s\n",
      "Epoch: 0094 loss_train: 0.0009 loss_kl_train: 0.2143 loss_x_train: 0.0009 loss_val: 0.0009 time: 254.3461s\n",
      "Epoch: 0095 loss_train: 0.0009 loss_kl_train: 0.2149 loss_x_train: 0.0009 loss_val: 0.0009 time: 254.0495s\n",
      "Epoch: 0096 loss_train: 0.0009 loss_kl_train: 0.2156 loss_x_train: 0.0009 loss_val: 0.0009 time: 254.2171s\n",
      "Epoch: 0097 loss_train: 0.0009 loss_kl_train: 0.2163 loss_x_train: 0.0009 loss_val: 0.0009 time: 254.1585s\n",
      "Epoch: 0098 loss_train: 0.0009 loss_kl_train: 0.2169 loss_x_train: 0.0009 loss_val: 0.0009 time: 254.1543s\n",
      "Epoch: 0099 loss_train: 0.0009 loss_kl_train: 0.2174 loss_x_train: 0.0009 loss_val: 0.0009 time: 254.0289s\n",
      "Epoch: 0100 loss_train: 0.0009 loss_kl_train: 0.2180 loss_x_train: 0.0009 loss_val: 0.0009 time: 253.9933s\n",
      "Epoch: 0101 loss_train: 0.0009 loss_kl_train: 0.2185 loss_x_train: 0.0009 loss_val: 0.0009 time: 253.8799s\n",
      "Epoch: 0102 loss_train: 0.0008 loss_kl_train: 0.2190 loss_x_train: 0.0008 loss_val: 0.0009 time: 254.0817s\n",
      "Epoch: 0103 loss_train: 0.0008 loss_kl_train: 0.2197 loss_x_train: 0.0008 loss_val: 0.0009 time: 253.9763s\n",
      "Epoch: 0104 loss_train: 0.0008 loss_kl_train: 0.2203 loss_x_train: 0.0008 loss_val: 0.0009 time: 254.0404s\n",
      "Epoch: 0105 loss_train: 0.0008 loss_kl_train: 0.2208 loss_x_train: 0.0008 loss_val: 0.0008 time: 253.9952s\n",
      "Epoch: 0106 loss_train: 0.0008 loss_kl_train: 0.2215 loss_x_train: 0.0008 loss_val: 0.0008 time: 254.0092s\n",
      "Epoch: 0107 loss_train: 0.0008 loss_kl_train: 0.2220 loss_x_train: 0.0008 loss_val: 0.0008 time: 254.0744s\n",
      "Epoch: 0108 loss_train: 0.0008 loss_kl_train: 0.2225 loss_x_train: 0.0008 loss_val: 0.0008 time: 253.9788s\n",
      "Epoch: 0109 loss_train: 0.0008 loss_kl_train: 0.2230 loss_x_train: 0.0008 loss_val: 0.0008 time: 254.0194s\n",
      "Epoch: 0110 loss_train: 0.0008 loss_kl_train: 0.2235 loss_x_train: 0.0008 loss_val: 0.0008 time: 254.2022s\n",
      "Epoch: 0111 loss_train: 0.0008 loss_kl_train: 0.2242 loss_x_train: 0.0008 loss_val: 0.0008 time: 253.9383s\n",
      "Epoch: 0112 loss_train: 0.0008 loss_kl_train: 0.2249 loss_x_train: 0.0008 loss_val: 0.0008 time: 253.8883s\n",
      "Epoch: 0113 loss_train: 0.0008 loss_kl_train: 0.2255 loss_x_train: 0.0008 loss_val: 0.0008 time: 253.7606s\n",
      "Epoch: 0114 loss_train: 0.0008 loss_kl_train: 0.2262 loss_x_train: 0.0008 loss_val: 0.0008 time: 253.8470s\n",
      "Epoch: 0115 loss_train: 0.0008 loss_kl_train: 0.2270 loss_x_train: 0.0008 loss_val: 0.0008 time: 253.7937s\n",
      "Epoch: 0116 loss_train: 0.0008 loss_kl_train: 0.2276 loss_x_train: 0.0008 loss_val: 0.0008 time: 253.7788s\n",
      "Epoch: 0117 loss_train: 0.0008 loss_kl_train: 0.2282 loss_x_train: 0.0008 loss_val: 0.0008 time: 253.5952s\n",
      "Epoch: 0118 loss_train: 0.0008 loss_kl_train: 0.2288 loss_x_train: 0.0008 loss_val: 0.0008 time: 253.7874s\n",
      "Epoch: 0119 loss_train: 0.0008 loss_kl_train: 0.2294 loss_x_train: 0.0008 loss_val: 0.0008 time: 253.6191s\n",
      "Epoch: 0120 loss_train: 0.0008 loss_kl_train: 0.2300 loss_x_train: 0.0008 loss_val: 0.0008 time: 253.7122s\n",
      "Epoch: 0121 loss_train: 0.0008 loss_kl_train: 0.2305 loss_x_train: 0.0008 loss_val: 0.0008 time: 253.8719s\n",
      "Epoch: 0122 loss_train: 0.0008 loss_kl_train: 0.2310 loss_x_train: 0.0008 loss_val: 0.0008 time: 253.5573s\n",
      "Epoch: 0123 loss_train: 0.0008 loss_kl_train: 0.2317 loss_x_train: 0.0008 loss_val: 0.0008 time: 253.6616s\n",
      "Epoch: 0124 loss_train: 0.0008 loss_kl_train: 0.2322 loss_x_train: 0.0008 loss_val: 0.0008 time: 253.6988s\n",
      "Epoch: 0125 loss_train: 0.0008 loss_kl_train: 0.2327 loss_x_train: 0.0008 loss_val: 0.0008 time: 253.8385s\n",
      "Epoch: 0126 loss_train: 0.0007 loss_kl_train: 0.2334 loss_x_train: 0.0007 loss_val: 0.0008 time: 253.8944s\n",
      "Epoch: 0127 loss_train: 0.0007 loss_kl_train: 0.2339 loss_x_train: 0.0007 loss_val: 0.0007 time: 253.8445s\n",
      "Epoch: 0128 loss_train: 0.0007 loss_kl_train: 0.2346 loss_x_train: 0.0007 loss_val: 0.0007 time: 253.7251s\n",
      "Epoch: 0129 loss_train: 0.0007 loss_kl_train: 0.2351 loss_x_train: 0.0007 loss_val: 0.0007 time: 253.9908s\n",
      "Epoch: 0130 loss_train: 0.0007 loss_kl_train: 0.2359 loss_x_train: 0.0007 loss_val: 0.0007 time: 253.6147s\n",
      "Epoch: 0131 loss_train: 0.0007 loss_kl_train: 0.2367 loss_x_train: 0.0007 loss_val: 0.0007 time: 253.7688s\n",
      "Epoch: 0132 loss_train: 0.0007 loss_kl_train: 0.2374 loss_x_train: 0.0007 loss_val: 0.0007 time: 253.8708s\n",
      "Epoch: 0133 loss_train: 0.0007 loss_kl_train: 0.2381 loss_x_train: 0.0007 loss_val: 0.0007 time: 253.8662s\n",
      "Epoch: 0134 loss_train: 0.0007 loss_kl_train: 0.2388 loss_x_train: 0.0007 loss_val: 0.0007 time: 253.8938s\n",
      "Epoch: 0135 loss_train: 0.0007 loss_kl_train: 0.2395 loss_x_train: 0.0007 loss_val: 0.0007 time: 253.8770s\n",
      "Epoch: 0136 loss_train: 0.0007 loss_kl_train: 0.2401 loss_x_train: 0.0007 loss_val: 0.0007 time: 253.6948s\n",
      "Epoch: 0137 loss_train: 0.0007 loss_kl_train: 0.2408 loss_x_train: 0.0007 loss_val: 0.0007 time: 253.8151s\n",
      "Epoch: 0138 loss_train: 0.0007 loss_kl_train: 0.2415 loss_x_train: 0.0007 loss_val: 0.0007 time: 253.9858s\n",
      "Epoch: 0139 loss_train: 0.0007 loss_kl_train: 0.2422 loss_x_train: 0.0007 loss_val: 0.0007 time: 253.9381s\n",
      "Epoch: 0140 loss_train: 0.0007 loss_kl_train: 0.2428 loss_x_train: 0.0007 loss_val: 0.0007 time: 253.8653s\n",
      "Epoch: 0141 loss_train: 0.0007 loss_kl_train: 0.2435 loss_x_train: 0.0007 loss_val: 0.0007 time: 254.0078s\n",
      "Epoch: 0142 loss_train: 0.0007 loss_kl_train: 0.2441 loss_x_train: 0.0007 loss_val: 0.0007 time: 254.0411s\n",
      "Epoch: 0143 loss_train: 0.0007 loss_kl_train: 0.2447 loss_x_train: 0.0007 loss_val: 0.0007 time: 253.9951s\n",
      "Epoch: 0144 loss_train: 0.0007 loss_kl_train: 0.2453 loss_x_train: 0.0007 loss_val: 0.0007 time: 254.0302s\n",
      "Epoch: 0145 loss_train: 0.0007 loss_kl_train: 0.2459 loss_x_train: 0.0007 loss_val: 0.0007 time: 254.2016s\n",
      "Epoch: 0146 loss_train: 0.0007 loss_kl_train: 0.2465 loss_x_train: 0.0007 loss_val: 0.0007 time: 254.1349s\n",
      "Epoch: 0147 loss_train: 0.0006 loss_kl_train: 0.2470 loss_x_train: 0.0006 loss_val: 0.0007 time: 254.0153s\n",
      "Epoch: 0148 loss_train: 0.0006 loss_kl_train: 0.2477 loss_x_train: 0.0006 loss_val: 0.0007 time: 254.0827s\n",
      "Epoch: 0149 loss_train: 0.0006 loss_kl_train: 0.2484 loss_x_train: 0.0006 loss_val: 0.0006 time: 254.0063s\n",
      "Epoch: 0150 loss_train: 0.0006 loss_kl_train: 0.2490 loss_x_train: 0.0006 loss_val: 0.0006 time: 253.8341s\n",
      "Epoch: 0151 loss_train: 0.0006 loss_kl_train: 0.2495 loss_x_train: 0.0006 loss_val: 0.0006 time: 254.0528s\n",
      "Epoch: 0152 loss_train: 0.0006 loss_kl_train: 0.2502 loss_x_train: 0.0006 loss_val: 0.0006 time: 254.3218s\n",
      "Epoch: 0153 loss_train: 0.0006 loss_kl_train: 0.2509 loss_x_train: 0.0006 loss_val: 0.0006 time: 254.2696s\n",
      "Epoch: 0154 loss_train: 0.0006 loss_kl_train: 0.2516 loss_x_train: 0.0006 loss_val: 0.0006 time: 253.9319s\n"
     ]
    },
    {
     "name": "stdout",
     "output_type": "stream",
     "text": [
      "Epoch: 0155 loss_train: 0.0006 loss_kl_train: 0.2522 loss_x_train: 0.0006 loss_val: 0.0006 time: 254.0507s\n",
      "Epoch: 0156 loss_train: 0.0006 loss_kl_train: 0.2527 loss_x_train: 0.0006 loss_val: 0.0006 time: 253.7903s\n",
      "Epoch: 0157 loss_train: 0.0006 loss_kl_train: 0.2533 loss_x_train: 0.0006 loss_val: 0.0006 time: 254.1094s\n",
      "Epoch: 0158 loss_train: 0.0006 loss_kl_train: 0.2538 loss_x_train: 0.0006 loss_val: 0.0006 time: 254.1077s\n",
      "Epoch: 0159 loss_train: 0.0006 loss_kl_train: 0.2544 loss_x_train: 0.0006 loss_val: 0.0006 time: 253.9784s\n",
      "Epoch: 0160 loss_train: 0.0006 loss_kl_train: 0.2550 loss_x_train: 0.0006 loss_val: 0.0006 time: 254.1837s\n",
      "Epoch: 0161 loss_train: 0.0006 loss_kl_train: 0.2556 loss_x_train: 0.0006 loss_val: 0.0006 time: 254.2853s\n",
      "Epoch: 0162 loss_train: 0.0006 loss_kl_train: 0.2563 loss_x_train: 0.0006 loss_val: 0.0006 time: 254.2421s\n",
      "Epoch: 0163 loss_train: 0.0006 loss_kl_train: 0.2570 loss_x_train: 0.0006 loss_val: 0.0006 time: 253.8632s\n",
      "Epoch: 0164 loss_train: 0.0006 loss_kl_train: 0.2575 loss_x_train: 0.0006 loss_val: 0.0006 time: 254.3079s\n",
      "Epoch: 0165 loss_train: 0.0006 loss_kl_train: 0.2581 loss_x_train: 0.0006 loss_val: 0.0006 time: 254.0700s\n",
      "Epoch: 0166 loss_train: 0.0006 loss_kl_train: 0.2588 loss_x_train: 0.0006 loss_val: 0.0006 time: 254.2122s\n",
      "Epoch: 0167 loss_train: 0.0006 loss_kl_train: 0.2595 loss_x_train: 0.0006 loss_val: 0.0006 time: 254.2023s\n",
      "Epoch: 0168 loss_train: 0.0006 loss_kl_train: 0.2601 loss_x_train: 0.0006 loss_val: 0.0006 time: 254.2230s\n",
      "Epoch: 0169 loss_train: 0.0006 loss_kl_train: 0.2606 loss_x_train: 0.0006 loss_val: 0.0006 time: 254.1593s\n",
      "Epoch: 0170 loss_train: 0.0006 loss_kl_train: 0.2611 loss_x_train: 0.0006 loss_val: 0.0006 time: 254.1579s\n",
      "Epoch: 0171 loss_train: 0.0006 loss_kl_train: 0.2617 loss_x_train: 0.0006 loss_val: 0.0006 time: 254.3129s\n",
      "Epoch: 0172 loss_train: 0.0006 loss_kl_train: 0.2623 loss_x_train: 0.0006 loss_val: 0.0006 time: 253.8967s\n",
      "Epoch: 0173 loss_train: 0.0006 loss_kl_train: 0.2630 loss_x_train: 0.0006 loss_val: 0.0006 time: 254.0182s\n",
      "Epoch: 0174 loss_train: 0.0006 loss_kl_train: 0.2637 loss_x_train: 0.0006 loss_val: 0.0006 time: 254.1063s\n",
      "Epoch: 0175 loss_train: 0.0006 loss_kl_train: 0.2643 loss_x_train: 0.0006 loss_val: 0.0006 time: 254.0486s\n",
      "Epoch: 0176 loss_train: 0.0006 loss_kl_train: 0.2649 loss_x_train: 0.0006 loss_val: 0.0006 time: 254.0970s\n",
      "Epoch: 0177 loss_train: 0.0006 loss_kl_train: 0.2654 loss_x_train: 0.0006 loss_val: 0.0006 time: 254.0461s\n",
      "Epoch: 0178 loss_train: 0.0006 loss_kl_train: 0.2660 loss_x_train: 0.0006 loss_val: 0.0006 time: 254.0379s\n",
      "Epoch: 0179 loss_train: 0.0006 loss_kl_train: 0.2667 loss_x_train: 0.0006 loss_val: 0.0006 time: 253.8792s\n",
      "Epoch: 0180 loss_train: 0.0006 loss_kl_train: 0.2672 loss_x_train: 0.0006 loss_val: 0.0006 time: 254.0272s\n",
      "Epoch: 0181 loss_train: 0.0006 loss_kl_train: 0.2678 loss_x_train: 0.0006 loss_val: 0.0006 time: 254.0556s\n",
      "Epoch: 0182 loss_train: 0.0006 loss_kl_train: 0.2685 loss_x_train: 0.0006 loss_val: 0.0006 time: 254.0510s\n",
      "Epoch: 0183 loss_train: 0.0006 loss_kl_train: 0.2691 loss_x_train: 0.0006 loss_val: 0.0006 time: 253.9522s\n",
      "Epoch: 0184 loss_train: 0.0006 loss_kl_train: 0.2697 loss_x_train: 0.0006 loss_val: 0.0006 time: 254.2229s\n",
      "Epoch: 0185 loss_train: 0.0006 loss_kl_train: 0.2702 loss_x_train: 0.0006 loss_val: 0.0006 time: 254.2527s\n",
      "Epoch: 0186 loss_train: 0.0006 loss_kl_train: 0.2708 loss_x_train: 0.0006 loss_val: 0.0006 time: 254.2731s\n",
      "Epoch: 0187 loss_train: 0.0006 loss_kl_train: 0.2715 loss_x_train: 0.0006 loss_val: 0.0006 time: 254.2018s\n",
      "Epoch: 0188 loss_train: 0.0006 loss_kl_train: 0.2722 loss_x_train: 0.0006 loss_val: 0.0006 time: 254.1370s\n",
      "Epoch: 0189 loss_train: 0.0006 loss_kl_train: 0.2728 loss_x_train: 0.0006 loss_val: 0.0006 time: 253.9174s\n",
      "Epoch: 0190 loss_train: 0.0006 loss_kl_train: 0.2735 loss_x_train: 0.0006 loss_val: 0.0006 time: 253.9379s\n",
      "Epoch: 0191 loss_train: 0.0006 loss_kl_train: 0.2742 loss_x_train: 0.0006 loss_val: 0.0006 time: 253.7932s\n",
      "Epoch: 0192 loss_train: 0.0006 loss_kl_train: 0.2747 loss_x_train: 0.0006 loss_val: 0.0006 time: 253.8772s\n",
      "Epoch: 0193 loss_train: 0.0006 loss_kl_train: 0.2753 loss_x_train: 0.0006 loss_val: 0.0006 time: 253.6360s\n",
      "Epoch: 0194 loss_train: 0.0006 loss_kl_train: 0.2758 loss_x_train: 0.0006 loss_val: 0.0006 time: 253.7998s\n",
      "Epoch: 0195 loss_train: 0.0006 loss_kl_train: 0.2763 loss_x_train: 0.0006 loss_val: 0.0006 time: 253.9258s\n",
      "Epoch: 0196 loss_train: 0.0006 loss_kl_train: 0.2769 loss_x_train: 0.0006 loss_val: 0.0006 time: 253.9666s\n",
      "Epoch: 0197 loss_train: 0.0006 loss_kl_train: 0.2775 loss_x_train: 0.0006 loss_val: 0.0006 time: 253.8942s\n",
      "Epoch: 0198 loss_train: 0.0006 loss_kl_train: 0.2781 loss_x_train: 0.0006 loss_val: 0.0006 time: 254.2106s\n",
      "Epoch: 0199 loss_train: 0.0006 loss_kl_train: 0.2788 loss_x_train: 0.0006 loss_val: 0.0006 time: 253.9591s\n",
      "Epoch: 0200 loss_train: 0.0006 loss_kl_train: 0.2795 loss_x_train: 0.0006 loss_val: 0.0006 time: 253.9962s\n",
      "Epoch: 0201 loss_train: 0.0006 loss_kl_train: 0.2801 loss_x_train: 0.0006 loss_val: 0.0006 time: 254.2493s\n",
      "Epoch: 0202 loss_train: 0.0006 loss_kl_train: 0.2806 loss_x_train: 0.0006 loss_val: 0.0006 time: 254.0930s\n",
      "Epoch: 0203 loss_train: 0.0006 loss_kl_train: 0.2812 loss_x_train: 0.0006 loss_val: 0.0006 time: 254.0317s\n",
      "Epoch: 0204 loss_train: 0.0006 loss_kl_train: 0.2817 loss_x_train: 0.0006 loss_val: 0.0006 time: 254.0507s\n",
      "Epoch: 0205 loss_train: 0.0006 loss_kl_train: 0.2822 loss_x_train: 0.0006 loss_val: 0.0006 time: 254.1977s\n",
      "Epoch: 0206 loss_train: 0.0006 loss_kl_train: 0.2827 loss_x_train: 0.0006 loss_val: 0.0006 time: 253.8754s\n",
      "Epoch: 0207 loss_train: 0.0006 loss_kl_train: 0.2832 loss_x_train: 0.0006 loss_val: 0.0006 time: 253.9200s\n",
      "Epoch: 0208 loss_train: 0.0006 loss_kl_train: 0.2838 loss_x_train: 0.0006 loss_val: 0.0006 time: 253.8208s\n",
      "Epoch: 0209 loss_train: 0.0006 loss_kl_train: 0.2845 loss_x_train: 0.0006 loss_val: 0.0006 time: 254.2390s\n",
      "Epoch: 0210 loss_train: 0.0006 loss_kl_train: 0.2850 loss_x_train: 0.0006 loss_val: 0.0006 time: 254.2173s\n",
      "Epoch: 0211 loss_train: 0.0006 loss_kl_train: 0.2856 loss_x_train: 0.0006 loss_val: 0.0006 time: 254.1538s\n",
      "Epoch: 0212 loss_train: 0.0006 loss_kl_train: 0.2862 loss_x_train: 0.0006 loss_val: 0.0006 time: 254.4488s\n",
      "Epoch: 0213 loss_train: 0.0006 loss_kl_train: 0.2869 loss_x_train: 0.0006 loss_val: 0.0006 time: 254.1067s\n",
      "Epoch: 0214 loss_train: 0.0006 loss_kl_train: 0.2873 loss_x_train: 0.0006 loss_val: 0.0006 time: 253.9715s\n",
      "Epoch: 0215 loss_train: 0.0006 loss_kl_train: 0.2878 loss_x_train: 0.0006 loss_val: 0.0006 time: 254.1755s\n",
      "Epoch: 0216 loss_train: 0.0006 loss_kl_train: 0.2884 loss_x_train: 0.0006 loss_val: 0.0006 time: 254.0987s\n",
      "Epoch: 0217 loss_train: 0.0006 loss_kl_train: 0.2890 loss_x_train: 0.0006 loss_val: 0.0006 time: 254.0983s\n",
      "Epoch: 0218 loss_train: 0.0006 loss_kl_train: 0.2895 loss_x_train: 0.0006 loss_val: 0.0006 time: 254.0701s\n",
      "Epoch: 0219 loss_train: 0.0006 loss_kl_train: 0.2902 loss_x_train: 0.0006 loss_val: 0.0006 time: 254.3070s\n",
      "Epoch: 0220 loss_train: 0.0006 loss_kl_train: 0.2908 loss_x_train: 0.0006 loss_val: 0.0006 time: 254.3226s\n",
      "Epoch: 0221 loss_train: 0.0006 loss_kl_train: 0.2914 loss_x_train: 0.0006 loss_val: 0.0006 time: 254.3645s\n",
      "Epoch: 0222 loss_train: 0.0006 loss_kl_train: 0.2919 loss_x_train: 0.0006 loss_val: 0.0006 time: 254.1398s\n",
      "Epoch: 0223 loss_train: 0.0006 loss_kl_train: 0.2926 loss_x_train: 0.0006 loss_val: 0.0006 time: 254.2802s\n",
      "Epoch: 0224 loss_train: 0.0006 loss_kl_train: 0.2931 loss_x_train: 0.0006 loss_val: 0.0006 time: 254.4747s\n",
      "Epoch: 0225 loss_train: 0.0006 loss_kl_train: 0.2938 loss_x_train: 0.0006 loss_val: 0.0006 time: 254.0963s\n",
      "Epoch: 0226 loss_train: 0.0006 loss_kl_train: 0.2945 loss_x_train: 0.0006 loss_val: 0.0006 time: 254.1149s\n",
      "Epoch: 0227 loss_train: 0.0006 loss_kl_train: 0.2951 loss_x_train: 0.0006 loss_val: 0.0006 time: 254.2283s\n",
      "Epoch: 0228 loss_train: 0.0006 loss_kl_train: 0.2957 loss_x_train: 0.0006 loss_val: 0.0006 time: 254.0597s\n",
      "Epoch: 0229 loss_train: 0.0006 loss_kl_train: 0.2963 loss_x_train: 0.0006 loss_val: 0.0006 time: 254.2184s\n",
      "Epoch: 0230 loss_train: 0.0006 loss_kl_train: 0.2969 loss_x_train: 0.0006 loss_val: 0.0006 time: 254.3010s\n",
      "Epoch: 0231 loss_train: 0.0006 loss_kl_train: 0.2974 loss_x_train: 0.0006 loss_val: 0.0006 time: 254.2799s\n"
     ]
    },
    {
     "name": "stdout",
     "output_type": "stream",
     "text": [
      "Epoch: 0232 loss_train: 0.0006 loss_kl_train: 0.2980 loss_x_train: 0.0006 loss_val: 0.0006 time: 254.1855s\n",
      "Epoch: 0233 loss_train: 0.0006 loss_kl_train: 0.2985 loss_x_train: 0.0006 loss_val: 0.0006 time: 254.1240s\n",
      "Epoch: 0234 loss_train: 0.0006 loss_kl_train: 0.2990 loss_x_train: 0.0006 loss_val: 0.0006 time: 254.2102s\n",
      "Epoch: 0235 loss_train: 0.0006 loss_kl_train: 0.2995 loss_x_train: 0.0006 loss_val: 0.0006 time: 254.4031s\n",
      "Epoch: 0236 loss_train: 0.0006 loss_kl_train: 0.3000 loss_x_train: 0.0006 loss_val: 0.0006 time: 254.2520s\n",
      "Epoch: 0237 loss_train: 0.0006 loss_kl_train: 0.3007 loss_x_train: 0.0006 loss_val: 0.0006 time: 254.0833s\n",
      "Epoch: 0238 loss_train: 0.0006 loss_kl_train: 0.3012 loss_x_train: 0.0006 loss_val: 0.0006 time: 254.1893s\n",
      "Epoch: 0239 loss_train: 0.0006 loss_kl_train: 0.3018 loss_x_train: 0.0006 loss_val: 0.0006 time: 253.9181s\n",
      "Epoch: 0240 loss_train: 0.0006 loss_kl_train: 0.3022 loss_x_train: 0.0006 loss_val: 0.0006 time: 253.9162s\n",
      "Epoch: 0241 loss_train: 0.0006 loss_kl_train: 0.3028 loss_x_train: 0.0006 loss_val: 0.0006 time: 253.7471s\n",
      "Epoch: 0242 loss_train: 0.0006 loss_kl_train: 0.3033 loss_x_train: 0.0006 loss_val: 0.0006 time: 254.0232s\n",
      "Epoch: 0243 loss_train: 0.0006 loss_kl_train: 0.3039 loss_x_train: 0.0006 loss_val: 0.0006 time: 254.5883s\n",
      "Epoch: 0244 loss_train: 0.0006 loss_kl_train: 0.3044 loss_x_train: 0.0006 loss_val: 0.0006 time: 255.2063s\n",
      "Epoch: 0245 loss_train: 0.0006 loss_kl_train: 0.3050 loss_x_train: 0.0006 loss_val: 0.0006 time: 255.2540s\n",
      "Epoch: 0246 loss_train: 0.0006 loss_kl_train: 0.3055 loss_x_train: 0.0006 loss_val: 0.0006 time: 255.1396s\n",
      "Epoch: 0247 loss_train: 0.0006 loss_kl_train: 0.3060 loss_x_train: 0.0006 loss_val: 0.0006 time: 254.4727s\n",
      "Epoch: 0248 loss_train: 0.0006 loss_kl_train: 0.3066 loss_x_train: 0.0006 loss_val: 0.0006 time: 254.1774s\n",
      "Epoch: 0249 loss_train: 0.0006 loss_kl_train: 0.3072 loss_x_train: 0.0006 loss_val: 0.0006 time: 253.8789s\n",
      "Epoch: 0250 loss_train: 0.0006 loss_kl_train: 0.3079 loss_x_train: 0.0006 loss_val: 0.0006 time: 254.3044s\n",
      "Epoch: 0251 loss_train: 0.0006 loss_kl_train: 0.3083 loss_x_train: 0.0006 loss_val: 0.0006 time: 254.1311s\n",
      "Epoch: 0252 loss_train: 0.0006 loss_kl_train: 0.3088 loss_x_train: 0.0006 loss_val: 0.0006 time: 253.6456s\n",
      "Epoch: 0253 loss_train: 0.0005 loss_kl_train: 0.3093 loss_x_train: 0.0005 loss_val: 0.0006 time: 253.3914s\n",
      "Epoch: 0254 loss_train: 0.0005 loss_kl_train: 0.3101 loss_x_train: 0.0005 loss_val: 0.0006 time: 253.8899s\n",
      "Epoch: 0255 loss_train: 0.0005 loss_kl_train: 0.3107 loss_x_train: 0.0005 loss_val: 0.0006 time: 254.1575s\n",
      "Epoch: 0256 loss_train: 0.0005 loss_kl_train: 0.3112 loss_x_train: 0.0005 loss_val: 0.0006 time: 253.0984s\n",
      "Epoch: 0257 loss_train: 0.0005 loss_kl_train: 0.3117 loss_x_train: 0.0005 loss_val: 0.0006 time: 253.5377s\n",
      "Epoch: 0258 loss_train: 0.0005 loss_kl_train: 0.3122 loss_x_train: 0.0005 loss_val: 0.0006 time: 253.5162s\n",
      "Epoch: 0259 loss_train: 0.0005 loss_kl_train: 0.3128 loss_x_train: 0.0005 loss_val: 0.0006 time: 253.8024s\n",
      "Epoch: 0260 loss_train: 0.0005 loss_kl_train: 0.3133 loss_x_train: 0.0005 loss_val: 0.0006 time: 253.7695s\n",
      "Epoch: 0261 loss_train: 0.0005 loss_kl_train: 0.3139 loss_x_train: 0.0005 loss_val: 0.0006 time: 253.8524s\n",
      "Epoch: 0262 loss_train: 0.0005 loss_kl_train: 0.3145 loss_x_train: 0.0005 loss_val: 0.0006 time: 253.9092s\n",
      "Epoch: 0263 loss_train: 0.0005 loss_kl_train: 0.3150 loss_x_train: 0.0005 loss_val: 0.0006 time: 253.9655s\n",
      "Epoch: 0264 loss_train: 0.0005 loss_kl_train: 0.3155 loss_x_train: 0.0005 loss_val: 0.0005 time: 253.9143s\n",
      "Epoch: 0265 loss_train: 0.0005 loss_kl_train: 0.3161 loss_x_train: 0.0005 loss_val: 0.0005 time: 254.1173s\n",
      "Epoch: 0266 loss_train: 0.0005 loss_kl_train: 0.3165 loss_x_train: 0.0005 loss_val: 0.0005 time: 254.1812s\n",
      "Epoch: 0267 loss_train: 0.0005 loss_kl_train: 0.3171 loss_x_train: 0.0005 loss_val: 0.0005 time: 253.8223s\n",
      "Epoch: 0268 loss_train: 0.0005 loss_kl_train: 0.3175 loss_x_train: 0.0005 loss_val: 0.0005 time: 253.9565s\n",
      "Epoch: 0269 loss_train: 0.0005 loss_kl_train: 0.3180 loss_x_train: 0.0005 loss_val: 0.0005 time: 254.0821s\n",
      "Epoch: 0270 loss_train: 0.0005 loss_kl_train: 0.3185 loss_x_train: 0.0005 loss_val: 0.0005 time: 254.1602s\n",
      "Epoch: 0271 loss_train: 0.0005 loss_kl_train: 0.3190 loss_x_train: 0.0005 loss_val: 0.0005 time: 254.2014s\n",
      "Epoch: 0272 loss_train: 0.0005 loss_kl_train: 0.3194 loss_x_train: 0.0005 loss_val: 0.0005 time: 254.2923s\n",
      "Epoch: 0273 loss_train: 0.0005 loss_kl_train: 0.3199 loss_x_train: 0.0005 loss_val: 0.0005 time: 254.2808s\n",
      "Epoch: 0274 loss_train: 0.0005 loss_kl_train: 0.3205 loss_x_train: 0.0005 loss_val: 0.0005 time: 254.0344s\n",
      "Epoch: 0275 loss_train: 0.0005 loss_kl_train: 0.3209 loss_x_train: 0.0005 loss_val: 0.0005 time: 254.3292s\n",
      "Epoch: 0276 loss_train: 0.0005 loss_kl_train: 0.3215 loss_x_train: 0.0005 loss_val: 0.0005 time: 254.0579s\n",
      "Epoch: 0277 loss_train: 0.0005 loss_kl_train: 0.3220 loss_x_train: 0.0005 loss_val: 0.0005 time: 254.3231s\n",
      "Epoch: 0278 loss_train: 0.0005 loss_kl_train: 0.3226 loss_x_train: 0.0005 loss_val: 0.0005 time: 253.9967s\n",
      "Epoch: 0279 loss_train: 0.0005 loss_kl_train: 0.3231 loss_x_train: 0.0005 loss_val: 0.0005 time: 254.0875s\n",
      "Epoch: 0280 loss_train: 0.0005 loss_kl_train: 0.3237 loss_x_train: 0.0005 loss_val: 0.0005 time: 254.5275s\n",
      "Epoch: 0281 loss_train: 0.0005 loss_kl_train: 0.3242 loss_x_train: 0.0005 loss_val: 0.0005 time: 254.0349s\n",
      "Epoch: 0282 loss_train: 0.0005 loss_kl_train: 0.3247 loss_x_train: 0.0005 loss_val: 0.0005 time: 254.5335s\n",
      "Epoch: 0283 loss_train: 0.0005 loss_kl_train: 0.3253 loss_x_train: 0.0005 loss_val: 0.0005 time: 254.8595s\n",
      "Epoch: 0284 loss_train: 0.0005 loss_kl_train: 0.3258 loss_x_train: 0.0005 loss_val: 0.0005 time: 257.4246s\n",
      "Epoch: 0285 loss_train: 0.0005 loss_kl_train: 0.3264 loss_x_train: 0.0005 loss_val: 0.0005 time: 257.6925s\n",
      "Epoch: 0286 loss_train: 0.0005 loss_kl_train: 0.3270 loss_x_train: 0.0005 loss_val: 0.0005 time: 258.2048s\n",
      "Epoch: 0287 loss_train: 0.0005 loss_kl_train: 0.3276 loss_x_train: 0.0005 loss_val: 0.0005 time: 257.5485s\n",
      "Epoch: 0288 loss_train: 0.0005 loss_kl_train: 0.3281 loss_x_train: 0.0005 loss_val: 0.0005 time: 257.5483s\n",
      "Epoch: 0289 loss_train: 0.0005 loss_kl_train: 0.3286 loss_x_train: 0.0005 loss_val: 0.0005 time: 257.4762s\n",
      "Epoch: 0290 loss_train: 0.0005 loss_kl_train: 0.3292 loss_x_train: 0.0005 loss_val: 0.0005 time: 257.6444s\n",
      "Epoch: 0291 loss_train: 0.0005 loss_kl_train: 0.3298 loss_x_train: 0.0005 loss_val: 0.0005 time: 257.5030s\n",
      "Epoch: 0292 loss_train: 0.0005 loss_kl_train: 0.3303 loss_x_train: 0.0005 loss_val: 0.0005 time: 257.7582s\n",
      "Epoch: 0293 loss_train: 0.0005 loss_kl_train: 0.3309 loss_x_train: 0.0005 loss_val: 0.0005 time: 257.4588s\n",
      "Epoch: 0294 loss_train: 0.0005 loss_kl_train: 0.3314 loss_x_train: 0.0005 loss_val: 0.0005 time: 257.5512s\n",
      "Epoch: 0295 loss_train: 0.0005 loss_kl_train: 0.3319 loss_x_train: 0.0005 loss_val: 0.0005 time: 257.4057s\n",
      "Epoch: 0296 loss_train: 0.0005 loss_kl_train: 0.3324 loss_x_train: 0.0005 loss_val: 0.0005 time: 257.5704s\n",
      "Epoch: 0297 loss_train: 0.0005 loss_kl_train: 0.3329 loss_x_train: 0.0005 loss_val: 0.0005 time: 257.5915s\n",
      "Epoch: 0298 loss_train: 0.0005 loss_kl_train: 0.3334 loss_x_train: 0.0005 loss_val: 0.0005 time: 257.4346s\n",
      "Epoch: 0299 loss_train: 0.0005 loss_kl_train: 0.3339 loss_x_train: 0.0005 loss_val: 0.0005 time: 257.6713s\n",
      "Epoch: 0300 loss_train: 0.0005 loss_kl_train: 0.3343 loss_x_train: 0.0005 loss_val: 0.0005 time: 257.8471s\n",
      "Epoch: 0301 loss_train: 0.0005 loss_kl_train: 0.3348 loss_x_train: 0.0005 loss_val: 0.0005 time: 257.6286s\n",
      "Epoch: 0302 loss_train: 0.0005 loss_kl_train: 0.3353 loss_x_train: 0.0005 loss_val: 0.0005 time: 257.6332s\n",
      "Epoch: 0303 loss_train: 0.0005 loss_kl_train: 0.3358 loss_x_train: 0.0005 loss_val: 0.0005 time: 257.6770s\n",
      "Epoch: 0304 loss_train: 0.0005 loss_kl_train: 0.3362 loss_x_train: 0.0005 loss_val: 0.0005 time: 257.7324s\n",
      "Epoch: 0305 loss_train: 0.0005 loss_kl_train: 0.3366 loss_x_train: 0.0005 loss_val: 0.0005 time: 257.5542s\n",
      "Epoch: 0306 loss_train: 0.0005 loss_kl_train: 0.3372 loss_x_train: 0.0005 loss_val: 0.0005 time: 257.8132s\n",
      "Epoch: 0307 loss_train: 0.0005 loss_kl_train: 0.3377 loss_x_train: 0.0005 loss_val: 0.0005 time: 257.8605s\n",
      "Epoch: 0308 loss_train: 0.0005 loss_kl_train: 0.3382 loss_x_train: 0.0005 loss_val: 0.0005 time: 258.0133s\n"
     ]
    },
    {
     "name": "stdout",
     "output_type": "stream",
     "text": [
      "Epoch: 0309 loss_train: 0.0005 loss_kl_train: 0.3388 loss_x_train: 0.0005 loss_val: 0.0005 time: 257.6332s\n",
      "Epoch: 0310 loss_train: 0.0005 loss_kl_train: 0.3393 loss_x_train: 0.0005 loss_val: 0.0005 time: 257.5696s\n"
     ]
    },
    {
     "ename": "KeyboardInterrupt",
     "evalue": "",
     "output_type": "error",
     "traceback": [
      "\u001b[0;31m---------------------------------------------------------------------------\u001b[0m",
      "\u001b[0;31mKeyboardInterrupt\u001b[0m                         Traceback (most recent call last)",
      "\u001b[0;32m<ipython-input-7-5c5a8ad2afce>\u001b[0m in \u001b[0;36m<module>\u001b[0;34m\u001b[0m\n\u001b[1;32m     73\u001b[0m \u001b[0;32mfor\u001b[0m \u001b[0mep\u001b[0m \u001b[0;32min\u001b[0m \u001b[0mrange\u001b[0m\u001b[0;34m(\u001b[0m\u001b[0mepochs\u001b[0m\u001b[0;34m)\u001b[0m\u001b[0;34m:\u001b[0m\u001b[0;34m\u001b[0m\u001b[0;34m\u001b[0m\u001b[0m\n\u001b[1;32m     74\u001b[0m \u001b[0;31m# for ep in range(10000,20000):\u001b[0m\u001b[0;34m\u001b[0m\u001b[0;34m\u001b[0m\u001b[0;34m\u001b[0m\u001b[0m\n\u001b[0;32m---> 75\u001b[0;31m     \u001b[0mtrain_loss_ep\u001b[0m\u001b[0;34m[\u001b[0m\u001b[0mep\u001b[0m\u001b[0;34m]\u001b[0m\u001b[0;34m,\u001b[0m\u001b[0mtrain_loss_kl_ep\u001b[0m\u001b[0;34m[\u001b[0m\u001b[0mep\u001b[0m\u001b[0;34m]\u001b[0m\u001b[0;34m,\u001b[0m\u001b[0mtrain_loss_x_ep\u001b[0m\u001b[0;34m[\u001b[0m\u001b[0mep\u001b[0m\u001b[0;34m]\u001b[0m\u001b[0;34m,\u001b[0m\u001b[0mval_loss_ep\u001b[0m\u001b[0;34m[\u001b[0m\u001b[0mep\u001b[0m\u001b[0;34m]\u001b[0m\u001b[0;34m=\u001b[0m\u001b[0mtrain\u001b[0m\u001b[0;34m(\u001b[0m\u001b[0mep\u001b[0m\u001b[0;34m)\u001b[0m\u001b[0;34m\u001b[0m\u001b[0;34m\u001b[0m\u001b[0m\n\u001b[0m\u001b[1;32m     76\u001b[0m \u001b[0;34m\u001b[0m\u001b[0m\n\u001b[1;32m     77\u001b[0m \u001b[0;34m\u001b[0m\u001b[0m\n",
      "\u001b[0;32m<ipython-input-7-5c5a8ad2afce>\u001b[0m in \u001b[0;36mtrain\u001b[0;34m(epoch)\u001b[0m\n\u001b[1;32m     30\u001b[0m         \u001b[0mloss_all\u001b[0m\u001b[0;34m+=\u001b[0m\u001b[0mloss\u001b[0m\u001b[0;34m.\u001b[0m\u001b[0mitem\u001b[0m\u001b[0;34m(\u001b[0m\u001b[0;34m)\u001b[0m\u001b[0;34m\u001b[0m\u001b[0;34m\u001b[0m\u001b[0m\n\u001b[1;32m     31\u001b[0m \u001b[0;34m\u001b[0m\u001b[0m\n\u001b[0;32m---> 32\u001b[0;31m         \u001b[0mloss\u001b[0m\u001b[0;34m.\u001b[0m\u001b[0mbackward\u001b[0m\u001b[0;34m(\u001b[0m\u001b[0;34m)\u001b[0m\u001b[0;34m\u001b[0m\u001b[0;34m\u001b[0m\u001b[0m\n\u001b[0m\u001b[1;32m     33\u001b[0m         \u001b[0moptimizerCNN\u001b[0m\u001b[0;34m.\u001b[0m\u001b[0mstep\u001b[0m\u001b[0;34m(\u001b[0m\u001b[0;34m)\u001b[0m\u001b[0;34m\u001b[0m\u001b[0;34m\u001b[0m\u001b[0m\n\u001b[1;32m     34\u001b[0m \u001b[0;34m\u001b[0m\u001b[0m\n",
      "\u001b[0;32m/usr/lib/python3/dist-packages/torch/_tensor.py\u001b[0m in \u001b[0;36mbackward\u001b[0;34m(self, gradient, retain_graph, create_graph, inputs)\u001b[0m\n\u001b[1;32m    253\u001b[0m                 \u001b[0mcreate_graph\u001b[0m\u001b[0;34m=\u001b[0m\u001b[0mcreate_graph\u001b[0m\u001b[0;34m,\u001b[0m\u001b[0;34m\u001b[0m\u001b[0;34m\u001b[0m\u001b[0m\n\u001b[1;32m    254\u001b[0m                 inputs=inputs)\n\u001b[0;32m--> 255\u001b[0;31m         \u001b[0mtorch\u001b[0m\u001b[0;34m.\u001b[0m\u001b[0mautograd\u001b[0m\u001b[0;34m.\u001b[0m\u001b[0mbackward\u001b[0m\u001b[0;34m(\u001b[0m\u001b[0mself\u001b[0m\u001b[0;34m,\u001b[0m \u001b[0mgradient\u001b[0m\u001b[0;34m,\u001b[0m \u001b[0mretain_graph\u001b[0m\u001b[0;34m,\u001b[0m \u001b[0mcreate_graph\u001b[0m\u001b[0;34m,\u001b[0m \u001b[0minputs\u001b[0m\u001b[0;34m=\u001b[0m\u001b[0minputs\u001b[0m\u001b[0;34m)\u001b[0m\u001b[0;34m\u001b[0m\u001b[0;34m\u001b[0m\u001b[0m\n\u001b[0m\u001b[1;32m    256\u001b[0m \u001b[0;34m\u001b[0m\u001b[0m\n\u001b[1;32m    257\u001b[0m     \u001b[0;32mdef\u001b[0m \u001b[0mregister_hook\u001b[0m\u001b[0;34m(\u001b[0m\u001b[0mself\u001b[0m\u001b[0;34m,\u001b[0m \u001b[0mhook\u001b[0m\u001b[0;34m)\u001b[0m\u001b[0;34m:\u001b[0m\u001b[0;34m\u001b[0m\u001b[0;34m\u001b[0m\u001b[0m\n",
      "\u001b[0;32m/usr/lib/python3/dist-packages/torch/autograd/__init__.py\u001b[0m in \u001b[0;36mbackward\u001b[0;34m(tensors, grad_tensors, retain_graph, create_graph, grad_variables, inputs)\u001b[0m\n\u001b[1;32m    145\u001b[0m         \u001b[0mretain_graph\u001b[0m \u001b[0;34m=\u001b[0m \u001b[0mcreate_graph\u001b[0m\u001b[0;34m\u001b[0m\u001b[0;34m\u001b[0m\u001b[0m\n\u001b[1;32m    146\u001b[0m \u001b[0;34m\u001b[0m\u001b[0m\n\u001b[0;32m--> 147\u001b[0;31m     Variable._execution_engine.run_backward(\n\u001b[0m\u001b[1;32m    148\u001b[0m         \u001b[0mtensors\u001b[0m\u001b[0;34m,\u001b[0m \u001b[0mgrad_tensors_\u001b[0m\u001b[0;34m,\u001b[0m \u001b[0mretain_graph\u001b[0m\u001b[0;34m,\u001b[0m \u001b[0mcreate_graph\u001b[0m\u001b[0;34m,\u001b[0m \u001b[0minputs\u001b[0m\u001b[0;34m,\u001b[0m\u001b[0;34m\u001b[0m\u001b[0;34m\u001b[0m\u001b[0m\n\u001b[1;32m    149\u001b[0m         allow_unreachable=True, accumulate_grad=True)  # allow_unreachable flag\n",
      "\u001b[0;31mKeyboardInterrupt\u001b[0m: "
     ]
    }
   ],
   "source": [
    "use_cuda=True\n",
    "def train(epoch):\n",
    "    t = time.time()\n",
    "    modelcnn.train()\n",
    "    \n",
    "    loss_kl_train_all=0\n",
    "    loss_x_train_all=0\n",
    "    loss_all=0\n",
    "    ntrainBatches=int(np.ceil(trainIdx.shape[0]/batchsize))\n",
    "    for i in range(ntrainBatches):\n",
    "#         if i%200==0:\n",
    "#         print(i)\n",
    "        trainIdx_i=trainIdx[i*batchsize:min((i+1)*batchsize,trainIdx.shape[0])]\n",
    "        trainInput=torch.tensor(allImg[trainIdx_i])\n",
    "#         print(trainInput.shape)\n",
    "\n",
    "        if use_cuda:\n",
    "            trainInput=trainInput.cuda().float()\n",
    "        optimizerCNN.zero_grad()\n",
    "\n",
    "        recon, z, mu, logvar = modelcnn(trainInput)\n",
    "\n",
    "        loss_kl_train=loss_kl(mu, logvar)\n",
    "        loss_x_train=loss_x(recon, trainInput)\n",
    "        loss=loss_kl_train*kl_weight+loss_x_train\n",
    "        \n",
    "        \n",
    "        loss_kl_train_all+=loss_kl_train.item()\n",
    "        loss_x_train_all+=loss_x_train.item()\n",
    "        loss_all+=loss.item()\n",
    "        \n",
    "        loss.backward()\n",
    "        optimizerCNN.step()\n",
    "\n",
    "    loss_kl_train_all=loss_kl_train_all/ntrainBatches\n",
    "    loss_x_train_all=loss_x_train_all/ntrainBatches\n",
    "    loss_all=loss_all/ntrainBatches\n",
    "    \n",
    "    with torch.no_grad():\n",
    "        modelcnn.eval()\n",
    "        loss_val_all=0\n",
    "        nvalBatches=int(np.ceil(valIdx.shape[0]/batchsize))\n",
    "        for i in range(nvalBatches):\n",
    "            valIdx_i=valIdx[i*batchsize:min((i+1)*batchsize,valIdx.shape[0])]\n",
    "            valInput=torch.tensor(allImg[valIdx_i])\n",
    "            if use_cuda:\n",
    "                valInput=valInput.cuda().float()\n",
    "            recon,z, mu, logvar = modelcnn(valInput)\n",
    "\n",
    "            loss_val=loss_x(recon, valInput).item()\n",
    "\n",
    "            loss_val_all+=loss_val\n",
    "\n",
    "        loss_val_all=loss_val_all/nvalBatches\n",
    "    \n",
    "    print('Epoch: {:04d}'.format(epoch),\n",
    "          'loss_train: {:.4f}'.format(loss_all),\n",
    "          'loss_kl_train: {:.4f}'.format(loss_kl_train_all),\n",
    "          'loss_x_train: {:.4f}'.format(loss_x_train_all),\n",
    "          'loss_val: {:.4f}'.format(loss_val_all),\n",
    "          'time: {:.4f}s'.format(time.time() - t))\n",
    "    return loss_all,loss_kl_train_all,loss_x_train_all,loss_val_all\n",
    "\n",
    "    \n",
    "train_loss_ep=[None]*epochs\n",
    "train_loss_kl_ep=[None]*epochs\n",
    "train_loss_x_ep=[None]*epochs\n",
    "val_loss_ep=[None]*epochs\n",
    "t_ep=time.time()\n",
    "\n",
    "# pre_t=4\n",
    "pre_t=-1\n",
    "for ep in range(epochs):\n",
    "# for ep in range(10000,20000):\n",
    "    train_loss_ep[ep],train_loss_kl_ep[ep],train_loss_x_ep[ep],val_loss_ep[ep]=train(ep)\n",
    "\n",
    "        \n",
    "    if ep%saveFreq == (saveFreq-1):\n",
    "        torch.save(modelcnn.cpu().state_dict(), os.path.join(modelsavepath,str(ep)+'.pt'))\n",
    "    if use_cuda:\n",
    "        modelcnn.cuda()\n",
    "        torch.cuda.empty_cache()\n",
    "print(' total time: {:.4f}s'.format(time.time() - t_ep))"
   ]
  },
  {
   "cell_type": "code",
   "execution_count": 8,
   "metadata": {},
   "outputs": [],
   "source": [
    "torch.save(modelcnn.cpu().state_dict(), os.path.join(modelsavepath,str(ep)+'.pt'))"
   ]
  },
  {
   "cell_type": "code",
   "execution_count": 9,
   "metadata": {},
   "outputs": [],
   "source": [
    "with open(os.path.join(logsavepath,'train_loss'), 'wb') as output:\n",
    "    pickle.dump(train_loss_ep, output, pickle.HIGHEST_PROTOCOL)\n",
    "with open(os.path.join(logsavepath,'train_loss_kl'), 'wb') as output:\n",
    "    pickle.dump(train_loss_kl_ep, output, pickle.HIGHEST_PROTOCOL)\n",
    "with open(os.path.join(logsavepath,'train_loss_x'), 'wb') as output:\n",
    "    pickle.dump(train_loss_x_ep, output, pickle.HIGHEST_PROTOCOL)\n",
    "with open(os.path.join(logsavepath,'val_loss'), 'wb') as output:\n",
    "    pickle.dump(val_loss_ep, output, pickle.HIGHEST_PROTOCOL)\n"
   ]
  },
  {
   "cell_type": "code",
   "execution_count": 10,
   "metadata": {},
   "outputs": [
    {
     "data": {
      "image/png": "[encoded data removed]",
      "text/plain": [
       "<Figure size 432x288 with 1 Axes>"
      ]
     },
     "metadata": {
      "needs_background": "light"
     },
     "output_type": "display_data"
    }
   ],
   "source": [
    "plt.plot(np.arange(epochs),train_loss_x_ep)\n",
    "plt.plot(np.arange(epochs),val_loss_ep)\n",
    "# plt.plot(np.arange(epochs),train_loss_kl_ep)\n",
    "plt.legend(['training x recon loss','validation x recon loss','training kl loss'],loc='upper right')\n",
    "plt.savefig(os.path.join(plotsavepath,'loss_seed3_x.jpg'))\n",
    "plt.show()\n"
   ]
  },
  {
   "cell_type": "code",
   "execution_count": 11,
   "metadata": {},
   "outputs": [
    {
     "name": "stdout",
     "output_type": "stream",
     "text": [
      "0.0005193230227884301\n"
     ]
    }
   ],
   "source": [
    "#test loss\n",
    "with torch.no_grad():\n",
    "    modelcnn.cuda()\n",
    "    modelcnn.eval()\n",
    "    loss_test_all=0\n",
    "    ntestBatches=int(np.ceil(testIdx.shape[0]/batchsize))\n",
    "    for i in range(ntestBatches):\n",
    "        testIdx_i=testIdx[i*batchsize:min((i+1)*batchsize,testIdx.shape[0])]\n",
    "        testInput=torch.tensor(allImg[testIdx_i])\n",
    "        if use_cuda:\n",
    "            testInput=testInput.cuda().float()\n",
    "        recon,z, mu, logvar = modelcnn(testInput)\n",
    "\n",
    "        loss_test=loss_x(recon, testInput).item()\n",
    "\n",
    "        loss_test_all+=loss_test\n",
    "\n",
    "    loss_test_all=loss_test_all/ntestBatches\n",
    "print(loss_test_all)"
   ]
  },
  {
   "cell_type": "code",
   "execution_count": 12,
   "metadata": {},
   "outputs": [
    {
     "name": "stdout",
     "output_type": "stream",
     "text": [
      "0\n"
     ]
    },
    {
     "data": {
      "image/png": "[encoded data removed]",
      "text/plain": [
       "<Figure size 432x288 with 1 Axes>"
      ]
     },
     "metadata": {
      "needs_background": "light"
     },
     "output_type": "display_data"
    },
    {
     "data": {
      "image/png": "[encoded data removed]",
      "text/plain": [
       "<Figure size 432x288 with 1 Axes>"
      ]
     },
     "metadata": {
      "needs_background": "light"
     },
     "output_type": "display_data"
    },
    {
     "name": "stdout",
     "output_type": "stream",
     "text": [
      "1\n"
     ]
    },
    {
     "data": {
      "image/png": "[encoded data removed]",
      "text/plain": [
       "<Figure size 432x288 with 1 Axes>"
      ]
     },
     "metadata": {
      "needs_background": "light"
     },
     "output_type": "display_data"
    },
    {
     "data": {
      "image/png": "[encoded data removed]",
      "text/plain": [
       "<Figure size 432x288 with 1 Axes>"
      ]
     },
     "metadata": {
      "needs_background": "light"
     },
     "output_type": "display_data"
    },
    {
     "name": "stdout",
     "output_type": "stream",
     "text": [
      "2\n"
     ]
    },
    {
     "data": {
      "image/png": "[encoded data removed]",
      "text/plain": [
       "<Figure size 432x288 with 1 Axes>"
      ]
     },
     "metadata": {
      "needs_background": "light"
     },
     "output_type": "display_data"
    },
    {
     "data": {
      "image/png": "[encoded data removed]",
      "text/plain": [
       "<Figure size 432x288 with 1 Axes>"
      ]
     },
     "metadata": {
      "needs_background": "light"
     },
     "output_type": "display_data"
    },
    {
     "name": "stdout",
     "output_type": "stream",
     "text": [
      "3\n"
     ]
    },
    {
     "data": {
      "image/png": "[encoded data removed]",
      "text/plain": [
       "<Figure size 432x288 with 1 Axes>"
      ]
     },
     "metadata": {
      "needs_background": "light"
     },
     "output_type": "display_data"
    },
    {
     "data": {
      "image/png": "[encoded data removed]",
      "text/plain": [
       "<Figure size 432x288 with 1 Axes>"
      ]
     },
     "metadata": {
      "needs_background": "light"
     },
     "output_type": "display_data"
    },
    {
     "name": "stdout",
     "output_type": "stream",
     "text": [
      "4\n"
     ]
    },
    {
     "data": {
      "image/png": "[encoded data removed]",
      "text/plain": [
       "<Figure size 432x288 with 1 Axes>"
      ]
     },
     "metadata": {
      "needs_background": "light"
     },
     "output_type": "display_data"
    },
    {
     "data": {
      "image/png": "[encoded data removed]",
      "text/plain": [
       "<Figure size 432x288 with 1 Axes>"
      ]
     },
     "metadata": {
      "needs_background": "light"
     },
     "output_type": "display_data"
    },
    {
     "name": "stdout",
     "output_type": "stream",
     "text": [
      "5\n"
     ]
    },
    {
     "data": {
      "image/png": "[encoded data removed]",
      "text/plain": [
       "<Figure size 432x288 with 1 Axes>"
      ]
     },
     "metadata": {
      "needs_background": "light"
     },
     "output_type": "display_data"
    },
    {
     "data": {
      "image/png": "[encoded data removed]",
      "text/plain": [
       "<Figure size 432x288 with 1 Axes>"
      ]
     },
     "metadata": {
      "needs_background": "light"
     },
     "output_type": "display_data"
    },
    {
     "name": "stdout",
     "output_type": "stream",
     "text": [
      "6\n"
     ]
    },
    {
     "data": {
      "image/png": "[encoded data removed]",
      "text/plain": [
       "<Figure size 432x288 with 1 Axes>"
      ]
     },
     "metadata": {
      "needs_background": "light"
     },
     "output_type": "display_data"
    },
    {
     "data": {
      "image/png": "[encoded data removed]",
      "text/plain": [
       "<Figure size 432x288 with 1 Axes>"
      ]
     },
     "metadata": {
      "needs_background": "light"
     },
     "output_type": "display_data"
    },
    {
     "name": "stdout",
     "output_type": "stream",
     "text": [
      "7\n"
     ]
    },
    {
     "data": {
      "image/png": "[encoded data removed]",
      "text/plain": [
       "<Figure size 432x288 with 1 Axes>"
      ]
     },
     "metadata": {
      "needs_background": "light"
     },
     "output_type": "display_data"
    },
    {
     "data": {
      "image/png": "[encoded data removed]",
      "text/plain": [
       "<Figure size 432x288 with 1 Axes>"
      ]
     },
     "metadata": {
      "needs_background": "light"
     },
     "output_type": "display_data"
    },
    {
     "name": "stdout",
     "output_type": "stream",
     "text": [
      "8\n"
     ]
    },
    {
     "data": {
      "image/png": "[encoded data removed]",
      "text/plain": [
       "<Figure size 432x288 with 1 Axes>"
      ]
     },
     "metadata": {
      "needs_background": "light"
     },
     "output_type": "display_data"
    },
    {
     "data": {
      "image/png": "[encoded data removed]",
      "text/plain": [
       "<Figure size 432x288 with 1 Axes>"
      ]
     },
     "metadata": {
      "needs_background": "light"
     },
     "output_type": "display_data"
    },
    {
     "name": "stdout",
     "output_type": "stream",
     "text": [
      "9\n"
     ]
    },
    {
     "data": {
      "image/png": "[encoded data removed]",
      "text/plain": [
       "<Figure size 432x288 with 1 Axes>"
      ]
     },
     "metadata": {
      "needs_background": "light"
     },
     "output_type": "display_data"
    },
    {
     "data": {
      "image/png": "[encoded data removed]",
      "text/plain": [
       "<Figure size 432x288 with 1 Axes>"
      ]
     },
     "metadata": {
      "needs_background": "light"
     },
     "output_type": "display_data"
    }
   ],
   "source": [
    "for i in range(10):\n",
    "    print(i)\n",
    "    plt.imshow(testInput[i][0].cpu().detach().numpy())\n",
    "    plt.show()\n",
    "    plt.imshow(recon[i][0].cpu().detach().numpy())\n",
    "    plt.show()"
   ]
  },
  {
   "cell_type": "code",
   "execution_count": 13,
   "metadata": {},
   "outputs": [],
   "source": [
    "#compute latent\n",
    "ep=311\n",
    "use_cuda=True\n",
    "modelcnn.load_state_dict(torch.load(os.path.join(modelsavepath,str(ep)+'.pt')))\n",
    "latent=np.zeros((allImg.shape[0],fc_dim2))\n",
    "with torch.no_grad():\n",
    "    modelcnn.cuda()\n",
    "    modelcnn.eval()\n",
    "    nplotBatches=int(np.ceil(allImg.shape[0]/batchsize))\n",
    "    for i in range(nplotBatches):\n",
    "        plotInput=torch.tensor(allImg[i*batchsize:min((i+1)*batchsize,allImg.shape[0])])\n",
    "        if use_cuda:\n",
    "            plotInput=plotInput.cuda().float()\n",
    "        recon,z, mu, logvar = modelcnn(plotInput)\n",
    "        latent[i*batchsize:min((i+1)*batchsize,allImg.shape[0])]=mu.cpu().detach().numpy()\n"
   ]
  },
  {
   "cell_type": "code",
   "execution_count": 14,
   "metadata": {},
   "outputs": [],
   "source": [
    "np.random.seed(seed)\n",
    "def plotembeddingbyCT(ctlist,savename,excludelist,embedding,savepath,plotname,plotdimx=0,plotdimy=1,savenameAdd='',img=None,ncolors=None):\n",
    "    \n",
    "    celltypes=np.unique(ctlist)\n",
    "    if ncolors is None:\n",
    "        colortest=sns.color_palette(\"husl\", celltypes.size)\n",
    "    else:\n",
    "        colortest=sns.color_palette(\"husl\", ncolors)\n",
    "    fig, ax = plt.subplots(dpi=400)\n",
    "    if not img is None:\n",
    "        plt.imshow(img)\n",
    "    for ct in celltypes:\n",
    "        if ct in excludelist:\n",
    "            continue\n",
    "        idx=(ctlist==ct)\n",
    "        if not img is None:\n",
    "            ax.scatter(\n",
    "                embedding[idx, plotdimy],\n",
    "                embedding[idx, plotdimx],\n",
    "#                 color=colortest[celltypes_dict[ct]],label=ct,s=1.5,alpha=0.5\n",
    "                color=colortest[int(ct)],label=ct,s=1.5,alpha=0.5\n",
    "                )\n",
    "        else:\n",
    "            ax.scatter(\n",
    "                embedding[idx, plotdimx],\n",
    "                embedding[idx, plotdimy],\n",
    "#                 color=colortest[celltypes_dict[ct]],label=ct,s=1.5,alpha=0.5\n",
    "                color=colortest[int(ct)],label=ct,s=2.5,alpha=1\n",
    "                )\n",
    "\n",
    "    plt.gca().set_aspect('equal', 'datalim')\n",
    "    fig.set_figheight(5)\n",
    "    fig.set_figwidth(5)\n",
    "    box = ax.get_position()\n",
    "    ax.set_position([box.x0, box.y0 + box.height * 0.1,\n",
    "                     box.width, box.height * 0.9])\n",
    "    # Put a legend below current axis\n",
    "#     ax.legend(loc='upper center', bbox_to_anchor=(0.5, -0.05),\n",
    "#               fancybox=True, shadow=True, ncol=2,prop={'size': 6})\n",
    "    ax.legend(loc='upper center', bbox_to_anchor=(0.5, -0.05),\n",
    "              fancybox=True,ncol=5, shadow=True,prop={'size': 6})\n",
    "#     ax.legend(ncol=3)\n",
    "    plt.title(plotname+' embedding', fontsize=12)\n",
    "    plt.savefig(os.path.join(savepath,savename+savenameAdd+'.jpg'))\n",
    "#     plt.show()\n",
    "    \n",
    "#     fig.clf()\n",
    "    plt.close('all')\n",
    "    \n",
    "    gc.collect()\n",
    "    \n",
    "def plotembeddingbyCT_str(ctlist,savename,excludelist,embedding,savepath,plotname,plotdimx=0,plotdimy=1,savenameAdd=''):\n",
    "    celltypes=np.unique(ctlist)\n",
    "    celltypes_dict={}\n",
    "    idx=0\n",
    "    for ct in celltypes:\n",
    "        celltypes_dict[ct]=idx\n",
    "        idx+=1\n",
    "        \n",
    "    colortest=sns.color_palette(\"husl\", celltypes.size)\n",
    "#     colortest=sns.color_palette(\"husl\", 4)\n",
    "#     np.random.shuffle(colortest)\n",
    "    fig, ax = plt.subplots(dpi=400)\n",
    "    for ct in celltypes:\n",
    "        if ct in excludelist:\n",
    "            continue\n",
    "        idx=(ctlist==ct)\n",
    "        ax.scatter(\n",
    "            embedding[idx, plotdimx],\n",
    "            embedding[idx, plotdimy],\n",
    "            color=colortest[celltypes_dict[ct]],label=ct,s=1.5,alpha=0.5\n",
    "#             color=colortest[int(ct)],label=ct,s=1.5,alpha=0.5\n",
    "            )\n",
    "\n",
    "    plt.gca().set_aspect('equal', 'datalim')\n",
    "    fig.set_figheight(5)\n",
    "    fig.set_figwidth(5)\n",
    "    box = ax.get_position()\n",
    "    ax.set_position([box.x0, box.y0 + box.height * 0.1,\n",
    "                     box.width, box.height * 0.9])\n",
    "    # Put a legend below current axis\n",
    "    ax.legend(loc='upper center', bbox_to_anchor=(0.5, -0.05),\n",
    "              fancybox=True,ncol=2, shadow=True,prop={'size': 6})\n",
    "#     ax.legend(ncol=3)\n",
    "    plt.title(plotname+' embedding', fontsize=24)\n",
    "#     plt.tight_layout()\n",
    "    plt.savefig(os.path.join(savepath,savename+savenameAdd+'.jpg'))\n",
    "#     plt.show()\n",
    "    \n",
    "#     fig.clf()\n",
    "    plt.close('all')\n",
    "    \n",
    "    gc.collect()\n",
    "    \n",
    "np.random.seed(seed)\n",
    "def plotembeddingbyCT_contrast(ctlist,savename,excludelist,embedding,savepath,plotname,plotdimx=0,plotdimy=1,savenameAdd='',maxplot=None): \n",
    "    celltypes=np.unique(ctlist)\n",
    "    celltypes_dict={}\n",
    "    idx=0\n",
    "    for ct in celltypes:\n",
    "        celltypes_dict[ct]=idx\n",
    "        idx+=1\n",
    "\n",
    "    colortest=sns.color_palette(\"tab10\")\n",
    "    if not os.path.exists(os.path.join(savepath)):\n",
    "        os.makedirs(savepath)\n",
    "\n",
    "    for ct in celltypes:\n",
    "        if maxplot and int(ct)>maxplot:\n",
    "            continue\n",
    "        fig, ax = plt.subplots()\n",
    "        if ct == 'Unassigned':\n",
    "            continue\n",
    "\n",
    "        idx=(ctlist!=ct)\n",
    "        ax.scatter(\n",
    "            embedding[idx, plotdimx],\n",
    "            embedding[idx, plotdimy],\n",
    "            color=colortest[1],label='others',s=1,alpha=0.5\n",
    "            )\n",
    "\n",
    "        idx=(ctlist==ct)\n",
    "        ax.scatter(\n",
    "            embedding[idx, plotdimx],\n",
    "            embedding[idx, plotdimy],\n",
    "            color=colortest[0],label=ct,s=3,alpha=0.5\n",
    "            )\n",
    "\n",
    "        plt.gca().set_aspect('equal', 'datalim')\n",
    "        fig.set_figheight(10)\n",
    "        fig.set_figwidth(10)\n",
    "        ax.legend()\n",
    "#         plt.title(plotname+' embedding', fontsize=24)\n",
    "        plt.gcf().savefig(os.path.join(savepath,savename+'_'+str(ct)+savenameAdd+'.jpg'))\n",
    "#         plt.show()\n",
    "#         nplot+=1\n",
    "        \n",
    "    \n",
    "#         fig.clf()\n",
    "        plt.close('all')\n",
    "        gc.collect()"
   ]
  },
  {
   "cell_type": "code",
   "execution_count": 17,
   "metadata": {},
   "outputs": [],
   "source": [
    "with open(os.path.join(datadir,'processed','train_cnnvae_names'), 'rb') as input:\n",
    "    allImgNames=pickle.load(input)\n",
    "    \n",
    "n_neighbors=10\n",
    "min_dist=0.25\n",
    "\n",
    "savenameAdd='_nn'+str(n_neighbors)+'mdist0'+str(int(min_dist*100))+'epoch'+str(ep)\n",
    "\n",
    "plottype='umap'\n",
    "sampledir=plotsavepath\n",
    "savedir=os.path.join(sampledir,'embedding_'+plottype)\n",
    "clustersavedir=os.path.join(sampledir,'cluster')\n",
    "if not os.path.exists(sampledir):\n",
    "    os.mkdir(sampledir)\n",
    "if not os.path.exists(savedir):\n",
    "    os.mkdir(savedir)\n",
    "if not os.path.exists(clustersavedir):\n",
    "    os.mkdir(clustersavedir)\n",
    "    \n",
    "#plot by disease progression\n",
    "br1003aSpecs=pd.read_excel('/media/xinyi/dcis2idc1/data/BR1003a specs.xlsx',header=10)\n",
    "br301Specs=pd.read_excel('/media/xinyi/dcis2idc1/data/BR301 specs.xlsx',header=10)\n",
    "br8018aSpecs=pd.read_excel('/media/xinyi/dcis2idc1/data/BR8018a specs.xlsx',header=10)\n",
    "br1003aSpecs.index=br1003aSpecs.loc[:,'Position']\n",
    "br301Specs.index=br301Specs.loc[:,'Position']\n",
    "br8018aSpecs.index=br8018aSpecs.loc[:,'Position']\n",
    "\n",
    "progList=np.copy(allImgNames)\n",
    "for s in np.unique(allImgNames):\n",
    "    ssplit=s.split('_')\n",
    "    if 'br1003a'==ssplit[0]:\n",
    "        prog_s=br1003aSpecs.loc[(ssplit[-1],'Pathology diagnosis')]\n",
    "    elif 'br301'==ssplit[0]:\n",
    "        prog_s=br301Specs.loc[(ssplit[-1],'Pathology diagnosis')]\n",
    "    elif 'br8018a'==ssplit[0]:\n",
    "        prog_s=br8018aSpecs.loc[(ssplit[-1],'Pathology diagnosis')]\n",
    "    progList[allImgNames==s]=prog_s\n",
    "    \n"
   ]
  },
  {
   "cell_type": "code",
   "execution_count": 18,
   "metadata": {},
   "outputs": [],
   "source": [
    "plotepoch=str(ep)\n",
    "def clusterMinibatchKmean_single(inArray,ncluster,n_pcs,batchsize=400):\n",
    "    n_pcs=np.min([inArray.shape[0]-1,inArray.shape[1]-1,n_pcs])\n",
    "    batchsize=int(np.min([(inArray.shape[0]-1)/3,(inArray.shape[1]-1)/3,batchsize]))\n",
    "    \n",
    "    kmeansestimator= MiniBatchKMeans(n_clusters=ncluster,random_state=seed,batch_size=batchsize).fit(inArray[:,:n_pcs])\n",
    "    return kmeansestimator\n",
    "\n",
    "def clusterMinibatchKmean_allsample(savedir,clustersavedir,inArray,nclusterL,n_pcs,sobj_coord_np,samplenameList,savenameAdd='',plotOnly=False,plotUpdate=True,clusterOnly=False,embeddingSub=None):\n",
    "    if not plotOnly:\n",
    "        pca=PCA(copy=True) \n",
    "        pca=pca.fit(inArray)\n",
    "        inArray=pca.transform(inArray)\n",
    "        savenamepca='pca_epoch'+str(plotepoch)+savenameAdd\n",
    "        with open(os.path.join(clustersavedir,savenamepca), 'wb') as output:\n",
    "            pickle.dump(pca, output, pickle.HIGHEST_PROTOCOL)\n",
    "    \n",
    "    inertiaList=np.zeros(len(nclusterL))\n",
    "    for nclusterIdx in range(len(nclusterL)):\n",
    "        ncluster=nclusterL[nclusterIdx]\n",
    "        gc.collect()\n",
    "        print(ncluster)\n",
    "        savenamecluster='minibatchkmean_ncluster'+str(ncluster)+'n_pcs'+str(n_pcs)+'epoch'+str(plotepoch)+savenameAdd\n",
    "        if plotOnly and os.path.exists(os.path.join(clustersavedir,savenamecluster)):\n",
    "            with open(os.path.join(clustersavedir,savenamecluster), 'rb') as output:\n",
    "                clusterRes=pickle.load(output)\n",
    "        else:\n",
    "            kmeansestimator=clusterMinibatchKmean_single(inArray,ncluster,n_pcs)\n",
    "            clusterRes=kmeansestimator.labels_\n",
    "            savenamecluster='minibatchkmean_ncluster'+str(ncluster)+'n_pcs'+str(n_pcs)+'epoch'+str(plotepoch)+savenameAdd\n",
    "            with open(os.path.join(clustersavedir,savenamecluster), 'wb') as output:\n",
    "                pickle.dump(kmeansestimator.labels_, output, pickle.HIGHEST_PROTOCOL)\n",
    "            with open(os.path.join(clustersavedir,savenamecluster+'_estimator'), 'wb') as output:\n",
    "                pickle.dump(kmeansestimator, output, pickle.HIGHEST_PROTOCOL)\n",
    "            if embeddingSub is None:\n",
    "                plotembeddingbyCT(clusterRes,'minibatchkmean',[],embedding,savedir,plottype+' of all samples',savenameAdd=savenamecluster)\n",
    "                plotembeddingbyCT_contrast(clusterRes,'minibatchkmean',[],embedding,os.path.join(savedir,'contrast'),plottype+' of all samples',savenameAdd=savenamecluster,maxplot=50)\n",
    "            else:\n",
    "                plotembeddingbyCT(clusterRes,'minibatchkmean',[],embeddingSub,savedir,plottype+' of all samples',savenameAdd=savenamecluster)\n",
    "                plotembeddingbyCT_contrast(clusterRes,'minibatchkmean',[],embeddingSub,os.path.join(savedir,'contrast'),plottype+' of all samples',savenameAdd=savenamecluster,maxplot=50)\n",
    "\n",
    "        \n",
    "        if not plotOnly:\n",
    "            inertiaList[nclusterIdx]=kmeansestimator.inertia_\n",
    "            \n",
    "    if not plotOnly:\n",
    "        plt.plot(nclusterL, inertiaList, 'bx-')\n",
    "        plt.xlabel('Values of K')\n",
    "        plt.ylabel('Inertia')\n",
    "        plt.savefig(os.path.join(savedir,'minibatchkmean'+savenamecluster+'_elbow.jpg'))\n",
    "        plt.close()\n",
    "         "
   ]
  },
  {
   "cell_type": "code",
   "execution_count": 19,
   "metadata": {},
   "outputs": [],
   "source": [
    "progNames,progCounts=np.unique(progList,return_counts=True)\n",
    "progSampleRate={}\n",
    "for p in range(progNames.size):\n",
    "    progSampleRate[progNames[p]]=np.min(progCounts)/progCounts[p]"
   ]
  },
  {
   "cell_type": "code",
   "execution_count": 30,
   "metadata": {
    "scrolled": true
   },
   "outputs": [
    {
     "name": "stdout",
     "output_type": "stream",
     "text": [
      "8\n"
     ]
    },
    {
     "data": {
      "text/plain": [
       "0"
      ]
     },
     "execution_count": 30,
     "metadata": {},
     "output_type": "execute_result"
    }
   ],
   "source": [
    "np.random.seed(6)\n",
    "# plotPCT=4500\n",
    "plottingIdx_i=np.array([])\n",
    "n_pcs=50\n",
    "uniqueImgNames,imgNameIdx=np.unique(allImgNames,return_index=True)\n",
    "for i in range(1):\n",
    "    for sidx in range(uniqueImgNames.size):\n",
    "        s=uniqueImgNames[sidx]\n",
    "        p=progList[imgNameIdx[sidx]]\n",
    "        print(s+' '+p)\n",
    "        nsamples=int(np.sum(allImgNames==s)*progSampleRate[p])\n",
    "        plottingIdx_i=np.concatenate((plottingIdx_i,\n",
    "                                    np.random.choice(np.arange(allImgNames.shape[0])[allImgNames==s],nsamples,replace=False)))\n",
    "    \n",
    "    np.random.seed(6)\n",
    "    n_neighbors=10\n",
    "    min_dist=0.25\n",
    "    reducer = umap.UMAP(n_neighbors=n_neighbors,min_dist=min_dist,random_state=seed).fit(latent[plottingIdx_i.astype(int)])\n",
    "    savenameAdd='_nn'+str(n_neighbors)+'mdist0'+str(int(min_dist*100))+'epoch'+str(ep)\n",
    "\n",
    "    with open(os.path.join(modelsavepath,'umap_plottingIdx_progBalanced_'+str(i)+savenameAdd), 'wb') as output:\n",
    "        pickle.dump(reducer, output, pickle.HIGHEST_PROTOCOL)\n",
    "        \n",
    "    embedding=reducer.embedding_    \n",
    "    clusterMinibatchKmean_allsample(savedir,clustersavedir,latent[plottingIdx_i.astype(int)],[8],n_pcs,None,allImgNames[plottingIdx_i.astype(int)],'_plottingIdx_progBalanced_'+str(i))\n",
    "    gc.collect()"
   ]
  },
  {
   "cell_type": "code",
   "execution_count": 43,
   "metadata": {},
   "outputs": [],
   "source": [
    "def plotCTcomp_hist(labels,ctlist,savepath,savenamecluster,byCT,addname=''):\n",
    "    res=np.zeros((np.unique(labels).size,np.unique(ctlist).size))\n",
    "    for li in range(res.shape[0]):\n",
    "        l=np.unique(labels)[li]\n",
    "        nl=np.sum(labels==l)\n",
    "        ctlist_l=ctlist[labels==l]\n",
    "        for ci in range(res.shape[1]):\n",
    "            c=np.unique(ctlist)[ci]\n",
    "            res[li,ci]=np.sum(ctlist_l==c)\n",
    "#             res[li,ci]=np.sum(ctlist_l==c)/nl\n",
    "    if not byCT:\n",
    "        addname+=''\n",
    "        for li in range(res.shape[0]):\n",
    "            l=np.unique(labels)[li]\n",
    "            nl=np.sum(labels==l)\n",
    "            res[li]=res[li]/nl\n",
    "    else:\n",
    "        addname+='_normbyCT'\n",
    "        for ci in range(res.shape[1]):\n",
    "            c=np.unique(ctlist)[ci]\n",
    "            nc=np.sum(ctlist==c)\n",
    "            res[:,ci]=res[:,ci]/nc\n",
    "    \n",
    "    fig, ax = plt.subplots(nrows=res.shape[0], ncols=1,figsize=(10, 10),sharex=True,sharey=True)\n",
    "    for r in range(res.shape[0]):\n",
    "        ax[r].bar(np.arange(res.shape[1]),res[r])\n",
    "        ax[r].set_xticks(np.arange(np.unique(ctlist).size))\n",
    "        ax[r].set_xticklabels(np.unique(ctlist))\n",
    "        ax[r].set_ylim(0,1)\n",
    "        ax[r].set_ylabel(np.unique(labels)[r])\n",
    "        \n",
    "#         ax.set_yticks(np.arange(np.unique(labels).size))\n",
    "#         ax.set_yticklabels(np.unique(labels))\n",
    "#         ax.set_xticks(np.arange(np.unique(ctlist).size))\n",
    "#         ax.set_xticklabels(np.unique(ctlist))\n",
    "#         plt.setp(ax.get_xticklabels(), rotation=45, ha=\"right\",rotation_mode=\"anchor\")\n",
    "    fig.tight_layout()\n",
    "    plt.savefig(os.path.join(savepath,savenamecluster+addname+'.jpg'))\n",
    "    plt.close()"
   ]
  },
  {
   "cell_type": "code",
   "execution_count": 38,
   "metadata": {},
   "outputs": [],
   "source": [
    "plotsavenameAdd='_plottingIdx_progBalanced_'+str(i)"
   ]
  },
  {
   "cell_type": "code",
   "execution_count": 41,
   "metadata": {},
   "outputs": [],
   "source": [
    "import util.plot_new"
   ]
  },
  {
   "cell_type": "code",
   "execution_count": null,
   "metadata": {},
   "outputs": [],
   "source": [
    "progList_comb=np.copy(progList)\n",
    "for p in np.unique(progList):\n",
    "    if p=='Ductal carcinoma in situ':\n",
    "        progList_comb[progList==p]='DCIS and breast tissue'\n",
    "        progList[progList==p]='DCIS'\n",
    "    elif p=='Ductal carcinoma in situ and breast tissue':\n",
    "        progList_comb[progList==p]='DCIS and breast tissue'\n",
    "        progList[progList==p]='DCIS and breast tissue'\n",
    "    elif p=='Ductal carcinoma in situ with early infiltratio':\n",
    "        progList_comb[progList==p]='DCIS with early infiltration'\n",
    "        progList[progList==p]='DCIS with early infiltration'\n",
    "    elif p=='Micropapillary type ductal carcinoma in situ wi':\n",
    "        progList_comb[progList==p]='DCIS with early infiltration'\n",
    "        progList[progList==p]='Micropapillary DCIS with early infiltration'\n",
    "    elif p=='Atypical hyperlasia':\n",
    "        progList_comb[progList==p]='Hyperplasia'"
   ]
  },
  {
   "cell_type": "code",
   "execution_count": 46,
   "metadata": {},
   "outputs": [],
   "source": [
    "ctorder=np.array(['Breast tissue','Cancer adjacent normal breast tissue','Invasive ductal carcinoma (breast tissue)','Hyperplasia','Atypical hyperplasia','DCIS and breast tissue','DCIS','DCIS with early infiltration', 'Micropapillary DCIS with early infiltration','Invasive ductal carcinoma and breast tissue','Invasive ductal carcinoma'])\n",
    "nclusterL=[8]\n",
    "for ncluster in nclusterL:\n",
    "    savenamecluster='minibatchkmean_ncluster'+str(ncluster)+'n_pcs'+str(n_pcs)+'epoch'+str(plotepoch)+plotsavenameAdd\n",
    "    with open(os.path.join(clustersavedir,savenamecluster), 'rb') as output:\n",
    "        clusterRes=pickle.load(output)\n",
    "    clusterplotsavepath=os.path.join(clustersavedir,savenamecluster+'_plots')\n",
    "    if not os.path.exists(clusterplotsavepath):\n",
    "        os.mkdir(clusterplotsavepath)\n",
    "    util.plot_new.plotCTcomp(clusterRes,progList[plottingIdx_i.astype(int)],clusterplotsavepath,'pathologyHeatmap_rename',False,ctorder=ctorder,vmin=0)\n",
    "    util.plot_new.plotCTcomp(clusterRes,progList[plottingIdx_i.astype(int)],clusterplotsavepath,'pathologyHeatmap_rename',True,ctorder=ctorder,vmin=0)"
   ]
  },
  {
   "cell_type": "code",
   "execution_count": 47,
   "metadata": {},
   "outputs": [],
   "source": [
    "neworder=[3,2,6,0,4,7,5,1]\n",
    "clusterRes_reordered=np.zeros_like(clusterRes)\n",
    "for c in range(ncluster):\n",
    "    cold=neworder[c]\n",
    "    clusterRes_reordered[clusterRes==cold]=c\n"
   ]
  },
  {
   "cell_type": "code",
   "execution_count": 49,
   "metadata": {},
   "outputs": [],
   "source": [
    "for ncluster in nclusterL:\n",
    "    savenamecluster='minibatchkmean_ncluster'+str(ncluster)+'n_pcs'+str(n_pcs)+'epoch'+str(plotepoch)+plotsavenameAdd\n",
    "    clusterplotsavepath=os.path.join(clustersavedir,savenamecluster+'_plots')\n",
    "    util.plot_new.plotCTcomp(clusterRes_reordered,progList[plottingIdx_i.astype(int)],clusterplotsavepath,'pathologyHeatmap_rename_reordered',False,ctorder=ctorder,vmin=0)\n",
    "    util.plot_new.plotCTcomp(clusterRes_reordered,progList[plottingIdx_i.astype(int)],clusterplotsavepath,'pathologyHeatmap_rename_reordered',True,ctorder=ctorder,vmin=0)"
   ]
  },
  {
   "cell_type": "code",
   "execution_count": 53,
   "metadata": {},
   "outputs": [],
   "source": [
    "refDir=os.path.join('/media/xinyi/dcis2idc1/plots/cnnvaeexp0','cluster')\n",
    "savenamecluster='minibatchkmean_ncluster'+str(ncluster)+'n_pcs'+str(n_pcs)+'epoch'+str(plotepoch)+'_plottingIdx_progBalanced_'+str(i)+'_reordered'\n",
    "with open(os.path.join(refDir,savenamecluster), 'rb') as output:\n",
    "    clusterRes_ref=pickle.load(output)"
   ]
  },
  {
   "cell_type": "code",
   "execution_count": 55,
   "metadata": {},
   "outputs": [],
   "source": [
    "util.plot_new.plotCTcomp(clusterRes_reordered,clusterRes_ref,clusterplotsavepath,'compareToOriginal',False,vmin=0)\n"
   ]
  },
  {
   "cell_type": "code",
   "execution_count": 58,
   "metadata": {},
   "outputs": [
    {
     "data": {
      "text/plain": [
       "array([ 946042,  268296, 1680734,  610892, 1732454,   41777,  820490,\n",
       "        145414, 1635248,  697208])"
      ]
     },
     "execution_count": 58,
     "metadata": {},
     "output_type": "execute_result"
    }
   ],
   "source": [
    "testIdx_i[:10]"
   ]
  }
 ],
 "metadata": {
  "kernelspec": {
   "display_name": "Python 3",
   "language": "python",
   "name": "python3"
  },
  "language_info": {
   "codemirror_mode": {
    "name": "ipython",
    "version": 3
   },
   "file_extension": ".py",
   "mimetype": "text/x-python",
   "name": "python",
   "nbconvert_exporter": "python",
   "pygments_lexer": "ipython3",
   "version": "3.8.10"
  }
 },
 "nbformat": 4,
 "nbformat_minor": 5
}
