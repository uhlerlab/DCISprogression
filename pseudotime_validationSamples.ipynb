{
 "cells": [
  {
   "cell_type": "code",
   "execution_count": 2,
   "metadata": {},
   "outputs": [],
   "source": [
    "import time\n",
    "import os\n",
    "\n",
    "import scanpy as sc\n",
    "import numpy as np\n",
    "import scipy.sparse as sp\n",
    "\n",
    "import torch\n",
    "from torch import optim\n",
    "from torch.utils.data import DataLoader\n",
    "\n",
    "import models.loadImg as loadImg\n",
    "import models.modelsCNN as modelsCNN\n",
    "import models.optimizer as optimizer\n",
    "\n",
    "import pickle\n",
    "import matplotlib.pyplot as plt\n",
    "import seaborn as sns\n",
    "import pandas as pd\n",
    "import gc\n",
    "from skimage import io\n",
    "import umap\n",
    "from sklearn.cluster import MiniBatchKMeans,AgglomerativeClustering\n",
    "from sklearn.decomposition import PCA\n",
    "\n",
    "import anndata as ad"
   ]
  },
  {
   "cell_type": "code",
   "execution_count": 3,
   "metadata": {},
   "outputs": [],
   "source": [
    "sc.settings.verbosity = 3\n",
    "\n",
    "radius=48\n",
    "datadir='/media/xinyi/dcis2idc/data'\n",
    "\n",
    "savenamesample='_valsamples'\n",
    "with open(os.path.join(datadir,'processed','latent311'+savenamesample), 'rb') as input:\n",
    "    latent=pickle.load(input)\n",
    "\n",
    "name='exp0'\n",
    "logsavepath='/media/xinyi/dcis2idc/log/cnnvae'+name\n",
    "modelsavepath='/media/xinyi/dcis2idc/models/cnnvae'+name\n",
    "plotsavepath='/media/xinyi/dcis2idc/plots/cnnvae'+name\n",
    "\n",
    "ep=311\n",
    "\n",
    "with open(os.path.join(datadir,'processed','train_cnnvae_names'+savenamesample), 'rb') as input:\n",
    "    allImgNames=pickle.load(input)\n",
    "#plot by disease progression\n",
    "br1003aSpecs=pd.read_excel('/media/xinyi/dcis2idc/data/BR1003a specs.xlsx',header=10)\n",
    "br301Specs=pd.read_excel('/media/xinyi/dcis2idc/data/BR301 specs.xlsx',header=10)\n",
    "br8018aSpecs=pd.read_excel('/media/xinyi/dcis2idc/data/BR8018a specs.xlsx',header=10)\n",
    "br1003aSpecs.index=br1003aSpecs.loc[:,'Position']\n",
    "br301Specs.index=br301Specs.loc[:,'Position']\n",
    "br8018aSpecs.index=br8018aSpecs.loc[:,'Position']\n",
    "\n",
    "progList=np.copy(allImgNames)\n",
    "for s in np.unique(allImgNames):\n",
    "    ssplit=s.split('_')\n",
    "    if 'br1003a'==ssplit[0]:\n",
    "        prog_s=br1003aSpecs.loc[(ssplit[-1],'Pathology diagnosis')]\n",
    "    elif 'br301'==ssplit[0]:\n",
    "        prog_s=br301Specs.loc[(ssplit[-1],'Pathology diagnosis')]\n",
    "    elif 'br8018a'==ssplit[0]:\n",
    "        prog_s=br8018aSpecs.loc[(ssplit[-1],'Pathology diagnosis')]\n",
    "    progList[allImgNames==s]=prog_s"
   ]
  },
  {
   "cell_type": "code",
   "execution_count": 4,
   "metadata": {},
   "outputs": [],
   "source": [
    "with open(os.path.join(plotsavepath,'cluster_reordered','minibatchkmean_ncluster'+str(8)+'n_pcs'+str(50)+'epoch'+str(ep)+'_plottingIdx_progBalanced_'+str(0)+'_reordered'+'_subcluster_all','pagaPos_reordered'), 'rb') as output:\n",
    "    trainPagaPos=pickle.load(output)"
   ]
  },
  {
   "cell_type": "code",
   "execution_count": 5,
   "metadata": {
    "scrolled": true
   },
   "outputs": [
    {
     "name": "stderr",
     "output_type": "stream",
     "text": [
      "<ipython-input-5-e7e19471ad75>:16: FutureWarning: X.dtype being converted to np.float32 from float64. In the next version of anndata (0.9) conversion will not be automatic. Pass dtype explicitly to avoid this warning. Pass `AnnData(X, dtype=X.dtype, ...)` to get the future behavour.\n",
      "  latent_adata=ad.AnnData(latent)\n"
     ]
    },
    {
     "name": "stdout",
     "output_type": "stream",
     "text": [
      "cluster0\n",
      "[0 1 2 3 4 5]\n",
      "cluster1\n",
      "[0 1 2 3 4 5]\n",
      "cluster2\n",
      "[0 1 2 3 4 5]\n",
      "cluster3\n",
      "[0 1 2 3]\n",
      "cluster4\n",
      "[0 1 2 3 4 5 6 7]\n",
      "cluster5\n",
      "[0 1 2 3]\n",
      "cluster6\n",
      "[0 1 2 3 4 5]\n",
      "cluster7\n",
      "[0 1 2 3 4 5]\n",
      "computing PCA\n",
      "    with n_comps=50\n",
      "    finished (0:03:15)\n",
      "computing neighbors\n",
      "    using 'X_pca' with n_pcs = 20\n",
      "    finished: added to `.uns['neighbors']`\n",
      "    `.obsp['distances']`, distances for each pair of neighbors\n",
      "    `.obsp['connectivities']`, weighted adjacency matrix (0:01:34)\n",
      "running PAGA\n",
      "    finished: added\n",
      "    'paga/connectivities', connectivities adjacency (adata.uns)\n",
      "    'paga/connectivities_tree', connectivities subtree (adata.uns) (0:02:05)\n"
     ]
    }
   ],
   "source": [
    "neworder=[1, 5, 3, 7, 2, 0, 4, 6]\n",
    "#use chosen subcluster number and save plots\n",
    "sc.settings.verbosity = 3\n",
    "# subcluster=8\n",
    "subclusterDict={0:[4],1:[6],2:[8],3:[6],4:[6],5:[6],6:[6],7:[4]}\n",
    "ncluster=8\n",
    "\n",
    "plotepoch=311\n",
    "clustersavedir=os.path.join(plotsavepath,'cluster'+savenamesample+'_reordered')\n",
    "clusterplotdir=os.path.join(clustersavedir,'plots')\n",
    "n_pcs=50\n",
    "savenamecluster='minibatchkmean_ncluster'+str(ncluster)+'n_pcs'+str(n_pcs)+'epoch'+str(plotepoch)\n",
    "with open(os.path.join(clustersavedir,savenamecluster+'_all'), 'rb') as output:\n",
    "    clusterRes=pickle.load(output)\n",
    "\n",
    "latent_adata=ad.AnnData(latent)\n",
    "kmeans_sub=(np.zeros(clusterRes.size)-1).astype(str)\n",
    "for c in np.unique(clusterRes):\n",
    "    print('cluster'+str(c))\n",
    "    \n",
    "    subclustersavedir=os.path.join(clustersavedir,savenamecluster+'_plottingIdx_progBalanced_'+str(0)+'_subcluster'+str(neworder[c]))\n",
    "    with open(os.path.join(subclustersavedir,'minibatchkmean_ncluster'+str(subclusterDict[neworder[c]][0])+'n_pcs'+str(n_pcs)+'epoch'+str(plotepoch)+'_all'), 'rb') as output:\n",
    "        subclusterRes=pickle.load(output)\n",
    "    print(np.unique(subclusterRes))\n",
    "    kmeans_sub[clusterRes==c]=np.char.add(np.repeat(str(c)+'-',subclusterRes.size),subclusterRes.astype(str))\n",
    "        \n",
    "latent_adata.obs['kmeans_sub']=kmeans_sub\n",
    "latent_adata.obs['kmeans_sub']=latent_adata.obs['kmeans_sub'].astype('category')\n",
    "latent_adata.obs['kmeans']=clusterRes.astype(str)\n",
    "latent_adata.obs['kmeans']=latent_adata.obs['kmeans'].astype('category')\n",
    "\n",
    "\n",
    "subclusterplotdir=os.path.join(clustersavedir,savenamecluster+'_subcluster_all')\n",
    "if not os.path.exists(subclusterplotdir):\n",
    "    os.mkdir(subclusterplotdir)\n",
    "\n",
    "\n",
    "sc.settings.figdir=os.path.join(subclusterplotdir)\n",
    "\n",
    "np.random.seed(3)\n",
    "sc.tl.pca(latent_adata, svd_solver='arpack')\n",
    "sc.pp.neighbors(latent_adata, n_neighbors=4, n_pcs=20)\n",
    "sc.tl.paga(latent_adata, groups='kmeans_sub')\n",
    "plt.rcParams[\"figure.figsize\"] = (10, 10)\n",
    "plt.rcParams['figure.dpi'] = 1200\n",
    "# # # sc.pl.paga(latent_adata, color=['kmeans'],save='graph.png') #default threshold is 0.01\n",
    "# sc.pl.paga(latent_adata, color=['kmeans'],pos=trainPagaPos,save='graph_thresh001.png',threshold=0.01,show=False,random_state=6)\n",
    "# sc.tl.umap(latent_adata, init_pos='paga')\n",
    "# sc.pl.umap(latent_adata,color=['kmeans'],legend_loc='on data',save='graph_umap.png',show=False)\n",
    "\n"
   ]
  },
  {
   "cell_type": "markdown",
   "metadata": {},
   "source": [
    "## color by proteins - background subtracted"
   ]
  },
  {
   "cell_type": "code",
   "execution_count": 6,
   "metadata": {},
   "outputs": [],
   "source": [
    "with open(os.path.join(datadir,'processed','train_cnnvae_cellLabels'+savenamesample), 'rb') as output:\n",
    "    cellIDlist=pickle.load(output)"
   ]
  },
  {
   "cell_type": "code",
   "execution_count": 26,
   "metadata": {
    "scrolled": true
   },
   "outputs": [
    {
     "name": "stdout",
     "output_type": "stream",
     "text": [
      "br1003a_2_cytokeratin_555_ki67_647_hoechst_A1\n",
      "cytokeratin\n",
      "2234.0\n",
      "ki67\n",
      "840.0\n",
      "br1003a_2_cytokeratin_555_ki67_647_hoechst_A10\n",
      "cytokeratin\n",
      "2777.0\n",
      "ki67\n",
      "902.0\n",
      "br1003a_2_cytokeratin_555_ki67_647_hoechst_A2\n",
      "cytokeratin\n",
      "2245.0\n",
      "ki67\n",
      "805.0\n",
      "br1003a_2_cytokeratin_555_ki67_647_hoechst_A3\n",
      "cytokeratin\n",
      "2182.0\n",
      "ki67\n",
      "915.0\n",
      "br1003a_2_cytokeratin_555_ki67_647_hoechst_A5\n",
      "cytokeratin\n",
      "2373.0\n",
      "ki67\n",
      "949.0\n",
      "br1003a_2_cytokeratin_555_ki67_647_hoechst_A7\n",
      "cytokeratin\n",
      "2419.0\n",
      "ki67\n",
      "913.0\n",
      "br1003a_2_cytokeratin_555_ki67_647_hoechst_A8\n",
      "cytokeratin\n",
      "2419.0\n",
      "ki67\n",
      "923.0\n",
      "br1003a_2_cytokeratin_555_ki67_647_hoechst_B1\n",
      "cytokeratin\n",
      "2032.0\n",
      "ki67\n",
      "1444.0\n",
      "br1003a_2_cytokeratin_555_ki67_647_hoechst_B10\n",
      "cytokeratin\n",
      "1312.0\n",
      "ki67\n",
      "1019.0\n",
      "br1003a_2_cytokeratin_555_ki67_647_hoechst_B2\n",
      "cytokeratin\n",
      "2098.0\n",
      "ki67\n",
      "1510.0\n",
      "br1003a_2_cytokeratin_555_ki67_647_hoechst_B3\n",
      "cytokeratin\n",
      "2194.0\n",
      "ki67\n",
      "1523.0\n",
      "br1003a_2_cytokeratin_555_ki67_647_hoechst_B4\n",
      "cytokeratin\n",
      "1513.0\n",
      "ki67\n",
      "906.0\n",
      "br1003a_2_cytokeratin_555_ki67_647_hoechst_B5\n",
      "cytokeratin\n",
      "742.0\n",
      "ki67\n",
      "621.0\n",
      "br1003a_2_cytokeratin_555_ki67_647_hoechst_B6\n",
      "cytokeratin\n",
      "1540.0\n",
      "ki67\n",
      "979.0\n",
      "br1003a_2_cytokeratin_555_ki67_647_hoechst_B7\n",
      "cytokeratin\n",
      "814.0\n",
      "ki67\n",
      "612.0\n",
      "br1003a_2_cytokeratin_555_ki67_647_hoechst_B8\n",
      "cytokeratin\n",
      "1678.0\n",
      "ki67\n",
      "911.0\n",
      "br1003a_2_cytokeratin_555_ki67_647_hoechst_B9\n",
      "cytokeratin\n",
      "1681.0\n",
      "ki67\n",
      "1017.0\n",
      "br1003a_2_cytokeratin_555_ki67_647_hoechst_C1\n",
      "cytokeratin\n",
      "1506.0\n",
      "ki67\n",
      "1298.0\n",
      "br1003a_2_cytokeratin_555_ki67_647_hoechst_C10\n",
      "cytokeratin\n",
      "1701.0\n",
      "ki67\n",
      "1727.0\n",
      "br1003a_2_cytokeratin_555_ki67_647_hoechst_C2\n",
      "cytokeratin\n",
      "1483.0\n",
      "ki67\n",
      "1474.0\n",
      "br1003a_2_cytokeratin_555_ki67_647_hoechst_C3\n",
      "cytokeratin\n",
      "1492.0\n",
      "ki67\n",
      "1296.0\n",
      "br1003a_2_cytokeratin_555_ki67_647_hoechst_C4\n",
      "cytokeratin\n",
      "1618.0\n",
      "ki67\n",
      "1332.0\n",
      "br1003a_2_cytokeratin_555_ki67_647_hoechst_C5\n",
      "cytokeratin\n",
      "1607.0\n",
      "ki67\n",
      "1616.0\n",
      "br1003a_2_cytokeratin_555_ki67_647_hoechst_C6\n",
      "cytokeratin\n",
      "1751.0\n",
      "ki67\n",
      "1725.0\n",
      "br1003a_2_cytokeratin_555_ki67_647_hoechst_C7\n",
      "cytokeratin\n",
      "1823.0\n",
      "ki67\n",
      "1698.0\n",
      "br1003a_2_cytokeratin_555_ki67_647_hoechst_C8\n",
      "cytokeratin\n",
      "1615.0\n",
      "ki67\n",
      "1562.0\n",
      "br1003a_2_cytokeratin_555_ki67_647_hoechst_C9\n",
      "cytokeratin\n",
      "1769.0\n",
      "ki67\n",
      "1788.0\n",
      "br1003a_2_cytokeratin_555_ki67_647_hoechst_D1\n",
      "cytokeratin\n",
      "1293.0\n",
      "ki67\n",
      "1160.0\n",
      "br1003a_2_cytokeratin_555_ki67_647_hoechst_D10\n",
      "cytokeratin\n",
      "1524.0\n",
      "ki67\n",
      "1491.0\n",
      "br1003a_2_cytokeratin_555_ki67_647_hoechst_D2\n",
      "cytokeratin\n",
      "1344.0\n",
      "ki67\n",
      "1223.0\n",
      "br1003a_2_cytokeratin_555_ki67_647_hoechst_D3\n",
      "cytokeratin\n",
      "1379.0\n",
      "ki67\n",
      "1232.0\n",
      "br1003a_2_cytokeratin_555_ki67_647_hoechst_D4\n",
      "cytokeratin\n",
      "1336.0\n",
      "ki67\n",
      "1204.0\n",
      "br1003a_2_cytokeratin_555_ki67_647_hoechst_D5\n",
      "cytokeratin\n",
      "1343.0\n",
      "ki67\n",
      "1381.0\n",
      "br1003a_2_cytokeratin_555_ki67_647_hoechst_D6\n",
      "cytokeratin\n",
      "1421.0\n",
      "ki67\n",
      "1388.0\n",
      "br1003a_2_cytokeratin_555_ki67_647_hoechst_D7\n",
      "cytokeratin\n",
      "1456.0\n",
      "ki67\n",
      "1518.0\n",
      "br1003a_2_cytokeratin_555_ki67_647_hoechst_D8\n",
      "cytokeratin\n",
      "1482.0\n",
      "ki67\n",
      "1516.0\n",
      "br1003a_2_cytokeratin_555_ki67_647_hoechst_I1\n",
      "cytokeratin\n",
      "1404.0\n",
      "ki67\n",
      "1182.0\n",
      "br1003a_2_cytokeratin_555_ki67_647_hoechst_I10\n",
      "cytokeratin\n",
      "1443.0\n",
      "ki67\n",
      "1496.0\n",
      "br1003a_2_cytokeratin_555_ki67_647_hoechst_I2\n",
      "cytokeratin\n",
      "2501.0\n",
      "ki67\n",
      "1472.0\n",
      "br1003a_2_cytokeratin_555_ki67_647_hoechst_I3\n",
      "cytokeratin\n",
      "2875.0\n",
      "ki67\n",
      "1853.0\n",
      "br1003a_2_cytokeratin_555_ki67_647_hoechst_I4\n",
      "cytokeratin\n",
      "1386.0\n",
      "ki67\n",
      "1116.0\n",
      "br1003a_2_cytokeratin_555_ki67_647_hoechst_I5\n",
      "cytokeratin\n",
      "1400.0\n",
      "ki67\n",
      "1216.0\n",
      "br1003a_2_cytokeratin_555_ki67_647_hoechst_I7\n",
      "cytokeratin\n",
      "1710.0\n",
      "ki67\n",
      "1147.0\n",
      "br1003a_2_cytokeratin_555_ki67_647_hoechst_I8\n",
      "cytokeratin\n",
      "1034.0\n",
      "ki67\n",
      "851.0\n",
      "br1003a_2_cytokeratin_555_ki67_647_hoechst_I9\n",
      "cytokeratin\n",
      "1007.0\n",
      "ki67\n",
      "890.0\n",
      "br1003a_2_cytokeratin_555_ki67_647_hoechst_J1\n",
      "cytokeratin\n",
      "1363.0\n",
      "ki67\n",
      "1170.0\n",
      "br1003a_2_cytokeratin_555_ki67_647_hoechst_J2\n",
      "cytokeratin\n",
      "1330.0\n",
      "ki67\n",
      "1186.0\n",
      "br1003a_2_cytokeratin_555_ki67_647_hoechst_J3\n",
      "cytokeratin\n",
      "1407.0\n",
      "ki67\n",
      "1072.0\n",
      "br1003a_2_cytokeratin_555_ki67_647_hoechst_J4\n",
      "cytokeratin\n",
      "1409.0\n",
      "ki67\n",
      "1135.0\n",
      "br1003a_2_cytokeratin_555_ki67_647_hoechst_J6\n",
      "cytokeratin\n",
      "1508.0\n",
      "ki67\n",
      "1229.0\n",
      "br301_5_cytokeratin_555_ki67_647_hoechst_A1\n",
      "cytokeratin\n",
      "3031.0\n",
      "ki67\n",
      "1338.0\n",
      "br301_5_cytokeratin_555_ki67_647_hoechst_A2\n",
      "cytokeratin\n",
      "3189.0\n",
      "ki67\n",
      "1557.0\n",
      "br301_5_cytokeratin_555_ki67_647_hoechst_A3\n",
      "cytokeratin\n",
      "2378.0\n",
      "ki67\n",
      "1235.0\n",
      "br301_5_cytokeratin_555_ki67_647_hoechst_A4\n",
      "cytokeratin\n",
      "2392.0\n",
      "ki67\n",
      "740.0\n",
      "br301_5_cytokeratin_555_ki67_647_hoechst_A5\n",
      "cytokeratin\n",
      "1389.0\n",
      "ki67\n",
      "635.0\n",
      "br301_5_cytokeratin_555_ki67_647_hoechst_A6\n",
      "cytokeratin\n",
      "1594.0\n",
      "ki67\n",
      "964.0\n",
      "br301_5_cytokeratin_555_ki67_647_hoechst_B1\n",
      "cytokeratin\n",
      "1392.0\n",
      "ki67\n",
      "983.0\n",
      "br301_5_cytokeratin_555_ki67_647_hoechst_B2\n",
      "cytokeratin\n",
      "2535.0\n",
      "ki67\n",
      "1231.0\n",
      "br301_5_cytokeratin_555_ki67_647_hoechst_B3\n",
      "cytokeratin\n",
      "1481.0\n",
      "ki67\n",
      "1395.0\n",
      "br301_5_cytokeratin_555_ki67_647_hoechst_B4\n",
      "cytokeratin\n",
      "1604.0\n",
      "ki67\n",
      "1284.0\n",
      "br301_5_cytokeratin_555_ki67_647_hoechst_B5\n",
      "cytokeratin\n",
      "912.0\n",
      "ki67\n",
      "630.0\n",
      "br301_5_cytokeratin_555_ki67_647_hoechst_B6\n",
      "cytokeratin\n",
      "777.0\n",
      "ki67\n",
      "685.0\n",
      "br301_5_cytokeratin_555_ki67_647_hoechst_C1\n",
      "cytokeratin\n",
      "2382.0\n",
      "ki67\n",
      "1023.0\n",
      "br301_5_cytokeratin_555_ki67_647_hoechst_C2\n",
      "cytokeratin\n",
      "2887.0\n",
      "ki67\n",
      "981.0\n",
      "br301_5_cytokeratin_555_ki67_647_hoechst_C3\n",
      "cytokeratin\n",
      "2065.0\n",
      "ki67\n",
      "962.0\n",
      "br301_5_cytokeratin_555_ki67_647_hoechst_C4\n",
      "cytokeratin\n",
      "2382.0\n",
      "ki67\n",
      "1102.0\n",
      "br301_5_cytokeratin_555_ki67_647_hoechst_C5\n",
      "cytokeratin\n",
      "1767.0\n",
      "ki67\n",
      "798.0\n",
      "br301_5_cytokeratin_555_ki67_647_hoechst_C6\n",
      "cytokeratin\n",
      "1325.0\n",
      "ki67\n",
      "648.0\n",
      "br301_5_cytokeratin_555_ki67_647_hoechst_D1\n",
      "cytokeratin\n",
      "2621.0\n",
      "ki67\n",
      "984.0\n",
      "br301_5_cytokeratin_555_ki67_647_hoechst_D2\n",
      "cytokeratin\n",
      "2685.0\n",
      "ki67\n",
      "1042.0\n",
      "br301_5_cytokeratin_555_ki67_647_hoechst_D3\n",
      "cytokeratin\n",
      "3625.0\n",
      "ki67\n",
      "1220.0\n",
      "br301_5_cytokeratin_555_ki67_647_hoechst_D4\n",
      "cytokeratin\n",
      "2410.0\n",
      "ki67\n",
      "1414.0\n",
      "br301_5_cytokeratin_555_ki67_647_hoechst_D5\n",
      "cytokeratin\n",
      "2598.0\n",
      "ki67\n",
      "1192.0\n",
      "br301_5_cytokeratin_555_ki67_647_hoechst_D6\n",
      "cytokeratin\n",
      "2577.0\n",
      "ki67\n",
      "1139.0\n",
      "br301_5_cytokeratin_555_ki67_647_hoechst_E1\n",
      "cytokeratin\n",
      "4670.0\n",
      "ki67\n",
      "1032.0\n",
      "br301_5_cytokeratin_555_ki67_647_hoechst_E2\n",
      "cytokeratin\n",
      "3756.0\n",
      "ki67\n",
      "1017.0\n",
      "br301_5_cytokeratin_555_ki67_647_hoechst_E3\n",
      "cytokeratin\n",
      "3625.0\n",
      "ki67\n",
      "1011.0\n",
      "br301_5_cytokeratin_555_ki67_647_hoechst_E4\n",
      "cytokeratin\n",
      "3597.0\n",
      "ki67\n",
      "999.0\n",
      "br301_5_cytokeratin_555_ki67_647_hoechst_E5\n",
      "cytokeratin\n",
      "2702.0\n",
      "ki67\n",
      "1117.0\n",
      "br301_5_cytokeratin_555_ki67_647_hoechst_E6\n",
      "cytokeratin\n",
      "2842.0\n",
      "ki67\n",
      "1073.0\n",
      "br301_7_gh2ax_647_cytokeratin_555_hoechst_A1\n",
      "br301_7_gh2ax_647_cytokeratin_555_hoechst_A2\n",
      "br301_7_gh2ax_647_cytokeratin_555_hoechst_A3\n",
      "br301_7_gh2ax_647_cytokeratin_555_hoechst_A4\n",
      "br301_7_gh2ax_647_cytokeratin_555_hoechst_A5\n",
      "br301_7_gh2ax_647_cytokeratin_555_hoechst_A6\n",
      "br301_7_gh2ax_647_cytokeratin_555_hoechst_B1\n",
      "br301_7_gh2ax_647_cytokeratin_555_hoechst_B2\n",
      "br301_7_gh2ax_647_cytokeratin_555_hoechst_B3\n",
      "br301_7_gh2ax_647_cytokeratin_555_hoechst_B4\n",
      "br301_7_gh2ax_647_cytokeratin_555_hoechst_B5\n",
      "br301_7_gh2ax_647_cytokeratin_555_hoechst_B6\n",
      "br301_7_gh2ax_647_cytokeratin_555_hoechst_C1\n",
      "br301_7_gh2ax_647_cytokeratin_555_hoechst_C2\n",
      "br301_7_gh2ax_647_cytokeratin_555_hoechst_C3\n",
      "br301_7_gh2ax_647_cytokeratin_555_hoechst_C4\n",
      "br301_7_gh2ax_647_cytokeratin_555_hoechst_C5\n",
      "br301_7_gh2ax_647_cytokeratin_555_hoechst_C6\n",
      "br301_7_gh2ax_647_cytokeratin_555_hoechst_D1\n",
      "br301_7_gh2ax_647_cytokeratin_555_hoechst_D2\n",
      "br301_7_gh2ax_647_cytokeratin_555_hoechst_D3\n",
      "br301_7_gh2ax_647_cytokeratin_555_hoechst_D4\n",
      "br301_7_gh2ax_647_cytokeratin_555_hoechst_D5\n",
      "br301_7_gh2ax_647_cytokeratin_555_hoechst_E1\n",
      "br301_7_gh2ax_647_cytokeratin_555_hoechst_E2\n",
      "br301_7_gh2ax_647_cytokeratin_555_hoechst_E3\n",
      "br301_7_gh2ax_647_cytokeratin_555_hoechst_E4\n",
      "br301_7_gh2ax_647_cytokeratin_555_hoechst_E5\n",
      "br301_7_gh2ax_647_cytokeratin_555_hoechst_E6\n",
      "br8018a_2_cytokeratin_555_ki67_647_hoechst_A1\n",
      "cytokeratin\n",
      "1291.0\n",
      "ki67\n",
      "964.0\n",
      "br8018a_2_cytokeratin_555_ki67_647_hoechst_A10\n",
      "cytokeratin\n",
      "1187.0\n",
      "ki67\n",
      "1246.0\n",
      "br8018a_2_cytokeratin_555_ki67_647_hoechst_A2\n",
      "cytokeratin\n",
      "1124.0\n",
      "ki67\n",
      "1000.0\n",
      "br8018a_2_cytokeratin_555_ki67_647_hoechst_A3\n",
      "cytokeratin\n",
      "1157.0\n",
      "ki67\n",
      "1012.0\n",
      "br8018a_2_cytokeratin_555_ki67_647_hoechst_A4\n",
      "cytokeratin\n",
      "1227.0\n",
      "ki67\n",
      "1121.0\n",
      "br8018a_2_cytokeratin_555_ki67_647_hoechst_A5\n",
      "cytokeratin\n",
      "1256.0\n",
      "ki67\n",
      "1130.0\n",
      "br8018a_2_cytokeratin_555_ki67_647_hoechst_A6\n",
      "cytokeratin\n",
      "1257.0\n",
      "ki67\n",
      "1176.0\n",
      "br8018a_2_cytokeratin_555_ki67_647_hoechst_A7\n",
      "cytokeratin\n",
      "1289.0\n",
      "ki67\n",
      "1205.0\n",
      "br8018a_2_cytokeratin_555_ki67_647_hoechst_A8\n",
      "cytokeratin\n",
      "1184.0\n",
      "ki67\n",
      "1134.0\n",
      "br8018a_2_cytokeratin_555_ki67_647_hoechst_A9\n",
      "cytokeratin\n",
      "1199.0\n",
      "ki67\n",
      "1362.0\n",
      "br8018a_2_cytokeratin_555_ki67_647_hoechst_B1\n",
      "cytokeratin\n",
      "1678.0\n",
      "ki67\n",
      "1264.0\n"
     ]
    },
    {
     "name": "stdout",
     "output_type": "stream",
     "text": [
      "br8018a_2_cytokeratin_555_ki67_647_hoechst_B10\n",
      "cytokeratin\n",
      "1995.0\n",
      "ki67\n",
      "1841.0\n",
      "br8018a_2_cytokeratin_555_ki67_647_hoechst_B2\n",
      "cytokeratin\n",
      "1632.0\n",
      "ki67\n",
      "1193.0\n",
      "br8018a_2_cytokeratin_555_ki67_647_hoechst_B3\n",
      "cytokeratin\n",
      "1595.0\n",
      "ki67\n",
      "1388.0\n",
      "br8018a_2_cytokeratin_555_ki67_647_hoechst_B5\n",
      "cytokeratin\n",
      "1807.0\n",
      "ki67\n",
      "1494.0\n",
      "br8018a_2_cytokeratin_555_ki67_647_hoechst_B6\n",
      "cytokeratin\n",
      "1761.0\n",
      "ki67\n",
      "1648.0\n",
      "br8018a_2_cytokeratin_555_ki67_647_hoechst_B7\n",
      "cytokeratin\n",
      "2073.0\n",
      "ki67\n",
      "1650.0\n",
      "br8018a_2_cytokeratin_555_ki67_647_hoechst_B8\n",
      "cytokeratin\n",
      "2046.0\n",
      "ki67\n",
      "2067.0\n",
      "br8018a_2_cytokeratin_555_ki67_647_hoechst_B9\n",
      "cytokeratin\n",
      "1907.0\n",
      "ki67\n",
      "1840.0\n",
      "br8018a_2_cytokeratin_555_ki67_647_hoechst_C1\n",
      "cytokeratin\n",
      "1468.0\n",
      "ki67\n",
      "772.0\n",
      "br8018a_2_cytokeratin_555_ki67_647_hoechst_C10\n",
      "cytokeratin\n",
      "1895.0\n",
      "ki67\n",
      "1020.0\n",
      "br8018a_2_cytokeratin_555_ki67_647_hoechst_C2\n",
      "cytokeratin\n",
      "1444.0\n",
      "ki67\n",
      "773.0\n",
      "br8018a_2_cytokeratin_555_ki67_647_hoechst_C3\n",
      "cytokeratin\n",
      "1407.0\n",
      "ki67\n",
      "743.0\n",
      "br8018a_2_cytokeratin_555_ki67_647_hoechst_C4\n",
      "cytokeratin\n",
      "1552.0\n",
      "ki67\n",
      "864.0\n",
      "br8018a_2_cytokeratin_555_ki67_647_hoechst_C5\n",
      "cytokeratin\n",
      "1488.0\n",
      "ki67\n",
      "877.0\n",
      "br8018a_2_cytokeratin_555_ki67_647_hoechst_C6\n",
      "cytokeratin\n",
      "1618.0\n",
      "ki67\n",
      "949.0\n",
      "br8018a_2_cytokeratin_555_ki67_647_hoechst_C7\n",
      "cytokeratin\n",
      "1595.0\n",
      "ki67\n",
      "1063.0\n",
      "br8018a_2_cytokeratin_555_ki67_647_hoechst_C8\n",
      "cytokeratin\n",
      "1731.0\n",
      "ki67\n",
      "1102.0\n",
      "br8018a_2_cytokeratin_555_ki67_647_hoechst_C9\n",
      "cytokeratin\n",
      "1722.0\n",
      "ki67\n",
      "1110.0\n",
      "br8018a_2_cytokeratin_555_ki67_647_hoechst_D1\n",
      "cytokeratin\n",
      "1700.0\n",
      "ki67\n",
      "1369.0\n",
      "br8018a_2_cytokeratin_555_ki67_647_hoechst_D10\n",
      "cytokeratin\n",
      "736.0\n",
      "ki67\n",
      "727.0\n",
      "br8018a_2_cytokeratin_555_ki67_647_hoechst_D3\n",
      "cytokeratin\n",
      "1703.0\n",
      "ki67\n",
      "1411.0\n",
      "br8018a_2_cytokeratin_555_ki67_647_hoechst_D4\n",
      "cytokeratin\n",
      "1151.0\n",
      "ki67\n",
      "1525.0\n",
      "br8018a_2_cytokeratin_555_ki67_647_hoechst_D5\n",
      "cytokeratin\n",
      "1091.0\n",
      "ki67\n",
      "1562.0\n",
      "br8018a_2_cytokeratin_555_ki67_647_hoechst_D6\n",
      "cytokeratin\n",
      "775.0\n",
      "ki67\n",
      "742.0\n",
      "br8018a_2_cytokeratin_555_ki67_647_hoechst_D7\n",
      "cytokeratin\n",
      "835.0\n",
      "ki67\n",
      "742.0\n",
      "br8018a_2_cytokeratin_555_ki67_647_hoechst_E1\n",
      "cytokeratin\n",
      "1130.0\n",
      "ki67\n",
      "608.0\n",
      "br8018a_2_cytokeratin_555_ki67_647_hoechst_E10\n",
      "cytokeratin\n",
      "1156.0\n",
      "ki67\n",
      "926.0\n",
      "br8018a_2_cytokeratin_555_ki67_647_hoechst_E2\n",
      "cytokeratin\n",
      "1120.0\n",
      "ki67\n",
      "271.0\n",
      "br8018a_2_cytokeratin_555_ki67_647_hoechst_E3\n",
      "cytokeratin\n",
      "1181.0\n",
      "ki67\n",
      "770.0\n",
      "br8018a_2_cytokeratin_555_ki67_647_hoechst_E4\n",
      "cytokeratin\n",
      "1179.0\n",
      "ki67\n",
      "767.0\n",
      "br8018a_2_cytokeratin_555_ki67_647_hoechst_E5\n",
      "cytokeratin\n",
      "732.0\n",
      "ki67\n",
      "574.0\n",
      "br8018a_2_cytokeratin_555_ki67_647_hoechst_E6\n",
      "cytokeratin\n",
      "939.0\n",
      "ki67\n",
      "785.0\n",
      "br8018a_2_cytokeratin_555_ki67_647_hoechst_E7\n",
      "cytokeratin\n",
      "932.0\n",
      "ki67\n",
      "798.0\n",
      "br8018a_2_cytokeratin_555_ki67_647_hoechst_E8\n",
      "cytokeratin\n",
      "830.0\n",
      "ki67\n",
      "664.0\n",
      "br8018a_2_cytokeratin_555_ki67_647_hoechst_E9\n",
      "cytokeratin\n",
      "645.0\n",
      "ki67\n",
      "618.0\n",
      "br8018a_2_cytokeratin_555_ki67_647_hoechst_F1\n",
      "cytokeratin\n",
      "665.0\n",
      "ki67\n",
      "597.0\n",
      "br8018a_2_cytokeratin_555_ki67_647_hoechst_F2\n",
      "cytokeratin\n",
      "1087.0\n",
      "ki67\n",
      "701.0\n",
      "br8018a_2_cytokeratin_555_ki67_647_hoechst_F3\n",
      "cytokeratin\n",
      "701.0\n",
      "ki67\n",
      "616.0\n",
      "br8018a_2_cytokeratin_555_ki67_647_hoechst_F4\n",
      "cytokeratin\n",
      "716.0\n",
      "ki67\n",
      "558.0\n",
      "br8018a_2_cytokeratin_555_ki67_647_hoechst_F5\n",
      "cytokeratin\n",
      "689.0\n",
      "ki67\n",
      "655.0\n",
      "br8018a_2_cytokeratin_555_ki67_647_hoechst_F6\n",
      "cytokeratin\n",
      "695.0\n",
      "ki67\n",
      "714.0\n",
      "br8018a_2_cytokeratin_555_ki67_647_hoechst_F7\n",
      "cytokeratin\n",
      "601.0\n",
      "ki67\n",
      "684.0\n",
      "br8018a_2_cytokeratin_555_ki67_647_hoechst_F8\n",
      "cytokeratin\n",
      "708.0\n",
      "ki67\n",
      "754.0\n",
      "br8018a_2_cytokeratin_555_ki67_647_hoechst_F9\n",
      "cytokeratin\n",
      "746.0\n",
      "ki67\n",
      "716.0\n",
      "br8018a_2_cytokeratin_555_ki67_647_hoechst_G1\n",
      "cytokeratin\n",
      "481.0\n",
      "ki67\n",
      "854.0\n",
      "br8018a_2_cytokeratin_555_ki67_647_hoechst_G2\n",
      "cytokeratin\n",
      "481.0\n",
      "ki67\n",
      "891.0\n",
      "br8018a_2_cytokeratin_555_ki67_647_hoechst_G3\n",
      "cytokeratin\n",
      "480.0\n",
      "ki67\n",
      "899.0\n",
      "br8018a_2_cytokeratin_555_ki67_647_hoechst_G4\n",
      "cytokeratin\n",
      "483.0\n",
      "ki67\n",
      "965.0\n",
      "br8018a_2_cytokeratin_555_ki67_647_hoechst_G5\n",
      "cytokeratin\n",
      "480.0\n",
      "ki67\n",
      "981.0\n",
      "br8018a_2_cytokeratin_555_ki67_647_hoechst_G6\n",
      "cytokeratin\n",
      "491.0\n",
      "ki67\n",
      "930.0\n",
      "br8018a_2_cytokeratin_555_ki67_647_hoechst_H2\n",
      "cytokeratin\n",
      "815.0\n",
      "ki67\n",
      "993.0\n",
      "br8018a_2_cytokeratin_555_ki67_647_hoechst_H3\n",
      "cytokeratin\n",
      "782.0\n",
      "ki67\n",
      "976.0\n",
      "br8018a_2_cytokeratin_555_ki67_647_hoechst_H4\n",
      "cytokeratin\n",
      "764.0\n",
      "ki67\n",
      "1014.0\n",
      "br8018a_2_cytokeratin_555_ki67_647_hoechst_H5\n",
      "cytokeratin\n",
      "824.0\n",
      "ki67\n",
      "1028.0\n"
     ]
    }
   ],
   "source": [
    "stats2plot=['int_median','int_mode','int_mean']\n",
    "stains=['aSMA','cytokeratin','collagen1','gh2ax','ki67']\n",
    "uniquenames,nameIdx=np.unique(allImgNames,return_index=True)\n",
    "\n",
    "ncluster=8\n",
    "plotepoch=311\n",
    "    \n",
    "allstats=None\n",
    "alllabels=None\n",
    "allvarnames=None\n",
    "\n",
    "minMinDict={'aSMA':[],'cytokeratin':[],'collagen1':[],'gh2ax':[],'ki67':[]}\n",
    "\n",
    "allidx=None\n",
    "idx_temp=np.arange(allImgNames.size)\n",
    "for sidx in range(uniquenames.size):\n",
    "    s=np.unique(allImgNames)[sidx]\n",
    "    plottingIdx_i_s=np.arange(allImgNames.size)[allImgNames==s]-nameIdx[sidx]\n",
    "\n",
    "    print(s)\n",
    "    assert np.min(plottingIdx_i_s)>=0\n",
    "#         ssplit=s.split('_')\n",
    "    slabels=kmeans_sub[allImgNames==s]\n",
    "    sidx=idx_temp[allImgNames==s]\n",
    "    \n",
    "    for stain_s in stains:\n",
    "        if not stain_s in s:\n",
    "            continue\n",
    "        path_s=os.path.join(datadir,'_'.join(s.split('_')[:-1]),'cellular_'+stain_s.lower(),s.split('_')[-1] +'.csv')\n",
    "        if not os.path.exists(path_s):\n",
    "            continue\n",
    "        print(stain_s)\n",
    "        \n",
    "        stats_s=pd.read_csv(path_s)\n",
    "        stats_s.index=stats_s.loc[:,'label']\n",
    "        \n",
    "        minMin=np.min(stats_s.loc[:,'int_min'])\n",
    "        print(minMin)\n",
    "        \n",
    "        minMinDict[stain_s].append(minMin)\n",
    "        if allstats is None:\n",
    "            allstats=stats_s.loc[cellIDlist[s][plottingIdx_i_s],stats2plot].to_numpy()-minMin\n",
    "            alllabels=np.copy(slabels)\n",
    "            allvarnames=np.repeat(stain_s,slabels.size)\n",
    "            allidx=np.copy(sidx)\n",
    "        else:\n",
    "            allstats=np.concatenate((allstats,stats_s.loc[cellIDlist[s][plottingIdx_i_s],stats2plot].to_numpy()-minMin),axis=0)\n",
    "            alllabels=np.concatenate((alllabels,np.copy(slabels)))\n",
    "            allvarnames=np.concatenate((allvarnames,np.repeat(stain_s,slabels.size)))\n",
    "            allidx=np.concatenate((allidx,sidx))\n",
    "            \n",
    "            "
   ]
  },
  {
   "cell_type": "code",
   "execution_count": 13,
   "metadata": {},
   "outputs": [],
   "source": [
    "#add single cell plots & use all cells -- use previously calculated graph in combined subcluster (neighbors=4)\n",
    "#log scale\n",
    "#thresh=1\n",
    "# nneighbors_list=[4,10] \n",
    "\n",
    "for v in np.unique(allvarnames):\n",
    "    plotidx=allidx[allvarnames==v]\n",
    "    protvalues=np.repeat(np.nan,latent_adata.shape[0])\n",
    "    protvalues[plotidx]=np.log(allstats[allvarnames==v,0]+1)\n",
    "    latent_adata.obs[v+'log']=protvalues\n",
    "    sc.settings.figdir=os.path.join(subclusterplotdir)\n",
    "\n",
    "    sc.pl.paga(latent_adata, color=[v+'log'],pos=trainPagaPos,save='graph'+v+'_allcells_log.png',show=False,random_state=6)\n",
    "#     sc.tl.umap(latent_adata, init_pos='paga')\n",
    "    sc.pl.umap(latent_adata,color=[v+'log'],legend_loc='on data',save='graph_umap'+v+'_log.png',show=False,size=3)\n"
   ]
  },
  {
   "cell_type": "code",
   "execution_count": 17,
   "metadata": {
    "scrolled": true
   },
   "outputs": [
    {
     "name": "stdout",
     "output_type": "stream",
     "text": [
      "--> added 'pos', the PAGA positions (adata.uns['paga'])\n",
      "WARNING: saving figure to file /media/xinyi/dcis2idc/plots/cnnvaeexp0/cluster_valsamples_reordered/minibatchkmean_ncluster8n_pcs50epoch311_subcluster_all/cytokeratin/pagagraphcytokeratin_log_Atypical hyperplasia_allcells.png\n",
      "WARNING: saving figure to file /media/xinyi/dcis2idc/plots/cnnvaeexp0/cluster_valsamples_reordered/minibatchkmean_ncluster8n_pcs50epoch311_subcluster_all/cytokeratin/umapgraph_umapcytokeratin_log_Atypical hyperplasia.png\n",
      "--> added 'pos', the PAGA positions (adata.uns['paga'])\n",
      "WARNING: saving figure to file /media/xinyi/dcis2idc/plots/cnnvaeexp0/cluster_valsamples_reordered/minibatchkmean_ncluster8n_pcs50epoch311_subcluster_all/cytokeratin/pagagraphcytokeratin_log_Breast tissue_allcells.png\n",
      "WARNING: saving figure to file /media/xinyi/dcis2idc/plots/cnnvaeexp0/cluster_valsamples_reordered/minibatchkmean_ncluster8n_pcs50epoch311_subcluster_all/cytokeratin/umapgraph_umapcytokeratin_log_Breast tissue.png\n",
      "--> added 'pos', the PAGA positions (adata.uns['paga'])\n",
      "WARNING: saving figure to file /media/xinyi/dcis2idc/plots/cnnvaeexp0/cluster_valsamples_reordered/minibatchkmean_ncluster8n_pcs50epoch311_subcluster_all/cytokeratin/pagagraphcytokeratin_log_Hyperplasia_allcells.png\n",
      "WARNING: saving figure to file /media/xinyi/dcis2idc/plots/cnnvaeexp0/cluster_valsamples_reordered/minibatchkmean_ncluster8n_pcs50epoch311_subcluster_all/cytokeratin/umapgraph_umapcytokeratin_log_Hyperplasia.png\n",
      "--> added 'pos', the PAGA positions (adata.uns['paga'])\n",
      "WARNING: saving figure to file /media/xinyi/dcis2idc/plots/cnnvaeexp0/cluster_valsamples_reordered/minibatchkmean_ncluster8n_pcs50epoch311_subcluster_all/cytokeratin/pagagraphcytokeratin_log_Hyperplasia with saccular dilatation_allcells.png\n",
      "WARNING: saving figure to file /media/xinyi/dcis2idc/plots/cnnvaeexp0/cluster_valsamples_reordered/minibatchkmean_ncluster8n_pcs50epoch311_subcluster_all/cytokeratin/umapgraph_umapcytokeratin_log_Hyperplasia with saccular dilatation.png\n",
      "--> added 'pos', the PAGA positions (adata.uns['paga'])\n",
      "WARNING: saving figure to file /media/xinyi/dcis2idc/plots/cnnvaeexp0/cluster_valsamples_reordered/minibatchkmean_ncluster8n_pcs50epoch311_subcluster_all/cytokeratin/pagagraphcytokeratin_log_Invasive ductal carcinoma_allcells.png\n",
      "WARNING: saving figure to file /media/xinyi/dcis2idc/plots/cnnvaeexp0/cluster_valsamples_reordered/minibatchkmean_ncluster8n_pcs50epoch311_subcluster_all/cytokeratin/umapgraph_umapcytokeratin_log_Invasive ductal carcinoma.png\n",
      "--> added 'pos', the PAGA positions (adata.uns['paga'])\n",
      "WARNING: saving figure to file /media/xinyi/dcis2idc/plots/cnnvaeexp0/cluster_valsamples_reordered/minibatchkmean_ncluster8n_pcs50epoch311_subcluster_all/cytokeratin/pagagraphcytokeratin_log_Invasive ductal carcinoma (breast tissue)_allcells.png\n",
      "WARNING: saving figure to file /media/xinyi/dcis2idc/plots/cnnvaeexp0/cluster_valsamples_reordered/minibatchkmean_ncluster8n_pcs50epoch311_subcluster_all/cytokeratin/umapgraph_umapcytokeratin_log_Invasive ductal carcinoma (breast tissue).png\n",
      "--> added 'pos', the PAGA positions (adata.uns['paga'])\n",
      "WARNING: saving figure to file /media/xinyi/dcis2idc/plots/cnnvaeexp0/cluster_valsamples_reordered/minibatchkmean_ncluster8n_pcs50epoch311_subcluster_all/cytokeratin/pagagraphcytokeratin_log_Invasive ductal carcinoma and breast tissue_allcells.png\n",
      "WARNING: saving figure to file /media/xinyi/dcis2idc/plots/cnnvaeexp0/cluster_valsamples_reordered/minibatchkmean_ncluster8n_pcs50epoch311_subcluster_all/cytokeratin/umapgraph_umapcytokeratin_log_Invasive ductal carcinoma and breast tissue.png\n",
      "--> added 'pos', the PAGA positions (adata.uns['paga'])\n",
      "WARNING: saving figure to file /media/xinyi/dcis2idc/plots/cnnvaeexp0/cluster_valsamples_reordered/minibatchkmean_ncluster8n_pcs50epoch311_subcluster_all/cytokeratin/pagagraphcytokeratin_log_Micropapillary type ductal carcinoma in situ w_allcells.png\n",
      "WARNING: saving figure to file /media/xinyi/dcis2idc/plots/cnnvaeexp0/cluster_valsamples_reordered/minibatchkmean_ncluster8n_pcs50epoch311_subcluster_all/cytokeratin/umapgraph_umapcytokeratin_log_Micropapillary type ductal carcinoma in situ w.png\n"
     ]
    }
   ],
   "source": [
    "#by pathology\n",
    "#changed paga plotting function to enable vmax and vmin\n",
    "#add single cell plots & use all cells -- use previously calculated graph in combined subcluster (neighbors=4)\n",
    "#log scale\n",
    "#thresh=1\n",
    "# nneighbors_list=[4,10] \n",
    "latent_adata.obs['prog']=progList\n",
    "vminlist={'aSMA':5.3,'collagen1':6.3,'cytokeratin':6.35,'gh2ax':5.1,'ki67':5.8}\n",
    "vmaxlist={'aSMA':7.4,'collagen1':8.15,'cytokeratin':8.5,'gh2ax':7.55,'ki67':8.65}\n",
    "# sc.tl.umap(latent_adata, init_pos='paga')\n",
    "# for v in np.unique(allvarnames):\n",
    "for v in ['cytokeratin']:\n",
    "    vmin=vminlist[v]\n",
    "    vmax=vmaxlist[v]\n",
    "    for prog in np.unique(progList[np.isfinite(latent_adata.obs[v+'log'])]):\n",
    "        vprog=v+'_log_'+prog\n",
    "        plotidx=allidx[allvarnames==v]\n",
    "        protvalues=np.repeat(np.nan,latent_adata.shape[0])\n",
    "        protvalues[plotidx]=np.log(allstats[allvarnames==v,0]+1)\n",
    "        protvalues[latent_adata.obs['prog']!=prog]=np.nan\n",
    "        latent_adata.obs[vprog]=protvalues\n",
    "\n",
    "        sc.settings.figdir=os.path.join(subclusterplotdir,'cytokeratin')\n",
    "\n",
    "        sc.pl.paga(latent_adata, color=[vprog],pos=trainPagaPos,save='graph'+vprog+'_allcells.png',show=False,random_state=6,vmin=vmin,vmax=vmax,cmap='jet')\n",
    "#         sc.tl.umap(latent_adata, init_pos='paga')\n",
    "        sc.pl.umap(latent_adata,color=[vprog],legend_loc='on data',save='graph_umap'+vprog+'.png',show=False,size=3,vmin=vmin,vmax=vmax,cmap='jet')\n",
    "\n"
   ]
  },
  {
   "cell_type": "code",
   "execution_count": 18,
   "metadata": {
    "scrolled": true
   },
   "outputs": [
    {
     "name": "stdout",
     "output_type": "stream",
     "text": [
      "br1003a_2_cytokeratin_555_ki67_647_hoechst_B1\n",
      "cytokeratin\n",
      "ki67\n",
      "br1003a_2_cytokeratin_555_ki67_647_hoechst_B2\n",
      "cytokeratin\n",
      "ki67\n",
      "br1003a_2_cytokeratin_555_ki67_647_hoechst_B3\n",
      "cytokeratin\n",
      "ki67\n",
      "br1003a_2_cytokeratin_555_ki67_647_hoechst_B5\n",
      "cytokeratin\n",
      "ki67\n",
      "br1003a_2_cytokeratin_555_ki67_647_hoechst_B7\n",
      "cytokeratin\n",
      "ki67\n",
      "br1003a_2_cytokeratin_555_ki67_647_hoechst_I2\n",
      "cytokeratin\n",
      "ki67\n",
      "br1003a_2_cytokeratin_555_ki67_647_hoechst_I3\n",
      "cytokeratin\n",
      "ki67\n",
      "br1003a_2_cytokeratin_555_ki67_647_hoechst_I7\n",
      "cytokeratin\n",
      "ki67\n",
      "br1003a_2_cytokeratin_555_ki67_647_hoechst_I8\n",
      "cytokeratin\n",
      "ki67\n",
      "br1003a_2_cytokeratin_555_ki67_647_hoechst_I9\n",
      "cytokeratin\n",
      "ki67\n",
      "br301_5_cytokeratin_555_ki67_647_hoechst_A1\n",
      "cytokeratin\n",
      "ki67\n",
      "br301_5_cytokeratin_555_ki67_647_hoechst_A2\n",
      "cytokeratin\n",
      "ki67\n",
      "br301_5_cytokeratin_555_ki67_647_hoechst_A3\n",
      "cytokeratin\n",
      "ki67\n",
      "br301_5_cytokeratin_555_ki67_647_hoechst_A4\n",
      "cytokeratin\n",
      "ki67\n",
      "br301_5_cytokeratin_555_ki67_647_hoechst_A5\n",
      "cytokeratin\n",
      "ki67\n",
      "br301_5_cytokeratin_555_ki67_647_hoechst_A6\n",
      "cytokeratin\n",
      "ki67\n",
      "br301_5_cytokeratin_555_ki67_647_hoechst_B1\n",
      "cytokeratin\n",
      "ki67\n",
      "br301_5_cytokeratin_555_ki67_647_hoechst_B2\n",
      "cytokeratin\n",
      "ki67\n",
      "br301_5_cytokeratin_555_ki67_647_hoechst_B3\n",
      "cytokeratin\n",
      "ki67\n",
      "br301_5_cytokeratin_555_ki67_647_hoechst_B4\n",
      "cytokeratin\n",
      "ki67\n",
      "br301_5_cytokeratin_555_ki67_647_hoechst_B5\n",
      "cytokeratin\n",
      "ki67\n",
      "br301_5_cytokeratin_555_ki67_647_hoechst_B6\n",
      "cytokeratin\n",
      "ki67\n",
      "br301_5_cytokeratin_555_ki67_647_hoechst_C1\n",
      "cytokeratin\n",
      "ki67\n",
      "br301_5_cytokeratin_555_ki67_647_hoechst_C2\n",
      "cytokeratin\n",
      "ki67\n",
      "br301_5_cytokeratin_555_ki67_647_hoechst_C3\n",
      "cytokeratin\n",
      "ki67\n",
      "br301_5_cytokeratin_555_ki67_647_hoechst_C4\n",
      "cytokeratin\n",
      "ki67\n",
      "br301_5_cytokeratin_555_ki67_647_hoechst_C5\n",
      "cytokeratin\n",
      "ki67\n",
      "br301_5_cytokeratin_555_ki67_647_hoechst_C6\n",
      "cytokeratin\n",
      "ki67\n",
      "br301_5_cytokeratin_555_ki67_647_hoechst_D1\n",
      "cytokeratin\n",
      "ki67\n",
      "br301_5_cytokeratin_555_ki67_647_hoechst_D2\n",
      "cytokeratin\n",
      "ki67\n",
      "br301_5_cytokeratin_555_ki67_647_hoechst_D3\n",
      "cytokeratin\n",
      "ki67\n",
      "br301_5_cytokeratin_555_ki67_647_hoechst_D4\n",
      "cytokeratin\n",
      "ki67\n",
      "br301_5_cytokeratin_555_ki67_647_hoechst_D5\n",
      "cytokeratin\n",
      "ki67\n",
      "br301_5_cytokeratin_555_ki67_647_hoechst_D6\n",
      "cytokeratin\n",
      "ki67\n",
      "br301_5_cytokeratin_555_ki67_647_hoechst_E1\n",
      "cytokeratin\n",
      "ki67\n",
      "br301_5_cytokeratin_555_ki67_647_hoechst_E2\n",
      "cytokeratin\n",
      "ki67\n",
      "br301_5_cytokeratin_555_ki67_647_hoechst_E3\n",
      "cytokeratin\n",
      "ki67\n",
      "br301_5_cytokeratin_555_ki67_647_hoechst_E4\n",
      "cytokeratin\n",
      "ki67\n",
      "br301_5_cytokeratin_555_ki67_647_hoechst_E5\n",
      "cytokeratin\n",
      "ki67\n",
      "br301_5_cytokeratin_555_ki67_647_hoechst_E6\n",
      "cytokeratin\n",
      "ki67\n",
      "br8018a_2_cytokeratin_555_ki67_647_hoechst_D10\n",
      "cytokeratin\n",
      "ki67\n",
      "br8018a_2_cytokeratin_555_ki67_647_hoechst_D6\n",
      "cytokeratin\n",
      "ki67\n",
      "br8018a_2_cytokeratin_555_ki67_647_hoechst_D7\n",
      "cytokeratin\n",
      "ki67\n",
      "br8018a_2_cytokeratin_555_ki67_647_hoechst_E5\n",
      "cytokeratin\n",
      "ki67\n",
      "br8018a_2_cytokeratin_555_ki67_647_hoechst_E6\n",
      "cytokeratin\n",
      "ki67\n",
      "br8018a_2_cytokeratin_555_ki67_647_hoechst_E7\n",
      "cytokeratin\n",
      "ki67\n",
      "br8018a_2_cytokeratin_555_ki67_647_hoechst_E8\n",
      "cytokeratin\n",
      "ki67\n",
      "br8018a_2_cytokeratin_555_ki67_647_hoechst_E9\n",
      "cytokeratin\n",
      "ki67\n",
      "br8018a_2_cytokeratin_555_ki67_647_hoechst_F2\n",
      "cytokeratin\n",
      "ki67\n",
      "br8018a_2_cytokeratin_555_ki67_647_hoechst_F7\n",
      "cytokeratin\n",
      "ki67\n"
     ]
    }
   ],
   "source": [
    "stats2plot=['int_median','int_mode']\n",
    "stains=['aSMA','cytokeratin','collagen1','gh2ax','ki67']\n",
    "uniquenames,nameIdx=np.unique(allImgNames,return_index=True)\n",
    "\n",
    "ncluster=8\n",
    "plotepoch=311\n",
    "    \n",
    "allstats=None\n",
    "allstats_duct=None\n",
    "alllabels=None\n",
    "allvarnames=None\n",
    "\n",
    "allidx=None\n",
    "idx_temp=np.arange(allImgNames.size)\n",
    "for sidx in range(uniquenames.size):\n",
    "    s=np.unique(allImgNames)[sidx]\n",
    "    plottingIdx_i_s=np.arange(allImgNames.size)[allImgNames==s]-nameIdx[sidx]\n",
    "\n",
    "    path_s_duct=os.path.join(datadir,'_'.join(s.split('_')[:-1]),'duct_nuc_membership',s.split('_')[-1] +'.csv')\n",
    "    if not os.path.exists(path_s_duct):\n",
    "        continue\n",
    "    print(s)\n",
    "    \n",
    "    assert np.min(plottingIdx_i_s)>=0\n",
    "#         ssplit=s.split('_')\n",
    "    slabels=kmeans_sub[allImgNames==s]\n",
    "    sidx=idx_temp[allImgNames==s]\n",
    "    \n",
    "    stats_s_duct=pd.read_csv(path_s_duct)\n",
    "    stats_s_duct.index=stats_s_duct.loc[:,'label']\n",
    "    stats_s_duct=stats_s_duct.loc[cellIDlist[s][plottingIdx_i_s],'int_median'].to_numpy()\n",
    "    \n",
    "    for stain_s in stains:\n",
    "        if not stain_s in s:\n",
    "            continue\n",
    "        path_s=os.path.join(datadir,'_'.join(s.split('_')[:-1]),'cellular_'+stain_s.lower(),s.split('_')[-1] +'.csv')\n",
    "        if not os.path.exists(path_s):\n",
    "            continue\n",
    "        print(stain_s)\n",
    "        \n",
    "        stats_s=pd.read_csv(path_s)\n",
    "        stats_s.index=stats_s.loc[:,'label']\n",
    "        \n",
    "        minMin=np.min(stats_s.loc[:,'int_min'])\n",
    "        \n",
    "        if allstats is None:\n",
    "            allstats=stats_s.loc[cellIDlist[s][plottingIdx_i_s],stats2plot].to_numpy()-minMin\n",
    "            alllabels=np.copy(slabels)\n",
    "            allvarnames=np.repeat(stain_s,slabels.size)\n",
    "            allidx=np.copy(sidx)\n",
    "            allstats_duct=np.copy(stats_s_duct)\n",
    "        else:\n",
    "            allstats=np.concatenate((allstats,stats_s.loc[cellIDlist[s][plottingIdx_i_s],stats2plot].to_numpy()-minMin),axis=0)\n",
    "            alllabels=np.concatenate((alllabels,np.copy(slabels)))\n",
    "            allvarnames=np.concatenate((allvarnames,np.repeat(stain_s,slabels.size)))\n",
    "            allidx=np.concatenate((allidx,sidx))\n",
    "            allstats_duct=np.concatenate((allstats_duct,stats_s_duct))\n",
    "            "
   ]
  },
  {
   "cell_type": "code",
   "execution_count": 19,
   "metadata": {
    "scrolled": true
   },
   "outputs": [
    {
     "name": "stdout",
     "output_type": "stream",
     "text": [
      "--> added 'pos', the PAGA positions (adata.uns['paga'])\n",
      "WARNING: saving figure to file /media/xinyi/dcis2idc/plots/cnnvaeexp0/cluster_valsamples_reordered/minibatchkmean_ncluster8n_pcs50epoch311_subcluster_all/cytokeratin/pagagraphcytokeratin_log_Atypical hyperplasia_induct_allcells.png\n",
      "WARNING: saving figure to file /media/xinyi/dcis2idc/plots/cnnvaeexp0/cluster_valsamples_reordered/minibatchkmean_ncluster8n_pcs50epoch311_subcluster_all/cytokeratin/umapgraph_umapcytokeratin_log_Atypical hyperplasia_induct.png\n",
      "--> added 'pos', the PAGA positions (adata.uns['paga'])\n",
      "WARNING: saving figure to file /media/xinyi/dcis2idc/plots/cnnvaeexp0/cluster_valsamples_reordered/minibatchkmean_ncluster8n_pcs50epoch311_subcluster_all/cytokeratin/pagagraphcytokeratin_log_Atypical hyperplasia_outduct_allcells.png\n",
      "WARNING: saving figure to file /media/xinyi/dcis2idc/plots/cnnvaeexp0/cluster_valsamples_reordered/minibatchkmean_ncluster8n_pcs50epoch311_subcluster_all/cytokeratin/umapgraph_umapcytokeratin_log_Atypical hyperplasia_outduct.png\n",
      "--> added 'pos', the PAGA positions (adata.uns['paga'])\n",
      "WARNING: saving figure to file /media/xinyi/dcis2idc/plots/cnnvaeexp0/cluster_valsamples_reordered/minibatchkmean_ncluster8n_pcs50epoch311_subcluster_all/cytokeratin/pagagraphcytokeratin_log_Breast tissue_induct_allcells.png\n",
      "WARNING: saving figure to file /media/xinyi/dcis2idc/plots/cnnvaeexp0/cluster_valsamples_reordered/minibatchkmean_ncluster8n_pcs50epoch311_subcluster_all/cytokeratin/umapgraph_umapcytokeratin_log_Breast tissue_induct.png\n",
      "--> added 'pos', the PAGA positions (adata.uns['paga'])\n",
      "WARNING: saving figure to file /media/xinyi/dcis2idc/plots/cnnvaeexp0/cluster_valsamples_reordered/minibatchkmean_ncluster8n_pcs50epoch311_subcluster_all/cytokeratin/pagagraphcytokeratin_log_Breast tissue_outduct_allcells.png\n",
      "WARNING: saving figure to file /media/xinyi/dcis2idc/plots/cnnvaeexp0/cluster_valsamples_reordered/minibatchkmean_ncluster8n_pcs50epoch311_subcluster_all/cytokeratin/umapgraph_umapcytokeratin_log_Breast tissue_outduct.png\n",
      "--> added 'pos', the PAGA positions (adata.uns['paga'])\n",
      "WARNING: saving figure to file /media/xinyi/dcis2idc/plots/cnnvaeexp0/cluster_valsamples_reordered/minibatchkmean_ncluster8n_pcs50epoch311_subcluster_all/cytokeratin/pagagraphcytokeratin_log_Cancer adjacent normal breast tissue_induct_allcells.png\n",
      "WARNING: saving figure to file /media/xinyi/dcis2idc/plots/cnnvaeexp0/cluster_valsamples_reordered/minibatchkmean_ncluster8n_pcs50epoch311_subcluster_all/cytokeratin/umapgraph_umapcytokeratin_log_Cancer adjacent normal breast tissue_induct.png\n",
      "--> added 'pos', the PAGA positions (adata.uns['paga'])\n",
      "WARNING: saving figure to file /media/xinyi/dcis2idc/plots/cnnvaeexp0/cluster_valsamples_reordered/minibatchkmean_ncluster8n_pcs50epoch311_subcluster_all/cytokeratin/pagagraphcytokeratin_log_Cancer adjacent normal breast tissue_outduct_allcells.png\n",
      "WARNING: saving figure to file /media/xinyi/dcis2idc/plots/cnnvaeexp0/cluster_valsamples_reordered/minibatchkmean_ncluster8n_pcs50epoch311_subcluster_all/cytokeratin/umapgraph_umapcytokeratin_log_Cancer adjacent normal breast tissue_outduct.png\n",
      "--> added 'pos', the PAGA positions (adata.uns['paga'])\n",
      "WARNING: saving figure to file /media/xinyi/dcis2idc/plots/cnnvaeexp0/cluster_valsamples_reordered/minibatchkmean_ncluster8n_pcs50epoch311_subcluster_all/cytokeratin/pagagraphcytokeratin_log_Ductal carcinoma in situ_induct_allcells.png\n",
      "WARNING: saving figure to file /media/xinyi/dcis2idc/plots/cnnvaeexp0/cluster_valsamples_reordered/minibatchkmean_ncluster8n_pcs50epoch311_subcluster_all/cytokeratin/umapgraph_umapcytokeratin_log_Ductal carcinoma in situ_induct.png\n",
      "--> added 'pos', the PAGA positions (adata.uns['paga'])\n",
      "WARNING: saving figure to file /media/xinyi/dcis2idc/plots/cnnvaeexp0/cluster_valsamples_reordered/minibatchkmean_ncluster8n_pcs50epoch311_subcluster_all/cytokeratin/pagagraphcytokeratin_log_Ductal carcinoma in situ_outduct_allcells.png\n",
      "WARNING: saving figure to file /media/xinyi/dcis2idc/plots/cnnvaeexp0/cluster_valsamples_reordered/minibatchkmean_ncluster8n_pcs50epoch311_subcluster_all/cytokeratin/umapgraph_umapcytokeratin_log_Ductal carcinoma in situ_outduct.png\n",
      "--> added 'pos', the PAGA positions (adata.uns['paga'])\n",
      "WARNING: saving figure to file /media/xinyi/dcis2idc/plots/cnnvaeexp0/cluster_valsamples_reordered/minibatchkmean_ncluster8n_pcs50epoch311_subcluster_all/cytokeratin/pagagraphcytokeratin_log_Ductal carcinoma in situ and breast tissue_induct_allcells.png\n",
      "WARNING: saving figure to file /media/xinyi/dcis2idc/plots/cnnvaeexp0/cluster_valsamples_reordered/minibatchkmean_ncluster8n_pcs50epoch311_subcluster_all/cytokeratin/umapgraph_umapcytokeratin_log_Ductal carcinoma in situ and breast tissue_induct.png\n",
      "--> added 'pos', the PAGA positions (adata.uns['paga'])\n",
      "WARNING: saving figure to file /media/xinyi/dcis2idc/plots/cnnvaeexp0/cluster_valsamples_reordered/minibatchkmean_ncluster8n_pcs50epoch311_subcluster_all/cytokeratin/pagagraphcytokeratin_log_Ductal carcinoma in situ and breast tissue_outduct_allcells.png\n",
      "WARNING: saving figure to file /media/xinyi/dcis2idc/plots/cnnvaeexp0/cluster_valsamples_reordered/minibatchkmean_ncluster8n_pcs50epoch311_subcluster_all/cytokeratin/umapgraph_umapcytokeratin_log_Ductal carcinoma in situ and breast tissue_outduct.png\n",
      "--> added 'pos', the PAGA positions (adata.uns['paga'])\n",
      "WARNING: saving figure to file /media/xinyi/dcis2idc/plots/cnnvaeexp0/cluster_valsamples_reordered/minibatchkmean_ncluster8n_pcs50epoch311_subcluster_all/cytokeratin/pagagraphcytokeratin_log_Ductal carcinoma in situ with early infiltrati_induct_allcells.png\n",
      "WARNING: saving figure to file /media/xinyi/dcis2idc/plots/cnnvaeexp0/cluster_valsamples_reordered/minibatchkmean_ncluster8n_pcs50epoch311_subcluster_all/cytokeratin/umapgraph_umapcytokeratin_log_Ductal carcinoma in situ with early infiltrati_induct.png\n",
      "--> added 'pos', the PAGA positions (adata.uns['paga'])\n",
      "WARNING: saving figure to file /media/xinyi/dcis2idc/plots/cnnvaeexp0/cluster_valsamples_reordered/minibatchkmean_ncluster8n_pcs50epoch311_subcluster_all/cytokeratin/pagagraphcytokeratin_log_Ductal carcinoma in situ with early infiltrati_outduct_allcells.png\n",
      "WARNING: saving figure to file /media/xinyi/dcis2idc/plots/cnnvaeexp0/cluster_valsamples_reordered/minibatchkmean_ncluster8n_pcs50epoch311_subcluster_all/cytokeratin/umapgraph_umapcytokeratin_log_Ductal carcinoma in situ with early infiltrati_outduct.png\n",
      "--> added 'pos', the PAGA positions (adata.uns['paga'])\n",
      "WARNING: saving figure to file /media/xinyi/dcis2idc/plots/cnnvaeexp0/cluster_valsamples_reordered/minibatchkmean_ncluster8n_pcs50epoch311_subcluster_all/cytokeratin/pagagraphcytokeratin_log_Hyperplasia_induct_allcells.png\n",
      "WARNING: saving figure to file /media/xinyi/dcis2idc/plots/cnnvaeexp0/cluster_valsamples_reordered/minibatchkmean_ncluster8n_pcs50epoch311_subcluster_all/cytokeratin/umapgraph_umapcytokeratin_log_Hyperplasia_induct.png\n",
      "--> added 'pos', the PAGA positions (adata.uns['paga'])\n",
      "WARNING: saving figure to file /media/xinyi/dcis2idc/plots/cnnvaeexp0/cluster_valsamples_reordered/minibatchkmean_ncluster8n_pcs50epoch311_subcluster_all/cytokeratin/pagagraphcytokeratin_log_Hyperplasia_outduct_allcells.png\n",
      "WARNING: saving figure to file /media/xinyi/dcis2idc/plots/cnnvaeexp0/cluster_valsamples_reordered/minibatchkmean_ncluster8n_pcs50epoch311_subcluster_all/cytokeratin/umapgraph_umapcytokeratin_log_Hyperplasia_outduct.png\n",
      "--> added 'pos', the PAGA positions (adata.uns['paga'])\n",
      "WARNING: saving figure to file /media/xinyi/dcis2idc/plots/cnnvaeexp0/cluster_valsamples_reordered/minibatchkmean_ncluster8n_pcs50epoch311_subcluster_all/cytokeratin/pagagraphcytokeratin_log_Hyperplasia with saccular dilatation_induct_allcells.png\n",
      "WARNING: saving figure to file /media/xinyi/dcis2idc/plots/cnnvaeexp0/cluster_valsamples_reordered/minibatchkmean_ncluster8n_pcs50epoch311_subcluster_all/cytokeratin/umapgraph_umapcytokeratin_log_Hyperplasia with saccular dilatation_induct.png\n",
      "--> added 'pos', the PAGA positions (adata.uns['paga'])\n",
      "WARNING: saving figure to file /media/xinyi/dcis2idc/plots/cnnvaeexp0/cluster_valsamples_reordered/minibatchkmean_ncluster8n_pcs50epoch311_subcluster_all/cytokeratin/pagagraphcytokeratin_log_Hyperplasia with saccular dilatation_outduct_allcells.png\n"
     ]
    },
    {
     "name": "stdout",
     "output_type": "stream",
     "text": [
      "WARNING: saving figure to file /media/xinyi/dcis2idc/plots/cnnvaeexp0/cluster_valsamples_reordered/minibatchkmean_ncluster8n_pcs50epoch311_subcluster_all/cytokeratin/umapgraph_umapcytokeratin_log_Hyperplasia with saccular dilatation_outduct.png\n",
      "--> added 'pos', the PAGA positions (adata.uns['paga'])\n",
      "WARNING: saving figure to file /media/xinyi/dcis2idc/plots/cnnvaeexp0/cluster_valsamples_reordered/minibatchkmean_ncluster8n_pcs50epoch311_subcluster_all/cytokeratin/pagagraphcytokeratin_log_Invasive ductal carcinoma_induct_allcells.png\n",
      "WARNING: saving figure to file /media/xinyi/dcis2idc/plots/cnnvaeexp0/cluster_valsamples_reordered/minibatchkmean_ncluster8n_pcs50epoch311_subcluster_all/cytokeratin/umapgraph_umapcytokeratin_log_Invasive ductal carcinoma_induct.png\n",
      "--> added 'pos', the PAGA positions (adata.uns['paga'])\n",
      "WARNING: saving figure to file /media/xinyi/dcis2idc/plots/cnnvaeexp0/cluster_valsamples_reordered/minibatchkmean_ncluster8n_pcs50epoch311_subcluster_all/cytokeratin/pagagraphcytokeratin_log_Invasive ductal carcinoma_outduct_allcells.png\n",
      "WARNING: saving figure to file /media/xinyi/dcis2idc/plots/cnnvaeexp0/cluster_valsamples_reordered/minibatchkmean_ncluster8n_pcs50epoch311_subcluster_all/cytokeratin/umapgraph_umapcytokeratin_log_Invasive ductal carcinoma_outduct.png\n",
      "--> added 'pos', the PAGA positions (adata.uns['paga'])\n",
      "WARNING: saving figure to file /media/xinyi/dcis2idc/plots/cnnvaeexp0/cluster_valsamples_reordered/minibatchkmean_ncluster8n_pcs50epoch311_subcluster_all/cytokeratin/pagagraphcytokeratin_log_Invasive ductal carcinoma (breast tissue)_induct_allcells.png\n",
      "WARNING: saving figure to file /media/xinyi/dcis2idc/plots/cnnvaeexp0/cluster_valsamples_reordered/minibatchkmean_ncluster8n_pcs50epoch311_subcluster_all/cytokeratin/umapgraph_umapcytokeratin_log_Invasive ductal carcinoma (breast tissue)_induct.png\n",
      "--> added 'pos', the PAGA positions (adata.uns['paga'])\n",
      "WARNING: saving figure to file /media/xinyi/dcis2idc/plots/cnnvaeexp0/cluster_valsamples_reordered/minibatchkmean_ncluster8n_pcs50epoch311_subcluster_all/cytokeratin/pagagraphcytokeratin_log_Invasive ductal carcinoma (breast tissue)_outduct_allcells.png\n",
      "WARNING: saving figure to file /media/xinyi/dcis2idc/plots/cnnvaeexp0/cluster_valsamples_reordered/minibatchkmean_ncluster8n_pcs50epoch311_subcluster_all/cytokeratin/umapgraph_umapcytokeratin_log_Invasive ductal carcinoma (breast tissue)_outduct.png\n",
      "--> added 'pos', the PAGA positions (adata.uns['paga'])\n",
      "WARNING: saving figure to file /media/xinyi/dcis2idc/plots/cnnvaeexp0/cluster_valsamples_reordered/minibatchkmean_ncluster8n_pcs50epoch311_subcluster_all/cytokeratin/pagagraphcytokeratin_log_Invasive ductal carcinoma and breast tissue_induct_allcells.png\n",
      "WARNING: saving figure to file /media/xinyi/dcis2idc/plots/cnnvaeexp0/cluster_valsamples_reordered/minibatchkmean_ncluster8n_pcs50epoch311_subcluster_all/cytokeratin/umapgraph_umapcytokeratin_log_Invasive ductal carcinoma and breast tissue_induct.png\n",
      "--> added 'pos', the PAGA positions (adata.uns['paga'])\n",
      "WARNING: saving figure to file /media/xinyi/dcis2idc/plots/cnnvaeexp0/cluster_valsamples_reordered/minibatchkmean_ncluster8n_pcs50epoch311_subcluster_all/cytokeratin/pagagraphcytokeratin_log_Invasive ductal carcinoma and breast tissue_outduct_allcells.png\n",
      "WARNING: saving figure to file /media/xinyi/dcis2idc/plots/cnnvaeexp0/cluster_valsamples_reordered/minibatchkmean_ncluster8n_pcs50epoch311_subcluster_all/cytokeratin/umapgraph_umapcytokeratin_log_Invasive ductal carcinoma and breast tissue_outduct.png\n",
      "--> added 'pos', the PAGA positions (adata.uns['paga'])\n",
      "WARNING: saving figure to file /media/xinyi/dcis2idc/plots/cnnvaeexp0/cluster_valsamples_reordered/minibatchkmean_ncluster8n_pcs50epoch311_subcluster_all/cytokeratin/pagagraphcytokeratin_log_Micropapillary type ductal carcinoma in situ w_induct_allcells.png\n",
      "WARNING: saving figure to file /media/xinyi/dcis2idc/plots/cnnvaeexp0/cluster_valsamples_reordered/minibatchkmean_ncluster8n_pcs50epoch311_subcluster_all/cytokeratin/umapgraph_umapcytokeratin_log_Micropapillary type ductal carcinoma in situ w_induct.png\n",
      "--> added 'pos', the PAGA positions (adata.uns['paga'])\n",
      "WARNING: saving figure to file /media/xinyi/dcis2idc/plots/cnnvaeexp0/cluster_valsamples_reordered/minibatchkmean_ncluster8n_pcs50epoch311_subcluster_all/cytokeratin/pagagraphcytokeratin_log_Micropapillary type ductal carcinoma in situ w_outduct_allcells.png\n",
      "WARNING: saving figure to file /media/xinyi/dcis2idc/plots/cnnvaeexp0/cluster_valsamples_reordered/minibatchkmean_ncluster8n_pcs50epoch311_subcluster_all/cytokeratin/umapgraph_umapcytokeratin_log_Micropapillary type ductal carcinoma in situ w_outduct.png\n",
      "--> added 'pos', the PAGA positions (adata.uns['paga'])\n",
      "WARNING: saving figure to file /media/xinyi/dcis2idc/plots/cnnvaeexp0/cluster_valsamples_reordered/minibatchkmean_ncluster8n_pcs50epoch311_subcluster_all/cytokeratin/pagagraphki67_log_Atypical hyperplasia_induct_allcells.png\n",
      "WARNING: saving figure to file /media/xinyi/dcis2idc/plots/cnnvaeexp0/cluster_valsamples_reordered/minibatchkmean_ncluster8n_pcs50epoch311_subcluster_all/cytokeratin/umapgraph_umapki67_log_Atypical hyperplasia_induct.png\n",
      "--> added 'pos', the PAGA positions (adata.uns['paga'])\n",
      "WARNING: saving figure to file /media/xinyi/dcis2idc/plots/cnnvaeexp0/cluster_valsamples_reordered/minibatchkmean_ncluster8n_pcs50epoch311_subcluster_all/cytokeratin/pagagraphki67_log_Atypical hyperplasia_outduct_allcells.png\n",
      "WARNING: saving figure to file /media/xinyi/dcis2idc/plots/cnnvaeexp0/cluster_valsamples_reordered/minibatchkmean_ncluster8n_pcs50epoch311_subcluster_all/cytokeratin/umapgraph_umapki67_log_Atypical hyperplasia_outduct.png\n",
      "--> added 'pos', the PAGA positions (adata.uns['paga'])\n",
      "WARNING: saving figure to file /media/xinyi/dcis2idc/plots/cnnvaeexp0/cluster_valsamples_reordered/minibatchkmean_ncluster8n_pcs50epoch311_subcluster_all/cytokeratin/pagagraphki67_log_Breast tissue_induct_allcells.png\n",
      "WARNING: saving figure to file /media/xinyi/dcis2idc/plots/cnnvaeexp0/cluster_valsamples_reordered/minibatchkmean_ncluster8n_pcs50epoch311_subcluster_all/cytokeratin/umapgraph_umapki67_log_Breast tissue_induct.png\n",
      "--> added 'pos', the PAGA positions (adata.uns['paga'])\n",
      "WARNING: saving figure to file /media/xinyi/dcis2idc/plots/cnnvaeexp0/cluster_valsamples_reordered/minibatchkmean_ncluster8n_pcs50epoch311_subcluster_all/cytokeratin/pagagraphki67_log_Breast tissue_outduct_allcells.png\n",
      "WARNING: saving figure to file /media/xinyi/dcis2idc/plots/cnnvaeexp0/cluster_valsamples_reordered/minibatchkmean_ncluster8n_pcs50epoch311_subcluster_all/cytokeratin/umapgraph_umapki67_log_Breast tissue_outduct.png\n",
      "--> added 'pos', the PAGA positions (adata.uns['paga'])\n",
      "WARNING: saving figure to file /media/xinyi/dcis2idc/plots/cnnvaeexp0/cluster_valsamples_reordered/minibatchkmean_ncluster8n_pcs50epoch311_subcluster_all/cytokeratin/pagagraphki67_log_Cancer adjacent normal breast tissue_induct_allcells.png\n",
      "WARNING: saving figure to file /media/xinyi/dcis2idc/plots/cnnvaeexp0/cluster_valsamples_reordered/minibatchkmean_ncluster8n_pcs50epoch311_subcluster_all/cytokeratin/umapgraph_umapki67_log_Cancer adjacent normal breast tissue_induct.png\n",
      "--> added 'pos', the PAGA positions (adata.uns['paga'])\n",
      "WARNING: saving figure to file /media/xinyi/dcis2idc/plots/cnnvaeexp0/cluster_valsamples_reordered/minibatchkmean_ncluster8n_pcs50epoch311_subcluster_all/cytokeratin/pagagraphki67_log_Cancer adjacent normal breast tissue_outduct_allcells.png\n",
      "WARNING: saving figure to file /media/xinyi/dcis2idc/plots/cnnvaeexp0/cluster_valsamples_reordered/minibatchkmean_ncluster8n_pcs50epoch311_subcluster_all/cytokeratin/umapgraph_umapki67_log_Cancer adjacent normal breast tissue_outduct.png\n",
      "--> added 'pos', the PAGA positions (adata.uns['paga'])\n",
      "WARNING: saving figure to file /media/xinyi/dcis2idc/plots/cnnvaeexp0/cluster_valsamples_reordered/minibatchkmean_ncluster8n_pcs50epoch311_subcluster_all/cytokeratin/pagagraphki67_log_Ductal carcinoma in situ_induct_allcells.png\n",
      "WARNING: saving figure to file /media/xinyi/dcis2idc/plots/cnnvaeexp0/cluster_valsamples_reordered/minibatchkmean_ncluster8n_pcs50epoch311_subcluster_all/cytokeratin/umapgraph_umapki67_log_Ductal carcinoma in situ_induct.png\n"
     ]
    },
    {
     "name": "stdout",
     "output_type": "stream",
     "text": [
      "--> added 'pos', the PAGA positions (adata.uns['paga'])\n",
      "WARNING: saving figure to file /media/xinyi/dcis2idc/plots/cnnvaeexp0/cluster_valsamples_reordered/minibatchkmean_ncluster8n_pcs50epoch311_subcluster_all/cytokeratin/pagagraphki67_log_Ductal carcinoma in situ_outduct_allcells.png\n",
      "WARNING: saving figure to file /media/xinyi/dcis2idc/plots/cnnvaeexp0/cluster_valsamples_reordered/minibatchkmean_ncluster8n_pcs50epoch311_subcluster_all/cytokeratin/umapgraph_umapki67_log_Ductal carcinoma in situ_outduct.png\n",
      "--> added 'pos', the PAGA positions (adata.uns['paga'])\n",
      "WARNING: saving figure to file /media/xinyi/dcis2idc/plots/cnnvaeexp0/cluster_valsamples_reordered/minibatchkmean_ncluster8n_pcs50epoch311_subcluster_all/cytokeratin/pagagraphki67_log_Ductal carcinoma in situ and breast tissue_induct_allcells.png\n",
      "WARNING: saving figure to file /media/xinyi/dcis2idc/plots/cnnvaeexp0/cluster_valsamples_reordered/minibatchkmean_ncluster8n_pcs50epoch311_subcluster_all/cytokeratin/umapgraph_umapki67_log_Ductal carcinoma in situ and breast tissue_induct.png\n",
      "--> added 'pos', the PAGA positions (adata.uns['paga'])\n",
      "WARNING: saving figure to file /media/xinyi/dcis2idc/plots/cnnvaeexp0/cluster_valsamples_reordered/minibatchkmean_ncluster8n_pcs50epoch311_subcluster_all/cytokeratin/pagagraphki67_log_Ductal carcinoma in situ and breast tissue_outduct_allcells.png\n",
      "WARNING: saving figure to file /media/xinyi/dcis2idc/plots/cnnvaeexp0/cluster_valsamples_reordered/minibatchkmean_ncluster8n_pcs50epoch311_subcluster_all/cytokeratin/umapgraph_umapki67_log_Ductal carcinoma in situ and breast tissue_outduct.png\n",
      "--> added 'pos', the PAGA positions (adata.uns['paga'])\n",
      "WARNING: saving figure to file /media/xinyi/dcis2idc/plots/cnnvaeexp0/cluster_valsamples_reordered/minibatchkmean_ncluster8n_pcs50epoch311_subcluster_all/cytokeratin/pagagraphki67_log_Ductal carcinoma in situ with early infiltrati_induct_allcells.png\n",
      "WARNING: saving figure to file /media/xinyi/dcis2idc/plots/cnnvaeexp0/cluster_valsamples_reordered/minibatchkmean_ncluster8n_pcs50epoch311_subcluster_all/cytokeratin/umapgraph_umapki67_log_Ductal carcinoma in situ with early infiltrati_induct.png\n",
      "--> added 'pos', the PAGA positions (adata.uns['paga'])\n",
      "WARNING: saving figure to file /media/xinyi/dcis2idc/plots/cnnvaeexp0/cluster_valsamples_reordered/minibatchkmean_ncluster8n_pcs50epoch311_subcluster_all/cytokeratin/pagagraphki67_log_Ductal carcinoma in situ with early infiltrati_outduct_allcells.png\n",
      "WARNING: saving figure to file /media/xinyi/dcis2idc/plots/cnnvaeexp0/cluster_valsamples_reordered/minibatchkmean_ncluster8n_pcs50epoch311_subcluster_all/cytokeratin/umapgraph_umapki67_log_Ductal carcinoma in situ with early infiltrati_outduct.png\n",
      "--> added 'pos', the PAGA positions (adata.uns['paga'])\n",
      "WARNING: saving figure to file /media/xinyi/dcis2idc/plots/cnnvaeexp0/cluster_valsamples_reordered/minibatchkmean_ncluster8n_pcs50epoch311_subcluster_all/cytokeratin/pagagraphki67_log_Hyperplasia_induct_allcells.png\n",
      "WARNING: saving figure to file /media/xinyi/dcis2idc/plots/cnnvaeexp0/cluster_valsamples_reordered/minibatchkmean_ncluster8n_pcs50epoch311_subcluster_all/cytokeratin/umapgraph_umapki67_log_Hyperplasia_induct.png\n",
      "--> added 'pos', the PAGA positions (adata.uns['paga'])\n",
      "WARNING: saving figure to file /media/xinyi/dcis2idc/plots/cnnvaeexp0/cluster_valsamples_reordered/minibatchkmean_ncluster8n_pcs50epoch311_subcluster_all/cytokeratin/pagagraphki67_log_Hyperplasia_outduct_allcells.png\n",
      "WARNING: saving figure to file /media/xinyi/dcis2idc/plots/cnnvaeexp0/cluster_valsamples_reordered/minibatchkmean_ncluster8n_pcs50epoch311_subcluster_all/cytokeratin/umapgraph_umapki67_log_Hyperplasia_outduct.png\n",
      "--> added 'pos', the PAGA positions (adata.uns['paga'])\n",
      "WARNING: saving figure to file /media/xinyi/dcis2idc/plots/cnnvaeexp0/cluster_valsamples_reordered/minibatchkmean_ncluster8n_pcs50epoch311_subcluster_all/cytokeratin/pagagraphki67_log_Hyperplasia with saccular dilatation_induct_allcells.png\n",
      "WARNING: saving figure to file /media/xinyi/dcis2idc/plots/cnnvaeexp0/cluster_valsamples_reordered/minibatchkmean_ncluster8n_pcs50epoch311_subcluster_all/cytokeratin/umapgraph_umapki67_log_Hyperplasia with saccular dilatation_induct.png\n",
      "--> added 'pos', the PAGA positions (adata.uns['paga'])\n",
      "WARNING: saving figure to file /media/xinyi/dcis2idc/plots/cnnvaeexp0/cluster_valsamples_reordered/minibatchkmean_ncluster8n_pcs50epoch311_subcluster_all/cytokeratin/pagagraphki67_log_Hyperplasia with saccular dilatation_outduct_allcells.png\n",
      "WARNING: saving figure to file /media/xinyi/dcis2idc/plots/cnnvaeexp0/cluster_valsamples_reordered/minibatchkmean_ncluster8n_pcs50epoch311_subcluster_all/cytokeratin/umapgraph_umapki67_log_Hyperplasia with saccular dilatation_outduct.png\n",
      "--> added 'pos', the PAGA positions (adata.uns['paga'])\n",
      "WARNING: saving figure to file /media/xinyi/dcis2idc/plots/cnnvaeexp0/cluster_valsamples_reordered/minibatchkmean_ncluster8n_pcs50epoch311_subcluster_all/cytokeratin/pagagraphki67_log_Invasive ductal carcinoma_induct_allcells.png\n",
      "WARNING: saving figure to file /media/xinyi/dcis2idc/plots/cnnvaeexp0/cluster_valsamples_reordered/minibatchkmean_ncluster8n_pcs50epoch311_subcluster_all/cytokeratin/umapgraph_umapki67_log_Invasive ductal carcinoma_induct.png\n",
      "--> added 'pos', the PAGA positions (adata.uns['paga'])\n",
      "WARNING: saving figure to file /media/xinyi/dcis2idc/plots/cnnvaeexp0/cluster_valsamples_reordered/minibatchkmean_ncluster8n_pcs50epoch311_subcluster_all/cytokeratin/pagagraphki67_log_Invasive ductal carcinoma_outduct_allcells.png\n",
      "WARNING: saving figure to file /media/xinyi/dcis2idc/plots/cnnvaeexp0/cluster_valsamples_reordered/minibatchkmean_ncluster8n_pcs50epoch311_subcluster_all/cytokeratin/umapgraph_umapki67_log_Invasive ductal carcinoma_outduct.png\n",
      "--> added 'pos', the PAGA positions (adata.uns['paga'])\n",
      "WARNING: saving figure to file /media/xinyi/dcis2idc/plots/cnnvaeexp0/cluster_valsamples_reordered/minibatchkmean_ncluster8n_pcs50epoch311_subcluster_all/cytokeratin/pagagraphki67_log_Invasive ductal carcinoma (breast tissue)_induct_allcells.png\n",
      "WARNING: saving figure to file /media/xinyi/dcis2idc/plots/cnnvaeexp0/cluster_valsamples_reordered/minibatchkmean_ncluster8n_pcs50epoch311_subcluster_all/cytokeratin/umapgraph_umapki67_log_Invasive ductal carcinoma (breast tissue)_induct.png\n",
      "--> added 'pos', the PAGA positions (adata.uns['paga'])\n",
      "WARNING: saving figure to file /media/xinyi/dcis2idc/plots/cnnvaeexp0/cluster_valsamples_reordered/minibatchkmean_ncluster8n_pcs50epoch311_subcluster_all/cytokeratin/pagagraphki67_log_Invasive ductal carcinoma (breast tissue)_outduct_allcells.png\n",
      "WARNING: saving figure to file /media/xinyi/dcis2idc/plots/cnnvaeexp0/cluster_valsamples_reordered/minibatchkmean_ncluster8n_pcs50epoch311_subcluster_all/cytokeratin/umapgraph_umapki67_log_Invasive ductal carcinoma (breast tissue)_outduct.png\n",
      "--> added 'pos', the PAGA positions (adata.uns['paga'])\n",
      "WARNING: saving figure to file /media/xinyi/dcis2idc/plots/cnnvaeexp0/cluster_valsamples_reordered/minibatchkmean_ncluster8n_pcs50epoch311_subcluster_all/cytokeratin/pagagraphki67_log_Invasive ductal carcinoma and breast tissue_induct_allcells.png\n",
      "WARNING: saving figure to file /media/xinyi/dcis2idc/plots/cnnvaeexp0/cluster_valsamples_reordered/minibatchkmean_ncluster8n_pcs50epoch311_subcluster_all/cytokeratin/umapgraph_umapki67_log_Invasive ductal carcinoma and breast tissue_induct.png\n",
      "--> added 'pos', the PAGA positions (adata.uns['paga'])\n",
      "WARNING: saving figure to file /media/xinyi/dcis2idc/plots/cnnvaeexp0/cluster_valsamples_reordered/minibatchkmean_ncluster8n_pcs50epoch311_subcluster_all/cytokeratin/pagagraphki67_log_Invasive ductal carcinoma and breast tissue_outduct_allcells.png\n",
      "WARNING: saving figure to file /media/xinyi/dcis2idc/plots/cnnvaeexp0/cluster_valsamples_reordered/minibatchkmean_ncluster8n_pcs50epoch311_subcluster_all/cytokeratin/umapgraph_umapki67_log_Invasive ductal carcinoma and breast tissue_outduct.png\n",
      "--> added 'pos', the PAGA positions (adata.uns['paga'])\n",
      "WARNING: saving figure to file /media/xinyi/dcis2idc/plots/cnnvaeexp0/cluster_valsamples_reordered/minibatchkmean_ncluster8n_pcs50epoch311_subcluster_all/cytokeratin/pagagraphki67_log_Micropapillary type ductal carcinoma in situ w_induct_allcells.png\n"
     ]
    },
    {
     "name": "stdout",
     "output_type": "stream",
     "text": [
      "WARNING: saving figure to file /media/xinyi/dcis2idc/plots/cnnvaeexp0/cluster_valsamples_reordered/minibatchkmean_ncluster8n_pcs50epoch311_subcluster_all/cytokeratin/umapgraph_umapki67_log_Micropapillary type ductal carcinoma in situ w_induct.png\n",
      "--> added 'pos', the PAGA positions (adata.uns['paga'])\n",
      "WARNING: saving figure to file /media/xinyi/dcis2idc/plots/cnnvaeexp0/cluster_valsamples_reordered/minibatchkmean_ncluster8n_pcs50epoch311_subcluster_all/cytokeratin/pagagraphki67_log_Micropapillary type ductal carcinoma in situ w_outduct_allcells.png\n",
      "WARNING: saving figure to file /media/xinyi/dcis2idc/plots/cnnvaeexp0/cluster_valsamples_reordered/minibatchkmean_ncluster8n_pcs50epoch311_subcluster_all/cytokeratin/umapgraph_umapki67_log_Micropapillary type ductal carcinoma in situ w_outduct.png\n"
     ]
    }
   ],
   "source": [
    "#by pathology -- separate by in vs out of duct\n",
    "#changed paga plotting function to enable vmax and vmin\n",
    "#add single cell plots & use all cells -- use previously calculated graph in combined subcluster (neighbors=4)\n",
    "#log scale\n",
    "#thresh=1\n",
    "# nneighbors_list=[4,10] \n",
    "latent_adata.obs['prog']=progList\n",
    "vminlist={'aSMA':5.3,'collagen1':6.3,'cytokeratin':6.35,'gh2ax':5.1,'ki67':5.8}\n",
    "vmaxlist={'aSMA':7.4,'collagen1':8.15,'cytokeratin':8.5,'gh2ax':7.55,'ki67':8.65}\n",
    "for v in np.unique(allvarnames):\n",
    "    vmin=vminlist[v]\n",
    "    vmax=vmaxlist[v]\n",
    "    for prog in np.unique(progList[np.isfinite(latent_adata.obs[v+'log'])]):\n",
    "        vprog=v+'_log_'+prog+'_induct'\n",
    "        plotidx=allidx[np.logical_and(allvarnames==v,allstats_duct>0)]\n",
    "        protvalues=np.repeat(np.nan,latent_adata.shape[0])\n",
    "        protvalues[plotidx]=np.log(allstats[np.logical_and(allvarnames==v,allstats_duct>0),0]+1)\n",
    "        protvalues[latent_adata.obs['prog']!=prog]=np.nan\n",
    "        latent_adata.obs[vprog]=protvalues\n",
    "\n",
    "        sc.settings.figdir=os.path.join(subclusterplotdir,'cytokeratin')\n",
    "\n",
    "        sc.pl.paga(latent_adata, color=[vprog],pos=trainPagaPos,save='graph'+vprog+'_allcells.png',show=False,random_state=6,vmin=vmin,vmax=vmax,cmap='jet')\n",
    "#         sc.tl.umap(latent_adata, init_pos='paga')\n",
    "        sc.pl.umap(latent_adata,color=[vprog],legend_loc='on data',save='graph_umap'+vprog+'.png',show=False,size=3,vmin=vmin,vmax=vmax,cmap='jet')\n",
    "\n",
    "        vprog=v+'_log_'+prog+'_outduct'\n",
    "        plotidx=allidx[np.logical_and(allvarnames==v,allstats_duct==0)]\n",
    "        protvalues=np.repeat(np.nan,latent_adata.shape[0])\n",
    "        protvalues[plotidx]=np.log(allstats[np.logical_and(allvarnames==v,allstats_duct==0),0]+1)\n",
    "        protvalues[latent_adata.obs['prog']!=prog]=np.nan\n",
    "        latent_adata.obs[vprog]=protvalues\n",
    "\n",
    "        sc.settings.figdir=os.path.join(subclusterplotdir,'cytokeratin')\n",
    "\n",
    "        sc.pl.paga(latent_adata, color=[vprog],pos=trainPagaPos,save='graph'+vprog+'_allcells.png',show=False,random_state=6,vmin=vmin,vmax=vmax,cmap='jet')\n",
    "#         sc.tl.umap(latent_adata, init_pos='paga')\n",
    "        sc.pl.umap(latent_adata,color=[vprog],legend_loc='on data',save='graph_umap'+vprog+'.png',show=False,size=3,vmin=vmin,vmax=vmax,cmap='jet')\n",
    "\n",
    "\n"
   ]
  },
  {
   "cell_type": "code",
   "execution_count": 21,
   "metadata": {},
   "outputs": [
    {
     "data": {
      "text/plain": [
       "0"
      ]
     },
     "execution_count": 21,
     "metadata": {},
     "output_type": "execute_result"
    }
   ],
   "source": [
    "gc.collect()"
   ]
  },
  {
   "cell_type": "markdown",
   "metadata": {},
   "source": [
    "### threshold protein"
   ]
  },
  {
   "cell_type": "code",
   "execution_count": 22,
   "metadata": {},
   "outputs": [],
   "source": [
    "minCell=5"
   ]
  },
  {
   "cell_type": "code",
   "execution_count": 34,
   "metadata": {},
   "outputs": [],
   "source": [
    "allstatslog_std1=np.log(allstats[:,2]+1)\n",
    "for v in np.unique(allvarnames):\n",
    "    meanProt=np.mean(np.log(allstats[allvarnames==v,2]+1)) #mean\n",
    "    stdProt=np.std(np.log(allstats[allvarnames==v,2]+1))\n",
    "    zeroIdx=np.arange(allvarnames.shape[0])[allvarnames==v][allstatslog_std1[allvarnames==v]<(meanProt+stdProt)]\n",
    "    allstatslog_std1[zeroIdx]=0\n",
    "    \n",
    "    plotidx=allidx[allvarnames==v]\n",
    "    protvalues=np.repeat(np.nan,latent_adata.shape[0])\n",
    "    protvalues[plotidx]=allstatslog_std1[allvarnames==v]\n",
    "    latent_adata.obs[v+'log']=protvalues"
   ]
  },
  {
   "cell_type": "code",
   "execution_count": 29,
   "metadata": {},
   "outputs": [
    {
     "name": "stderr",
     "output_type": "stream",
     "text": [
      "/home/xinyi/.local/lib/python3.8/site-packages/anndata/compat/_overloaded_dict.py:106: ImplicitModificationWarning: Trying to modify attribute `._uns` of view, initializing view as actual.\n",
      "  self.data[key] = value\n"
     ]
    },
    {
     "name": "stdout",
     "output_type": "stream",
     "text": [
      "--> added 'pos', the PAGA positions (adata.uns['paga'])\n",
      "WARNING: saving figure to file /media/xinyi/dcis2idc/plots/cnnvaeexp0/cluster_valsamples_reordered/minibatchkmean_ncluster8n_pcs50epoch311_subcluster_all/pagagraphcytokeratin_allcells_log.png\n",
      "WARNING: saving figure to file /media/xinyi/dcis2idc/plots/cnnvaeexp0/cluster_valsamples_reordered/minibatchkmean_ncluster8n_pcs50epoch311_subcluster_all/umapgraph_umapcytokeratin_log.png\n"
     ]
    },
    {
     "name": "stderr",
     "output_type": "stream",
     "text": [
      "/home/xinyi/.local/lib/python3.8/site-packages/anndata/compat/_overloaded_dict.py:106: ImplicitModificationWarning: Trying to modify attribute `._uns` of view, initializing view as actual.\n",
      "  self.data[key] = value\n"
     ]
    },
    {
     "name": "stdout",
     "output_type": "stream",
     "text": [
      "--> added 'pos', the PAGA positions (adata.uns['paga'])\n",
      "WARNING: saving figure to file /media/xinyi/dcis2idc/plots/cnnvaeexp0/cluster_valsamples_reordered/minibatchkmean_ncluster8n_pcs50epoch311_subcluster_all/pagagraphki67_allcells_log.png\n",
      "WARNING: saving figure to file /media/xinyi/dcis2idc/plots/cnnvaeexp0/cluster_valsamples_reordered/minibatchkmean_ncluster8n_pcs50epoch311_subcluster_all/umapgraph_umapki67_log.png\n"
     ]
    },
    {
     "data": {
      "text/plain": [
       "4359"
      ]
     },
     "execution_count": 29,
     "metadata": {},
     "output_type": "execute_result"
    }
   ],
   "source": [
    "#add single cell plots & use all cells -- use previously calculated graph in combined subcluster (neighbors=4)\n",
    "#log scale\n",
    "#thresh=1\n",
    "# nneighbors_list=[4,10] \n",
    "# sc.tl.umap(latent_adata, init_pos='paga')\n",
    "for v in np.unique(allvarnames):\n",
    "\n",
    "    sc.settings.figdir=os.path.join(subclusterplotdir)\n",
    "    \n",
    "    latent_adata_sub=latent_adata[np.isfinite(latent_adata.obs[v+'log'])]\n",
    "    latent_adata_sub.uns['kmeans_sub_sizes']=np.unique(latent_adata_sub.obs['kmeans_sub'],return_counts=True)[1]\n",
    "    sc.pl.paga(latent_adata_sub, color=[v+'log'],pos=trainPagaPos,node_size_power=1,fontoutline=0.5,save='graph'+v+'_allcells_log.png',show=False,random_state=6)\n",
    "    sc.pl.umap(latent_adata_sub,color=[v+'log'],legend_loc='on data',save='graph_umap'+v+'_log.png',show=False,size=3)\n",
    "\n",
    "gc.collect() \n",
    "\n",
    "\n"
   ]
  },
  {
   "cell_type": "code",
   "execution_count": 35,
   "metadata": {},
   "outputs": [],
   "source": [
    "#%cells with positive expression\n",
    "\n",
    "for v in np.unique(allvarnames):\n",
    "    protvalues=latent_adata.obs[v+'log'].to_numpy(copy=True)\n",
    "    protvalues[protvalues>0]=1\n",
    "    latent_adata.obs[v+'binary']=protvalues\n",
    "\n",
    "    sc.settings.figdir=os.path.join(subclusterplotdir)\n",
    "    \n",
    "    latent_adata_sub=latent_adata[np.isfinite(latent_adata.obs[v+'log'])]\n",
    "    latent_adata_sub.uns['kmeans_sub_sizes']=np.unique(latent_adata_sub.obs['kmeans_sub'],return_counts=True)[1]\n",
    "    sc.pl.paga(latent_adata_sub, color=[v+'binary'],pos=trainPagaPos,node_size_power=1,fontoutline=0.5,save='graph'+v+'_allcells_PosFrac.png',show=False,random_state=6)\n",
    "gc.collect()"
   ]
  },
  {
   "cell_type": "code",
   "execution_count": 40,
   "metadata": {
    "scrolled": true
   },
   "outputs": [
    {
     "name": "stderr",
     "output_type": "stream",
     "text": [
      "/home/xinyi/.local/lib/python3.8/site-packages/anndata/compat/_overloaded_dict.py:106: ImplicitModificationWarning: Trying to modify attribute `._uns` of view, initializing view as actual.\n",
      "  self.data[key] = value\n"
     ]
    },
    {
     "name": "stdout",
     "output_type": "stream",
     "text": [
      "--> added 'pos', the PAGA positions (adata.uns['paga'])\n",
      "WARNING: saving figure to file /media/xinyi/dcis2idc/plots/cnnvaeexp0/cluster_valsamples_reordered/minibatchkmean_ncluster8n_pcs50epoch311_subcluster_all/cytokeratin/pagagraphcytokeratin_log_Atypical hyperplasia_allcells.png\n",
      "WARNING: saving figure to file /media/xinyi/dcis2idc/plots/cnnvaeexp0/cluster_valsamples_reordered/minibatchkmean_ncluster8n_pcs50epoch311_subcluster_all/cytokeratin/umapgraph_umapcytokeratin_log_Atypical hyperplasia.png\n",
      "--> added 'pos', the PAGA positions (adata.uns['paga'])\n",
      "WARNING: saving figure to file /media/xinyi/dcis2idc/plots/cnnvaeexp0/cluster_valsamples_reordered/minibatchkmean_ncluster8n_pcs50epoch311_subcluster_all/cytokeratin/pagagraphcytokeratin_log_Atypical hyperplasia_allcells_PosFrac.png\n"
     ]
    },
    {
     "name": "stderr",
     "output_type": "stream",
     "text": [
      "/home/xinyi/.local/lib/python3.8/site-packages/anndata/compat/_overloaded_dict.py:106: ImplicitModificationWarning: Trying to modify attribute `._uns` of view, initializing view as actual.\n",
      "  self.data[key] = value\n"
     ]
    },
    {
     "name": "stdout",
     "output_type": "stream",
     "text": [
      "--> added 'pos', the PAGA positions (adata.uns['paga'])\n",
      "WARNING: saving figure to file /media/xinyi/dcis2idc/plots/cnnvaeexp0/cluster_valsamples_reordered/minibatchkmean_ncluster8n_pcs50epoch311_subcluster_all/cytokeratin/pagagraphcytokeratin_log_Breast tissue_allcells.png\n",
      "WARNING: saving figure to file /media/xinyi/dcis2idc/plots/cnnvaeexp0/cluster_valsamples_reordered/minibatchkmean_ncluster8n_pcs50epoch311_subcluster_all/cytokeratin/umapgraph_umapcytokeratin_log_Breast tissue.png\n",
      "--> added 'pos', the PAGA positions (adata.uns['paga'])\n",
      "WARNING: saving figure to file /media/xinyi/dcis2idc/plots/cnnvaeexp0/cluster_valsamples_reordered/minibatchkmean_ncluster8n_pcs50epoch311_subcluster_all/cytokeratin/pagagraphcytokeratin_log_Breast tissue_allcells_PosFrac.png\n"
     ]
    },
    {
     "name": "stderr",
     "output_type": "stream",
     "text": [
      "/home/xinyi/.local/lib/python3.8/site-packages/anndata/compat/_overloaded_dict.py:106: ImplicitModificationWarning: Trying to modify attribute `._uns` of view, initializing view as actual.\n",
      "  self.data[key] = value\n"
     ]
    },
    {
     "name": "stdout",
     "output_type": "stream",
     "text": [
      "--> added 'pos', the PAGA positions (adata.uns['paga'])\n",
      "WARNING: saving figure to file /media/xinyi/dcis2idc/plots/cnnvaeexp0/cluster_valsamples_reordered/minibatchkmean_ncluster8n_pcs50epoch311_subcluster_all/cytokeratin/pagagraphcytokeratin_log_Cancer adjacent normal breast tissue_allcells.png\n",
      "WARNING: saving figure to file /media/xinyi/dcis2idc/plots/cnnvaeexp0/cluster_valsamples_reordered/minibatchkmean_ncluster8n_pcs50epoch311_subcluster_all/cytokeratin/umapgraph_umapcytokeratin_log_Cancer adjacent normal breast tissue.png\n",
      "--> added 'pos', the PAGA positions (adata.uns['paga'])\n",
      "WARNING: saving figure to file /media/xinyi/dcis2idc/plots/cnnvaeexp0/cluster_valsamples_reordered/minibatchkmean_ncluster8n_pcs50epoch311_subcluster_all/cytokeratin/pagagraphcytokeratin_log_Cancer adjacent normal breast tissue_allcells_PosFrac.png\n"
     ]
    },
    {
     "name": "stderr",
     "output_type": "stream",
     "text": [
      "/home/xinyi/.local/lib/python3.8/site-packages/anndata/compat/_overloaded_dict.py:106: ImplicitModificationWarning: Trying to modify attribute `._uns` of view, initializing view as actual.\n",
      "  self.data[key] = value\n"
     ]
    },
    {
     "name": "stdout",
     "output_type": "stream",
     "text": [
      "--> added 'pos', the PAGA positions (adata.uns['paga'])\n",
      "WARNING: saving figure to file /media/xinyi/dcis2idc/plots/cnnvaeexp0/cluster_valsamples_reordered/minibatchkmean_ncluster8n_pcs50epoch311_subcluster_all/cytokeratin/pagagraphcytokeratin_log_Ductal carcinoma in situ_allcells.png\n",
      "WARNING: saving figure to file /media/xinyi/dcis2idc/plots/cnnvaeexp0/cluster_valsamples_reordered/minibatchkmean_ncluster8n_pcs50epoch311_subcluster_all/cytokeratin/umapgraph_umapcytokeratin_log_Ductal carcinoma in situ.png\n",
      "--> added 'pos', the PAGA positions (adata.uns['paga'])\n",
      "WARNING: saving figure to file /media/xinyi/dcis2idc/plots/cnnvaeexp0/cluster_valsamples_reordered/minibatchkmean_ncluster8n_pcs50epoch311_subcluster_all/cytokeratin/pagagraphcytokeratin_log_Ductal carcinoma in situ_allcells_PosFrac.png\n"
     ]
    },
    {
     "name": "stderr",
     "output_type": "stream",
     "text": [
      "/home/xinyi/.local/lib/python3.8/site-packages/anndata/compat/_overloaded_dict.py:106: ImplicitModificationWarning: Trying to modify attribute `._uns` of view, initializing view as actual.\n",
      "  self.data[key] = value\n"
     ]
    },
    {
     "name": "stdout",
     "output_type": "stream",
     "text": [
      "--> added 'pos', the PAGA positions (adata.uns['paga'])\n",
      "WARNING: saving figure to file /media/xinyi/dcis2idc/plots/cnnvaeexp0/cluster_valsamples_reordered/minibatchkmean_ncluster8n_pcs50epoch311_subcluster_all/cytokeratin/pagagraphcytokeratin_log_Ductal carcinoma in situ and breast tissue_allcells.png\n",
      "WARNING: saving figure to file /media/xinyi/dcis2idc/plots/cnnvaeexp0/cluster_valsamples_reordered/minibatchkmean_ncluster8n_pcs50epoch311_subcluster_all/cytokeratin/umapgraph_umapcytokeratin_log_Ductal carcinoma in situ and breast tissue.png\n",
      "--> added 'pos', the PAGA positions (adata.uns['paga'])\n",
      "WARNING: saving figure to file /media/xinyi/dcis2idc/plots/cnnvaeexp0/cluster_valsamples_reordered/minibatchkmean_ncluster8n_pcs50epoch311_subcluster_all/cytokeratin/pagagraphcytokeratin_log_Ductal carcinoma in situ and breast tissue_allcells_PosFrac.png\n"
     ]
    },
    {
     "name": "stderr",
     "output_type": "stream",
     "text": [
      "/home/xinyi/.local/lib/python3.8/site-packages/anndata/compat/_overloaded_dict.py:106: ImplicitModificationWarning: Trying to modify attribute `._uns` of view, initializing view as actual.\n",
      "  self.data[key] = value\n"
     ]
    },
    {
     "name": "stdout",
     "output_type": "stream",
     "text": [
      "--> added 'pos', the PAGA positions (adata.uns['paga'])\n",
      "WARNING: saving figure to file /media/xinyi/dcis2idc/plots/cnnvaeexp0/cluster_valsamples_reordered/minibatchkmean_ncluster8n_pcs50epoch311_subcluster_all/cytokeratin/pagagraphcytokeratin_log_Ductal carcinoma in situ with early infiltrati_allcells.png\n",
      "WARNING: saving figure to file /media/xinyi/dcis2idc/plots/cnnvaeexp0/cluster_valsamples_reordered/minibatchkmean_ncluster8n_pcs50epoch311_subcluster_all/cytokeratin/umapgraph_umapcytokeratin_log_Ductal carcinoma in situ with early infiltrati.png\n",
      "--> added 'pos', the PAGA positions (adata.uns['paga'])\n",
      "WARNING: saving figure to file /media/xinyi/dcis2idc/plots/cnnvaeexp0/cluster_valsamples_reordered/minibatchkmean_ncluster8n_pcs50epoch311_subcluster_all/cytokeratin/pagagraphcytokeratin_log_Ductal carcinoma in situ with early infiltrati_allcells_PosFrac.png\n"
     ]
    },
    {
     "name": "stderr",
     "output_type": "stream",
     "text": [
      "/home/xinyi/.local/lib/python3.8/site-packages/anndata/compat/_overloaded_dict.py:106: ImplicitModificationWarning: Trying to modify attribute `._uns` of view, initializing view as actual.\n",
      "  self.data[key] = value\n"
     ]
    },
    {
     "name": "stdout",
     "output_type": "stream",
     "text": [
      "--> added 'pos', the PAGA positions (adata.uns['paga'])\n",
      "WARNING: saving figure to file /media/xinyi/dcis2idc/plots/cnnvaeexp0/cluster_valsamples_reordered/minibatchkmean_ncluster8n_pcs50epoch311_subcluster_all/cytokeratin/pagagraphcytokeratin_log_Hyperplasia_allcells.png\n",
      "WARNING: saving figure to file /media/xinyi/dcis2idc/plots/cnnvaeexp0/cluster_valsamples_reordered/minibatchkmean_ncluster8n_pcs50epoch311_subcluster_all/cytokeratin/umapgraph_umapcytokeratin_log_Hyperplasia.png\n",
      "--> added 'pos', the PAGA positions (adata.uns['paga'])\n",
      "WARNING: saving figure to file /media/xinyi/dcis2idc/plots/cnnvaeexp0/cluster_valsamples_reordered/minibatchkmean_ncluster8n_pcs50epoch311_subcluster_all/cytokeratin/pagagraphcytokeratin_log_Hyperplasia_allcells_PosFrac.png\n"
     ]
    },
    {
     "name": "stderr",
     "output_type": "stream",
     "text": [
      "/home/xinyi/.local/lib/python3.8/site-packages/anndata/compat/_overloaded_dict.py:106: ImplicitModificationWarning: Trying to modify attribute `._uns` of view, initializing view as actual.\n",
      "  self.data[key] = value\n"
     ]
    },
    {
     "name": "stdout",
     "output_type": "stream",
     "text": [
      "--> added 'pos', the PAGA positions (adata.uns['paga'])\n",
      "WARNING: saving figure to file /media/xinyi/dcis2idc/plots/cnnvaeexp0/cluster_valsamples_reordered/minibatchkmean_ncluster8n_pcs50epoch311_subcluster_all/cytokeratin/pagagraphcytokeratin_log_Hyperplasia with saccular dilatation_allcells.png\n",
      "WARNING: saving figure to file /media/xinyi/dcis2idc/plots/cnnvaeexp0/cluster_valsamples_reordered/minibatchkmean_ncluster8n_pcs50epoch311_subcluster_all/cytokeratin/umapgraph_umapcytokeratin_log_Hyperplasia with saccular dilatation.png\n",
      "--> added 'pos', the PAGA positions (adata.uns['paga'])\n",
      "WARNING: saving figure to file /media/xinyi/dcis2idc/plots/cnnvaeexp0/cluster_valsamples_reordered/minibatchkmean_ncluster8n_pcs50epoch311_subcluster_all/cytokeratin/pagagraphcytokeratin_log_Hyperplasia with saccular dilatation_allcells_PosFrac.png\n"
     ]
    },
    {
     "name": "stderr",
     "output_type": "stream",
     "text": [
      "/home/xinyi/.local/lib/python3.8/site-packages/anndata/compat/_overloaded_dict.py:106: ImplicitModificationWarning: Trying to modify attribute `._uns` of view, initializing view as actual.\n",
      "  self.data[key] = value\n"
     ]
    },
    {
     "name": "stdout",
     "output_type": "stream",
     "text": [
      "--> added 'pos', the PAGA positions (adata.uns['paga'])\n",
      "WARNING: saving figure to file /media/xinyi/dcis2idc/plots/cnnvaeexp0/cluster_valsamples_reordered/minibatchkmean_ncluster8n_pcs50epoch311_subcluster_all/cytokeratin/pagagraphcytokeratin_log_Invasive ductal carcinoma_allcells.png\n",
      "WARNING: saving figure to file /media/xinyi/dcis2idc/plots/cnnvaeexp0/cluster_valsamples_reordered/minibatchkmean_ncluster8n_pcs50epoch311_subcluster_all/cytokeratin/umapgraph_umapcytokeratin_log_Invasive ductal carcinoma.png\n",
      "--> added 'pos', the PAGA positions (adata.uns['paga'])\n",
      "WARNING: saving figure to file /media/xinyi/dcis2idc/plots/cnnvaeexp0/cluster_valsamples_reordered/minibatchkmean_ncluster8n_pcs50epoch311_subcluster_all/cytokeratin/pagagraphcytokeratin_log_Invasive ductal carcinoma_allcells_PosFrac.png\n"
     ]
    },
    {
     "name": "stderr",
     "output_type": "stream",
     "text": [
      "/home/xinyi/.local/lib/python3.8/site-packages/anndata/compat/_overloaded_dict.py:106: ImplicitModificationWarning: Trying to modify attribute `._uns` of view, initializing view as actual.\n",
      "  self.data[key] = value\n"
     ]
    },
    {
     "name": "stdout",
     "output_type": "stream",
     "text": [
      "--> added 'pos', the PAGA positions (adata.uns['paga'])\n",
      "WARNING: saving figure to file /media/xinyi/dcis2idc/plots/cnnvaeexp0/cluster_valsamples_reordered/minibatchkmean_ncluster8n_pcs50epoch311_subcluster_all/cytokeratin/pagagraphcytokeratin_log_Invasive ductal carcinoma (breast tissue)_allcells.png\n",
      "WARNING: saving figure to file /media/xinyi/dcis2idc/plots/cnnvaeexp0/cluster_valsamples_reordered/minibatchkmean_ncluster8n_pcs50epoch311_subcluster_all/cytokeratin/umapgraph_umapcytokeratin_log_Invasive ductal carcinoma (breast tissue).png\n",
      "--> added 'pos', the PAGA positions (adata.uns['paga'])\n",
      "WARNING: saving figure to file /media/xinyi/dcis2idc/plots/cnnvaeexp0/cluster_valsamples_reordered/minibatchkmean_ncluster8n_pcs50epoch311_subcluster_all/cytokeratin/pagagraphcytokeratin_log_Invasive ductal carcinoma (breast tissue)_allcells_PosFrac.png\n"
     ]
    },
    {
     "name": "stderr",
     "output_type": "stream",
     "text": [
      "/home/xinyi/.local/lib/python3.8/site-packages/anndata/compat/_overloaded_dict.py:106: ImplicitModificationWarning: Trying to modify attribute `._uns` of view, initializing view as actual.\n",
      "  self.data[key] = value\n"
     ]
    },
    {
     "name": "stdout",
     "output_type": "stream",
     "text": [
      "--> added 'pos', the PAGA positions (adata.uns['paga'])\n",
      "WARNING: saving figure to file /media/xinyi/dcis2idc/plots/cnnvaeexp0/cluster_valsamples_reordered/minibatchkmean_ncluster8n_pcs50epoch311_subcluster_all/cytokeratin/pagagraphcytokeratin_log_Invasive ductal carcinoma and breast tissue_allcells.png\n",
      "WARNING: saving figure to file /media/xinyi/dcis2idc/plots/cnnvaeexp0/cluster_valsamples_reordered/minibatchkmean_ncluster8n_pcs50epoch311_subcluster_all/cytokeratin/umapgraph_umapcytokeratin_log_Invasive ductal carcinoma and breast tissue.png\n",
      "--> added 'pos', the PAGA positions (adata.uns['paga'])\n",
      "WARNING: saving figure to file /media/xinyi/dcis2idc/plots/cnnvaeexp0/cluster_valsamples_reordered/minibatchkmean_ncluster8n_pcs50epoch311_subcluster_all/cytokeratin/pagagraphcytokeratin_log_Invasive ductal carcinoma and breast tissue_allcells_PosFrac.png\n"
     ]
    },
    {
     "name": "stderr",
     "output_type": "stream",
     "text": [
      "/home/xinyi/.local/lib/python3.8/site-packages/anndata/compat/_overloaded_dict.py:106: ImplicitModificationWarning: Trying to modify attribute `._uns` of view, initializing view as actual.\n",
      "  self.data[key] = value\n"
     ]
    },
    {
     "name": "stdout",
     "output_type": "stream",
     "text": [
      "--> added 'pos', the PAGA positions (adata.uns['paga'])\n",
      "WARNING: saving figure to file /media/xinyi/dcis2idc/plots/cnnvaeexp0/cluster_valsamples_reordered/minibatchkmean_ncluster8n_pcs50epoch311_subcluster_all/cytokeratin/pagagraphcytokeratin_log_Micropapillary type ductal carcinoma in situ w_allcells.png\n",
      "WARNING: saving figure to file /media/xinyi/dcis2idc/plots/cnnvaeexp0/cluster_valsamples_reordered/minibatchkmean_ncluster8n_pcs50epoch311_subcluster_all/cytokeratin/umapgraph_umapcytokeratin_log_Micropapillary type ductal carcinoma in situ w.png\n",
      "--> added 'pos', the PAGA positions (adata.uns['paga'])\n",
      "WARNING: saving figure to file /media/xinyi/dcis2idc/plots/cnnvaeexp0/cluster_valsamples_reordered/minibatchkmean_ncluster8n_pcs50epoch311_subcluster_all/cytokeratin/pagagraphcytokeratin_log_Micropapillary type ductal carcinoma in situ w_allcells_PosFrac.png\n"
     ]
    },
    {
     "name": "stderr",
     "output_type": "stream",
     "text": [
      "/home/xinyi/.local/lib/python3.8/site-packages/anndata/compat/_overloaded_dict.py:106: ImplicitModificationWarning: Trying to modify attribute `._uns` of view, initializing view as actual.\n",
      "  self.data[key] = value\n"
     ]
    },
    {
     "name": "stdout",
     "output_type": "stream",
     "text": [
      "--> added 'pos', the PAGA positions (adata.uns['paga'])\n",
      "WARNING: saving figure to file /media/xinyi/dcis2idc/plots/cnnvaeexp0/cluster_valsamples_reordered/minibatchkmean_ncluster8n_pcs50epoch311_subcluster_all/ki67/pagagraphki67_log_Atypical hyperplasia_allcells.png\n",
      "WARNING: saving figure to file /media/xinyi/dcis2idc/plots/cnnvaeexp0/cluster_valsamples_reordered/minibatchkmean_ncluster8n_pcs50epoch311_subcluster_all/ki67/umapgraph_umapki67_log_Atypical hyperplasia.png\n",
      "--> added 'pos', the PAGA positions (adata.uns['paga'])\n",
      "WARNING: saving figure to file /media/xinyi/dcis2idc/plots/cnnvaeexp0/cluster_valsamples_reordered/minibatchkmean_ncluster8n_pcs50epoch311_subcluster_all/ki67/pagagraphki67_log_Atypical hyperplasia_allcells_PosFrac.png\n"
     ]
    },
    {
     "name": "stderr",
     "output_type": "stream",
     "text": [
      "/home/xinyi/.local/lib/python3.8/site-packages/anndata/compat/_overloaded_dict.py:106: ImplicitModificationWarning: Trying to modify attribute `._uns` of view, initializing view as actual.\n",
      "  self.data[key] = value\n"
     ]
    },
    {
     "name": "stdout",
     "output_type": "stream",
     "text": [
      "--> added 'pos', the PAGA positions (adata.uns['paga'])\n",
      "WARNING: saving figure to file /media/xinyi/dcis2idc/plots/cnnvaeexp0/cluster_valsamples_reordered/minibatchkmean_ncluster8n_pcs50epoch311_subcluster_all/ki67/pagagraphki67_log_Breast tissue_allcells.png\n",
      "WARNING: saving figure to file /media/xinyi/dcis2idc/plots/cnnvaeexp0/cluster_valsamples_reordered/minibatchkmean_ncluster8n_pcs50epoch311_subcluster_all/ki67/umapgraph_umapki67_log_Breast tissue.png\n",
      "--> added 'pos', the PAGA positions (adata.uns['paga'])\n",
      "WARNING: saving figure to file /media/xinyi/dcis2idc/plots/cnnvaeexp0/cluster_valsamples_reordered/minibatchkmean_ncluster8n_pcs50epoch311_subcluster_all/ki67/pagagraphki67_log_Breast tissue_allcells_PosFrac.png\n"
     ]
    },
    {
     "name": "stderr",
     "output_type": "stream",
     "text": [
      "/home/xinyi/.local/lib/python3.8/site-packages/anndata/compat/_overloaded_dict.py:106: ImplicitModificationWarning: Trying to modify attribute `._uns` of view, initializing view as actual.\n",
      "  self.data[key] = value\n"
     ]
    },
    {
     "name": "stdout",
     "output_type": "stream",
     "text": [
      "--> added 'pos', the PAGA positions (adata.uns['paga'])\n",
      "WARNING: saving figure to file /media/xinyi/dcis2idc/plots/cnnvaeexp0/cluster_valsamples_reordered/minibatchkmean_ncluster8n_pcs50epoch311_subcluster_all/ki67/pagagraphki67_log_Cancer adjacent normal breast tissue_allcells.png\n",
      "WARNING: saving figure to file /media/xinyi/dcis2idc/plots/cnnvaeexp0/cluster_valsamples_reordered/minibatchkmean_ncluster8n_pcs50epoch311_subcluster_all/ki67/umapgraph_umapki67_log_Cancer adjacent normal breast tissue.png\n",
      "--> added 'pos', the PAGA positions (adata.uns['paga'])\n",
      "WARNING: saving figure to file /media/xinyi/dcis2idc/plots/cnnvaeexp0/cluster_valsamples_reordered/minibatchkmean_ncluster8n_pcs50epoch311_subcluster_all/ki67/pagagraphki67_log_Cancer adjacent normal breast tissue_allcells_PosFrac.png\n"
     ]
    },
    {
     "name": "stderr",
     "output_type": "stream",
     "text": [
      "/home/xinyi/.local/lib/python3.8/site-packages/anndata/compat/_overloaded_dict.py:106: ImplicitModificationWarning: Trying to modify attribute `._uns` of view, initializing view as actual.\n",
      "  self.data[key] = value\n"
     ]
    },
    {
     "name": "stdout",
     "output_type": "stream",
     "text": [
      "--> added 'pos', the PAGA positions (adata.uns['paga'])\n",
      "WARNING: saving figure to file /media/xinyi/dcis2idc/plots/cnnvaeexp0/cluster_valsamples_reordered/minibatchkmean_ncluster8n_pcs50epoch311_subcluster_all/ki67/pagagraphki67_log_Ductal carcinoma in situ_allcells.png\n",
      "WARNING: saving figure to file /media/xinyi/dcis2idc/plots/cnnvaeexp0/cluster_valsamples_reordered/minibatchkmean_ncluster8n_pcs50epoch311_subcluster_all/ki67/umapgraph_umapki67_log_Ductal carcinoma in situ.png\n",
      "--> added 'pos', the PAGA positions (adata.uns['paga'])\n",
      "WARNING: saving figure to file /media/xinyi/dcis2idc/plots/cnnvaeexp0/cluster_valsamples_reordered/minibatchkmean_ncluster8n_pcs50epoch311_subcluster_all/ki67/pagagraphki67_log_Ductal carcinoma in situ_allcells_PosFrac.png\n"
     ]
    },
    {
     "name": "stderr",
     "output_type": "stream",
     "text": [
      "/home/xinyi/.local/lib/python3.8/site-packages/anndata/compat/_overloaded_dict.py:106: ImplicitModificationWarning: Trying to modify attribute `._uns` of view, initializing view as actual.\n",
      "  self.data[key] = value\n"
     ]
    },
    {
     "name": "stdout",
     "output_type": "stream",
     "text": [
      "--> added 'pos', the PAGA positions (adata.uns['paga'])\n",
      "WARNING: saving figure to file /media/xinyi/dcis2idc/plots/cnnvaeexp0/cluster_valsamples_reordered/minibatchkmean_ncluster8n_pcs50epoch311_subcluster_all/ki67/pagagraphki67_log_Ductal carcinoma in situ and breast tissue_allcells.png\n",
      "WARNING: saving figure to file /media/xinyi/dcis2idc/plots/cnnvaeexp0/cluster_valsamples_reordered/minibatchkmean_ncluster8n_pcs50epoch311_subcluster_all/ki67/umapgraph_umapki67_log_Ductal carcinoma in situ and breast tissue.png\n",
      "--> added 'pos', the PAGA positions (adata.uns['paga'])\n",
      "WARNING: saving figure to file /media/xinyi/dcis2idc/plots/cnnvaeexp0/cluster_valsamples_reordered/minibatchkmean_ncluster8n_pcs50epoch311_subcluster_all/ki67/pagagraphki67_log_Ductal carcinoma in situ and breast tissue_allcells_PosFrac.png\n"
     ]
    },
    {
     "name": "stderr",
     "output_type": "stream",
     "text": [
      "/home/xinyi/.local/lib/python3.8/site-packages/anndata/compat/_overloaded_dict.py:106: ImplicitModificationWarning: Trying to modify attribute `._uns` of view, initializing view as actual.\n",
      "  self.data[key] = value\n"
     ]
    },
    {
     "name": "stdout",
     "output_type": "stream",
     "text": [
      "--> added 'pos', the PAGA positions (adata.uns['paga'])\n",
      "WARNING: saving figure to file /media/xinyi/dcis2idc/plots/cnnvaeexp0/cluster_valsamples_reordered/minibatchkmean_ncluster8n_pcs50epoch311_subcluster_all/ki67/pagagraphki67_log_Ductal carcinoma in situ with early infiltrati_allcells.png\n",
      "WARNING: saving figure to file /media/xinyi/dcis2idc/plots/cnnvaeexp0/cluster_valsamples_reordered/minibatchkmean_ncluster8n_pcs50epoch311_subcluster_all/ki67/umapgraph_umapki67_log_Ductal carcinoma in situ with early infiltrati.png\n",
      "--> added 'pos', the PAGA positions (adata.uns['paga'])\n",
      "WARNING: saving figure to file /media/xinyi/dcis2idc/plots/cnnvaeexp0/cluster_valsamples_reordered/minibatchkmean_ncluster8n_pcs50epoch311_subcluster_all/ki67/pagagraphki67_log_Ductal carcinoma in situ with early infiltrati_allcells_PosFrac.png\n"
     ]
    },
    {
     "name": "stderr",
     "output_type": "stream",
     "text": [
      "/home/xinyi/.local/lib/python3.8/site-packages/anndata/compat/_overloaded_dict.py:106: ImplicitModificationWarning: Trying to modify attribute `._uns` of view, initializing view as actual.\n",
      "  self.data[key] = value\n"
     ]
    },
    {
     "name": "stdout",
     "output_type": "stream",
     "text": [
      "--> added 'pos', the PAGA positions (adata.uns['paga'])\n",
      "WARNING: saving figure to file /media/xinyi/dcis2idc/plots/cnnvaeexp0/cluster_valsamples_reordered/minibatchkmean_ncluster8n_pcs50epoch311_subcluster_all/ki67/pagagraphki67_log_Hyperplasia_allcells.png\n",
      "WARNING: saving figure to file /media/xinyi/dcis2idc/plots/cnnvaeexp0/cluster_valsamples_reordered/minibatchkmean_ncluster8n_pcs50epoch311_subcluster_all/ki67/umapgraph_umapki67_log_Hyperplasia.png\n",
      "--> added 'pos', the PAGA positions (adata.uns['paga'])\n",
      "WARNING: saving figure to file /media/xinyi/dcis2idc/plots/cnnvaeexp0/cluster_valsamples_reordered/minibatchkmean_ncluster8n_pcs50epoch311_subcluster_all/ki67/pagagraphki67_log_Hyperplasia_allcells_PosFrac.png\n"
     ]
    },
    {
     "name": "stderr",
     "output_type": "stream",
     "text": [
      "/home/xinyi/.local/lib/python3.8/site-packages/anndata/compat/_overloaded_dict.py:106: ImplicitModificationWarning: Trying to modify attribute `._uns` of view, initializing view as actual.\n",
      "  self.data[key] = value\n"
     ]
    },
    {
     "name": "stdout",
     "output_type": "stream",
     "text": [
      "--> added 'pos', the PAGA positions (adata.uns['paga'])\n",
      "WARNING: saving figure to file /media/xinyi/dcis2idc/plots/cnnvaeexp0/cluster_valsamples_reordered/minibatchkmean_ncluster8n_pcs50epoch311_subcluster_all/ki67/pagagraphki67_log_Hyperplasia with saccular dilatation_allcells.png\n",
      "WARNING: saving figure to file /media/xinyi/dcis2idc/plots/cnnvaeexp0/cluster_valsamples_reordered/minibatchkmean_ncluster8n_pcs50epoch311_subcluster_all/ki67/umapgraph_umapki67_log_Hyperplasia with saccular dilatation.png\n",
      "--> added 'pos', the PAGA positions (adata.uns['paga'])\n",
      "WARNING: saving figure to file /media/xinyi/dcis2idc/plots/cnnvaeexp0/cluster_valsamples_reordered/minibatchkmean_ncluster8n_pcs50epoch311_subcluster_all/ki67/pagagraphki67_log_Hyperplasia with saccular dilatation_allcells_PosFrac.png\n"
     ]
    },
    {
     "name": "stderr",
     "output_type": "stream",
     "text": [
      "/home/xinyi/.local/lib/python3.8/site-packages/anndata/compat/_overloaded_dict.py:106: ImplicitModificationWarning: Trying to modify attribute `._uns` of view, initializing view as actual.\n",
      "  self.data[key] = value\n"
     ]
    },
    {
     "name": "stdout",
     "output_type": "stream",
     "text": [
      "--> added 'pos', the PAGA positions (adata.uns['paga'])\n",
      "WARNING: saving figure to file /media/xinyi/dcis2idc/plots/cnnvaeexp0/cluster_valsamples_reordered/minibatchkmean_ncluster8n_pcs50epoch311_subcluster_all/ki67/pagagraphki67_log_Invasive ductal carcinoma_allcells.png\n",
      "WARNING: saving figure to file /media/xinyi/dcis2idc/plots/cnnvaeexp0/cluster_valsamples_reordered/minibatchkmean_ncluster8n_pcs50epoch311_subcluster_all/ki67/umapgraph_umapki67_log_Invasive ductal carcinoma.png\n",
      "--> added 'pos', the PAGA positions (adata.uns['paga'])\n",
      "WARNING: saving figure to file /media/xinyi/dcis2idc/plots/cnnvaeexp0/cluster_valsamples_reordered/minibatchkmean_ncluster8n_pcs50epoch311_subcluster_all/ki67/pagagraphki67_log_Invasive ductal carcinoma_allcells_PosFrac.png\n"
     ]
    },
    {
     "name": "stderr",
     "output_type": "stream",
     "text": [
      "/home/xinyi/.local/lib/python3.8/site-packages/anndata/compat/_overloaded_dict.py:106: ImplicitModificationWarning: Trying to modify attribute `._uns` of view, initializing view as actual.\n",
      "  self.data[key] = value\n"
     ]
    },
    {
     "name": "stdout",
     "output_type": "stream",
     "text": [
      "--> added 'pos', the PAGA positions (adata.uns['paga'])\n",
      "WARNING: saving figure to file /media/xinyi/dcis2idc/plots/cnnvaeexp0/cluster_valsamples_reordered/minibatchkmean_ncluster8n_pcs50epoch311_subcluster_all/ki67/pagagraphki67_log_Invasive ductal carcinoma (breast tissue)_allcells.png\n",
      "WARNING: saving figure to file /media/xinyi/dcis2idc/plots/cnnvaeexp0/cluster_valsamples_reordered/minibatchkmean_ncluster8n_pcs50epoch311_subcluster_all/ki67/umapgraph_umapki67_log_Invasive ductal carcinoma (breast tissue).png\n",
      "--> added 'pos', the PAGA positions (adata.uns['paga'])\n",
      "WARNING: saving figure to file /media/xinyi/dcis2idc/plots/cnnvaeexp0/cluster_valsamples_reordered/minibatchkmean_ncluster8n_pcs50epoch311_subcluster_all/ki67/pagagraphki67_log_Invasive ductal carcinoma (breast tissue)_allcells_PosFrac.png\n"
     ]
    },
    {
     "name": "stderr",
     "output_type": "stream",
     "text": [
      "/home/xinyi/.local/lib/python3.8/site-packages/anndata/compat/_overloaded_dict.py:106: ImplicitModificationWarning: Trying to modify attribute `._uns` of view, initializing view as actual.\n",
      "  self.data[key] = value\n"
     ]
    },
    {
     "name": "stdout",
     "output_type": "stream",
     "text": [
      "--> added 'pos', the PAGA positions (adata.uns['paga'])\n",
      "WARNING: saving figure to file /media/xinyi/dcis2idc/plots/cnnvaeexp0/cluster_valsamples_reordered/minibatchkmean_ncluster8n_pcs50epoch311_subcluster_all/ki67/pagagraphki67_log_Invasive ductal carcinoma and breast tissue_allcells.png\n",
      "WARNING: saving figure to file /media/xinyi/dcis2idc/plots/cnnvaeexp0/cluster_valsamples_reordered/minibatchkmean_ncluster8n_pcs50epoch311_subcluster_all/ki67/umapgraph_umapki67_log_Invasive ductal carcinoma and breast tissue.png\n",
      "--> added 'pos', the PAGA positions (adata.uns['paga'])\n",
      "WARNING: saving figure to file /media/xinyi/dcis2idc/plots/cnnvaeexp0/cluster_valsamples_reordered/minibatchkmean_ncluster8n_pcs50epoch311_subcluster_all/ki67/pagagraphki67_log_Invasive ductal carcinoma and breast tissue_allcells_PosFrac.png\n"
     ]
    },
    {
     "name": "stderr",
     "output_type": "stream",
     "text": [
      "/home/xinyi/.local/lib/python3.8/site-packages/anndata/compat/_overloaded_dict.py:106: ImplicitModificationWarning: Trying to modify attribute `._uns` of view, initializing view as actual.\n",
      "  self.data[key] = value\n"
     ]
    },
    {
     "name": "stdout",
     "output_type": "stream",
     "text": [
      "--> added 'pos', the PAGA positions (adata.uns['paga'])\n",
      "WARNING: saving figure to file /media/xinyi/dcis2idc/plots/cnnvaeexp0/cluster_valsamples_reordered/minibatchkmean_ncluster8n_pcs50epoch311_subcluster_all/ki67/pagagraphki67_log_Micropapillary type ductal carcinoma in situ w_allcells.png\n",
      "WARNING: saving figure to file /media/xinyi/dcis2idc/plots/cnnvaeexp0/cluster_valsamples_reordered/minibatchkmean_ncluster8n_pcs50epoch311_subcluster_all/ki67/umapgraph_umapki67_log_Micropapillary type ductal carcinoma in situ w.png\n",
      "--> added 'pos', the PAGA positions (adata.uns['paga'])\n",
      "WARNING: saving figure to file /media/xinyi/dcis2idc/plots/cnnvaeexp0/cluster_valsamples_reordered/minibatchkmean_ncluster8n_pcs50epoch311_subcluster_all/ki67/pagagraphki67_log_Micropapillary type ductal carcinoma in situ w_allcells_PosFrac.png\n"
     ]
    }
   ],
   "source": [
    "#by pathology; exprs and %positive\n",
    "#changed paga plotting function to enable vmax and vmin\n",
    "#add single cell plots & use all cells -- use previously calculated graph in combined subcluster (neighbors=4)\n",
    "#log scale\n",
    "#thresh=1\n",
    "# nneighbors_list=[4,10] \n",
    "latent_adata.obs['prog']=progList\n",
    "vminlist={'aSMA':None,'collagen1':None,'cytokeratin':0,'gh2ax':None,'ki67':0}\n",
    "vmaxlist={'aSMA':None,'collagen1':None,'cytokeratin':7,'gh2ax':None,'ki67':8.6}\n",
    "vminlistFrac={'aSMA':None,'collagen1':None,'cytokeratin':0,'gh2ax':None,'ki67':0}\n",
    "vmaxlistFrac={'aSMA':None,'collagen1':None,'cytokeratin':0.8,'gh2ax':None,'ki67':1}\n",
    "for v in np.unique(allvarnames):\n",
    "    vmin=vminlist[v]\n",
    "    vmax=vmaxlist[v]\n",
    "    vminFrac=vminlistFrac[v]\n",
    "    vmaxFrac=vmaxlistFrac[v]\n",
    "    for prog in np.unique(progList[np.isfinite(latent_adata.obs[v+'log'])]):\n",
    "        vprog=v+'_log_'+prog\n",
    "        \n",
    "        if not os.path.exists(os.path.join(subclusterplotdir,v)):\n",
    "            os.mkdir(os.path.join(subclusterplotdir,v))\n",
    "        sc.settings.figdir=os.path.join(subclusterplotdir,v)\n",
    "        \n",
    "        latent_adata_sub=latent_adata[np.logical_and(np.isfinite(latent_adata.obs[v+'log'].to_numpy()),progList==prog)]\n",
    "        idxKeep=np.repeat(False,latent_adata_sub.shape[0])\n",
    "        for c in np.unique(latent_adata_sub.obs['kmeans_sub']):\n",
    "            if np.sum(latent_adata_sub.obs['kmeans_sub']==c)>minCell:\n",
    "                idxKeep=np.logical_or(idxKeep,latent_adata_sub.obs['kmeans_sub']==c)\n",
    "        latent_adata_sub=latent_adata_sub[idxKeep]\n",
    "#         subsizes=np.zeros(np.unique(kmeans_sub).size)\n",
    "        nonzeroSub,counts=np.unique(latent_adata_sub.obs['kmeans_sub'],return_counts=True)\n",
    "#         for sidx in range(nonzeroSub.size):\n",
    "#             subsizes[np.unique(kmeans_sub)==nonzeroSub[sidx]]=counts[sidx]\n",
    "        latent_adata_sub.uns['kmeans_sub_sizes']=counts\n",
    "        _,idxKeep,_=np.intersect1d(np.unique(kmeans_sub),nonzeroSub,return_indices=True)\n",
    "#         print(idxKeep)\n",
    "        latent_adata_sub.uns['paga']['connectivities']=latent_adata.uns['paga']['connectivities'][idxKeep][:,idxKeep]\n",
    "        \n",
    "        sc.pl.paga(latent_adata_sub, color=[v+'log'],pos=trainPagaPos[idxKeep],node_size_power=1,fontoutline=0.5,save='graph'+vprog+'_allcells.png',show=False,random_state=6,vmin=vmin,vmax=vmax,cmap='jet')\n",
    "#         sc.tl.umap(latent_adata, init_pos='paga')\n",
    "        sc.pl.umap(latent_adata_sub,color=[v+'log'],legend_loc='on data',save='graph_umap'+vprog+'.png',show=False,size=3,vmin=vmin,vmax=vmax,cmap='jet')\n",
    "\n",
    "        sc.pl.paga(latent_adata_sub, color=[v+'binary'],pos=trainPagaPos[idxKeep],node_size_power=1,fontoutline=0.5,save='graph'+vprog+'_allcells_PosFrac.png',show=False,random_state=6,vmin=vminFrac,vmax=vmaxFrac,cmap='jet')\n"
   ]
  },
  {
   "cell_type": "code",
   "execution_count": 38,
   "metadata": {},
   "outputs": [
    {
     "data": {
      "text/plain": [
       "163824"
      ]
     },
     "execution_count": 38,
     "metadata": {},
     "output_type": "execute_result"
    }
   ],
   "source": [
    "gc.collect()"
   ]
  },
  {
   "cell_type": "markdown",
   "metadata": {},
   "source": [
    "### add distance to duct - 0 is in duct"
   ]
  },
  {
   "cell_type": "code",
   "execution_count": 41,
   "metadata": {
    "scrolled": true
   },
   "outputs": [
    {
     "name": "stdout",
     "output_type": "stream",
     "text": [
      "br1003a_2_cytokeratin_555_ki67_647_hoechst_B1\n",
      "br1003a_2_cytokeratin_555_ki67_647_hoechst_B2\n",
      "br1003a_2_cytokeratin_555_ki67_647_hoechst_B3\n",
      "br1003a_2_cytokeratin_555_ki67_647_hoechst_B5\n",
      "br1003a_2_cytokeratin_555_ki67_647_hoechst_B7\n",
      "br1003a_2_cytokeratin_555_ki67_647_hoechst_I2\n",
      "br1003a_2_cytokeratin_555_ki67_647_hoechst_I3\n",
      "br1003a_2_cytokeratin_555_ki67_647_hoechst_I7\n",
      "br1003a_2_cytokeratin_555_ki67_647_hoechst_I8\n",
      "br1003a_2_cytokeratin_555_ki67_647_hoechst_I9\n",
      "br301_5_cytokeratin_555_ki67_647_hoechst_A1\n",
      "br301_5_cytokeratin_555_ki67_647_hoechst_A2\n",
      "br301_5_cytokeratin_555_ki67_647_hoechst_A3\n",
      "br301_5_cytokeratin_555_ki67_647_hoechst_A4\n",
      "br301_5_cytokeratin_555_ki67_647_hoechst_A5\n",
      "br301_5_cytokeratin_555_ki67_647_hoechst_A6\n",
      "br301_5_cytokeratin_555_ki67_647_hoechst_B1\n",
      "br301_5_cytokeratin_555_ki67_647_hoechst_B2\n",
      "br301_5_cytokeratin_555_ki67_647_hoechst_B3\n",
      "br301_5_cytokeratin_555_ki67_647_hoechst_B4\n",
      "br301_5_cytokeratin_555_ki67_647_hoechst_B5\n",
      "br301_5_cytokeratin_555_ki67_647_hoechst_B6\n",
      "br301_5_cytokeratin_555_ki67_647_hoechst_C1\n",
      "br301_5_cytokeratin_555_ki67_647_hoechst_C2\n",
      "br301_5_cytokeratin_555_ki67_647_hoechst_C3\n",
      "br301_5_cytokeratin_555_ki67_647_hoechst_C4\n",
      "br301_5_cytokeratin_555_ki67_647_hoechst_C5\n",
      "br301_5_cytokeratin_555_ki67_647_hoechst_C6\n",
      "br301_5_cytokeratin_555_ki67_647_hoechst_D1\n",
      "br301_5_cytokeratin_555_ki67_647_hoechst_D2\n",
      "br301_5_cytokeratin_555_ki67_647_hoechst_D3\n",
      "br301_5_cytokeratin_555_ki67_647_hoechst_D4\n",
      "br301_5_cytokeratin_555_ki67_647_hoechst_D5\n",
      "br301_5_cytokeratin_555_ki67_647_hoechst_D6\n",
      "br301_5_cytokeratin_555_ki67_647_hoechst_E1\n",
      "br301_5_cytokeratin_555_ki67_647_hoechst_E2\n",
      "br301_5_cytokeratin_555_ki67_647_hoechst_E3\n",
      "br301_5_cytokeratin_555_ki67_647_hoechst_E4\n",
      "br301_5_cytokeratin_555_ki67_647_hoechst_E5\n",
      "br301_5_cytokeratin_555_ki67_647_hoechst_E6\n",
      "br8018a_2_cytokeratin_555_ki67_647_hoechst_D10\n",
      "br8018a_2_cytokeratin_555_ki67_647_hoechst_D6\n",
      "br8018a_2_cytokeratin_555_ki67_647_hoechst_D7\n",
      "br8018a_2_cytokeratin_555_ki67_647_hoechst_E5\n",
      "br8018a_2_cytokeratin_555_ki67_647_hoechst_E6\n",
      "br8018a_2_cytokeratin_555_ki67_647_hoechst_E7\n",
      "br8018a_2_cytokeratin_555_ki67_647_hoechst_E8\n",
      "br8018a_2_cytokeratin_555_ki67_647_hoechst_E9\n",
      "br8018a_2_cytokeratin_555_ki67_647_hoechst_F2\n",
      "br8018a_2_cytokeratin_555_ki67_647_hoechst_F7\n"
     ]
    }
   ],
   "source": [
    "import sklearn.metrics \n",
    "with open(os.path.join(datadir,'processed','train_cnnvae_coord'+savenamesample), 'rb') as output:\n",
    "    coordlist=pickle.load(output)\n",
    "    \n",
    "#distance to nearest cell in duct\n",
    "uniquenames,nameIdx=np.unique(allImgNames,return_index=True)\n",
    "\n",
    "allstats=None\n",
    "alllabels=None\n",
    "allprog=None\n",
    "\n",
    "allidx=None\n",
    "idx_temp=np.arange(allImgNames.size)\n",
    "for sidx in range(uniquenames.size):\n",
    "    s=np.unique(allImgNames)[sidx]\n",
    "    \n",
    "    path_s=os.path.join(datadir,'_'.join(s.split('_')[:-1]),'duct_nuc_membership',s.split('_')[-1] +'.csv')\n",
    "    if not os.path.exists(path_s):\n",
    "        continue\n",
    "    print(s)\n",
    "    \n",
    "    plottingIdx_i_s=np.arange(allImgNames.size)[allImgNames==s]-nameIdx[sidx]\n",
    "    assert np.min(plottingIdx_i_s)>=0\n",
    "#         ssplit=s.split('_')\n",
    "    slabels=kmeans_sub[allImgNames==s]\n",
    "    \n",
    "    \n",
    "    sidx_plot=idx_temp[allImgNames==s]\n",
    "\n",
    "    if plottingIdx_i_s.size==0:\n",
    "        continue\n",
    "    assert np.min(plottingIdx_i_s)>=0\n",
    "\n",
    "    stats_s_all=pd.read_csv(path_s)\n",
    "    stats_s_all.index=stats_s_all.loc[:,'label']\n",
    "    stats_s=stats_s_all.loc[cellIDlist[s][plottingIdx_i_s],'int_median'].to_numpy()\n",
    "\n",
    "    stats_s_all=stats_s_all.loc[cellIDlist[s],'int_median'].to_numpy()\n",
    "    scoord_all_duct=coordlist[allImgNames==s][stats_s_all>0]\n",
    "\n",
    "#         ssplit=s.split('_')\n",
    "    sprog=progList[allImgNames==s]\n",
    "\n",
    "\n",
    "    scoord=coordlist[allImgNames==s][stats_s==0]\n",
    "\n",
    "    _,distS=sklearn.metrics.pairwise_distances_argmin_min(scoord,scoord_all_duct)\n",
    "    distAll=np.zeros(stats_s.shape[0])\n",
    "    distAll[stats_s==0]=distS\n",
    "#     distances=np.concatenate((distances,distS))\n",
    "#     sublabels=np.concatenate((sublabels,slabels[stats_s==0]))\n",
    "#     subProgs=np.concatenate((subProgs,sprog[stats_s==0]))\n",
    "\n",
    "    if allstats is None:\n",
    "        allstats=np.copy(distAll)\n",
    "        alllabels=np.copy(slabels)\n",
    "        allprog=np.copy(sprog)\n",
    "        allidx=np.copy(sidx_plot)\n",
    "    else:\n",
    "        allstats=np.concatenate((allstats,distAll))\n",
    "        alllabels=np.concatenate((alllabels,np.copy(slabels)))\n",
    "        allprog=np.concatenate((allprog,sprog))\n",
    "        allidx=np.concatenate((allidx,sidx_plot))\n",
    "            \n",
    "            "
   ]
  },
  {
   "cell_type": "code",
   "execution_count": 42,
   "metadata": {
    "scrolled": true
   },
   "outputs": [],
   "source": [
    "v='dist2duct_log'\n",
    "protvalues=np.repeat(np.nan,latent_adata.shape[0])\n",
    "protvalues[allidx]=np.log(allstats+1)\n",
    "latent_adata.obs[v]=protvalues\n",
    "\n",
    "v='outDuct'\n",
    "protvalues=np.repeat(np.nan,latent_adata.shape[0])\n",
    "allstats_binary=np.zeros(allstats.size)\n",
    "allstats_binary[allstats>0]=1\n",
    "protvalues[allidx]=allstats_binary\n",
    "latent_adata.obs[v]=protvalues\n",
    "\n",
    "v='dist2duct_log_outOnly'\n",
    "protvalues=np.repeat(np.nan,latent_adata.shape[0])\n",
    "protvalues[allidx[allstats>0]]=np.log(allstats[allstats>0]+1)\n",
    "latent_adata.obs[v]=protvalues"
   ]
  },
  {
   "cell_type": "code",
   "execution_count": 47,
   "metadata": {},
   "outputs": [
    {
     "data": {
      "text/plain": [
       "(0, 6000)"
      ]
     },
     "execution_count": 47,
     "metadata": {},
     "output_type": "execute_result"
    }
   ],
   "source": [
    "latent_adata_sub.shape"
   ]
  },
  {
   "cell_type": "code",
   "execution_count": 48,
   "metadata": {},
   "outputs": [
    {
     "name": "stdout",
     "output_type": "stream",
     "text": [
      "cytokeratin_log_Breast tissue_induct\n"
     ]
    },
    {
     "name": "stderr",
     "output_type": "stream",
     "text": [
      "/home/xinyi/.local/lib/python3.8/site-packages/anndata/compat/_overloaded_dict.py:106: ImplicitModificationWarning: Trying to modify attribute `._uns` of view, initializing view as actual.\n",
      "  self.data[key] = value\n"
     ]
    },
    {
     "name": "stdout",
     "output_type": "stream",
     "text": [
      "--> added 'pos', the PAGA positions (adata.uns['paga'])\n",
      "WARNING: saving figure to file /media/xinyi/dcis2idc/plots/cnnvaeexp0/cluster_valsamples_reordered/minibatchkmean_ncluster8n_pcs50epoch311_subcluster_all/cytokeratin/duct/pagagraphcytokeratin_log_Breast tissue_induct_allcells.png\n",
      "WARNING: saving figure to file /media/xinyi/dcis2idc/plots/cnnvaeexp0/cluster_valsamples_reordered/minibatchkmean_ncluster8n_pcs50epoch311_subcluster_all/cytokeratin/duct/umapgraph_umapcytokeratin_log_Breast tissue_induct.png\n",
      "--> added 'pos', the PAGA positions (adata.uns['paga'])\n",
      "WARNING: saving figure to file /media/xinyi/dcis2idc/plots/cnnvaeexp0/cluster_valsamples_reordered/minibatchkmean_ncluster8n_pcs50epoch311_subcluster_all/cytokeratin/duct/pagagraphcytokeratin_log_Breast tissue_induct_allcells_PosFrac.png\n"
     ]
    },
    {
     "name": "stderr",
     "output_type": "stream",
     "text": [
      "/home/xinyi/.local/lib/python3.8/site-packages/anndata/compat/_overloaded_dict.py:106: ImplicitModificationWarning: Trying to modify attribute `._uns` of view, initializing view as actual.\n",
      "  self.data[key] = value\n"
     ]
    },
    {
     "name": "stdout",
     "output_type": "stream",
     "text": [
      "--> added 'pos', the PAGA positions (adata.uns['paga'])\n",
      "WARNING: saving figure to file /media/xinyi/dcis2idc/plots/cnnvaeexp0/cluster_valsamples_reordered/minibatchkmean_ncluster8n_pcs50epoch311_subcluster_all/cytokeratin/duct/pagagraphcytokeratin_log_Breast tissue_outduct_allcells.png\n",
      "WARNING: saving figure to file /media/xinyi/dcis2idc/plots/cnnvaeexp0/cluster_valsamples_reordered/minibatchkmean_ncluster8n_pcs50epoch311_subcluster_all/cytokeratin/duct/umapgraph_umapcytokeratin_log_Breast tissue_outduct.png\n",
      "--> added 'pos', the PAGA positions (adata.uns['paga'])\n",
      "WARNING: saving figure to file /media/xinyi/dcis2idc/plots/cnnvaeexp0/cluster_valsamples_reordered/minibatchkmean_ncluster8n_pcs50epoch311_subcluster_all/cytokeratin/duct/pagagraphcytokeratin_log_Breast tissue_outduct_allcells_PosFrac.png\n",
      "cytokeratin_log_Ductal carcinoma in situ_induct\n"
     ]
    },
    {
     "name": "stderr",
     "output_type": "stream",
     "text": [
      "/home/xinyi/.local/lib/python3.8/site-packages/anndata/compat/_overloaded_dict.py:106: ImplicitModificationWarning: Trying to modify attribute `._uns` of view, initializing view as actual.\n",
      "  self.data[key] = value\n"
     ]
    },
    {
     "name": "stdout",
     "output_type": "stream",
     "text": [
      "--> added 'pos', the PAGA positions (adata.uns['paga'])\n",
      "WARNING: saving figure to file /media/xinyi/dcis2idc/plots/cnnvaeexp0/cluster_valsamples_reordered/minibatchkmean_ncluster8n_pcs50epoch311_subcluster_all/cytokeratin/duct/pagagraphcytokeratin_log_Ductal carcinoma in situ_induct_allcells.png\n",
      "WARNING: saving figure to file /media/xinyi/dcis2idc/plots/cnnvaeexp0/cluster_valsamples_reordered/minibatchkmean_ncluster8n_pcs50epoch311_subcluster_all/cytokeratin/duct/umapgraph_umapcytokeratin_log_Ductal carcinoma in situ_induct.png\n",
      "--> added 'pos', the PAGA positions (adata.uns['paga'])\n",
      "WARNING: saving figure to file /media/xinyi/dcis2idc/plots/cnnvaeexp0/cluster_valsamples_reordered/minibatchkmean_ncluster8n_pcs50epoch311_subcluster_all/cytokeratin/duct/pagagraphcytokeratin_log_Ductal carcinoma in situ_induct_allcells_PosFrac.png\n"
     ]
    },
    {
     "name": "stderr",
     "output_type": "stream",
     "text": [
      "/home/xinyi/.local/lib/python3.8/site-packages/anndata/compat/_overloaded_dict.py:106: ImplicitModificationWarning: Trying to modify attribute `._uns` of view, initializing view as actual.\n",
      "  self.data[key] = value\n"
     ]
    },
    {
     "name": "stdout",
     "output_type": "stream",
     "text": [
      "--> added 'pos', the PAGA positions (adata.uns['paga'])\n",
      "WARNING: saving figure to file /media/xinyi/dcis2idc/plots/cnnvaeexp0/cluster_valsamples_reordered/minibatchkmean_ncluster8n_pcs50epoch311_subcluster_all/cytokeratin/duct/pagagraphcytokeratin_log_Ductal carcinoma in situ_outduct_allcells.png\n",
      "WARNING: saving figure to file /media/xinyi/dcis2idc/plots/cnnvaeexp0/cluster_valsamples_reordered/minibatchkmean_ncluster8n_pcs50epoch311_subcluster_all/cytokeratin/duct/umapgraph_umapcytokeratin_log_Ductal carcinoma in situ_outduct.png\n",
      "--> added 'pos', the PAGA positions (adata.uns['paga'])\n",
      "WARNING: saving figure to file /media/xinyi/dcis2idc/plots/cnnvaeexp0/cluster_valsamples_reordered/minibatchkmean_ncluster8n_pcs50epoch311_subcluster_all/cytokeratin/duct/pagagraphcytokeratin_log_Ductal carcinoma in situ_outduct_allcells_PosFrac.png\n",
      "cytokeratin_log_Ductal carcinoma in situ and breast tissue_induct\n"
     ]
    },
    {
     "name": "stderr",
     "output_type": "stream",
     "text": [
      "/home/xinyi/.local/lib/python3.8/site-packages/anndata/compat/_overloaded_dict.py:106: ImplicitModificationWarning: Trying to modify attribute `._uns` of view, initializing view as actual.\n",
      "  self.data[key] = value\n"
     ]
    },
    {
     "name": "stdout",
     "output_type": "stream",
     "text": [
      "--> added 'pos', the PAGA positions (adata.uns['paga'])\n",
      "WARNING: saving figure to file /media/xinyi/dcis2idc/plots/cnnvaeexp0/cluster_valsamples_reordered/minibatchkmean_ncluster8n_pcs50epoch311_subcluster_all/cytokeratin/duct/pagagraphcytokeratin_log_Ductal carcinoma in situ and breast tissue_induct_allcells.png\n",
      "WARNING: saving figure to file /media/xinyi/dcis2idc/plots/cnnvaeexp0/cluster_valsamples_reordered/minibatchkmean_ncluster8n_pcs50epoch311_subcluster_all/cytokeratin/duct/umapgraph_umapcytokeratin_log_Ductal carcinoma in situ and breast tissue_induct.png\n",
      "--> added 'pos', the PAGA positions (adata.uns['paga'])\n",
      "WARNING: saving figure to file /media/xinyi/dcis2idc/plots/cnnvaeexp0/cluster_valsamples_reordered/minibatchkmean_ncluster8n_pcs50epoch311_subcluster_all/cytokeratin/duct/pagagraphcytokeratin_log_Ductal carcinoma in situ and breast tissue_induct_allcells_PosFrac.png\n"
     ]
    },
    {
     "name": "stderr",
     "output_type": "stream",
     "text": [
      "/home/xinyi/.local/lib/python3.8/site-packages/anndata/compat/_overloaded_dict.py:106: ImplicitModificationWarning: Trying to modify attribute `._uns` of view, initializing view as actual.\n",
      "  self.data[key] = value\n"
     ]
    },
    {
     "name": "stdout",
     "output_type": "stream",
     "text": [
      "--> added 'pos', the PAGA positions (adata.uns['paga'])\n",
      "WARNING: saving figure to file /media/xinyi/dcis2idc/plots/cnnvaeexp0/cluster_valsamples_reordered/minibatchkmean_ncluster8n_pcs50epoch311_subcluster_all/cytokeratin/duct/pagagraphcytokeratin_log_Ductal carcinoma in situ and breast tissue_outduct_allcells.png\n",
      "WARNING: saving figure to file /media/xinyi/dcis2idc/plots/cnnvaeexp0/cluster_valsamples_reordered/minibatchkmean_ncluster8n_pcs50epoch311_subcluster_all/cytokeratin/duct/umapgraph_umapcytokeratin_log_Ductal carcinoma in situ and breast tissue_outduct.png\n",
      "--> added 'pos', the PAGA positions (adata.uns['paga'])\n",
      "WARNING: saving figure to file /media/xinyi/dcis2idc/plots/cnnvaeexp0/cluster_valsamples_reordered/minibatchkmean_ncluster8n_pcs50epoch311_subcluster_all/cytokeratin/duct/pagagraphcytokeratin_log_Ductal carcinoma in situ and breast tissue_outduct_allcells_PosFrac.png\n",
      "cytokeratin_log_Ductal carcinoma in situ with early infiltrati_induct\n"
     ]
    },
    {
     "name": "stderr",
     "output_type": "stream",
     "text": [
      "/home/xinyi/.local/lib/python3.8/site-packages/anndata/compat/_overloaded_dict.py:106: ImplicitModificationWarning: Trying to modify attribute `._uns` of view, initializing view as actual.\n",
      "  self.data[key] = value\n"
     ]
    },
    {
     "name": "stdout",
     "output_type": "stream",
     "text": [
      "--> added 'pos', the PAGA positions (adata.uns['paga'])\n",
      "WARNING: saving figure to file /media/xinyi/dcis2idc/plots/cnnvaeexp0/cluster_valsamples_reordered/minibatchkmean_ncluster8n_pcs50epoch311_subcluster_all/cytokeratin/duct/pagagraphcytokeratin_log_Ductal carcinoma in situ with early infiltrati_induct_allcells.png\n",
      "WARNING: saving figure to file /media/xinyi/dcis2idc/plots/cnnvaeexp0/cluster_valsamples_reordered/minibatchkmean_ncluster8n_pcs50epoch311_subcluster_all/cytokeratin/duct/umapgraph_umapcytokeratin_log_Ductal carcinoma in situ with early infiltrati_induct.png\n",
      "--> added 'pos', the PAGA positions (adata.uns['paga'])\n",
      "WARNING: saving figure to file /media/xinyi/dcis2idc/plots/cnnvaeexp0/cluster_valsamples_reordered/minibatchkmean_ncluster8n_pcs50epoch311_subcluster_all/cytokeratin/duct/pagagraphcytokeratin_log_Ductal carcinoma in situ with early infiltrati_induct_allcells_PosFrac.png\n"
     ]
    },
    {
     "name": "stderr",
     "output_type": "stream",
     "text": [
      "/home/xinyi/.local/lib/python3.8/site-packages/anndata/compat/_overloaded_dict.py:106: ImplicitModificationWarning: Trying to modify attribute `._uns` of view, initializing view as actual.\n",
      "  self.data[key] = value\n"
     ]
    },
    {
     "name": "stdout",
     "output_type": "stream",
     "text": [
      "--> added 'pos', the PAGA positions (adata.uns['paga'])\n",
      "WARNING: saving figure to file /media/xinyi/dcis2idc/plots/cnnvaeexp0/cluster_valsamples_reordered/minibatchkmean_ncluster8n_pcs50epoch311_subcluster_all/cytokeratin/duct/pagagraphcytokeratin_log_Ductal carcinoma in situ with early infiltrati_outduct_allcells.png\n",
      "WARNING: saving figure to file /media/xinyi/dcis2idc/plots/cnnvaeexp0/cluster_valsamples_reordered/minibatchkmean_ncluster8n_pcs50epoch311_subcluster_all/cytokeratin/duct/umapgraph_umapcytokeratin_log_Ductal carcinoma in situ with early infiltrati_outduct.png\n",
      "--> added 'pos', the PAGA positions (adata.uns['paga'])\n",
      "WARNING: saving figure to file /media/xinyi/dcis2idc/plots/cnnvaeexp0/cluster_valsamples_reordered/minibatchkmean_ncluster8n_pcs50epoch311_subcluster_all/cytokeratin/duct/pagagraphcytokeratin_log_Ductal carcinoma in situ with early infiltrati_outduct_allcells_PosFrac.png\n",
      "cytokeratin_log_Hyperplasia_induct\n"
     ]
    },
    {
     "name": "stderr",
     "output_type": "stream",
     "text": [
      "/home/xinyi/.local/lib/python3.8/site-packages/anndata/compat/_overloaded_dict.py:106: ImplicitModificationWarning: Trying to modify attribute `._uns` of view, initializing view as actual.\n",
      "  self.data[key] = value\n"
     ]
    },
    {
     "name": "stdout",
     "output_type": "stream",
     "text": [
      "--> added 'pos', the PAGA positions (adata.uns['paga'])\n",
      "WARNING: saving figure to file /media/xinyi/dcis2idc/plots/cnnvaeexp0/cluster_valsamples_reordered/minibatchkmean_ncluster8n_pcs50epoch311_subcluster_all/cytokeratin/duct/pagagraphcytokeratin_log_Hyperplasia_induct_allcells.png\n",
      "WARNING: saving figure to file /media/xinyi/dcis2idc/plots/cnnvaeexp0/cluster_valsamples_reordered/minibatchkmean_ncluster8n_pcs50epoch311_subcluster_all/cytokeratin/duct/umapgraph_umapcytokeratin_log_Hyperplasia_induct.png\n",
      "--> added 'pos', the PAGA positions (adata.uns['paga'])\n",
      "WARNING: saving figure to file /media/xinyi/dcis2idc/plots/cnnvaeexp0/cluster_valsamples_reordered/minibatchkmean_ncluster8n_pcs50epoch311_subcluster_all/cytokeratin/duct/pagagraphcytokeratin_log_Hyperplasia_induct_allcells_PosFrac.png\n"
     ]
    },
    {
     "name": "stderr",
     "output_type": "stream",
     "text": [
      "/home/xinyi/.local/lib/python3.8/site-packages/anndata/compat/_overloaded_dict.py:106: ImplicitModificationWarning: Trying to modify attribute `._uns` of view, initializing view as actual.\n",
      "  self.data[key] = value\n"
     ]
    },
    {
     "name": "stdout",
     "output_type": "stream",
     "text": [
      "--> added 'pos', the PAGA positions (adata.uns['paga'])\n",
      "WARNING: saving figure to file /media/xinyi/dcis2idc/plots/cnnvaeexp0/cluster_valsamples_reordered/minibatchkmean_ncluster8n_pcs50epoch311_subcluster_all/cytokeratin/duct/pagagraphcytokeratin_log_Hyperplasia_outduct_allcells.png\n",
      "WARNING: saving figure to file /media/xinyi/dcis2idc/plots/cnnvaeexp0/cluster_valsamples_reordered/minibatchkmean_ncluster8n_pcs50epoch311_subcluster_all/cytokeratin/duct/umapgraph_umapcytokeratin_log_Hyperplasia_outduct.png\n",
      "--> added 'pos', the PAGA positions (adata.uns['paga'])\n",
      "WARNING: saving figure to file /media/xinyi/dcis2idc/plots/cnnvaeexp0/cluster_valsamples_reordered/minibatchkmean_ncluster8n_pcs50epoch311_subcluster_all/cytokeratin/duct/pagagraphcytokeratin_log_Hyperplasia_outduct_allcells_PosFrac.png\n",
      "cytokeratin_log_Invasive ductal carcinoma_induct\n"
     ]
    },
    {
     "name": "stderr",
     "output_type": "stream",
     "text": [
      "/home/xinyi/.local/lib/python3.8/site-packages/anndata/compat/_overloaded_dict.py:106: ImplicitModificationWarning: Trying to modify attribute `._uns` of view, initializing view as actual.\n",
      "  self.data[key] = value\n"
     ]
    },
    {
     "name": "stdout",
     "output_type": "stream",
     "text": [
      "--> added 'pos', the PAGA positions (adata.uns['paga'])\n",
      "WARNING: saving figure to file /media/xinyi/dcis2idc/plots/cnnvaeexp0/cluster_valsamples_reordered/minibatchkmean_ncluster8n_pcs50epoch311_subcluster_all/cytokeratin/duct/pagagraphcytokeratin_log_Invasive ductal carcinoma_induct_allcells.png\n",
      "WARNING: saving figure to file /media/xinyi/dcis2idc/plots/cnnvaeexp0/cluster_valsamples_reordered/minibatchkmean_ncluster8n_pcs50epoch311_subcluster_all/cytokeratin/duct/umapgraph_umapcytokeratin_log_Invasive ductal carcinoma_induct.png\n",
      "--> added 'pos', the PAGA positions (adata.uns['paga'])\n",
      "WARNING: saving figure to file /media/xinyi/dcis2idc/plots/cnnvaeexp0/cluster_valsamples_reordered/minibatchkmean_ncluster8n_pcs50epoch311_subcluster_all/cytokeratin/duct/pagagraphcytokeratin_log_Invasive ductal carcinoma_induct_allcells_PosFrac.png\n"
     ]
    },
    {
     "name": "stderr",
     "output_type": "stream",
     "text": [
      "/home/xinyi/.local/lib/python3.8/site-packages/anndata/compat/_overloaded_dict.py:106: ImplicitModificationWarning: Trying to modify attribute `._uns` of view, initializing view as actual.\n",
      "  self.data[key] = value\n"
     ]
    },
    {
     "name": "stdout",
     "output_type": "stream",
     "text": [
      "--> added 'pos', the PAGA positions (adata.uns['paga'])\n",
      "WARNING: saving figure to file /media/xinyi/dcis2idc/plots/cnnvaeexp0/cluster_valsamples_reordered/minibatchkmean_ncluster8n_pcs50epoch311_subcluster_all/cytokeratin/duct/pagagraphcytokeratin_log_Invasive ductal carcinoma_outduct_allcells.png\n",
      "WARNING: saving figure to file /media/xinyi/dcis2idc/plots/cnnvaeexp0/cluster_valsamples_reordered/minibatchkmean_ncluster8n_pcs50epoch311_subcluster_all/cytokeratin/duct/umapgraph_umapcytokeratin_log_Invasive ductal carcinoma_outduct.png\n",
      "--> added 'pos', the PAGA positions (adata.uns['paga'])\n",
      "WARNING: saving figure to file /media/xinyi/dcis2idc/plots/cnnvaeexp0/cluster_valsamples_reordered/minibatchkmean_ncluster8n_pcs50epoch311_subcluster_all/cytokeratin/duct/pagagraphcytokeratin_log_Invasive ductal carcinoma_outduct_allcells_PosFrac.png\n",
      "cytokeratin_log_Invasive ductal carcinoma and breast tissue_induct\n"
     ]
    },
    {
     "name": "stderr",
     "output_type": "stream",
     "text": [
      "/home/xinyi/.local/lib/python3.8/site-packages/anndata/compat/_overloaded_dict.py:106: ImplicitModificationWarning: Trying to modify attribute `._uns` of view, initializing view as actual.\n",
      "  self.data[key] = value\n"
     ]
    },
    {
     "name": "stdout",
     "output_type": "stream",
     "text": [
      "--> added 'pos', the PAGA positions (adata.uns['paga'])\n",
      "WARNING: saving figure to file /media/xinyi/dcis2idc/plots/cnnvaeexp0/cluster_valsamples_reordered/minibatchkmean_ncluster8n_pcs50epoch311_subcluster_all/cytokeratin/duct/pagagraphcytokeratin_log_Invasive ductal carcinoma and breast tissue_induct_allcells.png\n",
      "WARNING: saving figure to file /media/xinyi/dcis2idc/plots/cnnvaeexp0/cluster_valsamples_reordered/minibatchkmean_ncluster8n_pcs50epoch311_subcluster_all/cytokeratin/duct/umapgraph_umapcytokeratin_log_Invasive ductal carcinoma and breast tissue_induct.png\n",
      "--> added 'pos', the PAGA positions (adata.uns['paga'])\n",
      "WARNING: saving figure to file /media/xinyi/dcis2idc/plots/cnnvaeexp0/cluster_valsamples_reordered/minibatchkmean_ncluster8n_pcs50epoch311_subcluster_all/cytokeratin/duct/pagagraphcytokeratin_log_Invasive ductal carcinoma and breast tissue_induct_allcells_PosFrac.png\n"
     ]
    },
    {
     "name": "stderr",
     "output_type": "stream",
     "text": [
      "/home/xinyi/.local/lib/python3.8/site-packages/anndata/compat/_overloaded_dict.py:106: ImplicitModificationWarning: Trying to modify attribute `._uns` of view, initializing view as actual.\n",
      "  self.data[key] = value\n"
     ]
    },
    {
     "name": "stdout",
     "output_type": "stream",
     "text": [
      "--> added 'pos', the PAGA positions (adata.uns['paga'])\n",
      "WARNING: saving figure to file /media/xinyi/dcis2idc/plots/cnnvaeexp0/cluster_valsamples_reordered/minibatchkmean_ncluster8n_pcs50epoch311_subcluster_all/cytokeratin/duct/pagagraphcytokeratin_log_Invasive ductal carcinoma and breast tissue_outduct_allcells.png\n",
      "WARNING: saving figure to file /media/xinyi/dcis2idc/plots/cnnvaeexp0/cluster_valsamples_reordered/minibatchkmean_ncluster8n_pcs50epoch311_subcluster_all/cytokeratin/duct/umapgraph_umapcytokeratin_log_Invasive ductal carcinoma and breast tissue_outduct.png\n",
      "--> added 'pos', the PAGA positions (adata.uns['paga'])\n",
      "WARNING: saving figure to file /media/xinyi/dcis2idc/plots/cnnvaeexp0/cluster_valsamples_reordered/minibatchkmean_ncluster8n_pcs50epoch311_subcluster_all/cytokeratin/duct/pagagraphcytokeratin_log_Invasive ductal carcinoma and breast tissue_outduct_allcells_PosFrac.png\n",
      "cytokeratin_log_Micropapillary type ductal carcinoma in situ w_induct\n"
     ]
    },
    {
     "name": "stderr",
     "output_type": "stream",
     "text": [
      "/home/xinyi/.local/lib/python3.8/site-packages/anndata/compat/_overloaded_dict.py:106: ImplicitModificationWarning: Trying to modify attribute `._uns` of view, initializing view as actual.\n",
      "  self.data[key] = value\n"
     ]
    },
    {
     "name": "stdout",
     "output_type": "stream",
     "text": [
      "--> added 'pos', the PAGA positions (adata.uns['paga'])\n",
      "WARNING: saving figure to file /media/xinyi/dcis2idc/plots/cnnvaeexp0/cluster_valsamples_reordered/minibatchkmean_ncluster8n_pcs50epoch311_subcluster_all/cytokeratin/duct/pagagraphcytokeratin_log_Micropapillary type ductal carcinoma in situ w_induct_allcells.png\n",
      "WARNING: saving figure to file /media/xinyi/dcis2idc/plots/cnnvaeexp0/cluster_valsamples_reordered/minibatchkmean_ncluster8n_pcs50epoch311_subcluster_all/cytokeratin/duct/umapgraph_umapcytokeratin_log_Micropapillary type ductal carcinoma in situ w_induct.png\n",
      "--> added 'pos', the PAGA positions (adata.uns['paga'])\n",
      "WARNING: saving figure to file /media/xinyi/dcis2idc/plots/cnnvaeexp0/cluster_valsamples_reordered/minibatchkmean_ncluster8n_pcs50epoch311_subcluster_all/cytokeratin/duct/pagagraphcytokeratin_log_Micropapillary type ductal carcinoma in situ w_induct_allcells_PosFrac.png\n"
     ]
    },
    {
     "name": "stderr",
     "output_type": "stream",
     "text": [
      "/home/xinyi/.local/lib/python3.8/site-packages/anndata/compat/_overloaded_dict.py:106: ImplicitModificationWarning: Trying to modify attribute `._uns` of view, initializing view as actual.\n",
      "  self.data[key] = value\n"
     ]
    },
    {
     "name": "stdout",
     "output_type": "stream",
     "text": [
      "--> added 'pos', the PAGA positions (adata.uns['paga'])\n",
      "WARNING: saving figure to file /media/xinyi/dcis2idc/plots/cnnvaeexp0/cluster_valsamples_reordered/minibatchkmean_ncluster8n_pcs50epoch311_subcluster_all/cytokeratin/duct/pagagraphcytokeratin_log_Micropapillary type ductal carcinoma in situ w_outduct_allcells.png\n",
      "WARNING: saving figure to file /media/xinyi/dcis2idc/plots/cnnvaeexp0/cluster_valsamples_reordered/minibatchkmean_ncluster8n_pcs50epoch311_subcluster_all/cytokeratin/duct/umapgraph_umapcytokeratin_log_Micropapillary type ductal carcinoma in situ w_outduct.png\n",
      "--> added 'pos', the PAGA positions (adata.uns['paga'])\n",
      "WARNING: saving figure to file /media/xinyi/dcis2idc/plots/cnnvaeexp0/cluster_valsamples_reordered/minibatchkmean_ncluster8n_pcs50epoch311_subcluster_all/cytokeratin/duct/pagagraphcytokeratin_log_Micropapillary type ductal carcinoma in situ w_outduct_allcells_PosFrac.png\n",
      "ki67_log_Breast tissue_induct\n"
     ]
    },
    {
     "name": "stderr",
     "output_type": "stream",
     "text": [
      "/home/xinyi/.local/lib/python3.8/site-packages/anndata/compat/_overloaded_dict.py:106: ImplicitModificationWarning: Trying to modify attribute `._uns` of view, initializing view as actual.\n",
      "  self.data[key] = value\n"
     ]
    },
    {
     "name": "stdout",
     "output_type": "stream",
     "text": [
      "--> added 'pos', the PAGA positions (adata.uns['paga'])\n",
      "WARNING: saving figure to file /media/xinyi/dcis2idc/plots/cnnvaeexp0/cluster_valsamples_reordered/minibatchkmean_ncluster8n_pcs50epoch311_subcluster_all/ki67/duct/pagagraphki67_log_Breast tissue_induct_allcells.png\n",
      "WARNING: saving figure to file /media/xinyi/dcis2idc/plots/cnnvaeexp0/cluster_valsamples_reordered/minibatchkmean_ncluster8n_pcs50epoch311_subcluster_all/ki67/duct/umapgraph_umapki67_log_Breast tissue_induct.png\n",
      "--> added 'pos', the PAGA positions (adata.uns['paga'])\n",
      "WARNING: saving figure to file /media/xinyi/dcis2idc/plots/cnnvaeexp0/cluster_valsamples_reordered/minibatchkmean_ncluster8n_pcs50epoch311_subcluster_all/ki67/duct/pagagraphki67_log_Breast tissue_induct_allcells_PosFrac.png\n"
     ]
    },
    {
     "name": "stderr",
     "output_type": "stream",
     "text": [
      "/home/xinyi/.local/lib/python3.8/site-packages/anndata/compat/_overloaded_dict.py:106: ImplicitModificationWarning: Trying to modify attribute `._uns` of view, initializing view as actual.\n",
      "  self.data[key] = value\n"
     ]
    },
    {
     "name": "stdout",
     "output_type": "stream",
     "text": [
      "--> added 'pos', the PAGA positions (adata.uns['paga'])\n",
      "WARNING: saving figure to file /media/xinyi/dcis2idc/plots/cnnvaeexp0/cluster_valsamples_reordered/minibatchkmean_ncluster8n_pcs50epoch311_subcluster_all/ki67/duct/pagagraphki67_log_Breast tissue_outduct_allcells.png\n",
      "WARNING: saving figure to file /media/xinyi/dcis2idc/plots/cnnvaeexp0/cluster_valsamples_reordered/minibatchkmean_ncluster8n_pcs50epoch311_subcluster_all/ki67/duct/umapgraph_umapki67_log_Breast tissue_outduct.png\n",
      "--> added 'pos', the PAGA positions (adata.uns['paga'])\n",
      "WARNING: saving figure to file /media/xinyi/dcis2idc/plots/cnnvaeexp0/cluster_valsamples_reordered/minibatchkmean_ncluster8n_pcs50epoch311_subcluster_all/ki67/duct/pagagraphki67_log_Breast tissue_outduct_allcells_PosFrac.png\n",
      "ki67_log_Ductal carcinoma in situ_induct\n"
     ]
    },
    {
     "name": "stderr",
     "output_type": "stream",
     "text": [
      "/home/xinyi/.local/lib/python3.8/site-packages/anndata/compat/_overloaded_dict.py:106: ImplicitModificationWarning: Trying to modify attribute `._uns` of view, initializing view as actual.\n",
      "  self.data[key] = value\n"
     ]
    },
    {
     "name": "stdout",
     "output_type": "stream",
     "text": [
      "--> added 'pos', the PAGA positions (adata.uns['paga'])\n",
      "WARNING: saving figure to file /media/xinyi/dcis2idc/plots/cnnvaeexp0/cluster_valsamples_reordered/minibatchkmean_ncluster8n_pcs50epoch311_subcluster_all/ki67/duct/pagagraphki67_log_Ductal carcinoma in situ_induct_allcells.png\n",
      "WARNING: saving figure to file /media/xinyi/dcis2idc/plots/cnnvaeexp0/cluster_valsamples_reordered/minibatchkmean_ncluster8n_pcs50epoch311_subcluster_all/ki67/duct/umapgraph_umapki67_log_Ductal carcinoma in situ_induct.png\n",
      "--> added 'pos', the PAGA positions (adata.uns['paga'])\n",
      "WARNING: saving figure to file /media/xinyi/dcis2idc/plots/cnnvaeexp0/cluster_valsamples_reordered/minibatchkmean_ncluster8n_pcs50epoch311_subcluster_all/ki67/duct/pagagraphki67_log_Ductal carcinoma in situ_induct_allcells_PosFrac.png\n"
     ]
    },
    {
     "name": "stderr",
     "output_type": "stream",
     "text": [
      "/home/xinyi/.local/lib/python3.8/site-packages/anndata/compat/_overloaded_dict.py:106: ImplicitModificationWarning: Trying to modify attribute `._uns` of view, initializing view as actual.\n",
      "  self.data[key] = value\n"
     ]
    },
    {
     "name": "stdout",
     "output_type": "stream",
     "text": [
      "--> added 'pos', the PAGA positions (adata.uns['paga'])\n",
      "WARNING: saving figure to file /media/xinyi/dcis2idc/plots/cnnvaeexp0/cluster_valsamples_reordered/minibatchkmean_ncluster8n_pcs50epoch311_subcluster_all/ki67/duct/pagagraphki67_log_Ductal carcinoma in situ_outduct_allcells.png\n",
      "WARNING: saving figure to file /media/xinyi/dcis2idc/plots/cnnvaeexp0/cluster_valsamples_reordered/minibatchkmean_ncluster8n_pcs50epoch311_subcluster_all/ki67/duct/umapgraph_umapki67_log_Ductal carcinoma in situ_outduct.png\n",
      "--> added 'pos', the PAGA positions (adata.uns['paga'])\n",
      "WARNING: saving figure to file /media/xinyi/dcis2idc/plots/cnnvaeexp0/cluster_valsamples_reordered/minibatchkmean_ncluster8n_pcs50epoch311_subcluster_all/ki67/duct/pagagraphki67_log_Ductal carcinoma in situ_outduct_allcells_PosFrac.png\n",
      "ki67_log_Ductal carcinoma in situ and breast tissue_induct\n"
     ]
    },
    {
     "name": "stderr",
     "output_type": "stream",
     "text": [
      "/home/xinyi/.local/lib/python3.8/site-packages/anndata/compat/_overloaded_dict.py:106: ImplicitModificationWarning: Trying to modify attribute `._uns` of view, initializing view as actual.\n",
      "  self.data[key] = value\n"
     ]
    },
    {
     "name": "stdout",
     "output_type": "stream",
     "text": [
      "--> added 'pos', the PAGA positions (adata.uns['paga'])\n",
      "WARNING: saving figure to file /media/xinyi/dcis2idc/plots/cnnvaeexp0/cluster_valsamples_reordered/minibatchkmean_ncluster8n_pcs50epoch311_subcluster_all/ki67/duct/pagagraphki67_log_Ductal carcinoma in situ and breast tissue_induct_allcells.png\n",
      "WARNING: saving figure to file /media/xinyi/dcis2idc/plots/cnnvaeexp0/cluster_valsamples_reordered/minibatchkmean_ncluster8n_pcs50epoch311_subcluster_all/ki67/duct/umapgraph_umapki67_log_Ductal carcinoma in situ and breast tissue_induct.png\n",
      "--> added 'pos', the PAGA positions (adata.uns['paga'])\n",
      "WARNING: saving figure to file /media/xinyi/dcis2idc/plots/cnnvaeexp0/cluster_valsamples_reordered/minibatchkmean_ncluster8n_pcs50epoch311_subcluster_all/ki67/duct/pagagraphki67_log_Ductal carcinoma in situ and breast tissue_induct_allcells_PosFrac.png\n"
     ]
    },
    {
     "name": "stderr",
     "output_type": "stream",
     "text": [
      "/home/xinyi/.local/lib/python3.8/site-packages/anndata/compat/_overloaded_dict.py:106: ImplicitModificationWarning: Trying to modify attribute `._uns` of view, initializing view as actual.\n",
      "  self.data[key] = value\n"
     ]
    },
    {
     "name": "stdout",
     "output_type": "stream",
     "text": [
      "--> added 'pos', the PAGA positions (adata.uns['paga'])\n",
      "WARNING: saving figure to file /media/xinyi/dcis2idc/plots/cnnvaeexp0/cluster_valsamples_reordered/minibatchkmean_ncluster8n_pcs50epoch311_subcluster_all/ki67/duct/pagagraphki67_log_Ductal carcinoma in situ and breast tissue_outduct_allcells.png\n",
      "WARNING: saving figure to file /media/xinyi/dcis2idc/plots/cnnvaeexp0/cluster_valsamples_reordered/minibatchkmean_ncluster8n_pcs50epoch311_subcluster_all/ki67/duct/umapgraph_umapki67_log_Ductal carcinoma in situ and breast tissue_outduct.png\n",
      "--> added 'pos', the PAGA positions (adata.uns['paga'])\n",
      "WARNING: saving figure to file /media/xinyi/dcis2idc/plots/cnnvaeexp0/cluster_valsamples_reordered/minibatchkmean_ncluster8n_pcs50epoch311_subcluster_all/ki67/duct/pagagraphki67_log_Ductal carcinoma in situ and breast tissue_outduct_allcells_PosFrac.png\n",
      "ki67_log_Ductal carcinoma in situ with early infiltrati_induct\n"
     ]
    },
    {
     "name": "stderr",
     "output_type": "stream",
     "text": [
      "/home/xinyi/.local/lib/python3.8/site-packages/anndata/compat/_overloaded_dict.py:106: ImplicitModificationWarning: Trying to modify attribute `._uns` of view, initializing view as actual.\n",
      "  self.data[key] = value\n"
     ]
    },
    {
     "name": "stdout",
     "output_type": "stream",
     "text": [
      "--> added 'pos', the PAGA positions (adata.uns['paga'])\n",
      "WARNING: saving figure to file /media/xinyi/dcis2idc/plots/cnnvaeexp0/cluster_valsamples_reordered/minibatchkmean_ncluster8n_pcs50epoch311_subcluster_all/ki67/duct/pagagraphki67_log_Ductal carcinoma in situ with early infiltrati_induct_allcells.png\n",
      "WARNING: saving figure to file /media/xinyi/dcis2idc/plots/cnnvaeexp0/cluster_valsamples_reordered/minibatchkmean_ncluster8n_pcs50epoch311_subcluster_all/ki67/duct/umapgraph_umapki67_log_Ductal carcinoma in situ with early infiltrati_induct.png\n",
      "--> added 'pos', the PAGA positions (adata.uns['paga'])\n",
      "WARNING: saving figure to file /media/xinyi/dcis2idc/plots/cnnvaeexp0/cluster_valsamples_reordered/minibatchkmean_ncluster8n_pcs50epoch311_subcluster_all/ki67/duct/pagagraphki67_log_Ductal carcinoma in situ with early infiltrati_induct_allcells_PosFrac.png\n"
     ]
    },
    {
     "name": "stderr",
     "output_type": "stream",
     "text": [
      "/home/xinyi/.local/lib/python3.8/site-packages/anndata/compat/_overloaded_dict.py:106: ImplicitModificationWarning: Trying to modify attribute `._uns` of view, initializing view as actual.\n",
      "  self.data[key] = value\n"
     ]
    },
    {
     "name": "stdout",
     "output_type": "stream",
     "text": [
      "--> added 'pos', the PAGA positions (adata.uns['paga'])\n",
      "WARNING: saving figure to file /media/xinyi/dcis2idc/plots/cnnvaeexp0/cluster_valsamples_reordered/minibatchkmean_ncluster8n_pcs50epoch311_subcluster_all/ki67/duct/pagagraphki67_log_Ductal carcinoma in situ with early infiltrati_outduct_allcells.png\n",
      "WARNING: saving figure to file /media/xinyi/dcis2idc/plots/cnnvaeexp0/cluster_valsamples_reordered/minibatchkmean_ncluster8n_pcs50epoch311_subcluster_all/ki67/duct/umapgraph_umapki67_log_Ductal carcinoma in situ with early infiltrati_outduct.png\n",
      "--> added 'pos', the PAGA positions (adata.uns['paga'])\n",
      "WARNING: saving figure to file /media/xinyi/dcis2idc/plots/cnnvaeexp0/cluster_valsamples_reordered/minibatchkmean_ncluster8n_pcs50epoch311_subcluster_all/ki67/duct/pagagraphki67_log_Ductal carcinoma in situ with early infiltrati_outduct_allcells_PosFrac.png\n",
      "ki67_log_Hyperplasia_induct\n"
     ]
    },
    {
     "name": "stderr",
     "output_type": "stream",
     "text": [
      "/home/xinyi/.local/lib/python3.8/site-packages/anndata/compat/_overloaded_dict.py:106: ImplicitModificationWarning: Trying to modify attribute `._uns` of view, initializing view as actual.\n",
      "  self.data[key] = value\n"
     ]
    },
    {
     "name": "stdout",
     "output_type": "stream",
     "text": [
      "--> added 'pos', the PAGA positions (adata.uns['paga'])\n",
      "WARNING: saving figure to file /media/xinyi/dcis2idc/plots/cnnvaeexp0/cluster_valsamples_reordered/minibatchkmean_ncluster8n_pcs50epoch311_subcluster_all/ki67/duct/pagagraphki67_log_Hyperplasia_induct_allcells.png\n",
      "WARNING: saving figure to file /media/xinyi/dcis2idc/plots/cnnvaeexp0/cluster_valsamples_reordered/minibatchkmean_ncluster8n_pcs50epoch311_subcluster_all/ki67/duct/umapgraph_umapki67_log_Hyperplasia_induct.png\n",
      "--> added 'pos', the PAGA positions (adata.uns['paga'])\n",
      "WARNING: saving figure to file /media/xinyi/dcis2idc/plots/cnnvaeexp0/cluster_valsamples_reordered/minibatchkmean_ncluster8n_pcs50epoch311_subcluster_all/ki67/duct/pagagraphki67_log_Hyperplasia_induct_allcells_PosFrac.png\n"
     ]
    },
    {
     "name": "stderr",
     "output_type": "stream",
     "text": [
      "/home/xinyi/.local/lib/python3.8/site-packages/anndata/compat/_overloaded_dict.py:106: ImplicitModificationWarning: Trying to modify attribute `._uns` of view, initializing view as actual.\n",
      "  self.data[key] = value\n"
     ]
    },
    {
     "name": "stdout",
     "output_type": "stream",
     "text": [
      "--> added 'pos', the PAGA positions (adata.uns['paga'])\n",
      "WARNING: saving figure to file /media/xinyi/dcis2idc/plots/cnnvaeexp0/cluster_valsamples_reordered/minibatchkmean_ncluster8n_pcs50epoch311_subcluster_all/ki67/duct/pagagraphki67_log_Hyperplasia_outduct_allcells.png\n",
      "WARNING: saving figure to file /media/xinyi/dcis2idc/plots/cnnvaeexp0/cluster_valsamples_reordered/minibatchkmean_ncluster8n_pcs50epoch311_subcluster_all/ki67/duct/umapgraph_umapki67_log_Hyperplasia_outduct.png\n",
      "--> added 'pos', the PAGA positions (adata.uns['paga'])\n",
      "WARNING: saving figure to file /media/xinyi/dcis2idc/plots/cnnvaeexp0/cluster_valsamples_reordered/minibatchkmean_ncluster8n_pcs50epoch311_subcluster_all/ki67/duct/pagagraphki67_log_Hyperplasia_outduct_allcells_PosFrac.png\n",
      "ki67_log_Invasive ductal carcinoma_induct\n"
     ]
    },
    {
     "name": "stderr",
     "output_type": "stream",
     "text": [
      "/home/xinyi/.local/lib/python3.8/site-packages/anndata/compat/_overloaded_dict.py:106: ImplicitModificationWarning: Trying to modify attribute `._uns` of view, initializing view as actual.\n",
      "  self.data[key] = value\n"
     ]
    },
    {
     "name": "stdout",
     "output_type": "stream",
     "text": [
      "--> added 'pos', the PAGA positions (adata.uns['paga'])\n",
      "WARNING: saving figure to file /media/xinyi/dcis2idc/plots/cnnvaeexp0/cluster_valsamples_reordered/minibatchkmean_ncluster8n_pcs50epoch311_subcluster_all/ki67/duct/pagagraphki67_log_Invasive ductal carcinoma_induct_allcells.png\n",
      "WARNING: saving figure to file /media/xinyi/dcis2idc/plots/cnnvaeexp0/cluster_valsamples_reordered/minibatchkmean_ncluster8n_pcs50epoch311_subcluster_all/ki67/duct/umapgraph_umapki67_log_Invasive ductal carcinoma_induct.png\n",
      "--> added 'pos', the PAGA positions (adata.uns['paga'])\n",
      "WARNING: saving figure to file /media/xinyi/dcis2idc/plots/cnnvaeexp0/cluster_valsamples_reordered/minibatchkmean_ncluster8n_pcs50epoch311_subcluster_all/ki67/duct/pagagraphki67_log_Invasive ductal carcinoma_induct_allcells_PosFrac.png\n"
     ]
    },
    {
     "name": "stderr",
     "output_type": "stream",
     "text": [
      "/home/xinyi/.local/lib/python3.8/site-packages/anndata/compat/_overloaded_dict.py:106: ImplicitModificationWarning: Trying to modify attribute `._uns` of view, initializing view as actual.\n",
      "  self.data[key] = value\n"
     ]
    },
    {
     "name": "stdout",
     "output_type": "stream",
     "text": [
      "--> added 'pos', the PAGA positions (adata.uns['paga'])\n",
      "WARNING: saving figure to file /media/xinyi/dcis2idc/plots/cnnvaeexp0/cluster_valsamples_reordered/minibatchkmean_ncluster8n_pcs50epoch311_subcluster_all/ki67/duct/pagagraphki67_log_Invasive ductal carcinoma_outduct_allcells.png\n",
      "WARNING: saving figure to file /media/xinyi/dcis2idc/plots/cnnvaeexp0/cluster_valsamples_reordered/minibatchkmean_ncluster8n_pcs50epoch311_subcluster_all/ki67/duct/umapgraph_umapki67_log_Invasive ductal carcinoma_outduct.png\n",
      "--> added 'pos', the PAGA positions (adata.uns['paga'])\n",
      "WARNING: saving figure to file /media/xinyi/dcis2idc/plots/cnnvaeexp0/cluster_valsamples_reordered/minibatchkmean_ncluster8n_pcs50epoch311_subcluster_all/ki67/duct/pagagraphki67_log_Invasive ductal carcinoma_outduct_allcells_PosFrac.png\n",
      "ki67_log_Invasive ductal carcinoma and breast tissue_induct\n"
     ]
    },
    {
     "name": "stderr",
     "output_type": "stream",
     "text": [
      "/home/xinyi/.local/lib/python3.8/site-packages/anndata/compat/_overloaded_dict.py:106: ImplicitModificationWarning: Trying to modify attribute `._uns` of view, initializing view as actual.\n",
      "  self.data[key] = value\n"
     ]
    },
    {
     "name": "stdout",
     "output_type": "stream",
     "text": [
      "--> added 'pos', the PAGA positions (adata.uns['paga'])\n",
      "WARNING: saving figure to file /media/xinyi/dcis2idc/plots/cnnvaeexp0/cluster_valsamples_reordered/minibatchkmean_ncluster8n_pcs50epoch311_subcluster_all/ki67/duct/pagagraphki67_log_Invasive ductal carcinoma and breast tissue_induct_allcells.png\n",
      "WARNING: saving figure to file /media/xinyi/dcis2idc/plots/cnnvaeexp0/cluster_valsamples_reordered/minibatchkmean_ncluster8n_pcs50epoch311_subcluster_all/ki67/duct/umapgraph_umapki67_log_Invasive ductal carcinoma and breast tissue_induct.png\n",
      "--> added 'pos', the PAGA positions (adata.uns['paga'])\n",
      "WARNING: saving figure to file /media/xinyi/dcis2idc/plots/cnnvaeexp0/cluster_valsamples_reordered/minibatchkmean_ncluster8n_pcs50epoch311_subcluster_all/ki67/duct/pagagraphki67_log_Invasive ductal carcinoma and breast tissue_induct_allcells_PosFrac.png\n"
     ]
    },
    {
     "name": "stderr",
     "output_type": "stream",
     "text": [
      "/home/xinyi/.local/lib/python3.8/site-packages/anndata/compat/_overloaded_dict.py:106: ImplicitModificationWarning: Trying to modify attribute `._uns` of view, initializing view as actual.\n",
      "  self.data[key] = value\n"
     ]
    },
    {
     "name": "stdout",
     "output_type": "stream",
     "text": [
      "--> added 'pos', the PAGA positions (adata.uns['paga'])\n",
      "WARNING: saving figure to file /media/xinyi/dcis2idc/plots/cnnvaeexp0/cluster_valsamples_reordered/minibatchkmean_ncluster8n_pcs50epoch311_subcluster_all/ki67/duct/pagagraphki67_log_Invasive ductal carcinoma and breast tissue_outduct_allcells.png\n",
      "WARNING: saving figure to file /media/xinyi/dcis2idc/plots/cnnvaeexp0/cluster_valsamples_reordered/minibatchkmean_ncluster8n_pcs50epoch311_subcluster_all/ki67/duct/umapgraph_umapki67_log_Invasive ductal carcinoma and breast tissue_outduct.png\n",
      "--> added 'pos', the PAGA positions (adata.uns['paga'])\n",
      "WARNING: saving figure to file /media/xinyi/dcis2idc/plots/cnnvaeexp0/cluster_valsamples_reordered/minibatchkmean_ncluster8n_pcs50epoch311_subcluster_all/ki67/duct/pagagraphki67_log_Invasive ductal carcinoma and breast tissue_outduct_allcells_PosFrac.png\n",
      "ki67_log_Micropapillary type ductal carcinoma in situ w_induct\n"
     ]
    },
    {
     "name": "stderr",
     "output_type": "stream",
     "text": [
      "/home/xinyi/.local/lib/python3.8/site-packages/anndata/compat/_overloaded_dict.py:106: ImplicitModificationWarning: Trying to modify attribute `._uns` of view, initializing view as actual.\n",
      "  self.data[key] = value\n"
     ]
    },
    {
     "name": "stdout",
     "output_type": "stream",
     "text": [
      "--> added 'pos', the PAGA positions (adata.uns['paga'])\n",
      "WARNING: saving figure to file /media/xinyi/dcis2idc/plots/cnnvaeexp0/cluster_valsamples_reordered/minibatchkmean_ncluster8n_pcs50epoch311_subcluster_all/ki67/duct/pagagraphki67_log_Micropapillary type ductal carcinoma in situ w_induct_allcells.png\n",
      "WARNING: saving figure to file /media/xinyi/dcis2idc/plots/cnnvaeexp0/cluster_valsamples_reordered/minibatchkmean_ncluster8n_pcs50epoch311_subcluster_all/ki67/duct/umapgraph_umapki67_log_Micropapillary type ductal carcinoma in situ w_induct.png\n",
      "--> added 'pos', the PAGA positions (adata.uns['paga'])\n",
      "WARNING: saving figure to file /media/xinyi/dcis2idc/plots/cnnvaeexp0/cluster_valsamples_reordered/minibatchkmean_ncluster8n_pcs50epoch311_subcluster_all/ki67/duct/pagagraphki67_log_Micropapillary type ductal carcinoma in situ w_induct_allcells_PosFrac.png\n"
     ]
    },
    {
     "name": "stderr",
     "output_type": "stream",
     "text": [
      "/home/xinyi/.local/lib/python3.8/site-packages/anndata/compat/_overloaded_dict.py:106: ImplicitModificationWarning: Trying to modify attribute `._uns` of view, initializing view as actual.\n",
      "  self.data[key] = value\n"
     ]
    },
    {
     "name": "stdout",
     "output_type": "stream",
     "text": [
      "--> added 'pos', the PAGA positions (adata.uns['paga'])\n",
      "WARNING: saving figure to file /media/xinyi/dcis2idc/plots/cnnvaeexp0/cluster_valsamples_reordered/minibatchkmean_ncluster8n_pcs50epoch311_subcluster_all/ki67/duct/pagagraphki67_log_Micropapillary type ductal carcinoma in situ w_outduct_allcells.png\n",
      "WARNING: saving figure to file /media/xinyi/dcis2idc/plots/cnnvaeexp0/cluster_valsamples_reordered/minibatchkmean_ncluster8n_pcs50epoch311_subcluster_all/ki67/duct/umapgraph_umapki67_log_Micropapillary type ductal carcinoma in situ w_outduct.png\n",
      "--> added 'pos', the PAGA positions (adata.uns['paga'])\n",
      "WARNING: saving figure to file /media/xinyi/dcis2idc/plots/cnnvaeexp0/cluster_valsamples_reordered/minibatchkmean_ncluster8n_pcs50epoch311_subcluster_all/ki67/duct/pagagraphki67_log_Micropapillary type ductal carcinoma in situ w_outduct_allcells_PosFrac.png\n"
     ]
    }
   ],
   "source": [
    "#protein by pathology -- separate by in vs out of duct\n",
    "#changed paga plotting function to enable vmax and vmin\n",
    "#add single cell plots & use all cells -- use previously calculated graph in combined subcluster (neighbors=4)\n",
    "#log scale\n",
    "#thresh=1\n",
    "# nneighbors_list=[4,10] \n",
    "# latent_adata.obs['prog']=progList\n",
    "vminlist={'aSMA':None,'collagen1':None,'cytokeratin':0,'gh2ax':None,'ki67':0}\n",
    "vmaxlist={'aSMA':None,'collagen1':None,'cytokeratin':7,'gh2ax':None,'ki67':8.6}\n",
    "vminlistFrac={'aSMA':None,'collagen1':None,'cytokeratin':0,'gh2ax':None,'ki67':0}\n",
    "vmaxlistFrac={'aSMA':None,'collagen1':None,'cytokeratin':0.8,'gh2ax':None,'ki67':1}\n",
    "for v in np.unique(allvarnames):\n",
    "    vmin=vminlist[v]\n",
    "    vmax=vmaxlist[v]\n",
    "    vminFrac=vminlistFrac[v]\n",
    "    vmaxFrac=vmaxlistFrac[v]\n",
    "    for prog in np.unique(progList[np.isfinite(latent_adata.obs[v+'log'])]):\n",
    "        vprog=v+'_log_'+prog+'_induct'\n",
    "        vprog_bin=v+'_binary_'+prog+'_induct'\n",
    "        protvalues=latent_adata.obs[v+'log'].to_numpy(copy=True)\n",
    "        protvalues[latent_adata.obs['outDuct']!=0]=np.nan\n",
    "        protvalues[latent_adata.obs['prog']!=prog]=np.nan\n",
    "        latent_adata.obs[vprog]=np.copy(protvalues)\n",
    "        protvalues[protvalues>0]=1\n",
    "        latent_adata.obs[vprog_bin]=np.copy(protvalues)\n",
    "\n",
    "        if not os.path.exists(os.path.join(subclusterplotdir,v,'duct')):\n",
    "            os.mkdir(os.path.join(subclusterplotdir,v,'duct'))\n",
    "        sc.settings.figdir=os.path.join(subclusterplotdir,v,'duct')\n",
    "\n",
    "        latent_adata_sub=latent_adata[np.isfinite(latent_adata.obs[vprog].to_numpy())]\n",
    "        idxKeep=np.repeat(False,latent_adata_sub.shape[0])\n",
    "        for c in np.unique(latent_adata_sub.obs['kmeans_sub']):\n",
    "            if np.sum(latent_adata_sub.obs['kmeans_sub']==c)>minCell:\n",
    "                idxKeep=np.logical_or(idxKeep,latent_adata_sub.obs['kmeans_sub']==c)\n",
    "        latent_adata_sub=latent_adata_sub[idxKeep]\n",
    "        if latent_adata_sub.shape[0]>0:\n",
    "            print(vprog)\n",
    "    #         subsizes=np.zeros(np.unique(kmeans_sub).size)\n",
    "            nonzeroSub,counts=np.unique(latent_adata_sub.obs['kmeans_sub'],return_counts=True)\n",
    "    #         for sidx in range(nonzeroSub.size):\n",
    "    #             subsizes[np.unique(kmeans_sub)==nonzeroSub[sidx]]=counts[sidx]\n",
    "            latent_adata_sub.uns['kmeans_sub_sizes']=counts\n",
    "            _,idxKeep,_=np.intersect1d(np.unique(kmeans_sub),nonzeroSub,return_indices=True)\n",
    "            latent_adata_sub.uns['paga']['connectivities']=latent_adata.uns['paga']['connectivities'][idxKeep][:,idxKeep]\n",
    "\n",
    "            sc.pl.paga(latent_adata_sub, color=[vprog],pos=trainPagaPos[idxKeep],node_size_power=1,fontoutline=0.5,save='graph'+vprog+'_allcells.png',show=False,random_state=6,vmin=vmin,vmax=vmax,cmap='jet')\n",
    "            sc.pl.umap(latent_adata_sub,color=[vprog],legend_loc='on data',save='graph_umap'+vprog+'.png',show=False,size=3,vmin=vmin,vmax=vmax,cmap='jet')\n",
    "            sc.pl.paga(latent_adata_sub, color=[vprog_bin],pos=trainPagaPos[idxKeep],node_size_power=1,fontoutline=0.5,save='graph'+vprog+'_allcells_PosFrac.png',show=False,random_state=6,vmin=vminFrac,vmax=vmaxFrac,cmap='jet')\n",
    "\n",
    "\n",
    "        \n",
    "        vprog=v+'_log_'+prog+'_outduct'\n",
    "        vprog_bin=v+'_binary_'+prog+'_outduct'\n",
    "        protvalues=latent_adata.obs[v+'log'].to_numpy(copy=True)\n",
    "        protvalues[latent_adata.obs['outDuct']!=1]=np.nan\n",
    "        protvalues[latent_adata.obs['prog']!=prog]=np.nan\n",
    "        latent_adata.obs[vprog]=np.copy(protvalues)\n",
    "        protvalues[protvalues>0]=1\n",
    "        latent_adata.obs[vprog_bin]=np.copy(protvalues)\n",
    "        \n",
    "        latent_adata_sub=latent_adata[np.isfinite(latent_adata.obs[vprog].to_numpy())]\n",
    "        idxKeep=np.repeat(False,latent_adata_sub.shape[0])\n",
    "        for c in np.unique(latent_adata_sub.obs['kmeans_sub']):\n",
    "            if np.sum(latent_adata_sub.obs['kmeans_sub']==c)>minCell:\n",
    "                idxKeep=np.logical_or(idxKeep,latent_adata_sub.obs['kmeans_sub']==c)\n",
    "        latent_adata_sub=latent_adata_sub[idxKeep]\n",
    "        if latent_adata_sub.shape[0]>0:\n",
    "    #         subsizes=np.zeros(np.unique(kmeans_sub).size)\n",
    "            nonzeroSub,counts=np.unique(latent_adata_sub.obs['kmeans_sub'],return_counts=True)\n",
    "    #         for sidx in range(nonzeroSub.size):\n",
    "    #             subsizes[np.unique(kmeans_sub)==nonzeroSub[sidx]]=counts[sidx]\n",
    "            latent_adata_sub.uns['kmeans_sub_sizes']=counts\n",
    "            _,idxKeep,_=np.intersect1d(np.unique(kmeans_sub),nonzeroSub,return_indices=True)\n",
    "            latent_adata_sub.uns['paga']['connectivities']=latent_adata.uns['paga']['connectivities'][idxKeep][:,idxKeep]\n",
    "\n",
    "            sc.settings.figdir=os.path.join(subclusterplotdir,v,'duct')\n",
    "\n",
    "            sc.pl.paga(latent_adata_sub, color=[vprog],pos=trainPagaPos[idxKeep],node_size_power=1,fontoutline=0.5,save='graph'+vprog+'_allcells.png',show=False,random_state=6,vmin=vmin,vmax=vmax,cmap='jet')\n",
    "            sc.pl.umap(latent_adata_sub,color=[vprog],legend_loc='on data',save='graph_umap'+vprog+'.png',show=False,size=3,vmin=vmin,vmax=vmax,cmap='jet')\n",
    "            sc.pl.paga(latent_adata_sub, color=[vprog_bin],pos=trainPagaPos[idxKeep],node_size_power=1,fontoutline=0.5,save='graph'+vprog+'_allcells_PosFrac.png',show=False,random_state=6,vmin=vminFrac,vmax=vmaxFrac,cmap='jet')\n",
    "\n",
    "\n",
    "\n"
   ]
  },
  {
   "cell_type": "code",
   "execution_count": 52,
   "metadata": {},
   "outputs": [
    {
     "name": "stdout",
     "output_type": "stream",
     "text": [
      "--> added 'pos', the PAGA positions (adata.uns['paga'])\n",
      "WARNING: saving figure to file /media/xinyi/dcis2idc/plots/cnnvaeexp0/cluster_valsamples_reordered/minibatchkmean_ncluster8n_pcs50epoch311_subcluster_all/pagagraphdist2duct_log_allcells.png\n",
      "WARNING: saving figure to file /media/xinyi/dcis2idc/plots/cnnvaeexp0/cluster_valsamples_reordered/minibatchkmean_ncluster8n_pcs50epoch311_subcluster_all/umapgraph_umapdist2duct_log.png\n"
     ]
    },
    {
     "data": {
      "text/plain": [
       "<AxesSubplot:title={'center':'dist2duct_log'}, xlabel='UMAP1', ylabel='UMAP2'>"
      ]
     },
     "execution_count": 52,
     "metadata": {},
     "output_type": "execute_result"
    }
   ],
   "source": [
    "#add single cell plots & use all cells -- use previously calculated graph in combined subcluster (neighbors=4)\n",
    "v='dist2duct_log'\n",
    "sc.settings.figdir=os.path.join(subclusterplotdir)\n",
    "sc.pl.paga(latent_adata, color=[v],pos=trainPagaPos,node_size_power=1,fontoutline=0.5,save='graph'+v+'_allcells.png',show=False,random_state=6)\n",
    "# sc.tl.umap(latent_adata, init_pos='paga')\n",
    "sc.pl.umap(latent_adata,color=[v],legend_loc='on data',save='graph_umap'+v+'.png',show=False,size=3)\n",
    "\n"
   ]
  },
  {
   "cell_type": "code",
   "execution_count": 65,
   "metadata": {
    "scrolled": true
   },
   "outputs": [
    {
     "name": "stdout",
     "output_type": "stream",
     "text": [
      "dist2duct_log_Breast tissue\n"
     ]
    },
    {
     "name": "stderr",
     "output_type": "stream",
     "text": [
      "/home/xinyi/.local/lib/python3.8/site-packages/anndata/compat/_overloaded_dict.py:106: ImplicitModificationWarning: Trying to modify attribute `._uns` of view, initializing view as actual.\n",
      "  self.data[key] = value\n"
     ]
    },
    {
     "name": "stdout",
     "output_type": "stream",
     "text": [
      "--> added 'pos', the PAGA positions (adata.uns['paga'])\n",
      "WARNING: saving figure to file /media/xinyi/dcis2idc/plots/cnnvaeexp0/cluster_valsamples_reordered/minibatchkmean_ncluster8n_pcs50epoch311_subcluster_all/pagagraphdist2duct_log_Breast tissue_allcells.png\n",
      "WARNING: saving figure to file /media/xinyi/dcis2idc/plots/cnnvaeexp0/cluster_valsamples_reordered/minibatchkmean_ncluster8n_pcs50epoch311_subcluster_all/umapgraph_umapdist2duct_log_Breast tissue.png\n",
      "dist2duct_log_Ductal carcinoma in situ\n"
     ]
    },
    {
     "name": "stderr",
     "output_type": "stream",
     "text": [
      "/home/xinyi/.local/lib/python3.8/site-packages/anndata/compat/_overloaded_dict.py:106: ImplicitModificationWarning: Trying to modify attribute `._uns` of view, initializing view as actual.\n",
      "  self.data[key] = value\n"
     ]
    },
    {
     "name": "stdout",
     "output_type": "stream",
     "text": [
      "--> added 'pos', the PAGA positions (adata.uns['paga'])\n",
      "WARNING: saving figure to file /media/xinyi/dcis2idc/plots/cnnvaeexp0/cluster_valsamples_reordered/minibatchkmean_ncluster8n_pcs50epoch311_subcluster_all/pagagraphdist2duct_log_Ductal carcinoma in situ_allcells.png\n",
      "WARNING: saving figure to file /media/xinyi/dcis2idc/plots/cnnvaeexp0/cluster_valsamples_reordered/minibatchkmean_ncluster8n_pcs50epoch311_subcluster_all/umapgraph_umapdist2duct_log_Ductal carcinoma in situ.png\n",
      "dist2duct_log_Ductal carcinoma in situ and breast tissue\n"
     ]
    },
    {
     "name": "stderr",
     "output_type": "stream",
     "text": [
      "/home/xinyi/.local/lib/python3.8/site-packages/anndata/compat/_overloaded_dict.py:106: ImplicitModificationWarning: Trying to modify attribute `._uns` of view, initializing view as actual.\n",
      "  self.data[key] = value\n"
     ]
    },
    {
     "name": "stdout",
     "output_type": "stream",
     "text": [
      "--> added 'pos', the PAGA positions (adata.uns['paga'])\n",
      "WARNING: saving figure to file /media/xinyi/dcis2idc/plots/cnnvaeexp0/cluster_valsamples_reordered/minibatchkmean_ncluster8n_pcs50epoch311_subcluster_all/pagagraphdist2duct_log_Ductal carcinoma in situ and breast tissue_allcells.png\n",
      "WARNING: saving figure to file /media/xinyi/dcis2idc/plots/cnnvaeexp0/cluster_valsamples_reordered/minibatchkmean_ncluster8n_pcs50epoch311_subcluster_all/umapgraph_umapdist2duct_log_Ductal carcinoma in situ and breast tissue.png\n",
      "dist2duct_log_Ductal carcinoma in situ with early infiltrati\n"
     ]
    },
    {
     "name": "stderr",
     "output_type": "stream",
     "text": [
      "/home/xinyi/.local/lib/python3.8/site-packages/anndata/compat/_overloaded_dict.py:106: ImplicitModificationWarning: Trying to modify attribute `._uns` of view, initializing view as actual.\n",
      "  self.data[key] = value\n"
     ]
    },
    {
     "name": "stdout",
     "output_type": "stream",
     "text": [
      "--> added 'pos', the PAGA positions (adata.uns['paga'])\n",
      "WARNING: saving figure to file /media/xinyi/dcis2idc/plots/cnnvaeexp0/cluster_valsamples_reordered/minibatchkmean_ncluster8n_pcs50epoch311_subcluster_all/pagagraphdist2duct_log_Ductal carcinoma in situ with early infiltrati_allcells.png\n",
      "WARNING: saving figure to file /media/xinyi/dcis2idc/plots/cnnvaeexp0/cluster_valsamples_reordered/minibatchkmean_ncluster8n_pcs50epoch311_subcluster_all/umapgraph_umapdist2duct_log_Ductal carcinoma in situ with early infiltrati.png\n",
      "dist2duct_log_Hyperplasia\n"
     ]
    },
    {
     "name": "stderr",
     "output_type": "stream",
     "text": [
      "/home/xinyi/.local/lib/python3.8/site-packages/anndata/compat/_overloaded_dict.py:106: ImplicitModificationWarning: Trying to modify attribute `._uns` of view, initializing view as actual.\n",
      "  self.data[key] = value\n"
     ]
    },
    {
     "name": "stdout",
     "output_type": "stream",
     "text": [
      "--> added 'pos', the PAGA positions (adata.uns['paga'])\n",
      "WARNING: saving figure to file /media/xinyi/dcis2idc/plots/cnnvaeexp0/cluster_valsamples_reordered/minibatchkmean_ncluster8n_pcs50epoch311_subcluster_all/pagagraphdist2duct_log_Hyperplasia_allcells.png\n",
      "WARNING: saving figure to file /media/xinyi/dcis2idc/plots/cnnvaeexp0/cluster_valsamples_reordered/minibatchkmean_ncluster8n_pcs50epoch311_subcluster_all/umapgraph_umapdist2duct_log_Hyperplasia.png\n",
      "dist2duct_log_Invasive ductal carcinoma\n"
     ]
    },
    {
     "name": "stderr",
     "output_type": "stream",
     "text": [
      "/home/xinyi/.local/lib/python3.8/site-packages/anndata/compat/_overloaded_dict.py:106: ImplicitModificationWarning: Trying to modify attribute `._uns` of view, initializing view as actual.\n",
      "  self.data[key] = value\n"
     ]
    },
    {
     "name": "stdout",
     "output_type": "stream",
     "text": [
      "--> added 'pos', the PAGA positions (adata.uns['paga'])\n",
      "WARNING: saving figure to file /media/xinyi/dcis2idc/plots/cnnvaeexp0/cluster_valsamples_reordered/minibatchkmean_ncluster8n_pcs50epoch311_subcluster_all/pagagraphdist2duct_log_Invasive ductal carcinoma_allcells.png\n",
      "WARNING: saving figure to file /media/xinyi/dcis2idc/plots/cnnvaeexp0/cluster_valsamples_reordered/minibatchkmean_ncluster8n_pcs50epoch311_subcluster_all/umapgraph_umapdist2duct_log_Invasive ductal carcinoma.png\n",
      "dist2duct_log_Invasive ductal carcinoma and breast tissue\n"
     ]
    },
    {
     "name": "stderr",
     "output_type": "stream",
     "text": [
      "/home/xinyi/.local/lib/python3.8/site-packages/anndata/compat/_overloaded_dict.py:106: ImplicitModificationWarning: Trying to modify attribute `._uns` of view, initializing view as actual.\n",
      "  self.data[key] = value\n"
     ]
    },
    {
     "name": "stdout",
     "output_type": "stream",
     "text": [
      "--> added 'pos', the PAGA positions (adata.uns['paga'])\n",
      "WARNING: saving figure to file /media/xinyi/dcis2idc/plots/cnnvaeexp0/cluster_valsamples_reordered/minibatchkmean_ncluster8n_pcs50epoch311_subcluster_all/pagagraphdist2duct_log_Invasive ductal carcinoma and breast tissue_allcells.png\n",
      "WARNING: saving figure to file /media/xinyi/dcis2idc/plots/cnnvaeexp0/cluster_valsamples_reordered/minibatchkmean_ncluster8n_pcs50epoch311_subcluster_all/umapgraph_umapdist2duct_log_Invasive ductal carcinoma and breast tissue.png\n",
      "dist2duct_log_Micropapillary type ductal carcinoma in situ w\n"
     ]
    },
    {
     "name": "stderr",
     "output_type": "stream",
     "text": [
      "/home/xinyi/.local/lib/python3.8/site-packages/anndata/compat/_overloaded_dict.py:106: ImplicitModificationWarning: Trying to modify attribute `._uns` of view, initializing view as actual.\n",
      "  self.data[key] = value\n"
     ]
    },
    {
     "name": "stdout",
     "output_type": "stream",
     "text": [
      "--> added 'pos', the PAGA positions (adata.uns['paga'])\n",
      "WARNING: saving figure to file /media/xinyi/dcis2idc/plots/cnnvaeexp0/cluster_valsamples_reordered/minibatchkmean_ncluster8n_pcs50epoch311_subcluster_all/pagagraphdist2duct_log_Micropapillary type ductal carcinoma in situ w_allcells.png\n",
      "WARNING: saving figure to file /media/xinyi/dcis2idc/plots/cnnvaeexp0/cluster_valsamples_reordered/minibatchkmean_ncluster8n_pcs50epoch311_subcluster_all/umapgraph_umapdist2duct_log_Micropapillary type ductal carcinoma in situ w.png\n"
     ]
    }
   ],
   "source": [
    "#by prog\n",
    "latent_adata.obs['prog']=progList\n",
    "vmin=0\n",
    "vmax=np.max(latent_adata.obs['dist2duct_log'])\n",
    "for prog in np.unique(progList[np.isfinite(latent_adata.obs['dist2duct_log'])]):\n",
    "    v='dist2duct_log_'+prog\n",
    "    protvalues=np.repeat(np.nan,latent_adata.shape[0])\n",
    "    protvalues[allidx]=np.log(allstats+1)\n",
    "    protvalues[latent_adata.obs['prog']!=prog]=np.nan\n",
    "    latent_adata.obs[v]=protvalues\n",
    "    sc.settings.figdir=os.path.join(subclusterplotdir)\n",
    "    \n",
    "    latent_adata_sub=latent_adata[np.isfinite(latent_adata.obs[v].to_numpy())]\n",
    "    idxKeep=np.repeat(False,latent_adata_sub.shape[0])\n",
    "    for c in np.unique(latent_adata_sub.obs['kmeans_sub']):\n",
    "        if np.sum(latent_adata_sub.obs['kmeans_sub']==c)>minCell:\n",
    "            idxKeep=np.logical_or(idxKeep,latent_adata_sub.obs['kmeans_sub']==c)\n",
    "    latent_adata_sub=latent_adata_sub[idxKeep]\n",
    "    if latent_adata_sub.shape[0]>0:\n",
    "        print(v)\n",
    "#         subsizes=np.zeros(np.unique(kmeans_sub).size)\n",
    "        nonzeroSub,counts=np.unique(latent_adata_sub.obs['kmeans_sub'],return_counts=True)\n",
    "#         for sidx in range(nonzeroSub.size):\n",
    "#             subsizes[np.unique(kmeans_sub)==nonzeroSub[sidx]]=counts[sidx]\n",
    "        latent_adata_sub.uns['kmeans_sub_sizes']=counts\n",
    "        _,idxKeep,_=np.intersect1d(np.unique(kmeans_sub),nonzeroSub,return_indices=True)\n",
    "        latent_adata_sub.uns['paga']['connectivities']=latent_adata.uns['paga']['connectivities'][idxKeep][:,idxKeep]\n",
    "\n",
    "\n",
    "\n",
    "        sc.pl.paga(latent_adata_sub, color=[v],pos=trainPagaPos[idxKeep],node_size_power=1,fontoutline=0.5,save='graph'+v+'_allcells.png',show=False,random_state=6,cmap='jet')\n",
    "    #     sc.tl.umap(latent_adata, init_pos='paga')\n",
    "        sc.pl.umap(latent_adata_sub,color=[v],legend_loc='on data',save='graph_umap'+v+'.png',show=False,size=3,vmin=vmin,vmax=vmax)\n",
    "\n"
   ]
  },
  {
   "cell_type": "code",
   "execution_count": 56,
   "metadata": {},
   "outputs": [
    {
     "name": "stdout",
     "output_type": "stream",
     "text": [
      "--> added 'pos', the PAGA positions (adata.uns['paga'])\n",
      "WARNING: saving figure to file /media/xinyi/dcis2idc/plots/cnnvaeexp0/cluster_valsamples_reordered/minibatchkmean_ncluster8n_pcs50epoch311_subcluster_all/pagagraphoutDuct_allcells.png\n"
     ]
    },
    {
     "data": {
      "text/plain": [
       "<Axes:>"
      ]
     },
     "execution_count": 56,
     "metadata": {},
     "output_type": "execute_result"
    }
   ],
   "source": [
    "#%cells out of duct\n",
    "#add single cell plots & use all cells -- use previously calculated graph in combined subcluster (neighbors=4)\n",
    "v='outDuct'\n",
    "sc.settings.figdir=os.path.join(subclusterplotdir)\n",
    "\n",
    "sc.pl.paga(latent_adata,pos=trainPagaPos,node_size_power=1,fontoutline=0.5, color=[v],save='graph'+v+'_allcells.png',show=False,random_state=6)\n"
   ]
  },
  {
   "cell_type": "code",
   "execution_count": 64,
   "metadata": {
    "scrolled": true
   },
   "outputs": [
    {
     "name": "stdout",
     "output_type": "stream",
     "text": [
      "outDuct_Breast tissue\n"
     ]
    },
    {
     "name": "stderr",
     "output_type": "stream",
     "text": [
      "/home/xinyi/.local/lib/python3.8/site-packages/anndata/compat/_overloaded_dict.py:106: ImplicitModificationWarning: Trying to modify attribute `._uns` of view, initializing view as actual.\n",
      "  self.data[key] = value\n"
     ]
    },
    {
     "name": "stdout",
     "output_type": "stream",
     "text": [
      "--> added 'pos', the PAGA positions (adata.uns['paga'])\n",
      "WARNING: saving figure to file /media/xinyi/dcis2idc/plots/cnnvaeexp0/cluster_valsamples_reordered/minibatchkmean_ncluster8n_pcs50epoch311_subcluster_all/pagagraphoutDuct_Breast tissue_allcells.png\n",
      "outDuct_Ductal carcinoma in situ\n"
     ]
    },
    {
     "name": "stderr",
     "output_type": "stream",
     "text": [
      "/home/xinyi/.local/lib/python3.8/site-packages/anndata/compat/_overloaded_dict.py:106: ImplicitModificationWarning: Trying to modify attribute `._uns` of view, initializing view as actual.\n",
      "  self.data[key] = value\n"
     ]
    },
    {
     "name": "stdout",
     "output_type": "stream",
     "text": [
      "--> added 'pos', the PAGA positions (adata.uns['paga'])\n",
      "WARNING: saving figure to file /media/xinyi/dcis2idc/plots/cnnvaeexp0/cluster_valsamples_reordered/minibatchkmean_ncluster8n_pcs50epoch311_subcluster_all/pagagraphoutDuct_Ductal carcinoma in situ_allcells.png\n",
      "outDuct_Ductal carcinoma in situ and breast tissue\n"
     ]
    },
    {
     "name": "stderr",
     "output_type": "stream",
     "text": [
      "/home/xinyi/.local/lib/python3.8/site-packages/anndata/compat/_overloaded_dict.py:106: ImplicitModificationWarning: Trying to modify attribute `._uns` of view, initializing view as actual.\n",
      "  self.data[key] = value\n"
     ]
    },
    {
     "name": "stdout",
     "output_type": "stream",
     "text": [
      "--> added 'pos', the PAGA positions (adata.uns['paga'])\n",
      "WARNING: saving figure to file /media/xinyi/dcis2idc/plots/cnnvaeexp0/cluster_valsamples_reordered/minibatchkmean_ncluster8n_pcs50epoch311_subcluster_all/pagagraphoutDuct_Ductal carcinoma in situ and breast tissue_allcells.png\n",
      "outDuct_Ductal carcinoma in situ with early infiltrati\n"
     ]
    },
    {
     "name": "stderr",
     "output_type": "stream",
     "text": [
      "/home/xinyi/.local/lib/python3.8/site-packages/anndata/compat/_overloaded_dict.py:106: ImplicitModificationWarning: Trying to modify attribute `._uns` of view, initializing view as actual.\n",
      "  self.data[key] = value\n"
     ]
    },
    {
     "name": "stdout",
     "output_type": "stream",
     "text": [
      "--> added 'pos', the PAGA positions (adata.uns['paga'])\n",
      "WARNING: saving figure to file /media/xinyi/dcis2idc/plots/cnnvaeexp0/cluster_valsamples_reordered/minibatchkmean_ncluster8n_pcs50epoch311_subcluster_all/pagagraphoutDuct_Ductal carcinoma in situ with early infiltrati_allcells.png\n",
      "outDuct_Hyperplasia\n"
     ]
    },
    {
     "name": "stderr",
     "output_type": "stream",
     "text": [
      "/home/xinyi/.local/lib/python3.8/site-packages/anndata/compat/_overloaded_dict.py:106: ImplicitModificationWarning: Trying to modify attribute `._uns` of view, initializing view as actual.\n",
      "  self.data[key] = value\n"
     ]
    },
    {
     "name": "stdout",
     "output_type": "stream",
     "text": [
      "--> added 'pos', the PAGA positions (adata.uns['paga'])\n",
      "WARNING: saving figure to file /media/xinyi/dcis2idc/plots/cnnvaeexp0/cluster_valsamples_reordered/minibatchkmean_ncluster8n_pcs50epoch311_subcluster_all/pagagraphoutDuct_Hyperplasia_allcells.png\n",
      "outDuct_Invasive ductal carcinoma\n"
     ]
    },
    {
     "name": "stderr",
     "output_type": "stream",
     "text": [
      "/home/xinyi/.local/lib/python3.8/site-packages/anndata/compat/_overloaded_dict.py:106: ImplicitModificationWarning: Trying to modify attribute `._uns` of view, initializing view as actual.\n",
      "  self.data[key] = value\n"
     ]
    },
    {
     "name": "stdout",
     "output_type": "stream",
     "text": [
      "--> added 'pos', the PAGA positions (adata.uns['paga'])\n",
      "WARNING: saving figure to file /media/xinyi/dcis2idc/plots/cnnvaeexp0/cluster_valsamples_reordered/minibatchkmean_ncluster8n_pcs50epoch311_subcluster_all/pagagraphoutDuct_Invasive ductal carcinoma_allcells.png\n",
      "outDuct_Invasive ductal carcinoma and breast tissue\n"
     ]
    },
    {
     "name": "stderr",
     "output_type": "stream",
     "text": [
      "/home/xinyi/.local/lib/python3.8/site-packages/anndata/compat/_overloaded_dict.py:106: ImplicitModificationWarning: Trying to modify attribute `._uns` of view, initializing view as actual.\n",
      "  self.data[key] = value\n"
     ]
    },
    {
     "name": "stdout",
     "output_type": "stream",
     "text": [
      "--> added 'pos', the PAGA positions (adata.uns['paga'])\n",
      "WARNING: saving figure to file /media/xinyi/dcis2idc/plots/cnnvaeexp0/cluster_valsamples_reordered/minibatchkmean_ncluster8n_pcs50epoch311_subcluster_all/pagagraphoutDuct_Invasive ductal carcinoma and breast tissue_allcells.png\n",
      "outDuct_Micropapillary type ductal carcinoma in situ w\n"
     ]
    },
    {
     "name": "stderr",
     "output_type": "stream",
     "text": [
      "/home/xinyi/.local/lib/python3.8/site-packages/anndata/compat/_overloaded_dict.py:106: ImplicitModificationWarning: Trying to modify attribute `._uns` of view, initializing view as actual.\n",
      "  self.data[key] = value\n"
     ]
    },
    {
     "name": "stdout",
     "output_type": "stream",
     "text": [
      "--> added 'pos', the PAGA positions (adata.uns['paga'])\n",
      "WARNING: saving figure to file /media/xinyi/dcis2idc/plots/cnnvaeexp0/cluster_valsamples_reordered/minibatchkmean_ncluster8n_pcs50epoch311_subcluster_all/pagagraphoutDuct_Micropapillary type ductal carcinoma in situ w_allcells.png\n"
     ]
    }
   ],
   "source": [
    "# %cells out of duct - by prog\n",
    "for prog in np.unique(progList[np.isfinite(latent_adata.obs['dist2duct_log'])]):\n",
    "    v='outDuct_'+prog\n",
    "    protvalues=np.repeat(np.nan,latent_adata.shape[0])\n",
    "    protvalues[allidx]=allstats_binary\n",
    "    protvalues[latent_adata.obs['prog']!=prog]=np.nan\n",
    "    latent_adata.obs[v]=protvalues\n",
    "    sc.settings.figdir=os.path.join(subclusterplotdir)\n",
    "\n",
    "    latent_adata_sub=latent_adata[np.isfinite(latent_adata.obs[v].to_numpy())]\n",
    "    idxKeep=np.repeat(False,latent_adata_sub.shape[0])\n",
    "    for c in np.unique(latent_adata_sub.obs['kmeans_sub']):\n",
    "        if np.sum(latent_adata_sub.obs['kmeans_sub']==c)>minCell:\n",
    "            idxKeep=np.logical_or(idxKeep,latent_adata_sub.obs['kmeans_sub']==c)\n",
    "    latent_adata_sub=latent_adata_sub[idxKeep]\n",
    "    if latent_adata_sub.shape[0]>0:\n",
    "        print(v)\n",
    "#         subsizes=np.zeros(np.unique(kmeans_sub).size)\n",
    "        nonzeroSub,counts=np.unique(latent_adata_sub.obs['kmeans_sub'],return_counts=True)\n",
    "#         for sidx in range(nonzeroSub.size):\n",
    "#             subsizes[np.unique(kmeans_sub)==nonzeroSub[sidx]]=counts[sidx]\n",
    "        latent_adata_sub.uns['kmeans_sub_sizes']=counts\n",
    "        _,idxKeep,_=np.intersect1d(np.unique(kmeans_sub),nonzeroSub,return_indices=True)\n",
    "        latent_adata_sub.uns['paga']['connectivities']=latent_adata.uns['paga']['connectivities'][idxKeep][:,idxKeep]\n",
    "\n",
    "\n",
    "        sc.pl.paga(latent_adata_sub, color=[v],pos=trainPagaPos[idxKeep],node_size_power=1,fontoutline=0.5,save='graph'+v+'_allcells.png',show=False,random_state=6,cmap='jet')\n",
    "\n"
   ]
  },
  {
   "cell_type": "code",
   "execution_count": 59,
   "metadata": {},
   "outputs": [
    {
     "name": "stdout",
     "output_type": "stream",
     "text": [
      "--> added 'pos', the PAGA positions (adata.uns['paga'])\n",
      "WARNING: saving figure to file /media/xinyi/dcis2idc/plots/cnnvaeexp0/cluster_valsamples_reordered/minibatchkmean_ncluster8n_pcs50epoch311_subcluster_all/pagagraphdist2duct_log_outOnly_allcells.png\n",
      "WARNING: saving figure to file /media/xinyi/dcis2idc/plots/cnnvaeexp0/cluster_valsamples_reordered/minibatchkmean_ncluster8n_pcs50epoch311_subcluster_all/umapgraph_umapdist2duct_log_outOnly.png\n"
     ]
    },
    {
     "data": {
      "text/plain": [
       "<AxesSubplot:title={'center':'dist2duct_log_outOnly'}, xlabel='UMAP1', ylabel='UMAP2'>"
      ]
     },
     "execution_count": 59,
     "metadata": {},
     "output_type": "execute_result"
    }
   ],
   "source": [
    "#distance excluding cells in duct\n",
    "\n",
    "v='dist2duct_log_outOnly'\n",
    "sc.settings.figdir=os.path.join(subclusterplotdir)\n",
    "\n",
    "sc.pl.paga(latent_adata, color=[v],pos=trainPagaPos,node_size_power=1,fontoutline=0.5,save='graph'+v+'_allcells.png',show=False,random_state=6)\n",
    "# sc.tl.umap(latent_adata, init_pos='paga')\n",
    "sc.pl.umap(latent_adata,color=[v],legend_loc='on data',save='graph_umap'+v+'.png',show=False,size=3)\n",
    "\n"
   ]
  },
  {
   "cell_type": "code",
   "execution_count": 63,
   "metadata": {
    "scrolled": true
   },
   "outputs": [
    {
     "name": "stdout",
     "output_type": "stream",
     "text": [
      "dist2duct_log_outOnly_Breast tissue\n"
     ]
    },
    {
     "name": "stderr",
     "output_type": "stream",
     "text": [
      "/home/xinyi/.local/lib/python3.8/site-packages/anndata/compat/_overloaded_dict.py:106: ImplicitModificationWarning: Trying to modify attribute `._uns` of view, initializing view as actual.\n",
      "  self.data[key] = value\n"
     ]
    },
    {
     "name": "stdout",
     "output_type": "stream",
     "text": [
      "--> added 'pos', the PAGA positions (adata.uns['paga'])\n",
      "WARNING: saving figure to file /media/xinyi/dcis2idc/plots/cnnvaeexp0/cluster_valsamples_reordered/minibatchkmean_ncluster8n_pcs50epoch311_subcluster_all/pagagraphdist2duct_log_outOnly_Breast tissue_allcells.png\n",
      "WARNING: saving figure to file /media/xinyi/dcis2idc/plots/cnnvaeexp0/cluster_valsamples_reordered/minibatchkmean_ncluster8n_pcs50epoch311_subcluster_all/umapgraph_umapdist2duct_log_outOnly_Breast tissue.png\n",
      "dist2duct_log_outOnly_Ductal carcinoma in situ\n"
     ]
    },
    {
     "name": "stderr",
     "output_type": "stream",
     "text": [
      "/home/xinyi/.local/lib/python3.8/site-packages/anndata/compat/_overloaded_dict.py:106: ImplicitModificationWarning: Trying to modify attribute `._uns` of view, initializing view as actual.\n",
      "  self.data[key] = value\n"
     ]
    },
    {
     "name": "stdout",
     "output_type": "stream",
     "text": [
      "--> added 'pos', the PAGA positions (adata.uns['paga'])\n",
      "WARNING: saving figure to file /media/xinyi/dcis2idc/plots/cnnvaeexp0/cluster_valsamples_reordered/minibatchkmean_ncluster8n_pcs50epoch311_subcluster_all/pagagraphdist2duct_log_outOnly_Ductal carcinoma in situ_allcells.png\n",
      "WARNING: saving figure to file /media/xinyi/dcis2idc/plots/cnnvaeexp0/cluster_valsamples_reordered/minibatchkmean_ncluster8n_pcs50epoch311_subcluster_all/umapgraph_umapdist2duct_log_outOnly_Ductal carcinoma in situ.png\n",
      "dist2duct_log_outOnly_Ductal carcinoma in situ and breast tissue\n"
     ]
    },
    {
     "name": "stderr",
     "output_type": "stream",
     "text": [
      "/home/xinyi/.local/lib/python3.8/site-packages/anndata/compat/_overloaded_dict.py:106: ImplicitModificationWarning: Trying to modify attribute `._uns` of view, initializing view as actual.\n",
      "  self.data[key] = value\n"
     ]
    },
    {
     "name": "stdout",
     "output_type": "stream",
     "text": [
      "--> added 'pos', the PAGA positions (adata.uns['paga'])\n",
      "WARNING: saving figure to file /media/xinyi/dcis2idc/plots/cnnvaeexp0/cluster_valsamples_reordered/minibatchkmean_ncluster8n_pcs50epoch311_subcluster_all/pagagraphdist2duct_log_outOnly_Ductal carcinoma in situ and breast tissue_allcells.png\n",
      "WARNING: saving figure to file /media/xinyi/dcis2idc/plots/cnnvaeexp0/cluster_valsamples_reordered/minibatchkmean_ncluster8n_pcs50epoch311_subcluster_all/umapgraph_umapdist2duct_log_outOnly_Ductal carcinoma in situ and breast tissue.png\n",
      "dist2duct_log_outOnly_Ductal carcinoma in situ with early infiltrati\n"
     ]
    },
    {
     "name": "stderr",
     "output_type": "stream",
     "text": [
      "/home/xinyi/.local/lib/python3.8/site-packages/anndata/compat/_overloaded_dict.py:106: ImplicitModificationWarning: Trying to modify attribute `._uns` of view, initializing view as actual.\n",
      "  self.data[key] = value\n"
     ]
    },
    {
     "name": "stdout",
     "output_type": "stream",
     "text": [
      "--> added 'pos', the PAGA positions (adata.uns['paga'])\n",
      "WARNING: saving figure to file /media/xinyi/dcis2idc/plots/cnnvaeexp0/cluster_valsamples_reordered/minibatchkmean_ncluster8n_pcs50epoch311_subcluster_all/pagagraphdist2duct_log_outOnly_Ductal carcinoma in situ with early infiltrati_allcells.png\n",
      "WARNING: saving figure to file /media/xinyi/dcis2idc/plots/cnnvaeexp0/cluster_valsamples_reordered/minibatchkmean_ncluster8n_pcs50epoch311_subcluster_all/umapgraph_umapdist2duct_log_outOnly_Ductal carcinoma in situ with early infiltrati.png\n",
      "dist2duct_log_outOnly_Hyperplasia\n"
     ]
    },
    {
     "name": "stderr",
     "output_type": "stream",
     "text": [
      "/home/xinyi/.local/lib/python3.8/site-packages/anndata/compat/_overloaded_dict.py:106: ImplicitModificationWarning: Trying to modify attribute `._uns` of view, initializing view as actual.\n",
      "  self.data[key] = value\n"
     ]
    },
    {
     "name": "stdout",
     "output_type": "stream",
     "text": [
      "--> added 'pos', the PAGA positions (adata.uns['paga'])\n",
      "WARNING: saving figure to file /media/xinyi/dcis2idc/plots/cnnvaeexp0/cluster_valsamples_reordered/minibatchkmean_ncluster8n_pcs50epoch311_subcluster_all/pagagraphdist2duct_log_outOnly_Hyperplasia_allcells.png\n",
      "WARNING: saving figure to file /media/xinyi/dcis2idc/plots/cnnvaeexp0/cluster_valsamples_reordered/minibatchkmean_ncluster8n_pcs50epoch311_subcluster_all/umapgraph_umapdist2duct_log_outOnly_Hyperplasia.png\n",
      "dist2duct_log_outOnly_Invasive ductal carcinoma\n"
     ]
    },
    {
     "name": "stderr",
     "output_type": "stream",
     "text": [
      "/home/xinyi/.local/lib/python3.8/site-packages/anndata/compat/_overloaded_dict.py:106: ImplicitModificationWarning: Trying to modify attribute `._uns` of view, initializing view as actual.\n",
      "  self.data[key] = value\n"
     ]
    },
    {
     "name": "stdout",
     "output_type": "stream",
     "text": [
      "--> added 'pos', the PAGA positions (adata.uns['paga'])\n",
      "WARNING: saving figure to file /media/xinyi/dcis2idc/plots/cnnvaeexp0/cluster_valsamples_reordered/minibatchkmean_ncluster8n_pcs50epoch311_subcluster_all/pagagraphdist2duct_log_outOnly_Invasive ductal carcinoma_allcells.png\n",
      "WARNING: saving figure to file /media/xinyi/dcis2idc/plots/cnnvaeexp0/cluster_valsamples_reordered/minibatchkmean_ncluster8n_pcs50epoch311_subcluster_all/umapgraph_umapdist2duct_log_outOnly_Invasive ductal carcinoma.png\n",
      "dist2duct_log_outOnly_Invasive ductal carcinoma and breast tissue\n"
     ]
    },
    {
     "name": "stderr",
     "output_type": "stream",
     "text": [
      "/home/xinyi/.local/lib/python3.8/site-packages/anndata/compat/_overloaded_dict.py:106: ImplicitModificationWarning: Trying to modify attribute `._uns` of view, initializing view as actual.\n",
      "  self.data[key] = value\n"
     ]
    },
    {
     "name": "stdout",
     "output_type": "stream",
     "text": [
      "--> added 'pos', the PAGA positions (adata.uns['paga'])\n",
      "WARNING: saving figure to file /media/xinyi/dcis2idc/plots/cnnvaeexp0/cluster_valsamples_reordered/minibatchkmean_ncluster8n_pcs50epoch311_subcluster_all/pagagraphdist2duct_log_outOnly_Invasive ductal carcinoma and breast tissue_allcells.png\n",
      "WARNING: saving figure to file /media/xinyi/dcis2idc/plots/cnnvaeexp0/cluster_valsamples_reordered/minibatchkmean_ncluster8n_pcs50epoch311_subcluster_all/umapgraph_umapdist2duct_log_outOnly_Invasive ductal carcinoma and breast tissue.png\n",
      "dist2duct_log_outOnly_Micropapillary type ductal carcinoma in situ w\n"
     ]
    },
    {
     "name": "stderr",
     "output_type": "stream",
     "text": [
      "/home/xinyi/.local/lib/python3.8/site-packages/anndata/compat/_overloaded_dict.py:106: ImplicitModificationWarning: Trying to modify attribute `._uns` of view, initializing view as actual.\n",
      "  self.data[key] = value\n"
     ]
    },
    {
     "name": "stdout",
     "output_type": "stream",
     "text": [
      "--> added 'pos', the PAGA positions (adata.uns['paga'])\n",
      "WARNING: saving figure to file /media/xinyi/dcis2idc/plots/cnnvaeexp0/cluster_valsamples_reordered/minibatchkmean_ncluster8n_pcs50epoch311_subcluster_all/pagagraphdist2duct_log_outOnly_Micropapillary type ductal carcinoma in situ w_allcells.png\n",
      "WARNING: saving figure to file /media/xinyi/dcis2idc/plots/cnnvaeexp0/cluster_valsamples_reordered/minibatchkmean_ncluster8n_pcs50epoch311_subcluster_all/umapgraph_umapdist2duct_log_outOnly_Micropapillary type ductal carcinoma in situ w.png\n"
     ]
    }
   ],
   "source": [
    "#distance excluding cells in duct - by prog\n",
    "vmin=0\n",
    "vmax=np.max(latent_adata.obs['dist2duct_log_outOnly'])\n",
    "for prog in np.unique(progList[np.isfinite(latent_adata.obs['dist2duct_log'])]):\n",
    "    v='dist2duct_log_outOnly_'+prog\n",
    "    protvalues=np.repeat(np.nan,latent_adata.shape[0])\n",
    "    protvalues[allidx[allstats>0]]=np.log(allstats[allstats>0]+1)\n",
    "    protvalues[latent_adata.obs['prog']!=prog]=np.nan\n",
    "    latent_adata.obs[v]=protvalues\n",
    "    sc.settings.figdir=os.path.join(subclusterplotdir)\n",
    "\n",
    "    latent_adata_sub=latent_adata[np.isfinite(latent_adata.obs[v].to_numpy())]\n",
    "    idxKeep=np.repeat(False,latent_adata_sub.shape[0])\n",
    "    for c in np.unique(latent_adata_sub.obs['kmeans_sub']):\n",
    "        if np.sum(latent_adata_sub.obs['kmeans_sub']==c)>minCell:\n",
    "            idxKeep=np.logical_or(idxKeep,latent_adata_sub.obs['kmeans_sub']==c)\n",
    "    latent_adata_sub=latent_adata_sub[idxKeep]\n",
    "    if latent_adata_sub.shape[0]>0:\n",
    "        print(v)\n",
    "#         subsizes=np.zeros(np.unique(kmeans_sub).size)\n",
    "        nonzeroSub,counts=np.unique(latent_adata_sub.obs['kmeans_sub'],return_counts=True)\n",
    "#         for sidx in range(nonzeroSub.size):\n",
    "#             subsizes[np.unique(kmeans_sub)==nonzeroSub[sidx]]=counts[sidx]\n",
    "        latent_adata_sub.uns['kmeans_sub_sizes']=counts\n",
    "        _,idxKeep,_=np.intersect1d(np.unique(kmeans_sub),nonzeroSub,return_indices=True)\n",
    "        latent_adata_sub.uns['paga']['connectivities']=latent_adata.uns['paga']['connectivities'][idxKeep][:,idxKeep]\n",
    "\n",
    "\n",
    "\n",
    "        sc.pl.paga(latent_adata_sub, color=[v],pos=trainPagaPos[idxKeep],node_size_power=1,fontoutline=0.5,save='graph'+v+'_allcells.png',show=False,random_state=6,cmap='jet')\n",
    "    #     sc.tl.umap(latent_adata, init_pos='paga')\n",
    "        sc.pl.umap(latent_adata_sub,color=[v],legend_loc='on data',save='graph_umap'+v+'.png',show=False,size=3,vmin=vmin,vmax=vmax)\n",
    "\n",
    "\n"
   ]
  },
  {
   "cell_type": "code",
   "execution_count": 62,
   "metadata": {
    "scrolled": true
   },
   "outputs": [
    {
     "name": "stdout",
     "output_type": "stream",
     "text": [
      "distThresh_Breast tissue_192\n"
     ]
    },
    {
     "name": "stderr",
     "output_type": "stream",
     "text": [
      "/home/xinyi/.local/lib/python3.8/site-packages/anndata/compat/_overloaded_dict.py:106: ImplicitModificationWarning: Trying to modify attribute `._uns` of view, initializing view as actual.\n",
      "  self.data[key] = value\n"
     ]
    },
    {
     "name": "stdout",
     "output_type": "stream",
     "text": [
      "--> added 'pos', the PAGA positions (adata.uns['paga'])\n",
      "WARNING: saving figure to file /media/xinyi/dcis2idc/plots/cnnvaeexp0/cluster_valsamples_reordered/minibatchkmean_ncluster8n_pcs50epoch311_subcluster_all/distThresh/pagagraphdistThresh_Breast tissue_192_allcells.png\n",
      "distThresh_Ductal carcinoma in situ_192\n"
     ]
    },
    {
     "name": "stderr",
     "output_type": "stream",
     "text": [
      "/home/xinyi/.local/lib/python3.8/site-packages/anndata/compat/_overloaded_dict.py:106: ImplicitModificationWarning: Trying to modify attribute `._uns` of view, initializing view as actual.\n",
      "  self.data[key] = value\n"
     ]
    },
    {
     "name": "stdout",
     "output_type": "stream",
     "text": [
      "--> added 'pos', the PAGA positions (adata.uns['paga'])\n",
      "WARNING: saving figure to file /media/xinyi/dcis2idc/plots/cnnvaeexp0/cluster_valsamples_reordered/minibatchkmean_ncluster8n_pcs50epoch311_subcluster_all/distThresh/pagagraphdistThresh_Ductal carcinoma in situ_192_allcells.png\n",
      "distThresh_Ductal carcinoma in situ and breast tissue_192\n"
     ]
    },
    {
     "name": "stderr",
     "output_type": "stream",
     "text": [
      "/home/xinyi/.local/lib/python3.8/site-packages/anndata/compat/_overloaded_dict.py:106: ImplicitModificationWarning: Trying to modify attribute `._uns` of view, initializing view as actual.\n",
      "  self.data[key] = value\n"
     ]
    },
    {
     "name": "stdout",
     "output_type": "stream",
     "text": [
      "--> added 'pos', the PAGA positions (adata.uns['paga'])\n",
      "WARNING: saving figure to file /media/xinyi/dcis2idc/plots/cnnvaeexp0/cluster_valsamples_reordered/minibatchkmean_ncluster8n_pcs50epoch311_subcluster_all/distThresh/pagagraphdistThresh_Ductal carcinoma in situ and breast tissue_192_allcells.png\n",
      "distThresh_Ductal carcinoma in situ with early infiltrati_192\n"
     ]
    },
    {
     "name": "stderr",
     "output_type": "stream",
     "text": [
      "/home/xinyi/.local/lib/python3.8/site-packages/anndata/compat/_overloaded_dict.py:106: ImplicitModificationWarning: Trying to modify attribute `._uns` of view, initializing view as actual.\n",
      "  self.data[key] = value\n"
     ]
    },
    {
     "name": "stdout",
     "output_type": "stream",
     "text": [
      "--> added 'pos', the PAGA positions (adata.uns['paga'])\n",
      "WARNING: saving figure to file /media/xinyi/dcis2idc/plots/cnnvaeexp0/cluster_valsamples_reordered/minibatchkmean_ncluster8n_pcs50epoch311_subcluster_all/distThresh/pagagraphdistThresh_Ductal carcinoma in situ with early infiltrati_192_allcells.png\n",
      "distThresh_Hyperplasia_192\n"
     ]
    },
    {
     "name": "stderr",
     "output_type": "stream",
     "text": [
      "/home/xinyi/.local/lib/python3.8/site-packages/anndata/compat/_overloaded_dict.py:106: ImplicitModificationWarning: Trying to modify attribute `._uns` of view, initializing view as actual.\n",
      "  self.data[key] = value\n"
     ]
    },
    {
     "name": "stdout",
     "output_type": "stream",
     "text": [
      "--> added 'pos', the PAGA positions (adata.uns['paga'])\n",
      "WARNING: saving figure to file /media/xinyi/dcis2idc/plots/cnnvaeexp0/cluster_valsamples_reordered/minibatchkmean_ncluster8n_pcs50epoch311_subcluster_all/distThresh/pagagraphdistThresh_Hyperplasia_192_allcells.png\n",
      "distThresh_Invasive ductal carcinoma_192\n"
     ]
    },
    {
     "name": "stderr",
     "output_type": "stream",
     "text": [
      "/home/xinyi/.local/lib/python3.8/site-packages/anndata/compat/_overloaded_dict.py:106: ImplicitModificationWarning: Trying to modify attribute `._uns` of view, initializing view as actual.\n",
      "  self.data[key] = value\n"
     ]
    },
    {
     "name": "stdout",
     "output_type": "stream",
     "text": [
      "--> added 'pos', the PAGA positions (adata.uns['paga'])\n",
      "WARNING: saving figure to file /media/xinyi/dcis2idc/plots/cnnvaeexp0/cluster_valsamples_reordered/minibatchkmean_ncluster8n_pcs50epoch311_subcluster_all/distThresh/pagagraphdistThresh_Invasive ductal carcinoma_192_allcells.png\n",
      "distThresh_Invasive ductal carcinoma and breast tissue_192\n"
     ]
    },
    {
     "name": "stderr",
     "output_type": "stream",
     "text": [
      "/home/xinyi/.local/lib/python3.8/site-packages/anndata/compat/_overloaded_dict.py:106: ImplicitModificationWarning: Trying to modify attribute `._uns` of view, initializing view as actual.\n",
      "  self.data[key] = value\n"
     ]
    },
    {
     "name": "stdout",
     "output_type": "stream",
     "text": [
      "--> added 'pos', the PAGA positions (adata.uns['paga'])\n",
      "WARNING: saving figure to file /media/xinyi/dcis2idc/plots/cnnvaeexp0/cluster_valsamples_reordered/minibatchkmean_ncluster8n_pcs50epoch311_subcluster_all/distThresh/pagagraphdistThresh_Invasive ductal carcinoma and breast tissue_192_allcells.png\n",
      "distThresh_Micropapillary type ductal carcinoma in situ w_192\n"
     ]
    },
    {
     "name": "stderr",
     "output_type": "stream",
     "text": [
      "/home/xinyi/.local/lib/python3.8/site-packages/anndata/compat/_overloaded_dict.py:106: ImplicitModificationWarning: Trying to modify attribute `._uns` of view, initializing view as actual.\n",
      "  self.data[key] = value\n"
     ]
    },
    {
     "name": "stdout",
     "output_type": "stream",
     "text": [
      "--> added 'pos', the PAGA positions (adata.uns['paga'])\n",
      "WARNING: saving figure to file /media/xinyi/dcis2idc/plots/cnnvaeexp0/cluster_valsamples_reordered/minibatchkmean_ncluster8n_pcs50epoch311_subcluster_all/distThresh/pagagraphdistThresh_Micropapillary type ductal carcinoma in situ w_192_allcells.png\n",
      "distThresh_Breast tissue_480\n"
     ]
    },
    {
     "name": "stderr",
     "output_type": "stream",
     "text": [
      "/home/xinyi/.local/lib/python3.8/site-packages/anndata/compat/_overloaded_dict.py:106: ImplicitModificationWarning: Trying to modify attribute `._uns` of view, initializing view as actual.\n",
      "  self.data[key] = value\n"
     ]
    },
    {
     "name": "stdout",
     "output_type": "stream",
     "text": [
      "--> added 'pos', the PAGA positions (adata.uns['paga'])\n",
      "WARNING: saving figure to file /media/xinyi/dcis2idc/plots/cnnvaeexp0/cluster_valsamples_reordered/minibatchkmean_ncluster8n_pcs50epoch311_subcluster_all/distThresh/pagagraphdistThresh_Breast tissue_480_allcells.png\n",
      "distThresh_Ductal carcinoma in situ_480\n"
     ]
    },
    {
     "name": "stderr",
     "output_type": "stream",
     "text": [
      "/home/xinyi/.local/lib/python3.8/site-packages/anndata/compat/_overloaded_dict.py:106: ImplicitModificationWarning: Trying to modify attribute `._uns` of view, initializing view as actual.\n",
      "  self.data[key] = value\n"
     ]
    },
    {
     "name": "stdout",
     "output_type": "stream",
     "text": [
      "--> added 'pos', the PAGA positions (adata.uns['paga'])\n",
      "WARNING: saving figure to file /media/xinyi/dcis2idc/plots/cnnvaeexp0/cluster_valsamples_reordered/minibatchkmean_ncluster8n_pcs50epoch311_subcluster_all/distThresh/pagagraphdistThresh_Ductal carcinoma in situ_480_allcells.png\n",
      "distThresh_Ductal carcinoma in situ and breast tissue_480\n"
     ]
    },
    {
     "name": "stderr",
     "output_type": "stream",
     "text": [
      "/home/xinyi/.local/lib/python3.8/site-packages/anndata/compat/_overloaded_dict.py:106: ImplicitModificationWarning: Trying to modify attribute `._uns` of view, initializing view as actual.\n",
      "  self.data[key] = value\n"
     ]
    },
    {
     "name": "stdout",
     "output_type": "stream",
     "text": [
      "--> added 'pos', the PAGA positions (adata.uns['paga'])\n",
      "WARNING: saving figure to file /media/xinyi/dcis2idc/plots/cnnvaeexp0/cluster_valsamples_reordered/minibatchkmean_ncluster8n_pcs50epoch311_subcluster_all/distThresh/pagagraphdistThresh_Ductal carcinoma in situ and breast tissue_480_allcells.png\n",
      "distThresh_Ductal carcinoma in situ with early infiltrati_480\n"
     ]
    },
    {
     "name": "stderr",
     "output_type": "stream",
     "text": [
      "/home/xinyi/.local/lib/python3.8/site-packages/anndata/compat/_overloaded_dict.py:106: ImplicitModificationWarning: Trying to modify attribute `._uns` of view, initializing view as actual.\n",
      "  self.data[key] = value\n"
     ]
    },
    {
     "name": "stdout",
     "output_type": "stream",
     "text": [
      "--> added 'pos', the PAGA positions (adata.uns['paga'])\n",
      "WARNING: saving figure to file /media/xinyi/dcis2idc/plots/cnnvaeexp0/cluster_valsamples_reordered/minibatchkmean_ncluster8n_pcs50epoch311_subcluster_all/distThresh/pagagraphdistThresh_Ductal carcinoma in situ with early infiltrati_480_allcells.png\n",
      "distThresh_Hyperplasia_480\n"
     ]
    },
    {
     "name": "stderr",
     "output_type": "stream",
     "text": [
      "/home/xinyi/.local/lib/python3.8/site-packages/anndata/compat/_overloaded_dict.py:106: ImplicitModificationWarning: Trying to modify attribute `._uns` of view, initializing view as actual.\n",
      "  self.data[key] = value\n"
     ]
    },
    {
     "name": "stdout",
     "output_type": "stream",
     "text": [
      "--> added 'pos', the PAGA positions (adata.uns['paga'])\n",
      "WARNING: saving figure to file /media/xinyi/dcis2idc/plots/cnnvaeexp0/cluster_valsamples_reordered/minibatchkmean_ncluster8n_pcs50epoch311_subcluster_all/distThresh/pagagraphdistThresh_Hyperplasia_480_allcells.png\n",
      "distThresh_Invasive ductal carcinoma_480\n"
     ]
    },
    {
     "name": "stderr",
     "output_type": "stream",
     "text": [
      "/home/xinyi/.local/lib/python3.8/site-packages/anndata/compat/_overloaded_dict.py:106: ImplicitModificationWarning: Trying to modify attribute `._uns` of view, initializing view as actual.\n",
      "  self.data[key] = value\n"
     ]
    },
    {
     "name": "stdout",
     "output_type": "stream",
     "text": [
      "--> added 'pos', the PAGA positions (adata.uns['paga'])\n",
      "WARNING: saving figure to file /media/xinyi/dcis2idc/plots/cnnvaeexp0/cluster_valsamples_reordered/minibatchkmean_ncluster8n_pcs50epoch311_subcluster_all/distThresh/pagagraphdistThresh_Invasive ductal carcinoma_480_allcells.png\n",
      "distThresh_Invasive ductal carcinoma and breast tissue_480\n"
     ]
    },
    {
     "name": "stderr",
     "output_type": "stream",
     "text": [
      "/home/xinyi/.local/lib/python3.8/site-packages/anndata/compat/_overloaded_dict.py:106: ImplicitModificationWarning: Trying to modify attribute `._uns` of view, initializing view as actual.\n",
      "  self.data[key] = value\n"
     ]
    },
    {
     "name": "stdout",
     "output_type": "stream",
     "text": [
      "--> added 'pos', the PAGA positions (adata.uns['paga'])\n",
      "WARNING: saving figure to file /media/xinyi/dcis2idc/plots/cnnvaeexp0/cluster_valsamples_reordered/minibatchkmean_ncluster8n_pcs50epoch311_subcluster_all/distThresh/pagagraphdistThresh_Invasive ductal carcinoma and breast tissue_480_allcells.png\n",
      "distThresh_Micropapillary type ductal carcinoma in situ w_480\n"
     ]
    },
    {
     "name": "stderr",
     "output_type": "stream",
     "text": [
      "/home/xinyi/.local/lib/python3.8/site-packages/anndata/compat/_overloaded_dict.py:106: ImplicitModificationWarning: Trying to modify attribute `._uns` of view, initializing view as actual.\n",
      "  self.data[key] = value\n"
     ]
    },
    {
     "name": "stdout",
     "output_type": "stream",
     "text": [
      "--> added 'pos', the PAGA positions (adata.uns['paga'])\n",
      "WARNING: saving figure to file /media/xinyi/dcis2idc/plots/cnnvaeexp0/cluster_valsamples_reordered/minibatchkmean_ncluster8n_pcs50epoch311_subcluster_all/distThresh/pagagraphdistThresh_Micropapillary type ductal carcinoma in situ w_480_allcells.png\n",
      "distThresh_Breast tissue_960\n"
     ]
    },
    {
     "name": "stderr",
     "output_type": "stream",
     "text": [
      "/home/xinyi/.local/lib/python3.8/site-packages/anndata/compat/_overloaded_dict.py:106: ImplicitModificationWarning: Trying to modify attribute `._uns` of view, initializing view as actual.\n",
      "  self.data[key] = value\n"
     ]
    },
    {
     "name": "stdout",
     "output_type": "stream",
     "text": [
      "--> added 'pos', the PAGA positions (adata.uns['paga'])\n",
      "WARNING: saving figure to file /media/xinyi/dcis2idc/plots/cnnvaeexp0/cluster_valsamples_reordered/minibatchkmean_ncluster8n_pcs50epoch311_subcluster_all/distThresh/pagagraphdistThresh_Breast tissue_960_allcells.png\n",
      "distThresh_Ductal carcinoma in situ_960\n"
     ]
    },
    {
     "name": "stderr",
     "output_type": "stream",
     "text": [
      "/home/xinyi/.local/lib/python3.8/site-packages/anndata/compat/_overloaded_dict.py:106: ImplicitModificationWarning: Trying to modify attribute `._uns` of view, initializing view as actual.\n",
      "  self.data[key] = value\n"
     ]
    },
    {
     "name": "stdout",
     "output_type": "stream",
     "text": [
      "--> added 'pos', the PAGA positions (adata.uns['paga'])\n",
      "WARNING: saving figure to file /media/xinyi/dcis2idc/plots/cnnvaeexp0/cluster_valsamples_reordered/minibatchkmean_ncluster8n_pcs50epoch311_subcluster_all/distThresh/pagagraphdistThresh_Ductal carcinoma in situ_960_allcells.png\n",
      "distThresh_Ductal carcinoma in situ and breast tissue_960\n"
     ]
    },
    {
     "name": "stderr",
     "output_type": "stream",
     "text": [
      "/home/xinyi/.local/lib/python3.8/site-packages/anndata/compat/_overloaded_dict.py:106: ImplicitModificationWarning: Trying to modify attribute `._uns` of view, initializing view as actual.\n",
      "  self.data[key] = value\n"
     ]
    },
    {
     "name": "stdout",
     "output_type": "stream",
     "text": [
      "--> added 'pos', the PAGA positions (adata.uns['paga'])\n",
      "WARNING: saving figure to file /media/xinyi/dcis2idc/plots/cnnvaeexp0/cluster_valsamples_reordered/minibatchkmean_ncluster8n_pcs50epoch311_subcluster_all/distThresh/pagagraphdistThresh_Ductal carcinoma in situ and breast tissue_960_allcells.png\n",
      "distThresh_Ductal carcinoma in situ with early infiltrati_960\n"
     ]
    },
    {
     "name": "stderr",
     "output_type": "stream",
     "text": [
      "/home/xinyi/.local/lib/python3.8/site-packages/anndata/compat/_overloaded_dict.py:106: ImplicitModificationWarning: Trying to modify attribute `._uns` of view, initializing view as actual.\n",
      "  self.data[key] = value\n"
     ]
    },
    {
     "name": "stdout",
     "output_type": "stream",
     "text": [
      "--> added 'pos', the PAGA positions (adata.uns['paga'])\n",
      "WARNING: saving figure to file /media/xinyi/dcis2idc/plots/cnnvaeexp0/cluster_valsamples_reordered/minibatchkmean_ncluster8n_pcs50epoch311_subcluster_all/distThresh/pagagraphdistThresh_Ductal carcinoma in situ with early infiltrati_960_allcells.png\n",
      "distThresh_Hyperplasia_960\n"
     ]
    },
    {
     "name": "stderr",
     "output_type": "stream",
     "text": [
      "/home/xinyi/.local/lib/python3.8/site-packages/anndata/compat/_overloaded_dict.py:106: ImplicitModificationWarning: Trying to modify attribute `._uns` of view, initializing view as actual.\n",
      "  self.data[key] = value\n"
     ]
    },
    {
     "name": "stdout",
     "output_type": "stream",
     "text": [
      "--> added 'pos', the PAGA positions (adata.uns['paga'])\n",
      "WARNING: saving figure to file /media/xinyi/dcis2idc/plots/cnnvaeexp0/cluster_valsamples_reordered/minibatchkmean_ncluster8n_pcs50epoch311_subcluster_all/distThresh/pagagraphdistThresh_Hyperplasia_960_allcells.png\n",
      "distThresh_Invasive ductal carcinoma_960\n"
     ]
    },
    {
     "name": "stderr",
     "output_type": "stream",
     "text": [
      "/home/xinyi/.local/lib/python3.8/site-packages/anndata/compat/_overloaded_dict.py:106: ImplicitModificationWarning: Trying to modify attribute `._uns` of view, initializing view as actual.\n",
      "  self.data[key] = value\n"
     ]
    },
    {
     "name": "stdout",
     "output_type": "stream",
     "text": [
      "--> added 'pos', the PAGA positions (adata.uns['paga'])\n",
      "WARNING: saving figure to file /media/xinyi/dcis2idc/plots/cnnvaeexp0/cluster_valsamples_reordered/minibatchkmean_ncluster8n_pcs50epoch311_subcluster_all/distThresh/pagagraphdistThresh_Invasive ductal carcinoma_960_allcells.png\n",
      "distThresh_Invasive ductal carcinoma and breast tissue_960\n"
     ]
    },
    {
     "name": "stderr",
     "output_type": "stream",
     "text": [
      "/home/xinyi/.local/lib/python3.8/site-packages/anndata/compat/_overloaded_dict.py:106: ImplicitModificationWarning: Trying to modify attribute `._uns` of view, initializing view as actual.\n",
      "  self.data[key] = value\n"
     ]
    },
    {
     "name": "stdout",
     "output_type": "stream",
     "text": [
      "--> added 'pos', the PAGA positions (adata.uns['paga'])\n",
      "WARNING: saving figure to file /media/xinyi/dcis2idc/plots/cnnvaeexp0/cluster_valsamples_reordered/minibatchkmean_ncluster8n_pcs50epoch311_subcluster_all/distThresh/pagagraphdistThresh_Invasive ductal carcinoma and breast tissue_960_allcells.png\n",
      "distThresh_Micropapillary type ductal carcinoma in situ w_960\n"
     ]
    },
    {
     "name": "stderr",
     "output_type": "stream",
     "text": [
      "/home/xinyi/.local/lib/python3.8/site-packages/anndata/compat/_overloaded_dict.py:106: ImplicitModificationWarning: Trying to modify attribute `._uns` of view, initializing view as actual.\n",
      "  self.data[key] = value\n"
     ]
    },
    {
     "name": "stdout",
     "output_type": "stream",
     "text": [
      "--> added 'pos', the PAGA positions (adata.uns['paga'])\n",
      "WARNING: saving figure to file /media/xinyi/dcis2idc/plots/cnnvaeexp0/cluster_valsamples_reordered/minibatchkmean_ncluster8n_pcs50epoch311_subcluster_all/distThresh/pagagraphdistThresh_Micropapillary type ductal carcinoma in situ w_960_allcells.png\n"
     ]
    }
   ],
   "source": [
    "#%cells within distance threshold of ducts normalized by total outside of ducts - by prog\n",
    "latent_adata.obs['prog']=progList\n",
    "distanceThresh=[radius*2*2,radius*2*5, radius*2*10]\n",
    "\n",
    "if not os.path.exists(os.path.join(subclusterplotdir,'distThresh')):\n",
    "    os.mkdir(os.path.join(subclusterplotdir,'distThresh'))\n",
    "for d in distanceThresh:\n",
    "    for prog in np.unique(progList):\n",
    "        v='distThresh_'+prog+'_'+str(d)\n",
    "        protvalues=np.repeat(np.nan,latent_adata.shape[0])\n",
    "        protvalues[allidx[allstats>0]]=1\n",
    "        protvalues[allidx[allstats>d]]=0\n",
    "        protvalues[latent_adata.obs['prog']!=prog]=np.nan\n",
    "        latent_adata.obs[v]=protvalues\n",
    "        sc.settings.figdir=os.path.join(subclusterplotdir,'distThresh')\n",
    "        \n",
    "        latent_adata_sub=latent_adata[np.isfinite(latent_adata.obs[v].to_numpy())]\n",
    "        idxKeep=np.repeat(False,latent_adata_sub.shape[0])\n",
    "        for c in np.unique(latent_adata_sub.obs['kmeans_sub']):\n",
    "            if np.sum(latent_adata_sub.obs['kmeans_sub']==c)>minCell:\n",
    "                idxKeep=np.logical_or(idxKeep,latent_adata_sub.obs['kmeans_sub']==c)\n",
    "        latent_adata_sub=latent_adata_sub[idxKeep]\n",
    "        if latent_adata_sub.shape[0]>0:\n",
    "            print(v)\n",
    "    #         subsizes=np.zeros(np.unique(kmeans_sub).size)\n",
    "            nonzeroSub,counts=np.unique(latent_adata_sub.obs['kmeans_sub'],return_counts=True)\n",
    "    #         for sidx in range(nonzeroSub.size):\n",
    "    #             subsizes[np.unique(kmeans_sub)==nonzeroSub[sidx]]=counts[sidx]\n",
    "            latent_adata_sub.uns['kmeans_sub_sizes']=counts\n",
    "            _,idxKeep,_=np.intersect1d(np.unique(kmeans_sub),nonzeroSub,return_indices=True)\n",
    "            latent_adata_sub.uns['paga']['connectivities']=latent_adata.uns['paga']['connectivities'][idxKeep][:,idxKeep]\n",
    "\n",
    "\n",
    "\n",
    "            sc.pl.paga(latent_adata_sub, color=[v],pos=trainPagaPos[idxKeep],node_size_power=1,fontoutline=0.5,save='graph'+v+'_allcells.png',show=False,random_state=6,cmap='jet')\n",
    "\n",
    "\n"
   ]
  },
  {
   "cell_type": "markdown",
   "metadata": {},
   "source": [
    "### plot distance of protein positive cells"
   ]
  },
  {
   "cell_type": "code",
   "execution_count": 71,
   "metadata": {
    "scrolled": true
   },
   "outputs": [
    {
     "name": "stdout",
     "output_type": "stream",
     "text": [
      "outDuct_Breast tissuecytokeratin\n"
     ]
    },
    {
     "name": "stderr",
     "output_type": "stream",
     "text": [
      "/home/xinyi/.local/lib/python3.8/site-packages/anndata/compat/_overloaded_dict.py:106: ImplicitModificationWarning: Trying to modify attribute `._uns` of view, initializing view as actual.\n",
      "  self.data[key] = value\n"
     ]
    },
    {
     "name": "stdout",
     "output_type": "stream",
     "text": [
      "--> added 'pos', the PAGA positions (adata.uns['paga'])\n",
      "WARNING: saving figure to file /media/xinyi/dcis2idc/plots/cnnvaeexp0/cluster_valsamples_reordered/minibatchkmean_ncluster8n_pcs50epoch311_subcluster_all/cytokeratin/distDuct/pagagraphoutDuct_Breast tissuecytokeratin_allcells.png\n",
      "outDuct_Breast tissueki67\n"
     ]
    },
    {
     "name": "stderr",
     "output_type": "stream",
     "text": [
      "/home/xinyi/.local/lib/python3.8/site-packages/anndata/compat/_overloaded_dict.py:106: ImplicitModificationWarning: Trying to modify attribute `._uns` of view, initializing view as actual.\n",
      "  self.data[key] = value\n"
     ]
    },
    {
     "name": "stdout",
     "output_type": "stream",
     "text": [
      "--> added 'pos', the PAGA positions (adata.uns['paga'])\n",
      "WARNING: saving figure to file /media/xinyi/dcis2idc/plots/cnnvaeexp0/cluster_valsamples_reordered/minibatchkmean_ncluster8n_pcs50epoch311_subcluster_all/ki67/distDuct/pagagraphoutDuct_Breast tissueki67_allcells.png\n",
      "outDuct_Ductal carcinoma in situcytokeratin\n"
     ]
    },
    {
     "name": "stderr",
     "output_type": "stream",
     "text": [
      "/home/xinyi/.local/lib/python3.8/site-packages/anndata/compat/_overloaded_dict.py:106: ImplicitModificationWarning: Trying to modify attribute `._uns` of view, initializing view as actual.\n",
      "  self.data[key] = value\n"
     ]
    },
    {
     "name": "stdout",
     "output_type": "stream",
     "text": [
      "--> added 'pos', the PAGA positions (adata.uns['paga'])\n",
      "WARNING: saving figure to file /media/xinyi/dcis2idc/plots/cnnvaeexp0/cluster_valsamples_reordered/minibatchkmean_ncluster8n_pcs50epoch311_subcluster_all/cytokeratin/distDuct/pagagraphoutDuct_Ductal carcinoma in situcytokeratin_allcells.png\n",
      "outDuct_Ductal carcinoma in situki67\n"
     ]
    },
    {
     "name": "stderr",
     "output_type": "stream",
     "text": [
      "/home/xinyi/.local/lib/python3.8/site-packages/anndata/compat/_overloaded_dict.py:106: ImplicitModificationWarning: Trying to modify attribute `._uns` of view, initializing view as actual.\n",
      "  self.data[key] = value\n"
     ]
    },
    {
     "name": "stdout",
     "output_type": "stream",
     "text": [
      "--> added 'pos', the PAGA positions (adata.uns['paga'])\n",
      "WARNING: saving figure to file /media/xinyi/dcis2idc/plots/cnnvaeexp0/cluster_valsamples_reordered/minibatchkmean_ncluster8n_pcs50epoch311_subcluster_all/ki67/distDuct/pagagraphoutDuct_Ductal carcinoma in situki67_allcells.png\n",
      "outDuct_Ductal carcinoma in situ and breast tissuecytokeratin\n"
     ]
    },
    {
     "name": "stderr",
     "output_type": "stream",
     "text": [
      "/home/xinyi/.local/lib/python3.8/site-packages/anndata/compat/_overloaded_dict.py:106: ImplicitModificationWarning: Trying to modify attribute `._uns` of view, initializing view as actual.\n",
      "  self.data[key] = value\n"
     ]
    },
    {
     "name": "stdout",
     "output_type": "stream",
     "text": [
      "--> added 'pos', the PAGA positions (adata.uns['paga'])\n",
      "WARNING: saving figure to file /media/xinyi/dcis2idc/plots/cnnvaeexp0/cluster_valsamples_reordered/minibatchkmean_ncluster8n_pcs50epoch311_subcluster_all/cytokeratin/distDuct/pagagraphoutDuct_Ductal carcinoma in situ and breast tissuecytokeratin_allcells.png\n",
      "outDuct_Ductal carcinoma in situ and breast tissueki67\n"
     ]
    },
    {
     "name": "stderr",
     "output_type": "stream",
     "text": [
      "/home/xinyi/.local/lib/python3.8/site-packages/anndata/compat/_overloaded_dict.py:106: ImplicitModificationWarning: Trying to modify attribute `._uns` of view, initializing view as actual.\n",
      "  self.data[key] = value\n"
     ]
    },
    {
     "name": "stdout",
     "output_type": "stream",
     "text": [
      "--> added 'pos', the PAGA positions (adata.uns['paga'])\n",
      "WARNING: saving figure to file /media/xinyi/dcis2idc/plots/cnnvaeexp0/cluster_valsamples_reordered/minibatchkmean_ncluster8n_pcs50epoch311_subcluster_all/ki67/distDuct/pagagraphoutDuct_Ductal carcinoma in situ and breast tissueki67_allcells.png\n",
      "outDuct_Ductal carcinoma in situ with early infiltraticytokeratin\n"
     ]
    },
    {
     "name": "stderr",
     "output_type": "stream",
     "text": [
      "/home/xinyi/.local/lib/python3.8/site-packages/anndata/compat/_overloaded_dict.py:106: ImplicitModificationWarning: Trying to modify attribute `._uns` of view, initializing view as actual.\n",
      "  self.data[key] = value\n"
     ]
    },
    {
     "name": "stdout",
     "output_type": "stream",
     "text": [
      "--> added 'pos', the PAGA positions (adata.uns['paga'])\n",
      "WARNING: saving figure to file /media/xinyi/dcis2idc/plots/cnnvaeexp0/cluster_valsamples_reordered/minibatchkmean_ncluster8n_pcs50epoch311_subcluster_all/cytokeratin/distDuct/pagagraphoutDuct_Ductal carcinoma in situ with early infiltraticytokeratin_allcells.png\n",
      "outDuct_Ductal carcinoma in situ with early infiltratiki67\n"
     ]
    },
    {
     "name": "stderr",
     "output_type": "stream",
     "text": [
      "/home/xinyi/.local/lib/python3.8/site-packages/anndata/compat/_overloaded_dict.py:106: ImplicitModificationWarning: Trying to modify attribute `._uns` of view, initializing view as actual.\n",
      "  self.data[key] = value\n"
     ]
    },
    {
     "name": "stdout",
     "output_type": "stream",
     "text": [
      "--> added 'pos', the PAGA positions (adata.uns['paga'])\n",
      "WARNING: saving figure to file /media/xinyi/dcis2idc/plots/cnnvaeexp0/cluster_valsamples_reordered/minibatchkmean_ncluster8n_pcs50epoch311_subcluster_all/ki67/distDuct/pagagraphoutDuct_Ductal carcinoma in situ with early infiltratiki67_allcells.png\n",
      "outDuct_Hyperplasiacytokeratin\n"
     ]
    },
    {
     "name": "stderr",
     "output_type": "stream",
     "text": [
      "/home/xinyi/.local/lib/python3.8/site-packages/anndata/compat/_overloaded_dict.py:106: ImplicitModificationWarning: Trying to modify attribute `._uns` of view, initializing view as actual.\n",
      "  self.data[key] = value\n"
     ]
    },
    {
     "name": "stdout",
     "output_type": "stream",
     "text": [
      "--> added 'pos', the PAGA positions (adata.uns['paga'])\n",
      "WARNING: saving figure to file /media/xinyi/dcis2idc/plots/cnnvaeexp0/cluster_valsamples_reordered/minibatchkmean_ncluster8n_pcs50epoch311_subcluster_all/cytokeratin/distDuct/pagagraphoutDuct_Hyperplasiacytokeratin_allcells.png\n",
      "outDuct_Hyperplasiaki67\n"
     ]
    },
    {
     "name": "stderr",
     "output_type": "stream",
     "text": [
      "/home/xinyi/.local/lib/python3.8/site-packages/anndata/compat/_overloaded_dict.py:106: ImplicitModificationWarning: Trying to modify attribute `._uns` of view, initializing view as actual.\n",
      "  self.data[key] = value\n"
     ]
    },
    {
     "name": "stdout",
     "output_type": "stream",
     "text": [
      "--> added 'pos', the PAGA positions (adata.uns['paga'])\n",
      "WARNING: saving figure to file /media/xinyi/dcis2idc/plots/cnnvaeexp0/cluster_valsamples_reordered/minibatchkmean_ncluster8n_pcs50epoch311_subcluster_all/ki67/distDuct/pagagraphoutDuct_Hyperplasiaki67_allcells.png\n",
      "outDuct_Invasive ductal carcinomacytokeratin\n"
     ]
    },
    {
     "name": "stderr",
     "output_type": "stream",
     "text": [
      "/home/xinyi/.local/lib/python3.8/site-packages/anndata/compat/_overloaded_dict.py:106: ImplicitModificationWarning: Trying to modify attribute `._uns` of view, initializing view as actual.\n",
      "  self.data[key] = value\n"
     ]
    },
    {
     "name": "stdout",
     "output_type": "stream",
     "text": [
      "--> added 'pos', the PAGA positions (adata.uns['paga'])\n",
      "WARNING: saving figure to file /media/xinyi/dcis2idc/plots/cnnvaeexp0/cluster_valsamples_reordered/minibatchkmean_ncluster8n_pcs50epoch311_subcluster_all/cytokeratin/distDuct/pagagraphoutDuct_Invasive ductal carcinomacytokeratin_allcells.png\n",
      "outDuct_Invasive ductal carcinomaki67\n"
     ]
    },
    {
     "name": "stderr",
     "output_type": "stream",
     "text": [
      "/home/xinyi/.local/lib/python3.8/site-packages/anndata/compat/_overloaded_dict.py:106: ImplicitModificationWarning: Trying to modify attribute `._uns` of view, initializing view as actual.\n",
      "  self.data[key] = value\n"
     ]
    },
    {
     "name": "stdout",
     "output_type": "stream",
     "text": [
      "--> added 'pos', the PAGA positions (adata.uns['paga'])\n",
      "WARNING: saving figure to file /media/xinyi/dcis2idc/plots/cnnvaeexp0/cluster_valsamples_reordered/minibatchkmean_ncluster8n_pcs50epoch311_subcluster_all/ki67/distDuct/pagagraphoutDuct_Invasive ductal carcinomaki67_allcells.png\n",
      "outDuct_Invasive ductal carcinoma and breast tissuecytokeratin\n"
     ]
    },
    {
     "name": "stderr",
     "output_type": "stream",
     "text": [
      "/home/xinyi/.local/lib/python3.8/site-packages/anndata/compat/_overloaded_dict.py:106: ImplicitModificationWarning: Trying to modify attribute `._uns` of view, initializing view as actual.\n",
      "  self.data[key] = value\n"
     ]
    },
    {
     "name": "stdout",
     "output_type": "stream",
     "text": [
      "--> added 'pos', the PAGA positions (adata.uns['paga'])\n",
      "WARNING: saving figure to file /media/xinyi/dcis2idc/plots/cnnvaeexp0/cluster_valsamples_reordered/minibatchkmean_ncluster8n_pcs50epoch311_subcluster_all/cytokeratin/distDuct/pagagraphoutDuct_Invasive ductal carcinoma and breast tissuecytokeratin_allcells.png\n",
      "outDuct_Invasive ductal carcinoma and breast tissueki67\n"
     ]
    },
    {
     "name": "stderr",
     "output_type": "stream",
     "text": [
      "/home/xinyi/.local/lib/python3.8/site-packages/anndata/compat/_overloaded_dict.py:106: ImplicitModificationWarning: Trying to modify attribute `._uns` of view, initializing view as actual.\n",
      "  self.data[key] = value\n"
     ]
    },
    {
     "name": "stdout",
     "output_type": "stream",
     "text": [
      "--> added 'pos', the PAGA positions (adata.uns['paga'])\n",
      "WARNING: saving figure to file /media/xinyi/dcis2idc/plots/cnnvaeexp0/cluster_valsamples_reordered/minibatchkmean_ncluster8n_pcs50epoch311_subcluster_all/ki67/distDuct/pagagraphoutDuct_Invasive ductal carcinoma and breast tissueki67_allcells.png\n",
      "outDuct_Micropapillary type ductal carcinoma in situ wcytokeratin\n"
     ]
    },
    {
     "name": "stderr",
     "output_type": "stream",
     "text": [
      "/home/xinyi/.local/lib/python3.8/site-packages/anndata/compat/_overloaded_dict.py:106: ImplicitModificationWarning: Trying to modify attribute `._uns` of view, initializing view as actual.\n",
      "  self.data[key] = value\n"
     ]
    },
    {
     "name": "stdout",
     "output_type": "stream",
     "text": [
      "--> added 'pos', the PAGA positions (adata.uns['paga'])\n",
      "WARNING: saving figure to file /media/xinyi/dcis2idc/plots/cnnvaeexp0/cluster_valsamples_reordered/minibatchkmean_ncluster8n_pcs50epoch311_subcluster_all/cytokeratin/distDuct/pagagraphoutDuct_Micropapillary type ductal carcinoma in situ wcytokeratin_allcells.png\n",
      "outDuct_Micropapillary type ductal carcinoma in situ wki67\n"
     ]
    },
    {
     "name": "stderr",
     "output_type": "stream",
     "text": [
      "/home/xinyi/.local/lib/python3.8/site-packages/anndata/compat/_overloaded_dict.py:106: ImplicitModificationWarning: Trying to modify attribute `._uns` of view, initializing view as actual.\n",
      "  self.data[key] = value\n"
     ]
    },
    {
     "name": "stdout",
     "output_type": "stream",
     "text": [
      "--> added 'pos', the PAGA positions (adata.uns['paga'])\n",
      "WARNING: saving figure to file /media/xinyi/dcis2idc/plots/cnnvaeexp0/cluster_valsamples_reordered/minibatchkmean_ncluster8n_pcs50epoch311_subcluster_all/ki67/distDuct/pagagraphoutDuct_Micropapillary type ductal carcinoma in situ wki67_allcells.png\n"
     ]
    }
   ],
   "source": [
    "# %cells out of duct - by prog\n",
    "for prog in np.unique(progList[np.isfinite(latent_adata.obs['dist2duct_log'])]):\n",
    "    for prot in np.unique(allvarnames):\n",
    "        v='outDuct_'+prog+prot\n",
    "        protvalues=latent_adata.obs['outDuct_'+prog].to_numpy(copy=True)\n",
    "        protvalues[np.logical_not(latent_adata.obs[prot+'log']>0)]=np.nan\n",
    "        latent_adata.obs[v]=protvalues\n",
    "        if not os.path.exists(os.path.join(subclusterplotdir,prot,'distDuct')):\n",
    "            os.mkdir(os.path.join(subclusterplotdir,prot,'distDuct'))\n",
    "        sc.settings.figdir=os.path.join(subclusterplotdir,prot,'distDuct')\n",
    "\n",
    "        latent_adata_sub=latent_adata[np.isfinite(latent_adata.obs[v].to_numpy())]\n",
    "        idxKeep=np.repeat(False,latent_adata_sub.shape[0])\n",
    "        for c in np.unique(latent_adata_sub.obs['kmeans_sub']):\n",
    "            if np.sum(latent_adata_sub.obs['kmeans_sub']==c)>minCell:\n",
    "                idxKeep=np.logical_or(idxKeep,latent_adata_sub.obs['kmeans_sub']==c)\n",
    "        latent_adata_sub=latent_adata_sub[idxKeep]\n",
    "        if latent_adata_sub.shape[0]>0:\n",
    "            print(v)\n",
    "    #         subsizes=np.zeros(np.unique(kmeans_sub).size)\n",
    "            nonzeroSub,counts=np.unique(latent_adata_sub.obs['kmeans_sub'],return_counts=True)\n",
    "    #         for sidx in range(nonzeroSub.size):\n",
    "    #             subsizes[np.unique(kmeans_sub)==nonzeroSub[sidx]]=counts[sidx]\n",
    "            latent_adata_sub.uns['kmeans_sub_sizes']=counts\n",
    "            _,idxKeep,_=np.intersect1d(np.unique(kmeans_sub),nonzeroSub,return_indices=True)\n",
    "            latent_adata_sub.uns['paga']['connectivities']=latent_adata.uns['paga']['connectivities'][idxKeep][:,idxKeep]\n",
    "\n",
    "\n",
    "            sc.pl.paga(latent_adata_sub, color=[v],pos=trainPagaPos[idxKeep],node_size_power=1,fontoutline=0.5,save='graph'+v+'_allcells.png',show=False,random_state=6,cmap='jet')\n",
    "\n",
    "\n",
    "\n",
    "\n"
   ]
  },
  {
   "cell_type": "code",
   "execution_count": 82,
   "metadata": {
    "scrolled": true
   },
   "outputs": [
    {
     "name": "stdout",
     "output_type": "stream",
     "text": [
      "dist2duct_log_outOnly_ki67Breast tissue\n"
     ]
    },
    {
     "name": "stderr",
     "output_type": "stream",
     "text": [
      "/home/xinyi/.local/lib/python3.8/site-packages/anndata/compat/_overloaded_dict.py:106: ImplicitModificationWarning: Trying to modify attribute `._uns` of view, initializing view as actual.\n",
      "  self.data[key] = value\n"
     ]
    },
    {
     "name": "stdout",
     "output_type": "stream",
     "text": [
      "--> added 'pos', the PAGA positions (adata.uns['paga'])\n",
      "WARNING: saving figure to file /media/xinyi/dcis2idc/plots/cnnvaeexp0/cluster_valsamples_reordered/minibatchkmean_ncluster8n_pcs50epoch311_subcluster_all/ki67/distDuct/pagagraphdist2duct_log_outOnly_ki67Breast tissue_allcells.png\n",
      "WARNING: saving figure to file /media/xinyi/dcis2idc/plots/cnnvaeexp0/cluster_valsamples_reordered/minibatchkmean_ncluster8n_pcs50epoch311_subcluster_all/ki67/distDuct/umapgraph_umapdist2duct_log_outOnly_ki67Breast tissue.png\n",
      "dist2duct_log_outOnly_ki67Ductal carcinoma in situ\n"
     ]
    },
    {
     "name": "stderr",
     "output_type": "stream",
     "text": [
      "/home/xinyi/.local/lib/python3.8/site-packages/anndata/compat/_overloaded_dict.py:106: ImplicitModificationWarning: Trying to modify attribute `._uns` of view, initializing view as actual.\n",
      "  self.data[key] = value\n"
     ]
    },
    {
     "name": "stdout",
     "output_type": "stream",
     "text": [
      "--> added 'pos', the PAGA positions (adata.uns['paga'])\n",
      "WARNING: saving figure to file /media/xinyi/dcis2idc/plots/cnnvaeexp0/cluster_valsamples_reordered/minibatchkmean_ncluster8n_pcs50epoch311_subcluster_all/ki67/distDuct/pagagraphdist2duct_log_outOnly_ki67Ductal carcinoma in situ_allcells.png\n",
      "WARNING: saving figure to file /media/xinyi/dcis2idc/plots/cnnvaeexp0/cluster_valsamples_reordered/minibatchkmean_ncluster8n_pcs50epoch311_subcluster_all/ki67/distDuct/umapgraph_umapdist2duct_log_outOnly_ki67Ductal carcinoma in situ.png\n",
      "dist2duct_log_outOnly_cytokeratinDuctal carcinoma in situ and breast tissue\n"
     ]
    },
    {
     "name": "stderr",
     "output_type": "stream",
     "text": [
      "/home/xinyi/.local/lib/python3.8/site-packages/anndata/compat/_overloaded_dict.py:106: ImplicitModificationWarning: Trying to modify attribute `._uns` of view, initializing view as actual.\n",
      "  self.data[key] = value\n"
     ]
    },
    {
     "name": "stdout",
     "output_type": "stream",
     "text": [
      "--> added 'pos', the PAGA positions (adata.uns['paga'])\n",
      "WARNING: saving figure to file /media/xinyi/dcis2idc/plots/cnnvaeexp0/cluster_valsamples_reordered/minibatchkmean_ncluster8n_pcs50epoch311_subcluster_all/cytokeratin/distDuct/pagagraphdist2duct_log_outOnly_cytokeratinDuctal carcinoma in situ and breast tissue_allcells.png\n",
      "WARNING: saving figure to file /media/xinyi/dcis2idc/plots/cnnvaeexp0/cluster_valsamples_reordered/minibatchkmean_ncluster8n_pcs50epoch311_subcluster_all/cytokeratin/distDuct/umapgraph_umapdist2duct_log_outOnly_cytokeratinDuctal carcinoma in situ and breast tissue.png\n",
      "dist2duct_log_outOnly_ki67Ductal carcinoma in situ and breast tissue\n"
     ]
    },
    {
     "name": "stderr",
     "output_type": "stream",
     "text": [
      "/home/xinyi/.local/lib/python3.8/site-packages/anndata/compat/_overloaded_dict.py:106: ImplicitModificationWarning: Trying to modify attribute `._uns` of view, initializing view as actual.\n",
      "  self.data[key] = value\n"
     ]
    },
    {
     "name": "stdout",
     "output_type": "stream",
     "text": [
      "--> added 'pos', the PAGA positions (adata.uns['paga'])\n",
      "WARNING: saving figure to file /media/xinyi/dcis2idc/plots/cnnvaeexp0/cluster_valsamples_reordered/minibatchkmean_ncluster8n_pcs50epoch311_subcluster_all/ki67/distDuct/pagagraphdist2duct_log_outOnly_ki67Ductal carcinoma in situ and breast tissue_allcells.png\n",
      "WARNING: saving figure to file /media/xinyi/dcis2idc/plots/cnnvaeexp0/cluster_valsamples_reordered/minibatchkmean_ncluster8n_pcs50epoch311_subcluster_all/ki67/distDuct/umapgraph_umapdist2duct_log_outOnly_ki67Ductal carcinoma in situ and breast tissue.png\n",
      "dist2duct_log_outOnly_cytokeratinDuctal carcinoma in situ with early infiltrati\n"
     ]
    },
    {
     "name": "stderr",
     "output_type": "stream",
     "text": [
      "/home/xinyi/.local/lib/python3.8/site-packages/anndata/compat/_overloaded_dict.py:106: ImplicitModificationWarning: Trying to modify attribute `._uns` of view, initializing view as actual.\n",
      "  self.data[key] = value\n"
     ]
    },
    {
     "name": "stdout",
     "output_type": "stream",
     "text": [
      "--> added 'pos', the PAGA positions (adata.uns['paga'])\n",
      "WARNING: saving figure to file /media/xinyi/dcis2idc/plots/cnnvaeexp0/cluster_valsamples_reordered/minibatchkmean_ncluster8n_pcs50epoch311_subcluster_all/cytokeratin/distDuct/pagagraphdist2duct_log_outOnly_cytokeratinDuctal carcinoma in situ with early infiltrati_allcells.png\n",
      "WARNING: saving figure to file /media/xinyi/dcis2idc/plots/cnnvaeexp0/cluster_valsamples_reordered/minibatchkmean_ncluster8n_pcs50epoch311_subcluster_all/cytokeratin/distDuct/umapgraph_umapdist2duct_log_outOnly_cytokeratinDuctal carcinoma in situ with early infiltrati.png\n",
      "dist2duct_log_outOnly_ki67Ductal carcinoma in situ with early infiltrati\n"
     ]
    },
    {
     "name": "stderr",
     "output_type": "stream",
     "text": [
      "/home/xinyi/.local/lib/python3.8/site-packages/anndata/compat/_overloaded_dict.py:106: ImplicitModificationWarning: Trying to modify attribute `._uns` of view, initializing view as actual.\n",
      "  self.data[key] = value\n"
     ]
    },
    {
     "name": "stdout",
     "output_type": "stream",
     "text": [
      "--> added 'pos', the PAGA positions (adata.uns['paga'])\n",
      "WARNING: saving figure to file /media/xinyi/dcis2idc/plots/cnnvaeexp0/cluster_valsamples_reordered/minibatchkmean_ncluster8n_pcs50epoch311_subcluster_all/ki67/distDuct/pagagraphdist2duct_log_outOnly_ki67Ductal carcinoma in situ with early infiltrati_allcells.png\n",
      "WARNING: saving figure to file /media/xinyi/dcis2idc/plots/cnnvaeexp0/cluster_valsamples_reordered/minibatchkmean_ncluster8n_pcs50epoch311_subcluster_all/ki67/distDuct/umapgraph_umapdist2duct_log_outOnly_ki67Ductal carcinoma in situ with early infiltrati.png\n",
      "dist2duct_log_outOnly_ki67Hyperplasia\n"
     ]
    },
    {
     "name": "stderr",
     "output_type": "stream",
     "text": [
      "/home/xinyi/.local/lib/python3.8/site-packages/anndata/compat/_overloaded_dict.py:106: ImplicitModificationWarning: Trying to modify attribute `._uns` of view, initializing view as actual.\n",
      "  self.data[key] = value\n"
     ]
    },
    {
     "name": "stdout",
     "output_type": "stream",
     "text": [
      "--> added 'pos', the PAGA positions (adata.uns['paga'])\n",
      "WARNING: saving figure to file /media/xinyi/dcis2idc/plots/cnnvaeexp0/cluster_valsamples_reordered/minibatchkmean_ncluster8n_pcs50epoch311_subcluster_all/ki67/distDuct/pagagraphdist2duct_log_outOnly_ki67Hyperplasia_allcells.png\n",
      "WARNING: saving figure to file /media/xinyi/dcis2idc/plots/cnnvaeexp0/cluster_valsamples_reordered/minibatchkmean_ncluster8n_pcs50epoch311_subcluster_all/ki67/distDuct/umapgraph_umapdist2duct_log_outOnly_ki67Hyperplasia.png\n",
      "dist2duct_log_outOnly_cytokeratinInvasive ductal carcinoma\n"
     ]
    },
    {
     "name": "stderr",
     "output_type": "stream",
     "text": [
      "/home/xinyi/.local/lib/python3.8/site-packages/anndata/compat/_overloaded_dict.py:106: ImplicitModificationWarning: Trying to modify attribute `._uns` of view, initializing view as actual.\n",
      "  self.data[key] = value\n"
     ]
    },
    {
     "name": "stdout",
     "output_type": "stream",
     "text": [
      "--> added 'pos', the PAGA positions (adata.uns['paga'])\n",
      "WARNING: saving figure to file /media/xinyi/dcis2idc/plots/cnnvaeexp0/cluster_valsamples_reordered/minibatchkmean_ncluster8n_pcs50epoch311_subcluster_all/cytokeratin/distDuct/pagagraphdist2duct_log_outOnly_cytokeratinInvasive ductal carcinoma_allcells.png\n",
      "WARNING: saving figure to file /media/xinyi/dcis2idc/plots/cnnvaeexp0/cluster_valsamples_reordered/minibatchkmean_ncluster8n_pcs50epoch311_subcluster_all/cytokeratin/distDuct/umapgraph_umapdist2duct_log_outOnly_cytokeratinInvasive ductal carcinoma.png\n",
      "dist2duct_log_outOnly_ki67Invasive ductal carcinoma\n"
     ]
    },
    {
     "name": "stderr",
     "output_type": "stream",
     "text": [
      "/home/xinyi/.local/lib/python3.8/site-packages/anndata/compat/_overloaded_dict.py:106: ImplicitModificationWarning: Trying to modify attribute `._uns` of view, initializing view as actual.\n",
      "  self.data[key] = value\n"
     ]
    },
    {
     "name": "stdout",
     "output_type": "stream",
     "text": [
      "--> added 'pos', the PAGA positions (adata.uns['paga'])\n",
      "WARNING: saving figure to file /media/xinyi/dcis2idc/plots/cnnvaeexp0/cluster_valsamples_reordered/minibatchkmean_ncluster8n_pcs50epoch311_subcluster_all/ki67/distDuct/pagagraphdist2duct_log_outOnly_ki67Invasive ductal carcinoma_allcells.png\n",
      "WARNING: saving figure to file /media/xinyi/dcis2idc/plots/cnnvaeexp0/cluster_valsamples_reordered/minibatchkmean_ncluster8n_pcs50epoch311_subcluster_all/ki67/distDuct/umapgraph_umapdist2duct_log_outOnly_ki67Invasive ductal carcinoma.png\n",
      "dist2duct_log_outOnly_ki67Invasive ductal carcinoma and breast tissue\n"
     ]
    },
    {
     "name": "stderr",
     "output_type": "stream",
     "text": [
      "/home/xinyi/.local/lib/python3.8/site-packages/anndata/compat/_overloaded_dict.py:106: ImplicitModificationWarning: Trying to modify attribute `._uns` of view, initializing view as actual.\n",
      "  self.data[key] = value\n"
     ]
    },
    {
     "name": "stdout",
     "output_type": "stream",
     "text": [
      "--> added 'pos', the PAGA positions (adata.uns['paga'])\n",
      "WARNING: saving figure to file /media/xinyi/dcis2idc/plots/cnnvaeexp0/cluster_valsamples_reordered/minibatchkmean_ncluster8n_pcs50epoch311_subcluster_all/ki67/distDuct/pagagraphdist2duct_log_outOnly_ki67Invasive ductal carcinoma and breast tissue_allcells.png\n",
      "WARNING: saving figure to file /media/xinyi/dcis2idc/plots/cnnvaeexp0/cluster_valsamples_reordered/minibatchkmean_ncluster8n_pcs50epoch311_subcluster_all/ki67/distDuct/umapgraph_umapdist2duct_log_outOnly_ki67Invasive ductal carcinoma and breast tissue.png\n",
      "dist2duct_log_outOnly_cytokeratinMicropapillary type ductal carcinoma in situ w\n"
     ]
    },
    {
     "name": "stderr",
     "output_type": "stream",
     "text": [
      "/home/xinyi/.local/lib/python3.8/site-packages/anndata/compat/_overloaded_dict.py:106: ImplicitModificationWarning: Trying to modify attribute `._uns` of view, initializing view as actual.\n",
      "  self.data[key] = value\n"
     ]
    },
    {
     "name": "stdout",
     "output_type": "stream",
     "text": [
      "--> added 'pos', the PAGA positions (adata.uns['paga'])\n",
      "WARNING: saving figure to file /media/xinyi/dcis2idc/plots/cnnvaeexp0/cluster_valsamples_reordered/minibatchkmean_ncluster8n_pcs50epoch311_subcluster_all/cytokeratin/distDuct/pagagraphdist2duct_log_outOnly_cytokeratinMicropapillary type ductal carcinoma in situ w_allcells.png\n",
      "WARNING: saving figure to file /media/xinyi/dcis2idc/plots/cnnvaeexp0/cluster_valsamples_reordered/minibatchkmean_ncluster8n_pcs50epoch311_subcluster_all/cytokeratin/distDuct/umapgraph_umapdist2duct_log_outOnly_cytokeratinMicropapillary type ductal carcinoma in situ w.png\n",
      "dist2duct_log_outOnly_ki67Micropapillary type ductal carcinoma in situ w\n"
     ]
    },
    {
     "name": "stderr",
     "output_type": "stream",
     "text": [
      "/home/xinyi/.local/lib/python3.8/site-packages/anndata/compat/_overloaded_dict.py:106: ImplicitModificationWarning: Trying to modify attribute `._uns` of view, initializing view as actual.\n",
      "  self.data[key] = value\n"
     ]
    },
    {
     "name": "stdout",
     "output_type": "stream",
     "text": [
      "--> added 'pos', the PAGA positions (adata.uns['paga'])\n",
      "WARNING: saving figure to file /media/xinyi/dcis2idc/plots/cnnvaeexp0/cluster_valsamples_reordered/minibatchkmean_ncluster8n_pcs50epoch311_subcluster_all/ki67/distDuct/pagagraphdist2duct_log_outOnly_ki67Micropapillary type ductal carcinoma in situ w_allcells.png\n",
      "WARNING: saving figure to file /media/xinyi/dcis2idc/plots/cnnvaeexp0/cluster_valsamples_reordered/minibatchkmean_ncluster8n_pcs50epoch311_subcluster_all/ki67/distDuct/umapgraph_umapdist2duct_log_outOnly_ki67Micropapillary type ductal carcinoma in situ w.png\n"
     ]
    }
   ],
   "source": [
    "#distance excluding cells in duct - by prog\n",
    "vmin=0\n",
    "vmax=np.max(latent_adata.obs['dist2duct_log_outOnly'])\n",
    "for prog in np.unique(progList[np.isfinite(latent_adata.obs['dist2duct_log'])]):\n",
    "    for prot in np.unique(allvarnames):\n",
    "        v='dist2duct_log_outOnly_'+prot+prog\n",
    "        protvalues=latent_adata.obs['dist2duct_log_outOnly_'+prog].to_numpy(copy=True)\n",
    "        protvalues[np.logical_not(latent_adata.obs[prot+'log']>0)]=np.nan\n",
    "        latent_adata.obs[v]=protvalues\n",
    "        if not os.path.exists(os.path.join(subclusterplotdir,prot,'distDuct')):\n",
    "            os.mkdir(os.path.join(subclusterplotdir,prot,'distDuct'))\n",
    "        sc.settings.figdir=os.path.join(subclusterplotdir,prot,'distDuct')\n",
    "\n",
    "        latent_adata_sub=latent_adata[np.isfinite(latent_adata.obs[v].to_numpy())]\n",
    "        idxKeep=np.repeat(False,latent_adata_sub.shape[0])\n",
    "        for c in np.unique(latent_adata_sub.obs['kmeans_sub']):\n",
    "            if np.sum(latent_adata_sub.obs['kmeans_sub']==c)>minCell:\n",
    "                idxKeep=np.logical_or(idxKeep,latent_adata_sub.obs['kmeans_sub']==c)\n",
    "        latent_adata_sub=latent_adata_sub[idxKeep]\n",
    "        if latent_adata_sub.shape[0]>0 and np.unique(latent_adata_sub.obs['kmeans_sub']).size>1:\n",
    "            print(v)\n",
    "    #         subsizes=np.zeros(np.unique(kmeans_sub).size)\n",
    "            nonzeroSub,counts=np.unique(latent_adata_sub.obs['kmeans_sub'],return_counts=True)\n",
    "    #         for sidx in range(nonzeroSub.size):\n",
    "    #             subsizes[np.unique(kmeans_sub)==nonzeroSub[sidx]]=counts[sidx]\n",
    "            latent_adata_sub.uns['kmeans_sub_sizes']=counts\n",
    "            _,idxKeep,_=np.intersect1d(np.unique(kmeans_sub),nonzeroSub,return_indices=True)\n",
    "            latent_adata_sub.uns['paga']['connectivities']=latent_adata.uns['paga']['connectivities'][idxKeep][:,idxKeep]\n",
    "\n",
    "\n",
    "\n",
    "            sc.pl.paga(latent_adata_sub, color=[v],pos=trainPagaPos[idxKeep],node_size_power=1,fontoutline=0.5,save='graph'+v+'_allcells.png',show=False,random_state=6,cmap='jet')\n",
    "        #     sc.tl.umap(latent_adata, init_pos='paga')\n",
    "            sc.pl.umap(latent_adata_sub,color=[v],legend_loc='on data',save='graph_umap'+v+'.png',show=False,size=3,vmin=vmin,vmax=vmax)\n",
    "\n"
   ]
  },
  {
   "cell_type": "code",
   "execution_count": 81,
   "metadata": {
    "scrolled": true
   },
   "outputs": [
    {
     "name": "stdout",
     "output_type": "stream",
     "text": [
      "distThresh_ki67Breast tissue_192\n"
     ]
    },
    {
     "name": "stderr",
     "output_type": "stream",
     "text": [
      "/home/xinyi/.local/lib/python3.8/site-packages/anndata/compat/_overloaded_dict.py:106: ImplicitModificationWarning: Trying to modify attribute `._uns` of view, initializing view as actual.\n",
      "  self.data[key] = value\n"
     ]
    },
    {
     "name": "stdout",
     "output_type": "stream",
     "text": [
      "--> added 'pos', the PAGA positions (adata.uns['paga'])\n",
      "WARNING: saving figure to file /media/xinyi/dcis2idc/plots/cnnvaeexp0/cluster_valsamples_reordered/minibatchkmean_ncluster8n_pcs50epoch311_subcluster_all/ki67/distDuct/distThresh/pagagraphdistThresh_ki67Breast tissue_192_allcells.png\n",
      "distThresh_ki67Ductal carcinoma in situ_192\n"
     ]
    },
    {
     "name": "stderr",
     "output_type": "stream",
     "text": [
      "/home/xinyi/.local/lib/python3.8/site-packages/anndata/compat/_overloaded_dict.py:106: ImplicitModificationWarning: Trying to modify attribute `._uns` of view, initializing view as actual.\n",
      "  self.data[key] = value\n"
     ]
    },
    {
     "name": "stdout",
     "output_type": "stream",
     "text": [
      "--> added 'pos', the PAGA positions (adata.uns['paga'])\n",
      "WARNING: saving figure to file /media/xinyi/dcis2idc/plots/cnnvaeexp0/cluster_valsamples_reordered/minibatchkmean_ncluster8n_pcs50epoch311_subcluster_all/ki67/distDuct/distThresh/pagagraphdistThresh_ki67Ductal carcinoma in situ_192_allcells.png\n",
      "distThresh_cytokeratinDuctal carcinoma in situ and breast tissue_192\n"
     ]
    },
    {
     "name": "stderr",
     "output_type": "stream",
     "text": [
      "/home/xinyi/.local/lib/python3.8/site-packages/anndata/compat/_overloaded_dict.py:106: ImplicitModificationWarning: Trying to modify attribute `._uns` of view, initializing view as actual.\n",
      "  self.data[key] = value\n"
     ]
    },
    {
     "name": "stdout",
     "output_type": "stream",
     "text": [
      "--> added 'pos', the PAGA positions (adata.uns['paga'])\n",
      "WARNING: saving figure to file /media/xinyi/dcis2idc/plots/cnnvaeexp0/cluster_valsamples_reordered/minibatchkmean_ncluster8n_pcs50epoch311_subcluster_all/cytokeratin/distDuct/distThresh/pagagraphdistThresh_cytokeratinDuctal carcinoma in situ and breast tissue_192_allcells.png\n",
      "distThresh_ki67Ductal carcinoma in situ and breast tissue_192\n"
     ]
    },
    {
     "name": "stderr",
     "output_type": "stream",
     "text": [
      "/home/xinyi/.local/lib/python3.8/site-packages/anndata/compat/_overloaded_dict.py:106: ImplicitModificationWarning: Trying to modify attribute `._uns` of view, initializing view as actual.\n",
      "  self.data[key] = value\n"
     ]
    },
    {
     "name": "stdout",
     "output_type": "stream",
     "text": [
      "--> added 'pos', the PAGA positions (adata.uns['paga'])\n",
      "WARNING: saving figure to file /media/xinyi/dcis2idc/plots/cnnvaeexp0/cluster_valsamples_reordered/minibatchkmean_ncluster8n_pcs50epoch311_subcluster_all/ki67/distDuct/distThresh/pagagraphdistThresh_ki67Ductal carcinoma in situ and breast tissue_192_allcells.png\n",
      "distThresh_cytokeratinDuctal carcinoma in situ with early infiltrati_192\n"
     ]
    },
    {
     "name": "stderr",
     "output_type": "stream",
     "text": [
      "/home/xinyi/.local/lib/python3.8/site-packages/anndata/compat/_overloaded_dict.py:106: ImplicitModificationWarning: Trying to modify attribute `._uns` of view, initializing view as actual.\n",
      "  self.data[key] = value\n"
     ]
    },
    {
     "name": "stdout",
     "output_type": "stream",
     "text": [
      "--> added 'pos', the PAGA positions (adata.uns['paga'])\n",
      "WARNING: saving figure to file /media/xinyi/dcis2idc/plots/cnnvaeexp0/cluster_valsamples_reordered/minibatchkmean_ncluster8n_pcs50epoch311_subcluster_all/cytokeratin/distDuct/distThresh/pagagraphdistThresh_cytokeratinDuctal carcinoma in situ with early infiltrati_192_allcells.png\n",
      "distThresh_ki67Ductal carcinoma in situ with early infiltrati_192\n"
     ]
    },
    {
     "name": "stderr",
     "output_type": "stream",
     "text": [
      "/home/xinyi/.local/lib/python3.8/site-packages/anndata/compat/_overloaded_dict.py:106: ImplicitModificationWarning: Trying to modify attribute `._uns` of view, initializing view as actual.\n",
      "  self.data[key] = value\n"
     ]
    },
    {
     "name": "stdout",
     "output_type": "stream",
     "text": [
      "--> added 'pos', the PAGA positions (adata.uns['paga'])\n",
      "WARNING: saving figure to file /media/xinyi/dcis2idc/plots/cnnvaeexp0/cluster_valsamples_reordered/minibatchkmean_ncluster8n_pcs50epoch311_subcluster_all/ki67/distDuct/distThresh/pagagraphdistThresh_ki67Ductal carcinoma in situ with early infiltrati_192_allcells.png\n",
      "distThresh_ki67Hyperplasia_192\n"
     ]
    },
    {
     "name": "stderr",
     "output_type": "stream",
     "text": [
      "/home/xinyi/.local/lib/python3.8/site-packages/anndata/compat/_overloaded_dict.py:106: ImplicitModificationWarning: Trying to modify attribute `._uns` of view, initializing view as actual.\n",
      "  self.data[key] = value\n"
     ]
    },
    {
     "name": "stdout",
     "output_type": "stream",
     "text": [
      "--> added 'pos', the PAGA positions (adata.uns['paga'])\n",
      "WARNING: saving figure to file /media/xinyi/dcis2idc/plots/cnnvaeexp0/cluster_valsamples_reordered/minibatchkmean_ncluster8n_pcs50epoch311_subcluster_all/ki67/distDuct/distThresh/pagagraphdistThresh_ki67Hyperplasia_192_allcells.png\n",
      "distThresh_cytokeratinInvasive ductal carcinoma_192\n"
     ]
    },
    {
     "name": "stderr",
     "output_type": "stream",
     "text": [
      "/home/xinyi/.local/lib/python3.8/site-packages/anndata/compat/_overloaded_dict.py:106: ImplicitModificationWarning: Trying to modify attribute `._uns` of view, initializing view as actual.\n",
      "  self.data[key] = value\n"
     ]
    },
    {
     "name": "stdout",
     "output_type": "stream",
     "text": [
      "--> added 'pos', the PAGA positions (adata.uns['paga'])\n",
      "WARNING: saving figure to file /media/xinyi/dcis2idc/plots/cnnvaeexp0/cluster_valsamples_reordered/minibatchkmean_ncluster8n_pcs50epoch311_subcluster_all/cytokeratin/distDuct/distThresh/pagagraphdistThresh_cytokeratinInvasive ductal carcinoma_192_allcells.png\n",
      "distThresh_ki67Invasive ductal carcinoma_192\n"
     ]
    },
    {
     "name": "stderr",
     "output_type": "stream",
     "text": [
      "/home/xinyi/.local/lib/python3.8/site-packages/anndata/compat/_overloaded_dict.py:106: ImplicitModificationWarning: Trying to modify attribute `._uns` of view, initializing view as actual.\n",
      "  self.data[key] = value\n"
     ]
    },
    {
     "name": "stdout",
     "output_type": "stream",
     "text": [
      "--> added 'pos', the PAGA positions (adata.uns['paga'])\n",
      "WARNING: saving figure to file /media/xinyi/dcis2idc/plots/cnnvaeexp0/cluster_valsamples_reordered/minibatchkmean_ncluster8n_pcs50epoch311_subcluster_all/ki67/distDuct/distThresh/pagagraphdistThresh_ki67Invasive ductal carcinoma_192_allcells.png\n",
      "distThresh_ki67Invasive ductal carcinoma and breast tissue_192\n"
     ]
    },
    {
     "name": "stderr",
     "output_type": "stream",
     "text": [
      "/home/xinyi/.local/lib/python3.8/site-packages/anndata/compat/_overloaded_dict.py:106: ImplicitModificationWarning: Trying to modify attribute `._uns` of view, initializing view as actual.\n",
      "  self.data[key] = value\n"
     ]
    },
    {
     "name": "stdout",
     "output_type": "stream",
     "text": [
      "--> added 'pos', the PAGA positions (adata.uns['paga'])\n",
      "WARNING: saving figure to file /media/xinyi/dcis2idc/plots/cnnvaeexp0/cluster_valsamples_reordered/minibatchkmean_ncluster8n_pcs50epoch311_subcluster_all/ki67/distDuct/distThresh/pagagraphdistThresh_ki67Invasive ductal carcinoma and breast tissue_192_allcells.png\n",
      "distThresh_cytokeratinMicropapillary type ductal carcinoma in situ w_192\n"
     ]
    },
    {
     "name": "stderr",
     "output_type": "stream",
     "text": [
      "/home/xinyi/.local/lib/python3.8/site-packages/anndata/compat/_overloaded_dict.py:106: ImplicitModificationWarning: Trying to modify attribute `._uns` of view, initializing view as actual.\n",
      "  self.data[key] = value\n"
     ]
    },
    {
     "name": "stdout",
     "output_type": "stream",
     "text": [
      "--> added 'pos', the PAGA positions (adata.uns['paga'])\n",
      "WARNING: saving figure to file /media/xinyi/dcis2idc/plots/cnnvaeexp0/cluster_valsamples_reordered/minibatchkmean_ncluster8n_pcs50epoch311_subcluster_all/cytokeratin/distDuct/distThresh/pagagraphdistThresh_cytokeratinMicropapillary type ductal carcinoma in situ w_192_allcells.png\n",
      "distThresh_ki67Micropapillary type ductal carcinoma in situ w_192\n"
     ]
    },
    {
     "name": "stderr",
     "output_type": "stream",
     "text": [
      "/home/xinyi/.local/lib/python3.8/site-packages/anndata/compat/_overloaded_dict.py:106: ImplicitModificationWarning: Trying to modify attribute `._uns` of view, initializing view as actual.\n",
      "  self.data[key] = value\n"
     ]
    },
    {
     "name": "stdout",
     "output_type": "stream",
     "text": [
      "--> added 'pos', the PAGA positions (adata.uns['paga'])\n",
      "WARNING: saving figure to file /media/xinyi/dcis2idc/plots/cnnvaeexp0/cluster_valsamples_reordered/minibatchkmean_ncluster8n_pcs50epoch311_subcluster_all/ki67/distDuct/distThresh/pagagraphdistThresh_ki67Micropapillary type ductal carcinoma in situ w_192_allcells.png\n",
      "distThresh_ki67Breast tissue_480\n"
     ]
    },
    {
     "name": "stderr",
     "output_type": "stream",
     "text": [
      "/home/xinyi/.local/lib/python3.8/site-packages/anndata/compat/_overloaded_dict.py:106: ImplicitModificationWarning: Trying to modify attribute `._uns` of view, initializing view as actual.\n",
      "  self.data[key] = value\n"
     ]
    },
    {
     "name": "stdout",
     "output_type": "stream",
     "text": [
      "--> added 'pos', the PAGA positions (adata.uns['paga'])\n",
      "WARNING: saving figure to file /media/xinyi/dcis2idc/plots/cnnvaeexp0/cluster_valsamples_reordered/minibatchkmean_ncluster8n_pcs50epoch311_subcluster_all/ki67/distDuct/distThresh/pagagraphdistThresh_ki67Breast tissue_480_allcells.png\n",
      "distThresh_ki67Ductal carcinoma in situ_480\n"
     ]
    },
    {
     "name": "stderr",
     "output_type": "stream",
     "text": [
      "/home/xinyi/.local/lib/python3.8/site-packages/anndata/compat/_overloaded_dict.py:106: ImplicitModificationWarning: Trying to modify attribute `._uns` of view, initializing view as actual.\n",
      "  self.data[key] = value\n"
     ]
    },
    {
     "name": "stdout",
     "output_type": "stream",
     "text": [
      "--> added 'pos', the PAGA positions (adata.uns['paga'])\n",
      "WARNING: saving figure to file /media/xinyi/dcis2idc/plots/cnnvaeexp0/cluster_valsamples_reordered/minibatchkmean_ncluster8n_pcs50epoch311_subcluster_all/ki67/distDuct/distThresh/pagagraphdistThresh_ki67Ductal carcinoma in situ_480_allcells.png\n",
      "distThresh_cytokeratinDuctal carcinoma in situ and breast tissue_480\n"
     ]
    },
    {
     "name": "stderr",
     "output_type": "stream",
     "text": [
      "/home/xinyi/.local/lib/python3.8/site-packages/anndata/compat/_overloaded_dict.py:106: ImplicitModificationWarning: Trying to modify attribute `._uns` of view, initializing view as actual.\n",
      "  self.data[key] = value\n"
     ]
    },
    {
     "name": "stdout",
     "output_type": "stream",
     "text": [
      "--> added 'pos', the PAGA positions (adata.uns['paga'])\n",
      "WARNING: saving figure to file /media/xinyi/dcis2idc/plots/cnnvaeexp0/cluster_valsamples_reordered/minibatchkmean_ncluster8n_pcs50epoch311_subcluster_all/cytokeratin/distDuct/distThresh/pagagraphdistThresh_cytokeratinDuctal carcinoma in situ and breast tissue_480_allcells.png\n",
      "distThresh_ki67Ductal carcinoma in situ and breast tissue_480\n"
     ]
    },
    {
     "name": "stderr",
     "output_type": "stream",
     "text": [
      "/home/xinyi/.local/lib/python3.8/site-packages/anndata/compat/_overloaded_dict.py:106: ImplicitModificationWarning: Trying to modify attribute `._uns` of view, initializing view as actual.\n",
      "  self.data[key] = value\n"
     ]
    },
    {
     "name": "stdout",
     "output_type": "stream",
     "text": [
      "--> added 'pos', the PAGA positions (adata.uns['paga'])\n",
      "WARNING: saving figure to file /media/xinyi/dcis2idc/plots/cnnvaeexp0/cluster_valsamples_reordered/minibatchkmean_ncluster8n_pcs50epoch311_subcluster_all/ki67/distDuct/distThresh/pagagraphdistThresh_ki67Ductal carcinoma in situ and breast tissue_480_allcells.png\n",
      "distThresh_cytokeratinDuctal carcinoma in situ with early infiltrati_480\n"
     ]
    },
    {
     "name": "stderr",
     "output_type": "stream",
     "text": [
      "/home/xinyi/.local/lib/python3.8/site-packages/anndata/compat/_overloaded_dict.py:106: ImplicitModificationWarning: Trying to modify attribute `._uns` of view, initializing view as actual.\n",
      "  self.data[key] = value\n"
     ]
    },
    {
     "name": "stdout",
     "output_type": "stream",
     "text": [
      "--> added 'pos', the PAGA positions (adata.uns['paga'])\n",
      "WARNING: saving figure to file /media/xinyi/dcis2idc/plots/cnnvaeexp0/cluster_valsamples_reordered/minibatchkmean_ncluster8n_pcs50epoch311_subcluster_all/cytokeratin/distDuct/distThresh/pagagraphdistThresh_cytokeratinDuctal carcinoma in situ with early infiltrati_480_allcells.png\n",
      "distThresh_ki67Ductal carcinoma in situ with early infiltrati_480\n"
     ]
    },
    {
     "name": "stderr",
     "output_type": "stream",
     "text": [
      "/home/xinyi/.local/lib/python3.8/site-packages/anndata/compat/_overloaded_dict.py:106: ImplicitModificationWarning: Trying to modify attribute `._uns` of view, initializing view as actual.\n",
      "  self.data[key] = value\n"
     ]
    },
    {
     "name": "stdout",
     "output_type": "stream",
     "text": [
      "--> added 'pos', the PAGA positions (adata.uns['paga'])\n",
      "WARNING: saving figure to file /media/xinyi/dcis2idc/plots/cnnvaeexp0/cluster_valsamples_reordered/minibatchkmean_ncluster8n_pcs50epoch311_subcluster_all/ki67/distDuct/distThresh/pagagraphdistThresh_ki67Ductal carcinoma in situ with early infiltrati_480_allcells.png\n",
      "distThresh_ki67Hyperplasia_480\n"
     ]
    },
    {
     "name": "stderr",
     "output_type": "stream",
     "text": [
      "/home/xinyi/.local/lib/python3.8/site-packages/anndata/compat/_overloaded_dict.py:106: ImplicitModificationWarning: Trying to modify attribute `._uns` of view, initializing view as actual.\n",
      "  self.data[key] = value\n"
     ]
    },
    {
     "name": "stdout",
     "output_type": "stream",
     "text": [
      "--> added 'pos', the PAGA positions (adata.uns['paga'])\n",
      "WARNING: saving figure to file /media/xinyi/dcis2idc/plots/cnnvaeexp0/cluster_valsamples_reordered/minibatchkmean_ncluster8n_pcs50epoch311_subcluster_all/ki67/distDuct/distThresh/pagagraphdistThresh_ki67Hyperplasia_480_allcells.png\n",
      "distThresh_cytokeratinInvasive ductal carcinoma_480\n"
     ]
    },
    {
     "name": "stderr",
     "output_type": "stream",
     "text": [
      "/home/xinyi/.local/lib/python3.8/site-packages/anndata/compat/_overloaded_dict.py:106: ImplicitModificationWarning: Trying to modify attribute `._uns` of view, initializing view as actual.\n",
      "  self.data[key] = value\n"
     ]
    },
    {
     "name": "stdout",
     "output_type": "stream",
     "text": [
      "--> added 'pos', the PAGA positions (adata.uns['paga'])\n",
      "WARNING: saving figure to file /media/xinyi/dcis2idc/plots/cnnvaeexp0/cluster_valsamples_reordered/minibatchkmean_ncluster8n_pcs50epoch311_subcluster_all/cytokeratin/distDuct/distThresh/pagagraphdistThresh_cytokeratinInvasive ductal carcinoma_480_allcells.png\n",
      "distThresh_ki67Invasive ductal carcinoma_480\n"
     ]
    },
    {
     "name": "stderr",
     "output_type": "stream",
     "text": [
      "/home/xinyi/.local/lib/python3.8/site-packages/anndata/compat/_overloaded_dict.py:106: ImplicitModificationWarning: Trying to modify attribute `._uns` of view, initializing view as actual.\n",
      "  self.data[key] = value\n"
     ]
    },
    {
     "name": "stdout",
     "output_type": "stream",
     "text": [
      "--> added 'pos', the PAGA positions (adata.uns['paga'])\n",
      "WARNING: saving figure to file /media/xinyi/dcis2idc/plots/cnnvaeexp0/cluster_valsamples_reordered/minibatchkmean_ncluster8n_pcs50epoch311_subcluster_all/ki67/distDuct/distThresh/pagagraphdistThresh_ki67Invasive ductal carcinoma_480_allcells.png\n",
      "distThresh_ki67Invasive ductal carcinoma and breast tissue_480\n"
     ]
    },
    {
     "name": "stderr",
     "output_type": "stream",
     "text": [
      "/home/xinyi/.local/lib/python3.8/site-packages/anndata/compat/_overloaded_dict.py:106: ImplicitModificationWarning: Trying to modify attribute `._uns` of view, initializing view as actual.\n",
      "  self.data[key] = value\n"
     ]
    },
    {
     "name": "stdout",
     "output_type": "stream",
     "text": [
      "--> added 'pos', the PAGA positions (adata.uns['paga'])\n",
      "WARNING: saving figure to file /media/xinyi/dcis2idc/plots/cnnvaeexp0/cluster_valsamples_reordered/minibatchkmean_ncluster8n_pcs50epoch311_subcluster_all/ki67/distDuct/distThresh/pagagraphdistThresh_ki67Invasive ductal carcinoma and breast tissue_480_allcells.png\n",
      "distThresh_cytokeratinMicropapillary type ductal carcinoma in situ w_480\n"
     ]
    },
    {
     "name": "stderr",
     "output_type": "stream",
     "text": [
      "/home/xinyi/.local/lib/python3.8/site-packages/anndata/compat/_overloaded_dict.py:106: ImplicitModificationWarning: Trying to modify attribute `._uns` of view, initializing view as actual.\n",
      "  self.data[key] = value\n"
     ]
    },
    {
     "name": "stdout",
     "output_type": "stream",
     "text": [
      "--> added 'pos', the PAGA positions (adata.uns['paga'])\n",
      "WARNING: saving figure to file /media/xinyi/dcis2idc/plots/cnnvaeexp0/cluster_valsamples_reordered/minibatchkmean_ncluster8n_pcs50epoch311_subcluster_all/cytokeratin/distDuct/distThresh/pagagraphdistThresh_cytokeratinMicropapillary type ductal carcinoma in situ w_480_allcells.png\n",
      "distThresh_ki67Micropapillary type ductal carcinoma in situ w_480\n"
     ]
    },
    {
     "name": "stderr",
     "output_type": "stream",
     "text": [
      "/home/xinyi/.local/lib/python3.8/site-packages/anndata/compat/_overloaded_dict.py:106: ImplicitModificationWarning: Trying to modify attribute `._uns` of view, initializing view as actual.\n",
      "  self.data[key] = value\n"
     ]
    },
    {
     "name": "stdout",
     "output_type": "stream",
     "text": [
      "--> added 'pos', the PAGA positions (adata.uns['paga'])\n",
      "WARNING: saving figure to file /media/xinyi/dcis2idc/plots/cnnvaeexp0/cluster_valsamples_reordered/minibatchkmean_ncluster8n_pcs50epoch311_subcluster_all/ki67/distDuct/distThresh/pagagraphdistThresh_ki67Micropapillary type ductal carcinoma in situ w_480_allcells.png\n",
      "distThresh_ki67Breast tissue_960\n"
     ]
    },
    {
     "name": "stderr",
     "output_type": "stream",
     "text": [
      "/home/xinyi/.local/lib/python3.8/site-packages/anndata/compat/_overloaded_dict.py:106: ImplicitModificationWarning: Trying to modify attribute `._uns` of view, initializing view as actual.\n",
      "  self.data[key] = value\n"
     ]
    },
    {
     "name": "stdout",
     "output_type": "stream",
     "text": [
      "--> added 'pos', the PAGA positions (adata.uns['paga'])\n",
      "WARNING: saving figure to file /media/xinyi/dcis2idc/plots/cnnvaeexp0/cluster_valsamples_reordered/minibatchkmean_ncluster8n_pcs50epoch311_subcluster_all/ki67/distDuct/distThresh/pagagraphdistThresh_ki67Breast tissue_960_allcells.png\n",
      "distThresh_ki67Ductal carcinoma in situ_960\n"
     ]
    },
    {
     "name": "stderr",
     "output_type": "stream",
     "text": [
      "/home/xinyi/.local/lib/python3.8/site-packages/anndata/compat/_overloaded_dict.py:106: ImplicitModificationWarning: Trying to modify attribute `._uns` of view, initializing view as actual.\n",
      "  self.data[key] = value\n"
     ]
    },
    {
     "name": "stdout",
     "output_type": "stream",
     "text": [
      "--> added 'pos', the PAGA positions (adata.uns['paga'])\n",
      "WARNING: saving figure to file /media/xinyi/dcis2idc/plots/cnnvaeexp0/cluster_valsamples_reordered/minibatchkmean_ncluster8n_pcs50epoch311_subcluster_all/ki67/distDuct/distThresh/pagagraphdistThresh_ki67Ductal carcinoma in situ_960_allcells.png\n",
      "distThresh_cytokeratinDuctal carcinoma in situ and breast tissue_960\n"
     ]
    },
    {
     "name": "stderr",
     "output_type": "stream",
     "text": [
      "/home/xinyi/.local/lib/python3.8/site-packages/anndata/compat/_overloaded_dict.py:106: ImplicitModificationWarning: Trying to modify attribute `._uns` of view, initializing view as actual.\n",
      "  self.data[key] = value\n"
     ]
    },
    {
     "name": "stdout",
     "output_type": "stream",
     "text": [
      "--> added 'pos', the PAGA positions (adata.uns['paga'])\n",
      "WARNING: saving figure to file /media/xinyi/dcis2idc/plots/cnnvaeexp0/cluster_valsamples_reordered/minibatchkmean_ncluster8n_pcs50epoch311_subcluster_all/cytokeratin/distDuct/distThresh/pagagraphdistThresh_cytokeratinDuctal carcinoma in situ and breast tissue_960_allcells.png\n",
      "distThresh_ki67Ductal carcinoma in situ and breast tissue_960\n"
     ]
    },
    {
     "name": "stderr",
     "output_type": "stream",
     "text": [
      "/home/xinyi/.local/lib/python3.8/site-packages/anndata/compat/_overloaded_dict.py:106: ImplicitModificationWarning: Trying to modify attribute `._uns` of view, initializing view as actual.\n",
      "  self.data[key] = value\n"
     ]
    },
    {
     "name": "stdout",
     "output_type": "stream",
     "text": [
      "--> added 'pos', the PAGA positions (adata.uns['paga'])\n",
      "WARNING: saving figure to file /media/xinyi/dcis2idc/plots/cnnvaeexp0/cluster_valsamples_reordered/minibatchkmean_ncluster8n_pcs50epoch311_subcluster_all/ki67/distDuct/distThresh/pagagraphdistThresh_ki67Ductal carcinoma in situ and breast tissue_960_allcells.png\n",
      "distThresh_cytokeratinDuctal carcinoma in situ with early infiltrati_960\n"
     ]
    },
    {
     "name": "stderr",
     "output_type": "stream",
     "text": [
      "/home/xinyi/.local/lib/python3.8/site-packages/anndata/compat/_overloaded_dict.py:106: ImplicitModificationWarning: Trying to modify attribute `._uns` of view, initializing view as actual.\n",
      "  self.data[key] = value\n"
     ]
    },
    {
     "name": "stdout",
     "output_type": "stream",
     "text": [
      "--> added 'pos', the PAGA positions (adata.uns['paga'])\n",
      "WARNING: saving figure to file /media/xinyi/dcis2idc/plots/cnnvaeexp0/cluster_valsamples_reordered/minibatchkmean_ncluster8n_pcs50epoch311_subcluster_all/cytokeratin/distDuct/distThresh/pagagraphdistThresh_cytokeratinDuctal carcinoma in situ with early infiltrati_960_allcells.png\n",
      "distThresh_ki67Ductal carcinoma in situ with early infiltrati_960\n"
     ]
    },
    {
     "name": "stderr",
     "output_type": "stream",
     "text": [
      "/home/xinyi/.local/lib/python3.8/site-packages/anndata/compat/_overloaded_dict.py:106: ImplicitModificationWarning: Trying to modify attribute `._uns` of view, initializing view as actual.\n",
      "  self.data[key] = value\n"
     ]
    },
    {
     "name": "stdout",
     "output_type": "stream",
     "text": [
      "--> added 'pos', the PAGA positions (adata.uns['paga'])\n",
      "WARNING: saving figure to file /media/xinyi/dcis2idc/plots/cnnvaeexp0/cluster_valsamples_reordered/minibatchkmean_ncluster8n_pcs50epoch311_subcluster_all/ki67/distDuct/distThresh/pagagraphdistThresh_ki67Ductal carcinoma in situ with early infiltrati_960_allcells.png\n",
      "distThresh_ki67Hyperplasia_960\n"
     ]
    },
    {
     "name": "stderr",
     "output_type": "stream",
     "text": [
      "/home/xinyi/.local/lib/python3.8/site-packages/anndata/compat/_overloaded_dict.py:106: ImplicitModificationWarning: Trying to modify attribute `._uns` of view, initializing view as actual.\n",
      "  self.data[key] = value\n"
     ]
    },
    {
     "name": "stdout",
     "output_type": "stream",
     "text": [
      "--> added 'pos', the PAGA positions (adata.uns['paga'])\n",
      "WARNING: saving figure to file /media/xinyi/dcis2idc/plots/cnnvaeexp0/cluster_valsamples_reordered/minibatchkmean_ncluster8n_pcs50epoch311_subcluster_all/ki67/distDuct/distThresh/pagagraphdistThresh_ki67Hyperplasia_960_allcells.png\n",
      "distThresh_cytokeratinInvasive ductal carcinoma_960\n"
     ]
    },
    {
     "name": "stderr",
     "output_type": "stream",
     "text": [
      "/home/xinyi/.local/lib/python3.8/site-packages/anndata/compat/_overloaded_dict.py:106: ImplicitModificationWarning: Trying to modify attribute `._uns` of view, initializing view as actual.\n",
      "  self.data[key] = value\n"
     ]
    },
    {
     "name": "stdout",
     "output_type": "stream",
     "text": [
      "--> added 'pos', the PAGA positions (adata.uns['paga'])\n",
      "WARNING: saving figure to file /media/xinyi/dcis2idc/plots/cnnvaeexp0/cluster_valsamples_reordered/minibatchkmean_ncluster8n_pcs50epoch311_subcluster_all/cytokeratin/distDuct/distThresh/pagagraphdistThresh_cytokeratinInvasive ductal carcinoma_960_allcells.png\n",
      "distThresh_ki67Invasive ductal carcinoma_960\n"
     ]
    },
    {
     "name": "stderr",
     "output_type": "stream",
     "text": [
      "/home/xinyi/.local/lib/python3.8/site-packages/anndata/compat/_overloaded_dict.py:106: ImplicitModificationWarning: Trying to modify attribute `._uns` of view, initializing view as actual.\n",
      "  self.data[key] = value\n"
     ]
    },
    {
     "name": "stdout",
     "output_type": "stream",
     "text": [
      "--> added 'pos', the PAGA positions (adata.uns['paga'])\n",
      "WARNING: saving figure to file /media/xinyi/dcis2idc/plots/cnnvaeexp0/cluster_valsamples_reordered/minibatchkmean_ncluster8n_pcs50epoch311_subcluster_all/ki67/distDuct/distThresh/pagagraphdistThresh_ki67Invasive ductal carcinoma_960_allcells.png\n",
      "distThresh_ki67Invasive ductal carcinoma and breast tissue_960\n"
     ]
    },
    {
     "name": "stderr",
     "output_type": "stream",
     "text": [
      "/home/xinyi/.local/lib/python3.8/site-packages/anndata/compat/_overloaded_dict.py:106: ImplicitModificationWarning: Trying to modify attribute `._uns` of view, initializing view as actual.\n",
      "  self.data[key] = value\n"
     ]
    },
    {
     "name": "stdout",
     "output_type": "stream",
     "text": [
      "--> added 'pos', the PAGA positions (adata.uns['paga'])\n",
      "WARNING: saving figure to file /media/xinyi/dcis2idc/plots/cnnvaeexp0/cluster_valsamples_reordered/minibatchkmean_ncluster8n_pcs50epoch311_subcluster_all/ki67/distDuct/distThresh/pagagraphdistThresh_ki67Invasive ductal carcinoma and breast tissue_960_allcells.png\n",
      "distThresh_cytokeratinMicropapillary type ductal carcinoma in situ w_960\n"
     ]
    },
    {
     "name": "stderr",
     "output_type": "stream",
     "text": [
      "/home/xinyi/.local/lib/python3.8/site-packages/anndata/compat/_overloaded_dict.py:106: ImplicitModificationWarning: Trying to modify attribute `._uns` of view, initializing view as actual.\n",
      "  self.data[key] = value\n"
     ]
    },
    {
     "name": "stdout",
     "output_type": "stream",
     "text": [
      "--> added 'pos', the PAGA positions (adata.uns['paga'])\n",
      "WARNING: saving figure to file /media/xinyi/dcis2idc/plots/cnnvaeexp0/cluster_valsamples_reordered/minibatchkmean_ncluster8n_pcs50epoch311_subcluster_all/cytokeratin/distDuct/distThresh/pagagraphdistThresh_cytokeratinMicropapillary type ductal carcinoma in situ w_960_allcells.png\n",
      "distThresh_ki67Micropapillary type ductal carcinoma in situ w_960\n"
     ]
    },
    {
     "name": "stderr",
     "output_type": "stream",
     "text": [
      "/home/xinyi/.local/lib/python3.8/site-packages/anndata/compat/_overloaded_dict.py:106: ImplicitModificationWarning: Trying to modify attribute `._uns` of view, initializing view as actual.\n",
      "  self.data[key] = value\n"
     ]
    },
    {
     "name": "stdout",
     "output_type": "stream",
     "text": [
      "--> added 'pos', the PAGA positions (adata.uns['paga'])\n",
      "WARNING: saving figure to file /media/xinyi/dcis2idc/plots/cnnvaeexp0/cluster_valsamples_reordered/minibatchkmean_ncluster8n_pcs50epoch311_subcluster_all/ki67/distDuct/distThresh/pagagraphdistThresh_ki67Micropapillary type ductal carcinoma in situ w_960_allcells.png\n"
     ]
    }
   ],
   "source": [
    "#%cells within distance threshold of ducts normalized by total outside of ducts - by prog\n",
    "distanceThresh=[radius*2*2,radius*2*5, radius*2*10]\n",
    "\n",
    "if not os.path.exists(os.path.join(subclusterplotdir,'distThresh')):\n",
    "    os.mkdir(os.path.join(subclusterplotdir,'distThresh'))\n",
    "for d in distanceThresh:\n",
    "    for prog in np.unique(progList):\n",
    "        for prot in np.unique(allvarnames):\n",
    "            v='distThresh_'+prot+prog+'_'+str(d)\n",
    "            protvalues=latent_adata.obs['distThresh_'+prog+'_'+str(d)].to_numpy(copy=True)\n",
    "            protvalues[np.logical_not(latent_adata.obs[prot+'log']>0)]=np.nan\n",
    "            latent_adata.obs[v]=protvalues\n",
    "            if not os.path.exists(os.path.join(subclusterplotdir,prot,'distDuct','distThresh')):\n",
    "                os.mkdir(os.path.join(subclusterplotdir,prot,'distDuct','distThresh'))\n",
    "            sc.settings.figdir=os.path.join(subclusterplotdir,prot,'distDuct','distThresh')\n",
    "\n",
    "            latent_adata_sub=latent_adata[np.isfinite(latent_adata.obs[v].to_numpy())]\n",
    "            idxKeep=np.repeat(False,latent_adata_sub.shape[0])\n",
    "            for c in np.unique(latent_adata_sub.obs['kmeans_sub']):\n",
    "                if np.sum(latent_adata_sub.obs['kmeans_sub']==c)>minCell:\n",
    "                    idxKeep=np.logical_or(idxKeep,latent_adata_sub.obs['kmeans_sub']==c)\n",
    "            latent_adata_sub=latent_adata_sub[idxKeep]\n",
    "            if latent_adata_sub.shape[0]>0 and np.unique(latent_adata_sub.obs['kmeans_sub']).size>1:\n",
    "                print(v)\n",
    "        #         subsizes=np.zeros(np.unique(kmeans_sub).size)\n",
    "                nonzeroSub,counts=np.unique(latent_adata_sub.obs['kmeans_sub'],return_counts=True)\n",
    "        #         for sidx in range(nonzeroSub.size):\n",
    "        #             subsizes[np.unique(kmeans_sub)==nonzeroSub[sidx]]=counts[sidx]\n",
    "                latent_adata_sub.uns['kmeans_sub_sizes']=counts\n",
    "                _,idxKeep,_=np.intersect1d(np.unique(kmeans_sub),nonzeroSub,return_indices=True)\n",
    "                latent_adata_sub.uns['paga']['connectivities']=latent_adata.uns['paga']['connectivities'][idxKeep][:,idxKeep]\n",
    "\n",
    "\n",
    "\n",
    "                sc.pl.paga(latent_adata_sub, color=[v],pos=trainPagaPos[idxKeep],node_size_power=1,fontoutline=0.5,save='graph'+v+'_allcells.png',show=False,random_state=6,cmap='jet')\n",
    "\n",
    "\n"
   ]
  }
 ],
 "metadata": {
  "kernelspec": {
   "display_name": "Python 3",
   "language": "python",
   "name": "python3"
  },
  "language_info": {
   "codemirror_mode": {
    "name": "ipython",
    "version": 3
   },
   "file_extension": ".py",
   "mimetype": "text/x-python",
   "name": "python",
   "nbconvert_exporter": "python",
   "pygments_lexer": "ipython3",
   "version": "3.8.10"
  }
 },
 "nbformat": 4,
 "nbformat_minor": 4
}
