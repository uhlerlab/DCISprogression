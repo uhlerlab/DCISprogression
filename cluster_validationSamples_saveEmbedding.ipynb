{
 "cells": [
  {
   "cell_type": "code",
   "execution_count": 1,
   "metadata": {},
   "outputs": [],
   "source": [
    "import time\n",
    "import os\n",
    "\n",
    "import scanpy\n",
    "import numpy as np\n",
    "import scipy.sparse as sp\n",
    "\n",
    "import pickle\n",
    "import matplotlib.pyplot as plt\n",
    "import seaborn as sns\n",
    "import pandas as pd\n",
    "import gc\n",
    "import umap\n",
    "from sklearn.cluster import MiniBatchKMeans,AgglomerativeClustering\n",
    "from sklearn.decomposition import PCA\n",
    "import cv2\n",
    "import sklearn.metrics "
   ]
  },
  {
   "cell_type": "code",
   "execution_count": 3,
   "metadata": {},
   "outputs": [],
   "source": [
    "datadir='/media/xinyi/dcis2idc/data'\n",
    "with open(os.path.join(datadir,'processed','latent311_valcores'), 'rb') as input:\n",
    "    latent=pickle.load(input)\n"
   ]
  },
  {
   "cell_type": "code",
   "execution_count": 4,
   "metadata": {},
   "outputs": [],
   "source": [
    "name='exp0'\n",
    "logsavepath='/media/xinyi/dcis2idc/log/cnnvae'+name\n",
    "modelsavepath='/media/xinyi/dcis2idc/models/cnnvae'+name\n",
    "plotsavepath='/media/xinyi/dcis2idc/plots/cnnvae'+name\n",
    "ncluster=8\n",
    "n_neighbors=10\n",
    "min_dist=0.25\n",
    "n_pcs=50\n",
    "ep=311\n",
    "savenameAdd='_nn'+str(n_neighbors)+'mdist0'+str(int(min_dist*100))+'epoch'+str(ep)\n",
    "with open(os.path.join(modelsavepath,'umap_plottingIdx_progBalanced_'+str(0)+savenameAdd), 'rb') as output:\n",
    "    reducer=pickle.load(output)"
   ]
  },
  {
   "cell_type": "code",
   "execution_count": 7,
   "metadata": {},
   "outputs": [
    {
     "data": {
      "text/plain": [
       "{'Atypical hyperplasia': 0.019455301979573823,\n",
       " 'Breast tissue': 0.03343300398682614,\n",
       " 'Cancer adjacent normal breast tissue': 1.0,\n",
       " 'Hyperplasia': 0.015251933674351941,\n",
       " 'Invasive ductal carcinoma': 0.002613210175430574,\n",
       " 'Invasive ductal carcinoma (breast tissue)': 0.7247534053546266}"
      ]
     },
     "execution_count": 7,
     "metadata": {},
     "output_type": "execute_result"
    }
   ],
   "source": [
    "progSampleRate"
   ]
  },
  {
   "cell_type": "code",
   "execution_count": 8,
   "metadata": {},
   "outputs": [
    {
     "data": {
      "text/plain": [
       "(1643256, 6000)"
      ]
     },
     "execution_count": 8,
     "metadata": {},
     "output_type": "execute_result"
    }
   ],
   "source": [
    "latent.shape"
   ]
  },
  {
   "cell_type": "code",
   "execution_count": 9,
   "metadata": {},
   "outputs": [
    {
     "data": {
      "text/plain": [
       "(20165,)"
      ]
     },
     "execution_count": 9,
     "metadata": {},
     "output_type": "execute_result"
    }
   ],
   "source": [
    "plottingIdx_i.shape"
   ]
  },
  {
   "cell_type": "code",
   "execution_count": 10,
   "metadata": {},
   "outputs": [],
   "source": [
    "embedding=reducer.transform(latent)\n",
    "savenameAdd='_nn'+str(n_neighbors)+'mdist0'+str(int(min_dist*100))+'epoch'+str(ep)\n",
    "with open(os.path.join(modelsavepath,'umapEmbedding_plottingIdx_progBalanced_'+str(0)+savenameAdd+'_valCores'), 'wb') as output:\n",
    "    pickle.dump(embedding,output,pickle.HIGHEST_PROTOCOL)\n",
    "\n"
   ]
  },
  {
   "cell_type": "code",
   "execution_count": 11,
   "metadata": {},
   "outputs": [],
   "source": [
    "latent=None\n",
    "gc.collect()\n",
    "with open(os.path.join(datadir,'processed','latent311_valsamples'), 'rb') as input:\n",
    "    latent_new=pickle.load(input)\n",
    "embedding_new=reducer.transform(latent_new)\n",
    "with open(os.path.join(modelsavepath,'umapEmbedding_plottingIdx_progBalanced_'+str(0)+savenameAdd+'_valSamples'), 'wb') as output:\n",
    "    pickle.dump(embedding_new,output,pickle.HIGHEST_PROTOCOL)"
   ]
  },
  {
   "cell_type": "code",
   "execution_count": null,
   "metadata": {},
   "outputs": [],
   "source": []
  }
 ],
 "metadata": {
  "kernelspec": {
   "display_name": "Python 3",
   "language": "python",
   "name": "python3"
  },
  "language_info": {
   "codemirror_mode": {
    "name": "ipython",
    "version": 3
   },
   "file_extension": ".py",
   "mimetype": "text/x-python",
   "name": "python",
   "nbconvert_exporter": "python",
   "pygments_lexer": "ipython3",
   "version": "3.8.10"
  }
 },
 "nbformat": 4,
 "nbformat_minor": 5
}
