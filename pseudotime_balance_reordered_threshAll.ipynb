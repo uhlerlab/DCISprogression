{
 "cells": [
  {
   "cell_type": "code",
   "execution_count": 1,
   "metadata": {},
   "outputs": [],
   "source": [
    "import time\n",
    "import os\n",
    "\n",
    "import scanpy as sc\n",
    "import numpy as np\n",
    "import scipy.sparse as sp\n",
    "\n",
    "import torch\n",
    "from torch import optim\n",
    "from torch.utils.data import DataLoader\n",
    "\n",
    "import models.loadImg as loadImg\n",
    "import models.modelsCNN as modelsCNN\n",
    "import models.optimizer as optimizer\n",
    "\n",
    "import pickle\n",
    "import matplotlib.pyplot as plt\n",
    "import seaborn as sns\n",
    "import pandas as pd\n",
    "import gc\n",
    "from skimage import io\n",
    "import umap\n",
    "from sklearn.cluster import MiniBatchKMeans,AgglomerativeClustering\n",
    "from sklearn.decomposition import PCA\n",
    "\n",
    "import anndata as ad"
   ]
  },
  {
   "cell_type": "code",
   "execution_count": 2,
   "metadata": {},
   "outputs": [],
   "source": [
    "sc.settings.verbosity = 3\n",
    "\n"
   ]
  },
  {
   "cell_type": "code",
   "execution_count": 3,
   "metadata": {},
   "outputs": [],
   "source": [
    "os.environ[\"CUDA_LAUNCH_BLOCKING\"] = \"0,1,2,3\" \n",
    "os.environ[\"CUDA_VISIBLE_DEVICES\"] = \"0,1,2,3\" \n",
    "use_cuda=True\n"
   ]
  },
  {
   "cell_type": "code",
   "execution_count": 4,
   "metadata": {},
   "outputs": [
    {
     "name": "stdout",
     "output_type": "stream",
     "text": [
      "['br1003a_1_cytokeratin_555_aSMA_647_hoechst', 'br1003a_3_collagen1_647_hoechst', 'br1003a_4_cytokeratin_555_gh2ax_647_hoechst', 'br301_4_cytokeratin_555_aSMA_647_hoechst', 'br301_6_collagen1_647_hoechst', 'br8018a_1_cytokeratin_555_aSMA_647_hoechst', 'br8018a_3_collagen1_647_hoechst', 'br8018a_4_cytokeratin_555_gh2ax_647_hoechst']\n"
     ]
    }
   ],
   "source": [
    "radius=48\n",
    "datadir='/media/xinyi/dcis2idc/data'\n",
    "sampleList=[]\n",
    "for s in os.listdir('/media/xinyi/dcis2idc/data'):\n",
    "    if 'hoechst'  in s and ('_1_' in s or '_3_' in s or '_4_' in s or '_6_' in s):\n",
    "#     if 'hoechst'  in s and ('_3_' in s or '_4_' in s or '_6_' in s):\n",
    "        sampleList.append(s)\n",
    "print(sampleList)\n",
    "trainingCores={'br1003a':[],'br8018a':[],'br301':[]}\n",
    "for s in range(1,11):\n",
    "# for s in range(5,11):\n",
    "    trainingCores['br1003a'].append('A'+str(s))\n",
    "    trainingCores['br1003a'].append('C'+str(s))\n",
    "    trainingCores['br1003a'].append('I'+str(s))\n",
    "for s in range(1,11):\n",
    "    if s<9:\n",
    "        trainingCores['br8018a'].append('H'+str(s))\n",
    "    trainingCores['br8018a'].append('A'+str(s))\n",
    "    trainingCores['br8018a'].append('B'+str(s))\n",
    "    trainingCores['br8018a'].append('F'+str(s))\n",
    "for s in range(1,7):\n",
    "    for sr in ['A','B','C','D','E']:\n",
    "        trainingCores['br301'].append(sr+str(s))"
   ]
  },
  {
   "cell_type": "code",
   "execution_count": 5,
   "metadata": {},
   "outputs": [],
   "source": [
    "with open(os.path.join(datadir,'processed','latent311'), 'rb') as input:\n",
    "    latent=pickle.load(input)"
   ]
  },
  {
   "cell_type": "code",
   "execution_count": 6,
   "metadata": {},
   "outputs": [],
   "source": [
    "name='exp0'\n",
    "logsavepath='/media/xinyi/dcis2idc/log/cnnvae'+name\n",
    "modelsavepath='/media/xinyi/dcis2idc/models/cnnvae'+name\n",
    "plotsavepath='/media/xinyi/dcis2idc/plots/cnnvae'+name\n",
    "sampledir=plotsavepath\n",
    "clustersavedir_alltrain=os.path.join(sampledir,'cluster_alltrain_reordered')\n",
    "if not os.path.exists(clustersavedir_alltrain):\n",
    "    os.mkdir(clustersavedir_alltrain)"
   ]
  },
  {
   "cell_type": "code",
   "execution_count": 7,
   "metadata": {},
   "outputs": [],
   "source": [
    "ep=311"
   ]
  },
  {
   "cell_type": "code",
   "execution_count": 8,
   "metadata": {},
   "outputs": [],
   "source": [
    "with open(os.path.join(datadir,'processed','train_cnnvae_names'), 'rb') as input:\n",
    "    allImgNames=pickle.load(input)\n",
    "#plot by disease progression\n",
    "br1003aSpecs=pd.read_excel('/media/xinyi/dcis2idc/data/BR1003a specs.xlsx',header=10)\n",
    "br301Specs=pd.read_excel('/media/xinyi/dcis2idc/data/BR301 specs.xlsx',header=10)\n",
    "br8018aSpecs=pd.read_excel('/media/xinyi/dcis2idc/data/BR8018a specs.xlsx',header=10)\n",
    "br1003aSpecs.index=br1003aSpecs.loc[:,'Position']\n",
    "br301Specs.index=br301Specs.loc[:,'Position']\n",
    "br8018aSpecs.index=br8018aSpecs.loc[:,'Position']\n",
    "\n",
    "progList=np.copy(allImgNames)\n",
    "for s in np.unique(allImgNames):\n",
    "    ssplit=s.split('_')\n",
    "    if 'br1003a'==ssplit[0]:\n",
    "        prog_s=br1003aSpecs.loc[(ssplit[-1],'Pathology diagnosis')]\n",
    "    elif 'br301'==ssplit[0]:\n",
    "        prog_s=br301Specs.loc[(ssplit[-1],'Pathology diagnosis')]\n",
    "    elif 'br8018a'==ssplit[0]:\n",
    "        prog_s=br8018aSpecs.loc[(ssplit[-1],'Pathology diagnosis')]\n",
    "    progList[allImgNames==s]=prog_s\n",
    "    \n"
   ]
  },
  {
   "cell_type": "markdown",
   "metadata": {},
   "source": [
    "## combine subclusters to same trajectory"
   ]
  },
  {
   "cell_type": "code",
   "execution_count": 12,
   "metadata": {
    "scrolled": true
   },
   "outputs": [],
   "source": [
    "ncluster=8\n",
    "n_neighbors=10\n",
    "min_dist=0.25\n",
    "n_pcs=50\n",
    "plotepoch=ep\n",
    "savenameAdd='_plottingIdx_progBalanced_'+str(0)\n",
    "savenamecluster='minibatchkmean_ncluster'+str(ncluster)+'n_pcs'+str(n_pcs)+'epoch'+str(plotepoch)+savenameAdd\n",
    "with open(os.path.join(plotsavepath,'cluster',savenamecluster+'_estimator'), 'rb') as output:\n",
    "    kmeansestimator=pickle.load(output)\n",
    "\n",
    "savenamepca='pca_epoch'+str(plotepoch)+savenameAdd\n",
    "with open(os.path.join(plotsavepath,'cluster',savenamepca), 'rb') as output:\n",
    "    pca=pickle.load(output)\n",
    "    \n",
    "subclusternumbers=[4,6,8,6,6,6,6,4]\n",
    "kmeansestimator_sub={}\n",
    "pca_sub={}\n",
    "for c in range(ncluster):\n",
    "    subclustersavedir=os.path.join(plotsavepath,'cluster',savenamecluster+'_subcluster'+str(c))\n",
    "    savenamecluster_sub='minibatchkmean_ncluster'+str(subclusternumbers[c])+'n_pcs'+str(n_pcs)+'epoch'+str(plotepoch)+savenameAdd\n",
    "    with open(os.path.join(subclustersavedir,savenamecluster_sub+'_estimator'), 'rb') as output:\n",
    "        kmeansestimator_sub[c]=pickle.load(output)\n",
    "    with open(os.path.join(subclustersavedir,savenamepca), 'rb') as output:\n",
    "        pca_sub[c]=pickle.load(output)\n",
    "        \n",
    "#predict kmeans\n",
    "neworder=[1, 5, 3, 7, 2, 0, 4, 6]\n",
    "if not os.path.exists(clustersavedir_alltrain):\n",
    "    os.mkdir(clustersavedir_alltrain)\n",
    "clusterplotdir_alltrain=os.path.join(clustersavedir_alltrain,'plots')\n",
    "if not os.path.exists(clusterplotdir_alltrain):\n",
    "    os.mkdir(clusterplotdir_alltrain)\n",
    "clusterRes=kmeansestimator.predict(pca.transform(latent)[:,:n_pcs])\n",
    "clusterRes_reordered=np.zeros_like(clusterRes)\n",
    "for c in range(ncluster):\n",
    "    cold=neworder[c]\n",
    "    clusterRes_reordered[clusterRes==cold]=c\n",
    "\n",
    "with open(os.path.join(clustersavedir_alltrain,'minibatchkmean_ncluster'+str(ncluster)+'n_pcs'+str(n_pcs)+'epoch'+str(plotepoch)+'_all'), 'wb') as output:\n",
    "    pickle.dump(clusterRes_reordered, output, pickle.HIGHEST_PROTOCOL)\n",
    "\n",
    "gc.collect()\n",
    "\n",
    "savenamecluster='minibatchkmean_ncluster'+str(ncluster)+'n_pcs'+str(n_pcs)+'epoch'+str(plotepoch)+savenameAdd\n",
    "for cnew in np.unique(clusterRes_reordered):\n",
    "    c=neworder[cnew]\n",
    "    subclustersavedir_alltrain=os.path.join(clustersavedir_alltrain,savenamecluster+'_subcluster'+str(c))\n",
    "    subclusterplotdir_alltrain=os.path.join(subclustersavedir_alltrain,'plots')\n",
    "    if not os.path.exists(subclustersavedir_alltrain):\n",
    "        os.mkdir(subclustersavedir_alltrain)\n",
    "    if not os.path.exists(subclusterplotdir_alltrain):\n",
    "        os.mkdir(subclusterplotdir_alltrain)\n",
    "    clusterRes_sub=kmeansestimator_sub[c].predict(pca_sub[c].transform(latent[clusterRes_reordered==cnew])[:,:n_pcs])\n",
    "    with open(os.path.join(subclustersavedir_alltrain,'minibatchkmean_ncluster'+str(subclusternumbers[c])+'n_pcs'+str(n_pcs)+'epoch'+str(plotepoch)+'_all'), 'wb') as output:\n",
    "        pickle.dump(clusterRes_sub, output, pickle.HIGHEST_PROTOCOL)\n",
    "\n",
    "\n"
   ]
  },
  {
   "cell_type": "code",
   "execution_count": 9,
   "metadata": {},
   "outputs": [],
   "source": [
    "with open(os.path.join(plotsavepath,'cluster_reordered','minibatchkmean_ncluster'+str(8)+'n_pcs'+str(50)+'epoch'+str(ep)+'_plottingIdx_progBalanced_'+str(0)+'_reordered'+'_subcluster_all','pagaPos_reordered'), 'rb') as output:\n",
    "    trainPagaPos=pickle.load(output)"
   ]
  },
  {
   "cell_type": "code",
   "execution_count": 11,
   "metadata": {
    "scrolled": true
   },
   "outputs": [
    {
     "name": "stdout",
     "output_type": "stream",
     "text": [
      "computing PCA\n",
      "    with n_comps=50\n",
      "    finished (0:03:14)\n",
      "computing neighbors\n",
      "    using 'X_pca' with n_pcs = 20\n",
      "    finished: added to `.uns['neighbors']`\n",
      "    `.obsp['distances']`, distances for each pair of neighbors\n",
      "    `.obsp['connectivities']`, weighted adjacency matrix (0:01:37)\n",
      "running PAGA\n",
      "    finished: added\n",
      "    'paga/connectivities', connectivities adjacency (adata.uns)\n",
      "    'paga/connectivities_tree', connectivities subtree (adata.uns) (0:02:07)\n",
      "--> added 'pos', the PAGA positions (adata.uns['paga'])\n",
      "WARNING: saving figure to file /media/xinyi/dcis2idc/plots/cnnvaeexp0/cluster_alltrain_reordered/minibatchkmean_ncluster8n_pcs50epoch311_plottingIdx_progBalanced_0_subcluster_all/pagagraph_thresh001.pdf\n",
      "computing UMAP\n"
     ]
    },
    {
     "ename": "KeyboardInterrupt",
     "evalue": "",
     "output_type": "error",
     "traceback": [
      "\u001b[0;31m---------------------------------------------------------------------------\u001b[0m",
      "\u001b[0;31mKeyboardInterrupt\u001b[0m                         Traceback (most recent call last)",
      "\u001b[0;32m<ipython-input-11-5914cf203373>\u001b[0m in \u001b[0;36m<module>\u001b[0;34m\u001b[0m\n\u001b[1;32m     51\u001b[0m \u001b[0;31m# # sc.pl.paga(latent_adata, color=['kmeans'],save='graph.png') #default threshold is 0.01\u001b[0m\u001b[0;34m\u001b[0m\u001b[0;34m\u001b[0m\u001b[0;34m\u001b[0m\u001b[0m\n\u001b[1;32m     52\u001b[0m \u001b[0msc\u001b[0m\u001b[0;34m.\u001b[0m\u001b[0mpl\u001b[0m\u001b[0;34m.\u001b[0m\u001b[0mpaga\u001b[0m\u001b[0;34m(\u001b[0m\u001b[0mlatent_adata\u001b[0m\u001b[0;34m,\u001b[0m \u001b[0mcolor\u001b[0m\u001b[0;34m=\u001b[0m\u001b[0;34m[\u001b[0m\u001b[0;34m'kmeans'\u001b[0m\u001b[0;34m]\u001b[0m\u001b[0;34m,\u001b[0m\u001b[0mpos\u001b[0m\u001b[0;34m=\u001b[0m\u001b[0mtrainPagaPos\u001b[0m\u001b[0;34m,\u001b[0m\u001b[0mfontsize\u001b[0m\u001b[0;34m=\u001b[0m\u001b[0;36m18\u001b[0m\u001b[0;34m,\u001b[0m\u001b[0mfontoutline\u001b[0m\u001b[0;34m=\u001b[0m\u001b[0;36m1\u001b[0m\u001b[0;34m,\u001b[0m\u001b[0mmax_edge_width\u001b[0m\u001b[0;34m=\u001b[0m\u001b[0;36m10\u001b[0m\u001b[0;34m,\u001b[0m \u001b[0mnode_size_scale\u001b[0m\u001b[0;34m=\u001b[0m\u001b[0;36m5\u001b[0m\u001b[0;34m,\u001b[0m\u001b[0mnode_size_power\u001b[0m\u001b[0;34m=\u001b[0m\u001b[0;36m1\u001b[0m\u001b[0;34m,\u001b[0m\u001b[0msave\u001b[0m\u001b[0;34m=\u001b[0m\u001b[0;34m'graph_thresh001.pdf'\u001b[0m\u001b[0;34m,\u001b[0m\u001b[0mthreshold\u001b[0m\u001b[0;34m=\u001b[0m\u001b[0;36m0.01\u001b[0m\u001b[0;34m,\u001b[0m\u001b[0mshow\u001b[0m\u001b[0;34m=\u001b[0m\u001b[0;32mFalse\u001b[0m\u001b[0;34m,\u001b[0m\u001b[0mrandom_state\u001b[0m\u001b[0;34m=\u001b[0m\u001b[0;36m6\u001b[0m\u001b[0;34m)\u001b[0m\u001b[0;34m\u001b[0m\u001b[0;34m\u001b[0m\u001b[0m\n\u001b[0;32m---> 53\u001b[0;31m \u001b[0msc\u001b[0m\u001b[0;34m.\u001b[0m\u001b[0mtl\u001b[0m\u001b[0;34m.\u001b[0m\u001b[0mumap\u001b[0m\u001b[0;34m(\u001b[0m\u001b[0mlatent_adata\u001b[0m\u001b[0;34m,\u001b[0m \u001b[0minit_pos\u001b[0m\u001b[0;34m=\u001b[0m\u001b[0;34m'paga'\u001b[0m\u001b[0;34m)\u001b[0m\u001b[0;34m\u001b[0m\u001b[0;34m\u001b[0m\u001b[0m\n\u001b[0m\u001b[1;32m     54\u001b[0m \u001b[0msc\u001b[0m\u001b[0;34m.\u001b[0m\u001b[0mpl\u001b[0m\u001b[0;34m.\u001b[0m\u001b[0mumap\u001b[0m\u001b[0;34m(\u001b[0m\u001b[0mlatent_adata\u001b[0m\u001b[0;34m,\u001b[0m\u001b[0mcolor\u001b[0m\u001b[0;34m=\u001b[0m\u001b[0;34m[\u001b[0m\u001b[0;34m'kmeans'\u001b[0m\u001b[0;34m]\u001b[0m\u001b[0;34m,\u001b[0m\u001b[0mlegend_loc\u001b[0m\u001b[0;34m=\u001b[0m\u001b[0;34m'on data'\u001b[0m\u001b[0;34m,\u001b[0m\u001b[0msave\u001b[0m\u001b[0;34m=\u001b[0m\u001b[0;34m'graph_umap.pdf'\u001b[0m\u001b[0;34m,\u001b[0m\u001b[0mshow\u001b[0m\u001b[0;34m=\u001b[0m\u001b[0;32mFalse\u001b[0m\u001b[0;34m)\u001b[0m\u001b[0;34m\u001b[0m\u001b[0;34m\u001b[0m\u001b[0m\n\u001b[1;32m     55\u001b[0m \u001b[0;34m\u001b[0m\u001b[0m\n",
      "\u001b[0;32m~/.local/lib/python3.8/site-packages/scanpy/tools/_umap.py\u001b[0m in \u001b[0;36mumap\u001b[0;34m(adata, min_dist, spread, n_components, maxiter, alpha, gamma, negative_sample_rate, init_pos, random_state, a, b, copy, method, neighbors_key)\u001b[0m\n\u001b[1;32m    192\u001b[0m         \u001b[0mdefault_epochs\u001b[0m \u001b[0;34m=\u001b[0m \u001b[0;36m500\u001b[0m \u001b[0;32mif\u001b[0m \u001b[0mneighbors\u001b[0m\u001b[0;34m[\u001b[0m\u001b[0;34m'connectivities'\u001b[0m\u001b[0;34m]\u001b[0m\u001b[0;34m.\u001b[0m\u001b[0mshape\u001b[0m\u001b[0;34m[\u001b[0m\u001b[0;36m0\u001b[0m\u001b[0;34m]\u001b[0m \u001b[0;34m<=\u001b[0m \u001b[0;36m10000\u001b[0m \u001b[0;32melse\u001b[0m \u001b[0;36m200\u001b[0m\u001b[0;34m\u001b[0m\u001b[0;34m\u001b[0m\u001b[0m\n\u001b[1;32m    193\u001b[0m         \u001b[0mn_epochs\u001b[0m \u001b[0;34m=\u001b[0m \u001b[0mdefault_epochs\u001b[0m \u001b[0;32mif\u001b[0m \u001b[0mmaxiter\u001b[0m \u001b[0;32mis\u001b[0m \u001b[0;32mNone\u001b[0m \u001b[0;32melse\u001b[0m \u001b[0mmaxiter\u001b[0m\u001b[0;34m\u001b[0m\u001b[0;34m\u001b[0m\u001b[0m\n\u001b[0;32m--> 194\u001b[0;31m         X_umap = simplicial_set_embedding(\n\u001b[0m\u001b[1;32m    195\u001b[0m             \u001b[0mX\u001b[0m\u001b[0;34m,\u001b[0m\u001b[0;34m\u001b[0m\u001b[0;34m\u001b[0m\u001b[0m\n\u001b[1;32m    196\u001b[0m             \u001b[0mneighbors\u001b[0m\u001b[0;34m[\u001b[0m\u001b[0;34m'connectivities'\u001b[0m\u001b[0;34m]\u001b[0m\u001b[0;34m.\u001b[0m\u001b[0mtocoo\u001b[0m\u001b[0;34m(\u001b[0m\u001b[0;34m)\u001b[0m\u001b[0;34m,\u001b[0m\u001b[0;34m\u001b[0m\u001b[0;34m\u001b[0m\u001b[0m\n",
      "\u001b[0;32m~/.local/lib/python3.8/site-packages/scanpy/tools/_umap.py\u001b[0m in \u001b[0;36msimplicial_set_embedding\u001b[0;34m(*args, **kwargs)\u001b[0m\n\u001b[1;32m    146\u001b[0m             \u001b[0;32mfrom\u001b[0m \u001b[0mumap\u001b[0m\u001b[0;34m.\u001b[0m\u001b[0mumap_\u001b[0m \u001b[0;32mimport\u001b[0m \u001b[0msimplicial_set_embedding\u001b[0m\u001b[0;34m\u001b[0m\u001b[0;34m\u001b[0m\u001b[0m\n\u001b[1;32m    147\u001b[0m \u001b[0;34m\u001b[0m\u001b[0m\n\u001b[0;32m--> 148\u001b[0;31m             X_umap, _ = simplicial_set_embedding(\n\u001b[0m\u001b[1;32m    149\u001b[0m                 \u001b[0;34m*\u001b[0m\u001b[0margs\u001b[0m\u001b[0;34m,\u001b[0m\u001b[0;34m\u001b[0m\u001b[0;34m\u001b[0m\u001b[0m\n\u001b[1;32m    150\u001b[0m                 \u001b[0mdensmap\u001b[0m\u001b[0;34m=\u001b[0m\u001b[0;32mFalse\u001b[0m\u001b[0;34m,\u001b[0m\u001b[0;34m\u001b[0m\u001b[0;34m\u001b[0m\u001b[0m\n",
      "\u001b[0;32m~/.local/lib/python3.8/site-packages/umap/umap_.py\u001b[0m in \u001b[0;36msimplicial_set_embedding\u001b[0;34m(data, graph, n_components, initial_alpha, a, b, gamma, negative_sample_rate, n_epochs, init, random_state, metric, metric_kwds, densmap, densmap_kwds, output_dens, output_metric, output_metric_kwds, euclidean_output, parallel, verbose, tqdm_kwds)\u001b[0m\n\u001b[1;32m   1154\u001b[0m \u001b[0;34m\u001b[0m\u001b[0m\n\u001b[1;32m   1155\u001b[0m     \u001b[0;32mif\u001b[0m \u001b[0meuclidean_output\u001b[0m\u001b[0;34m:\u001b[0m\u001b[0;34m\u001b[0m\u001b[0;34m\u001b[0m\u001b[0m\n\u001b[0;32m-> 1156\u001b[0;31m         embedding = optimize_layout_euclidean(\n\u001b[0m\u001b[1;32m   1157\u001b[0m             \u001b[0membedding\u001b[0m\u001b[0;34m,\u001b[0m\u001b[0;34m\u001b[0m\u001b[0;34m\u001b[0m\u001b[0m\n\u001b[1;32m   1158\u001b[0m             \u001b[0membedding\u001b[0m\u001b[0;34m,\u001b[0m\u001b[0;34m\u001b[0m\u001b[0;34m\u001b[0m\u001b[0m\n",
      "\u001b[0;32m~/.local/lib/python3.8/site-packages/umap/layouts.py\u001b[0m in \u001b[0;36moptimize_layout_euclidean\u001b[0;34m(head_embedding, tail_embedding, head, tail, n_epochs, n_vertices, epochs_per_sample, a, b, rng_state, gamma, initial_alpha, negative_sample_rate, parallel, verbose, densmap, densmap_kwds, tqdm_kwds, move_other)\u001b[0m\n\u001b[1;32m    367\u001b[0m             \u001b[0mdens_re_cov\u001b[0m \u001b[0;34m=\u001b[0m \u001b[0;36m0\u001b[0m\u001b[0;34m\u001b[0m\u001b[0;34m\u001b[0m\u001b[0m\n\u001b[1;32m    368\u001b[0m \u001b[0;34m\u001b[0m\u001b[0m\n\u001b[0;32m--> 369\u001b[0;31m         optimize_fn(\n\u001b[0m\u001b[1;32m    370\u001b[0m             \u001b[0mhead_embedding\u001b[0m\u001b[0;34m,\u001b[0m\u001b[0;34m\u001b[0m\u001b[0;34m\u001b[0m\u001b[0m\n\u001b[1;32m    371\u001b[0m             \u001b[0mtail_embedding\u001b[0m\u001b[0;34m,\u001b[0m\u001b[0;34m\u001b[0m\u001b[0;34m\u001b[0m\u001b[0m\n",
      "\u001b[0;31mKeyboardInterrupt\u001b[0m: "
     ]
    }
   ],
   "source": [
    "# savenamesample='alltrain'\n",
    "\n",
    "# neworder=[1, 5, 3, 7, 2, 0, 4, 6]\n",
    "# #use chosen subcluster number and save plots\n",
    "# sc.settings.verbosity = 3\n",
    "# # subcluster=8\n",
    "# subclusterDict={0:[4],1:[6],2:[8],3:[6],4:[6],5:[6],6:[6],7:[4]}\n",
    "# ncluster=8\n",
    "\n",
    "# plotepoch=311\n",
    "# clusterplotdir=os.path.join(clustersavedir_alltrain,'plots')\n",
    "# n_pcs=50\n",
    "# savenamecluster='minibatchkmean_ncluster'+str(ncluster)+'n_pcs'+str(n_pcs)+'epoch'+str(plotepoch)\n",
    "# with open(os.path.join(clustersavedir_alltrain,'minibatchkmean_ncluster'+str(ncluster)+'n_pcs'+str(n_pcs)+'epoch'+str(plotepoch)+'_all'), 'rb') as output:\n",
    "#     clusterRes=pickle.load(output)\n",
    "\n",
    "# latent_adata=ad.AnnData(latent)\n",
    "# kmeans_sub=(np.zeros(clusterRes.size)-1).astype(str)\n",
    "# savenameAdd='_plottingIdx_progBalanced_'+str(0)\n",
    "# subclusternumbers=[4,6,8,6,6,6,6,4]\n",
    "# savenamecluster='minibatchkmean_ncluster'+str(ncluster)+'n_pcs'+str(n_pcs)+'epoch'+str(plotepoch)+savenameAdd\n",
    "# for cnew in np.unique(clusterRes):\n",
    "# #     print('cluster'+str(c))\n",
    "#     c=neworder[cnew]\n",
    "    \n",
    "#     subclustersavedir_alltrain=os.path.join(clustersavedir_alltrain,savenamecluster+'_subcluster'+str(c))\n",
    "#     with open(os.path.join(subclustersavedir_alltrain,'minibatchkmean_ncluster'+str(subclusternumbers[c])+'n_pcs'+str(n_pcs)+'epoch'+str(plotepoch)+'_all'), 'rb') as output:\n",
    "#         subclusterRes=pickle.load(output)\n",
    "#     print(np.unique(subclusterRes))\n",
    "#     kmeans_sub[clusterRes==cnew]=np.char.add(np.repeat(str(cnew)+'-',subclusterRes.size),subclusterRes.astype(str))\n",
    "        \n",
    "# latent_adata.obs['kmeans_sub']=kmeans_sub\n",
    "# latent_adata.obs['kmeans_sub']=latent_adata.obs['kmeans_sub'].astype('category')\n",
    "# latent_adata.obs['kmeans']=clusterRes.astype(str)\n",
    "# latent_adata.obs['kmeans']=latent_adata.obs['kmeans'].astype('category')\n",
    "\n",
    "\n",
    "# subclusterplotdir=os.path.join(clustersavedir_alltrain,savenamecluster+'_subcluster_all')\n",
    "# if not os.path.exists(subclusterplotdir):\n",
    "#     os.mkdir(subclusterplotdir)\n",
    "\n",
    "\n",
    "# sc.settings.figdir=os.path.join(subclusterplotdir)\n",
    "\n",
    "np.random.seed(3)\n",
    "sc.tl.pca(latent_adata, svd_solver='arpack')\n",
    "sc.pp.neighbors(latent_adata, n_neighbors=4, n_pcs=20)\n",
    "sc.tl.paga(latent_adata, groups='kmeans_sub')\n",
    "plt.rcParams[\"figure.figsize\"] = (10, 10)\n",
    "plt.rcParams['figure.dpi'] = 1200\n",
    "# # sc.pl.paga(latent_adata, color=['kmeans'],save='graph.png') #default threshold is 0.01\n",
    "sc.pl.paga(latent_adata, color=['kmeans'],pos=trainPagaPos,fontsize=18,fontoutline=1,max_edge_width=10, node_size_scale=5,node_size_power=1,save='graph_thresh001.pdf',threshold=0.01,show=False,random_state=6)\n",
    "# sc.tl.umap(latent_adata, init_pos='paga')\n",
    "# sc.pl.umap(latent_adata,color=['kmeans'],legend_loc='on data',save='graph_umap.pdf',show=False)\n",
    "\n",
    "\n",
    "\n"
   ]
  },
  {
   "cell_type": "markdown",
   "metadata": {},
   "source": [
    "## color gradient by proteins"
   ]
  },
  {
   "cell_type": "code",
   "execution_count": 12,
   "metadata": {},
   "outputs": [],
   "source": [
    "with open(os.path.join(datadir,'processed','train_cnnvae_cellLabels'), 'rb') as output: \n",
    "    cellIDlist=pickle.load(output)"
   ]
  },
  {
   "cell_type": "code",
   "execution_count": 13,
   "metadata": {
    "scrolled": true
   },
   "outputs": [
    {
     "name": "stdout",
     "output_type": "stream",
     "text": [
      "br1003a_1_cytokeratin_555_aSMA_647_hoechst_A1\n",
      "aSMA\n",
      "686.0\n",
      "cytokeratin\n",
      "1532.0\n",
      "br1003a_1_cytokeratin_555_aSMA_647_hoechst_A2\n",
      "aSMA\n",
      "682.0\n",
      "cytokeratin\n",
      "1804.0\n",
      "br1003a_1_cytokeratin_555_aSMA_647_hoechst_A4\n",
      "aSMA\n",
      "641.0\n",
      "cytokeratin\n",
      "1870.0\n",
      "br1003a_1_cytokeratin_555_aSMA_647_hoechst_A5\n",
      "aSMA\n",
      "644.0\n",
      "cytokeratin\n",
      "1875.0\n",
      "br1003a_1_cytokeratin_555_aSMA_647_hoechst_A6\n",
      "aSMA\n",
      "618.0\n",
      "cytokeratin\n",
      "2053.0\n",
      "br1003a_1_cytokeratin_555_aSMA_647_hoechst_A7\n",
      "aSMA\n",
      "656.0\n",
      "cytokeratin\n",
      "2074.0\n",
      "br1003a_1_cytokeratin_555_aSMA_647_hoechst_A8\n",
      "aSMA\n",
      "632.0\n",
      "cytokeratin\n",
      "2089.0\n",
      "br1003a_1_cytokeratin_555_aSMA_647_hoechst_A9\n",
      "aSMA\n",
      "674.0\n",
      "cytokeratin\n",
      "2265.0\n",
      "br1003a_1_cytokeratin_555_aSMA_647_hoechst_C1\n",
      "aSMA\n",
      "513.0\n",
      "cytokeratin\n",
      "2245.0\n",
      "br1003a_1_cytokeratin_555_aSMA_647_hoechst_C10\n",
      "aSMA\n",
      "503.0\n",
      "cytokeratin\n",
      "735.0\n",
      "br1003a_1_cytokeratin_555_aSMA_647_hoechst_C2\n",
      "aSMA\n",
      "585.0\n",
      "cytokeratin\n",
      "2405.0\n",
      "br1003a_1_cytokeratin_555_aSMA_647_hoechst_C3\n",
      "aSMA\n",
      "566.0\n",
      "cytokeratin\n",
      "2311.0\n",
      "br1003a_1_cytokeratin_555_aSMA_647_hoechst_C4\n",
      "aSMA\n",
      "499.0\n",
      "cytokeratin\n",
      "2413.0\n",
      "br1003a_1_cytokeratin_555_aSMA_647_hoechst_C5\n",
      "aSMA\n",
      "574.0\n",
      "cytokeratin\n",
      "2429.0\n",
      "br1003a_1_cytokeratin_555_aSMA_647_hoechst_C6\n",
      "aSMA\n",
      "507.0\n",
      "cytokeratin\n",
      "663.0\n",
      "br1003a_1_cytokeratin_555_aSMA_647_hoechst_C7\n",
      "aSMA\n",
      "532.0\n",
      "cytokeratin\n",
      "703.0\n",
      "br1003a_1_cytokeratin_555_aSMA_647_hoechst_C8\n",
      "aSMA\n",
      "505.0\n",
      "cytokeratin\n",
      "686.0\n",
      "br1003a_1_cytokeratin_555_aSMA_647_hoechst_C9\n",
      "aSMA\n",
      "572.0\n",
      "cytokeratin\n",
      "2785.0\n",
      "br1003a_1_cytokeratin_555_aSMA_647_hoechst_I1\n",
      "aSMA\n",
      "511.0\n",
      "cytokeratin\n",
      "803.0\n",
      "br1003a_1_cytokeratin_555_aSMA_647_hoechst_I10\n",
      "aSMA\n",
      "543.0\n",
      "cytokeratin\n",
      "908.0\n",
      "br1003a_1_cytokeratin_555_aSMA_647_hoechst_I2\n",
      "aSMA\n",
      "484.0\n",
      "cytokeratin\n",
      "571.0\n",
      "br1003a_1_cytokeratin_555_aSMA_647_hoechst_I3\n",
      "aSMA\n",
      "476.0\n",
      "cytokeratin\n",
      "556.0\n",
      "br1003a_1_cytokeratin_555_aSMA_647_hoechst_I7\n",
      "aSMA\n",
      "473.0\n",
      "cytokeratin\n",
      "572.0\n",
      "br1003a_1_cytokeratin_555_aSMA_647_hoechst_I8\n",
      "aSMA\n",
      "480.0\n",
      "cytokeratin\n",
      "577.0\n",
      "br1003a_1_cytokeratin_555_aSMA_647_hoechst_I9\n",
      "aSMA\n",
      "476.0\n",
      "cytokeratin\n",
      "583.0\n",
      "br1003a_3_collagen1_647_hoechst_A1\n",
      "collagen1\n",
      "595.0\n",
      "br1003a_3_collagen1_647_hoechst_A2\n",
      "collagen1\n",
      "592.0\n",
      "br1003a_3_collagen1_647_hoechst_A3\n",
      "collagen1\n",
      "636.0\n",
      "br1003a_3_collagen1_647_hoechst_A5\n",
      "collagen1\n",
      "658.0\n",
      "br1003a_3_collagen1_647_hoechst_A6\n",
      "collagen1\n",
      "655.0\n",
      "br1003a_3_collagen1_647_hoechst_A7\n",
      "collagen1\n",
      "596.0\n",
      "br1003a_3_collagen1_647_hoechst_A8\n",
      "collagen1\n",
      "639.0\n",
      "br1003a_3_collagen1_647_hoechst_A9\n",
      "collagen1\n",
      "654.0\n",
      "br1003a_3_collagen1_647_hoechst_C1\n",
      "collagen1\n",
      "644.0\n",
      "br1003a_3_collagen1_647_hoechst_C10\n",
      "collagen1\n",
      "719.0\n",
      "br1003a_3_collagen1_647_hoechst_C2\n",
      "collagen1\n",
      "690.0\n",
      "br1003a_3_collagen1_647_hoechst_C3\n",
      "collagen1\n",
      "699.0\n",
      "br1003a_3_collagen1_647_hoechst_C4\n",
      "collagen1\n",
      "656.0\n",
      "br1003a_3_collagen1_647_hoechst_C5\n",
      "collagen1\n",
      "682.0\n",
      "br1003a_3_collagen1_647_hoechst_C6\n",
      "collagen1\n",
      "594.0\n",
      "br1003a_3_collagen1_647_hoechst_C7\n",
      "collagen1\n",
      "703.0\n",
      "br1003a_3_collagen1_647_hoechst_C8\n",
      "collagen1\n",
      "673.0\n",
      "br1003a_3_collagen1_647_hoechst_C9\n",
      "collagen1\n",
      "708.0\n",
      "br1003a_3_collagen1_647_hoechst_I1\n",
      "collagen1\n",
      "700.0\n",
      "br1003a_3_collagen1_647_hoechst_I10\n",
      "collagen1\n",
      "705.0\n",
      "br1003a_3_collagen1_647_hoechst_I2\n",
      "collagen1\n",
      "992.0\n",
      "br1003a_3_collagen1_647_hoechst_I3\n",
      "collagen1\n",
      "1049.0\n",
      "br1003a_3_collagen1_647_hoechst_I7\n",
      "collagen1\n",
      "844.0\n",
      "br1003a_3_collagen1_647_hoechst_I8\n",
      "collagen1\n",
      "838.0\n",
      "br1003a_3_collagen1_647_hoechst_I9\n",
      "collagen1\n",
      "911.0\n",
      "br1003a_4_cytokeratin_555_gh2ax_647_hoechst_A1\n",
      "cytokeratin\n",
      "530.0\n",
      "gh2ax\n",
      "2331.0\n",
      "br1003a_4_cytokeratin_555_gh2ax_647_hoechst_A10\n",
      "cytokeratin\n",
      "426.0\n",
      "gh2ax\n",
      "1755.0\n",
      "br1003a_4_cytokeratin_555_gh2ax_647_hoechst_A2\n",
      "cytokeratin\n",
      "535.0\n",
      "gh2ax\n",
      "2689.0\n",
      "br1003a_4_cytokeratin_555_gh2ax_647_hoechst_A3\n",
      "cytokeratin\n",
      "489.0\n",
      "gh2ax\n",
      "2247.0\n",
      "br1003a_4_cytokeratin_555_gh2ax_647_hoechst_A4\n",
      "cytokeratin\n",
      "475.0\n",
      "gh2ax\n",
      "2144.0\n",
      "br1003a_4_cytokeratin_555_gh2ax_647_hoechst_A5\n",
      "cytokeratin\n",
      "469.0\n",
      "gh2ax\n",
      "1936.0\n",
      "br1003a_4_cytokeratin_555_gh2ax_647_hoechst_A6\n",
      "cytokeratin\n",
      "463.0\n",
      "gh2ax\n",
      "1992.0\n",
      "br1003a_4_cytokeratin_555_gh2ax_647_hoechst_A7\n",
      "cytokeratin\n",
      "445.0\n",
      "gh2ax\n",
      "1874.0\n",
      "br1003a_4_cytokeratin_555_gh2ax_647_hoechst_A8\n",
      "cytokeratin\n",
      "440.0\n",
      "gh2ax\n",
      "1924.0\n",
      "br1003a_4_cytokeratin_555_gh2ax_647_hoechst_A9\n",
      "cytokeratin\n",
      "436.0\n",
      "gh2ax\n",
      "1869.0\n",
      "br1003a_4_cytokeratin_555_gh2ax_647_hoechst_C1\n",
      "cytokeratin\n",
      "462.0\n",
      "gh2ax\n",
      "533.0\n",
      "br1003a_4_cytokeratin_555_gh2ax_647_hoechst_C10\n",
      "cytokeratin\n",
      "419.0\n",
      "gh2ax\n",
      "503.0\n",
      "br1003a_4_cytokeratin_555_gh2ax_647_hoechst_C2\n",
      "cytokeratin\n",
      "459.0\n",
      "gh2ax\n",
      "529.0\n",
      "br1003a_4_cytokeratin_555_gh2ax_647_hoechst_C4\n",
      "cytokeratin\n",
      "453.0\n",
      "gh2ax\n",
      "542.0\n",
      "br1003a_4_cytokeratin_555_gh2ax_647_hoechst_C5\n",
      "cytokeratin\n",
      "454.0\n",
      "gh2ax\n",
      "613.0\n",
      "br1003a_4_cytokeratin_555_gh2ax_647_hoechst_C6\n",
      "cytokeratin\n",
      "444.0\n",
      "gh2ax\n",
      "558.0\n",
      "br1003a_4_cytokeratin_555_gh2ax_647_hoechst_C7\n",
      "cytokeratin\n",
      "429.0\n",
      "gh2ax\n",
      "517.0\n",
      "br1003a_4_cytokeratin_555_gh2ax_647_hoechst_C8\n",
      "cytokeratin\n",
      "424.0\n",
      "gh2ax\n",
      "489.0\n",
      "br1003a_4_cytokeratin_555_gh2ax_647_hoechst_C9\n",
      "cytokeratin\n",
      "421.0\n",
      "gh2ax\n",
      "512.0\n",
      "br1003a_4_cytokeratin_555_gh2ax_647_hoechst_I1\n",
      "cytokeratin\n",
      "469.0\n",
      "gh2ax\n",
      "612.0\n",
      "br1003a_4_cytokeratin_555_gh2ax_647_hoechst_I2\n",
      "cytokeratin\n",
      "460.0\n",
      "gh2ax\n",
      "622.0\n",
      "br1003a_4_cytokeratin_555_gh2ax_647_hoechst_I3\n",
      "cytokeratin\n",
      "453.0\n",
      "gh2ax\n",
      "678.0\n",
      "br1003a_4_cytokeratin_555_gh2ax_647_hoechst_I7\n",
      "cytokeratin\n",
      "438.0\n",
      "gh2ax\n",
      "529.0\n",
      "br1003a_4_cytokeratin_555_gh2ax_647_hoechst_I8\n",
      "cytokeratin\n",
      "430.0\n",
      "gh2ax\n",
      "509.0\n",
      "br1003a_4_cytokeratin_555_gh2ax_647_hoechst_I9\n",
      "cytokeratin\n",
      "426.0\n",
      "gh2ax\n",
      "516.0\n",
      "br301_4_cytokeratin_555_aSMA_647_hoechst_A1\n",
      "aSMA\n",
      "486.0\n",
      "cytokeratin\n",
      "501.0\n",
      "br301_4_cytokeratin_555_aSMA_647_hoechst_A2\n",
      "aSMA\n",
      "490.0\n",
      "cytokeratin\n",
      "503.0\n",
      "br301_4_cytokeratin_555_aSMA_647_hoechst_A3\n",
      "aSMA\n",
      "485.0\n",
      "cytokeratin\n",
      "501.0\n",
      "br301_4_cytokeratin_555_aSMA_647_hoechst_A4\n",
      "aSMA\n",
      "472.0\n",
      "cytokeratin\n",
      "489.0\n",
      "br301_4_cytokeratin_555_aSMA_647_hoechst_A5\n",
      "aSMA\n",
      "455.0\n",
      "cytokeratin\n",
      "503.0\n",
      "br301_4_cytokeratin_555_aSMA_647_hoechst_A6\n",
      "aSMA\n",
      "449.0\n",
      "cytokeratin\n",
      "499.0\n",
      "br301_4_cytokeratin_555_aSMA_647_hoechst_B1\n",
      "aSMA\n",
      "439.0\n",
      "cytokeratin\n",
      "473.0\n",
      "br301_4_cytokeratin_555_aSMA_647_hoechst_B2\n",
      "aSMA\n",
      "496.0\n",
      "cytokeratin\n",
      "498.0\n",
      "br301_4_cytokeratin_555_aSMA_647_hoechst_B3\n",
      "aSMA\n",
      "469.0\n",
      "cytokeratin\n",
      "493.0\n",
      "br301_4_cytokeratin_555_aSMA_647_hoechst_B4\n",
      "aSMA\n",
      "482.0\n",
      "cytokeratin\n",
      "501.0\n",
      "br301_4_cytokeratin_555_aSMA_647_hoechst_B5\n",
      "aSMA\n",
      "511.0\n",
      "cytokeratin\n",
      "413.0\n",
      "br301_4_cytokeratin_555_aSMA_647_hoechst_B6\n",
      "aSMA\n",
      "528.0\n",
      "cytokeratin\n",
      "413.0\n",
      "br301_4_cytokeratin_555_aSMA_647_hoechst_C1\n",
      "aSMA\n",
      "519.0\n",
      "cytokeratin\n",
      "411.0\n",
      "br301_4_cytokeratin_555_aSMA_647_hoechst_C2\n",
      "aSMA\n",
      "511.0\n",
      "cytokeratin\n",
      "408.0\n",
      "br301_4_cytokeratin_555_aSMA_647_hoechst_C3\n",
      "aSMA\n",
      "479.0\n",
      "cytokeratin\n",
      "505.0\n",
      "br301_4_cytokeratin_555_aSMA_647_hoechst_C4\n",
      "aSMA\n",
      "478.0\n",
      "cytokeratin\n",
      "491.0\n",
      "br301_4_cytokeratin_555_aSMA_647_hoechst_C5\n",
      "aSMA\n",
      "540.0\n",
      "cytokeratin\n",
      "410.0\n",
      "br301_4_cytokeratin_555_aSMA_647_hoechst_C6\n",
      "aSMA\n",
      "465.0\n",
      "cytokeratin\n",
      "473.0\n",
      "br301_4_cytokeratin_555_aSMA_647_hoechst_D1\n",
      "aSMA\n",
      "465.0\n",
      "cytokeratin\n",
      "471.0\n",
      "br301_4_cytokeratin_555_aSMA_647_hoechst_D2\n",
      "aSMA\n",
      "493.0\n",
      "cytokeratin\n",
      "491.0\n",
      "br301_4_cytokeratin_555_aSMA_647_hoechst_D3\n",
      "aSMA\n",
      "487.0\n",
      "cytokeratin\n",
      "477.0\n",
      "br301_4_cytokeratin_555_aSMA_647_hoechst_D4\n",
      "aSMA\n",
      "442.0\n",
      "cytokeratin\n",
      "478.0\n",
      "br301_4_cytokeratin_555_aSMA_647_hoechst_D5\n",
      "aSMA\n",
      "500.0\n",
      "cytokeratin\n",
      "479.0\n",
      "br301_4_cytokeratin_555_aSMA_647_hoechst_D6\n",
      "aSMA\n",
      "514.0\n",
      "cytokeratin\n",
      "486.0\n",
      "br301_4_cytokeratin_555_aSMA_647_hoechst_E1\n",
      "aSMA\n",
      "493.0\n",
      "cytokeratin\n",
      "512.0\n",
      "br301_4_cytokeratin_555_aSMA_647_hoechst_E2\n",
      "aSMA\n",
      "480.0\n",
      "cytokeratin\n",
      "496.0\n",
      "br301_4_cytokeratin_555_aSMA_647_hoechst_E3\n",
      "aSMA\n",
      "481.0\n",
      "cytokeratin\n",
      "505.0\n",
      "br301_4_cytokeratin_555_aSMA_647_hoechst_E4\n",
      "aSMA\n",
      "493.0\n",
      "cytokeratin\n",
      "528.0\n",
      "br301_4_cytokeratin_555_aSMA_647_hoechst_E5\n",
      "aSMA\n",
      "497.0\n",
      "cytokeratin\n",
      "524.0\n",
      "br301_4_cytokeratin_555_aSMA_647_hoechst_E6\n",
      "aSMA\n",
      "495.0\n",
      "cytokeratin\n",
      "530.0\n",
      "br301_6_collagen1_647_hoechst_A1\n",
      "collagen1\n",
      "1022.0\n",
      "br301_6_collagen1_647_hoechst_A2\n",
      "collagen1\n",
      "938.0\n",
      "br301_6_collagen1_647_hoechst_A3\n",
      "collagen1\n",
      "980.0\n",
      "br301_6_collagen1_647_hoechst_A4\n",
      "collagen1\n",
      "2138.0\n",
      "br301_6_collagen1_647_hoechst_A5\n",
      "collagen1\n",
      "1650.0\n",
      "br301_6_collagen1_647_hoechst_A6\n",
      "collagen1\n",
      "1714.0\n",
      "br301_6_collagen1_647_hoechst_B1\n",
      "collagen1\n",
      "943.0\n",
      "br301_6_collagen1_647_hoechst_B2\n",
      "collagen1\n",
      "1056.0\n",
      "br301_6_collagen1_647_hoechst_B3\n",
      "collagen1\n",
      "1361.0\n",
      "br301_6_collagen1_647_hoechst_B4\n",
      "collagen1\n",
      "1300.0\n",
      "br301_6_collagen1_647_hoechst_B5\n",
      "collagen1\n",
      "1678.0\n",
      "br301_6_collagen1_647_hoechst_B6\n",
      "collagen1\n",
      "1561.0\n",
      "br301_6_collagen1_647_hoechst_C1\n",
      "collagen1\n",
      "1655.0\n",
      "br301_6_collagen1_647_hoechst_C2\n",
      "collagen1\n",
      "1921.0\n",
      "br301_6_collagen1_647_hoechst_C3\n",
      "collagen1\n",
      "1766.0\n",
      "br301_6_collagen1_647_hoechst_C4\n",
      "collagen1\n",
      "1775.0\n",
      "br301_6_collagen1_647_hoechst_C5\n",
      "collagen1\n",
      "1030.0\n",
      "br301_6_collagen1_647_hoechst_C6\n",
      "collagen1\n",
      "810.0\n",
      "br301_6_collagen1_647_hoechst_D1\n",
      "collagen1\n"
     ]
    },
    {
     "name": "stdout",
     "output_type": "stream",
     "text": [
      "420.0\n",
      "br301_6_collagen1_647_hoechst_D2\n",
      "collagen1\n",
      "376.0\n",
      "br301_6_collagen1_647_hoechst_D3\n",
      "collagen1\n",
      "369.0\n",
      "br301_6_collagen1_647_hoechst_D4\n",
      "collagen1\n",
      "202.0\n",
      "br301_6_collagen1_647_hoechst_D5\n",
      "collagen1\n",
      "1188.0\n",
      "br301_6_collagen1_647_hoechst_D6\n",
      "collagen1\n",
      "1027.0\n",
      "br301_6_collagen1_647_hoechst_E1\n",
      "collagen1\n",
      "524.0\n",
      "br301_6_collagen1_647_hoechst_E2\n",
      "collagen1\n",
      "711.0\n",
      "br301_6_collagen1_647_hoechst_E3\n",
      "collagen1\n",
      "570.0\n",
      "br301_6_collagen1_647_hoechst_E4\n",
      "collagen1\n",
      "188.0\n",
      "br301_6_collagen1_647_hoechst_E5\n",
      "collagen1\n",
      "689.0\n",
      "br301_6_collagen1_647_hoechst_E6\n",
      "collagen1\n",
      "1423.0\n",
      "br8018a_1_cytokeratin_555_aSMA_647_hoechst_A1\n",
      "aSMA\n",
      "674.0\n",
      "cytokeratin\n",
      "1862.0\n",
      "br8018a_1_cytokeratin_555_aSMA_647_hoechst_A10\n",
      "aSMA\n",
      "692.0\n",
      "cytokeratin\n",
      "1517.0\n",
      "br8018a_1_cytokeratin_555_aSMA_647_hoechst_A2\n",
      "aSMA\n",
      "680.0\n",
      "cytokeratin\n",
      "1702.0\n",
      "br8018a_1_cytokeratin_555_aSMA_647_hoechst_A3\n",
      "aSMA\n",
      "694.0\n",
      "cytokeratin\n",
      "1631.0\n",
      "br8018a_1_cytokeratin_555_aSMA_647_hoechst_A4\n",
      "aSMA\n",
      "1145.0\n",
      "cytokeratin\n",
      "2565.0\n",
      "br8018a_1_cytokeratin_555_aSMA_647_hoechst_A5\n",
      "aSMA\n",
      "688.0\n",
      "cytokeratin\n",
      "1573.0\n",
      "br8018a_1_cytokeratin_555_aSMA_647_hoechst_A6\n",
      "aSMA\n",
      "677.0\n",
      "cytokeratin\n",
      "1638.0\n",
      "br8018a_1_cytokeratin_555_aSMA_647_hoechst_A7\n",
      "aSMA\n",
      "682.0\n",
      "cytokeratin\n",
      "1650.0\n",
      "br8018a_1_cytokeratin_555_aSMA_647_hoechst_A8\n",
      "aSMA\n",
      "693.0\n",
      "cytokeratin\n",
      "1569.0\n",
      "br8018a_1_cytokeratin_555_aSMA_647_hoechst_A9\n",
      "aSMA\n",
      "727.0\n",
      "cytokeratin\n",
      "1694.0\n",
      "br8018a_1_cytokeratin_555_aSMA_647_hoechst_B1\n",
      "aSMA\n",
      "1247.0\n",
      "cytokeratin\n",
      "2915.0\n",
      "br8018a_1_cytokeratin_555_aSMA_647_hoechst_B10\n",
      "aSMA\n",
      "1564.0\n",
      "cytokeratin\n",
      "2390.0\n",
      "br8018a_1_cytokeratin_555_aSMA_647_hoechst_B2\n",
      "aSMA\n",
      "1306.0\n",
      "cytokeratin\n",
      "2762.0\n",
      "br8018a_1_cytokeratin_555_aSMA_647_hoechst_B3\n",
      "aSMA\n",
      "1405.0\n",
      "cytokeratin\n",
      "2823.0\n",
      "br8018a_1_cytokeratin_555_aSMA_647_hoechst_B4\n",
      "aSMA\n",
      "1462.0\n",
      "cytokeratin\n",
      "2654.0\n",
      "br8018a_1_cytokeratin_555_aSMA_647_hoechst_B5\n",
      "aSMA\n",
      "639.0\n",
      "cytokeratin\n",
      "2677.0\n",
      "br8018a_1_cytokeratin_555_aSMA_647_hoechst_B6\n",
      "aSMA\n",
      "590.0\n",
      "cytokeratin\n",
      "2660.0\n",
      "br8018a_1_cytokeratin_555_aSMA_647_hoechst_B7\n",
      "aSMA\n",
      "578.0\n",
      "cytokeratin\n",
      "2718.0\n",
      "br8018a_1_cytokeratin_555_aSMA_647_hoechst_B8\n",
      "aSMA\n",
      "517.0\n",
      "cytokeratin\n",
      "2289.0\n",
      "br8018a_1_cytokeratin_555_aSMA_647_hoechst_F1\n",
      "aSMA\n",
      "571.0\n",
      "cytokeratin\n",
      "2142.0\n",
      "br8018a_1_cytokeratin_555_aSMA_647_hoechst_F10\n",
      "aSMA\n",
      "625.0\n",
      "cytokeratin\n",
      "1666.0\n",
      "br8018a_1_cytokeratin_555_aSMA_647_hoechst_F2\n",
      "aSMA\n",
      "502.0\n",
      "cytokeratin\n",
      "1480.0\n",
      "br8018a_1_cytokeratin_555_aSMA_647_hoechst_F3\n",
      "aSMA\n",
      "604.0\n",
      "cytokeratin\n",
      "2072.0\n",
      "br8018a_1_cytokeratin_555_aSMA_647_hoechst_F4\n",
      "aSMA\n",
      "653.0\n",
      "cytokeratin\n",
      "2017.0\n",
      "br8018a_1_cytokeratin_555_aSMA_647_hoechst_F5\n",
      "aSMA\n",
      "674.0\n",
      "cytokeratin\n",
      "2167.0\n",
      "br8018a_1_cytokeratin_555_aSMA_647_hoechst_F6\n",
      "aSMA\n",
      "728.0\n",
      "cytokeratin\n",
      "2066.0\n",
      "br8018a_1_cytokeratin_555_aSMA_647_hoechst_F7\n",
      "aSMA\n",
      "499.0\n",
      "cytokeratin\n",
      "1451.0\n",
      "br8018a_1_cytokeratin_555_aSMA_647_hoechst_F8\n",
      "aSMA\n",
      "721.0\n",
      "cytokeratin\n",
      "1940.0\n",
      "br8018a_1_cytokeratin_555_aSMA_647_hoechst_F9\n",
      "aSMA\n",
      "617.0\n",
      "cytokeratin\n",
      "1611.0\n",
      "br8018a_1_cytokeratin_555_aSMA_647_hoechst_H1\n",
      "aSMA\n",
      "573.0\n",
      "cytokeratin\n",
      "2243.0\n",
      "br8018a_1_cytokeratin_555_aSMA_647_hoechst_H2\n",
      "aSMA\n",
      "585.0\n",
      "cytokeratin\n",
      "2146.0\n",
      "br8018a_1_cytokeratin_555_aSMA_647_hoechst_H3\n",
      "aSMA\n",
      "605.0\n",
      "cytokeratin\n",
      "2244.0\n",
      "br8018a_1_cytokeratin_555_aSMA_647_hoechst_H4\n",
      "aSMA\n",
      "587.0\n",
      "cytokeratin\n",
      "2051.0\n",
      "br8018a_1_cytokeratin_555_aSMA_647_hoechst_H5\n",
      "aSMA\n",
      "592.0\n",
      "cytokeratin\n",
      "1896.0\n",
      "br8018a_1_cytokeratin_555_aSMA_647_hoechst_H6\n",
      "aSMA\n",
      "584.0\n",
      "cytokeratin\n",
      "1811.0\n",
      "br8018a_1_cytokeratin_555_aSMA_647_hoechst_H7\n",
      "aSMA\n",
      "613.0\n",
      "cytokeratin\n",
      "1716.0\n",
      "br8018a_1_cytokeratin_555_aSMA_647_hoechst_H8\n",
      "aSMA\n",
      "589.0\n",
      "cytokeratin\n",
      "1431.0\n",
      "br8018a_3_collagen1_647_hoechst_A1\n",
      "collagen1\n",
      "502.0\n",
      "br8018a_3_collagen1_647_hoechst_A2\n",
      "collagen1\n",
      "544.0\n",
      "br8018a_3_collagen1_647_hoechst_A3\n",
      "collagen1\n",
      "558.0\n",
      "br8018a_3_collagen1_647_hoechst_A4\n",
      "collagen1\n",
      "531.0\n",
      "br8018a_3_collagen1_647_hoechst_A6\n",
      "collagen1\n",
      "737.0\n",
      "br8018a_3_collagen1_647_hoechst_A7\n",
      "collagen1\n",
      "1550.0\n",
      "br8018a_3_collagen1_647_hoechst_A8\n",
      "collagen1\n",
      "1091.0\n",
      "br8018a_3_collagen1_647_hoechst_A9\n",
      "collagen1\n",
      "1001.0\n",
      "br8018a_3_collagen1_647_hoechst_B1\n",
      "collagen1\n",
      "1091.0\n",
      "br8018a_3_collagen1_647_hoechst_B10\n",
      "collagen1\n",
      "1231.0\n",
      "br8018a_3_collagen1_647_hoechst_B2\n",
      "collagen1\n",
      "1099.0\n",
      "br8018a_3_collagen1_647_hoechst_B3\n",
      "collagen1\n",
      "1070.0\n",
      "br8018a_3_collagen1_647_hoechst_B4\n",
      "collagen1\n",
      "1081.0\n",
      "br8018a_3_collagen1_647_hoechst_B5\n",
      "collagen1\n",
      "1134.0\n",
      "br8018a_3_collagen1_647_hoechst_B6\n",
      "collagen1\n",
      "1147.0\n",
      "br8018a_3_collagen1_647_hoechst_B7\n",
      "collagen1\n",
      "1267.0\n",
      "br8018a_3_collagen1_647_hoechst_B8\n",
      "collagen1\n",
      "1141.0\n",
      "br8018a_3_collagen1_647_hoechst_B9\n",
      "collagen1\n",
      "1262.0\n",
      "br8018a_3_collagen1_647_hoechst_F10\n",
      "collagen1\n",
      "608.0\n",
      "br8018a_3_collagen1_647_hoechst_F3\n",
      "collagen1\n",
      "447.0\n",
      "br8018a_3_collagen1_647_hoechst_F4\n",
      "collagen1\n",
      "154.0\n",
      "br8018a_3_collagen1_647_hoechst_F6\n",
      "collagen1\n",
      "393.0\n",
      "br8018a_3_collagen1_647_hoechst_F7\n",
      "collagen1\n",
      "643.0\n",
      "br8018a_3_collagen1_647_hoechst_F8\n",
      "collagen1\n",
      "614.0\n",
      "br8018a_3_collagen1_647_hoechst_F9\n",
      "collagen1\n",
      "605.0\n",
      "br8018a_4_cytokeratin_555_gh2ax_647_hoechst_A2\n",
      "cytokeratin\n",
      "1250.0\n",
      "gh2ax\n",
      "1418.0\n",
      "br8018a_4_cytokeratin_555_gh2ax_647_hoechst_A3\n",
      "cytokeratin\n",
      "1254.0\n",
      "gh2ax\n",
      "1350.0\n",
      "br8018a_4_cytokeratin_555_gh2ax_647_hoechst_A5\n",
      "cytokeratin\n",
      "1188.0\n",
      "gh2ax\n",
      "1389.0\n",
      "br8018a_4_cytokeratin_555_gh2ax_647_hoechst_A7\n",
      "cytokeratin\n",
      "1252.0\n",
      "gh2ax\n",
      "1434.0\n",
      "br8018a_4_cytokeratin_555_gh2ax_647_hoechst_A8\n",
      "cytokeratin\n",
      "1275.0\n",
      "gh2ax\n",
      "1432.0\n",
      "br8018a_4_cytokeratin_555_gh2ax_647_hoechst_B4\n",
      "cytokeratin\n",
      "1290.0\n",
      "gh2ax\n",
      "1428.0\n",
      "br8018a_4_cytokeratin_555_gh2ax_647_hoechst_B5\n",
      "cytokeratin\n",
      "1266.0\n",
      "gh2ax\n",
      "1428.0\n",
      "br8018a_4_cytokeratin_555_gh2ax_647_hoechst_B6\n",
      "cytokeratin\n",
      "1323.0\n",
      "gh2ax\n",
      "1447.0\n",
      "br8018a_4_cytokeratin_555_gh2ax_647_hoechst_B7\n",
      "cytokeratin\n",
      "1291.0\n",
      "gh2ax\n",
      "1457.0\n",
      "br8018a_4_cytokeratin_555_gh2ax_647_hoechst_F3\n",
      "cytokeratin\n",
      "1523.0\n",
      "gh2ax\n",
      "1467.0\n",
      "br8018a_4_cytokeratin_555_gh2ax_647_hoechst_F4\n",
      "cytokeratin\n",
      "1535.0\n",
      "gh2ax\n",
      "1463.0\n",
      "br8018a_4_cytokeratin_555_gh2ax_647_hoechst_F7\n",
      "cytokeratin\n",
      "1522.0\n",
      "gh2ax\n",
      "1450.0\n",
      "br8018a_4_cytokeratin_555_gh2ax_647_hoechst_F8\n",
      "cytokeratin\n",
      "1536.0\n",
      "gh2ax\n",
      "1699.0\n",
      "br8018a_4_cytokeratin_555_gh2ax_647_hoechst_H1\n",
      "cytokeratin\n",
      "1658.0\n",
      "gh2ax\n",
      "732.0\n",
      "br8018a_4_cytokeratin_555_gh2ax_647_hoechst_H3\n",
      "cytokeratin\n",
      "1884.0\n",
      "gh2ax\n",
      "818.0\n",
      "br8018a_4_cytokeratin_555_gh2ax_647_hoechst_H5\n",
      "cytokeratin\n",
      "1808.0\n",
      "gh2ax\n",
      "789.0\n",
      "br8018a_4_cytokeratin_555_gh2ax_647_hoechst_H6\n",
      "cytokeratin\n",
      "1829.0\n",
      "gh2ax\n",
      "762.0\n",
      "br8018a_4_cytokeratin_555_gh2ax_647_hoechst_H8\n",
      "cytokeratin\n",
      "1874.0\n",
      "gh2ax\n",
      "776.0\n"
     ]
    }
   ],
   "source": [
    "stats2plot=['int_median','int_mode','int_mean']\n",
    "stains=['aSMA','cytokeratin','collagen1','gh2ax']\n",
    "uniquenames,nameIdx=np.unique(allImgNames,return_index=True)\n",
    "\n",
    "ncluster=8\n",
    "plotepoch=311\n",
    "    \n",
    "allstats=None\n",
    "allstats_nmco=None\n",
    "alllabels=None\n",
    "allvarnames=None\n",
    "\n",
    "minMinDict={'aSMA':[],'cytokeratin':[],'collagen1':[],'gh2ax':[]}\n",
    "\n",
    "allidx=None\n",
    "idx_temp=np.arange(allImgNames.size)\n",
    "for sidx in range(uniquenames.size):\n",
    "    s=np.unique(allImgNames)[sidx]\n",
    "    plottingIdx_i_s=np.arange(allImgNames.size)[allImgNames==s]-nameIdx[sidx]\n",
    "\n",
    "    print(s)\n",
    "    assert np.min(plottingIdx_i_s)>=0\n",
    "#         ssplit=s.split('_')\n",
    "    slabels=kmeans_sub[allImgNames==s]\n",
    "    sidx=idx_temp[allImgNames==s]\n",
    "    \n",
    "    for stain_s in stains:\n",
    "        if not stain_s in s:\n",
    "            continue\n",
    "        path_s=os.path.join(datadir,'_'.join(s.split('_')[:-1]),'cellular_'+stain_s.lower(),s.split('_')[-1] +'.csv')\n",
    "        if not os.path.exists(path_s):\n",
    "            continue\n",
    "        print(stain_s)\n",
    "        path_s_nmco=os.path.join(datadir,'_'.join(s.split('_')[:-1]),'nmco_features',s.split('_')[-1] +'.csv')\n",
    "        \n",
    "        stats_s=pd.read_csv(path_s)\n",
    "        stats_s.index=stats_s.loc[:,'label']\n",
    "                                                \n",
    "        stats_s_nmco=pd.read_csv(path_s_nmco)\n",
    "        stats_s_nmco.index=stats_s.loc[:,'label']\n",
    "        stats_s_nmco=stats_s_nmco.loc[cellIDlist[s][plottingIdx_i_s],'area'].to_numpy()\n",
    "        \n",
    "        minMin=np.min(stats_s.loc[:,'int_min'])\n",
    "        print(minMin)\n",
    "        \n",
    "        minMinDict[stain_s].append(minMin)\n",
    "        if allstats is None:\n",
    "            allstats=stats_s.loc[cellIDlist[s][plottingIdx_i_s],stats2plot].to_numpy()-minMin\n",
    "            alllabels=np.copy(slabels)\n",
    "            allvarnames=np.repeat(stain_s,slabels.size)\n",
    "            allidx=np.copy(sidx)\n",
    "            \n",
    "            allstats_nmco=stats_s_nmco\n",
    "        else:\n",
    "            allstats=np.concatenate((allstats,stats_s.loc[cellIDlist[s][plottingIdx_i_s],stats2plot].to_numpy()-minMin),axis=0)\n",
    "            alllabels=np.concatenate((alllabels,np.copy(slabels)))\n",
    "            allvarnames=np.concatenate((allvarnames,np.repeat(stain_s,slabels.size)))\n",
    "            allidx=np.concatenate((allidx,sidx))\n",
    "            allstats_nmco=np.concatenate((allstats_nmco,stats_s_nmco))\n",
    "            \n",
    "            "
   ]
  },
  {
   "cell_type": "markdown",
   "metadata": {},
   "source": [
    "### threshold protein"
   ]
  },
  {
   "cell_type": "code",
   "execution_count": 14,
   "metadata": {},
   "outputs": [],
   "source": [
    "minCell=5"
   ]
  },
  {
   "cell_type": "code",
   "execution_count": 15,
   "metadata": {},
   "outputs": [],
   "source": [
    "allstatslog_std1=np.log(allstats[:,2]+1)\n",
    "for v in np.unique(allvarnames):\n",
    "    meanProt=np.mean(np.log(allstats[allvarnames==v,2]+1)) #mean\n",
    "    stdProt=np.std(np.log(allstats[allvarnames==v,2]+1))\n",
    "    zeroIdx=np.arange(allvarnames.shape[0])[allvarnames==v][allstatslog_std1[allvarnames==v]<(meanProt+stdProt)]\n",
    "    allstatslog_std1[zeroIdx]=0\n",
    "    \n",
    "    plotidx=allidx[allvarnames==v]\n",
    "    protvalues=np.repeat(np.nan,latent_adata.shape[0])\n",
    "    protvalues[plotidx]=allstatslog_std1[allvarnames==v]\n",
    "    latent_adata.obs[v+'log']=protvalues"
   ]
  },
  {
   "cell_type": "code",
   "execution_count": 193,
   "metadata": {},
   "outputs": [],
   "source": [
    "from util.plot_new import *"
   ]
  },
  {
   "cell_type": "code",
   "execution_count": 60,
   "metadata": {},
   "outputs": [],
   "source": [
    "plotembeddingbyCT(np.array(latent_adata.obs['kmeans']).astype(int),'asma_cytokeratin_mean_std1',[],latent_adata.obs.loc[:,('aSMAlog','cytokeratinlog')].to_numpy(),subclusterplotdir,'asma vs cytokeratin mean',plotdimx=0,plotdimy=1,savenameAdd='',s=0.1)"
   ]
  },
  {
   "cell_type": "code",
   "execution_count": 18,
   "metadata": {
    "scrolled": true
   },
   "outputs": [
    {
     "name": "stderr",
     "output_type": "stream",
     "text": [
      "/home/xinyi/.local/lib/python3.8/site-packages/anndata/compat/_overloaded_dict.py:106: ImplicitModificationWarning: Trying to modify attribute `._uns` of view, initializing view as actual.\n",
      "  self.data[key] = value\n"
     ]
    },
    {
     "name": "stdout",
     "output_type": "stream",
     "text": [
      "--> added 'pos', the PAGA positions (adata.uns['paga'])\n",
      "WARNING: saving figure to file /media/xinyi/dcis2idc/plots/cnnvaeexp0/cluster_alltrain_reordered/minibatchkmean_ncluster8n_pcs50epoch311_plottingIdx_progBalanced_0_subcluster_all/pagagraphaSMA_allcells_log.pdf\n"
     ]
    },
    {
     "name": "stderr",
     "output_type": "stream",
     "text": [
      "/home/xinyi/.local/lib/python3.8/site-packages/anndata/compat/_overloaded_dict.py:106: ImplicitModificationWarning: Trying to modify attribute `._uns` of view, initializing view as actual.\n",
      "  self.data[key] = value\n"
     ]
    },
    {
     "name": "stdout",
     "output_type": "stream",
     "text": [
      "--> added 'pos', the PAGA positions (adata.uns['paga'])\n",
      "WARNING: saving figure to file /media/xinyi/dcis2idc/plots/cnnvaeexp0/cluster_alltrain_reordered/minibatchkmean_ncluster8n_pcs50epoch311_plottingIdx_progBalanced_0_subcluster_all/pagagraphcollagen1_allcells_log.pdf\n"
     ]
    },
    {
     "name": "stderr",
     "output_type": "stream",
     "text": [
      "/home/xinyi/.local/lib/python3.8/site-packages/anndata/compat/_overloaded_dict.py:106: ImplicitModificationWarning: Trying to modify attribute `._uns` of view, initializing view as actual.\n",
      "  self.data[key] = value\n"
     ]
    },
    {
     "name": "stdout",
     "output_type": "stream",
     "text": [
      "--> added 'pos', the PAGA positions (adata.uns['paga'])\n",
      "WARNING: saving figure to file /media/xinyi/dcis2idc/plots/cnnvaeexp0/cluster_alltrain_reordered/minibatchkmean_ncluster8n_pcs50epoch311_plottingIdx_progBalanced_0_subcluster_all/pagagraphcytokeratin_allcells_log.pdf\n"
     ]
    },
    {
     "name": "stderr",
     "output_type": "stream",
     "text": [
      "/home/xinyi/.local/lib/python3.8/site-packages/anndata/compat/_overloaded_dict.py:106: ImplicitModificationWarning: Trying to modify attribute `._uns` of view, initializing view as actual.\n",
      "  self.data[key] = value\n"
     ]
    },
    {
     "name": "stdout",
     "output_type": "stream",
     "text": [
      "--> added 'pos', the PAGA positions (adata.uns['paga'])\n",
      "WARNING: saving figure to file /media/xinyi/dcis2idc/plots/cnnvaeexp0/cluster_alltrain_reordered/minibatchkmean_ncluster8n_pcs50epoch311_plottingIdx_progBalanced_0_subcluster_all/pagagraphgh2ax_allcells_log.pdf\n"
     ]
    },
    {
     "data": {
      "text/plain": [
       "64837"
      ]
     },
     "execution_count": 18,
     "metadata": {},
     "output_type": "execute_result"
    }
   ],
   "source": [
    "#add single cell plots & use all cells -- use previously calculated graph in combined subcluster (neighbors=4)\n",
    "#log scale\n",
    "#thresh=1\n",
    "# nneighbors_list=[4,10] \n",
    "# sc.tl.umap(latent_adata, init_pos='paga')\n",
    "for v in np.unique(allvarnames):\n",
    "#     plotidx=allidx[allvarnames==v]\n",
    "#     protvalues=np.repeat(np.nan,latent_adata.shape[0])\n",
    "#     protvalues[plotidx]=np.log(allstats[allvarnames==v,0]+1)\n",
    "#     latent_adata.obs[v+'log']=protvalues\n",
    "\n",
    "    sc.settings.figdir=os.path.join(subclusterplotdir)\n",
    "    \n",
    "    latent_adata_sub=latent_adata[np.isfinite(latent_adata.obs[v+'log'])]\n",
    "    latent_adata_sub.uns['kmeans_sub_sizes']=np.unique(latent_adata_sub.obs['kmeans_sub'],return_counts=True)[1]\n",
    "    sc.pl.paga(latent_adata_sub, color=[v+'log'],pos=trainPagaPos,fontsize=18,fontoutline=1,max_edge_width=10, node_size_scale=5,node_size_power=1,save='graph'+v+'_allcells_log.pdf',show=False,random_state=6)\n",
    "#     sc.pl.umap(latent_adata_sub,color=[v+'log'],legend_loc='on data',save='graph_umap'+v+'_log.png',show=False,size=3)\n",
    "\n",
    "gc.collect() \n",
    "\n"
   ]
  },
  {
   "cell_type": "code",
   "execution_count": 228,
   "metadata": {},
   "outputs": [
    {
     "name": "stdout",
     "output_type": "stream",
     "text": [
      "[ 0.  0.  1. ... nan nan nan]\n",
      "[0. 1. 1. ... 0. 0. 0.]\n"
     ]
    }
   ],
   "source": [
    "for v in np.unique(allvarnames):\n",
    "    protvalues=latent_adata.obs[v+'log'].to_numpy(copy=True)\n",
    "    protvalues[protvalues>0]=1\n",
    "    print(protvalues)\n",
    "\n"
   ]
  },
  {
   "cell_type": "code",
   "execution_count": 188,
   "metadata": {
    "scrolled": true
   },
   "outputs": [],
   "source": [
    "node_size_scale#%cells with positive expression\n",
    "\n",
    "for v in np.unique(allvarnames):\n",
    "    protvalues=latent_adata.obs[v+'log'].to_numpy(copy=True)\n",
    "    protvalues[protvalues>0]=1\n",
    "    latent_adata.obs[v+'binary']=protvalues\n",
    "\n",
    "    sc.settings.figdir=os.path.join(subclusterplotdir)\n",
    "    \n",
    "    latent_adata_sub=latent_adata[np.isfinite(latent_adata.obs[v+'log'])]\n",
    "    latent_adata_sub.uns['kmeans_sub_sizes']=np.unique(latent_adata_sub.obs['kmeans_sub'],return_counts=True)[1]\n",
    "    sc.pl.paga(latent_adata_sub, color=[v+'binary'],pos=trainPagaPos,node_size_power=1,fontoutline=0.5,save='graph'+v+'_allcells_PosFrac.png',show=False,random_state=6)\n",
    "gc.collect()"
   ]
  },
  {
   "cell_type": "code",
   "execution_count": 210,
   "metadata": {
    "scrolled": true
   },
   "outputs": [
    {
     "name": "stderr",
     "output_type": "stream",
     "text": [
      "/home/xinyi/.local/lib/python3.8/site-packages/anndata/compat/_overloaded_dict.py:106: ImplicitModificationWarning: Trying to modify attribute `._uns` of view, initializing view as actual.\n",
      "  self.data[key] = value\n"
     ]
    },
    {
     "name": "stdout",
     "output_type": "stream",
     "text": [
      "--> added 'pos', the PAGA positions (adata.uns['paga'])\n",
      "WARNING: saving figure to file /media/xinyi/dcis2idc/plots/cnnvaeexp0/cluster_alltrain_reordered/minibatchkmean_ncluster8n_pcs50epoch311_plottingIdx_progBalanced_0_subcluster_all/aSMA/pagagraphaSMA_log_Atypical hyperplasia_allcells.png\n",
      "WARNING: saving figure to file /media/xinyi/dcis2idc/plots/cnnvaeexp0/cluster_alltrain_reordered/minibatchkmean_ncluster8n_pcs50epoch311_plottingIdx_progBalanced_0_subcluster_all/aSMA/umapgraph_umapaSMA_log_Atypical hyperplasia.png\n",
      "--> added 'pos', the PAGA positions (adata.uns['paga'])\n",
      "WARNING: saving figure to file /media/xinyi/dcis2idc/plots/cnnvaeexp0/cluster_alltrain_reordered/minibatchkmean_ncluster8n_pcs50epoch311_plottingIdx_progBalanced_0_subcluster_all/aSMA/pagagraphaSMA_log_Atypical hyperplasia_allcells_PosFrac.png\n"
     ]
    },
    {
     "name": "stderr",
     "output_type": "stream",
     "text": [
      "/home/xinyi/.local/lib/python3.8/site-packages/anndata/compat/_overloaded_dict.py:106: ImplicitModificationWarning: Trying to modify attribute `._uns` of view, initializing view as actual.\n",
      "  self.data[key] = value\n"
     ]
    },
    {
     "name": "stdout",
     "output_type": "stream",
     "text": [
      "--> added 'pos', the PAGA positions (adata.uns['paga'])\n",
      "WARNING: saving figure to file /media/xinyi/dcis2idc/plots/cnnvaeexp0/cluster_alltrain_reordered/minibatchkmean_ncluster8n_pcs50epoch311_plottingIdx_progBalanced_0_subcluster_all/aSMA/pagagraphaSMA_log_Breast tissue_allcells.png\n",
      "WARNING: saving figure to file /media/xinyi/dcis2idc/plots/cnnvaeexp0/cluster_alltrain_reordered/minibatchkmean_ncluster8n_pcs50epoch311_plottingIdx_progBalanced_0_subcluster_all/aSMA/umapgraph_umapaSMA_log_Breast tissue.png\n",
      "--> added 'pos', the PAGA positions (adata.uns['paga'])\n",
      "WARNING: saving figure to file /media/xinyi/dcis2idc/plots/cnnvaeexp0/cluster_alltrain_reordered/minibatchkmean_ncluster8n_pcs50epoch311_plottingIdx_progBalanced_0_subcluster_all/aSMA/pagagraphaSMA_log_Breast tissue_allcells_PosFrac.png\n"
     ]
    },
    {
     "name": "stderr",
     "output_type": "stream",
     "text": [
      "/home/xinyi/.local/lib/python3.8/site-packages/anndata/compat/_overloaded_dict.py:106: ImplicitModificationWarning: Trying to modify attribute `._uns` of view, initializing view as actual.\n",
      "  self.data[key] = value\n"
     ]
    },
    {
     "name": "stdout",
     "output_type": "stream",
     "text": [
      "--> added 'pos', the PAGA positions (adata.uns['paga'])\n",
      "WARNING: saving figure to file /media/xinyi/dcis2idc/plots/cnnvaeexp0/cluster_alltrain_reordered/minibatchkmean_ncluster8n_pcs50epoch311_plottingIdx_progBalanced_0_subcluster_all/aSMA/pagagraphaSMA_log_Cancer adjacent normal breast tissue_allcells.png\n",
      "WARNING: saving figure to file /media/xinyi/dcis2idc/plots/cnnvaeexp0/cluster_alltrain_reordered/minibatchkmean_ncluster8n_pcs50epoch311_plottingIdx_progBalanced_0_subcluster_all/aSMA/umapgraph_umapaSMA_log_Cancer adjacent normal breast tissue.png\n",
      "--> added 'pos', the PAGA positions (adata.uns['paga'])\n",
      "WARNING: saving figure to file /media/xinyi/dcis2idc/plots/cnnvaeexp0/cluster_alltrain_reordered/minibatchkmean_ncluster8n_pcs50epoch311_plottingIdx_progBalanced_0_subcluster_all/aSMA/pagagraphaSMA_log_Cancer adjacent normal breast tissue_allcells_PosFrac.png\n"
     ]
    },
    {
     "name": "stderr",
     "output_type": "stream",
     "text": [
      "/home/xinyi/.local/lib/python3.8/site-packages/anndata/compat/_overloaded_dict.py:106: ImplicitModificationWarning: Trying to modify attribute `._uns` of view, initializing view as actual.\n",
      "  self.data[key] = value\n"
     ]
    },
    {
     "name": "stdout",
     "output_type": "stream",
     "text": [
      "--> added 'pos', the PAGA positions (adata.uns['paga'])\n",
      "WARNING: saving figure to file /media/xinyi/dcis2idc/plots/cnnvaeexp0/cluster_alltrain_reordered/minibatchkmean_ncluster8n_pcs50epoch311_plottingIdx_progBalanced_0_subcluster_all/aSMA/pagagraphaSMA_log_Ductal carcinoma in situ_allcells.png\n",
      "WARNING: saving figure to file /media/xinyi/dcis2idc/plots/cnnvaeexp0/cluster_alltrain_reordered/minibatchkmean_ncluster8n_pcs50epoch311_plottingIdx_progBalanced_0_subcluster_all/aSMA/umapgraph_umapaSMA_log_Ductal carcinoma in situ.png\n",
      "--> added 'pos', the PAGA positions (adata.uns['paga'])\n",
      "WARNING: saving figure to file /media/xinyi/dcis2idc/plots/cnnvaeexp0/cluster_alltrain_reordered/minibatchkmean_ncluster8n_pcs50epoch311_plottingIdx_progBalanced_0_subcluster_all/aSMA/pagagraphaSMA_log_Ductal carcinoma in situ_allcells_PosFrac.png\n"
     ]
    },
    {
     "name": "stderr",
     "output_type": "stream",
     "text": [
      "/home/xinyi/.local/lib/python3.8/site-packages/anndata/compat/_overloaded_dict.py:106: ImplicitModificationWarning: Trying to modify attribute `._uns` of view, initializing view as actual.\n",
      "  self.data[key] = value\n"
     ]
    },
    {
     "name": "stdout",
     "output_type": "stream",
     "text": [
      "--> added 'pos', the PAGA positions (adata.uns['paga'])\n",
      "WARNING: saving figure to file /media/xinyi/dcis2idc/plots/cnnvaeexp0/cluster_alltrain_reordered/minibatchkmean_ncluster8n_pcs50epoch311_plottingIdx_progBalanced_0_subcluster_all/aSMA/pagagraphaSMA_log_Ductal carcinoma in situ and breast tissue_allcells.png\n",
      "WARNING: saving figure to file /media/xinyi/dcis2idc/plots/cnnvaeexp0/cluster_alltrain_reordered/minibatchkmean_ncluster8n_pcs50epoch311_plottingIdx_progBalanced_0_subcluster_all/aSMA/umapgraph_umapaSMA_log_Ductal carcinoma in situ and breast tissue.png\n",
      "--> added 'pos', the PAGA positions (adata.uns['paga'])\n",
      "WARNING: saving figure to file /media/xinyi/dcis2idc/plots/cnnvaeexp0/cluster_alltrain_reordered/minibatchkmean_ncluster8n_pcs50epoch311_plottingIdx_progBalanced_0_subcluster_all/aSMA/pagagraphaSMA_log_Ductal carcinoma in situ and breast tissue_allcells_PosFrac.png\n"
     ]
    },
    {
     "name": "stderr",
     "output_type": "stream",
     "text": [
      "/home/xinyi/.local/lib/python3.8/site-packages/anndata/compat/_overloaded_dict.py:106: ImplicitModificationWarning: Trying to modify attribute `._uns` of view, initializing view as actual.\n",
      "  self.data[key] = value\n"
     ]
    },
    {
     "name": "stdout",
     "output_type": "stream",
     "text": [
      "--> added 'pos', the PAGA positions (adata.uns['paga'])\n",
      "WARNING: saving figure to file /media/xinyi/dcis2idc/plots/cnnvaeexp0/cluster_alltrain_reordered/minibatchkmean_ncluster8n_pcs50epoch311_plottingIdx_progBalanced_0_subcluster_all/aSMA/pagagraphaSMA_log_Ductal carcinoma in situ with early infiltratio_allcells.png\n",
      "WARNING: saving figure to file /media/xinyi/dcis2idc/plots/cnnvaeexp0/cluster_alltrain_reordered/minibatchkmean_ncluster8n_pcs50epoch311_plottingIdx_progBalanced_0_subcluster_all/aSMA/umapgraph_umapaSMA_log_Ductal carcinoma in situ with early infiltratio.png\n",
      "--> added 'pos', the PAGA positions (adata.uns['paga'])\n",
      "WARNING: saving figure to file /media/xinyi/dcis2idc/plots/cnnvaeexp0/cluster_alltrain_reordered/minibatchkmean_ncluster8n_pcs50epoch311_plottingIdx_progBalanced_0_subcluster_all/aSMA/pagagraphaSMA_log_Ductal carcinoma in situ with early infiltratio_allcells_PosFrac.png\n"
     ]
    },
    {
     "name": "stderr",
     "output_type": "stream",
     "text": [
      "/home/xinyi/.local/lib/python3.8/site-packages/anndata/compat/_overloaded_dict.py:106: ImplicitModificationWarning: Trying to modify attribute `._uns` of view, initializing view as actual.\n",
      "  self.data[key] = value\n"
     ]
    },
    {
     "name": "stdout",
     "output_type": "stream",
     "text": [
      "--> added 'pos', the PAGA positions (adata.uns['paga'])\n",
      "WARNING: saving figure to file /media/xinyi/dcis2idc/plots/cnnvaeexp0/cluster_alltrain_reordered/minibatchkmean_ncluster8n_pcs50epoch311_plottingIdx_progBalanced_0_subcluster_all/aSMA/pagagraphaSMA_log_Hyperplasia_allcells.png\n",
      "WARNING: saving figure to file /media/xinyi/dcis2idc/plots/cnnvaeexp0/cluster_alltrain_reordered/minibatchkmean_ncluster8n_pcs50epoch311_plottingIdx_progBalanced_0_subcluster_all/aSMA/umapgraph_umapaSMA_log_Hyperplasia.png\n",
      "--> added 'pos', the PAGA positions (adata.uns['paga'])\n",
      "WARNING: saving figure to file /media/xinyi/dcis2idc/plots/cnnvaeexp0/cluster_alltrain_reordered/minibatchkmean_ncluster8n_pcs50epoch311_plottingIdx_progBalanced_0_subcluster_all/aSMA/pagagraphaSMA_log_Hyperplasia_allcells_PosFrac.png\n"
     ]
    },
    {
     "name": "stderr",
     "output_type": "stream",
     "text": [
      "/home/xinyi/.local/lib/python3.8/site-packages/anndata/compat/_overloaded_dict.py:106: ImplicitModificationWarning: Trying to modify attribute `._uns` of view, initializing view as actual.\n",
      "  self.data[key] = value\n"
     ]
    },
    {
     "name": "stdout",
     "output_type": "stream",
     "text": [
      "--> added 'pos', the PAGA positions (adata.uns['paga'])\n",
      "WARNING: saving figure to file /media/xinyi/dcis2idc/plots/cnnvaeexp0/cluster_alltrain_reordered/minibatchkmean_ncluster8n_pcs50epoch311_plottingIdx_progBalanced_0_subcluster_all/aSMA/pagagraphaSMA_log_Invasive ductal carcinoma_allcells.png\n",
      "WARNING: saving figure to file /media/xinyi/dcis2idc/plots/cnnvaeexp0/cluster_alltrain_reordered/minibatchkmean_ncluster8n_pcs50epoch311_plottingIdx_progBalanced_0_subcluster_all/aSMA/umapgraph_umapaSMA_log_Invasive ductal carcinoma.png\n",
      "--> added 'pos', the PAGA positions (adata.uns['paga'])\n",
      "WARNING: saving figure to file /media/xinyi/dcis2idc/plots/cnnvaeexp0/cluster_alltrain_reordered/minibatchkmean_ncluster8n_pcs50epoch311_plottingIdx_progBalanced_0_subcluster_all/aSMA/pagagraphaSMA_log_Invasive ductal carcinoma_allcells_PosFrac.png\n"
     ]
    },
    {
     "name": "stderr",
     "output_type": "stream",
     "text": [
      "/home/xinyi/.local/lib/python3.8/site-packages/anndata/compat/_overloaded_dict.py:106: ImplicitModificationWarning: Trying to modify attribute `._uns` of view, initializing view as actual.\n",
      "  self.data[key] = value\n"
     ]
    },
    {
     "name": "stdout",
     "output_type": "stream",
     "text": [
      "--> added 'pos', the PAGA positions (adata.uns['paga'])\n",
      "WARNING: saving figure to file /media/xinyi/dcis2idc/plots/cnnvaeexp0/cluster_alltrain_reordered/minibatchkmean_ncluster8n_pcs50epoch311_plottingIdx_progBalanced_0_subcluster_all/aSMA/pagagraphaSMA_log_Invasive ductal carcinoma (breast tissue)_allcells.png\n",
      "WARNING: saving figure to file /media/xinyi/dcis2idc/plots/cnnvaeexp0/cluster_alltrain_reordered/minibatchkmean_ncluster8n_pcs50epoch311_plottingIdx_progBalanced_0_subcluster_all/aSMA/umapgraph_umapaSMA_log_Invasive ductal carcinoma (breast tissue).png\n",
      "--> added 'pos', the PAGA positions (adata.uns['paga'])\n",
      "WARNING: saving figure to file /media/xinyi/dcis2idc/plots/cnnvaeexp0/cluster_alltrain_reordered/minibatchkmean_ncluster8n_pcs50epoch311_plottingIdx_progBalanced_0_subcluster_all/aSMA/pagagraphaSMA_log_Invasive ductal carcinoma (breast tissue)_allcells_PosFrac.png\n"
     ]
    },
    {
     "name": "stderr",
     "output_type": "stream",
     "text": [
      "/home/xinyi/.local/lib/python3.8/site-packages/anndata/compat/_overloaded_dict.py:106: ImplicitModificationWarning: Trying to modify attribute `._uns` of view, initializing view as actual.\n",
      "  self.data[key] = value\n"
     ]
    },
    {
     "name": "stdout",
     "output_type": "stream",
     "text": [
      "--> added 'pos', the PAGA positions (adata.uns['paga'])\n",
      "WARNING: saving figure to file /media/xinyi/dcis2idc/plots/cnnvaeexp0/cluster_alltrain_reordered/minibatchkmean_ncluster8n_pcs50epoch311_plottingIdx_progBalanced_0_subcluster_all/aSMA/pagagraphaSMA_log_Invasive ductal carcinoma and breast tissue_allcells.png\n",
      "WARNING: saving figure to file /media/xinyi/dcis2idc/plots/cnnvaeexp0/cluster_alltrain_reordered/minibatchkmean_ncluster8n_pcs50epoch311_plottingIdx_progBalanced_0_subcluster_all/aSMA/umapgraph_umapaSMA_log_Invasive ductal carcinoma and breast tissue.png\n",
      "--> added 'pos', the PAGA positions (adata.uns['paga'])\n",
      "WARNING: saving figure to file /media/xinyi/dcis2idc/plots/cnnvaeexp0/cluster_alltrain_reordered/minibatchkmean_ncluster8n_pcs50epoch311_plottingIdx_progBalanced_0_subcluster_all/aSMA/pagagraphaSMA_log_Invasive ductal carcinoma and breast tissue_allcells_PosFrac.png\n"
     ]
    },
    {
     "name": "stderr",
     "output_type": "stream",
     "text": [
      "/home/xinyi/.local/lib/python3.8/site-packages/anndata/compat/_overloaded_dict.py:106: ImplicitModificationWarning: Trying to modify attribute `._uns` of view, initializing view as actual.\n",
      "  self.data[key] = value\n"
     ]
    },
    {
     "name": "stdout",
     "output_type": "stream",
     "text": [
      "--> added 'pos', the PAGA positions (adata.uns['paga'])\n",
      "WARNING: saving figure to file /media/xinyi/dcis2idc/plots/cnnvaeexp0/cluster_alltrain_reordered/minibatchkmean_ncluster8n_pcs50epoch311_plottingIdx_progBalanced_0_subcluster_all/aSMA/pagagraphaSMA_log_Micropapillary type ductal carcinoma in situ wi_allcells.png\n",
      "WARNING: saving figure to file /media/xinyi/dcis2idc/plots/cnnvaeexp0/cluster_alltrain_reordered/minibatchkmean_ncluster8n_pcs50epoch311_plottingIdx_progBalanced_0_subcluster_all/aSMA/umapgraph_umapaSMA_log_Micropapillary type ductal carcinoma in situ wi.png\n",
      "--> added 'pos', the PAGA positions (adata.uns['paga'])\n",
      "WARNING: saving figure to file /media/xinyi/dcis2idc/plots/cnnvaeexp0/cluster_alltrain_reordered/minibatchkmean_ncluster8n_pcs50epoch311_plottingIdx_progBalanced_0_subcluster_all/aSMA/pagagraphaSMA_log_Micropapillary type ductal carcinoma in situ wi_allcells_PosFrac.png\n"
     ]
    },
    {
     "name": "stderr",
     "output_type": "stream",
     "text": [
      "/home/xinyi/.local/lib/python3.8/site-packages/anndata/compat/_overloaded_dict.py:106: ImplicitModificationWarning: Trying to modify attribute `._uns` of view, initializing view as actual.\n",
      "  self.data[key] = value\n"
     ]
    },
    {
     "name": "stdout",
     "output_type": "stream",
     "text": [
      "--> added 'pos', the PAGA positions (adata.uns['paga'])\n",
      "WARNING: saving figure to file /media/xinyi/dcis2idc/plots/cnnvaeexp0/cluster_alltrain_reordered/minibatchkmean_ncluster8n_pcs50epoch311_plottingIdx_progBalanced_0_subcluster_all/collagen1/pagagraphcollagen1_log_Atypical hyperplasia_allcells.png\n",
      "WARNING: saving figure to file /media/xinyi/dcis2idc/plots/cnnvaeexp0/cluster_alltrain_reordered/minibatchkmean_ncluster8n_pcs50epoch311_plottingIdx_progBalanced_0_subcluster_all/collagen1/umapgraph_umapcollagen1_log_Atypical hyperplasia.png\n",
      "--> added 'pos', the PAGA positions (adata.uns['paga'])\n",
      "WARNING: saving figure to file /media/xinyi/dcis2idc/plots/cnnvaeexp0/cluster_alltrain_reordered/minibatchkmean_ncluster8n_pcs50epoch311_plottingIdx_progBalanced_0_subcluster_all/collagen1/pagagraphcollagen1_log_Atypical hyperplasia_allcells_PosFrac.png\n"
     ]
    },
    {
     "name": "stderr",
     "output_type": "stream",
     "text": [
      "/home/xinyi/.local/lib/python3.8/site-packages/anndata/compat/_overloaded_dict.py:106: ImplicitModificationWarning: Trying to modify attribute `._uns` of view, initializing view as actual.\n",
      "  self.data[key] = value\n"
     ]
    },
    {
     "name": "stdout",
     "output_type": "stream",
     "text": [
      "--> added 'pos', the PAGA positions (adata.uns['paga'])\n",
      "WARNING: saving figure to file /media/xinyi/dcis2idc/plots/cnnvaeexp0/cluster_alltrain_reordered/minibatchkmean_ncluster8n_pcs50epoch311_plottingIdx_progBalanced_0_subcluster_all/collagen1/pagagraphcollagen1_log_Breast tissue_allcells.png\n",
      "WARNING: saving figure to file /media/xinyi/dcis2idc/plots/cnnvaeexp0/cluster_alltrain_reordered/minibatchkmean_ncluster8n_pcs50epoch311_plottingIdx_progBalanced_0_subcluster_all/collagen1/umapgraph_umapcollagen1_log_Breast tissue.png\n",
      "--> added 'pos', the PAGA positions (adata.uns['paga'])\n",
      "WARNING: saving figure to file /media/xinyi/dcis2idc/plots/cnnvaeexp0/cluster_alltrain_reordered/minibatchkmean_ncluster8n_pcs50epoch311_plottingIdx_progBalanced_0_subcluster_all/collagen1/pagagraphcollagen1_log_Breast tissue_allcells_PosFrac.png\n"
     ]
    },
    {
     "name": "stderr",
     "output_type": "stream",
     "text": [
      "/home/xinyi/.local/lib/python3.8/site-packages/anndata/compat/_overloaded_dict.py:106: ImplicitModificationWarning: Trying to modify attribute `._uns` of view, initializing view as actual.\n",
      "  self.data[key] = value\n"
     ]
    },
    {
     "name": "stdout",
     "output_type": "stream",
     "text": [
      "--> added 'pos', the PAGA positions (adata.uns['paga'])\n",
      "WARNING: saving figure to file /media/xinyi/dcis2idc/plots/cnnvaeexp0/cluster_alltrain_reordered/minibatchkmean_ncluster8n_pcs50epoch311_plottingIdx_progBalanced_0_subcluster_all/collagen1/pagagraphcollagen1_log_Ductal carcinoma in situ_allcells.png\n",
      "WARNING: saving figure to file /media/xinyi/dcis2idc/plots/cnnvaeexp0/cluster_alltrain_reordered/minibatchkmean_ncluster8n_pcs50epoch311_plottingIdx_progBalanced_0_subcluster_all/collagen1/umapgraph_umapcollagen1_log_Ductal carcinoma in situ.png\n",
      "--> added 'pos', the PAGA positions (adata.uns['paga'])\n",
      "WARNING: saving figure to file /media/xinyi/dcis2idc/plots/cnnvaeexp0/cluster_alltrain_reordered/minibatchkmean_ncluster8n_pcs50epoch311_plottingIdx_progBalanced_0_subcluster_all/collagen1/pagagraphcollagen1_log_Ductal carcinoma in situ_allcells_PosFrac.png\n"
     ]
    },
    {
     "name": "stderr",
     "output_type": "stream",
     "text": [
      "/home/xinyi/.local/lib/python3.8/site-packages/anndata/compat/_overloaded_dict.py:106: ImplicitModificationWarning: Trying to modify attribute `._uns` of view, initializing view as actual.\n",
      "  self.data[key] = value\n"
     ]
    },
    {
     "name": "stdout",
     "output_type": "stream",
     "text": [
      "--> added 'pos', the PAGA positions (adata.uns['paga'])\n",
      "WARNING: saving figure to file /media/xinyi/dcis2idc/plots/cnnvaeexp0/cluster_alltrain_reordered/minibatchkmean_ncluster8n_pcs50epoch311_plottingIdx_progBalanced_0_subcluster_all/collagen1/pagagraphcollagen1_log_Ductal carcinoma in situ and breast tissue_allcells.png\n",
      "WARNING: saving figure to file /media/xinyi/dcis2idc/plots/cnnvaeexp0/cluster_alltrain_reordered/minibatchkmean_ncluster8n_pcs50epoch311_plottingIdx_progBalanced_0_subcluster_all/collagen1/umapgraph_umapcollagen1_log_Ductal carcinoma in situ and breast tissue.png\n",
      "--> added 'pos', the PAGA positions (adata.uns['paga'])\n",
      "WARNING: saving figure to file /media/xinyi/dcis2idc/plots/cnnvaeexp0/cluster_alltrain_reordered/minibatchkmean_ncluster8n_pcs50epoch311_plottingIdx_progBalanced_0_subcluster_all/collagen1/pagagraphcollagen1_log_Ductal carcinoma in situ and breast tissue_allcells_PosFrac.png\n"
     ]
    },
    {
     "name": "stderr",
     "output_type": "stream",
     "text": [
      "/home/xinyi/.local/lib/python3.8/site-packages/anndata/compat/_overloaded_dict.py:106: ImplicitModificationWarning: Trying to modify attribute `._uns` of view, initializing view as actual.\n",
      "  self.data[key] = value\n"
     ]
    },
    {
     "name": "stdout",
     "output_type": "stream",
     "text": [
      "--> added 'pos', the PAGA positions (adata.uns['paga'])\n",
      "WARNING: saving figure to file /media/xinyi/dcis2idc/plots/cnnvaeexp0/cluster_alltrain_reordered/minibatchkmean_ncluster8n_pcs50epoch311_plottingIdx_progBalanced_0_subcluster_all/collagen1/pagagraphcollagen1_log_Ductal carcinoma in situ with early infiltratio_allcells.png\n",
      "WARNING: saving figure to file /media/xinyi/dcis2idc/plots/cnnvaeexp0/cluster_alltrain_reordered/minibatchkmean_ncluster8n_pcs50epoch311_plottingIdx_progBalanced_0_subcluster_all/collagen1/umapgraph_umapcollagen1_log_Ductal carcinoma in situ with early infiltratio.png\n",
      "--> added 'pos', the PAGA positions (adata.uns['paga'])\n",
      "WARNING: saving figure to file /media/xinyi/dcis2idc/plots/cnnvaeexp0/cluster_alltrain_reordered/minibatchkmean_ncluster8n_pcs50epoch311_plottingIdx_progBalanced_0_subcluster_all/collagen1/pagagraphcollagen1_log_Ductal carcinoma in situ with early infiltratio_allcells_PosFrac.png\n"
     ]
    },
    {
     "name": "stderr",
     "output_type": "stream",
     "text": [
      "/home/xinyi/.local/lib/python3.8/site-packages/anndata/compat/_overloaded_dict.py:106: ImplicitModificationWarning: Trying to modify attribute `._uns` of view, initializing view as actual.\n",
      "  self.data[key] = value\n"
     ]
    },
    {
     "name": "stdout",
     "output_type": "stream",
     "text": [
      "--> added 'pos', the PAGA positions (adata.uns['paga'])\n",
      "WARNING: saving figure to file /media/xinyi/dcis2idc/plots/cnnvaeexp0/cluster_alltrain_reordered/minibatchkmean_ncluster8n_pcs50epoch311_plottingIdx_progBalanced_0_subcluster_all/collagen1/pagagraphcollagen1_log_Hyperplasia_allcells.png\n",
      "WARNING: saving figure to file /media/xinyi/dcis2idc/plots/cnnvaeexp0/cluster_alltrain_reordered/minibatchkmean_ncluster8n_pcs50epoch311_plottingIdx_progBalanced_0_subcluster_all/collagen1/umapgraph_umapcollagen1_log_Hyperplasia.png\n",
      "--> added 'pos', the PAGA positions (adata.uns['paga'])\n",
      "WARNING: saving figure to file /media/xinyi/dcis2idc/plots/cnnvaeexp0/cluster_alltrain_reordered/minibatchkmean_ncluster8n_pcs50epoch311_plottingIdx_progBalanced_0_subcluster_all/collagen1/pagagraphcollagen1_log_Hyperplasia_allcells_PosFrac.png\n"
     ]
    },
    {
     "name": "stderr",
     "output_type": "stream",
     "text": [
      "/home/xinyi/.local/lib/python3.8/site-packages/anndata/compat/_overloaded_dict.py:106: ImplicitModificationWarning: Trying to modify attribute `._uns` of view, initializing view as actual.\n",
      "  self.data[key] = value\n"
     ]
    },
    {
     "name": "stdout",
     "output_type": "stream",
     "text": [
      "--> added 'pos', the PAGA positions (adata.uns['paga'])\n",
      "WARNING: saving figure to file /media/xinyi/dcis2idc/plots/cnnvaeexp0/cluster_alltrain_reordered/minibatchkmean_ncluster8n_pcs50epoch311_plottingIdx_progBalanced_0_subcluster_all/collagen1/pagagraphcollagen1_log_Invasive ductal carcinoma_allcells.png\n",
      "WARNING: saving figure to file /media/xinyi/dcis2idc/plots/cnnvaeexp0/cluster_alltrain_reordered/minibatchkmean_ncluster8n_pcs50epoch311_plottingIdx_progBalanced_0_subcluster_all/collagen1/umapgraph_umapcollagen1_log_Invasive ductal carcinoma.png\n",
      "--> added 'pos', the PAGA positions (adata.uns['paga'])\n",
      "WARNING: saving figure to file /media/xinyi/dcis2idc/plots/cnnvaeexp0/cluster_alltrain_reordered/minibatchkmean_ncluster8n_pcs50epoch311_plottingIdx_progBalanced_0_subcluster_all/collagen1/pagagraphcollagen1_log_Invasive ductal carcinoma_allcells_PosFrac.png\n"
     ]
    },
    {
     "name": "stderr",
     "output_type": "stream",
     "text": [
      "/home/xinyi/.local/lib/python3.8/site-packages/anndata/compat/_overloaded_dict.py:106: ImplicitModificationWarning: Trying to modify attribute `._uns` of view, initializing view as actual.\n",
      "  self.data[key] = value\n"
     ]
    },
    {
     "name": "stdout",
     "output_type": "stream",
     "text": [
      "--> added 'pos', the PAGA positions (adata.uns['paga'])\n",
      "WARNING: saving figure to file /media/xinyi/dcis2idc/plots/cnnvaeexp0/cluster_alltrain_reordered/minibatchkmean_ncluster8n_pcs50epoch311_plottingIdx_progBalanced_0_subcluster_all/collagen1/pagagraphcollagen1_log_Invasive ductal carcinoma (breast tissue)_allcells.png\n",
      "WARNING: saving figure to file /media/xinyi/dcis2idc/plots/cnnvaeexp0/cluster_alltrain_reordered/minibatchkmean_ncluster8n_pcs50epoch311_plottingIdx_progBalanced_0_subcluster_all/collagen1/umapgraph_umapcollagen1_log_Invasive ductal carcinoma (breast tissue).png\n",
      "--> added 'pos', the PAGA positions (adata.uns['paga'])\n",
      "WARNING: saving figure to file /media/xinyi/dcis2idc/plots/cnnvaeexp0/cluster_alltrain_reordered/minibatchkmean_ncluster8n_pcs50epoch311_plottingIdx_progBalanced_0_subcluster_all/collagen1/pagagraphcollagen1_log_Invasive ductal carcinoma (breast tissue)_allcells_PosFrac.png\n"
     ]
    },
    {
     "name": "stderr",
     "output_type": "stream",
     "text": [
      "/home/xinyi/.local/lib/python3.8/site-packages/anndata/compat/_overloaded_dict.py:106: ImplicitModificationWarning: Trying to modify attribute `._uns` of view, initializing view as actual.\n",
      "  self.data[key] = value\n"
     ]
    },
    {
     "name": "stdout",
     "output_type": "stream",
     "text": [
      "--> added 'pos', the PAGA positions (adata.uns['paga'])\n",
      "WARNING: saving figure to file /media/xinyi/dcis2idc/plots/cnnvaeexp0/cluster_alltrain_reordered/minibatchkmean_ncluster8n_pcs50epoch311_plottingIdx_progBalanced_0_subcluster_all/collagen1/pagagraphcollagen1_log_Invasive ductal carcinoma and breast tissue_allcells.png\n",
      "WARNING: saving figure to file /media/xinyi/dcis2idc/plots/cnnvaeexp0/cluster_alltrain_reordered/minibatchkmean_ncluster8n_pcs50epoch311_plottingIdx_progBalanced_0_subcluster_all/collagen1/umapgraph_umapcollagen1_log_Invasive ductal carcinoma and breast tissue.png\n",
      "--> added 'pos', the PAGA positions (adata.uns['paga'])\n",
      "WARNING: saving figure to file /media/xinyi/dcis2idc/plots/cnnvaeexp0/cluster_alltrain_reordered/minibatchkmean_ncluster8n_pcs50epoch311_plottingIdx_progBalanced_0_subcluster_all/collagen1/pagagraphcollagen1_log_Invasive ductal carcinoma and breast tissue_allcells_PosFrac.png\n"
     ]
    },
    {
     "name": "stderr",
     "output_type": "stream",
     "text": [
      "/home/xinyi/.local/lib/python3.8/site-packages/anndata/compat/_overloaded_dict.py:106: ImplicitModificationWarning: Trying to modify attribute `._uns` of view, initializing view as actual.\n",
      "  self.data[key] = value\n"
     ]
    },
    {
     "name": "stdout",
     "output_type": "stream",
     "text": [
      "--> added 'pos', the PAGA positions (adata.uns['paga'])\n",
      "WARNING: saving figure to file /media/xinyi/dcis2idc/plots/cnnvaeexp0/cluster_alltrain_reordered/minibatchkmean_ncluster8n_pcs50epoch311_plottingIdx_progBalanced_0_subcluster_all/collagen1/pagagraphcollagen1_log_Micropapillary type ductal carcinoma in situ wi_allcells.png\n",
      "WARNING: saving figure to file /media/xinyi/dcis2idc/plots/cnnvaeexp0/cluster_alltrain_reordered/minibatchkmean_ncluster8n_pcs50epoch311_plottingIdx_progBalanced_0_subcluster_all/collagen1/umapgraph_umapcollagen1_log_Micropapillary type ductal carcinoma in situ wi.png\n",
      "--> added 'pos', the PAGA positions (adata.uns['paga'])\n",
      "WARNING: saving figure to file /media/xinyi/dcis2idc/plots/cnnvaeexp0/cluster_alltrain_reordered/minibatchkmean_ncluster8n_pcs50epoch311_plottingIdx_progBalanced_0_subcluster_all/collagen1/pagagraphcollagen1_log_Micropapillary type ductal carcinoma in situ wi_allcells_PosFrac.png\n"
     ]
    },
    {
     "name": "stderr",
     "output_type": "stream",
     "text": [
      "/home/xinyi/.local/lib/python3.8/site-packages/anndata/compat/_overloaded_dict.py:106: ImplicitModificationWarning: Trying to modify attribute `._uns` of view, initializing view as actual.\n",
      "  self.data[key] = value\n"
     ]
    },
    {
     "name": "stdout",
     "output_type": "stream",
     "text": [
      "--> added 'pos', the PAGA positions (adata.uns['paga'])\n",
      "WARNING: saving figure to file /media/xinyi/dcis2idc/plots/cnnvaeexp0/cluster_alltrain_reordered/minibatchkmean_ncluster8n_pcs50epoch311_plottingIdx_progBalanced_0_subcluster_all/cytokeratin/pagagraphcytokeratin_log_Atypical hyperplasia_allcells.png\n",
      "WARNING: saving figure to file /media/xinyi/dcis2idc/plots/cnnvaeexp0/cluster_alltrain_reordered/minibatchkmean_ncluster8n_pcs50epoch311_plottingIdx_progBalanced_0_subcluster_all/cytokeratin/umapgraph_umapcytokeratin_log_Atypical hyperplasia.png\n",
      "--> added 'pos', the PAGA positions (adata.uns['paga'])\n",
      "WARNING: saving figure to file /media/xinyi/dcis2idc/plots/cnnvaeexp0/cluster_alltrain_reordered/minibatchkmean_ncluster8n_pcs50epoch311_plottingIdx_progBalanced_0_subcluster_all/cytokeratin/pagagraphcytokeratin_log_Atypical hyperplasia_allcells_PosFrac.png\n"
     ]
    },
    {
     "name": "stderr",
     "output_type": "stream",
     "text": [
      "/home/xinyi/.local/lib/python3.8/site-packages/anndata/compat/_overloaded_dict.py:106: ImplicitModificationWarning: Trying to modify attribute `._uns` of view, initializing view as actual.\n",
      "  self.data[key] = value\n"
     ]
    },
    {
     "name": "stdout",
     "output_type": "stream",
     "text": [
      "--> added 'pos', the PAGA positions (adata.uns['paga'])\n",
      "WARNING: saving figure to file /media/xinyi/dcis2idc/plots/cnnvaeexp0/cluster_alltrain_reordered/minibatchkmean_ncluster8n_pcs50epoch311_plottingIdx_progBalanced_0_subcluster_all/cytokeratin/pagagraphcytokeratin_log_Breast tissue_allcells.png\n",
      "WARNING: saving figure to file /media/xinyi/dcis2idc/plots/cnnvaeexp0/cluster_alltrain_reordered/minibatchkmean_ncluster8n_pcs50epoch311_plottingIdx_progBalanced_0_subcluster_all/cytokeratin/umapgraph_umapcytokeratin_log_Breast tissue.png\n",
      "--> added 'pos', the PAGA positions (adata.uns['paga'])\n",
      "WARNING: saving figure to file /media/xinyi/dcis2idc/plots/cnnvaeexp0/cluster_alltrain_reordered/minibatchkmean_ncluster8n_pcs50epoch311_plottingIdx_progBalanced_0_subcluster_all/cytokeratin/pagagraphcytokeratin_log_Breast tissue_allcells_PosFrac.png\n"
     ]
    },
    {
     "name": "stderr",
     "output_type": "stream",
     "text": [
      "/home/xinyi/.local/lib/python3.8/site-packages/anndata/compat/_overloaded_dict.py:106: ImplicitModificationWarning: Trying to modify attribute `._uns` of view, initializing view as actual.\n",
      "  self.data[key] = value\n"
     ]
    },
    {
     "name": "stdout",
     "output_type": "stream",
     "text": [
      "--> added 'pos', the PAGA positions (adata.uns['paga'])\n",
      "WARNING: saving figure to file /media/xinyi/dcis2idc/plots/cnnvaeexp0/cluster_alltrain_reordered/minibatchkmean_ncluster8n_pcs50epoch311_plottingIdx_progBalanced_0_subcluster_all/cytokeratin/pagagraphcytokeratin_log_Cancer adjacent normal breast tissue_allcells.png\n",
      "WARNING: saving figure to file /media/xinyi/dcis2idc/plots/cnnvaeexp0/cluster_alltrain_reordered/minibatchkmean_ncluster8n_pcs50epoch311_plottingIdx_progBalanced_0_subcluster_all/cytokeratin/umapgraph_umapcytokeratin_log_Cancer adjacent normal breast tissue.png\n",
      "--> added 'pos', the PAGA positions (adata.uns['paga'])\n",
      "WARNING: saving figure to file /media/xinyi/dcis2idc/plots/cnnvaeexp0/cluster_alltrain_reordered/minibatchkmean_ncluster8n_pcs50epoch311_plottingIdx_progBalanced_0_subcluster_all/cytokeratin/pagagraphcytokeratin_log_Cancer adjacent normal breast tissue_allcells_PosFrac.png\n"
     ]
    },
    {
     "name": "stderr",
     "output_type": "stream",
     "text": [
      "/home/xinyi/.local/lib/python3.8/site-packages/anndata/compat/_overloaded_dict.py:106: ImplicitModificationWarning: Trying to modify attribute `._uns` of view, initializing view as actual.\n",
      "  self.data[key] = value\n"
     ]
    },
    {
     "name": "stdout",
     "output_type": "stream",
     "text": [
      "--> added 'pos', the PAGA positions (adata.uns['paga'])\n",
      "WARNING: saving figure to file /media/xinyi/dcis2idc/plots/cnnvaeexp0/cluster_alltrain_reordered/minibatchkmean_ncluster8n_pcs50epoch311_plottingIdx_progBalanced_0_subcluster_all/cytokeratin/pagagraphcytokeratin_log_Ductal carcinoma in situ_allcells.png\n",
      "WARNING: saving figure to file /media/xinyi/dcis2idc/plots/cnnvaeexp0/cluster_alltrain_reordered/minibatchkmean_ncluster8n_pcs50epoch311_plottingIdx_progBalanced_0_subcluster_all/cytokeratin/umapgraph_umapcytokeratin_log_Ductal carcinoma in situ.png\n",
      "--> added 'pos', the PAGA positions (adata.uns['paga'])\n",
      "WARNING: saving figure to file /media/xinyi/dcis2idc/plots/cnnvaeexp0/cluster_alltrain_reordered/minibatchkmean_ncluster8n_pcs50epoch311_plottingIdx_progBalanced_0_subcluster_all/cytokeratin/pagagraphcytokeratin_log_Ductal carcinoma in situ_allcells_PosFrac.png\n"
     ]
    },
    {
     "name": "stderr",
     "output_type": "stream",
     "text": [
      "/home/xinyi/.local/lib/python3.8/site-packages/anndata/compat/_overloaded_dict.py:106: ImplicitModificationWarning: Trying to modify attribute `._uns` of view, initializing view as actual.\n",
      "  self.data[key] = value\n"
     ]
    },
    {
     "name": "stdout",
     "output_type": "stream",
     "text": [
      "--> added 'pos', the PAGA positions (adata.uns['paga'])\n",
      "WARNING: saving figure to file /media/xinyi/dcis2idc/plots/cnnvaeexp0/cluster_alltrain_reordered/minibatchkmean_ncluster8n_pcs50epoch311_plottingIdx_progBalanced_0_subcluster_all/cytokeratin/pagagraphcytokeratin_log_Ductal carcinoma in situ and breast tissue_allcells.png\n",
      "WARNING: saving figure to file /media/xinyi/dcis2idc/plots/cnnvaeexp0/cluster_alltrain_reordered/minibatchkmean_ncluster8n_pcs50epoch311_plottingIdx_progBalanced_0_subcluster_all/cytokeratin/umapgraph_umapcytokeratin_log_Ductal carcinoma in situ and breast tissue.png\n",
      "--> added 'pos', the PAGA positions (adata.uns['paga'])\n",
      "WARNING: saving figure to file /media/xinyi/dcis2idc/plots/cnnvaeexp0/cluster_alltrain_reordered/minibatchkmean_ncluster8n_pcs50epoch311_plottingIdx_progBalanced_0_subcluster_all/cytokeratin/pagagraphcytokeratin_log_Ductal carcinoma in situ and breast tissue_allcells_PosFrac.png\n"
     ]
    },
    {
     "name": "stderr",
     "output_type": "stream",
     "text": [
      "/home/xinyi/.local/lib/python3.8/site-packages/anndata/compat/_overloaded_dict.py:106: ImplicitModificationWarning: Trying to modify attribute `._uns` of view, initializing view as actual.\n",
      "  self.data[key] = value\n"
     ]
    },
    {
     "name": "stdout",
     "output_type": "stream",
     "text": [
      "--> added 'pos', the PAGA positions (adata.uns['paga'])\n",
      "WARNING: saving figure to file /media/xinyi/dcis2idc/plots/cnnvaeexp0/cluster_alltrain_reordered/minibatchkmean_ncluster8n_pcs50epoch311_plottingIdx_progBalanced_0_subcluster_all/cytokeratin/pagagraphcytokeratin_log_Ductal carcinoma in situ with early infiltratio_allcells.png\n",
      "WARNING: saving figure to file /media/xinyi/dcis2idc/plots/cnnvaeexp0/cluster_alltrain_reordered/minibatchkmean_ncluster8n_pcs50epoch311_plottingIdx_progBalanced_0_subcluster_all/cytokeratin/umapgraph_umapcytokeratin_log_Ductal carcinoma in situ with early infiltratio.png\n",
      "--> added 'pos', the PAGA positions (adata.uns['paga'])\n",
      "WARNING: saving figure to file /media/xinyi/dcis2idc/plots/cnnvaeexp0/cluster_alltrain_reordered/minibatchkmean_ncluster8n_pcs50epoch311_plottingIdx_progBalanced_0_subcluster_all/cytokeratin/pagagraphcytokeratin_log_Ductal carcinoma in situ with early infiltratio_allcells_PosFrac.png\n"
     ]
    },
    {
     "name": "stderr",
     "output_type": "stream",
     "text": [
      "/home/xinyi/.local/lib/python3.8/site-packages/anndata/compat/_overloaded_dict.py:106: ImplicitModificationWarning: Trying to modify attribute `._uns` of view, initializing view as actual.\n",
      "  self.data[key] = value\n"
     ]
    },
    {
     "name": "stdout",
     "output_type": "stream",
     "text": [
      "--> added 'pos', the PAGA positions (adata.uns['paga'])\n",
      "WARNING: saving figure to file /media/xinyi/dcis2idc/plots/cnnvaeexp0/cluster_alltrain_reordered/minibatchkmean_ncluster8n_pcs50epoch311_plottingIdx_progBalanced_0_subcluster_all/cytokeratin/pagagraphcytokeratin_log_Hyperplasia_allcells.png\n",
      "WARNING: saving figure to file /media/xinyi/dcis2idc/plots/cnnvaeexp0/cluster_alltrain_reordered/minibatchkmean_ncluster8n_pcs50epoch311_plottingIdx_progBalanced_0_subcluster_all/cytokeratin/umapgraph_umapcytokeratin_log_Hyperplasia.png\n",
      "--> added 'pos', the PAGA positions (adata.uns['paga'])\n",
      "WARNING: saving figure to file /media/xinyi/dcis2idc/plots/cnnvaeexp0/cluster_alltrain_reordered/minibatchkmean_ncluster8n_pcs50epoch311_plottingIdx_progBalanced_0_subcluster_all/cytokeratin/pagagraphcytokeratin_log_Hyperplasia_allcells_PosFrac.png\n"
     ]
    },
    {
     "name": "stderr",
     "output_type": "stream",
     "text": [
      "/home/xinyi/.local/lib/python3.8/site-packages/anndata/compat/_overloaded_dict.py:106: ImplicitModificationWarning: Trying to modify attribute `._uns` of view, initializing view as actual.\n",
      "  self.data[key] = value\n"
     ]
    },
    {
     "name": "stdout",
     "output_type": "stream",
     "text": [
      "--> added 'pos', the PAGA positions (adata.uns['paga'])\n",
      "WARNING: saving figure to file /media/xinyi/dcis2idc/plots/cnnvaeexp0/cluster_alltrain_reordered/minibatchkmean_ncluster8n_pcs50epoch311_plottingIdx_progBalanced_0_subcluster_all/cytokeratin/pagagraphcytokeratin_log_Invasive ductal carcinoma_allcells.png\n",
      "WARNING: saving figure to file /media/xinyi/dcis2idc/plots/cnnvaeexp0/cluster_alltrain_reordered/minibatchkmean_ncluster8n_pcs50epoch311_plottingIdx_progBalanced_0_subcluster_all/cytokeratin/umapgraph_umapcytokeratin_log_Invasive ductal carcinoma.png\n",
      "--> added 'pos', the PAGA positions (adata.uns['paga'])\n",
      "WARNING: saving figure to file /media/xinyi/dcis2idc/plots/cnnvaeexp0/cluster_alltrain_reordered/minibatchkmean_ncluster8n_pcs50epoch311_plottingIdx_progBalanced_0_subcluster_all/cytokeratin/pagagraphcytokeratin_log_Invasive ductal carcinoma_allcells_PosFrac.png\n"
     ]
    },
    {
     "name": "stderr",
     "output_type": "stream",
     "text": [
      "/home/xinyi/.local/lib/python3.8/site-packages/anndata/compat/_overloaded_dict.py:106: ImplicitModificationWarning: Trying to modify attribute `._uns` of view, initializing view as actual.\n",
      "  self.data[key] = value\n"
     ]
    },
    {
     "name": "stdout",
     "output_type": "stream",
     "text": [
      "--> added 'pos', the PAGA positions (adata.uns['paga'])\n",
      "WARNING: saving figure to file /media/xinyi/dcis2idc/plots/cnnvaeexp0/cluster_alltrain_reordered/minibatchkmean_ncluster8n_pcs50epoch311_plottingIdx_progBalanced_0_subcluster_all/cytokeratin/pagagraphcytokeratin_log_Invasive ductal carcinoma (breast tissue)_allcells.png\n",
      "WARNING: saving figure to file /media/xinyi/dcis2idc/plots/cnnvaeexp0/cluster_alltrain_reordered/minibatchkmean_ncluster8n_pcs50epoch311_plottingIdx_progBalanced_0_subcluster_all/cytokeratin/umapgraph_umapcytokeratin_log_Invasive ductal carcinoma (breast tissue).png\n",
      "--> added 'pos', the PAGA positions (adata.uns['paga'])\n",
      "WARNING: saving figure to file /media/xinyi/dcis2idc/plots/cnnvaeexp0/cluster_alltrain_reordered/minibatchkmean_ncluster8n_pcs50epoch311_plottingIdx_progBalanced_0_subcluster_all/cytokeratin/pagagraphcytokeratin_log_Invasive ductal carcinoma (breast tissue)_allcells_PosFrac.png\n"
     ]
    },
    {
     "name": "stderr",
     "output_type": "stream",
     "text": [
      "/home/xinyi/.local/lib/python3.8/site-packages/anndata/compat/_overloaded_dict.py:106: ImplicitModificationWarning: Trying to modify attribute `._uns` of view, initializing view as actual.\n",
      "  self.data[key] = value\n"
     ]
    },
    {
     "name": "stdout",
     "output_type": "stream",
     "text": [
      "--> added 'pos', the PAGA positions (adata.uns['paga'])\n",
      "WARNING: saving figure to file /media/xinyi/dcis2idc/plots/cnnvaeexp0/cluster_alltrain_reordered/minibatchkmean_ncluster8n_pcs50epoch311_plottingIdx_progBalanced_0_subcluster_all/cytokeratin/pagagraphcytokeratin_log_Invasive ductal carcinoma and breast tissue_allcells.png\n",
      "WARNING: saving figure to file /media/xinyi/dcis2idc/plots/cnnvaeexp0/cluster_alltrain_reordered/minibatchkmean_ncluster8n_pcs50epoch311_plottingIdx_progBalanced_0_subcluster_all/cytokeratin/umapgraph_umapcytokeratin_log_Invasive ductal carcinoma and breast tissue.png\n",
      "--> added 'pos', the PAGA positions (adata.uns['paga'])\n",
      "WARNING: saving figure to file /media/xinyi/dcis2idc/plots/cnnvaeexp0/cluster_alltrain_reordered/minibatchkmean_ncluster8n_pcs50epoch311_plottingIdx_progBalanced_0_subcluster_all/cytokeratin/pagagraphcytokeratin_log_Invasive ductal carcinoma and breast tissue_allcells_PosFrac.png\n"
     ]
    },
    {
     "name": "stderr",
     "output_type": "stream",
     "text": [
      "/home/xinyi/.local/lib/python3.8/site-packages/anndata/compat/_overloaded_dict.py:106: ImplicitModificationWarning: Trying to modify attribute `._uns` of view, initializing view as actual.\n",
      "  self.data[key] = value\n"
     ]
    },
    {
     "name": "stdout",
     "output_type": "stream",
     "text": [
      "--> added 'pos', the PAGA positions (adata.uns['paga'])\n",
      "WARNING: saving figure to file /media/xinyi/dcis2idc/plots/cnnvaeexp0/cluster_alltrain_reordered/minibatchkmean_ncluster8n_pcs50epoch311_plottingIdx_progBalanced_0_subcluster_all/cytokeratin/pagagraphcytokeratin_log_Micropapillary type ductal carcinoma in situ wi_allcells.png\n",
      "WARNING: saving figure to file /media/xinyi/dcis2idc/plots/cnnvaeexp0/cluster_alltrain_reordered/minibatchkmean_ncluster8n_pcs50epoch311_plottingIdx_progBalanced_0_subcluster_all/cytokeratin/umapgraph_umapcytokeratin_log_Micropapillary type ductal carcinoma in situ wi.png\n",
      "--> added 'pos', the PAGA positions (adata.uns['paga'])\n",
      "WARNING: saving figure to file /media/xinyi/dcis2idc/plots/cnnvaeexp0/cluster_alltrain_reordered/minibatchkmean_ncluster8n_pcs50epoch311_plottingIdx_progBalanced_0_subcluster_all/cytokeratin/pagagraphcytokeratin_log_Micropapillary type ductal carcinoma in situ wi_allcells_PosFrac.png\n"
     ]
    },
    {
     "name": "stderr",
     "output_type": "stream",
     "text": [
      "/home/xinyi/.local/lib/python3.8/site-packages/anndata/compat/_overloaded_dict.py:106: ImplicitModificationWarning: Trying to modify attribute `._uns` of view, initializing view as actual.\n",
      "  self.data[key] = value\n"
     ]
    },
    {
     "name": "stdout",
     "output_type": "stream",
     "text": [
      "--> added 'pos', the PAGA positions (adata.uns['paga'])\n",
      "WARNING: saving figure to file /media/xinyi/dcis2idc/plots/cnnvaeexp0/cluster_alltrain_reordered/minibatchkmean_ncluster8n_pcs50epoch311_plottingIdx_progBalanced_0_subcluster_all/gh2ax/pagagraphgh2ax_log_Atypical hyperplasia_allcells.png\n",
      "WARNING: saving figure to file /media/xinyi/dcis2idc/plots/cnnvaeexp0/cluster_alltrain_reordered/minibatchkmean_ncluster8n_pcs50epoch311_plottingIdx_progBalanced_0_subcluster_all/gh2ax/umapgraph_umapgh2ax_log_Atypical hyperplasia.png\n",
      "--> added 'pos', the PAGA positions (adata.uns['paga'])\n",
      "WARNING: saving figure to file /media/xinyi/dcis2idc/plots/cnnvaeexp0/cluster_alltrain_reordered/minibatchkmean_ncluster8n_pcs50epoch311_plottingIdx_progBalanced_0_subcluster_all/gh2ax/pagagraphgh2ax_log_Atypical hyperplasia_allcells_PosFrac.png\n"
     ]
    },
    {
     "name": "stderr",
     "output_type": "stream",
     "text": [
      "/home/xinyi/.local/lib/python3.8/site-packages/anndata/compat/_overloaded_dict.py:106: ImplicitModificationWarning: Trying to modify attribute `._uns` of view, initializing view as actual.\n",
      "  self.data[key] = value\n"
     ]
    },
    {
     "name": "stdout",
     "output_type": "stream",
     "text": [
      "--> added 'pos', the PAGA positions (adata.uns['paga'])\n",
      "WARNING: saving figure to file /media/xinyi/dcis2idc/plots/cnnvaeexp0/cluster_alltrain_reordered/minibatchkmean_ncluster8n_pcs50epoch311_plottingIdx_progBalanced_0_subcluster_all/gh2ax/pagagraphgh2ax_log_Breast tissue_allcells.png\n",
      "WARNING: saving figure to file /media/xinyi/dcis2idc/plots/cnnvaeexp0/cluster_alltrain_reordered/minibatchkmean_ncluster8n_pcs50epoch311_plottingIdx_progBalanced_0_subcluster_all/gh2ax/umapgraph_umapgh2ax_log_Breast tissue.png\n",
      "--> added 'pos', the PAGA positions (adata.uns['paga'])\n",
      "WARNING: saving figure to file /media/xinyi/dcis2idc/plots/cnnvaeexp0/cluster_alltrain_reordered/minibatchkmean_ncluster8n_pcs50epoch311_plottingIdx_progBalanced_0_subcluster_all/gh2ax/pagagraphgh2ax_log_Breast tissue_allcells_PosFrac.png\n"
     ]
    },
    {
     "name": "stderr",
     "output_type": "stream",
     "text": [
      "/home/xinyi/.local/lib/python3.8/site-packages/anndata/compat/_overloaded_dict.py:106: ImplicitModificationWarning: Trying to modify attribute `._uns` of view, initializing view as actual.\n",
      "  self.data[key] = value\n"
     ]
    },
    {
     "name": "stdout",
     "output_type": "stream",
     "text": [
      "--> added 'pos', the PAGA positions (adata.uns['paga'])\n",
      "WARNING: saving figure to file /media/xinyi/dcis2idc/plots/cnnvaeexp0/cluster_alltrain_reordered/minibatchkmean_ncluster8n_pcs50epoch311_plottingIdx_progBalanced_0_subcluster_all/gh2ax/pagagraphgh2ax_log_Cancer adjacent normal breast tissue_allcells.png\n",
      "WARNING: saving figure to file /media/xinyi/dcis2idc/plots/cnnvaeexp0/cluster_alltrain_reordered/minibatchkmean_ncluster8n_pcs50epoch311_plottingIdx_progBalanced_0_subcluster_all/gh2ax/umapgraph_umapgh2ax_log_Cancer adjacent normal breast tissue.png\n",
      "--> added 'pos', the PAGA positions (adata.uns['paga'])\n",
      "WARNING: saving figure to file /media/xinyi/dcis2idc/plots/cnnvaeexp0/cluster_alltrain_reordered/minibatchkmean_ncluster8n_pcs50epoch311_plottingIdx_progBalanced_0_subcluster_all/gh2ax/pagagraphgh2ax_log_Cancer adjacent normal breast tissue_allcells_PosFrac.png\n"
     ]
    },
    {
     "name": "stderr",
     "output_type": "stream",
     "text": [
      "/home/xinyi/.local/lib/python3.8/site-packages/anndata/compat/_overloaded_dict.py:106: ImplicitModificationWarning: Trying to modify attribute `._uns` of view, initializing view as actual.\n",
      "  self.data[key] = value\n"
     ]
    },
    {
     "name": "stdout",
     "output_type": "stream",
     "text": [
      "--> added 'pos', the PAGA positions (adata.uns['paga'])\n",
      "WARNING: saving figure to file /media/xinyi/dcis2idc/plots/cnnvaeexp0/cluster_alltrain_reordered/minibatchkmean_ncluster8n_pcs50epoch311_plottingIdx_progBalanced_0_subcluster_all/gh2ax/pagagraphgh2ax_log_Hyperplasia_allcells.png\n",
      "WARNING: saving figure to file /media/xinyi/dcis2idc/plots/cnnvaeexp0/cluster_alltrain_reordered/minibatchkmean_ncluster8n_pcs50epoch311_plottingIdx_progBalanced_0_subcluster_all/gh2ax/umapgraph_umapgh2ax_log_Hyperplasia.png\n",
      "--> added 'pos', the PAGA positions (adata.uns['paga'])\n",
      "WARNING: saving figure to file /media/xinyi/dcis2idc/plots/cnnvaeexp0/cluster_alltrain_reordered/minibatchkmean_ncluster8n_pcs50epoch311_plottingIdx_progBalanced_0_subcluster_all/gh2ax/pagagraphgh2ax_log_Hyperplasia_allcells_PosFrac.png\n"
     ]
    },
    {
     "name": "stderr",
     "output_type": "stream",
     "text": [
      "/home/xinyi/.local/lib/python3.8/site-packages/anndata/compat/_overloaded_dict.py:106: ImplicitModificationWarning: Trying to modify attribute `._uns` of view, initializing view as actual.\n",
      "  self.data[key] = value\n"
     ]
    },
    {
     "name": "stdout",
     "output_type": "stream",
     "text": [
      "--> added 'pos', the PAGA positions (adata.uns['paga'])\n",
      "WARNING: saving figure to file /media/xinyi/dcis2idc/plots/cnnvaeexp0/cluster_alltrain_reordered/minibatchkmean_ncluster8n_pcs50epoch311_plottingIdx_progBalanced_0_subcluster_all/gh2ax/pagagraphgh2ax_log_Invasive ductal carcinoma_allcells.png\n",
      "WARNING: saving figure to file /media/xinyi/dcis2idc/plots/cnnvaeexp0/cluster_alltrain_reordered/minibatchkmean_ncluster8n_pcs50epoch311_plottingIdx_progBalanced_0_subcluster_all/gh2ax/umapgraph_umapgh2ax_log_Invasive ductal carcinoma.png\n",
      "--> added 'pos', the PAGA positions (adata.uns['paga'])\n",
      "WARNING: saving figure to file /media/xinyi/dcis2idc/plots/cnnvaeexp0/cluster_alltrain_reordered/minibatchkmean_ncluster8n_pcs50epoch311_plottingIdx_progBalanced_0_subcluster_all/gh2ax/pagagraphgh2ax_log_Invasive ductal carcinoma_allcells_PosFrac.png\n"
     ]
    },
    {
     "name": "stderr",
     "output_type": "stream",
     "text": [
      "/home/xinyi/.local/lib/python3.8/site-packages/anndata/compat/_overloaded_dict.py:106: ImplicitModificationWarning: Trying to modify attribute `._uns` of view, initializing view as actual.\n",
      "  self.data[key] = value\n"
     ]
    },
    {
     "name": "stdout",
     "output_type": "stream",
     "text": [
      "--> added 'pos', the PAGA positions (adata.uns['paga'])\n",
      "WARNING: saving figure to file /media/xinyi/dcis2idc/plots/cnnvaeexp0/cluster_alltrain_reordered/minibatchkmean_ncluster8n_pcs50epoch311_plottingIdx_progBalanced_0_subcluster_all/gh2ax/pagagraphgh2ax_log_Invasive ductal carcinoma (breast tissue)_allcells.png\n",
      "WARNING: saving figure to file /media/xinyi/dcis2idc/plots/cnnvaeexp0/cluster_alltrain_reordered/minibatchkmean_ncluster8n_pcs50epoch311_plottingIdx_progBalanced_0_subcluster_all/gh2ax/umapgraph_umapgh2ax_log_Invasive ductal carcinoma (breast tissue).png\n",
      "--> added 'pos', the PAGA positions (adata.uns['paga'])\n",
      "WARNING: saving figure to file /media/xinyi/dcis2idc/plots/cnnvaeexp0/cluster_alltrain_reordered/minibatchkmean_ncluster8n_pcs50epoch311_plottingIdx_progBalanced_0_subcluster_all/gh2ax/pagagraphgh2ax_log_Invasive ductal carcinoma (breast tissue)_allcells_PosFrac.png\n"
     ]
    }
   ],
   "source": [
    "#by pathology; exprs and %positive\n",
    "#changed paga plotting function to enable vmax and vmin\n",
    "#add single cell plots & use all cells -- use previously calculated graph in combined subcluster (neighbors=4)\n",
    "#log scale\n",
    "#thresh=1\n",
    "# nneighbors_list=[4,10] \n",
    "latent_adata.obs['prog']=progList\n",
    "vminlist={'aSMA':0,'collagen1':0,'cytokeratin':0,'gh2ax':0}\n",
    "vmaxlist={'aSMA':3.5,'collagen1':7.5,'cytokeratin':5.5,'gh2ax':4.6}\n",
    "vminlistFrac={'aSMA':0,'collagen1':0,'cytokeratin':0,'gh2ax':0}\n",
    "vmaxlistFrac={'aSMA':0.41,'collagen1':0.9,'cytokeratin':0.65,'gh2ax':0.6}\n",
    "# for v in np.unique(allvarnames):\n",
    "for v in vminlist.keys():\n",
    "    vmin=vminlist[v]\n",
    "    vmax=vmaxlist[v]\n",
    "    vminFrac=vminlistFrac[v]\n",
    "    vmaxFrac=vmaxlistFrac[v]\n",
    "    for prog in np.unique(progList[np.isfinite(latent_adata.obs[v+'log'])]):\n",
    "        vprog=v+'_log_'+prog\n",
    "        \n",
    "        if not os.path.exists(os.path.join(subclusterplotdir,v)):\n",
    "            os.mkdir(os.path.join(subclusterplotdir,v))\n",
    "        sc.settings.figdir=os.path.join(subclusterplotdir,v)\n",
    "        \n",
    "        latent_adata_sub=latent_adata[np.logical_and(np.isfinite(latent_adata.obs[v+'log'].to_numpy()),progList==prog)]\n",
    "        idxKeep=np.repeat(False,latent_adata_sub.shape[0])\n",
    "        for c in np.unique(latent_adata_sub.obs['kmeans_sub']):\n",
    "            if np.sum(latent_adata_sub.obs['kmeans_sub']==c)>minCell:\n",
    "                idxKeep=np.logical_or(idxKeep,latent_adata_sub.obs['kmeans_sub']==c)\n",
    "        latent_adata_sub=latent_adata_sub[idxKeep]\n",
    "#         subsizes=np.zeros(np.unique(kmeans_sub).size)\n",
    "        nonzeroSub,counts=np.unique(latent_adata_sub.obs['kmeans_sub'],return_counts=True)\n",
    "#         for sidx in range(nonzeroSub.size):\n",
    "#             subsizes[np.unique(kmeans_sub)==nonzeroSub[sidx]]=counts[sidx]\n",
    "        latent_adata_sub.uns['kmeans_sub_sizes']=counts\n",
    "        _,idxKeep,_=np.intersect1d(np.unique(kmeans_sub),nonzeroSub,return_indices=True)\n",
    "        latent_adata_sub.uns['paga']['connectivities']=latent_adata.uns['paga']['connectivities'][idxKeep][:,idxKeep]\n",
    "        \n",
    "        sc.pl.paga(latent_adata_sub, color=[v+'log'],pos=trainPagaPos[idxKeep],node_size_power=1,fontoutline=0.5,save='graph'+vprog+'_allcells.png',show=False,random_state=6,vmin=vmin,vmax=vmax,cmap='jet')\n",
    "#         sc.tl.umap(latent_adata, init_pos='paga')\n",
    "        sc.pl.umap(latent_adata_sub,color=[v+'log'],legend_loc='on data',save='graph_umap'+vprog+'.png',show=False,size=3,vmin=vmin,vmax=vmax,cmap='jet')\n",
    "\n",
    "        sc.pl.paga(latent_adata_sub, color=[v+'binary'],pos=trainPagaPos[idxKeep],node_size_power=1,fontoutline=0.5,save='graph'+vprog+'_allcells_PosFrac.png',show=False,random_state=6,vmin=vminFrac,vmax=vmaxFrac,cmap='jet')\n",
    "\n"
   ]
  },
  {
   "cell_type": "code",
   "execution_count": 211,
   "metadata": {
    "scrolled": true
   },
   "outputs": [
    {
     "data": {
      "text/plain": [
       "760395"
      ]
     },
     "execution_count": 211,
     "metadata": {},
     "output_type": "execute_result"
    }
   ],
   "source": [
    "latent_adata_sub=None\n",
    "gc.collect()"
   ]
  },
  {
   "cell_type": "markdown",
   "metadata": {},
   "source": [
    "##### separate protein by duct"
   ]
  },
  {
   "cell_type": "markdown",
   "metadata": {},
   "source": [
    "#### add distance to duct - 0 is in duct"
   ]
  },
  {
   "cell_type": "code",
   "execution_count": 19,
   "metadata": {
    "scrolled": true
   },
   "outputs": [
    {
     "name": "stdout",
     "output_type": "stream",
     "text": [
      "br1003a_1_cytokeratin_555_aSMA_647_hoechst_I2\n",
      "br1003a_1_cytokeratin_555_aSMA_647_hoechst_I3\n",
      "br1003a_1_cytokeratin_555_aSMA_647_hoechst_I7\n",
      "br1003a_1_cytokeratin_555_aSMA_647_hoechst_I8\n",
      "br1003a_1_cytokeratin_555_aSMA_647_hoechst_I9\n",
      "br301_4_cytokeratin_555_aSMA_647_hoechst_A1\n",
      "br301_4_cytokeratin_555_aSMA_647_hoechst_A2\n",
      "br301_4_cytokeratin_555_aSMA_647_hoechst_A3\n",
      "br301_4_cytokeratin_555_aSMA_647_hoechst_A4\n",
      "br301_4_cytokeratin_555_aSMA_647_hoechst_A5\n",
      "br301_4_cytokeratin_555_aSMA_647_hoechst_A6\n",
      "br301_4_cytokeratin_555_aSMA_647_hoechst_B1\n",
      "br301_4_cytokeratin_555_aSMA_647_hoechst_B2\n",
      "br301_4_cytokeratin_555_aSMA_647_hoechst_B3\n",
      "br301_4_cytokeratin_555_aSMA_647_hoechst_B4\n",
      "br301_4_cytokeratin_555_aSMA_647_hoechst_B5\n",
      "br301_4_cytokeratin_555_aSMA_647_hoechst_B6\n",
      "br301_4_cytokeratin_555_aSMA_647_hoechst_C1\n",
      "br301_4_cytokeratin_555_aSMA_647_hoechst_C2\n",
      "br301_4_cytokeratin_555_aSMA_647_hoechst_C3\n",
      "br301_4_cytokeratin_555_aSMA_647_hoechst_C4\n",
      "br301_4_cytokeratin_555_aSMA_647_hoechst_C5\n",
      "br301_4_cytokeratin_555_aSMA_647_hoechst_C6\n",
      "br301_4_cytokeratin_555_aSMA_647_hoechst_D1\n",
      "br301_4_cytokeratin_555_aSMA_647_hoechst_D2\n",
      "br301_4_cytokeratin_555_aSMA_647_hoechst_D3\n",
      "br301_4_cytokeratin_555_aSMA_647_hoechst_D4\n",
      "br301_4_cytokeratin_555_aSMA_647_hoechst_D5\n",
      "br301_4_cytokeratin_555_aSMA_647_hoechst_D6\n",
      "br301_4_cytokeratin_555_aSMA_647_hoechst_E1\n",
      "br301_4_cytokeratin_555_aSMA_647_hoechst_E2\n",
      "br301_4_cytokeratin_555_aSMA_647_hoechst_E3\n",
      "br301_4_cytokeratin_555_aSMA_647_hoechst_E4\n",
      "br301_4_cytokeratin_555_aSMA_647_hoechst_E5\n",
      "br301_4_cytokeratin_555_aSMA_647_hoechst_E6\n",
      "br8018a_1_cytokeratin_555_aSMA_647_hoechst_F2\n",
      "br8018a_1_cytokeratin_555_aSMA_647_hoechst_F7\n"
     ]
    }
   ],
   "source": [
    "import sklearn.metrics \n",
    "with open(os.path.join(datadir,'processed','train_cnnvae_coord'), 'rb') as output:\n",
    "    coordlist=pickle.load(output)\n",
    "    \n",
    "#distance to nearest cell in duct\n",
    "uniquenames,nameIdx=np.unique(allImgNames,return_index=True)\n",
    "\n",
    "allstats=None\n",
    "alllabels=None\n",
    "allprog=None\n",
    "\n",
    "allidx=None\n",
    "idx_temp=np.arange(allImgNames.size)\n",
    "for sidx in range(uniquenames.size):\n",
    "    s=np.unique(allImgNames)[sidx]\n",
    "    \n",
    "    path_s=os.path.join(datadir,'_'.join(s.split('_')[:-1]),'duct_nuc_membership',s.split('_')[-1] +'.csv')\n",
    "    if not os.path.exists(path_s):\n",
    "        continue\n",
    "    print(s)\n",
    "    \n",
    "    plottingIdx_i_s=np.arange(allImgNames.size)[allImgNames==s]-nameIdx[sidx]\n",
    "    assert np.min(plottingIdx_i_s)>=0\n",
    "#         ssplit=s.split('_')\n",
    "    slabels=kmeans_sub[allImgNames==s]\n",
    "    \n",
    "    \n",
    "    sidx_plot=idx_temp[allImgNames==s]\n",
    "\n",
    "    if plottingIdx_i_s.size==0:\n",
    "        continue\n",
    "    assert np.min(plottingIdx_i_s)>=0\n",
    "\n",
    "    stats_s_all=pd.read_csv(path_s)\n",
    "    stats_s_all.index=stats_s_all.loc[:,'label']\n",
    "    stats_s=stats_s_all.loc[cellIDlist[s][plottingIdx_i_s],'int_median'].to_numpy()\n",
    "\n",
    "    stats_s_all=stats_s_all.loc[cellIDlist[s],'int_median'].to_numpy()\n",
    "    scoord_all_duct=coordlist[allImgNames==s][stats_s_all>0]\n",
    "\n",
    "#         ssplit=s.split('_')\n",
    "    sprog=progList[allImgNames==s]\n",
    "\n",
    "\n",
    "    scoord=coordlist[allImgNames==s][stats_s==0]\n",
    "\n",
    "    _,distS=sklearn.metrics.pairwise_distances_argmin_min(scoord,scoord_all_duct)\n",
    "    distAll=np.zeros(stats_s.shape[0])\n",
    "    distAll[stats_s==0]=distS\n",
    "#     distances=np.concatenate((distances,distS))\n",
    "#     sublabels=np.concatenate((sublabels,slabels[stats_s==0]))\n",
    "#     subProgs=np.concatenate((subProgs,sprog[stats_s==0]))\n",
    "\n",
    "    if allstats is None:\n",
    "        allstats=np.copy(distAll)\n",
    "        alllabels=np.copy(slabels)\n",
    "        allprog=np.copy(sprog)\n",
    "        allidx=np.copy(sidx_plot)\n",
    "    else:\n",
    "        allstats=np.concatenate((allstats,distAll))\n",
    "        alllabels=np.concatenate((alllabels,np.copy(slabels)))\n",
    "        allprog=np.concatenate((allprog,sprog))\n",
    "        allidx=np.concatenate((allidx,sidx_plot))\n",
    "            \n",
    "            "
   ]
  },
  {
   "cell_type": "code",
   "execution_count": 20,
   "metadata": {},
   "outputs": [],
   "source": [
    "v='dist2duct_log'\n",
    "protvalues=np.repeat(np.nan,latent_adata.shape[0])\n",
    "protvalues[allidx]=np.log(allstats+1)\n",
    "latent_adata.obs[v]=protvalues\n",
    "\n",
    "v='outDuct'\n",
    "protvalues=np.repeat(np.nan,latent_adata.shape[0])\n",
    "allstats_binary=np.zeros(allstats.size)\n",
    "allstats_binary[allstats>0]=1\n",
    "protvalues[allidx]=allstats_binary\n",
    "latent_adata.obs[v]=protvalues\n",
    "\n",
    "v='dist2duct_log_outOnly'\n",
    "protvalues=np.repeat(np.nan,latent_adata.shape[0])\n",
    "protvalues[allidx[allstats>0]]=np.log(allstats[allstats>0]+1)\n",
    "latent_adata.obs[v]=protvalues"
   ]
  },
  {
   "cell_type": "code",
   "execution_count": 213,
   "metadata": {
    "scrolled": true
   },
   "outputs": [
    {
     "name": "stderr",
     "output_type": "stream",
     "text": [
      "/home/xinyi/.local/lib/python3.8/site-packages/anndata/compat/_overloaded_dict.py:106: ImplicitModificationWarning: Trying to modify attribute `._uns` of view, initializing view as actual.\n",
      "  self.data[key] = value\n"
     ]
    },
    {
     "name": "stdout",
     "output_type": "stream",
     "text": [
      "--> added 'pos', the PAGA positions (adata.uns['paga'])\n",
      "WARNING: saving figure to file /media/xinyi/dcis2idc/plots/cnnvaeexp0/cluster_alltrain_reordered/minibatchkmean_ncluster8n_pcs50epoch311_plottingIdx_progBalanced_0_subcluster_all/aSMA/duct/pagagraphaSMA_log_Breast tissue_induct_allcells.png\n",
      "WARNING: saving figure to file /media/xinyi/dcis2idc/plots/cnnvaeexp0/cluster_alltrain_reordered/minibatchkmean_ncluster8n_pcs50epoch311_plottingIdx_progBalanced_0_subcluster_all/aSMA/duct/umapgraph_umapaSMA_log_Breast tissue_induct.png\n",
      "--> added 'pos', the PAGA positions (adata.uns['paga'])\n",
      "WARNING: saving figure to file /media/xinyi/dcis2idc/plots/cnnvaeexp0/cluster_alltrain_reordered/minibatchkmean_ncluster8n_pcs50epoch311_plottingIdx_progBalanced_0_subcluster_all/aSMA/duct/pagagraphaSMA_log_Breast tissue_induct_allcells_PosFrac.png\n"
     ]
    },
    {
     "name": "stderr",
     "output_type": "stream",
     "text": [
      "/home/xinyi/.local/lib/python3.8/site-packages/anndata/compat/_overloaded_dict.py:106: ImplicitModificationWarning: Trying to modify attribute `._uns` of view, initializing view as actual.\n",
      "  self.data[key] = value\n"
     ]
    },
    {
     "name": "stdout",
     "output_type": "stream",
     "text": [
      "--> added 'pos', the PAGA positions (adata.uns['paga'])\n",
      "WARNING: saving figure to file /media/xinyi/dcis2idc/plots/cnnvaeexp0/cluster_alltrain_reordered/minibatchkmean_ncluster8n_pcs50epoch311_plottingIdx_progBalanced_0_subcluster_all/aSMA/duct/pagagraphaSMA_log_Breast tissue_outduct_allcells.png\n",
      "WARNING: saving figure to file /media/xinyi/dcis2idc/plots/cnnvaeexp0/cluster_alltrain_reordered/minibatchkmean_ncluster8n_pcs50epoch311_plottingIdx_progBalanced_0_subcluster_all/aSMA/duct/umapgraph_umapaSMA_log_Breast tissue_outduct.png\n",
      "--> added 'pos', the PAGA positions (adata.uns['paga'])\n",
      "WARNING: saving figure to file /media/xinyi/dcis2idc/plots/cnnvaeexp0/cluster_alltrain_reordered/minibatchkmean_ncluster8n_pcs50epoch311_plottingIdx_progBalanced_0_subcluster_all/aSMA/duct/pagagraphaSMA_log_Breast tissue_outduct_allcells_PosFrac.png\n"
     ]
    },
    {
     "name": "stderr",
     "output_type": "stream",
     "text": [
      "/home/xinyi/.local/lib/python3.8/site-packages/anndata/compat/_overloaded_dict.py:106: ImplicitModificationWarning: Trying to modify attribute `._uns` of view, initializing view as actual.\n",
      "  self.data[key] = value\n"
     ]
    },
    {
     "name": "stdout",
     "output_type": "stream",
     "text": [
      "--> added 'pos', the PAGA positions (adata.uns['paga'])\n",
      "WARNING: saving figure to file /media/xinyi/dcis2idc/plots/cnnvaeexp0/cluster_alltrain_reordered/minibatchkmean_ncluster8n_pcs50epoch311_plottingIdx_progBalanced_0_subcluster_all/aSMA/duct/pagagraphaSMA_log_Ductal carcinoma in situ_induct_allcells.png\n",
      "WARNING: saving figure to file /media/xinyi/dcis2idc/plots/cnnvaeexp0/cluster_alltrain_reordered/minibatchkmean_ncluster8n_pcs50epoch311_plottingIdx_progBalanced_0_subcluster_all/aSMA/duct/umapgraph_umapaSMA_log_Ductal carcinoma in situ_induct.png\n",
      "--> added 'pos', the PAGA positions (adata.uns['paga'])\n",
      "WARNING: saving figure to file /media/xinyi/dcis2idc/plots/cnnvaeexp0/cluster_alltrain_reordered/minibatchkmean_ncluster8n_pcs50epoch311_plottingIdx_progBalanced_0_subcluster_all/aSMA/duct/pagagraphaSMA_log_Ductal carcinoma in situ_induct_allcells_PosFrac.png\n"
     ]
    },
    {
     "name": "stderr",
     "output_type": "stream",
     "text": [
      "/home/xinyi/.local/lib/python3.8/site-packages/anndata/compat/_overloaded_dict.py:106: ImplicitModificationWarning: Trying to modify attribute `._uns` of view, initializing view as actual.\n",
      "  self.data[key] = value\n"
     ]
    },
    {
     "name": "stdout",
     "output_type": "stream",
     "text": [
      "--> added 'pos', the PAGA positions (adata.uns['paga'])\n",
      "WARNING: saving figure to file /media/xinyi/dcis2idc/plots/cnnvaeexp0/cluster_alltrain_reordered/minibatchkmean_ncluster8n_pcs50epoch311_plottingIdx_progBalanced_0_subcluster_all/aSMA/duct/pagagraphaSMA_log_Ductal carcinoma in situ_outduct_allcells.png\n",
      "WARNING: saving figure to file /media/xinyi/dcis2idc/plots/cnnvaeexp0/cluster_alltrain_reordered/minibatchkmean_ncluster8n_pcs50epoch311_plottingIdx_progBalanced_0_subcluster_all/aSMA/duct/umapgraph_umapaSMA_log_Ductal carcinoma in situ_outduct.png\n",
      "--> added 'pos', the PAGA positions (adata.uns['paga'])\n",
      "WARNING: saving figure to file /media/xinyi/dcis2idc/plots/cnnvaeexp0/cluster_alltrain_reordered/minibatchkmean_ncluster8n_pcs50epoch311_plottingIdx_progBalanced_0_subcluster_all/aSMA/duct/pagagraphaSMA_log_Ductal carcinoma in situ_outduct_allcells_PosFrac.png\n"
     ]
    },
    {
     "name": "stderr",
     "output_type": "stream",
     "text": [
      "/home/xinyi/.local/lib/python3.8/site-packages/anndata/compat/_overloaded_dict.py:106: ImplicitModificationWarning: Trying to modify attribute `._uns` of view, initializing view as actual.\n",
      "  self.data[key] = value\n"
     ]
    },
    {
     "name": "stdout",
     "output_type": "stream",
     "text": [
      "--> added 'pos', the PAGA positions (adata.uns['paga'])\n",
      "WARNING: saving figure to file /media/xinyi/dcis2idc/plots/cnnvaeexp0/cluster_alltrain_reordered/minibatchkmean_ncluster8n_pcs50epoch311_plottingIdx_progBalanced_0_subcluster_all/aSMA/duct/pagagraphaSMA_log_Ductal carcinoma in situ and breast tissue_induct_allcells.png\n",
      "WARNING: saving figure to file /media/xinyi/dcis2idc/plots/cnnvaeexp0/cluster_alltrain_reordered/minibatchkmean_ncluster8n_pcs50epoch311_plottingIdx_progBalanced_0_subcluster_all/aSMA/duct/umapgraph_umapaSMA_log_Ductal carcinoma in situ and breast tissue_induct.png\n",
      "--> added 'pos', the PAGA positions (adata.uns['paga'])\n",
      "WARNING: saving figure to file /media/xinyi/dcis2idc/plots/cnnvaeexp0/cluster_alltrain_reordered/minibatchkmean_ncluster8n_pcs50epoch311_plottingIdx_progBalanced_0_subcluster_all/aSMA/duct/pagagraphaSMA_log_Ductal carcinoma in situ and breast tissue_induct_allcells_PosFrac.png\n"
     ]
    },
    {
     "name": "stderr",
     "output_type": "stream",
     "text": [
      "/home/xinyi/.local/lib/python3.8/site-packages/anndata/compat/_overloaded_dict.py:106: ImplicitModificationWarning: Trying to modify attribute `._uns` of view, initializing view as actual.\n",
      "  self.data[key] = value\n"
     ]
    },
    {
     "name": "stdout",
     "output_type": "stream",
     "text": [
      "--> added 'pos', the PAGA positions (adata.uns['paga'])\n",
      "WARNING: saving figure to file /media/xinyi/dcis2idc/plots/cnnvaeexp0/cluster_alltrain_reordered/minibatchkmean_ncluster8n_pcs50epoch311_plottingIdx_progBalanced_0_subcluster_all/aSMA/duct/pagagraphaSMA_log_Ductal carcinoma in situ and breast tissue_outduct_allcells.png\n",
      "WARNING: saving figure to file /media/xinyi/dcis2idc/plots/cnnvaeexp0/cluster_alltrain_reordered/minibatchkmean_ncluster8n_pcs50epoch311_plottingIdx_progBalanced_0_subcluster_all/aSMA/duct/umapgraph_umapaSMA_log_Ductal carcinoma in situ and breast tissue_outduct.png\n",
      "--> added 'pos', the PAGA positions (adata.uns['paga'])\n",
      "WARNING: saving figure to file /media/xinyi/dcis2idc/plots/cnnvaeexp0/cluster_alltrain_reordered/minibatchkmean_ncluster8n_pcs50epoch311_plottingIdx_progBalanced_0_subcluster_all/aSMA/duct/pagagraphaSMA_log_Ductal carcinoma in situ and breast tissue_outduct_allcells_PosFrac.png\n"
     ]
    },
    {
     "name": "stderr",
     "output_type": "stream",
     "text": [
      "/home/xinyi/.local/lib/python3.8/site-packages/anndata/compat/_overloaded_dict.py:106: ImplicitModificationWarning: Trying to modify attribute `._uns` of view, initializing view as actual.\n",
      "  self.data[key] = value\n"
     ]
    },
    {
     "name": "stdout",
     "output_type": "stream",
     "text": [
      "--> added 'pos', the PAGA positions (adata.uns['paga'])\n",
      "WARNING: saving figure to file /media/xinyi/dcis2idc/plots/cnnvaeexp0/cluster_alltrain_reordered/minibatchkmean_ncluster8n_pcs50epoch311_plottingIdx_progBalanced_0_subcluster_all/aSMA/duct/pagagraphaSMA_log_Ductal carcinoma in situ with early infiltratio_induct_allcells.png\n",
      "WARNING: saving figure to file /media/xinyi/dcis2idc/plots/cnnvaeexp0/cluster_alltrain_reordered/minibatchkmean_ncluster8n_pcs50epoch311_plottingIdx_progBalanced_0_subcluster_all/aSMA/duct/umapgraph_umapaSMA_log_Ductal carcinoma in situ with early infiltratio_induct.png\n",
      "--> added 'pos', the PAGA positions (adata.uns['paga'])\n",
      "WARNING: saving figure to file /media/xinyi/dcis2idc/plots/cnnvaeexp0/cluster_alltrain_reordered/minibatchkmean_ncluster8n_pcs50epoch311_plottingIdx_progBalanced_0_subcluster_all/aSMA/duct/pagagraphaSMA_log_Ductal carcinoma in situ with early infiltratio_induct_allcells_PosFrac.png\n"
     ]
    },
    {
     "name": "stderr",
     "output_type": "stream",
     "text": [
      "/home/xinyi/.local/lib/python3.8/site-packages/anndata/compat/_overloaded_dict.py:106: ImplicitModificationWarning: Trying to modify attribute `._uns` of view, initializing view as actual.\n",
      "  self.data[key] = value\n"
     ]
    },
    {
     "name": "stdout",
     "output_type": "stream",
     "text": [
      "--> added 'pos', the PAGA positions (adata.uns['paga'])\n",
      "WARNING: saving figure to file /media/xinyi/dcis2idc/plots/cnnvaeexp0/cluster_alltrain_reordered/minibatchkmean_ncluster8n_pcs50epoch311_plottingIdx_progBalanced_0_subcluster_all/aSMA/duct/pagagraphaSMA_log_Ductal carcinoma in situ with early infiltratio_outduct_allcells.png\n",
      "WARNING: saving figure to file /media/xinyi/dcis2idc/plots/cnnvaeexp0/cluster_alltrain_reordered/minibatchkmean_ncluster8n_pcs50epoch311_plottingIdx_progBalanced_0_subcluster_all/aSMA/duct/umapgraph_umapaSMA_log_Ductal carcinoma in situ with early infiltratio_outduct.png\n",
      "--> added 'pos', the PAGA positions (adata.uns['paga'])\n",
      "WARNING: saving figure to file /media/xinyi/dcis2idc/plots/cnnvaeexp0/cluster_alltrain_reordered/minibatchkmean_ncluster8n_pcs50epoch311_plottingIdx_progBalanced_0_subcluster_all/aSMA/duct/pagagraphaSMA_log_Ductal carcinoma in situ with early infiltratio_outduct_allcells_PosFrac.png\n"
     ]
    },
    {
     "name": "stderr",
     "output_type": "stream",
     "text": [
      "/home/xinyi/.local/lib/python3.8/site-packages/anndata/compat/_overloaded_dict.py:106: ImplicitModificationWarning: Trying to modify attribute `._uns` of view, initializing view as actual.\n",
      "  self.data[key] = value\n"
     ]
    },
    {
     "name": "stdout",
     "output_type": "stream",
     "text": [
      "--> added 'pos', the PAGA positions (adata.uns['paga'])\n",
      "WARNING: saving figure to file /media/xinyi/dcis2idc/plots/cnnvaeexp0/cluster_alltrain_reordered/minibatchkmean_ncluster8n_pcs50epoch311_plottingIdx_progBalanced_0_subcluster_all/aSMA/duct/pagagraphaSMA_log_Invasive ductal carcinoma_induct_allcells.png\n",
      "WARNING: saving figure to file /media/xinyi/dcis2idc/plots/cnnvaeexp0/cluster_alltrain_reordered/minibatchkmean_ncluster8n_pcs50epoch311_plottingIdx_progBalanced_0_subcluster_all/aSMA/duct/umapgraph_umapaSMA_log_Invasive ductal carcinoma_induct.png\n",
      "--> added 'pos', the PAGA positions (adata.uns['paga'])\n",
      "WARNING: saving figure to file /media/xinyi/dcis2idc/plots/cnnvaeexp0/cluster_alltrain_reordered/minibatchkmean_ncluster8n_pcs50epoch311_plottingIdx_progBalanced_0_subcluster_all/aSMA/duct/pagagraphaSMA_log_Invasive ductal carcinoma_induct_allcells_PosFrac.png\n"
     ]
    },
    {
     "name": "stderr",
     "output_type": "stream",
     "text": [
      "/home/xinyi/.local/lib/python3.8/site-packages/anndata/compat/_overloaded_dict.py:106: ImplicitModificationWarning: Trying to modify attribute `._uns` of view, initializing view as actual.\n",
      "  self.data[key] = value\n"
     ]
    },
    {
     "name": "stdout",
     "output_type": "stream",
     "text": [
      "--> added 'pos', the PAGA positions (adata.uns['paga'])\n",
      "WARNING: saving figure to file /media/xinyi/dcis2idc/plots/cnnvaeexp0/cluster_alltrain_reordered/minibatchkmean_ncluster8n_pcs50epoch311_plottingIdx_progBalanced_0_subcluster_all/aSMA/duct/pagagraphaSMA_log_Invasive ductal carcinoma_outduct_allcells.png\n",
      "WARNING: saving figure to file /media/xinyi/dcis2idc/plots/cnnvaeexp0/cluster_alltrain_reordered/minibatchkmean_ncluster8n_pcs50epoch311_plottingIdx_progBalanced_0_subcluster_all/aSMA/duct/umapgraph_umapaSMA_log_Invasive ductal carcinoma_outduct.png\n",
      "--> added 'pos', the PAGA positions (adata.uns['paga'])\n",
      "WARNING: saving figure to file /media/xinyi/dcis2idc/plots/cnnvaeexp0/cluster_alltrain_reordered/minibatchkmean_ncluster8n_pcs50epoch311_plottingIdx_progBalanced_0_subcluster_all/aSMA/duct/pagagraphaSMA_log_Invasive ductal carcinoma_outduct_allcells_PosFrac.png\n"
     ]
    },
    {
     "name": "stderr",
     "output_type": "stream",
     "text": [
      "/home/xinyi/.local/lib/python3.8/site-packages/anndata/compat/_overloaded_dict.py:106: ImplicitModificationWarning: Trying to modify attribute `._uns` of view, initializing view as actual.\n",
      "  self.data[key] = value\n"
     ]
    },
    {
     "name": "stdout",
     "output_type": "stream",
     "text": [
      "--> added 'pos', the PAGA positions (adata.uns['paga'])\n",
      "WARNING: saving figure to file /media/xinyi/dcis2idc/plots/cnnvaeexp0/cluster_alltrain_reordered/minibatchkmean_ncluster8n_pcs50epoch311_plottingIdx_progBalanced_0_subcluster_all/aSMA/duct/pagagraphaSMA_log_Invasive ductal carcinoma and breast tissue_induct_allcells.png\n",
      "WARNING: saving figure to file /media/xinyi/dcis2idc/plots/cnnvaeexp0/cluster_alltrain_reordered/minibatchkmean_ncluster8n_pcs50epoch311_plottingIdx_progBalanced_0_subcluster_all/aSMA/duct/umapgraph_umapaSMA_log_Invasive ductal carcinoma and breast tissue_induct.png\n",
      "--> added 'pos', the PAGA positions (adata.uns['paga'])\n",
      "WARNING: saving figure to file /media/xinyi/dcis2idc/plots/cnnvaeexp0/cluster_alltrain_reordered/minibatchkmean_ncluster8n_pcs50epoch311_plottingIdx_progBalanced_0_subcluster_all/aSMA/duct/pagagraphaSMA_log_Invasive ductal carcinoma and breast tissue_induct_allcells_PosFrac.png\n"
     ]
    },
    {
     "name": "stderr",
     "output_type": "stream",
     "text": [
      "/home/xinyi/.local/lib/python3.8/site-packages/anndata/compat/_overloaded_dict.py:106: ImplicitModificationWarning: Trying to modify attribute `._uns` of view, initializing view as actual.\n",
      "  self.data[key] = value\n"
     ]
    },
    {
     "name": "stdout",
     "output_type": "stream",
     "text": [
      "--> added 'pos', the PAGA positions (adata.uns['paga'])\n",
      "WARNING: saving figure to file /media/xinyi/dcis2idc/plots/cnnvaeexp0/cluster_alltrain_reordered/minibatchkmean_ncluster8n_pcs50epoch311_plottingIdx_progBalanced_0_subcluster_all/aSMA/duct/pagagraphaSMA_log_Invasive ductal carcinoma and breast tissue_outduct_allcells.png\n",
      "WARNING: saving figure to file /media/xinyi/dcis2idc/plots/cnnvaeexp0/cluster_alltrain_reordered/minibatchkmean_ncluster8n_pcs50epoch311_plottingIdx_progBalanced_0_subcluster_all/aSMA/duct/umapgraph_umapaSMA_log_Invasive ductal carcinoma and breast tissue_outduct.png\n",
      "--> added 'pos', the PAGA positions (adata.uns['paga'])\n",
      "WARNING: saving figure to file /media/xinyi/dcis2idc/plots/cnnvaeexp0/cluster_alltrain_reordered/minibatchkmean_ncluster8n_pcs50epoch311_plottingIdx_progBalanced_0_subcluster_all/aSMA/duct/pagagraphaSMA_log_Invasive ductal carcinoma and breast tissue_outduct_allcells_PosFrac.png\n"
     ]
    },
    {
     "name": "stderr",
     "output_type": "stream",
     "text": [
      "/home/xinyi/.local/lib/python3.8/site-packages/anndata/compat/_overloaded_dict.py:106: ImplicitModificationWarning: Trying to modify attribute `._uns` of view, initializing view as actual.\n",
      "  self.data[key] = value\n"
     ]
    },
    {
     "name": "stdout",
     "output_type": "stream",
     "text": [
      "--> added 'pos', the PAGA positions (adata.uns['paga'])\n",
      "WARNING: saving figure to file /media/xinyi/dcis2idc/plots/cnnvaeexp0/cluster_alltrain_reordered/minibatchkmean_ncluster8n_pcs50epoch311_plottingIdx_progBalanced_0_subcluster_all/aSMA/duct/pagagraphaSMA_log_Micropapillary type ductal carcinoma in situ wi_induct_allcells.png\n",
      "WARNING: saving figure to file /media/xinyi/dcis2idc/plots/cnnvaeexp0/cluster_alltrain_reordered/minibatchkmean_ncluster8n_pcs50epoch311_plottingIdx_progBalanced_0_subcluster_all/aSMA/duct/umapgraph_umapaSMA_log_Micropapillary type ductal carcinoma in situ wi_induct.png\n",
      "--> added 'pos', the PAGA positions (adata.uns['paga'])\n",
      "WARNING: saving figure to file /media/xinyi/dcis2idc/plots/cnnvaeexp0/cluster_alltrain_reordered/minibatchkmean_ncluster8n_pcs50epoch311_plottingIdx_progBalanced_0_subcluster_all/aSMA/duct/pagagraphaSMA_log_Micropapillary type ductal carcinoma in situ wi_induct_allcells_PosFrac.png\n"
     ]
    },
    {
     "name": "stderr",
     "output_type": "stream",
     "text": [
      "/home/xinyi/.local/lib/python3.8/site-packages/anndata/compat/_overloaded_dict.py:106: ImplicitModificationWarning: Trying to modify attribute `._uns` of view, initializing view as actual.\n",
      "  self.data[key] = value\n"
     ]
    },
    {
     "name": "stdout",
     "output_type": "stream",
     "text": [
      "--> added 'pos', the PAGA positions (adata.uns['paga'])\n",
      "WARNING: saving figure to file /media/xinyi/dcis2idc/plots/cnnvaeexp0/cluster_alltrain_reordered/minibatchkmean_ncluster8n_pcs50epoch311_plottingIdx_progBalanced_0_subcluster_all/aSMA/duct/pagagraphaSMA_log_Micropapillary type ductal carcinoma in situ wi_outduct_allcells.png\n",
      "WARNING: saving figure to file /media/xinyi/dcis2idc/plots/cnnvaeexp0/cluster_alltrain_reordered/minibatchkmean_ncluster8n_pcs50epoch311_plottingIdx_progBalanced_0_subcluster_all/aSMA/duct/umapgraph_umapaSMA_log_Micropapillary type ductal carcinoma in situ wi_outduct.png\n",
      "--> added 'pos', the PAGA positions (adata.uns['paga'])\n",
      "WARNING: saving figure to file /media/xinyi/dcis2idc/plots/cnnvaeexp0/cluster_alltrain_reordered/minibatchkmean_ncluster8n_pcs50epoch311_plottingIdx_progBalanced_0_subcluster_all/aSMA/duct/pagagraphaSMA_log_Micropapillary type ductal carcinoma in situ wi_outduct_allcells_PosFrac.png\n"
     ]
    },
    {
     "name": "stderr",
     "output_type": "stream",
     "text": [
      "/home/xinyi/.local/lib/python3.8/site-packages/anndata/compat/_overloaded_dict.py:106: ImplicitModificationWarning: Trying to modify attribute `._uns` of view, initializing view as actual.\n",
      "  self.data[key] = value\n"
     ]
    },
    {
     "name": "stdout",
     "output_type": "stream",
     "text": [
      "--> added 'pos', the PAGA positions (adata.uns['paga'])\n",
      "WARNING: saving figure to file /media/xinyi/dcis2idc/plots/cnnvaeexp0/cluster_alltrain_reordered/minibatchkmean_ncluster8n_pcs50epoch311_plottingIdx_progBalanced_0_subcluster_all/cytokeratin/duct/pagagraphcytokeratin_log_Breast tissue_induct_allcells.png\n",
      "WARNING: saving figure to file /media/xinyi/dcis2idc/plots/cnnvaeexp0/cluster_alltrain_reordered/minibatchkmean_ncluster8n_pcs50epoch311_plottingIdx_progBalanced_0_subcluster_all/cytokeratin/duct/umapgraph_umapcytokeratin_log_Breast tissue_induct.png\n",
      "--> added 'pos', the PAGA positions (adata.uns['paga'])\n",
      "WARNING: saving figure to file /media/xinyi/dcis2idc/plots/cnnvaeexp0/cluster_alltrain_reordered/minibatchkmean_ncluster8n_pcs50epoch311_plottingIdx_progBalanced_0_subcluster_all/cytokeratin/duct/pagagraphcytokeratin_log_Breast tissue_induct_allcells_PosFrac.png\n"
     ]
    },
    {
     "name": "stderr",
     "output_type": "stream",
     "text": [
      "/home/xinyi/.local/lib/python3.8/site-packages/anndata/compat/_overloaded_dict.py:106: ImplicitModificationWarning: Trying to modify attribute `._uns` of view, initializing view as actual.\n",
      "  self.data[key] = value\n"
     ]
    },
    {
     "name": "stdout",
     "output_type": "stream",
     "text": [
      "--> added 'pos', the PAGA positions (adata.uns['paga'])\n",
      "WARNING: saving figure to file /media/xinyi/dcis2idc/plots/cnnvaeexp0/cluster_alltrain_reordered/minibatchkmean_ncluster8n_pcs50epoch311_plottingIdx_progBalanced_0_subcluster_all/cytokeratin/duct/pagagraphcytokeratin_log_Breast tissue_outduct_allcells.png\n",
      "WARNING: saving figure to file /media/xinyi/dcis2idc/plots/cnnvaeexp0/cluster_alltrain_reordered/minibatchkmean_ncluster8n_pcs50epoch311_plottingIdx_progBalanced_0_subcluster_all/cytokeratin/duct/umapgraph_umapcytokeratin_log_Breast tissue_outduct.png\n",
      "--> added 'pos', the PAGA positions (adata.uns['paga'])\n",
      "WARNING: saving figure to file /media/xinyi/dcis2idc/plots/cnnvaeexp0/cluster_alltrain_reordered/minibatchkmean_ncluster8n_pcs50epoch311_plottingIdx_progBalanced_0_subcluster_all/cytokeratin/duct/pagagraphcytokeratin_log_Breast tissue_outduct_allcells_PosFrac.png\n"
     ]
    },
    {
     "name": "stderr",
     "output_type": "stream",
     "text": [
      "/home/xinyi/.local/lib/python3.8/site-packages/anndata/compat/_overloaded_dict.py:106: ImplicitModificationWarning: Trying to modify attribute `._uns` of view, initializing view as actual.\n",
      "  self.data[key] = value\n"
     ]
    },
    {
     "name": "stdout",
     "output_type": "stream",
     "text": [
      "--> added 'pos', the PAGA positions (adata.uns['paga'])\n",
      "WARNING: saving figure to file /media/xinyi/dcis2idc/plots/cnnvaeexp0/cluster_alltrain_reordered/minibatchkmean_ncluster8n_pcs50epoch311_plottingIdx_progBalanced_0_subcluster_all/cytokeratin/duct/pagagraphcytokeratin_log_Ductal carcinoma in situ_induct_allcells.png\n",
      "WARNING: saving figure to file /media/xinyi/dcis2idc/plots/cnnvaeexp0/cluster_alltrain_reordered/minibatchkmean_ncluster8n_pcs50epoch311_plottingIdx_progBalanced_0_subcluster_all/cytokeratin/duct/umapgraph_umapcytokeratin_log_Ductal carcinoma in situ_induct.png\n",
      "--> added 'pos', the PAGA positions (adata.uns['paga'])\n",
      "WARNING: saving figure to file /media/xinyi/dcis2idc/plots/cnnvaeexp0/cluster_alltrain_reordered/minibatchkmean_ncluster8n_pcs50epoch311_plottingIdx_progBalanced_0_subcluster_all/cytokeratin/duct/pagagraphcytokeratin_log_Ductal carcinoma in situ_induct_allcells_PosFrac.png\n"
     ]
    },
    {
     "name": "stderr",
     "output_type": "stream",
     "text": [
      "/home/xinyi/.local/lib/python3.8/site-packages/anndata/compat/_overloaded_dict.py:106: ImplicitModificationWarning: Trying to modify attribute `._uns` of view, initializing view as actual.\n",
      "  self.data[key] = value\n"
     ]
    },
    {
     "name": "stdout",
     "output_type": "stream",
     "text": [
      "--> added 'pos', the PAGA positions (adata.uns['paga'])\n",
      "WARNING: saving figure to file /media/xinyi/dcis2idc/plots/cnnvaeexp0/cluster_alltrain_reordered/minibatchkmean_ncluster8n_pcs50epoch311_plottingIdx_progBalanced_0_subcluster_all/cytokeratin/duct/pagagraphcytokeratin_log_Ductal carcinoma in situ_outduct_allcells.png\n",
      "WARNING: saving figure to file /media/xinyi/dcis2idc/plots/cnnvaeexp0/cluster_alltrain_reordered/minibatchkmean_ncluster8n_pcs50epoch311_plottingIdx_progBalanced_0_subcluster_all/cytokeratin/duct/umapgraph_umapcytokeratin_log_Ductal carcinoma in situ_outduct.png\n",
      "--> added 'pos', the PAGA positions (adata.uns['paga'])\n",
      "WARNING: saving figure to file /media/xinyi/dcis2idc/plots/cnnvaeexp0/cluster_alltrain_reordered/minibatchkmean_ncluster8n_pcs50epoch311_plottingIdx_progBalanced_0_subcluster_all/cytokeratin/duct/pagagraphcytokeratin_log_Ductal carcinoma in situ_outduct_allcells_PosFrac.png\n"
     ]
    },
    {
     "name": "stderr",
     "output_type": "stream",
     "text": [
      "/home/xinyi/.local/lib/python3.8/site-packages/anndata/compat/_overloaded_dict.py:106: ImplicitModificationWarning: Trying to modify attribute `._uns` of view, initializing view as actual.\n",
      "  self.data[key] = value\n"
     ]
    },
    {
     "name": "stdout",
     "output_type": "stream",
     "text": [
      "--> added 'pos', the PAGA positions (adata.uns['paga'])\n",
      "WARNING: saving figure to file /media/xinyi/dcis2idc/plots/cnnvaeexp0/cluster_alltrain_reordered/minibatchkmean_ncluster8n_pcs50epoch311_plottingIdx_progBalanced_0_subcluster_all/cytokeratin/duct/pagagraphcytokeratin_log_Ductal carcinoma in situ and breast tissue_induct_allcells.png\n",
      "WARNING: saving figure to file /media/xinyi/dcis2idc/plots/cnnvaeexp0/cluster_alltrain_reordered/minibatchkmean_ncluster8n_pcs50epoch311_plottingIdx_progBalanced_0_subcluster_all/cytokeratin/duct/umapgraph_umapcytokeratin_log_Ductal carcinoma in situ and breast tissue_induct.png\n",
      "--> added 'pos', the PAGA positions (adata.uns['paga'])\n",
      "WARNING: saving figure to file /media/xinyi/dcis2idc/plots/cnnvaeexp0/cluster_alltrain_reordered/minibatchkmean_ncluster8n_pcs50epoch311_plottingIdx_progBalanced_0_subcluster_all/cytokeratin/duct/pagagraphcytokeratin_log_Ductal carcinoma in situ and breast tissue_induct_allcells_PosFrac.png\n"
     ]
    },
    {
     "name": "stderr",
     "output_type": "stream",
     "text": [
      "/home/xinyi/.local/lib/python3.8/site-packages/anndata/compat/_overloaded_dict.py:106: ImplicitModificationWarning: Trying to modify attribute `._uns` of view, initializing view as actual.\n",
      "  self.data[key] = value\n"
     ]
    },
    {
     "name": "stdout",
     "output_type": "stream",
     "text": [
      "--> added 'pos', the PAGA positions (adata.uns['paga'])\n",
      "WARNING: saving figure to file /media/xinyi/dcis2idc/plots/cnnvaeexp0/cluster_alltrain_reordered/minibatchkmean_ncluster8n_pcs50epoch311_plottingIdx_progBalanced_0_subcluster_all/cytokeratin/duct/pagagraphcytokeratin_log_Ductal carcinoma in situ and breast tissue_outduct_allcells.png\n",
      "WARNING: saving figure to file /media/xinyi/dcis2idc/plots/cnnvaeexp0/cluster_alltrain_reordered/minibatchkmean_ncluster8n_pcs50epoch311_plottingIdx_progBalanced_0_subcluster_all/cytokeratin/duct/umapgraph_umapcytokeratin_log_Ductal carcinoma in situ and breast tissue_outduct.png\n",
      "--> added 'pos', the PAGA positions (adata.uns['paga'])\n",
      "WARNING: saving figure to file /media/xinyi/dcis2idc/plots/cnnvaeexp0/cluster_alltrain_reordered/minibatchkmean_ncluster8n_pcs50epoch311_plottingIdx_progBalanced_0_subcluster_all/cytokeratin/duct/pagagraphcytokeratin_log_Ductal carcinoma in situ and breast tissue_outduct_allcells_PosFrac.png\n"
     ]
    },
    {
     "name": "stderr",
     "output_type": "stream",
     "text": [
      "/home/xinyi/.local/lib/python3.8/site-packages/anndata/compat/_overloaded_dict.py:106: ImplicitModificationWarning: Trying to modify attribute `._uns` of view, initializing view as actual.\n",
      "  self.data[key] = value\n"
     ]
    },
    {
     "name": "stdout",
     "output_type": "stream",
     "text": [
      "--> added 'pos', the PAGA positions (adata.uns['paga'])\n",
      "WARNING: saving figure to file /media/xinyi/dcis2idc/plots/cnnvaeexp0/cluster_alltrain_reordered/minibatchkmean_ncluster8n_pcs50epoch311_plottingIdx_progBalanced_0_subcluster_all/cytokeratin/duct/pagagraphcytokeratin_log_Ductal carcinoma in situ with early infiltratio_induct_allcells.png\n",
      "WARNING: saving figure to file /media/xinyi/dcis2idc/plots/cnnvaeexp0/cluster_alltrain_reordered/minibatchkmean_ncluster8n_pcs50epoch311_plottingIdx_progBalanced_0_subcluster_all/cytokeratin/duct/umapgraph_umapcytokeratin_log_Ductal carcinoma in situ with early infiltratio_induct.png\n",
      "--> added 'pos', the PAGA positions (adata.uns['paga'])\n",
      "WARNING: saving figure to file /media/xinyi/dcis2idc/plots/cnnvaeexp0/cluster_alltrain_reordered/minibatchkmean_ncluster8n_pcs50epoch311_plottingIdx_progBalanced_0_subcluster_all/cytokeratin/duct/pagagraphcytokeratin_log_Ductal carcinoma in situ with early infiltratio_induct_allcells_PosFrac.png\n"
     ]
    },
    {
     "name": "stderr",
     "output_type": "stream",
     "text": [
      "/home/xinyi/.local/lib/python3.8/site-packages/anndata/compat/_overloaded_dict.py:106: ImplicitModificationWarning: Trying to modify attribute `._uns` of view, initializing view as actual.\n",
      "  self.data[key] = value\n"
     ]
    },
    {
     "name": "stdout",
     "output_type": "stream",
     "text": [
      "--> added 'pos', the PAGA positions (adata.uns['paga'])\n",
      "WARNING: saving figure to file /media/xinyi/dcis2idc/plots/cnnvaeexp0/cluster_alltrain_reordered/minibatchkmean_ncluster8n_pcs50epoch311_plottingIdx_progBalanced_0_subcluster_all/cytokeratin/duct/pagagraphcytokeratin_log_Ductal carcinoma in situ with early infiltratio_outduct_allcells.png\n",
      "WARNING: saving figure to file /media/xinyi/dcis2idc/plots/cnnvaeexp0/cluster_alltrain_reordered/minibatchkmean_ncluster8n_pcs50epoch311_plottingIdx_progBalanced_0_subcluster_all/cytokeratin/duct/umapgraph_umapcytokeratin_log_Ductal carcinoma in situ with early infiltratio_outduct.png\n",
      "--> added 'pos', the PAGA positions (adata.uns['paga'])\n",
      "WARNING: saving figure to file /media/xinyi/dcis2idc/plots/cnnvaeexp0/cluster_alltrain_reordered/minibatchkmean_ncluster8n_pcs50epoch311_plottingIdx_progBalanced_0_subcluster_all/cytokeratin/duct/pagagraphcytokeratin_log_Ductal carcinoma in situ with early infiltratio_outduct_allcells_PosFrac.png\n"
     ]
    },
    {
     "name": "stderr",
     "output_type": "stream",
     "text": [
      "/home/xinyi/.local/lib/python3.8/site-packages/anndata/compat/_overloaded_dict.py:106: ImplicitModificationWarning: Trying to modify attribute `._uns` of view, initializing view as actual.\n",
      "  self.data[key] = value\n"
     ]
    },
    {
     "name": "stdout",
     "output_type": "stream",
     "text": [
      "--> added 'pos', the PAGA positions (adata.uns['paga'])\n",
      "WARNING: saving figure to file /media/xinyi/dcis2idc/plots/cnnvaeexp0/cluster_alltrain_reordered/minibatchkmean_ncluster8n_pcs50epoch311_plottingIdx_progBalanced_0_subcluster_all/cytokeratin/duct/pagagraphcytokeratin_log_Invasive ductal carcinoma_induct_allcells.png\n",
      "WARNING: saving figure to file /media/xinyi/dcis2idc/plots/cnnvaeexp0/cluster_alltrain_reordered/minibatchkmean_ncluster8n_pcs50epoch311_plottingIdx_progBalanced_0_subcluster_all/cytokeratin/duct/umapgraph_umapcytokeratin_log_Invasive ductal carcinoma_induct.png\n",
      "--> added 'pos', the PAGA positions (adata.uns['paga'])\n",
      "WARNING: saving figure to file /media/xinyi/dcis2idc/plots/cnnvaeexp0/cluster_alltrain_reordered/minibatchkmean_ncluster8n_pcs50epoch311_plottingIdx_progBalanced_0_subcluster_all/cytokeratin/duct/pagagraphcytokeratin_log_Invasive ductal carcinoma_induct_allcells_PosFrac.png\n"
     ]
    },
    {
     "name": "stderr",
     "output_type": "stream",
     "text": [
      "/home/xinyi/.local/lib/python3.8/site-packages/anndata/compat/_overloaded_dict.py:106: ImplicitModificationWarning: Trying to modify attribute `._uns` of view, initializing view as actual.\n",
      "  self.data[key] = value\n"
     ]
    },
    {
     "name": "stdout",
     "output_type": "stream",
     "text": [
      "--> added 'pos', the PAGA positions (adata.uns['paga'])\n",
      "WARNING: saving figure to file /media/xinyi/dcis2idc/plots/cnnvaeexp0/cluster_alltrain_reordered/minibatchkmean_ncluster8n_pcs50epoch311_plottingIdx_progBalanced_0_subcluster_all/cytokeratin/duct/pagagraphcytokeratin_log_Invasive ductal carcinoma_outduct_allcells.png\n",
      "WARNING: saving figure to file /media/xinyi/dcis2idc/plots/cnnvaeexp0/cluster_alltrain_reordered/minibatchkmean_ncluster8n_pcs50epoch311_plottingIdx_progBalanced_0_subcluster_all/cytokeratin/duct/umapgraph_umapcytokeratin_log_Invasive ductal carcinoma_outduct.png\n",
      "--> added 'pos', the PAGA positions (adata.uns['paga'])\n",
      "WARNING: saving figure to file /media/xinyi/dcis2idc/plots/cnnvaeexp0/cluster_alltrain_reordered/minibatchkmean_ncluster8n_pcs50epoch311_plottingIdx_progBalanced_0_subcluster_all/cytokeratin/duct/pagagraphcytokeratin_log_Invasive ductal carcinoma_outduct_allcells_PosFrac.png\n"
     ]
    },
    {
     "name": "stderr",
     "output_type": "stream",
     "text": [
      "/home/xinyi/.local/lib/python3.8/site-packages/anndata/compat/_overloaded_dict.py:106: ImplicitModificationWarning: Trying to modify attribute `._uns` of view, initializing view as actual.\n",
      "  self.data[key] = value\n"
     ]
    },
    {
     "name": "stdout",
     "output_type": "stream",
     "text": [
      "--> added 'pos', the PAGA positions (adata.uns['paga'])\n",
      "WARNING: saving figure to file /media/xinyi/dcis2idc/plots/cnnvaeexp0/cluster_alltrain_reordered/minibatchkmean_ncluster8n_pcs50epoch311_plottingIdx_progBalanced_0_subcluster_all/cytokeratin/duct/pagagraphcytokeratin_log_Invasive ductal carcinoma and breast tissue_induct_allcells.png\n",
      "WARNING: saving figure to file /media/xinyi/dcis2idc/plots/cnnvaeexp0/cluster_alltrain_reordered/minibatchkmean_ncluster8n_pcs50epoch311_plottingIdx_progBalanced_0_subcluster_all/cytokeratin/duct/umapgraph_umapcytokeratin_log_Invasive ductal carcinoma and breast tissue_induct.png\n",
      "--> added 'pos', the PAGA positions (adata.uns['paga'])\n",
      "WARNING: saving figure to file /media/xinyi/dcis2idc/plots/cnnvaeexp0/cluster_alltrain_reordered/minibatchkmean_ncluster8n_pcs50epoch311_plottingIdx_progBalanced_0_subcluster_all/cytokeratin/duct/pagagraphcytokeratin_log_Invasive ductal carcinoma and breast tissue_induct_allcells_PosFrac.png\n"
     ]
    },
    {
     "name": "stderr",
     "output_type": "stream",
     "text": [
      "/home/xinyi/.local/lib/python3.8/site-packages/anndata/compat/_overloaded_dict.py:106: ImplicitModificationWarning: Trying to modify attribute `._uns` of view, initializing view as actual.\n",
      "  self.data[key] = value\n"
     ]
    },
    {
     "name": "stdout",
     "output_type": "stream",
     "text": [
      "--> added 'pos', the PAGA positions (adata.uns['paga'])\n",
      "WARNING: saving figure to file /media/xinyi/dcis2idc/plots/cnnvaeexp0/cluster_alltrain_reordered/minibatchkmean_ncluster8n_pcs50epoch311_plottingIdx_progBalanced_0_subcluster_all/cytokeratin/duct/pagagraphcytokeratin_log_Invasive ductal carcinoma and breast tissue_outduct_allcells.png\n",
      "WARNING: saving figure to file /media/xinyi/dcis2idc/plots/cnnvaeexp0/cluster_alltrain_reordered/minibatchkmean_ncluster8n_pcs50epoch311_plottingIdx_progBalanced_0_subcluster_all/cytokeratin/duct/umapgraph_umapcytokeratin_log_Invasive ductal carcinoma and breast tissue_outduct.png\n",
      "--> added 'pos', the PAGA positions (adata.uns['paga'])\n",
      "WARNING: saving figure to file /media/xinyi/dcis2idc/plots/cnnvaeexp0/cluster_alltrain_reordered/minibatchkmean_ncluster8n_pcs50epoch311_plottingIdx_progBalanced_0_subcluster_all/cytokeratin/duct/pagagraphcytokeratin_log_Invasive ductal carcinoma and breast tissue_outduct_allcells_PosFrac.png\n"
     ]
    },
    {
     "name": "stderr",
     "output_type": "stream",
     "text": [
      "/home/xinyi/.local/lib/python3.8/site-packages/anndata/compat/_overloaded_dict.py:106: ImplicitModificationWarning: Trying to modify attribute `._uns` of view, initializing view as actual.\n",
      "  self.data[key] = value\n"
     ]
    },
    {
     "name": "stdout",
     "output_type": "stream",
     "text": [
      "--> added 'pos', the PAGA positions (adata.uns['paga'])\n",
      "WARNING: saving figure to file /media/xinyi/dcis2idc/plots/cnnvaeexp0/cluster_alltrain_reordered/minibatchkmean_ncluster8n_pcs50epoch311_plottingIdx_progBalanced_0_subcluster_all/cytokeratin/duct/pagagraphcytokeratin_log_Micropapillary type ductal carcinoma in situ wi_induct_allcells.png\n",
      "WARNING: saving figure to file /media/xinyi/dcis2idc/plots/cnnvaeexp0/cluster_alltrain_reordered/minibatchkmean_ncluster8n_pcs50epoch311_plottingIdx_progBalanced_0_subcluster_all/cytokeratin/duct/umapgraph_umapcytokeratin_log_Micropapillary type ductal carcinoma in situ wi_induct.png\n",
      "--> added 'pos', the PAGA positions (adata.uns['paga'])\n",
      "WARNING: saving figure to file /media/xinyi/dcis2idc/plots/cnnvaeexp0/cluster_alltrain_reordered/minibatchkmean_ncluster8n_pcs50epoch311_plottingIdx_progBalanced_0_subcluster_all/cytokeratin/duct/pagagraphcytokeratin_log_Micropapillary type ductal carcinoma in situ wi_induct_allcells_PosFrac.png\n"
     ]
    },
    {
     "name": "stderr",
     "output_type": "stream",
     "text": [
      "/home/xinyi/.local/lib/python3.8/site-packages/anndata/compat/_overloaded_dict.py:106: ImplicitModificationWarning: Trying to modify attribute `._uns` of view, initializing view as actual.\n",
      "  self.data[key] = value\n"
     ]
    },
    {
     "name": "stdout",
     "output_type": "stream",
     "text": [
      "--> added 'pos', the PAGA positions (adata.uns['paga'])\n",
      "WARNING: saving figure to file /media/xinyi/dcis2idc/plots/cnnvaeexp0/cluster_alltrain_reordered/minibatchkmean_ncluster8n_pcs50epoch311_plottingIdx_progBalanced_0_subcluster_all/cytokeratin/duct/pagagraphcytokeratin_log_Micropapillary type ductal carcinoma in situ wi_outduct_allcells.png\n",
      "WARNING: saving figure to file /media/xinyi/dcis2idc/plots/cnnvaeexp0/cluster_alltrain_reordered/minibatchkmean_ncluster8n_pcs50epoch311_plottingIdx_progBalanced_0_subcluster_all/cytokeratin/duct/umapgraph_umapcytokeratin_log_Micropapillary type ductal carcinoma in situ wi_outduct.png\n",
      "--> added 'pos', the PAGA positions (adata.uns['paga'])\n",
      "WARNING: saving figure to file /media/xinyi/dcis2idc/plots/cnnvaeexp0/cluster_alltrain_reordered/minibatchkmean_ncluster8n_pcs50epoch311_plottingIdx_progBalanced_0_subcluster_all/cytokeratin/duct/pagagraphcytokeratin_log_Micropapillary type ductal carcinoma in situ wi_outduct_allcells_PosFrac.png\n"
     ]
    }
   ],
   "source": [
    "#protein by pathology -- separate by in vs out of duct\n",
    "#changed paga plotting function to enable vmax and vmin\n",
    "#add single cell plots & use all cells -- use previously calculated graph in combined subcluster (neighbors=4)\n",
    "#log scale\n",
    "#thresh=1\n",
    "# nneighbors_list=[4,10] \n",
    "vminlist={'aSMA':0,'collagen1':0,'cytokeratin':0,'gh2ax':0}\n",
    "vmaxlist={'aSMA':3.5,'collagen1':7.5,'cytokeratin':5.5,'gh2ax':4.6}\n",
    "vminlistFrac={'aSMA':0,'collagen1':0,'cytokeratin':0,'gh2ax':0}\n",
    "vmaxlistFrac={'aSMA':0.41,'collagen1':0.9,'cytokeratin':0.65,'gh2ax':0.6}\n",
    "for v in vminlist.keys():\n",
    "    vmin=vminlist[v]\n",
    "    vmax=vmaxlist[v]\n",
    "    vminFrac=vminlistFrac[v]\n",
    "    vmaxFrac=vmaxlistFrac[v]\n",
    "    for prog in np.unique(progList[np.isfinite(latent_adata.obs[v+'log'])]):\n",
    "        vprog=v+'_log_'+prog+'_induct'\n",
    "        vprog_bin=v+'_binary_'+prog+'_induct'\n",
    "        protvalues=latent_adata.obs[v+'log'].to_numpy(copy=True)\n",
    "        protvalues[latent_adata.obs['outDuct']!=0]=np.nan\n",
    "        protvalues[latent_adata.obs['prog']!=prog]=np.nan\n",
    "        latent_adata.obs[vprog]=np.copy(protvalues)\n",
    "        protvalues[protvalues>0]=1\n",
    "        latent_adata.obs[vprog_bin]=np.copy(protvalues)\n",
    "\n",
    "        if not os.path.exists(os.path.join(subclusterplotdir,v,'duct')):\n",
    "            os.mkdir(os.path.join(subclusterplotdir,v,'duct'))\n",
    "        sc.settings.figdir=os.path.join(subclusterplotdir,v,'duct')\n",
    "\n",
    "        latent_adata_sub=latent_adata[np.isfinite(latent_adata.obs[vprog].to_numpy())]\n",
    "        idxKeep=np.repeat(False,latent_adata_sub.shape[0])\n",
    "        for c in np.unique(latent_adata_sub.obs['kmeans_sub']):\n",
    "            if np.sum(latent_adata_sub.obs['kmeans_sub']==c)>minCell:\n",
    "                idxKeep=np.logical_or(idxKeep,latent_adata_sub.obs['kmeans_sub']==c)\n",
    "        latent_adata_sub=latent_adata_sub[idxKeep]\n",
    "        if latent_adata_sub.shape[0]>0:\n",
    "    #         subsizes=np.zeros(np.unique(kmeans_sub).size)\n",
    "            nonzeroSub,counts=np.unique(latent_adata_sub.obs['kmeans_sub'],return_counts=True)\n",
    "    #         for sidx in range(nonzeroSub.size):\n",
    "    #             subsizes[np.unique(kmeans_sub)==nonzeroSub[sidx]]=counts[sidx]\n",
    "            latent_adata_sub.uns['kmeans_sub_sizes']=counts\n",
    "            _,idxKeep,_=np.intersect1d(np.unique(kmeans_sub),nonzeroSub,return_indices=True)\n",
    "            latent_adata_sub.uns['paga']['connectivities']=latent_adata.uns['paga']['connectivities'][idxKeep][:,idxKeep]\n",
    "\n",
    "            sc.pl.paga(latent_adata_sub, color=[vprog],pos=trainPagaPos[idxKeep],node_size_power=1,fontoutline=0.5,save='graph'+vprog+'_allcells.png',show=False,random_state=6,vmin=vmin,vmax=vmax,cmap='jet')\n",
    "            sc.pl.umap(latent_adata_sub,color=[vprog],legend_loc='on data',save='graph_umap'+vprog+'.png',show=False,size=3,vmin=vmin,vmax=vmax,cmap='jet')\n",
    "            sc.pl.paga(latent_adata_sub, color=[vprog_bin],pos=trainPagaPos[idxKeep],node_size_power=1,fontoutline=0.5,save='graph'+vprog+'_allcells_PosFrac.png',show=False,random_state=6,vmin=vminFrac,vmax=vmaxFrac,cmap='jet')\n",
    "\n",
    "\n",
    "        \n",
    "        vprog=v+'_log_'+prog+'_outduct'\n",
    "        vprog_bin=v+'_binary_'+prog+'_outduct'\n",
    "        protvalues=latent_adata.obs[v+'log'].to_numpy(copy=True)\n",
    "        protvalues[latent_adata.obs['outDuct']!=1]=np.nan\n",
    "        protvalues[latent_adata.obs['prog']!=prog]=np.nan\n",
    "        latent_adata.obs[vprog]=np.copy(protvalues)\n",
    "        protvalues[protvalues>0]=1\n",
    "        latent_adata.obs[vprog_bin]=np.copy(protvalues)\n",
    "        \n",
    "        latent_adata_sub=latent_adata[np.isfinite(latent_adata.obs[vprog].to_numpy())]\n",
    "        idxKeep=np.repeat(False,latent_adata_sub.shape[0])\n",
    "        for c in np.unique(latent_adata_sub.obs['kmeans_sub']):\n",
    "            if np.sum(latent_adata_sub.obs['kmeans_sub']==c)>minCell:\n",
    "                idxKeep=np.logical_or(idxKeep,latent_adata_sub.obs['kmeans_sub']==c)\n",
    "        latent_adata_sub=latent_adata_sub[idxKeep]\n",
    "        if latent_adata_sub.shape[0]>0:\n",
    "    #         subsizes=np.zeros(np.unique(kmeans_sub).size)\n",
    "            nonzeroSub,counts=np.unique(latent_adata_sub.obs['kmeans_sub'],return_counts=True)\n",
    "    #         for sidx in range(nonzeroSub.size):\n",
    "    #             subsizes[np.unique(kmeans_sub)==nonzeroSub[sidx]]=counts[sidx]\n",
    "            latent_adata_sub.uns['kmeans_sub_sizes']=counts\n",
    "            _,idxKeep,_=np.intersect1d(np.unique(kmeans_sub),nonzeroSub,return_indices=True)\n",
    "            latent_adata_sub.uns['paga']['connectivities']=latent_adata.uns['paga']['connectivities'][idxKeep][:,idxKeep]\n",
    "\n",
    "            sc.settings.figdir=os.path.join(subclusterplotdir,v,'duct')\n",
    "\n",
    "            sc.pl.paga(latent_adata_sub, color=[vprog],pos=trainPagaPos[idxKeep],node_size_power=1,fontoutline=0.5,save='graph'+vprog+'_allcells.png',show=False,random_state=6,vmin=vmin,vmax=vmax,cmap='jet')\n",
    "            sc.pl.umap(latent_adata_sub,color=[vprog],legend_loc='on data',save='graph_umap'+vprog+'.png',show=False,size=3,vmin=vmin,vmax=vmax,cmap='jet')\n",
    "            sc.pl.paga(latent_adata_sub, color=[vprog_bin],pos=trainPagaPos[idxKeep],node_size_power=1,fontoutline=0.5,save='graph'+vprog+'_allcells_PosFrac.png',show=False,random_state=6,vmin=vminFrac,vmax=vmaxFrac,cmap='jet')\n",
    "\n",
    "\n"
   ]
  },
  {
   "cell_type": "markdown",
   "metadata": {},
   "source": [
    "#### plot distance"
   ]
  },
  {
   "cell_type": "code",
   "execution_count": 25,
   "metadata": {
    "scrolled": true
   },
   "outputs": [
    {
     "name": "stdout",
     "output_type": "stream",
     "text": [
      "--> added 'pos', the PAGA positions (adata.uns['paga'])\n",
      "WARNING: saving figure to file /media/xinyi/dcis2idc/plots/cnnvaeexp0/cluster_alltrain_reordered/minibatchkmean_ncluster8n_pcs50epoch311_plottingIdx_progBalanced_0_subcluster_all/pagagraphdist2duct_log_allcells.pdf\n"
     ]
    },
    {
     "data": {
      "text/plain": [
       "<Axes:>"
      ]
     },
     "execution_count": 25,
     "metadata": {},
     "output_type": "execute_result"
    }
   ],
   "source": [
    "#add single cell plots & use all cells -- use previously calculated graph in combined subcluster (neighbors=4)\n",
    "v='dist2duct_log'\n",
    "sc.settings.figdir=os.path.join(subclusterplotdir)\n",
    "sc.pl.paga(latent_adata, color=[v],pos=trainPagaPos,vmin=0.9,vmax=5.1,fontsize=18,fontoutline=1,max_edge_width=10, node_size_scale=5,node_size_power=1,save='graph'+v+'_allcells.pdf',show=False,random_state=6,cmap='jet')\n",
    "# # sc.tl.umap(latent_adata, init_pos='paga')\n",
    "# sc.pl.umap(latent_adata,color=[v],legend_loc='on data',save='graph_umap'+v+'.png',show=False,size=3)\n",
    "\n",
    "\n"
   ]
  },
  {
   "cell_type": "code",
   "execution_count": 30,
   "metadata": {},
   "outputs": [
    {
     "data": {
      "text/plain": [
       "1876734"
      ]
     },
     "execution_count": 30,
     "metadata": {},
     "output_type": "execute_result"
    }
   ],
   "source": [
    "allImgNames.size"
   ]
  },
  {
   "cell_type": "code",
   "execution_count": 26,
   "metadata": {
    "scrolled": true
   },
   "outputs": [
    {
     "name": "stdout",
     "output_type": "stream",
     "text": [
      "dist2duct_log_Breast tissue\n"
     ]
    },
    {
     "name": "stderr",
     "output_type": "stream",
     "text": [
      "/home/xinyi/.local/lib/python3.8/site-packages/anndata/compat/_overloaded_dict.py:106: ImplicitModificationWarning: Trying to modify attribute `._uns` of view, initializing view as actual.\n",
      "  self.data[key] = value\n"
     ]
    },
    {
     "name": "stdout",
     "output_type": "stream",
     "text": [
      "--> added 'pos', the PAGA positions (adata.uns['paga'])\n",
      "WARNING: saving figure to file /media/xinyi/dcis2idc/plots/cnnvaeexp0/cluster_alltrain_reordered/minibatchkmean_ncluster8n_pcs50epoch311_plottingIdx_progBalanced_0_subcluster_all/pagagraphdist2duct_log_Breast tissue_allcells.pdf\n",
      "dist2duct_log_Ductal carcinoma in situ\n"
     ]
    },
    {
     "name": "stderr",
     "output_type": "stream",
     "text": [
      "/home/xinyi/.local/lib/python3.8/site-packages/anndata/compat/_overloaded_dict.py:106: ImplicitModificationWarning: Trying to modify attribute `._uns` of view, initializing view as actual.\n",
      "  self.data[key] = value\n"
     ]
    },
    {
     "name": "stdout",
     "output_type": "stream",
     "text": [
      "--> added 'pos', the PAGA positions (adata.uns['paga'])\n",
      "WARNING: saving figure to file /media/xinyi/dcis2idc/plots/cnnvaeexp0/cluster_alltrain_reordered/minibatchkmean_ncluster8n_pcs50epoch311_plottingIdx_progBalanced_0_subcluster_all/pagagraphdist2duct_log_Ductal carcinoma in situ_allcells.pdf\n",
      "dist2duct_log_Ductal carcinoma in situ and breast tissue\n"
     ]
    },
    {
     "name": "stderr",
     "output_type": "stream",
     "text": [
      "/home/xinyi/.local/lib/python3.8/site-packages/anndata/compat/_overloaded_dict.py:106: ImplicitModificationWarning: Trying to modify attribute `._uns` of view, initializing view as actual.\n",
      "  self.data[key] = value\n"
     ]
    },
    {
     "name": "stdout",
     "output_type": "stream",
     "text": [
      "--> added 'pos', the PAGA positions (adata.uns['paga'])\n",
      "WARNING: saving figure to file /media/xinyi/dcis2idc/plots/cnnvaeexp0/cluster_alltrain_reordered/minibatchkmean_ncluster8n_pcs50epoch311_plottingIdx_progBalanced_0_subcluster_all/pagagraphdist2duct_log_Ductal carcinoma in situ and breast tissue_allcells.pdf\n",
      "dist2duct_log_Ductal carcinoma in situ with early infiltratio\n"
     ]
    },
    {
     "name": "stderr",
     "output_type": "stream",
     "text": [
      "/home/xinyi/.local/lib/python3.8/site-packages/anndata/compat/_overloaded_dict.py:106: ImplicitModificationWarning: Trying to modify attribute `._uns` of view, initializing view as actual.\n",
      "  self.data[key] = value\n"
     ]
    },
    {
     "name": "stdout",
     "output_type": "stream",
     "text": [
      "--> added 'pos', the PAGA positions (adata.uns['paga'])\n",
      "WARNING: saving figure to file /media/xinyi/dcis2idc/plots/cnnvaeexp0/cluster_alltrain_reordered/minibatchkmean_ncluster8n_pcs50epoch311_plottingIdx_progBalanced_0_subcluster_all/pagagraphdist2duct_log_Ductal carcinoma in situ with early infiltratio_allcells.pdf\n",
      "dist2duct_log_Invasive ductal carcinoma\n"
     ]
    },
    {
     "name": "stderr",
     "output_type": "stream",
     "text": [
      "/home/xinyi/.local/lib/python3.8/site-packages/anndata/compat/_overloaded_dict.py:106: ImplicitModificationWarning: Trying to modify attribute `._uns` of view, initializing view as actual.\n",
      "  self.data[key] = value\n"
     ]
    },
    {
     "name": "stdout",
     "output_type": "stream",
     "text": [
      "--> added 'pos', the PAGA positions (adata.uns['paga'])\n",
      "WARNING: saving figure to file /media/xinyi/dcis2idc/plots/cnnvaeexp0/cluster_alltrain_reordered/minibatchkmean_ncluster8n_pcs50epoch311_plottingIdx_progBalanced_0_subcluster_all/pagagraphdist2duct_log_Invasive ductal carcinoma_allcells.pdf\n",
      "dist2duct_log_Invasive ductal carcinoma and breast tissue\n"
     ]
    },
    {
     "name": "stderr",
     "output_type": "stream",
     "text": [
      "/home/xinyi/.local/lib/python3.8/site-packages/anndata/compat/_overloaded_dict.py:106: ImplicitModificationWarning: Trying to modify attribute `._uns` of view, initializing view as actual.\n",
      "  self.data[key] = value\n"
     ]
    },
    {
     "name": "stdout",
     "output_type": "stream",
     "text": [
      "--> added 'pos', the PAGA positions (adata.uns['paga'])\n",
      "WARNING: saving figure to file /media/xinyi/dcis2idc/plots/cnnvaeexp0/cluster_alltrain_reordered/minibatchkmean_ncluster8n_pcs50epoch311_plottingIdx_progBalanced_0_subcluster_all/pagagraphdist2duct_log_Invasive ductal carcinoma and breast tissue_allcells.pdf\n",
      "dist2duct_log_Micropapillary type ductal carcinoma in situ wi\n"
     ]
    },
    {
     "name": "stderr",
     "output_type": "stream",
     "text": [
      "/home/xinyi/.local/lib/python3.8/site-packages/anndata/compat/_overloaded_dict.py:106: ImplicitModificationWarning: Trying to modify attribute `._uns` of view, initializing view as actual.\n",
      "  self.data[key] = value\n"
     ]
    },
    {
     "name": "stdout",
     "output_type": "stream",
     "text": [
      "--> added 'pos', the PAGA positions (adata.uns['paga'])\n",
      "WARNING: saving figure to file /media/xinyi/dcis2idc/plots/cnnvaeexp0/cluster_alltrain_reordered/minibatchkmean_ncluster8n_pcs50epoch311_plottingIdx_progBalanced_0_subcluster_all/pagagraphdist2duct_log_Micropapillary type ductal carcinoma in situ wi_allcells.pdf\n"
     ]
    }
   ],
   "source": [
    "#by prog\n",
    "latent_adata.obs['prog']=progList\n",
    "# vmin=0\n",
    "# vmax=np.max(latent_adata.obs['dist2duct_log'])\n",
    "vmin=0.9\n",
    "vmax=5.1\n",
    "for prog in np.unique(progList[np.isfinite(latent_adata.obs['dist2duct_log'])]):\n",
    "    v='dist2duct_log_'+prog\n",
    "    protvalues=np.repeat(np.nan,latent_adata.shape[0])\n",
    "    protvalues[allidx]=np.log(allstats+1)\n",
    "    protvalues[latent_adata.obs['prog']!=prog]=np.nan\n",
    "    latent_adata.obs[v]=protvalues\n",
    "    sc.settings.figdir=os.path.join(subclusterplotdir)\n",
    "    \n",
    "    latent_adata_sub=latent_adata[np.isfinite(latent_adata.obs[v].to_numpy())]\n",
    "    idxKeep=np.repeat(False,latent_adata_sub.shape[0])\n",
    "    for c in np.unique(latent_adata_sub.obs['kmeans_sub']):\n",
    "        if np.sum(latent_adata_sub.obs['kmeans_sub']==c)>minCell:\n",
    "            idxKeep=np.logical_or(idxKeep,latent_adata_sub.obs['kmeans_sub']==c)\n",
    "    latent_adata_sub=latent_adata_sub[idxKeep]\n",
    "    if latent_adata_sub.shape[0]>0:\n",
    "        print(v)\n",
    "#         subsizes=np.zeros(np.unique(kmeans_sub).size)\n",
    "        nonzeroSub,counts=np.unique(latent_adata_sub.obs['kmeans_sub'],return_counts=True)\n",
    "#         for sidx in range(nonzeroSub.size):\n",
    "#             subsizes[np.unique(kmeans_sub)==nonzeroSub[sidx]]=counts[sidx]\n",
    "        latent_adata_sub.uns['kmeans_sub_sizes']=counts\n",
    "        _,idxKeep,_=np.intersect1d(np.unique(kmeans_sub),nonzeroSub,return_indices=True)\n",
    "        latent_adata_sub.uns['paga']['connectivities']=latent_adata.uns['paga']['connectivities'][idxKeep][:,idxKeep]\n",
    "\n",
    "\n",
    "\n",
    "#         sc.pl.paga(latent_adata_sub, color=[v],pos=trainPagaPos[idxKeep],node_size_power=1,fontoutline=0.5,save='graph'+v+'_allcells.png',show=False,random_state=6,cmap='jet')\n",
    "        sc.pl.paga(latent_adata_sub, color=[v],pos=trainPagaPos[idxKeep],fontsize=18,fontoutline=1,max_edge_width=10, node_size_scale=5,node_size_power=1,save='graph'+v+'_allcells.pdf',show=False,random_state=6,vmin=vmin,vmax=vmax,cmap='jet')\n",
    "#     #     sc.tl.umap(latent_adata, init_pos='paga')\n",
    "#         sc.pl.umap(latent_adata_sub,color=[v],legend_loc='on data',save='graph_umap'+v+'.png',show=False,size=3,vmin=vmin,vmax=vmax)\n",
    "\n",
    "\n"
   ]
  },
  {
   "cell_type": "code",
   "execution_count": 33,
   "metadata": {},
   "outputs": [
    {
     "data": {
      "text/plain": [
       "'/media/xinyi/dcis2idc/plots/cnnvaeexp0/cluster_alltrain_reordered/minibatchkmean_ncluster8n_pcs50epoch311_plottingIdx_progBalanced_0_subcluster_all'"
      ]
     },
     "execution_count": 33,
     "metadata": {},
     "output_type": "execute_result"
    }
   ],
   "source": [
    "subclusterplotdir"
   ]
  },
  {
   "cell_type": "code",
   "execution_count": 40,
   "metadata": {
    "scrolled": true
   },
   "outputs": [
    {
     "name": "stdout",
     "output_type": "stream",
     "text": [
      "dist2duct_log_Breast tissue_br1003a_1_cytokeratin_555_aSMA_647_hoechst_I2\n"
     ]
    },
    {
     "name": "stderr",
     "output_type": "stream",
     "text": [
      "/home/xinyi/.local/lib/python3.8/site-packages/anndata/compat/_overloaded_dict.py:106: ImplicitModificationWarning: Trying to modify attribute `._uns` of view, initializing view as actual.\n",
      "  self.data[key] = value\n"
     ]
    },
    {
     "name": "stdout",
     "output_type": "stream",
     "text": [
      "--> added 'pos', the PAGA positions (adata.uns['paga'])\n",
      "WARNING: saving figure to file /media/xinyi/dcis2idc/plots/cnnvaeexp0/cluster_alltrain_reordered/minibatchkmean_ncluster8n_pcs50epoch311_plottingIdx_progBalanced_0_subcluster_all/dist2duct_bySample/pagagraphdist2duct_log_Breast tissue_br1003a_1_cytokeratin_555_aSMA_647_hoechst_I2_allcells.pdf\n",
      "dist2duct_log_Breast tissue_br1003a_1_cytokeratin_555_aSMA_647_hoechst_I3\n"
     ]
    },
    {
     "name": "stderr",
     "output_type": "stream",
     "text": [
      "/home/xinyi/.local/lib/python3.8/site-packages/anndata/compat/_overloaded_dict.py:106: ImplicitModificationWarning: Trying to modify attribute `._uns` of view, initializing view as actual.\n",
      "  self.data[key] = value\n"
     ]
    },
    {
     "name": "stdout",
     "output_type": "stream",
     "text": [
      "--> added 'pos', the PAGA positions (adata.uns['paga'])\n",
      "WARNING: saving figure to file /media/xinyi/dcis2idc/plots/cnnvaeexp0/cluster_alltrain_reordered/minibatchkmean_ncluster8n_pcs50epoch311_plottingIdx_progBalanced_0_subcluster_all/dist2duct_bySample/pagagraphdist2duct_log_Breast tissue_br1003a_1_cytokeratin_555_aSMA_647_hoechst_I3_allcells.pdf\n",
      "dist2duct_log_Breast tissue_br1003a_1_cytokeratin_555_aSMA_647_hoechst_I7\n"
     ]
    },
    {
     "name": "stderr",
     "output_type": "stream",
     "text": [
      "/home/xinyi/.local/lib/python3.8/site-packages/anndata/compat/_overloaded_dict.py:106: ImplicitModificationWarning: Trying to modify attribute `._uns` of view, initializing view as actual.\n",
      "  self.data[key] = value\n"
     ]
    },
    {
     "name": "stdout",
     "output_type": "stream",
     "text": [
      "--> added 'pos', the PAGA positions (adata.uns['paga'])\n",
      "WARNING: saving figure to file /media/xinyi/dcis2idc/plots/cnnvaeexp0/cluster_alltrain_reordered/minibatchkmean_ncluster8n_pcs50epoch311_plottingIdx_progBalanced_0_subcluster_all/dist2duct_bySample/pagagraphdist2duct_log_Breast tissue_br1003a_1_cytokeratin_555_aSMA_647_hoechst_I7_allcells.pdf\n",
      "dist2duct_log_Breast tissue_br1003a_1_cytokeratin_555_aSMA_647_hoechst_I8\n"
     ]
    },
    {
     "name": "stderr",
     "output_type": "stream",
     "text": [
      "/home/xinyi/.local/lib/python3.8/site-packages/anndata/compat/_overloaded_dict.py:106: ImplicitModificationWarning: Trying to modify attribute `._uns` of view, initializing view as actual.\n",
      "  self.data[key] = value\n"
     ]
    },
    {
     "name": "stdout",
     "output_type": "stream",
     "text": [
      "--> added 'pos', the PAGA positions (adata.uns['paga'])\n",
      "WARNING: saving figure to file /media/xinyi/dcis2idc/plots/cnnvaeexp0/cluster_alltrain_reordered/minibatchkmean_ncluster8n_pcs50epoch311_plottingIdx_progBalanced_0_subcluster_all/dist2duct_bySample/pagagraphdist2duct_log_Breast tissue_br1003a_1_cytokeratin_555_aSMA_647_hoechst_I8_allcells.pdf\n",
      "dist2duct_log_Breast tissue_br1003a_1_cytokeratin_555_aSMA_647_hoechst_I9\n"
     ]
    },
    {
     "name": "stderr",
     "output_type": "stream",
     "text": [
      "/home/xinyi/.local/lib/python3.8/site-packages/anndata/compat/_overloaded_dict.py:106: ImplicitModificationWarning: Trying to modify attribute `._uns` of view, initializing view as actual.\n",
      "  self.data[key] = value\n"
     ]
    },
    {
     "name": "stdout",
     "output_type": "stream",
     "text": [
      "--> added 'pos', the PAGA positions (adata.uns['paga'])\n",
      "WARNING: saving figure to file /media/xinyi/dcis2idc/plots/cnnvaeexp0/cluster_alltrain_reordered/minibatchkmean_ncluster8n_pcs50epoch311_plottingIdx_progBalanced_0_subcluster_all/dist2duct_bySample/pagagraphdist2duct_log_Breast tissue_br1003a_1_cytokeratin_555_aSMA_647_hoechst_I9_allcells.pdf\n",
      "dist2duct_log_Ductal carcinoma in situ and breast tissue_br301_4_cytokeratin_555_aSMA_647_hoechst_A1\n"
     ]
    },
    {
     "name": "stderr",
     "output_type": "stream",
     "text": [
      "/home/xinyi/.local/lib/python3.8/site-packages/anndata/compat/_overloaded_dict.py:106: ImplicitModificationWarning: Trying to modify attribute `._uns` of view, initializing view as actual.\n",
      "  self.data[key] = value\n"
     ]
    },
    {
     "name": "stdout",
     "output_type": "stream",
     "text": [
      "--> added 'pos', the PAGA positions (adata.uns['paga'])\n",
      "WARNING: saving figure to file /media/xinyi/dcis2idc/plots/cnnvaeexp0/cluster_alltrain_reordered/minibatchkmean_ncluster8n_pcs50epoch311_plottingIdx_progBalanced_0_subcluster_all/dist2duct_bySample/pagagraphdist2duct_log_Ductal carcinoma in situ and breast tissue_br301_4_cytokeratin_555_aSMA_647_hoechst_A1_allcells.pdf\n",
      "dist2duct_log_Ductal carcinoma in situ with early infiltratio_br301_4_cytokeratin_555_aSMA_647_hoechst_A2\n"
     ]
    },
    {
     "name": "stderr",
     "output_type": "stream",
     "text": [
      "/home/xinyi/.local/lib/python3.8/site-packages/anndata/compat/_overloaded_dict.py:106: ImplicitModificationWarning: Trying to modify attribute `._uns` of view, initializing view as actual.\n",
      "  self.data[key] = value\n"
     ]
    },
    {
     "name": "stdout",
     "output_type": "stream",
     "text": [
      "--> added 'pos', the PAGA positions (adata.uns['paga'])\n",
      "WARNING: saving figure to file /media/xinyi/dcis2idc/plots/cnnvaeexp0/cluster_alltrain_reordered/minibatchkmean_ncluster8n_pcs50epoch311_plottingIdx_progBalanced_0_subcluster_all/dist2duct_bySample/pagagraphdist2duct_log_Ductal carcinoma in situ with early infiltratio_br301_4_cytokeratin_555_aSMA_647_hoechst_A2_allcells.pdf\n",
      "dist2duct_log_Ductal carcinoma in situ_br301_4_cytokeratin_555_aSMA_647_hoechst_A3\n"
     ]
    },
    {
     "name": "stderr",
     "output_type": "stream",
     "text": [
      "/home/xinyi/.local/lib/python3.8/site-packages/anndata/compat/_overloaded_dict.py:106: ImplicitModificationWarning: Trying to modify attribute `._uns` of view, initializing view as actual.\n",
      "  self.data[key] = value\n"
     ]
    },
    {
     "name": "stdout",
     "output_type": "stream",
     "text": [
      "--> added 'pos', the PAGA positions (adata.uns['paga'])\n",
      "WARNING: saving figure to file /media/xinyi/dcis2idc/plots/cnnvaeexp0/cluster_alltrain_reordered/minibatchkmean_ncluster8n_pcs50epoch311_plottingIdx_progBalanced_0_subcluster_all/dist2duct_bySample/pagagraphdist2duct_log_Ductal carcinoma in situ_br301_4_cytokeratin_555_aSMA_647_hoechst_A3_allcells.pdf\n",
      "dist2duct_log_Ductal carcinoma in situ_br301_4_cytokeratin_555_aSMA_647_hoechst_A4\n"
     ]
    },
    {
     "name": "stderr",
     "output_type": "stream",
     "text": [
      "/home/xinyi/.local/lib/python3.8/site-packages/anndata/compat/_overloaded_dict.py:106: ImplicitModificationWarning: Trying to modify attribute `._uns` of view, initializing view as actual.\n",
      "  self.data[key] = value\n"
     ]
    },
    {
     "name": "stdout",
     "output_type": "stream",
     "text": [
      "--> added 'pos', the PAGA positions (adata.uns['paga'])\n",
      "WARNING: saving figure to file /media/xinyi/dcis2idc/plots/cnnvaeexp0/cluster_alltrain_reordered/minibatchkmean_ncluster8n_pcs50epoch311_plottingIdx_progBalanced_0_subcluster_all/dist2duct_bySample/pagagraphdist2duct_log_Ductal carcinoma in situ_br301_4_cytokeratin_555_aSMA_647_hoechst_A4_allcells.pdf\n",
      "dist2duct_log_Ductal carcinoma in situ and breast tissue_br301_4_cytokeratin_555_aSMA_647_hoechst_A5\n"
     ]
    },
    {
     "name": "stderr",
     "output_type": "stream",
     "text": [
      "/home/xinyi/.local/lib/python3.8/site-packages/anndata/compat/_overloaded_dict.py:106: ImplicitModificationWarning: Trying to modify attribute `._uns` of view, initializing view as actual.\n",
      "  self.data[key] = value\n"
     ]
    },
    {
     "name": "stdout",
     "output_type": "stream",
     "text": [
      "--> added 'pos', the PAGA positions (adata.uns['paga'])\n",
      "WARNING: saving figure to file /media/xinyi/dcis2idc/plots/cnnvaeexp0/cluster_alltrain_reordered/minibatchkmean_ncluster8n_pcs50epoch311_plottingIdx_progBalanced_0_subcluster_all/dist2duct_bySample/pagagraphdist2duct_log_Ductal carcinoma in situ and breast tissue_br301_4_cytokeratin_555_aSMA_647_hoechst_A5_allcells.pdf\n",
      "dist2duct_log_Ductal carcinoma in situ and breast tissue_br301_4_cytokeratin_555_aSMA_647_hoechst_A6\n"
     ]
    },
    {
     "name": "stderr",
     "output_type": "stream",
     "text": [
      "/home/xinyi/.local/lib/python3.8/site-packages/anndata/compat/_overloaded_dict.py:106: ImplicitModificationWarning: Trying to modify attribute `._uns` of view, initializing view as actual.\n",
      "  self.data[key] = value\n"
     ]
    },
    {
     "name": "stdout",
     "output_type": "stream",
     "text": [
      "--> added 'pos', the PAGA positions (adata.uns['paga'])\n",
      "WARNING: saving figure to file /media/xinyi/dcis2idc/plots/cnnvaeexp0/cluster_alltrain_reordered/minibatchkmean_ncluster8n_pcs50epoch311_plottingIdx_progBalanced_0_subcluster_all/dist2duct_bySample/pagagraphdist2duct_log_Ductal carcinoma in situ and breast tissue_br301_4_cytokeratin_555_aSMA_647_hoechst_A6_allcells.pdf\n",
      "dist2duct_log_Invasive ductal carcinoma_br301_4_cytokeratin_555_aSMA_647_hoechst_B1\n"
     ]
    },
    {
     "name": "stderr",
     "output_type": "stream",
     "text": [
      "/home/xinyi/.local/lib/python3.8/site-packages/anndata/compat/_overloaded_dict.py:106: ImplicitModificationWarning: Trying to modify attribute `._uns` of view, initializing view as actual.\n",
      "  self.data[key] = value\n"
     ]
    },
    {
     "name": "stdout",
     "output_type": "stream",
     "text": [
      "--> added 'pos', the PAGA positions (adata.uns['paga'])\n",
      "WARNING: saving figure to file /media/xinyi/dcis2idc/plots/cnnvaeexp0/cluster_alltrain_reordered/minibatchkmean_ncluster8n_pcs50epoch311_plottingIdx_progBalanced_0_subcluster_all/dist2duct_bySample/pagagraphdist2duct_log_Invasive ductal carcinoma_br301_4_cytokeratin_555_aSMA_647_hoechst_B1_allcells.pdf\n",
      "dist2duct_log_Ductal carcinoma in situ and breast tissue_br301_4_cytokeratin_555_aSMA_647_hoechst_B2\n"
     ]
    },
    {
     "name": "stderr",
     "output_type": "stream",
     "text": [
      "/home/xinyi/.local/lib/python3.8/site-packages/anndata/compat/_overloaded_dict.py:106: ImplicitModificationWarning: Trying to modify attribute `._uns` of view, initializing view as actual.\n",
      "  self.data[key] = value\n"
     ]
    },
    {
     "name": "stdout",
     "output_type": "stream",
     "text": [
      "--> added 'pos', the PAGA positions (adata.uns['paga'])\n",
      "WARNING: saving figure to file /media/xinyi/dcis2idc/plots/cnnvaeexp0/cluster_alltrain_reordered/minibatchkmean_ncluster8n_pcs50epoch311_plottingIdx_progBalanced_0_subcluster_all/dist2duct_bySample/pagagraphdist2duct_log_Ductal carcinoma in situ and breast tissue_br301_4_cytokeratin_555_aSMA_647_hoechst_B2_allcells.pdf\n",
      "dist2duct_log_Ductal carcinoma in situ and breast tissue_br301_4_cytokeratin_555_aSMA_647_hoechst_B3\n"
     ]
    },
    {
     "name": "stderr",
     "output_type": "stream",
     "text": [
      "/home/xinyi/.local/lib/python3.8/site-packages/anndata/compat/_overloaded_dict.py:106: ImplicitModificationWarning: Trying to modify attribute `._uns` of view, initializing view as actual.\n",
      "  self.data[key] = value\n"
     ]
    },
    {
     "name": "stdout",
     "output_type": "stream",
     "text": [
      "--> added 'pos', the PAGA positions (adata.uns['paga'])\n",
      "WARNING: saving figure to file /media/xinyi/dcis2idc/plots/cnnvaeexp0/cluster_alltrain_reordered/minibatchkmean_ncluster8n_pcs50epoch311_plottingIdx_progBalanced_0_subcluster_all/dist2duct_bySample/pagagraphdist2duct_log_Ductal carcinoma in situ and breast tissue_br301_4_cytokeratin_555_aSMA_647_hoechst_B3_allcells.pdf\n",
      "dist2duct_log_Ductal carcinoma in situ and breast tissue_br301_4_cytokeratin_555_aSMA_647_hoechst_B4\n"
     ]
    },
    {
     "name": "stderr",
     "output_type": "stream",
     "text": [
      "/home/xinyi/.local/lib/python3.8/site-packages/anndata/compat/_overloaded_dict.py:106: ImplicitModificationWarning: Trying to modify attribute `._uns` of view, initializing view as actual.\n",
      "  self.data[key] = value\n"
     ]
    },
    {
     "name": "stdout",
     "output_type": "stream",
     "text": [
      "--> added 'pos', the PAGA positions (adata.uns['paga'])\n",
      "WARNING: saving figure to file /media/xinyi/dcis2idc/plots/cnnvaeexp0/cluster_alltrain_reordered/minibatchkmean_ncluster8n_pcs50epoch311_plottingIdx_progBalanced_0_subcluster_all/dist2duct_bySample/pagagraphdist2duct_log_Ductal carcinoma in situ and breast tissue_br301_4_cytokeratin_555_aSMA_647_hoechst_B4_allcells.pdf\n",
      "dist2duct_log_Invasive ductal carcinoma and breast tissue_br301_4_cytokeratin_555_aSMA_647_hoechst_B5\n"
     ]
    },
    {
     "name": "stderr",
     "output_type": "stream",
     "text": [
      "/home/xinyi/.local/lib/python3.8/site-packages/anndata/compat/_overloaded_dict.py:106: ImplicitModificationWarning: Trying to modify attribute `._uns` of view, initializing view as actual.\n",
      "  self.data[key] = value\n"
     ]
    },
    {
     "name": "stdout",
     "output_type": "stream",
     "text": [
      "--> added 'pos', the PAGA positions (adata.uns['paga'])\n",
      "WARNING: saving figure to file /media/xinyi/dcis2idc/plots/cnnvaeexp0/cluster_alltrain_reordered/minibatchkmean_ncluster8n_pcs50epoch311_plottingIdx_progBalanced_0_subcluster_all/dist2duct_bySample/pagagraphdist2duct_log_Invasive ductal carcinoma and breast tissue_br301_4_cytokeratin_555_aSMA_647_hoechst_B5_allcells.pdf\n",
      "dist2duct_log_Invasive ductal carcinoma and breast tissue_br301_4_cytokeratin_555_aSMA_647_hoechst_B6\n"
     ]
    },
    {
     "name": "stderr",
     "output_type": "stream",
     "text": [
      "/home/xinyi/.local/lib/python3.8/site-packages/anndata/compat/_overloaded_dict.py:106: ImplicitModificationWarning: Trying to modify attribute `._uns` of view, initializing view as actual.\n",
      "  self.data[key] = value\n"
     ]
    },
    {
     "name": "stdout",
     "output_type": "stream",
     "text": [
      "--> added 'pos', the PAGA positions (adata.uns['paga'])\n",
      "WARNING: saving figure to file /media/xinyi/dcis2idc/plots/cnnvaeexp0/cluster_alltrain_reordered/minibatchkmean_ncluster8n_pcs50epoch311_plottingIdx_progBalanced_0_subcluster_all/dist2duct_bySample/pagagraphdist2duct_log_Invasive ductal carcinoma and breast tissue_br301_4_cytokeratin_555_aSMA_647_hoechst_B6_allcells.pdf\n",
      "dist2duct_log_Ductal carcinoma in situ with early infiltratio_br301_4_cytokeratin_555_aSMA_647_hoechst_C1\n"
     ]
    },
    {
     "name": "stderr",
     "output_type": "stream",
     "text": [
      "/home/xinyi/.local/lib/python3.8/site-packages/anndata/compat/_overloaded_dict.py:106: ImplicitModificationWarning: Trying to modify attribute `._uns` of view, initializing view as actual.\n",
      "  self.data[key] = value\n"
     ]
    },
    {
     "name": "stdout",
     "output_type": "stream",
     "text": [
      "--> added 'pos', the PAGA positions (adata.uns['paga'])\n",
      "WARNING: saving figure to file /media/xinyi/dcis2idc/plots/cnnvaeexp0/cluster_alltrain_reordered/minibatchkmean_ncluster8n_pcs50epoch311_plottingIdx_progBalanced_0_subcluster_all/dist2duct_bySample/pagagraphdist2duct_log_Ductal carcinoma in situ with early infiltratio_br301_4_cytokeratin_555_aSMA_647_hoechst_C1_allcells.pdf\n",
      "dist2duct_log_Ductal carcinoma in situ with early infiltratio_br301_4_cytokeratin_555_aSMA_647_hoechst_C2\n"
     ]
    },
    {
     "name": "stderr",
     "output_type": "stream",
     "text": [
      "/home/xinyi/.local/lib/python3.8/site-packages/anndata/compat/_overloaded_dict.py:106: ImplicitModificationWarning: Trying to modify attribute `._uns` of view, initializing view as actual.\n",
      "  self.data[key] = value\n"
     ]
    },
    {
     "name": "stdout",
     "output_type": "stream",
     "text": [
      "--> added 'pos', the PAGA positions (adata.uns['paga'])\n",
      "WARNING: saving figure to file /media/xinyi/dcis2idc/plots/cnnvaeexp0/cluster_alltrain_reordered/minibatchkmean_ncluster8n_pcs50epoch311_plottingIdx_progBalanced_0_subcluster_all/dist2duct_bySample/pagagraphdist2duct_log_Ductal carcinoma in situ with early infiltratio_br301_4_cytokeratin_555_aSMA_647_hoechst_C2_allcells.pdf\n",
      "dist2duct_log_Micropapillary type ductal carcinoma in situ wi_br301_4_cytokeratin_555_aSMA_647_hoechst_C3\n"
     ]
    },
    {
     "name": "stderr",
     "output_type": "stream",
     "text": [
      "/home/xinyi/.local/lib/python3.8/site-packages/anndata/compat/_overloaded_dict.py:106: ImplicitModificationWarning: Trying to modify attribute `._uns` of view, initializing view as actual.\n",
      "  self.data[key] = value\n"
     ]
    },
    {
     "name": "stdout",
     "output_type": "stream",
     "text": [
      "--> added 'pos', the PAGA positions (adata.uns['paga'])\n",
      "WARNING: saving figure to file /media/xinyi/dcis2idc/plots/cnnvaeexp0/cluster_alltrain_reordered/minibatchkmean_ncluster8n_pcs50epoch311_plottingIdx_progBalanced_0_subcluster_all/dist2duct_bySample/pagagraphdist2duct_log_Micropapillary type ductal carcinoma in situ wi_br301_4_cytokeratin_555_aSMA_647_hoechst_C3_allcells.pdf\n",
      "dist2duct_log_Micropapillary type ductal carcinoma in situ wi_br301_4_cytokeratin_555_aSMA_647_hoechst_C4\n"
     ]
    },
    {
     "name": "stderr",
     "output_type": "stream",
     "text": [
      "/home/xinyi/.local/lib/python3.8/site-packages/anndata/compat/_overloaded_dict.py:106: ImplicitModificationWarning: Trying to modify attribute `._uns` of view, initializing view as actual.\n",
      "  self.data[key] = value\n"
     ]
    },
    {
     "name": "stdout",
     "output_type": "stream",
     "text": [
      "--> added 'pos', the PAGA positions (adata.uns['paga'])\n",
      "WARNING: saving figure to file /media/xinyi/dcis2idc/plots/cnnvaeexp0/cluster_alltrain_reordered/minibatchkmean_ncluster8n_pcs50epoch311_plottingIdx_progBalanced_0_subcluster_all/dist2duct_bySample/pagagraphdist2duct_log_Micropapillary type ductal carcinoma in situ wi_br301_4_cytokeratin_555_aSMA_647_hoechst_C4_allcells.pdf\n",
      "dist2duct_log_Ductal carcinoma in situ with early infiltratio_br301_4_cytokeratin_555_aSMA_647_hoechst_C5\n"
     ]
    },
    {
     "name": "stderr",
     "output_type": "stream",
     "text": [
      "/home/xinyi/.local/lib/python3.8/site-packages/anndata/compat/_overloaded_dict.py:106: ImplicitModificationWarning: Trying to modify attribute `._uns` of view, initializing view as actual.\n",
      "  self.data[key] = value\n"
     ]
    },
    {
     "name": "stdout",
     "output_type": "stream",
     "text": [
      "--> added 'pos', the PAGA positions (adata.uns['paga'])\n",
      "WARNING: saving figure to file /media/xinyi/dcis2idc/plots/cnnvaeexp0/cluster_alltrain_reordered/minibatchkmean_ncluster8n_pcs50epoch311_plottingIdx_progBalanced_0_subcluster_all/dist2duct_bySample/pagagraphdist2duct_log_Ductal carcinoma in situ with early infiltratio_br301_4_cytokeratin_555_aSMA_647_hoechst_C5_allcells.pdf\n",
      "dist2duct_log_Ductal carcinoma in situ with early infiltratio_br301_4_cytokeratin_555_aSMA_647_hoechst_C6\n"
     ]
    },
    {
     "name": "stderr",
     "output_type": "stream",
     "text": [
      "/home/xinyi/.local/lib/python3.8/site-packages/anndata/compat/_overloaded_dict.py:106: ImplicitModificationWarning: Trying to modify attribute `._uns` of view, initializing view as actual.\n",
      "  self.data[key] = value\n"
     ]
    },
    {
     "name": "stdout",
     "output_type": "stream",
     "text": [
      "--> added 'pos', the PAGA positions (adata.uns['paga'])\n",
      "WARNING: saving figure to file /media/xinyi/dcis2idc/plots/cnnvaeexp0/cluster_alltrain_reordered/minibatchkmean_ncluster8n_pcs50epoch311_plottingIdx_progBalanced_0_subcluster_all/dist2duct_bySample/pagagraphdist2duct_log_Ductal carcinoma in situ with early infiltratio_br301_4_cytokeratin_555_aSMA_647_hoechst_C6_allcells.pdf\n",
      "dist2duct_log_Ductal carcinoma in situ with early infiltratio_br301_4_cytokeratin_555_aSMA_647_hoechst_D1\n"
     ]
    },
    {
     "name": "stderr",
     "output_type": "stream",
     "text": [
      "/home/xinyi/.local/lib/python3.8/site-packages/anndata/compat/_overloaded_dict.py:106: ImplicitModificationWarning: Trying to modify attribute `._uns` of view, initializing view as actual.\n",
      "  self.data[key] = value\n"
     ]
    },
    {
     "name": "stdout",
     "output_type": "stream",
     "text": [
      "--> added 'pos', the PAGA positions (adata.uns['paga'])\n",
      "WARNING: saving figure to file /media/xinyi/dcis2idc/plots/cnnvaeexp0/cluster_alltrain_reordered/minibatchkmean_ncluster8n_pcs50epoch311_plottingIdx_progBalanced_0_subcluster_all/dist2duct_bySample/pagagraphdist2duct_log_Ductal carcinoma in situ with early infiltratio_br301_4_cytokeratin_555_aSMA_647_hoechst_D1_allcells.pdf\n",
      "dist2duct_log_Ductal carcinoma in situ with early infiltratio_br301_4_cytokeratin_555_aSMA_647_hoechst_D2\n"
     ]
    },
    {
     "name": "stderr",
     "output_type": "stream",
     "text": [
      "/home/xinyi/.local/lib/python3.8/site-packages/anndata/compat/_overloaded_dict.py:106: ImplicitModificationWarning: Trying to modify attribute `._uns` of view, initializing view as actual.\n",
      "  self.data[key] = value\n"
     ]
    },
    {
     "name": "stdout",
     "output_type": "stream",
     "text": [
      "--> added 'pos', the PAGA positions (adata.uns['paga'])\n",
      "WARNING: saving figure to file /media/xinyi/dcis2idc/plots/cnnvaeexp0/cluster_alltrain_reordered/minibatchkmean_ncluster8n_pcs50epoch311_plottingIdx_progBalanced_0_subcluster_all/dist2duct_bySample/pagagraphdist2duct_log_Ductal carcinoma in situ with early infiltratio_br301_4_cytokeratin_555_aSMA_647_hoechst_D2_allcells.pdf\n",
      "dist2duct_log_Invasive ductal carcinoma and breast tissue_br301_4_cytokeratin_555_aSMA_647_hoechst_D3\n"
     ]
    },
    {
     "name": "stderr",
     "output_type": "stream",
     "text": [
      "/home/xinyi/.local/lib/python3.8/site-packages/anndata/compat/_overloaded_dict.py:106: ImplicitModificationWarning: Trying to modify attribute `._uns` of view, initializing view as actual.\n",
      "  self.data[key] = value\n"
     ]
    },
    {
     "name": "stdout",
     "output_type": "stream",
     "text": [
      "--> added 'pos', the PAGA positions (adata.uns['paga'])\n",
      "WARNING: saving figure to file /media/xinyi/dcis2idc/plots/cnnvaeexp0/cluster_alltrain_reordered/minibatchkmean_ncluster8n_pcs50epoch311_plottingIdx_progBalanced_0_subcluster_all/dist2duct_bySample/pagagraphdist2duct_log_Invasive ductal carcinoma and breast tissue_br301_4_cytokeratin_555_aSMA_647_hoechst_D3_allcells.pdf\n",
      "dist2duct_log_Invasive ductal carcinoma_br301_4_cytokeratin_555_aSMA_647_hoechst_D4\n"
     ]
    },
    {
     "name": "stderr",
     "output_type": "stream",
     "text": [
      "/home/xinyi/.local/lib/python3.8/site-packages/anndata/compat/_overloaded_dict.py:106: ImplicitModificationWarning: Trying to modify attribute `._uns` of view, initializing view as actual.\n",
      "  self.data[key] = value\n"
     ]
    },
    {
     "name": "stdout",
     "output_type": "stream",
     "text": [
      "--> added 'pos', the PAGA positions (adata.uns['paga'])\n",
      "WARNING: saving figure to file /media/xinyi/dcis2idc/plots/cnnvaeexp0/cluster_alltrain_reordered/minibatchkmean_ncluster8n_pcs50epoch311_plottingIdx_progBalanced_0_subcluster_all/dist2duct_bySample/pagagraphdist2duct_log_Invasive ductal carcinoma_br301_4_cytokeratin_555_aSMA_647_hoechst_D4_allcells.pdf\n",
      "dist2duct_log_Ductal carcinoma in situ with early infiltratio_br301_4_cytokeratin_555_aSMA_647_hoechst_D5\n"
     ]
    },
    {
     "name": "stderr",
     "output_type": "stream",
     "text": [
      "/home/xinyi/.local/lib/python3.8/site-packages/anndata/compat/_overloaded_dict.py:106: ImplicitModificationWarning: Trying to modify attribute `._uns` of view, initializing view as actual.\n",
      "  self.data[key] = value\n"
     ]
    },
    {
     "name": "stdout",
     "output_type": "stream",
     "text": [
      "--> added 'pos', the PAGA positions (adata.uns['paga'])\n",
      "WARNING: saving figure to file /media/xinyi/dcis2idc/plots/cnnvaeexp0/cluster_alltrain_reordered/minibatchkmean_ncluster8n_pcs50epoch311_plottingIdx_progBalanced_0_subcluster_all/dist2duct_bySample/pagagraphdist2duct_log_Ductal carcinoma in situ with early infiltratio_br301_4_cytokeratin_555_aSMA_647_hoechst_D5_allcells.pdf\n",
      "dist2duct_log_Ductal carcinoma in situ with early infiltratio_br301_4_cytokeratin_555_aSMA_647_hoechst_D6\n"
     ]
    },
    {
     "name": "stderr",
     "output_type": "stream",
     "text": [
      "/home/xinyi/.local/lib/python3.8/site-packages/anndata/compat/_overloaded_dict.py:106: ImplicitModificationWarning: Trying to modify attribute `._uns` of view, initializing view as actual.\n",
      "  self.data[key] = value\n"
     ]
    },
    {
     "name": "stdout",
     "output_type": "stream",
     "text": [
      "--> added 'pos', the PAGA positions (adata.uns['paga'])\n",
      "WARNING: saving figure to file /media/xinyi/dcis2idc/plots/cnnvaeexp0/cluster_alltrain_reordered/minibatchkmean_ncluster8n_pcs50epoch311_plottingIdx_progBalanced_0_subcluster_all/dist2duct_bySample/pagagraphdist2duct_log_Ductal carcinoma in situ with early infiltratio_br301_4_cytokeratin_555_aSMA_647_hoechst_D6_allcells.pdf\n",
      "dist2duct_log_Ductal carcinoma in situ with early infiltratio_br301_4_cytokeratin_555_aSMA_647_hoechst_E1\n"
     ]
    },
    {
     "name": "stderr",
     "output_type": "stream",
     "text": [
      "/home/xinyi/.local/lib/python3.8/site-packages/anndata/compat/_overloaded_dict.py:106: ImplicitModificationWarning: Trying to modify attribute `._uns` of view, initializing view as actual.\n",
      "  self.data[key] = value\n"
     ]
    },
    {
     "name": "stdout",
     "output_type": "stream",
     "text": [
      "--> added 'pos', the PAGA positions (adata.uns['paga'])\n",
      "WARNING: saving figure to file /media/xinyi/dcis2idc/plots/cnnvaeexp0/cluster_alltrain_reordered/minibatchkmean_ncluster8n_pcs50epoch311_plottingIdx_progBalanced_0_subcluster_all/dist2duct_bySample/pagagraphdist2duct_log_Ductal carcinoma in situ with early infiltratio_br301_4_cytokeratin_555_aSMA_647_hoechst_E1_allcells.pdf\n",
      "dist2duct_log_Ductal carcinoma in situ with early infiltratio_br301_4_cytokeratin_555_aSMA_647_hoechst_E2\n"
     ]
    },
    {
     "name": "stderr",
     "output_type": "stream",
     "text": [
      "/home/xinyi/.local/lib/python3.8/site-packages/anndata/compat/_overloaded_dict.py:106: ImplicitModificationWarning: Trying to modify attribute `._uns` of view, initializing view as actual.\n",
      "  self.data[key] = value\n"
     ]
    },
    {
     "name": "stdout",
     "output_type": "stream",
     "text": [
      "--> added 'pos', the PAGA positions (adata.uns['paga'])\n",
      "WARNING: saving figure to file /media/xinyi/dcis2idc/plots/cnnvaeexp0/cluster_alltrain_reordered/minibatchkmean_ncluster8n_pcs50epoch311_plottingIdx_progBalanced_0_subcluster_all/dist2duct_bySample/pagagraphdist2duct_log_Ductal carcinoma in situ with early infiltratio_br301_4_cytokeratin_555_aSMA_647_hoechst_E2_allcells.pdf\n",
      "dist2duct_log_Invasive ductal carcinoma and breast tissue_br301_4_cytokeratin_555_aSMA_647_hoechst_E3\n"
     ]
    },
    {
     "name": "stderr",
     "output_type": "stream",
     "text": [
      "/home/xinyi/.local/lib/python3.8/site-packages/anndata/compat/_overloaded_dict.py:106: ImplicitModificationWarning: Trying to modify attribute `._uns` of view, initializing view as actual.\n",
      "  self.data[key] = value\n"
     ]
    },
    {
     "name": "stdout",
     "output_type": "stream",
     "text": [
      "--> added 'pos', the PAGA positions (adata.uns['paga'])\n",
      "WARNING: saving figure to file /media/xinyi/dcis2idc/plots/cnnvaeexp0/cluster_alltrain_reordered/minibatchkmean_ncluster8n_pcs50epoch311_plottingIdx_progBalanced_0_subcluster_all/dist2duct_bySample/pagagraphdist2duct_log_Invasive ductal carcinoma and breast tissue_br301_4_cytokeratin_555_aSMA_647_hoechst_E3_allcells.pdf\n",
      "dist2duct_log_Invasive ductal carcinoma_br301_4_cytokeratin_555_aSMA_647_hoechst_E4\n"
     ]
    },
    {
     "name": "stderr",
     "output_type": "stream",
     "text": [
      "/home/xinyi/.local/lib/python3.8/site-packages/anndata/compat/_overloaded_dict.py:106: ImplicitModificationWarning: Trying to modify attribute `._uns` of view, initializing view as actual.\n",
      "  self.data[key] = value\n"
     ]
    },
    {
     "name": "stdout",
     "output_type": "stream",
     "text": [
      "--> added 'pos', the PAGA positions (adata.uns['paga'])\n",
      "WARNING: saving figure to file /media/xinyi/dcis2idc/plots/cnnvaeexp0/cluster_alltrain_reordered/minibatchkmean_ncluster8n_pcs50epoch311_plottingIdx_progBalanced_0_subcluster_all/dist2duct_bySample/pagagraphdist2duct_log_Invasive ductal carcinoma_br301_4_cytokeratin_555_aSMA_647_hoechst_E4_allcells.pdf\n",
      "dist2duct_log_Ductal carcinoma in situ with early infiltratio_br301_4_cytokeratin_555_aSMA_647_hoechst_E5\n"
     ]
    },
    {
     "name": "stderr",
     "output_type": "stream",
     "text": [
      "/home/xinyi/.local/lib/python3.8/site-packages/anndata/compat/_overloaded_dict.py:106: ImplicitModificationWarning: Trying to modify attribute `._uns` of view, initializing view as actual.\n",
      "  self.data[key] = value\n"
     ]
    },
    {
     "name": "stdout",
     "output_type": "stream",
     "text": [
      "--> added 'pos', the PAGA positions (adata.uns['paga'])\n",
      "WARNING: saving figure to file /media/xinyi/dcis2idc/plots/cnnvaeexp0/cluster_alltrain_reordered/minibatchkmean_ncluster8n_pcs50epoch311_plottingIdx_progBalanced_0_subcluster_all/dist2duct_bySample/pagagraphdist2duct_log_Ductal carcinoma in situ with early infiltratio_br301_4_cytokeratin_555_aSMA_647_hoechst_E5_allcells.pdf\n",
      "dist2duct_log_Ductal carcinoma in situ with early infiltratio_br301_4_cytokeratin_555_aSMA_647_hoechst_E6\n"
     ]
    },
    {
     "name": "stderr",
     "output_type": "stream",
     "text": [
      "/home/xinyi/.local/lib/python3.8/site-packages/anndata/compat/_overloaded_dict.py:106: ImplicitModificationWarning: Trying to modify attribute `._uns` of view, initializing view as actual.\n",
      "  self.data[key] = value\n"
     ]
    },
    {
     "name": "stdout",
     "output_type": "stream",
     "text": [
      "--> added 'pos', the PAGA positions (adata.uns['paga'])\n",
      "WARNING: saving figure to file /media/xinyi/dcis2idc/plots/cnnvaeexp0/cluster_alltrain_reordered/minibatchkmean_ncluster8n_pcs50epoch311_plottingIdx_progBalanced_0_subcluster_all/dist2duct_bySample/pagagraphdist2duct_log_Ductal carcinoma in situ with early infiltratio_br301_4_cytokeratin_555_aSMA_647_hoechst_E6_allcells.pdf\n",
      "dist2duct_log_Invasive ductal carcinoma_br8018a_1_cytokeratin_555_aSMA_647_hoechst_F2\n"
     ]
    },
    {
     "name": "stderr",
     "output_type": "stream",
     "text": [
      "/home/xinyi/.local/lib/python3.8/site-packages/anndata/compat/_overloaded_dict.py:106: ImplicitModificationWarning: Trying to modify attribute `._uns` of view, initializing view as actual.\n",
      "  self.data[key] = value\n"
     ]
    },
    {
     "name": "stdout",
     "output_type": "stream",
     "text": [
      "--> added 'pos', the PAGA positions (adata.uns['paga'])\n",
      "WARNING: saving figure to file /media/xinyi/dcis2idc/plots/cnnvaeexp0/cluster_alltrain_reordered/minibatchkmean_ncluster8n_pcs50epoch311_plottingIdx_progBalanced_0_subcluster_all/dist2duct_bySample/pagagraphdist2duct_log_Invasive ductal carcinoma_br8018a_1_cytokeratin_555_aSMA_647_hoechst_F2_allcells.pdf\n",
      "dist2duct_log_Invasive ductal carcinoma_br8018a_1_cytokeratin_555_aSMA_647_hoechst_F7\n"
     ]
    },
    {
     "name": "stderr",
     "output_type": "stream",
     "text": [
      "/home/xinyi/.local/lib/python3.8/site-packages/anndata/compat/_overloaded_dict.py:106: ImplicitModificationWarning: Trying to modify attribute `._uns` of view, initializing view as actual.\n",
      "  self.data[key] = value\n"
     ]
    },
    {
     "name": "stdout",
     "output_type": "stream",
     "text": [
      "--> added 'pos', the PAGA positions (adata.uns['paga'])\n",
      "WARNING: saving figure to file /media/xinyi/dcis2idc/plots/cnnvaeexp0/cluster_alltrain_reordered/minibatchkmean_ncluster8n_pcs50epoch311_plottingIdx_progBalanced_0_subcluster_all/dist2duct_bySample/pagagraphdist2duct_log_Invasive ductal carcinoma_br8018a_1_cytokeratin_555_aSMA_647_hoechst_F7_allcells.pdf\n"
     ]
    }
   ],
   "source": [
    "#by sample \n",
    "latent_adata.obs['prog']=progList\n",
    "latent_adata.obs['samplename']=allImgNames\n",
    "# vmin=0\n",
    "# vmax=np.max(latent_adata.obs['dist2duct_log'])\n",
    "vmin=0.9\n",
    "vmax=5.1\n",
    "# for prog in np.unique(progList[np.isfinite(latent_adata.obs['dist2duct_log'])]):\n",
    "subclusterplotdir_samples=os.path.join(subclusterplotdir,'dist2duct_bySample')\n",
    "if not os.path.exists(subclusterplotdir_samples):\n",
    "    os.mkdir(subclusterplotdir_samples)\n",
    "for s in np.unique(allImgNames[np.isfinite(latent_adata.obs['dist2duct_log'])]):\n",
    "    prog=np.unique(progList[allImgNames==s])[0]\n",
    "    v='dist2duct_log_'+prog+'_'+s\n",
    "    protvalues=np.repeat(np.nan,latent_adata.shape[0])\n",
    "    protvalues[allidx]=np.log(allstats+1)\n",
    "    protvalues[latent_adata.obs['samplename']!=s]=np.nan\n",
    "    latent_adata.obs[v]=protvalues\n",
    "    sc.settings.figdir=os.path.join(subclusterplotdir_samples)\n",
    "    \n",
    "    latent_adata_sub=latent_adata[np.isfinite(latent_adata.obs[v].to_numpy())]\n",
    "    idxKeep=np.repeat(False,latent_adata_sub.shape[0])\n",
    "    for c in np.unique(latent_adata_sub.obs['kmeans_sub']):\n",
    "        if np.sum(latent_adata_sub.obs['kmeans_sub']==c)>minCell:\n",
    "            idxKeep=np.logical_or(idxKeep,latent_adata_sub.obs['kmeans_sub']==c)\n",
    "    latent_adata_sub=latent_adata_sub[idxKeep]\n",
    "    if latent_adata_sub.shape[0]>0:\n",
    "        print(v)\n",
    "#         subsizes=np.zeros(np.unique(kmeans_sub).size)\n",
    "        nonzeroSub,counts=np.unique(latent_adata_sub.obs['kmeans_sub'],return_counts=True)\n",
    "#         for sidx in range(nonzeroSub.size):\n",
    "#             subsizes[np.unique(kmeans_sub)==nonzeroSub[sidx]]=counts[sidx]\n",
    "        latent_adata_sub.uns['kmeans_sub_sizes']=counts\n",
    "        _,idxKeep,_=np.intersect1d(np.unique(kmeans_sub),nonzeroSub,return_indices=True)\n",
    "        latent_adata_sub.uns['paga']['connectivities']=latent_adata.uns['paga']['connectivities'][idxKeep][:,idxKeep]\n",
    "\n",
    "\n",
    "\n",
    "#         sc.pl.paga(latent_adata_sub, color=[v],pos=trainPagaPos[idxKeep],node_size_power=1,fontoutline=0.5,save='graph'+v+'_allcells.png',show=False,random_state=6,cmap='jet')\n",
    "        sc.pl.paga(latent_adata_sub, color=[v],pos=trainPagaPos[idxKeep],fontsize=18,fontoutline=1,max_edge_width=10, node_size_scale=5,node_size_power=1,save='graph'+v+'_allcells.pdf',show=False,random_state=6,vmin=vmin,vmax=vmax,cmap='jet')\n",
    "#     #     sc.tl.umap(latent_adata, init_pos='paga')\n",
    "#         sc.pl.umap(latent_adata_sub,color=[v],legend_loc='on data',save='graph_umap'+v+'.png',show=False,size=3,vmin=vmin,vmax=vmax)\n",
    "\n",
    "\n"
   ]
  },
  {
   "cell_type": "code",
   "execution_count": 216,
   "metadata": {},
   "outputs": [
    {
     "name": "stdout",
     "output_type": "stream",
     "text": [
      "--> added 'pos', the PAGA positions (adata.uns['paga'])\n",
      "WARNING: saving figure to file /media/xinyi/dcis2idc/plots/cnnvaeexp0/cluster_alltrain_reordered/minibatchkmean_ncluster8n_pcs50epoch311_plottingIdx_progBalanced_0_subcluster_all/pagagraphoutDuct_allcells.png\n"
     ]
    },
    {
     "data": {
      "text/plain": [
       "<Axes:>"
      ]
     },
     "execution_count": 216,
     "metadata": {},
     "output_type": "execute_result"
    }
   ],
   "source": [
    "#%cells out of duct\n",
    "#add single cell plots & use all cells -- use previously calculated graph in combined subcluster (neighbors=4)\n",
    "v='outDuct'\n",
    "sc.settings.figdir=os.path.join(subclusterplotdir)\n",
    "\n",
    "sc.pl.paga(latent_adata,pos=trainPagaPos,node_size_power=1,fontoutline=0.5, color=[v],save='graph'+v+'_allcells.png',show=False,random_state=6)\n",
    "\n"
   ]
  },
  {
   "cell_type": "code",
   "execution_count": 217,
   "metadata": {
    "scrolled": true
   },
   "outputs": [
    {
     "name": "stdout",
     "output_type": "stream",
     "text": [
      "outDuct_Breast tissue\n"
     ]
    },
    {
     "name": "stderr",
     "output_type": "stream",
     "text": [
      "/home/xinyi/.local/lib/python3.8/site-packages/anndata/compat/_overloaded_dict.py:106: ImplicitModificationWarning: Trying to modify attribute `._uns` of view, initializing view as actual.\n",
      "  self.data[key] = value\n"
     ]
    },
    {
     "name": "stdout",
     "output_type": "stream",
     "text": [
      "--> added 'pos', the PAGA positions (adata.uns['paga'])\n",
      "WARNING: saving figure to file /media/xinyi/dcis2idc/plots/cnnvaeexp0/cluster_alltrain_reordered/minibatchkmean_ncluster8n_pcs50epoch311_plottingIdx_progBalanced_0_subcluster_all/pagagraphoutDuct_Breast tissue_allcells.png\n",
      "outDuct_Ductal carcinoma in situ\n"
     ]
    },
    {
     "name": "stderr",
     "output_type": "stream",
     "text": [
      "/home/xinyi/.local/lib/python3.8/site-packages/anndata/compat/_overloaded_dict.py:106: ImplicitModificationWarning: Trying to modify attribute `._uns` of view, initializing view as actual.\n",
      "  self.data[key] = value\n"
     ]
    },
    {
     "name": "stdout",
     "output_type": "stream",
     "text": [
      "--> added 'pos', the PAGA positions (adata.uns['paga'])\n",
      "WARNING: saving figure to file /media/xinyi/dcis2idc/plots/cnnvaeexp0/cluster_alltrain_reordered/minibatchkmean_ncluster8n_pcs50epoch311_plottingIdx_progBalanced_0_subcluster_all/pagagraphoutDuct_Ductal carcinoma in situ_allcells.png\n",
      "outDuct_Ductal carcinoma in situ and breast tissue\n"
     ]
    },
    {
     "name": "stderr",
     "output_type": "stream",
     "text": [
      "/home/xinyi/.local/lib/python3.8/site-packages/anndata/compat/_overloaded_dict.py:106: ImplicitModificationWarning: Trying to modify attribute `._uns` of view, initializing view as actual.\n",
      "  self.data[key] = value\n"
     ]
    },
    {
     "name": "stdout",
     "output_type": "stream",
     "text": [
      "--> added 'pos', the PAGA positions (adata.uns['paga'])\n",
      "WARNING: saving figure to file /media/xinyi/dcis2idc/plots/cnnvaeexp0/cluster_alltrain_reordered/minibatchkmean_ncluster8n_pcs50epoch311_plottingIdx_progBalanced_0_subcluster_all/pagagraphoutDuct_Ductal carcinoma in situ and breast tissue_allcells.png\n",
      "outDuct_Ductal carcinoma in situ with early infiltratio\n"
     ]
    },
    {
     "name": "stderr",
     "output_type": "stream",
     "text": [
      "/home/xinyi/.local/lib/python3.8/site-packages/anndata/compat/_overloaded_dict.py:106: ImplicitModificationWarning: Trying to modify attribute `._uns` of view, initializing view as actual.\n",
      "  self.data[key] = value\n"
     ]
    },
    {
     "name": "stdout",
     "output_type": "stream",
     "text": [
      "--> added 'pos', the PAGA positions (adata.uns['paga'])\n",
      "WARNING: saving figure to file /media/xinyi/dcis2idc/plots/cnnvaeexp0/cluster_alltrain_reordered/minibatchkmean_ncluster8n_pcs50epoch311_plottingIdx_progBalanced_0_subcluster_all/pagagraphoutDuct_Ductal carcinoma in situ with early infiltratio_allcells.png\n",
      "outDuct_Invasive ductal carcinoma\n"
     ]
    },
    {
     "name": "stderr",
     "output_type": "stream",
     "text": [
      "/home/xinyi/.local/lib/python3.8/site-packages/anndata/compat/_overloaded_dict.py:106: ImplicitModificationWarning: Trying to modify attribute `._uns` of view, initializing view as actual.\n",
      "  self.data[key] = value\n"
     ]
    },
    {
     "name": "stdout",
     "output_type": "stream",
     "text": [
      "--> added 'pos', the PAGA positions (adata.uns['paga'])\n",
      "WARNING: saving figure to file /media/xinyi/dcis2idc/plots/cnnvaeexp0/cluster_alltrain_reordered/minibatchkmean_ncluster8n_pcs50epoch311_plottingIdx_progBalanced_0_subcluster_all/pagagraphoutDuct_Invasive ductal carcinoma_allcells.png\n",
      "outDuct_Invasive ductal carcinoma and breast tissue\n"
     ]
    },
    {
     "name": "stderr",
     "output_type": "stream",
     "text": [
      "/home/xinyi/.local/lib/python3.8/site-packages/anndata/compat/_overloaded_dict.py:106: ImplicitModificationWarning: Trying to modify attribute `._uns` of view, initializing view as actual.\n",
      "  self.data[key] = value\n"
     ]
    },
    {
     "name": "stdout",
     "output_type": "stream",
     "text": [
      "--> added 'pos', the PAGA positions (adata.uns['paga'])\n",
      "WARNING: saving figure to file /media/xinyi/dcis2idc/plots/cnnvaeexp0/cluster_alltrain_reordered/minibatchkmean_ncluster8n_pcs50epoch311_plottingIdx_progBalanced_0_subcluster_all/pagagraphoutDuct_Invasive ductal carcinoma and breast tissue_allcells.png\n",
      "outDuct_Micropapillary type ductal carcinoma in situ wi\n"
     ]
    },
    {
     "name": "stderr",
     "output_type": "stream",
     "text": [
      "/home/xinyi/.local/lib/python3.8/site-packages/anndata/compat/_overloaded_dict.py:106: ImplicitModificationWarning: Trying to modify attribute `._uns` of view, initializing view as actual.\n",
      "  self.data[key] = value\n"
     ]
    },
    {
     "name": "stdout",
     "output_type": "stream",
     "text": [
      "--> added 'pos', the PAGA positions (adata.uns['paga'])\n",
      "WARNING: saving figure to file /media/xinyi/dcis2idc/plots/cnnvaeexp0/cluster_alltrain_reordered/minibatchkmean_ncluster8n_pcs50epoch311_plottingIdx_progBalanced_0_subcluster_all/pagagraphoutDuct_Micropapillary type ductal carcinoma in situ wi_allcells.png\n"
     ]
    }
   ],
   "source": [
    "# %cells out of duct - by prog\n",
    "for prog in np.unique(progList[np.isfinite(latent_adata.obs['dist2duct_log'])]):\n",
    "    v='outDuct_'+prog\n",
    "    protvalues=np.repeat(np.nan,latent_adata.shape[0])\n",
    "    protvalues[allidx]=allstats_binary\n",
    "    protvalues[latent_adata.obs['prog']!=prog]=np.nan\n",
    "    latent_adata.obs[v]=protvalues\n",
    "    sc.settings.figdir=os.path.join(subclusterplotdir)\n",
    "\n",
    "    latent_adata_sub=latent_adata[np.isfinite(latent_adata.obs[v].to_numpy())]\n",
    "    idxKeep=np.repeat(False,latent_adata_sub.shape[0])\n",
    "    for c in np.unique(latent_adata_sub.obs['kmeans_sub']):\n",
    "        if np.sum(latent_adata_sub.obs['kmeans_sub']==c)>minCell:\n",
    "            idxKeep=np.logical_or(idxKeep,latent_adata_sub.obs['kmeans_sub']==c)\n",
    "    latent_adata_sub=latent_adata_sub[idxKeep]\n",
    "    if latent_adata_sub.shape[0]>0:\n",
    "        print(v)\n",
    "#         subsizes=np.zeros(np.unique(kmeans_sub).size)\n",
    "        nonzeroSub,counts=np.unique(latent_adata_sub.obs['kmeans_sub'],return_counts=True)\n",
    "#         for sidx in range(nonzeroSub.size):\n",
    "#             subsizes[np.unique(kmeans_sub)==nonzeroSub[sidx]]=counts[sidx]\n",
    "        latent_adata_sub.uns['kmeans_sub_sizes']=counts\n",
    "        _,idxKeep,_=np.intersect1d(np.unique(kmeans_sub),nonzeroSub,return_indices=True)\n",
    "        latent_adata_sub.uns['paga']['connectivities']=latent_adata.uns['paga']['connectivities'][idxKeep][:,idxKeep]\n",
    "\n",
    "\n",
    "        sc.pl.paga(latent_adata_sub, color=[v],pos=trainPagaPos[idxKeep],node_size_power=1,fontoutline=0.5,save='graph'+v+'_allcells.png',show=False,random_state=6,cmap='jet')\n",
    "\n",
    "\n"
   ]
  },
  {
   "cell_type": "code",
   "execution_count": 21,
   "metadata": {},
   "outputs": [
    {
     "name": "stdout",
     "output_type": "stream",
     "text": [
      "--> added 'pos', the PAGA positions (adata.uns['paga'])\n",
      "WARNING: saving figure to file /media/xinyi/dcis2idc/plots/cnnvaeexp0/cluster_alltrain_reordered/minibatchkmean_ncluster8n_pcs50epoch311_plottingIdx_progBalanced_0_subcluster_all/pagagraphdist2duct_log_outOnly_allcells.pdf\n"
     ]
    },
    {
     "data": {
      "text/plain": [
       "<Axes:>"
      ]
     },
     "execution_count": 21,
     "metadata": {},
     "output_type": "execute_result"
    }
   ],
   "source": [
    "#distance excluding cells in duct\n",
    "\n",
    "v='dist2duct_log_outOnly'\n",
    "sc.settings.figdir=os.path.join(subclusterplotdir)\n",
    "\n",
    "sc.pl.paga(latent_adata, color=[v],pos=trainPagaPos,fontsize=18,fontoutline=1,max_edge_width=10, node_size_scale=5,node_size_power=1,save='graph'+v+'_allcells.pdf',show=False,random_state=6)\n",
    "# # sc.tl.umap(latent_adata, init_pos='paga')\n",
    "# sc.pl.umap(latent_adata,color=[v],legend_loc='on data',save='graph_umap'+v+'.png',show=False,size=3)\n",
    "\n",
    "\n"
   ]
  },
  {
   "cell_type": "code",
   "execution_count": 219,
   "metadata": {
    "scrolled": true
   },
   "outputs": [
    {
     "name": "stdout",
     "output_type": "stream",
     "text": [
      "dist2duct_log_outOnly_Breast tissue\n"
     ]
    },
    {
     "name": "stderr",
     "output_type": "stream",
     "text": [
      "/home/xinyi/.local/lib/python3.8/site-packages/anndata/compat/_overloaded_dict.py:106: ImplicitModificationWarning: Trying to modify attribute `._uns` of view, initializing view as actual.\n",
      "  self.data[key] = value\n"
     ]
    },
    {
     "name": "stdout",
     "output_type": "stream",
     "text": [
      "--> added 'pos', the PAGA positions (adata.uns['paga'])\n",
      "WARNING: saving figure to file /media/xinyi/dcis2idc/plots/cnnvaeexp0/cluster_alltrain_reordered/minibatchkmean_ncluster8n_pcs50epoch311_plottingIdx_progBalanced_0_subcluster_all/pagagraphdist2duct_log_outOnly_Breast tissue_allcells.png\n",
      "WARNING: saving figure to file /media/xinyi/dcis2idc/plots/cnnvaeexp0/cluster_alltrain_reordered/minibatchkmean_ncluster8n_pcs50epoch311_plottingIdx_progBalanced_0_subcluster_all/umapgraph_umapdist2duct_log_outOnly_Breast tissue.png\n",
      "dist2duct_log_outOnly_Ductal carcinoma in situ\n"
     ]
    },
    {
     "name": "stderr",
     "output_type": "stream",
     "text": [
      "/home/xinyi/.local/lib/python3.8/site-packages/anndata/compat/_overloaded_dict.py:106: ImplicitModificationWarning: Trying to modify attribute `._uns` of view, initializing view as actual.\n",
      "  self.data[key] = value\n"
     ]
    },
    {
     "name": "stdout",
     "output_type": "stream",
     "text": [
      "--> added 'pos', the PAGA positions (adata.uns['paga'])\n",
      "WARNING: saving figure to file /media/xinyi/dcis2idc/plots/cnnvaeexp0/cluster_alltrain_reordered/minibatchkmean_ncluster8n_pcs50epoch311_plottingIdx_progBalanced_0_subcluster_all/pagagraphdist2duct_log_outOnly_Ductal carcinoma in situ_allcells.png\n",
      "WARNING: saving figure to file /media/xinyi/dcis2idc/plots/cnnvaeexp0/cluster_alltrain_reordered/minibatchkmean_ncluster8n_pcs50epoch311_plottingIdx_progBalanced_0_subcluster_all/umapgraph_umapdist2duct_log_outOnly_Ductal carcinoma in situ.png\n",
      "dist2duct_log_outOnly_Ductal carcinoma in situ and breast tissue\n"
     ]
    },
    {
     "name": "stderr",
     "output_type": "stream",
     "text": [
      "/home/xinyi/.local/lib/python3.8/site-packages/anndata/compat/_overloaded_dict.py:106: ImplicitModificationWarning: Trying to modify attribute `._uns` of view, initializing view as actual.\n",
      "  self.data[key] = value\n"
     ]
    },
    {
     "name": "stdout",
     "output_type": "stream",
     "text": [
      "--> added 'pos', the PAGA positions (adata.uns['paga'])\n",
      "WARNING: saving figure to file /media/xinyi/dcis2idc/plots/cnnvaeexp0/cluster_alltrain_reordered/minibatchkmean_ncluster8n_pcs50epoch311_plottingIdx_progBalanced_0_subcluster_all/pagagraphdist2duct_log_outOnly_Ductal carcinoma in situ and breast tissue_allcells.png\n",
      "WARNING: saving figure to file /media/xinyi/dcis2idc/plots/cnnvaeexp0/cluster_alltrain_reordered/minibatchkmean_ncluster8n_pcs50epoch311_plottingIdx_progBalanced_0_subcluster_all/umapgraph_umapdist2duct_log_outOnly_Ductal carcinoma in situ and breast tissue.png\n",
      "dist2duct_log_outOnly_Ductal carcinoma in situ with early infiltratio\n"
     ]
    },
    {
     "name": "stderr",
     "output_type": "stream",
     "text": [
      "/home/xinyi/.local/lib/python3.8/site-packages/anndata/compat/_overloaded_dict.py:106: ImplicitModificationWarning: Trying to modify attribute `._uns` of view, initializing view as actual.\n",
      "  self.data[key] = value\n"
     ]
    },
    {
     "name": "stdout",
     "output_type": "stream",
     "text": [
      "--> added 'pos', the PAGA positions (adata.uns['paga'])\n",
      "WARNING: saving figure to file /media/xinyi/dcis2idc/plots/cnnvaeexp0/cluster_alltrain_reordered/minibatchkmean_ncluster8n_pcs50epoch311_plottingIdx_progBalanced_0_subcluster_all/pagagraphdist2duct_log_outOnly_Ductal carcinoma in situ with early infiltratio_allcells.png\n",
      "WARNING: saving figure to file /media/xinyi/dcis2idc/plots/cnnvaeexp0/cluster_alltrain_reordered/minibatchkmean_ncluster8n_pcs50epoch311_plottingIdx_progBalanced_0_subcluster_all/umapgraph_umapdist2duct_log_outOnly_Ductal carcinoma in situ with early infiltratio.png\n",
      "dist2duct_log_outOnly_Invasive ductal carcinoma\n"
     ]
    },
    {
     "name": "stderr",
     "output_type": "stream",
     "text": [
      "/home/xinyi/.local/lib/python3.8/site-packages/anndata/compat/_overloaded_dict.py:106: ImplicitModificationWarning: Trying to modify attribute `._uns` of view, initializing view as actual.\n",
      "  self.data[key] = value\n"
     ]
    },
    {
     "name": "stdout",
     "output_type": "stream",
     "text": [
      "--> added 'pos', the PAGA positions (adata.uns['paga'])\n",
      "WARNING: saving figure to file /media/xinyi/dcis2idc/plots/cnnvaeexp0/cluster_alltrain_reordered/minibatchkmean_ncluster8n_pcs50epoch311_plottingIdx_progBalanced_0_subcluster_all/pagagraphdist2duct_log_outOnly_Invasive ductal carcinoma_allcells.png\n",
      "WARNING: saving figure to file /media/xinyi/dcis2idc/plots/cnnvaeexp0/cluster_alltrain_reordered/minibatchkmean_ncluster8n_pcs50epoch311_plottingIdx_progBalanced_0_subcluster_all/umapgraph_umapdist2duct_log_outOnly_Invasive ductal carcinoma.png\n",
      "dist2duct_log_outOnly_Invasive ductal carcinoma and breast tissue\n"
     ]
    },
    {
     "name": "stderr",
     "output_type": "stream",
     "text": [
      "/home/xinyi/.local/lib/python3.8/site-packages/anndata/compat/_overloaded_dict.py:106: ImplicitModificationWarning: Trying to modify attribute `._uns` of view, initializing view as actual.\n",
      "  self.data[key] = value\n"
     ]
    },
    {
     "name": "stdout",
     "output_type": "stream",
     "text": [
      "--> added 'pos', the PAGA positions (adata.uns['paga'])\n",
      "WARNING: saving figure to file /media/xinyi/dcis2idc/plots/cnnvaeexp0/cluster_alltrain_reordered/minibatchkmean_ncluster8n_pcs50epoch311_plottingIdx_progBalanced_0_subcluster_all/pagagraphdist2duct_log_outOnly_Invasive ductal carcinoma and breast tissue_allcells.png\n",
      "WARNING: saving figure to file /media/xinyi/dcis2idc/plots/cnnvaeexp0/cluster_alltrain_reordered/minibatchkmean_ncluster8n_pcs50epoch311_plottingIdx_progBalanced_0_subcluster_all/umapgraph_umapdist2duct_log_outOnly_Invasive ductal carcinoma and breast tissue.png\n",
      "dist2duct_log_outOnly_Micropapillary type ductal carcinoma in situ wi\n"
     ]
    },
    {
     "name": "stderr",
     "output_type": "stream",
     "text": [
      "/home/xinyi/.local/lib/python3.8/site-packages/anndata/compat/_overloaded_dict.py:106: ImplicitModificationWarning: Trying to modify attribute `._uns` of view, initializing view as actual.\n",
      "  self.data[key] = value\n"
     ]
    },
    {
     "name": "stdout",
     "output_type": "stream",
     "text": [
      "--> added 'pos', the PAGA positions (adata.uns['paga'])\n",
      "WARNING: saving figure to file /media/xinyi/dcis2idc/plots/cnnvaeexp0/cluster_alltrain_reordered/minibatchkmean_ncluster8n_pcs50epoch311_plottingIdx_progBalanced_0_subcluster_all/pagagraphdist2duct_log_outOnly_Micropapillary type ductal carcinoma in situ wi_allcells.png\n",
      "WARNING: saving figure to file /media/xinyi/dcis2idc/plots/cnnvaeexp0/cluster_alltrain_reordered/minibatchkmean_ncluster8n_pcs50epoch311_plottingIdx_progBalanced_0_subcluster_all/umapgraph_umapdist2duct_log_outOnly_Micropapillary type ductal carcinoma in situ wi.png\n"
     ]
    }
   ],
   "source": [
    "#distance excluding cells in duct - by prog\n",
    "vmin=0\n",
    "vmax=np.max(latent_adata.obs['dist2duct_log_outOnly'])\n",
    "for prog in np.unique(progList[np.isfinite(latent_adata.obs['dist2duct_log'])]):\n",
    "    v='dist2duct_log_outOnly_'+prog\n",
    "    protvalues=np.repeat(np.nan,latent_adata.shape[0])\n",
    "    protvalues[allidx[allstats>0]]=np.log(allstats[allstats>0]+1)\n",
    "    protvalues[latent_adata.obs['prog']!=prog]=np.nan\n",
    "    latent_adata.obs[v]=protvalues\n",
    "    sc.settings.figdir=os.path.join(subclusterplotdir)\n",
    "\n",
    "    latent_adata_sub=latent_adata[np.isfinite(latent_adata.obs[v].to_numpy())]\n",
    "    idxKeep=np.repeat(False,latent_adata_sub.shape[0])\n",
    "    for c in np.unique(latent_adata_sub.obs['kmeans_sub']):\n",
    "        if np.sum(latent_adata_sub.obs['kmeans_sub']==c)>minCell:\n",
    "            idxKeep=np.logical_or(idxKeep,latent_adata_sub.obs['kmeans_sub']==c)\n",
    "    latent_adata_sub=latent_adata_sub[idxKeep]\n",
    "    if latent_adata_sub.shape[0]>0:\n",
    "        print(v)\n",
    "#         subsizes=np.zeros(np.unique(kmeans_sub).size)\n",
    "        nonzeroSub,counts=np.unique(latent_adata_sub.obs['kmeans_sub'],return_counts=True)\n",
    "#         for sidx in range(nonzeroSub.size):\n",
    "#             subsizes[np.unique(kmeans_sub)==nonzeroSub[sidx]]=counts[sidx]\n",
    "        latent_adata_sub.uns['kmeans_sub_sizes']=counts\n",
    "        _,idxKeep,_=np.intersect1d(np.unique(kmeans_sub),nonzeroSub,return_indices=True)\n",
    "        latent_adata_sub.uns['paga']['connectivities']=latent_adata.uns['paga']['connectivities'][idxKeep][:,idxKeep]\n",
    "\n",
    "\n",
    "\n",
    "        sc.pl.paga(latent_adata_sub, color=[v],pos=trainPagaPos[idxKeep],node_size_power=1,fontoutline=0.5,save='graph'+v+'_allcells.png',show=False,random_state=6,cmap='jet')\n",
    "    #     sc.tl.umap(latent_adata, init_pos='paga')\n",
    "        sc.pl.umap(latent_adata_sub,color=[v],legend_loc='on data',save='graph_umap'+v+'.png',show=False,size=3,vmin=vmin,vmax=vmax)\n",
    "\n",
    "\n",
    "\n"
   ]
  },
  {
   "cell_type": "code",
   "execution_count": 220,
   "metadata": {
    "scrolled": true
   },
   "outputs": [
    {
     "name": "stdout",
     "output_type": "stream",
     "text": [
      "distThresh_Breast tissue_192\n"
     ]
    },
    {
     "name": "stderr",
     "output_type": "stream",
     "text": [
      "/home/xinyi/.local/lib/python3.8/site-packages/anndata/compat/_overloaded_dict.py:106: ImplicitModificationWarning: Trying to modify attribute `._uns` of view, initializing view as actual.\n",
      "  self.data[key] = value\n"
     ]
    },
    {
     "name": "stdout",
     "output_type": "stream",
     "text": [
      "--> added 'pos', the PAGA positions (adata.uns['paga'])\n",
      "WARNING: saving figure to file /media/xinyi/dcis2idc/plots/cnnvaeexp0/cluster_alltrain_reordered/minibatchkmean_ncluster8n_pcs50epoch311_plottingIdx_progBalanced_0_subcluster_all/distThresh/pagagraphdistThresh_Breast tissue_192_allcells.png\n",
      "distThresh_Ductal carcinoma in situ_192\n"
     ]
    },
    {
     "name": "stderr",
     "output_type": "stream",
     "text": [
      "/home/xinyi/.local/lib/python3.8/site-packages/anndata/compat/_overloaded_dict.py:106: ImplicitModificationWarning: Trying to modify attribute `._uns` of view, initializing view as actual.\n",
      "  self.data[key] = value\n"
     ]
    },
    {
     "name": "stdout",
     "output_type": "stream",
     "text": [
      "--> added 'pos', the PAGA positions (adata.uns['paga'])\n",
      "WARNING: saving figure to file /media/xinyi/dcis2idc/plots/cnnvaeexp0/cluster_alltrain_reordered/minibatchkmean_ncluster8n_pcs50epoch311_plottingIdx_progBalanced_0_subcluster_all/distThresh/pagagraphdistThresh_Ductal carcinoma in situ_192_allcells.png\n",
      "distThresh_Ductal carcinoma in situ and breast tissue_192\n"
     ]
    },
    {
     "name": "stderr",
     "output_type": "stream",
     "text": [
      "/home/xinyi/.local/lib/python3.8/site-packages/anndata/compat/_overloaded_dict.py:106: ImplicitModificationWarning: Trying to modify attribute `._uns` of view, initializing view as actual.\n",
      "  self.data[key] = value\n"
     ]
    },
    {
     "name": "stdout",
     "output_type": "stream",
     "text": [
      "--> added 'pos', the PAGA positions (adata.uns['paga'])\n",
      "WARNING: saving figure to file /media/xinyi/dcis2idc/plots/cnnvaeexp0/cluster_alltrain_reordered/minibatchkmean_ncluster8n_pcs50epoch311_plottingIdx_progBalanced_0_subcluster_all/distThresh/pagagraphdistThresh_Ductal carcinoma in situ and breast tissue_192_allcells.png\n",
      "distThresh_Ductal carcinoma in situ with early infiltratio_192\n"
     ]
    },
    {
     "name": "stderr",
     "output_type": "stream",
     "text": [
      "/home/xinyi/.local/lib/python3.8/site-packages/anndata/compat/_overloaded_dict.py:106: ImplicitModificationWarning: Trying to modify attribute `._uns` of view, initializing view as actual.\n",
      "  self.data[key] = value\n"
     ]
    },
    {
     "name": "stdout",
     "output_type": "stream",
     "text": [
      "--> added 'pos', the PAGA positions (adata.uns['paga'])\n",
      "WARNING: saving figure to file /media/xinyi/dcis2idc/plots/cnnvaeexp0/cluster_alltrain_reordered/minibatchkmean_ncluster8n_pcs50epoch311_plottingIdx_progBalanced_0_subcluster_all/distThresh/pagagraphdistThresh_Ductal carcinoma in situ with early infiltratio_192_allcells.png\n",
      "distThresh_Invasive ductal carcinoma_192\n"
     ]
    },
    {
     "name": "stderr",
     "output_type": "stream",
     "text": [
      "/home/xinyi/.local/lib/python3.8/site-packages/anndata/compat/_overloaded_dict.py:106: ImplicitModificationWarning: Trying to modify attribute `._uns` of view, initializing view as actual.\n",
      "  self.data[key] = value\n"
     ]
    },
    {
     "name": "stdout",
     "output_type": "stream",
     "text": [
      "--> added 'pos', the PAGA positions (adata.uns['paga'])\n",
      "WARNING: saving figure to file /media/xinyi/dcis2idc/plots/cnnvaeexp0/cluster_alltrain_reordered/minibatchkmean_ncluster8n_pcs50epoch311_plottingIdx_progBalanced_0_subcluster_all/distThresh/pagagraphdistThresh_Invasive ductal carcinoma_192_allcells.png\n",
      "distThresh_Invasive ductal carcinoma and breast tissue_192\n"
     ]
    },
    {
     "name": "stderr",
     "output_type": "stream",
     "text": [
      "/home/xinyi/.local/lib/python3.8/site-packages/anndata/compat/_overloaded_dict.py:106: ImplicitModificationWarning: Trying to modify attribute `._uns` of view, initializing view as actual.\n",
      "  self.data[key] = value\n"
     ]
    },
    {
     "name": "stdout",
     "output_type": "stream",
     "text": [
      "--> added 'pos', the PAGA positions (adata.uns['paga'])\n",
      "WARNING: saving figure to file /media/xinyi/dcis2idc/plots/cnnvaeexp0/cluster_alltrain_reordered/minibatchkmean_ncluster8n_pcs50epoch311_plottingIdx_progBalanced_0_subcluster_all/distThresh/pagagraphdistThresh_Invasive ductal carcinoma and breast tissue_192_allcells.png\n",
      "distThresh_Micropapillary type ductal carcinoma in situ wi_192\n"
     ]
    },
    {
     "name": "stderr",
     "output_type": "stream",
     "text": [
      "/home/xinyi/.local/lib/python3.8/site-packages/anndata/compat/_overloaded_dict.py:106: ImplicitModificationWarning: Trying to modify attribute `._uns` of view, initializing view as actual.\n",
      "  self.data[key] = value\n"
     ]
    },
    {
     "name": "stdout",
     "output_type": "stream",
     "text": [
      "--> added 'pos', the PAGA positions (adata.uns['paga'])\n",
      "WARNING: saving figure to file /media/xinyi/dcis2idc/plots/cnnvaeexp0/cluster_alltrain_reordered/minibatchkmean_ncluster8n_pcs50epoch311_plottingIdx_progBalanced_0_subcluster_all/distThresh/pagagraphdistThresh_Micropapillary type ductal carcinoma in situ wi_192_allcells.png\n",
      "distThresh_Breast tissue_480\n"
     ]
    },
    {
     "name": "stderr",
     "output_type": "stream",
     "text": [
      "/home/xinyi/.local/lib/python3.8/site-packages/anndata/compat/_overloaded_dict.py:106: ImplicitModificationWarning: Trying to modify attribute `._uns` of view, initializing view as actual.\n",
      "  self.data[key] = value\n"
     ]
    },
    {
     "name": "stdout",
     "output_type": "stream",
     "text": [
      "--> added 'pos', the PAGA positions (adata.uns['paga'])\n",
      "WARNING: saving figure to file /media/xinyi/dcis2idc/plots/cnnvaeexp0/cluster_alltrain_reordered/minibatchkmean_ncluster8n_pcs50epoch311_plottingIdx_progBalanced_0_subcluster_all/distThresh/pagagraphdistThresh_Breast tissue_480_allcells.png\n",
      "distThresh_Ductal carcinoma in situ_480\n"
     ]
    },
    {
     "name": "stderr",
     "output_type": "stream",
     "text": [
      "/home/xinyi/.local/lib/python3.8/site-packages/anndata/compat/_overloaded_dict.py:106: ImplicitModificationWarning: Trying to modify attribute `._uns` of view, initializing view as actual.\n",
      "  self.data[key] = value\n"
     ]
    },
    {
     "name": "stdout",
     "output_type": "stream",
     "text": [
      "--> added 'pos', the PAGA positions (adata.uns['paga'])\n",
      "WARNING: saving figure to file /media/xinyi/dcis2idc/plots/cnnvaeexp0/cluster_alltrain_reordered/minibatchkmean_ncluster8n_pcs50epoch311_plottingIdx_progBalanced_0_subcluster_all/distThresh/pagagraphdistThresh_Ductal carcinoma in situ_480_allcells.png\n",
      "distThresh_Ductal carcinoma in situ and breast tissue_480\n"
     ]
    },
    {
     "name": "stderr",
     "output_type": "stream",
     "text": [
      "/home/xinyi/.local/lib/python3.8/site-packages/anndata/compat/_overloaded_dict.py:106: ImplicitModificationWarning: Trying to modify attribute `._uns` of view, initializing view as actual.\n",
      "  self.data[key] = value\n"
     ]
    },
    {
     "name": "stdout",
     "output_type": "stream",
     "text": [
      "--> added 'pos', the PAGA positions (adata.uns['paga'])\n",
      "WARNING: saving figure to file /media/xinyi/dcis2idc/plots/cnnvaeexp0/cluster_alltrain_reordered/minibatchkmean_ncluster8n_pcs50epoch311_plottingIdx_progBalanced_0_subcluster_all/distThresh/pagagraphdistThresh_Ductal carcinoma in situ and breast tissue_480_allcells.png\n",
      "distThresh_Ductal carcinoma in situ with early infiltratio_480\n"
     ]
    },
    {
     "name": "stderr",
     "output_type": "stream",
     "text": [
      "/home/xinyi/.local/lib/python3.8/site-packages/anndata/compat/_overloaded_dict.py:106: ImplicitModificationWarning: Trying to modify attribute `._uns` of view, initializing view as actual.\n",
      "  self.data[key] = value\n"
     ]
    },
    {
     "name": "stdout",
     "output_type": "stream",
     "text": [
      "--> added 'pos', the PAGA positions (adata.uns['paga'])\n",
      "WARNING: saving figure to file /media/xinyi/dcis2idc/plots/cnnvaeexp0/cluster_alltrain_reordered/minibatchkmean_ncluster8n_pcs50epoch311_plottingIdx_progBalanced_0_subcluster_all/distThresh/pagagraphdistThresh_Ductal carcinoma in situ with early infiltratio_480_allcells.png\n",
      "distThresh_Invasive ductal carcinoma_480\n"
     ]
    },
    {
     "name": "stderr",
     "output_type": "stream",
     "text": [
      "/home/xinyi/.local/lib/python3.8/site-packages/anndata/compat/_overloaded_dict.py:106: ImplicitModificationWarning: Trying to modify attribute `._uns` of view, initializing view as actual.\n",
      "  self.data[key] = value\n"
     ]
    },
    {
     "name": "stdout",
     "output_type": "stream",
     "text": [
      "--> added 'pos', the PAGA positions (adata.uns['paga'])\n",
      "WARNING: saving figure to file /media/xinyi/dcis2idc/plots/cnnvaeexp0/cluster_alltrain_reordered/minibatchkmean_ncluster8n_pcs50epoch311_plottingIdx_progBalanced_0_subcluster_all/distThresh/pagagraphdistThresh_Invasive ductal carcinoma_480_allcells.png\n",
      "distThresh_Invasive ductal carcinoma and breast tissue_480\n"
     ]
    },
    {
     "name": "stderr",
     "output_type": "stream",
     "text": [
      "/home/xinyi/.local/lib/python3.8/site-packages/anndata/compat/_overloaded_dict.py:106: ImplicitModificationWarning: Trying to modify attribute `._uns` of view, initializing view as actual.\n",
      "  self.data[key] = value\n"
     ]
    },
    {
     "name": "stdout",
     "output_type": "stream",
     "text": [
      "--> added 'pos', the PAGA positions (adata.uns['paga'])\n",
      "WARNING: saving figure to file /media/xinyi/dcis2idc/plots/cnnvaeexp0/cluster_alltrain_reordered/minibatchkmean_ncluster8n_pcs50epoch311_plottingIdx_progBalanced_0_subcluster_all/distThresh/pagagraphdistThresh_Invasive ductal carcinoma and breast tissue_480_allcells.png\n",
      "distThresh_Micropapillary type ductal carcinoma in situ wi_480\n"
     ]
    },
    {
     "name": "stderr",
     "output_type": "stream",
     "text": [
      "/home/xinyi/.local/lib/python3.8/site-packages/anndata/compat/_overloaded_dict.py:106: ImplicitModificationWarning: Trying to modify attribute `._uns` of view, initializing view as actual.\n",
      "  self.data[key] = value\n"
     ]
    },
    {
     "name": "stdout",
     "output_type": "stream",
     "text": [
      "--> added 'pos', the PAGA positions (adata.uns['paga'])\n",
      "WARNING: saving figure to file /media/xinyi/dcis2idc/plots/cnnvaeexp0/cluster_alltrain_reordered/minibatchkmean_ncluster8n_pcs50epoch311_plottingIdx_progBalanced_0_subcluster_all/distThresh/pagagraphdistThresh_Micropapillary type ductal carcinoma in situ wi_480_allcells.png\n",
      "distThresh_Breast tissue_960\n"
     ]
    },
    {
     "name": "stderr",
     "output_type": "stream",
     "text": [
      "/home/xinyi/.local/lib/python3.8/site-packages/anndata/compat/_overloaded_dict.py:106: ImplicitModificationWarning: Trying to modify attribute `._uns` of view, initializing view as actual.\n",
      "  self.data[key] = value\n"
     ]
    },
    {
     "name": "stdout",
     "output_type": "stream",
     "text": [
      "--> added 'pos', the PAGA positions (adata.uns['paga'])\n",
      "WARNING: saving figure to file /media/xinyi/dcis2idc/plots/cnnvaeexp0/cluster_alltrain_reordered/minibatchkmean_ncluster8n_pcs50epoch311_plottingIdx_progBalanced_0_subcluster_all/distThresh/pagagraphdistThresh_Breast tissue_960_allcells.png\n",
      "distThresh_Ductal carcinoma in situ_960\n"
     ]
    },
    {
     "name": "stderr",
     "output_type": "stream",
     "text": [
      "/home/xinyi/.local/lib/python3.8/site-packages/anndata/compat/_overloaded_dict.py:106: ImplicitModificationWarning: Trying to modify attribute `._uns` of view, initializing view as actual.\n",
      "  self.data[key] = value\n"
     ]
    },
    {
     "name": "stdout",
     "output_type": "stream",
     "text": [
      "--> added 'pos', the PAGA positions (adata.uns['paga'])\n",
      "WARNING: saving figure to file /media/xinyi/dcis2idc/plots/cnnvaeexp0/cluster_alltrain_reordered/minibatchkmean_ncluster8n_pcs50epoch311_plottingIdx_progBalanced_0_subcluster_all/distThresh/pagagraphdistThresh_Ductal carcinoma in situ_960_allcells.png\n",
      "distThresh_Ductal carcinoma in situ and breast tissue_960\n"
     ]
    },
    {
     "name": "stderr",
     "output_type": "stream",
     "text": [
      "/home/xinyi/.local/lib/python3.8/site-packages/anndata/compat/_overloaded_dict.py:106: ImplicitModificationWarning: Trying to modify attribute `._uns` of view, initializing view as actual.\n",
      "  self.data[key] = value\n"
     ]
    },
    {
     "name": "stdout",
     "output_type": "stream",
     "text": [
      "--> added 'pos', the PAGA positions (adata.uns['paga'])\n",
      "WARNING: saving figure to file /media/xinyi/dcis2idc/plots/cnnvaeexp0/cluster_alltrain_reordered/minibatchkmean_ncluster8n_pcs50epoch311_plottingIdx_progBalanced_0_subcluster_all/distThresh/pagagraphdistThresh_Ductal carcinoma in situ and breast tissue_960_allcells.png\n",
      "distThresh_Ductal carcinoma in situ with early infiltratio_960\n"
     ]
    },
    {
     "name": "stderr",
     "output_type": "stream",
     "text": [
      "/home/xinyi/.local/lib/python3.8/site-packages/anndata/compat/_overloaded_dict.py:106: ImplicitModificationWarning: Trying to modify attribute `._uns` of view, initializing view as actual.\n",
      "  self.data[key] = value\n"
     ]
    },
    {
     "name": "stdout",
     "output_type": "stream",
     "text": [
      "--> added 'pos', the PAGA positions (adata.uns['paga'])\n",
      "WARNING: saving figure to file /media/xinyi/dcis2idc/plots/cnnvaeexp0/cluster_alltrain_reordered/minibatchkmean_ncluster8n_pcs50epoch311_plottingIdx_progBalanced_0_subcluster_all/distThresh/pagagraphdistThresh_Ductal carcinoma in situ with early infiltratio_960_allcells.png\n",
      "distThresh_Invasive ductal carcinoma_960\n"
     ]
    },
    {
     "name": "stderr",
     "output_type": "stream",
     "text": [
      "/home/xinyi/.local/lib/python3.8/site-packages/anndata/compat/_overloaded_dict.py:106: ImplicitModificationWarning: Trying to modify attribute `._uns` of view, initializing view as actual.\n",
      "  self.data[key] = value\n"
     ]
    },
    {
     "name": "stdout",
     "output_type": "stream",
     "text": [
      "--> added 'pos', the PAGA positions (adata.uns['paga'])\n",
      "WARNING: saving figure to file /media/xinyi/dcis2idc/plots/cnnvaeexp0/cluster_alltrain_reordered/minibatchkmean_ncluster8n_pcs50epoch311_plottingIdx_progBalanced_0_subcluster_all/distThresh/pagagraphdistThresh_Invasive ductal carcinoma_960_allcells.png\n",
      "distThresh_Invasive ductal carcinoma and breast tissue_960\n"
     ]
    },
    {
     "name": "stderr",
     "output_type": "stream",
     "text": [
      "/home/xinyi/.local/lib/python3.8/site-packages/anndata/compat/_overloaded_dict.py:106: ImplicitModificationWarning: Trying to modify attribute `._uns` of view, initializing view as actual.\n",
      "  self.data[key] = value\n"
     ]
    },
    {
     "name": "stdout",
     "output_type": "stream",
     "text": [
      "--> added 'pos', the PAGA positions (adata.uns['paga'])\n",
      "WARNING: saving figure to file /media/xinyi/dcis2idc/plots/cnnvaeexp0/cluster_alltrain_reordered/minibatchkmean_ncluster8n_pcs50epoch311_plottingIdx_progBalanced_0_subcluster_all/distThresh/pagagraphdistThresh_Invasive ductal carcinoma and breast tissue_960_allcells.png\n",
      "distThresh_Micropapillary type ductal carcinoma in situ wi_960\n"
     ]
    },
    {
     "name": "stderr",
     "output_type": "stream",
     "text": [
      "/home/xinyi/.local/lib/python3.8/site-packages/anndata/compat/_overloaded_dict.py:106: ImplicitModificationWarning: Trying to modify attribute `._uns` of view, initializing view as actual.\n",
      "  self.data[key] = value\n"
     ]
    },
    {
     "name": "stdout",
     "output_type": "stream",
     "text": [
      "--> added 'pos', the PAGA positions (adata.uns['paga'])\n",
      "WARNING: saving figure to file /media/xinyi/dcis2idc/plots/cnnvaeexp0/cluster_alltrain_reordered/minibatchkmean_ncluster8n_pcs50epoch311_plottingIdx_progBalanced_0_subcluster_all/distThresh/pagagraphdistThresh_Micropapillary type ductal carcinoma in situ wi_960_allcells.png\n"
     ]
    }
   ],
   "source": [
    "#%cells within distance threshold of ducts normalized by total outside of ducts - by prog\n",
    "latent_adata.obs['prog']=progList\n",
    "distanceThresh=[radius*2*2,radius*2*5, radius*2*10]\n",
    "\n",
    "if not os.path.exists(os.path.join(subclusterplotdir,'distThresh')):\n",
    "    os.mkdir(os.path.join(subclusterplotdir,'distThresh'))\n",
    "for d in distanceThresh:\n",
    "    for prog in np.unique(progList):\n",
    "        v='distThresh_'+prog+'_'+str(d)\n",
    "        protvalues=np.repeat(np.nan,latent_adata.shape[0])\n",
    "        protvalues[allidx[allstats>0]]=1\n",
    "        protvalues[allidx[allstats>d]]=0\n",
    "        protvalues[latent_adata.obs['prog']!=prog]=np.nan\n",
    "        latent_adata.obs[v]=protvalues\n",
    "        sc.settings.figdir=os.path.join(subclusterplotdir,'distThresh')\n",
    "        \n",
    "        latent_adata_sub=latent_adata[np.isfinite(latent_adata.obs[v].to_numpy())]\n",
    "        idxKeep=np.repeat(False,latent_adata_sub.shape[0])\n",
    "        for c in np.unique(latent_adata_sub.obs['kmeans_sub']):\n",
    "            if np.sum(latent_adata_sub.obs['kmeans_sub']==c)>minCell:\n",
    "                idxKeep=np.logical_or(idxKeep,latent_adata_sub.obs['kmeans_sub']==c)\n",
    "        latent_adata_sub=latent_adata_sub[idxKeep]\n",
    "        if latent_adata_sub.shape[0]>0:\n",
    "            print(v)\n",
    "    #         subsizes=np.zeros(np.unique(kmeans_sub).size)\n",
    "            nonzeroSub,counts=np.unique(latent_adata_sub.obs['kmeans_sub'],return_counts=True)\n",
    "    #         for sidx in range(nonzeroSub.size):\n",
    "    #             subsizes[np.unique(kmeans_sub)==nonzeroSub[sidx]]=counts[sidx]\n",
    "            latent_adata_sub.uns['kmeans_sub_sizes']=counts\n",
    "            _,idxKeep,_=np.intersect1d(np.unique(kmeans_sub),nonzeroSub,return_indices=True)\n",
    "            latent_adata_sub.uns['paga']['connectivities']=latent_adata.uns['paga']['connectivities'][idxKeep][:,idxKeep]\n",
    "\n",
    "\n",
    "\n",
    "            sc.pl.paga(latent_adata_sub, color=[v],pos=trainPagaPos[idxKeep],node_size_power=1,fontoutline=0.5,save='graph'+v+'_allcells.png',show=False,random_state=6,cmap='jet')\n"
   ]
  },
  {
   "cell_type": "markdown",
   "metadata": {},
   "source": [
    "### plot distance of protein positive cells"
   ]
  },
  {
   "cell_type": "code",
   "execution_count": 223,
   "metadata": {},
   "outputs": [
    {
     "name": "stdout",
     "output_type": "stream",
     "text": [
      "outDuct_Breast tissueaSMA\n"
     ]
    },
    {
     "name": "stderr",
     "output_type": "stream",
     "text": [
      "/home/xinyi/.local/lib/python3.8/site-packages/anndata/compat/_overloaded_dict.py:106: ImplicitModificationWarning: Trying to modify attribute `._uns` of view, initializing view as actual.\n",
      "  self.data[key] = value\n"
     ]
    },
    {
     "name": "stdout",
     "output_type": "stream",
     "text": [
      "--> added 'pos', the PAGA positions (adata.uns['paga'])\n",
      "WARNING: saving figure to file /media/xinyi/dcis2idc/plots/cnnvaeexp0/cluster_alltrain_reordered/minibatchkmean_ncluster8n_pcs50epoch311_plottingIdx_progBalanced_0_subcluster_all/aSMA/distDuct/pagagraphoutDuct_Breast tissueaSMA_allcells.png\n",
      "outDuct_Ductal carcinoma in situaSMA\n"
     ]
    },
    {
     "name": "stderr",
     "output_type": "stream",
     "text": [
      "/home/xinyi/.local/lib/python3.8/site-packages/anndata/compat/_overloaded_dict.py:106: ImplicitModificationWarning: Trying to modify attribute `._uns` of view, initializing view as actual.\n",
      "  self.data[key] = value\n"
     ]
    },
    {
     "name": "stdout",
     "output_type": "stream",
     "text": [
      "--> added 'pos', the PAGA positions (adata.uns['paga'])\n",
      "WARNING: saving figure to file /media/xinyi/dcis2idc/plots/cnnvaeexp0/cluster_alltrain_reordered/minibatchkmean_ncluster8n_pcs50epoch311_plottingIdx_progBalanced_0_subcluster_all/aSMA/distDuct/pagagraphoutDuct_Ductal carcinoma in situaSMA_allcells.png\n",
      "outDuct_Ductal carcinoma in situcytokeratin\n"
     ]
    },
    {
     "name": "stderr",
     "output_type": "stream",
     "text": [
      "/home/xinyi/.local/lib/python3.8/site-packages/anndata/compat/_overloaded_dict.py:106: ImplicitModificationWarning: Trying to modify attribute `._uns` of view, initializing view as actual.\n",
      "  self.data[key] = value\n"
     ]
    },
    {
     "name": "stdout",
     "output_type": "stream",
     "text": [
      "--> added 'pos', the PAGA positions (adata.uns['paga'])\n",
      "WARNING: saving figure to file /media/xinyi/dcis2idc/plots/cnnvaeexp0/cluster_alltrain_reordered/minibatchkmean_ncluster8n_pcs50epoch311_plottingIdx_progBalanced_0_subcluster_all/cytokeratin/distDuct/pagagraphoutDuct_Ductal carcinoma in situcytokeratin_allcells.png\n",
      "outDuct_Ductal carcinoma in situ and breast tissueaSMA\n"
     ]
    },
    {
     "name": "stderr",
     "output_type": "stream",
     "text": [
      "/home/xinyi/.local/lib/python3.8/site-packages/anndata/compat/_overloaded_dict.py:106: ImplicitModificationWarning: Trying to modify attribute `._uns` of view, initializing view as actual.\n",
      "  self.data[key] = value\n"
     ]
    },
    {
     "name": "stdout",
     "output_type": "stream",
     "text": [
      "--> added 'pos', the PAGA positions (adata.uns['paga'])\n",
      "WARNING: saving figure to file /media/xinyi/dcis2idc/plots/cnnvaeexp0/cluster_alltrain_reordered/minibatchkmean_ncluster8n_pcs50epoch311_plottingIdx_progBalanced_0_subcluster_all/aSMA/distDuct/pagagraphoutDuct_Ductal carcinoma in situ and breast tissueaSMA_allcells.png\n",
      "outDuct_Ductal carcinoma in situ and breast tissuecytokeratin\n"
     ]
    },
    {
     "name": "stderr",
     "output_type": "stream",
     "text": [
      "/home/xinyi/.local/lib/python3.8/site-packages/anndata/compat/_overloaded_dict.py:106: ImplicitModificationWarning: Trying to modify attribute `._uns` of view, initializing view as actual.\n",
      "  self.data[key] = value\n"
     ]
    },
    {
     "name": "stdout",
     "output_type": "stream",
     "text": [
      "--> added 'pos', the PAGA positions (adata.uns['paga'])\n",
      "WARNING: saving figure to file /media/xinyi/dcis2idc/plots/cnnvaeexp0/cluster_alltrain_reordered/minibatchkmean_ncluster8n_pcs50epoch311_plottingIdx_progBalanced_0_subcluster_all/cytokeratin/distDuct/pagagraphoutDuct_Ductal carcinoma in situ and breast tissuecytokeratin_allcells.png\n",
      "outDuct_Ductal carcinoma in situ with early infiltratioaSMA\n"
     ]
    },
    {
     "name": "stderr",
     "output_type": "stream",
     "text": [
      "/home/xinyi/.local/lib/python3.8/site-packages/anndata/compat/_overloaded_dict.py:106: ImplicitModificationWarning: Trying to modify attribute `._uns` of view, initializing view as actual.\n",
      "  self.data[key] = value\n"
     ]
    },
    {
     "name": "stdout",
     "output_type": "stream",
     "text": [
      "--> added 'pos', the PAGA positions (adata.uns['paga'])\n",
      "WARNING: saving figure to file /media/xinyi/dcis2idc/plots/cnnvaeexp0/cluster_alltrain_reordered/minibatchkmean_ncluster8n_pcs50epoch311_plottingIdx_progBalanced_0_subcluster_all/aSMA/distDuct/pagagraphoutDuct_Ductal carcinoma in situ with early infiltratioaSMA_allcells.png\n",
      "outDuct_Ductal carcinoma in situ with early infiltratiocytokeratin\n"
     ]
    },
    {
     "name": "stderr",
     "output_type": "stream",
     "text": [
      "/home/xinyi/.local/lib/python3.8/site-packages/anndata/compat/_overloaded_dict.py:106: ImplicitModificationWarning: Trying to modify attribute `._uns` of view, initializing view as actual.\n",
      "  self.data[key] = value\n"
     ]
    },
    {
     "name": "stdout",
     "output_type": "stream",
     "text": [
      "--> added 'pos', the PAGA positions (adata.uns['paga'])\n",
      "WARNING: saving figure to file /media/xinyi/dcis2idc/plots/cnnvaeexp0/cluster_alltrain_reordered/minibatchkmean_ncluster8n_pcs50epoch311_plottingIdx_progBalanced_0_subcluster_all/cytokeratin/distDuct/pagagraphoutDuct_Ductal carcinoma in situ with early infiltratiocytokeratin_allcells.png\n",
      "outDuct_Invasive ductal carcinomaaSMA\n"
     ]
    },
    {
     "name": "stderr",
     "output_type": "stream",
     "text": [
      "/home/xinyi/.local/lib/python3.8/site-packages/anndata/compat/_overloaded_dict.py:106: ImplicitModificationWarning: Trying to modify attribute `._uns` of view, initializing view as actual.\n",
      "  self.data[key] = value\n"
     ]
    },
    {
     "name": "stdout",
     "output_type": "stream",
     "text": [
      "--> added 'pos', the PAGA positions (adata.uns['paga'])\n",
      "WARNING: saving figure to file /media/xinyi/dcis2idc/plots/cnnvaeexp0/cluster_alltrain_reordered/minibatchkmean_ncluster8n_pcs50epoch311_plottingIdx_progBalanced_0_subcluster_all/aSMA/distDuct/pagagraphoutDuct_Invasive ductal carcinomaaSMA_allcells.png\n",
      "outDuct_Invasive ductal carcinomacytokeratin\n"
     ]
    },
    {
     "name": "stderr",
     "output_type": "stream",
     "text": [
      "/home/xinyi/.local/lib/python3.8/site-packages/anndata/compat/_overloaded_dict.py:106: ImplicitModificationWarning: Trying to modify attribute `._uns` of view, initializing view as actual.\n",
      "  self.data[key] = value\n"
     ]
    },
    {
     "name": "stdout",
     "output_type": "stream",
     "text": [
      "--> added 'pos', the PAGA positions (adata.uns['paga'])\n",
      "WARNING: saving figure to file /media/xinyi/dcis2idc/plots/cnnvaeexp0/cluster_alltrain_reordered/minibatchkmean_ncluster8n_pcs50epoch311_plottingIdx_progBalanced_0_subcluster_all/cytokeratin/distDuct/pagagraphoutDuct_Invasive ductal carcinomacytokeratin_allcells.png\n",
      "outDuct_Invasive ductal carcinoma and breast tissueaSMA\n"
     ]
    },
    {
     "name": "stderr",
     "output_type": "stream",
     "text": [
      "/home/xinyi/.local/lib/python3.8/site-packages/anndata/compat/_overloaded_dict.py:106: ImplicitModificationWarning: Trying to modify attribute `._uns` of view, initializing view as actual.\n",
      "  self.data[key] = value\n"
     ]
    },
    {
     "name": "stdout",
     "output_type": "stream",
     "text": [
      "--> added 'pos', the PAGA positions (adata.uns['paga'])\n",
      "WARNING: saving figure to file /media/xinyi/dcis2idc/plots/cnnvaeexp0/cluster_alltrain_reordered/minibatchkmean_ncluster8n_pcs50epoch311_plottingIdx_progBalanced_0_subcluster_all/aSMA/distDuct/pagagraphoutDuct_Invasive ductal carcinoma and breast tissueaSMA_allcells.png\n",
      "outDuct_Invasive ductal carcinoma and breast tissuecytokeratin\n"
     ]
    },
    {
     "name": "stderr",
     "output_type": "stream",
     "text": [
      "/home/xinyi/.local/lib/python3.8/site-packages/anndata/compat/_overloaded_dict.py:106: ImplicitModificationWarning: Trying to modify attribute `._uns` of view, initializing view as actual.\n",
      "  self.data[key] = value\n"
     ]
    },
    {
     "name": "stdout",
     "output_type": "stream",
     "text": [
      "--> added 'pos', the PAGA positions (adata.uns['paga'])\n",
      "WARNING: saving figure to file /media/xinyi/dcis2idc/plots/cnnvaeexp0/cluster_alltrain_reordered/minibatchkmean_ncluster8n_pcs50epoch311_plottingIdx_progBalanced_0_subcluster_all/cytokeratin/distDuct/pagagraphoutDuct_Invasive ductal carcinoma and breast tissuecytokeratin_allcells.png\n",
      "outDuct_Micropapillary type ductal carcinoma in situ wiaSMA\n"
     ]
    },
    {
     "name": "stderr",
     "output_type": "stream",
     "text": [
      "/home/xinyi/.local/lib/python3.8/site-packages/anndata/compat/_overloaded_dict.py:106: ImplicitModificationWarning: Trying to modify attribute `._uns` of view, initializing view as actual.\n",
      "  self.data[key] = value\n"
     ]
    },
    {
     "name": "stdout",
     "output_type": "stream",
     "text": [
      "--> added 'pos', the PAGA positions (adata.uns['paga'])\n",
      "WARNING: saving figure to file /media/xinyi/dcis2idc/plots/cnnvaeexp0/cluster_alltrain_reordered/minibatchkmean_ncluster8n_pcs50epoch311_plottingIdx_progBalanced_0_subcluster_all/aSMA/distDuct/pagagraphoutDuct_Micropapillary type ductal carcinoma in situ wiaSMA_allcells.png\n",
      "outDuct_Micropapillary type ductal carcinoma in situ wicytokeratin\n"
     ]
    },
    {
     "name": "stderr",
     "output_type": "stream",
     "text": [
      "/home/xinyi/.local/lib/python3.8/site-packages/anndata/compat/_overloaded_dict.py:106: ImplicitModificationWarning: Trying to modify attribute `._uns` of view, initializing view as actual.\n",
      "  self.data[key] = value\n"
     ]
    },
    {
     "name": "stdout",
     "output_type": "stream",
     "text": [
      "--> added 'pos', the PAGA positions (adata.uns['paga'])\n",
      "WARNING: saving figure to file /media/xinyi/dcis2idc/plots/cnnvaeexp0/cluster_alltrain_reordered/minibatchkmean_ncluster8n_pcs50epoch311_plottingIdx_progBalanced_0_subcluster_all/cytokeratin/distDuct/pagagraphoutDuct_Micropapillary type ductal carcinoma in situ wicytokeratin_allcells.png\n"
     ]
    }
   ],
   "source": [
    "# %cells out of duct - by prog\n",
    "for prog in np.unique(progList[np.isfinite(latent_adata.obs['dist2duct_log'])]):\n",
    "    for prot in vminlist.keys():\n",
    "        v='outDuct_'+prog+prot\n",
    "        protvalues=latent_adata.obs['outDuct_'+prog].to_numpy(copy=True)\n",
    "        protvalues[np.logical_not(latent_adata.obs[prot+'log']>0)]=np.nan\n",
    "        latent_adata.obs[v]=protvalues\n",
    "        if not os.path.exists(os.path.join(subclusterplotdir,prot,'distDuct')):\n",
    "            os.mkdir(os.path.join(subclusterplotdir,prot,'distDuct'))\n",
    "        sc.settings.figdir=os.path.join(subclusterplotdir,prot,'distDuct')\n",
    "\n",
    "        latent_adata_sub=latent_adata[np.isfinite(latent_adata.obs[v].to_numpy())]\n",
    "        idxKeep=np.repeat(False,latent_adata_sub.shape[0])\n",
    "        for c in np.unique(latent_adata_sub.obs['kmeans_sub']):\n",
    "            if np.sum(latent_adata_sub.obs['kmeans_sub']==c)>minCell:\n",
    "                idxKeep=np.logical_or(idxKeep,latent_adata_sub.obs['kmeans_sub']==c)\n",
    "        latent_adata_sub=latent_adata_sub[idxKeep]\n",
    "        if latent_adata_sub.shape[0]>0:\n",
    "            print(v)\n",
    "    #         subsizes=np.zeros(np.unique(kmeans_sub).size)\n",
    "            nonzeroSub,counts=np.unique(latent_adata_sub.obs['kmeans_sub'],return_counts=True)\n",
    "    #         for sidx in range(nonzeroSub.size):\n",
    "    #             subsizes[np.unique(kmeans_sub)==nonzeroSub[sidx]]=counts[sidx]\n",
    "            latent_adata_sub.uns['kmeans_sub_sizes']=counts\n",
    "            _,idxKeep,_=np.intersect1d(np.unique(kmeans_sub),nonzeroSub,return_indices=True)\n",
    "            latent_adata_sub.uns['paga']['connectivities']=latent_adata.uns['paga']['connectivities'][idxKeep][:,idxKeep]\n",
    "\n",
    "\n",
    "            sc.pl.paga(latent_adata_sub, color=[v],pos=trainPagaPos[idxKeep],node_size_power=1,fontoutline=0.5,save='graph'+v+'_allcells.png',show=False,random_state=6,cmap='jet')\n",
    "\n",
    "\n",
    "\n"
   ]
  },
  {
   "cell_type": "code",
   "execution_count": 224,
   "metadata": {
    "scrolled": true
   },
   "outputs": [
    {
     "name": "stdout",
     "output_type": "stream",
     "text": [
      "dist2duct_log_outOnly_aSMABreast tissue\n"
     ]
    },
    {
     "name": "stderr",
     "output_type": "stream",
     "text": [
      "/home/xinyi/.local/lib/python3.8/site-packages/anndata/compat/_overloaded_dict.py:106: ImplicitModificationWarning: Trying to modify attribute `._uns` of view, initializing view as actual.\n",
      "  self.data[key] = value\n"
     ]
    },
    {
     "name": "stdout",
     "output_type": "stream",
     "text": [
      "--> added 'pos', the PAGA positions (adata.uns['paga'])\n",
      "WARNING: saving figure to file /media/xinyi/dcis2idc/plots/cnnvaeexp0/cluster_alltrain_reordered/minibatchkmean_ncluster8n_pcs50epoch311_plottingIdx_progBalanced_0_subcluster_all/aSMA/distDuct/pagagraphdist2duct_log_outOnly_aSMABreast tissue_allcells.png\n",
      "WARNING: saving figure to file /media/xinyi/dcis2idc/plots/cnnvaeexp0/cluster_alltrain_reordered/minibatchkmean_ncluster8n_pcs50epoch311_plottingIdx_progBalanced_0_subcluster_all/aSMA/distDuct/umapgraph_umapdist2duct_log_outOnly_aSMABreast tissue.png\n",
      "dist2duct_log_outOnly_aSMADuctal carcinoma in situ\n"
     ]
    },
    {
     "name": "stderr",
     "output_type": "stream",
     "text": [
      "/home/xinyi/.local/lib/python3.8/site-packages/anndata/compat/_overloaded_dict.py:106: ImplicitModificationWarning: Trying to modify attribute `._uns` of view, initializing view as actual.\n",
      "  self.data[key] = value\n"
     ]
    },
    {
     "name": "stdout",
     "output_type": "stream",
     "text": [
      "--> added 'pos', the PAGA positions (adata.uns['paga'])\n",
      "WARNING: saving figure to file /media/xinyi/dcis2idc/plots/cnnvaeexp0/cluster_alltrain_reordered/minibatchkmean_ncluster8n_pcs50epoch311_plottingIdx_progBalanced_0_subcluster_all/aSMA/distDuct/pagagraphdist2duct_log_outOnly_aSMADuctal carcinoma in situ_allcells.png\n",
      "WARNING: saving figure to file /media/xinyi/dcis2idc/plots/cnnvaeexp0/cluster_alltrain_reordered/minibatchkmean_ncluster8n_pcs50epoch311_plottingIdx_progBalanced_0_subcluster_all/aSMA/distDuct/umapgraph_umapdist2duct_log_outOnly_aSMADuctal carcinoma in situ.png\n",
      "dist2duct_log_outOnly_aSMADuctal carcinoma in situ and breast tissue\n"
     ]
    },
    {
     "name": "stderr",
     "output_type": "stream",
     "text": [
      "/home/xinyi/.local/lib/python3.8/site-packages/anndata/compat/_overloaded_dict.py:106: ImplicitModificationWarning: Trying to modify attribute `._uns` of view, initializing view as actual.\n",
      "  self.data[key] = value\n"
     ]
    },
    {
     "name": "stdout",
     "output_type": "stream",
     "text": [
      "--> added 'pos', the PAGA positions (adata.uns['paga'])\n",
      "WARNING: saving figure to file /media/xinyi/dcis2idc/plots/cnnvaeexp0/cluster_alltrain_reordered/minibatchkmean_ncluster8n_pcs50epoch311_plottingIdx_progBalanced_0_subcluster_all/aSMA/distDuct/pagagraphdist2duct_log_outOnly_aSMADuctal carcinoma in situ and breast tissue_allcells.png\n",
      "WARNING: saving figure to file /media/xinyi/dcis2idc/plots/cnnvaeexp0/cluster_alltrain_reordered/minibatchkmean_ncluster8n_pcs50epoch311_plottingIdx_progBalanced_0_subcluster_all/aSMA/distDuct/umapgraph_umapdist2duct_log_outOnly_aSMADuctal carcinoma in situ and breast tissue.png\n",
      "dist2duct_log_outOnly_aSMADuctal carcinoma in situ with early infiltratio\n"
     ]
    },
    {
     "name": "stderr",
     "output_type": "stream",
     "text": [
      "/home/xinyi/.local/lib/python3.8/site-packages/anndata/compat/_overloaded_dict.py:106: ImplicitModificationWarning: Trying to modify attribute `._uns` of view, initializing view as actual.\n",
      "  self.data[key] = value\n"
     ]
    },
    {
     "name": "stdout",
     "output_type": "stream",
     "text": [
      "--> added 'pos', the PAGA positions (adata.uns['paga'])\n",
      "WARNING: saving figure to file /media/xinyi/dcis2idc/plots/cnnvaeexp0/cluster_alltrain_reordered/minibatchkmean_ncluster8n_pcs50epoch311_plottingIdx_progBalanced_0_subcluster_all/aSMA/distDuct/pagagraphdist2duct_log_outOnly_aSMADuctal carcinoma in situ with early infiltratio_allcells.png\n",
      "WARNING: saving figure to file /media/xinyi/dcis2idc/plots/cnnvaeexp0/cluster_alltrain_reordered/minibatchkmean_ncluster8n_pcs50epoch311_plottingIdx_progBalanced_0_subcluster_all/aSMA/distDuct/umapgraph_umapdist2duct_log_outOnly_aSMADuctal carcinoma in situ with early infiltratio.png\n",
      "dist2duct_log_outOnly_aSMAInvasive ductal carcinoma\n"
     ]
    },
    {
     "name": "stderr",
     "output_type": "stream",
     "text": [
      "/home/xinyi/.local/lib/python3.8/site-packages/anndata/compat/_overloaded_dict.py:106: ImplicitModificationWarning: Trying to modify attribute `._uns` of view, initializing view as actual.\n",
      "  self.data[key] = value\n"
     ]
    },
    {
     "name": "stdout",
     "output_type": "stream",
     "text": [
      "--> added 'pos', the PAGA positions (adata.uns['paga'])\n",
      "WARNING: saving figure to file /media/xinyi/dcis2idc/plots/cnnvaeexp0/cluster_alltrain_reordered/minibatchkmean_ncluster8n_pcs50epoch311_plottingIdx_progBalanced_0_subcluster_all/aSMA/distDuct/pagagraphdist2duct_log_outOnly_aSMAInvasive ductal carcinoma_allcells.png\n",
      "WARNING: saving figure to file /media/xinyi/dcis2idc/plots/cnnvaeexp0/cluster_alltrain_reordered/minibatchkmean_ncluster8n_pcs50epoch311_plottingIdx_progBalanced_0_subcluster_all/aSMA/distDuct/umapgraph_umapdist2duct_log_outOnly_aSMAInvasive ductal carcinoma.png\n",
      "dist2duct_log_outOnly_cytokeratinInvasive ductal carcinoma\n"
     ]
    },
    {
     "name": "stderr",
     "output_type": "stream",
     "text": [
      "/home/xinyi/.local/lib/python3.8/site-packages/anndata/compat/_overloaded_dict.py:106: ImplicitModificationWarning: Trying to modify attribute `._uns` of view, initializing view as actual.\n",
      "  self.data[key] = value\n"
     ]
    },
    {
     "name": "stdout",
     "output_type": "stream",
     "text": [
      "--> added 'pos', the PAGA positions (adata.uns['paga'])\n",
      "WARNING: saving figure to file /media/xinyi/dcis2idc/plots/cnnvaeexp0/cluster_alltrain_reordered/minibatchkmean_ncluster8n_pcs50epoch311_plottingIdx_progBalanced_0_subcluster_all/cytokeratin/distDuct/pagagraphdist2duct_log_outOnly_cytokeratinInvasive ductal carcinoma_allcells.png\n",
      "WARNING: saving figure to file /media/xinyi/dcis2idc/plots/cnnvaeexp0/cluster_alltrain_reordered/minibatchkmean_ncluster8n_pcs50epoch311_plottingIdx_progBalanced_0_subcluster_all/cytokeratin/distDuct/umapgraph_umapdist2duct_log_outOnly_cytokeratinInvasive ductal carcinoma.png\n",
      "dist2duct_log_outOnly_aSMAInvasive ductal carcinoma and breast tissue\n"
     ]
    },
    {
     "name": "stderr",
     "output_type": "stream",
     "text": [
      "/home/xinyi/.local/lib/python3.8/site-packages/anndata/compat/_overloaded_dict.py:106: ImplicitModificationWarning: Trying to modify attribute `._uns` of view, initializing view as actual.\n",
      "  self.data[key] = value\n"
     ]
    },
    {
     "name": "stdout",
     "output_type": "stream",
     "text": [
      "--> added 'pos', the PAGA positions (adata.uns['paga'])\n",
      "WARNING: saving figure to file /media/xinyi/dcis2idc/plots/cnnvaeexp0/cluster_alltrain_reordered/minibatchkmean_ncluster8n_pcs50epoch311_plottingIdx_progBalanced_0_subcluster_all/aSMA/distDuct/pagagraphdist2duct_log_outOnly_aSMAInvasive ductal carcinoma and breast tissue_allcells.png\n",
      "WARNING: saving figure to file /media/xinyi/dcis2idc/plots/cnnvaeexp0/cluster_alltrain_reordered/minibatchkmean_ncluster8n_pcs50epoch311_plottingIdx_progBalanced_0_subcluster_all/aSMA/distDuct/umapgraph_umapdist2duct_log_outOnly_aSMAInvasive ductal carcinoma and breast tissue.png\n",
      "dist2duct_log_outOnly_aSMAMicropapillary type ductal carcinoma in situ wi\n"
     ]
    },
    {
     "name": "stderr",
     "output_type": "stream",
     "text": [
      "/home/xinyi/.local/lib/python3.8/site-packages/anndata/compat/_overloaded_dict.py:106: ImplicitModificationWarning: Trying to modify attribute `._uns` of view, initializing view as actual.\n",
      "  self.data[key] = value\n"
     ]
    },
    {
     "name": "stdout",
     "output_type": "stream",
     "text": [
      "--> added 'pos', the PAGA positions (adata.uns['paga'])\n",
      "WARNING: saving figure to file /media/xinyi/dcis2idc/plots/cnnvaeexp0/cluster_alltrain_reordered/minibatchkmean_ncluster8n_pcs50epoch311_plottingIdx_progBalanced_0_subcluster_all/aSMA/distDuct/pagagraphdist2duct_log_outOnly_aSMAMicropapillary type ductal carcinoma in situ wi_allcells.png\n",
      "WARNING: saving figure to file /media/xinyi/dcis2idc/plots/cnnvaeexp0/cluster_alltrain_reordered/minibatchkmean_ncluster8n_pcs50epoch311_plottingIdx_progBalanced_0_subcluster_all/aSMA/distDuct/umapgraph_umapdist2duct_log_outOnly_aSMAMicropapillary type ductal carcinoma in situ wi.png\n"
     ]
    }
   ],
   "source": [
    "#distance excluding cells in duct - by prog\n",
    "vmin=0\n",
    "vmax=np.max(latent_adata.obs['dist2duct_log_outOnly'])\n",
    "for prog in np.unique(progList[np.isfinite(latent_adata.obs['dist2duct_log'])]):\n",
    "    for prot in vminlist.keys():\n",
    "        v='dist2duct_log_outOnly_'+prot+prog\n",
    "        protvalues=latent_adata.obs['dist2duct_log_outOnly_'+prog].to_numpy(copy=True)\n",
    "        protvalues[np.logical_not(latent_adata.obs[prot+'log']>0)]=np.nan\n",
    "        latent_adata.obs[v]=protvalues\n",
    "        if not os.path.exists(os.path.join(subclusterplotdir,prot,'distDuct')):\n",
    "            os.mkdir(os.path.join(subclusterplotdir,prot,'distDuct'))\n",
    "        sc.settings.figdir=os.path.join(subclusterplotdir,prot,'distDuct')\n",
    "\n",
    "        latent_adata_sub=latent_adata[np.isfinite(latent_adata.obs[v].to_numpy())]\n",
    "        idxKeep=np.repeat(False,latent_adata_sub.shape[0])\n",
    "        for c in np.unique(latent_adata_sub.obs['kmeans_sub']):\n",
    "            if np.sum(latent_adata_sub.obs['kmeans_sub']==c)>minCell:\n",
    "                idxKeep=np.logical_or(idxKeep,latent_adata_sub.obs['kmeans_sub']==c)\n",
    "        latent_adata_sub=latent_adata_sub[idxKeep]\n",
    "        if latent_adata_sub.shape[0]>0:\n",
    "            print(v)\n",
    "    #         subsizes=np.zeros(np.unique(kmeans_sub).size)\n",
    "            nonzeroSub,counts=np.unique(latent_adata_sub.obs['kmeans_sub'],return_counts=True)\n",
    "    #         for sidx in range(nonzeroSub.size):\n",
    "    #             subsizes[np.unique(kmeans_sub)==nonzeroSub[sidx]]=counts[sidx]\n",
    "            latent_adata_sub.uns['kmeans_sub_sizes']=counts\n",
    "            _,idxKeep,_=np.intersect1d(np.unique(kmeans_sub),nonzeroSub,return_indices=True)\n",
    "            latent_adata_sub.uns['paga']['connectivities']=latent_adata.uns['paga']['connectivities'][idxKeep][:,idxKeep]\n",
    "\n",
    "\n",
    "\n",
    "            sc.pl.paga(latent_adata_sub, color=[v],pos=trainPagaPos[idxKeep],node_size_power=1,fontoutline=0.5,save='graph'+v+'_allcells.png',show=False,random_state=6,cmap='jet')\n",
    "        #     sc.tl.umap(latent_adata, init_pos='paga')\n",
    "            sc.pl.umap(latent_adata_sub,color=[v],legend_loc='on data',save='graph_umap'+v+'.png',show=False,size=3,vmin=vmin,vmax=vmax)\n",
    "\n",
    "\n",
    "\n",
    "\n"
   ]
  },
  {
   "cell_type": "code",
   "execution_count": 227,
   "metadata": {
    "scrolled": true
   },
   "outputs": [
    {
     "name": "stdout",
     "output_type": "stream",
     "text": [
      "distThresh_aSMABreast tissue_192\n"
     ]
    },
    {
     "name": "stderr",
     "output_type": "stream",
     "text": [
      "/home/xinyi/.local/lib/python3.8/site-packages/anndata/compat/_overloaded_dict.py:106: ImplicitModificationWarning: Trying to modify attribute `._uns` of view, initializing view as actual.\n",
      "  self.data[key] = value\n"
     ]
    },
    {
     "name": "stdout",
     "output_type": "stream",
     "text": [
      "--> added 'pos', the PAGA positions (adata.uns['paga'])\n",
      "WARNING: saving figure to file /media/xinyi/dcis2idc/plots/cnnvaeexp0/cluster_alltrain_reordered/minibatchkmean_ncluster8n_pcs50epoch311_plottingIdx_progBalanced_0_subcluster_all/aSMA/distDuct/distThresh/pagagraphdistThresh_aSMABreast tissue_192_allcells.png\n",
      "distThresh_aSMADuctal carcinoma in situ_192\n"
     ]
    },
    {
     "name": "stderr",
     "output_type": "stream",
     "text": [
      "/home/xinyi/.local/lib/python3.8/site-packages/anndata/compat/_overloaded_dict.py:106: ImplicitModificationWarning: Trying to modify attribute `._uns` of view, initializing view as actual.\n",
      "  self.data[key] = value\n"
     ]
    },
    {
     "name": "stdout",
     "output_type": "stream",
     "text": [
      "--> added 'pos', the PAGA positions (adata.uns['paga'])\n",
      "WARNING: saving figure to file /media/xinyi/dcis2idc/plots/cnnvaeexp0/cluster_alltrain_reordered/minibatchkmean_ncluster8n_pcs50epoch311_plottingIdx_progBalanced_0_subcluster_all/aSMA/distDuct/distThresh/pagagraphdistThresh_aSMADuctal carcinoma in situ_192_allcells.png\n",
      "distThresh_aSMADuctal carcinoma in situ and breast tissue_192\n"
     ]
    },
    {
     "name": "stderr",
     "output_type": "stream",
     "text": [
      "/home/xinyi/.local/lib/python3.8/site-packages/anndata/compat/_overloaded_dict.py:106: ImplicitModificationWarning: Trying to modify attribute `._uns` of view, initializing view as actual.\n",
      "  self.data[key] = value\n"
     ]
    },
    {
     "name": "stdout",
     "output_type": "stream",
     "text": [
      "--> added 'pos', the PAGA positions (adata.uns['paga'])\n",
      "WARNING: saving figure to file /media/xinyi/dcis2idc/plots/cnnvaeexp0/cluster_alltrain_reordered/minibatchkmean_ncluster8n_pcs50epoch311_plottingIdx_progBalanced_0_subcluster_all/aSMA/distDuct/distThresh/pagagraphdistThresh_aSMADuctal carcinoma in situ and breast tissue_192_allcells.png\n",
      "distThresh_aSMADuctal carcinoma in situ with early infiltratio_192\n"
     ]
    },
    {
     "name": "stderr",
     "output_type": "stream",
     "text": [
      "/home/xinyi/.local/lib/python3.8/site-packages/anndata/compat/_overloaded_dict.py:106: ImplicitModificationWarning: Trying to modify attribute `._uns` of view, initializing view as actual.\n",
      "  self.data[key] = value\n"
     ]
    },
    {
     "name": "stdout",
     "output_type": "stream",
     "text": [
      "--> added 'pos', the PAGA positions (adata.uns['paga'])\n",
      "WARNING: saving figure to file /media/xinyi/dcis2idc/plots/cnnvaeexp0/cluster_alltrain_reordered/minibatchkmean_ncluster8n_pcs50epoch311_plottingIdx_progBalanced_0_subcluster_all/aSMA/distDuct/distThresh/pagagraphdistThresh_aSMADuctal carcinoma in situ with early infiltratio_192_allcells.png\n",
      "distThresh_aSMAInvasive ductal carcinoma_192\n"
     ]
    },
    {
     "name": "stderr",
     "output_type": "stream",
     "text": [
      "/home/xinyi/.local/lib/python3.8/site-packages/anndata/compat/_overloaded_dict.py:106: ImplicitModificationWarning: Trying to modify attribute `._uns` of view, initializing view as actual.\n",
      "  self.data[key] = value\n"
     ]
    },
    {
     "name": "stdout",
     "output_type": "stream",
     "text": [
      "--> added 'pos', the PAGA positions (adata.uns['paga'])\n",
      "WARNING: saving figure to file /media/xinyi/dcis2idc/plots/cnnvaeexp0/cluster_alltrain_reordered/minibatchkmean_ncluster8n_pcs50epoch311_plottingIdx_progBalanced_0_subcluster_all/aSMA/distDuct/distThresh/pagagraphdistThresh_aSMAInvasive ductal carcinoma_192_allcells.png\n",
      "distThresh_cytokeratinInvasive ductal carcinoma_192\n"
     ]
    },
    {
     "name": "stderr",
     "output_type": "stream",
     "text": [
      "/home/xinyi/.local/lib/python3.8/site-packages/anndata/compat/_overloaded_dict.py:106: ImplicitModificationWarning: Trying to modify attribute `._uns` of view, initializing view as actual.\n",
      "  self.data[key] = value\n"
     ]
    },
    {
     "name": "stdout",
     "output_type": "stream",
     "text": [
      "--> added 'pos', the PAGA positions (adata.uns['paga'])\n",
      "WARNING: saving figure to file /media/xinyi/dcis2idc/plots/cnnvaeexp0/cluster_alltrain_reordered/minibatchkmean_ncluster8n_pcs50epoch311_plottingIdx_progBalanced_0_subcluster_all/cytokeratin/distDuct/distThresh/pagagraphdistThresh_cytokeratinInvasive ductal carcinoma_192_allcells.png\n",
      "distThresh_aSMAInvasive ductal carcinoma and breast tissue_192\n"
     ]
    },
    {
     "name": "stderr",
     "output_type": "stream",
     "text": [
      "/home/xinyi/.local/lib/python3.8/site-packages/anndata/compat/_overloaded_dict.py:106: ImplicitModificationWarning: Trying to modify attribute `._uns` of view, initializing view as actual.\n",
      "  self.data[key] = value\n"
     ]
    },
    {
     "name": "stdout",
     "output_type": "stream",
     "text": [
      "--> added 'pos', the PAGA positions (adata.uns['paga'])\n",
      "WARNING: saving figure to file /media/xinyi/dcis2idc/plots/cnnvaeexp0/cluster_alltrain_reordered/minibatchkmean_ncluster8n_pcs50epoch311_plottingIdx_progBalanced_0_subcluster_all/aSMA/distDuct/distThresh/pagagraphdistThresh_aSMAInvasive ductal carcinoma and breast tissue_192_allcells.png\n",
      "distThresh_aSMAMicropapillary type ductal carcinoma in situ wi_192\n"
     ]
    },
    {
     "name": "stderr",
     "output_type": "stream",
     "text": [
      "/home/xinyi/.local/lib/python3.8/site-packages/anndata/compat/_overloaded_dict.py:106: ImplicitModificationWarning: Trying to modify attribute `._uns` of view, initializing view as actual.\n",
      "  self.data[key] = value\n"
     ]
    },
    {
     "name": "stdout",
     "output_type": "stream",
     "text": [
      "--> added 'pos', the PAGA positions (adata.uns['paga'])\n",
      "WARNING: saving figure to file /media/xinyi/dcis2idc/plots/cnnvaeexp0/cluster_alltrain_reordered/minibatchkmean_ncluster8n_pcs50epoch311_plottingIdx_progBalanced_0_subcluster_all/aSMA/distDuct/distThresh/pagagraphdistThresh_aSMAMicropapillary type ductal carcinoma in situ wi_192_allcells.png\n",
      "distThresh_aSMABreast tissue_480\n"
     ]
    },
    {
     "name": "stderr",
     "output_type": "stream",
     "text": [
      "/home/xinyi/.local/lib/python3.8/site-packages/anndata/compat/_overloaded_dict.py:106: ImplicitModificationWarning: Trying to modify attribute `._uns` of view, initializing view as actual.\n",
      "  self.data[key] = value\n"
     ]
    },
    {
     "name": "stdout",
     "output_type": "stream",
     "text": [
      "--> added 'pos', the PAGA positions (adata.uns['paga'])\n",
      "WARNING: saving figure to file /media/xinyi/dcis2idc/plots/cnnvaeexp0/cluster_alltrain_reordered/minibatchkmean_ncluster8n_pcs50epoch311_plottingIdx_progBalanced_0_subcluster_all/aSMA/distDuct/distThresh/pagagraphdistThresh_aSMABreast tissue_480_allcells.png\n",
      "distThresh_aSMADuctal carcinoma in situ_480\n"
     ]
    },
    {
     "name": "stderr",
     "output_type": "stream",
     "text": [
      "/home/xinyi/.local/lib/python3.8/site-packages/anndata/compat/_overloaded_dict.py:106: ImplicitModificationWarning: Trying to modify attribute `._uns` of view, initializing view as actual.\n",
      "  self.data[key] = value\n"
     ]
    },
    {
     "name": "stdout",
     "output_type": "stream",
     "text": [
      "--> added 'pos', the PAGA positions (adata.uns['paga'])\n",
      "WARNING: saving figure to file /media/xinyi/dcis2idc/plots/cnnvaeexp0/cluster_alltrain_reordered/minibatchkmean_ncluster8n_pcs50epoch311_plottingIdx_progBalanced_0_subcluster_all/aSMA/distDuct/distThresh/pagagraphdistThresh_aSMADuctal carcinoma in situ_480_allcells.png\n",
      "distThresh_aSMADuctal carcinoma in situ and breast tissue_480\n"
     ]
    },
    {
     "name": "stderr",
     "output_type": "stream",
     "text": [
      "/home/xinyi/.local/lib/python3.8/site-packages/anndata/compat/_overloaded_dict.py:106: ImplicitModificationWarning: Trying to modify attribute `._uns` of view, initializing view as actual.\n",
      "  self.data[key] = value\n"
     ]
    },
    {
     "name": "stdout",
     "output_type": "stream",
     "text": [
      "--> added 'pos', the PAGA positions (adata.uns['paga'])\n",
      "WARNING: saving figure to file /media/xinyi/dcis2idc/plots/cnnvaeexp0/cluster_alltrain_reordered/minibatchkmean_ncluster8n_pcs50epoch311_plottingIdx_progBalanced_0_subcluster_all/aSMA/distDuct/distThresh/pagagraphdistThresh_aSMADuctal carcinoma in situ and breast tissue_480_allcells.png\n",
      "distThresh_aSMADuctal carcinoma in situ with early infiltratio_480\n"
     ]
    },
    {
     "name": "stderr",
     "output_type": "stream",
     "text": [
      "/home/xinyi/.local/lib/python3.8/site-packages/anndata/compat/_overloaded_dict.py:106: ImplicitModificationWarning: Trying to modify attribute `._uns` of view, initializing view as actual.\n",
      "  self.data[key] = value\n"
     ]
    },
    {
     "name": "stdout",
     "output_type": "stream",
     "text": [
      "--> added 'pos', the PAGA positions (adata.uns['paga'])\n",
      "WARNING: saving figure to file /media/xinyi/dcis2idc/plots/cnnvaeexp0/cluster_alltrain_reordered/minibatchkmean_ncluster8n_pcs50epoch311_plottingIdx_progBalanced_0_subcluster_all/aSMA/distDuct/distThresh/pagagraphdistThresh_aSMADuctal carcinoma in situ with early infiltratio_480_allcells.png\n",
      "distThresh_aSMAInvasive ductal carcinoma_480\n"
     ]
    },
    {
     "name": "stderr",
     "output_type": "stream",
     "text": [
      "/home/xinyi/.local/lib/python3.8/site-packages/anndata/compat/_overloaded_dict.py:106: ImplicitModificationWarning: Trying to modify attribute `._uns` of view, initializing view as actual.\n",
      "  self.data[key] = value\n"
     ]
    },
    {
     "name": "stdout",
     "output_type": "stream",
     "text": [
      "--> added 'pos', the PAGA positions (adata.uns['paga'])\n",
      "WARNING: saving figure to file /media/xinyi/dcis2idc/plots/cnnvaeexp0/cluster_alltrain_reordered/minibatchkmean_ncluster8n_pcs50epoch311_plottingIdx_progBalanced_0_subcluster_all/aSMA/distDuct/distThresh/pagagraphdistThresh_aSMAInvasive ductal carcinoma_480_allcells.png\n",
      "distThresh_cytokeratinInvasive ductal carcinoma_480\n"
     ]
    },
    {
     "name": "stderr",
     "output_type": "stream",
     "text": [
      "/home/xinyi/.local/lib/python3.8/site-packages/anndata/compat/_overloaded_dict.py:106: ImplicitModificationWarning: Trying to modify attribute `._uns` of view, initializing view as actual.\n",
      "  self.data[key] = value\n"
     ]
    },
    {
     "name": "stdout",
     "output_type": "stream",
     "text": [
      "--> added 'pos', the PAGA positions (adata.uns['paga'])\n",
      "WARNING: saving figure to file /media/xinyi/dcis2idc/plots/cnnvaeexp0/cluster_alltrain_reordered/minibatchkmean_ncluster8n_pcs50epoch311_plottingIdx_progBalanced_0_subcluster_all/cytokeratin/distDuct/distThresh/pagagraphdistThresh_cytokeratinInvasive ductal carcinoma_480_allcells.png\n",
      "distThresh_aSMAInvasive ductal carcinoma and breast tissue_480\n"
     ]
    },
    {
     "name": "stderr",
     "output_type": "stream",
     "text": [
      "/home/xinyi/.local/lib/python3.8/site-packages/anndata/compat/_overloaded_dict.py:106: ImplicitModificationWarning: Trying to modify attribute `._uns` of view, initializing view as actual.\n",
      "  self.data[key] = value\n"
     ]
    },
    {
     "name": "stdout",
     "output_type": "stream",
     "text": [
      "--> added 'pos', the PAGA positions (adata.uns['paga'])\n",
      "WARNING: saving figure to file /media/xinyi/dcis2idc/plots/cnnvaeexp0/cluster_alltrain_reordered/minibatchkmean_ncluster8n_pcs50epoch311_plottingIdx_progBalanced_0_subcluster_all/aSMA/distDuct/distThresh/pagagraphdistThresh_aSMAInvasive ductal carcinoma and breast tissue_480_allcells.png\n",
      "distThresh_aSMAMicropapillary type ductal carcinoma in situ wi_480\n"
     ]
    },
    {
     "name": "stderr",
     "output_type": "stream",
     "text": [
      "/home/xinyi/.local/lib/python3.8/site-packages/anndata/compat/_overloaded_dict.py:106: ImplicitModificationWarning: Trying to modify attribute `._uns` of view, initializing view as actual.\n",
      "  self.data[key] = value\n"
     ]
    },
    {
     "name": "stdout",
     "output_type": "stream",
     "text": [
      "--> added 'pos', the PAGA positions (adata.uns['paga'])\n",
      "WARNING: saving figure to file /media/xinyi/dcis2idc/plots/cnnvaeexp0/cluster_alltrain_reordered/minibatchkmean_ncluster8n_pcs50epoch311_plottingIdx_progBalanced_0_subcluster_all/aSMA/distDuct/distThresh/pagagraphdistThresh_aSMAMicropapillary type ductal carcinoma in situ wi_480_allcells.png\n",
      "distThresh_aSMABreast tissue_960\n"
     ]
    },
    {
     "name": "stderr",
     "output_type": "stream",
     "text": [
      "/home/xinyi/.local/lib/python3.8/site-packages/anndata/compat/_overloaded_dict.py:106: ImplicitModificationWarning: Trying to modify attribute `._uns` of view, initializing view as actual.\n",
      "  self.data[key] = value\n"
     ]
    },
    {
     "name": "stdout",
     "output_type": "stream",
     "text": [
      "--> added 'pos', the PAGA positions (adata.uns['paga'])\n",
      "WARNING: saving figure to file /media/xinyi/dcis2idc/plots/cnnvaeexp0/cluster_alltrain_reordered/minibatchkmean_ncluster8n_pcs50epoch311_plottingIdx_progBalanced_0_subcluster_all/aSMA/distDuct/distThresh/pagagraphdistThresh_aSMABreast tissue_960_allcells.png\n",
      "distThresh_aSMADuctal carcinoma in situ_960\n"
     ]
    },
    {
     "name": "stderr",
     "output_type": "stream",
     "text": [
      "/home/xinyi/.local/lib/python3.8/site-packages/anndata/compat/_overloaded_dict.py:106: ImplicitModificationWarning: Trying to modify attribute `._uns` of view, initializing view as actual.\n",
      "  self.data[key] = value\n"
     ]
    },
    {
     "name": "stdout",
     "output_type": "stream",
     "text": [
      "--> added 'pos', the PAGA positions (adata.uns['paga'])\n",
      "WARNING: saving figure to file /media/xinyi/dcis2idc/plots/cnnvaeexp0/cluster_alltrain_reordered/minibatchkmean_ncluster8n_pcs50epoch311_plottingIdx_progBalanced_0_subcluster_all/aSMA/distDuct/distThresh/pagagraphdistThresh_aSMADuctal carcinoma in situ_960_allcells.png\n",
      "distThresh_aSMADuctal carcinoma in situ and breast tissue_960\n"
     ]
    },
    {
     "name": "stderr",
     "output_type": "stream",
     "text": [
      "/home/xinyi/.local/lib/python3.8/site-packages/anndata/compat/_overloaded_dict.py:106: ImplicitModificationWarning: Trying to modify attribute `._uns` of view, initializing view as actual.\n",
      "  self.data[key] = value\n"
     ]
    },
    {
     "name": "stdout",
     "output_type": "stream",
     "text": [
      "--> added 'pos', the PAGA positions (adata.uns['paga'])\n",
      "WARNING: saving figure to file /media/xinyi/dcis2idc/plots/cnnvaeexp0/cluster_alltrain_reordered/minibatchkmean_ncluster8n_pcs50epoch311_plottingIdx_progBalanced_0_subcluster_all/aSMA/distDuct/distThresh/pagagraphdistThresh_aSMADuctal carcinoma in situ and breast tissue_960_allcells.png\n",
      "distThresh_aSMADuctal carcinoma in situ with early infiltratio_960\n"
     ]
    },
    {
     "name": "stderr",
     "output_type": "stream",
     "text": [
      "/home/xinyi/.local/lib/python3.8/site-packages/anndata/compat/_overloaded_dict.py:106: ImplicitModificationWarning: Trying to modify attribute `._uns` of view, initializing view as actual.\n",
      "  self.data[key] = value\n"
     ]
    },
    {
     "name": "stdout",
     "output_type": "stream",
     "text": [
      "--> added 'pos', the PAGA positions (adata.uns['paga'])\n",
      "WARNING: saving figure to file /media/xinyi/dcis2idc/plots/cnnvaeexp0/cluster_alltrain_reordered/minibatchkmean_ncluster8n_pcs50epoch311_plottingIdx_progBalanced_0_subcluster_all/aSMA/distDuct/distThresh/pagagraphdistThresh_aSMADuctal carcinoma in situ with early infiltratio_960_allcells.png\n",
      "distThresh_aSMAInvasive ductal carcinoma_960\n"
     ]
    },
    {
     "name": "stderr",
     "output_type": "stream",
     "text": [
      "/home/xinyi/.local/lib/python3.8/site-packages/anndata/compat/_overloaded_dict.py:106: ImplicitModificationWarning: Trying to modify attribute `._uns` of view, initializing view as actual.\n",
      "  self.data[key] = value\n"
     ]
    },
    {
     "name": "stdout",
     "output_type": "stream",
     "text": [
      "--> added 'pos', the PAGA positions (adata.uns['paga'])\n",
      "WARNING: saving figure to file /media/xinyi/dcis2idc/plots/cnnvaeexp0/cluster_alltrain_reordered/minibatchkmean_ncluster8n_pcs50epoch311_plottingIdx_progBalanced_0_subcluster_all/aSMA/distDuct/distThresh/pagagraphdistThresh_aSMAInvasive ductal carcinoma_960_allcells.png\n",
      "distThresh_cytokeratinInvasive ductal carcinoma_960\n"
     ]
    },
    {
     "name": "stderr",
     "output_type": "stream",
     "text": [
      "/home/xinyi/.local/lib/python3.8/site-packages/anndata/compat/_overloaded_dict.py:106: ImplicitModificationWarning: Trying to modify attribute `._uns` of view, initializing view as actual.\n",
      "  self.data[key] = value\n"
     ]
    },
    {
     "name": "stdout",
     "output_type": "stream",
     "text": [
      "--> added 'pos', the PAGA positions (adata.uns['paga'])\n",
      "WARNING: saving figure to file /media/xinyi/dcis2idc/plots/cnnvaeexp0/cluster_alltrain_reordered/minibatchkmean_ncluster8n_pcs50epoch311_plottingIdx_progBalanced_0_subcluster_all/cytokeratin/distDuct/distThresh/pagagraphdistThresh_cytokeratinInvasive ductal carcinoma_960_allcells.png\n",
      "distThresh_aSMAInvasive ductal carcinoma and breast tissue_960\n"
     ]
    },
    {
     "name": "stderr",
     "output_type": "stream",
     "text": [
      "/home/xinyi/.local/lib/python3.8/site-packages/anndata/compat/_overloaded_dict.py:106: ImplicitModificationWarning: Trying to modify attribute `._uns` of view, initializing view as actual.\n",
      "  self.data[key] = value\n"
     ]
    },
    {
     "name": "stdout",
     "output_type": "stream",
     "text": [
      "--> added 'pos', the PAGA positions (adata.uns['paga'])\n",
      "WARNING: saving figure to file /media/xinyi/dcis2idc/plots/cnnvaeexp0/cluster_alltrain_reordered/minibatchkmean_ncluster8n_pcs50epoch311_plottingIdx_progBalanced_0_subcluster_all/aSMA/distDuct/distThresh/pagagraphdistThresh_aSMAInvasive ductal carcinoma and breast tissue_960_allcells.png\n",
      "distThresh_aSMAMicropapillary type ductal carcinoma in situ wi_960\n"
     ]
    },
    {
     "name": "stderr",
     "output_type": "stream",
     "text": [
      "/home/xinyi/.local/lib/python3.8/site-packages/anndata/compat/_overloaded_dict.py:106: ImplicitModificationWarning: Trying to modify attribute `._uns` of view, initializing view as actual.\n",
      "  self.data[key] = value\n"
     ]
    },
    {
     "name": "stdout",
     "output_type": "stream",
     "text": [
      "--> added 'pos', the PAGA positions (adata.uns['paga'])\n",
      "WARNING: saving figure to file /media/xinyi/dcis2idc/plots/cnnvaeexp0/cluster_alltrain_reordered/minibatchkmean_ncluster8n_pcs50epoch311_plottingIdx_progBalanced_0_subcluster_all/aSMA/distDuct/distThresh/pagagraphdistThresh_aSMAMicropapillary type ductal carcinoma in situ wi_960_allcells.png\n"
     ]
    }
   ],
   "source": [
    "#%cells within distance threshold of ducts normalized by total outside of ducts - by prog\n",
    "distanceThresh=[radius*2*2,radius*2*5, radius*2*10]\n",
    "\n",
    "if not os.path.exists(os.path.join(subclusterplotdir,'distThresh')):\n",
    "    os.mkdir(os.path.join(subclusterplotdir,'distThresh'))\n",
    "for d in distanceThresh:\n",
    "    for prog in np.unique(progList):\n",
    "        for prot in vminlist.keys():\n",
    "            v='distThresh_'+prot+prog+'_'+str(d)\n",
    "            protvalues=latent_adata.obs['distThresh_'+prog+'_'+str(d)].to_numpy(copy=True)\n",
    "            protvalues[np.logical_not(latent_adata.obs[prot+'log']>0)]=np.nan\n",
    "            latent_adata.obs[v]=protvalues\n",
    "            if not os.path.exists(os.path.join(subclusterplotdir,prot,'distDuct','distThresh')):\n",
    "                os.mkdir(os.path.join(subclusterplotdir,prot,'distDuct','distThresh'))\n",
    "            sc.settings.figdir=os.path.join(subclusterplotdir,prot,'distDuct','distThresh')\n",
    "\n",
    "            latent_adata_sub=latent_adata[np.isfinite(latent_adata.obs[v].to_numpy())]\n",
    "            idxKeep=np.repeat(False,latent_adata_sub.shape[0])\n",
    "            for c in np.unique(latent_adata_sub.obs['kmeans_sub']):\n",
    "                if np.sum(latent_adata_sub.obs['kmeans_sub']==c)>minCell:\n",
    "                    idxKeep=np.logical_or(idxKeep,latent_adata_sub.obs['kmeans_sub']==c)\n",
    "            latent_adata_sub=latent_adata_sub[idxKeep]\n",
    "            if latent_adata_sub.shape[0]>0:\n",
    "                print(v)\n",
    "        #         subsizes=np.zeros(np.unique(kmeans_sub).size)\n",
    "                nonzeroSub,counts=np.unique(latent_adata_sub.obs['kmeans_sub'],return_counts=True)\n",
    "        #         for sidx in range(nonzeroSub.size):\n",
    "        #             subsizes[np.unique(kmeans_sub)==nonzeroSub[sidx]]=counts[sidx]\n",
    "                latent_adata_sub.uns['kmeans_sub_sizes']=counts\n",
    "                _,idxKeep,_=np.intersect1d(np.unique(kmeans_sub),nonzeroSub,return_indices=True)\n",
    "                latent_adata_sub.uns['paga']['connectivities']=latent_adata.uns['paga']['connectivities'][idxKeep][:,idxKeep]\n",
    "\n",
    "\n",
    "\n",
    "                sc.pl.paga(latent_adata_sub, color=[v],pos=trainPagaPos[idxKeep],node_size_power=1,fontoutline=0.5,save='graph'+v+'_allcells.png',show=False,random_state=6,cmap='jet')\n",
    "\n"
   ]
  }
 ],
 "metadata": {
  "kernelspec": {
   "display_name": "Python 3",
   "language": "python",
   "name": "python3"
  },
  "language_info": {
   "codemirror_mode": {
    "name": "ipython",
    "version": 3
   },
   "file_extension": ".py",
   "mimetype": "text/x-python",
   "name": "python",
   "nbconvert_exporter": "python",
   "pygments_lexer": "ipython3",
   "version": "3.8.10"
  }
 },
 "nbformat": 4,
 "nbformat_minor": 5
}
