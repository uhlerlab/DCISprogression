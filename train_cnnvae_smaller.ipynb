{
 "cells": [
  {
   "cell_type": "code",
   "execution_count": 1,
   "metadata": {},
   "outputs": [],
   "source": [
    "import time\n",
    "import os\n",
    "\n",
    "import scanpy\n",
    "import numpy as np\n",
    "import scipy.sparse as sp\n",
    "\n",
    "import torch\n",
    "from torch import optim\n",
    "from torch.utils.data import DataLoader\n",
    "\n",
    "import models.loadImg as loadImg\n",
    "import models.modelsCNN as modelsCNN\n",
    "import models.optimizer as optimizer\n",
    "\n",
    "import pickle\n",
    "import matplotlib.pyplot as plt\n",
    "import seaborn as sns\n",
    "import pandas as pd\n",
    "import gc\n",
    "from skimage import io\n"
   ]
  },
  {
   "cell_type": "code",
   "execution_count": 2,
   "metadata": {},
   "outputs": [],
   "source": [
    "os.environ[\"CUDA_LAUNCH_BLOCKING\"] = \"1\" \n",
    "os.environ[\"CUDA_VISIBLE_DEVICES\"] = \"0\" "
   ]
  },
  {
   "cell_type": "code",
   "execution_count": 3,
   "metadata": {},
   "outputs": [
    {
     "name": "stdout",
     "output_type": "stream",
     "text": [
      "['br1003a_1_cytokeratin_555_aSMA_647_hoechst', 'br1003a_3_collagen1_647_hoechst', 'br1003a_4_cytokeratin_555_gh2ax_647_hoechst', 'br301_4_cytokeratin_555_aSMA_647_hoechst', 'br301_6_collagen1_647_hoechst', 'br8018a_1_cytokeratin_555_aSMA_647_hoechst', 'br8018a_3_collagen1_647_hoechst', 'br8018a_4_cytokeratin_555_gh2ax_647_hoechst']\n"
     ]
    }
   ],
   "source": [
    "radius=48\n",
    "datadir='/media/xinyi/dcis2idc1/data'\n",
    "sampleList=[]\n",
    "for s in os.listdir('/media/xinyi/dcis2idc1/data'):\n",
    "    if 'hoechst'  in s and ('_1_' in s or '_3_' in s or '_4_' in s or '_6_' in s):\n",
    "#     if 'hoechst'  in s and ('_3_' in s or '_4_' in s or '_6_' in s):\n",
    "        sampleList.append(s)\n",
    "print(sampleList)\n",
    "trainingCores={'br1003a':[],'br8018a':[],'br301':[]}\n",
    "for s in range(1,11):\n",
    "# for s in range(5,11):\n",
    "    trainingCores['br1003a'].append('A'+str(s))\n",
    "    trainingCores['br1003a'].append('C'+str(s))\n",
    "    trainingCores['br1003a'].append('I'+str(s))\n",
    "for s in range(1,11):\n",
    "    if s<9:\n",
    "        trainingCores['br8018a'].append('H'+str(s))\n",
    "    trainingCores['br8018a'].append('A'+str(s))\n",
    "    trainingCores['br8018a'].append('B'+str(s))\n",
    "    trainingCores['br8018a'].append('F'+str(s))\n",
    "for s in range(1,7):\n",
    "    for sr in ['A','B','C','D','E']:\n",
    "        trainingCores['br301'].append(sr+str(s))"
   ]
  },
  {
   "cell_type": "code",
   "execution_count": 4,
   "metadata": {
    "scrolled": true
   },
   "outputs": [
    {
     "data": {
      "text/plain": [
       "{'br1003a': ['A1',\n",
       "  'C1',\n",
       "  'I1',\n",
       "  'A2',\n",
       "  'C2',\n",
       "  'I2',\n",
       "  'A3',\n",
       "  'C3',\n",
       "  'I3',\n",
       "  'A4',\n",
       "  'C4',\n",
       "  'I4',\n",
       "  'A5',\n",
       "  'C5',\n",
       "  'I5',\n",
       "  'A6',\n",
       "  'C6',\n",
       "  'I6',\n",
       "  'A7',\n",
       "  'C7',\n",
       "  'I7',\n",
       "  'A8',\n",
       "  'C8',\n",
       "  'I8',\n",
       "  'A9',\n",
       "  'C9',\n",
       "  'I9',\n",
       "  'A10',\n",
       "  'C10',\n",
       "  'I10'],\n",
       " 'br8018a': ['H1',\n",
       "  'A1',\n",
       "  'B1',\n",
       "  'F1',\n",
       "  'H2',\n",
       "  'A2',\n",
       "  'B2',\n",
       "  'F2',\n",
       "  'H3',\n",
       "  'A3',\n",
       "  'B3',\n",
       "  'F3',\n",
       "  'H4',\n",
       "  'A4',\n",
       "  'B4',\n",
       "  'F4',\n",
       "  'H5',\n",
       "  'A5',\n",
       "  'B5',\n",
       "  'F5',\n",
       "  'H6',\n",
       "  'A6',\n",
       "  'B6',\n",
       "  'F6',\n",
       "  'H7',\n",
       "  'A7',\n",
       "  'B7',\n",
       "  'F7',\n",
       "  'H8',\n",
       "  'A8',\n",
       "  'B8',\n",
       "  'F8',\n",
       "  'A9',\n",
       "  'B9',\n",
       "  'F9',\n",
       "  'A10',\n",
       "  'B10',\n",
       "  'F10'],\n",
       " 'br301': ['A1',\n",
       "  'B1',\n",
       "  'C1',\n",
       "  'D1',\n",
       "  'E1',\n",
       "  'A2',\n",
       "  'B2',\n",
       "  'C2',\n",
       "  'D2',\n",
       "  'E2',\n",
       "  'A3',\n",
       "  'B3',\n",
       "  'C3',\n",
       "  'D3',\n",
       "  'E3',\n",
       "  'A4',\n",
       "  'B4',\n",
       "  'C4',\n",
       "  'D4',\n",
       "  'E4',\n",
       "  'A5',\n",
       "  'B5',\n",
       "  'C5',\n",
       "  'D5',\n",
       "  'E5',\n",
       "  'A6',\n",
       "  'B6',\n",
       "  'C6',\n",
       "  'D6',\n",
       "  'E6']}"
      ]
     },
     "execution_count": 4,
     "metadata": {},
     "output_type": "execute_result"
    }
   ],
   "source": [
    "trainingCores"
   ]
  },
  {
   "cell_type": "code",
   "execution_count": 3,
   "metadata": {
    "scrolled": true
   },
   "outputs": [
    {
     "name": "stdout",
     "output_type": "stream",
     "text": [
      "['br1003a_1_cytokeratin_555_aSMA_647_hoechst', 'br1003a_3_collagen1_647_hoechst', 'br1003a_4_cytokeratin_555_gh2ax_647_hoechst', 'br301_4_cytokeratin_555_aSMA_647_hoechst', 'br301_6_collagen1_647_hoechst', 'br8018a_1_cytokeratin_555_aSMA_647_hoechst', 'br8018a_3_collagen1_647_hoechst', 'br8018a_4_cytokeratin_555_gh2ax_647_hoechst']\n",
      "br1003a_1_cytokeratin_555_aSMA_647_hoechst\n",
      "A1\n",
      "C1\n",
      "I1\n",
      "A2\n",
      "C2\n",
      "I2\n",
      "C3\n",
      "I3\n",
      "A4\n",
      "C4\n",
      "A5\n",
      "C5\n",
      "A6\n",
      "C6\n",
      "A7\n",
      "C7\n",
      "I7\n",
      "A8\n",
      "C8\n",
      "I8\n",
      "A9\n",
      "C9\n",
      "I9\n",
      "C10\n",
      "I10\n",
      "br1003a_3_collagen1_647_hoechst\n",
      "A1\n",
      "C1\n",
      "I1\n",
      "A2\n",
      "C2\n",
      "I2\n",
      "A3\n",
      "C3\n",
      "I3\n",
      "C4\n",
      "A5\n",
      "C5\n",
      "A6\n",
      "C6\n",
      "A7\n",
      "C7\n",
      "I7\n",
      "A8\n",
      "C8\n",
      "I8\n",
      "A9\n",
      "C9\n",
      "I9\n",
      "C10\n",
      "I10\n",
      "br1003a_4_cytokeratin_555_gh2ax_647_hoechst\n",
      "A1\n",
      "C1\n",
      "I1\n",
      "A2\n",
      "C2\n",
      "I2\n",
      "A3\n",
      "I3\n",
      "A4\n",
      "C4\n",
      "A5\n",
      "C5\n",
      "A6\n",
      "C6\n",
      "A7\n",
      "C7\n",
      "I7\n",
      "A8\n",
      "C8\n",
      "I8\n",
      "A9\n",
      "C9\n",
      "I9\n",
      "A10\n",
      "C10\n",
      "br301_4_cytokeratin_555_aSMA_647_hoechst\n",
      "A1\n",
      "B1\n",
      "C1\n",
      "D1\n",
      "E1\n",
      "A2\n",
      "B2\n",
      "C2\n",
      "D2\n",
      "E2\n",
      "A3\n",
      "B3\n",
      "C3\n",
      "D3\n",
      "E3\n",
      "A4\n",
      "B4\n",
      "C4\n",
      "D4\n",
      "E4\n",
      "A5\n",
      "B5\n",
      "C5\n",
      "D5\n",
      "E5\n",
      "A6\n",
      "B6\n",
      "C6\n",
      "D6\n",
      "E6\n",
      "br301_6_collagen1_647_hoechst\n",
      "A1\n",
      "B1\n",
      "C1\n",
      "D1\n",
      "E1\n",
      "A2\n",
      "B2\n",
      "C2\n",
      "D2\n",
      "E2\n",
      "A3\n",
      "B3\n",
      "C3\n",
      "D3\n",
      "E3\n",
      "A4\n",
      "B4\n",
      "C4\n",
      "D4\n",
      "E4\n",
      "A5\n",
      "B5\n",
      "C5\n",
      "D5\n",
      "E5\n",
      "A6\n",
      "B6\n",
      "C6\n",
      "D6\n",
      "E6\n",
      "br8018a_1_cytokeratin_555_aSMA_647_hoechst\n",
      "H1\n",
      "A1\n",
      "B1\n",
      "F1\n",
      "H2\n",
      "A2\n",
      "B2\n",
      "F2\n",
      "H3\n",
      "A3\n",
      "B3\n",
      "F3\n",
      "H4\n",
      "A4\n",
      "B4\n",
      "F4\n",
      "H5\n",
      "A5\n",
      "B5\n",
      "F5\n",
      "H6\n",
      "A6\n",
      "B6\n",
      "F6\n",
      "H7\n",
      "A7\n",
      "B7\n",
      "F7\n",
      "H8\n",
      "A8\n",
      "B8\n",
      "F8\n",
      "A9\n",
      "F9\n",
      "A10\n",
      "B10\n",
      "F10\n",
      "br8018a_3_collagen1_647_hoechst\n",
      "A1\n",
      "B1\n",
      "A2\n",
      "B2\n",
      "A3\n",
      "B3\n",
      "F3\n",
      "A4\n",
      "B4\n",
      "F4\n",
      "B5\n",
      "A6\n",
      "B6\n",
      "F6\n",
      "A7\n",
      "B7\n",
      "F7\n",
      "A8\n",
      "B8\n",
      "F8\n",
      "A9\n",
      "B9\n",
      "F9\n",
      "B10\n",
      "F10\n",
      "br8018a_4_cytokeratin_555_gh2ax_647_hoechst\n",
      "H1\n",
      "A2\n",
      "H3\n",
      "A3\n",
      "F3\n",
      "B4\n",
      "F4\n",
      "H5\n",
      "A5\n",
      "B5\n",
      "H6\n",
      "B6\n",
      "A7\n",
      "B7\n",
      "F7\n",
      "H8\n",
      "A8\n",
      "F8\n"
     ]
    }
   ],
   "source": [
    "allImg=loadImg.loadImg(datadir,sampleList,trainingCores,'segmented_nucleus','zproject/dna',radius,minmax=True)"
   ]
  },
  {
   "cell_type": "code",
   "execution_count": 18,
   "metadata": {},
   "outputs": [],
   "source": [
    "sampleList_add=['br8018a_4_cytokeratin_555_gh2ax_647_hoechst']\n",
    "trainingCores_add={'br8018a':['H2','H4','H7']}"
   ]
  },
  {
   "cell_type": "code",
   "execution_count": 8,
   "metadata": {},
   "outputs": [
    {
     "name": "stdout",
     "output_type": "stream",
     "text": [
      "br8018a_4_cytokeratin_555_gh2ax_647_hoechst\n",
      "H2\n",
      "H4\n",
      "H7\n"
     ]
    }
   ],
   "source": [
    "addImg=loadImg.loadImg(datadir,sampleList_add,trainingCores_add,'segmented_nucleus','zproject/dna',radius,minmax=True)"
   ]
  },
  {
   "cell_type": "code",
   "execution_count": 9,
   "metadata": {},
   "outputs": [],
   "source": [
    "allImg=np.concatenate((allImg,addImg),axis=0)"
   ]
  },
  {
   "cell_type": "code",
   "execution_count": 10,
   "metadata": {},
   "outputs": [
    {
     "data": {
      "text/plain": [
       "(1876734, 1, 96, 96)"
      ]
     },
     "execution_count": 10,
     "metadata": {},
     "output_type": "execute_result"
    }
   ],
   "source": [
    "allImg.shape"
   ]
  },
  {
   "cell_type": "code",
   "execution_count": 11,
   "metadata": {},
   "outputs": [],
   "source": [
    "with open(os.path.join(datadir,'processed','train_cnnvae'), 'wb') as output:\n",
    "    pickle.dump(allImg, output, pickle.HIGHEST_PROTOCOL)"
   ]
  },
  {
   "cell_type": "code",
   "execution_count": 12,
   "metadata": {},
   "outputs": [],
   "source": [
    "#train-test split\n",
    "np.random.seed(3)\n",
    "pctVal=0.05\n",
    "pctTest=0.1\n",
    "allIdx=np.arange(allImg.shape[0])\n",
    "np.random.shuffle(allIdx)\n",
    "valIdx=allIdx[:int(pctVal*allImg.shape[0])]\n",
    "testIdx=allIdx[int(pctVal*allImg.shape[0]):(int(pctVal*allImg.shape[0])+int(pctTest*allImg.shape[0]))]\n",
    "trainIdx=allIdx[(int(pctVal*allImg.shape[0])+int(pctTest*allImg.shape[0])):]"
   ]
  },
  {
   "cell_type": "code",
   "execution_count": 13,
   "metadata": {},
   "outputs": [],
   "source": [
    "with open(os.path.join(datadir,'processed','train_cnnvae_trainIdx'), 'wb') as output:\n",
    "    pickle.dump(trainIdx, output, pickle.HIGHEST_PROTOCOL)\n",
    "with open(os.path.join(datadir,'processed','train_cnnvae_valIdx'), 'wb') as output:\n",
    "    pickle.dump(valIdx, output, pickle.HIGHEST_PROTOCOL)\n",
    "with open(os.path.join(datadir,'processed','train_cnnvae_testIdx'), 'wb') as output:\n",
    "    pickle.dump(testIdx, output, pickle.HIGHEST_PROTOCOL)"
   ]
  },
  {
   "cell_type": "code",
   "execution_count": 4,
   "metadata": {},
   "outputs": [],
   "source": [
    "with open(os.path.join(datadir,'processed','train_cnnvae'), 'rb') as input:\n",
    "    allImg=pickle.load(input)\n",
    "with open(os.path.join(datadir,'processed','train_cnnvae_trainIdx'), 'rb') as input:\n",
    "    trainIdx=pickle.load(input)\n",
    "with open(os.path.join(datadir,'processed','train_cnnvae_valIdx'), 'rb') as input:\n",
    "    valIdx=pickle.load(input)\n",
    "with open(os.path.join(datadir,'processed','train_cnnvae_testIdx'), 'rb') as input:\n",
    "    testIdx=pickle.load(input)"
   ]
  },
  {
   "cell_type": "code",
   "execution_count": 5,
   "metadata": {},
   "outputs": [],
   "source": [
    "#VAE settings\n",
    "seed=3\n",
    "epochs=10000\n",
    "saveFreq=2000\n",
    "lr=0.00001 #initial learning rate\n",
    "lr_adv=0.001\n",
    "weight_decay=0 #Weight for L2 loss on embedding matrix.\n",
    "\n",
    "# batchsize=4\n",
    "batchsize=3072\n",
    "kernel_size=4\n",
    "stride=2\n",
    "padding=1\n",
    "\n",
    "# fc_dim1=6000\n",
    "hidden1=64 #Number of channels in hidden layer 1\n",
    "hidden2=128 \n",
    "hidden3=256\n",
    "hidden4=256\n",
    "hidden5=96\n",
    "fc_dim1=96*3*3\n",
    "fc_dim2=50\n",
    "# fc_dim3=128\n",
    "# fc_dim4=128\n",
    "# gcn_dim1=2600\n",
    "# adv_hidden=128\n",
    "\n",
    "dropout=0.01\n",
    "kl_weight=0.0000001\n",
    "model_str='cnn_vae'\n",
    "\n",
    "name='exp1_50dims'\n",
    "logsavepath='/media/xinyi/dcis2idc1/log/cnnvae'+name\n",
    "modelsavepath='/media/xinyi/dcis2idc1/models/cnnvae'+name\n",
    "plotsavepath='/media/xinyi/dcis2idc1/plots/cnnvae'+name\n",
    "\n",
    "\n",
    "if not os.path.exists(logsavepath):\n",
    "    os.mkdir(logsavepath)\n",
    "if not os.path.exists(modelsavepath):\n",
    "    os.mkdir(modelsavepath)\n",
    "if not os.path.exists(plotsavepath):\n",
    "    os.mkdir(plotsavepath)"
   ]
  },
  {
   "cell_type": "code",
   "execution_count": 6,
   "metadata": {},
   "outputs": [],
   "source": [
    "# Set cuda and seed\n",
    "np.random.seed(seed)\n",
    "torch.manual_seed(seed)\n",
    "torch.cuda.manual_seed(seed)\n",
    "torch.backends.cudnn.enabled = True\n",
    "    \n",
    "loss_match=torch.nn.MSELoss()\n",
    "# Create model\n",
    "if model_str=='cnn_vae':\n",
    "    modelcnn = modelsCNN.CNN_VAE(kernel_size, stride, padding, 1, hidden1, hidden2, hidden3, hidden4, hidden5, fc_dim1,fc_dim2)\n",
    "    loss_kl=optimizer.optimizer_kl\n",
    "    loss_x=torch.nn.MSELoss()\n",
    "if model_str=='cnn_vae_sharded':\n",
    "    modelcnn = modelsCNN.CNN_VAE_sharded(kernel_size, stride, padding, 1, hidden1, hidden2, hidden3, hidden4, hidden5, fc_dim1,fc_dim2)\n",
    "    loss_kl=optimizer.optimizer_kl\n",
    "    loss_x=torch.nn.MSELoss()\n",
    "    use_cuda=False\n",
    "\n",
    "if model_str=='cnn_vae_alexnet':\n",
    "    modelcnn = modelsCNN.CNN_VAE_alexnet(fc_dim1)\n",
    "    loss_kl=optimizer.optimizer_kl\n",
    "    loss_x=torch.nn.MSELoss(reduction='sum')\n",
    "\n",
    "    \n",
    "modelcnn.cuda()       \n",
    "optimizerCNN = optim.Adam(modelcnn.parameters(), lr=lr, weight_decay=weight_decay)"
   ]
  },
  {
   "cell_type": "code",
   "execution_count": 7,
   "metadata": {
    "scrolled": true
   },
   "outputs": [
    {
     "name": "stdout",
     "output_type": "stream",
     "text": [
      "Epoch: 0000 loss_train: 0.0780 loss_kl_train: 24.8228 loss_x_train: 0.0780 loss_val: 0.0264 time: 307.1582s\n",
      "Epoch: 0001 loss_train: 0.0208 loss_kl_train: 0.0370 loss_x_train: 0.0208 loss_val: 0.0164 time: 284.9450s\n",
      "Epoch: 0002 loss_train: 0.0141 loss_kl_train: 0.0467 loss_x_train: 0.0141 loss_val: 0.0121 time: 332.6358s\n",
      "Epoch: 0003 loss_train: 0.0107 loss_kl_train: 0.0545 loss_x_train: 0.0107 loss_val: 0.0094 time: 344.1066s\n",
      "Epoch: 0004 loss_train: 0.0082 loss_kl_train: 0.0613 loss_x_train: 0.0082 loss_val: 0.0072 time: 288.2318s\n",
      "Epoch: 0005 loss_train: 0.0063 loss_kl_train: 0.0672 loss_x_train: 0.0063 loss_val: 0.0055 time: 285.8206s\n",
      "Epoch: 0006 loss_train: 0.0050 loss_kl_train: 0.0722 loss_x_train: 0.0050 loss_val: 0.0044 time: 343.7867s\n",
      "Epoch: 0007 loss_train: 0.0040 loss_kl_train: 0.0767 loss_x_train: 0.0040 loss_val: 0.0036 time: 428.4076s\n",
      "Epoch: 0008 loss_train: 0.0034 loss_kl_train: 0.0809 loss_x_train: 0.0034 loss_val: 0.0031 time: 343.8201s\n",
      "Epoch: 0009 loss_train: 0.0029 loss_kl_train: 0.0849 loss_x_train: 0.0029 loss_val: 0.0027 time: 291.5630s\n",
      "Epoch: 0010 loss_train: 0.0025 loss_kl_train: 0.0887 loss_x_train: 0.0025 loss_val: 0.0024 time: 289.2670s\n",
      "Epoch: 0011 loss_train: 0.0022 loss_kl_train: 0.0923 loss_x_train: 0.0022 loss_val: 0.0021 time: 289.3170s\n",
      "Epoch: 0012 loss_train: 0.0020 loss_kl_train: 0.0958 loss_x_train: 0.0020 loss_val: 0.0019 time: 289.3315s\n",
      "Epoch: 0013 loss_train: 0.0019 loss_kl_train: 0.0991 loss_x_train: 0.0019 loss_val: 0.0018 time: 289.4777s\n",
      "Epoch: 0014 loss_train: 0.0017 loss_kl_train: 0.1022 loss_x_train: 0.0017 loss_val: 0.0017 time: 289.2813s\n",
      "Epoch: 0015 loss_train: 0.0016 loss_kl_train: 0.1053 loss_x_train: 0.0016 loss_val: 0.0016 time: 289.2797s\n",
      "Epoch: 0016 loss_train: 0.0015 loss_kl_train: 0.1082 loss_x_train: 0.0015 loss_val: 0.0015 time: 289.3049s\n",
      "Epoch: 0017 loss_train: 0.0014 loss_kl_train: 0.1111 loss_x_train: 0.0014 loss_val: 0.0014 time: 289.4000s\n",
      "Epoch: 0018 loss_train: 0.0014 loss_kl_train: 0.1139 loss_x_train: 0.0014 loss_val: 0.0014 time: 289.7165s\n",
      "Epoch: 0019 loss_train: 0.0013 loss_kl_train: 0.1166 loss_x_train: 0.0013 loss_val: 0.0013 time: 289.6200s\n",
      "Epoch: 0020 loss_train: 0.0013 loss_kl_train: 0.1193 loss_x_train: 0.0013 loss_val: 0.0013 time: 289.7311s\n",
      "Epoch: 0021 loss_train: 0.0012 loss_kl_train: 0.1219 loss_x_train: 0.0012 loss_val: 0.0012 time: 289.8767s\n",
      "Epoch: 0022 loss_train: 0.0012 loss_kl_train: 0.1245 loss_x_train: 0.0012 loss_val: 0.0012 time: 289.8678s\n",
      "Epoch: 0023 loss_train: 0.0012 loss_kl_train: 0.1269 loss_x_train: 0.0012 loss_val: 0.0011 time: 289.8184s\n",
      "Epoch: 0024 loss_train: 0.0011 loss_kl_train: 0.1293 loss_x_train: 0.0011 loss_val: 0.0011 time: 289.7883s\n",
      "Epoch: 0025 loss_train: 0.0011 loss_kl_train: 0.1316 loss_x_train: 0.0011 loss_val: 0.0011 time: 289.9348s\n",
      "Epoch: 0026 loss_train: 0.0011 loss_kl_train: 0.1338 loss_x_train: 0.0011 loss_val: 0.0011 time: 289.6207s\n",
      "Epoch: 0027 loss_train: 0.0011 loss_kl_train: 0.1359 loss_x_train: 0.0011 loss_val: 0.0010 time: 289.7311s\n",
      "Epoch: 0028 loss_train: 0.0010 loss_kl_train: 0.1379 loss_x_train: 0.0010 loss_val: 0.0010 time: 289.8240s\n",
      "Epoch: 0029 loss_train: 0.0010 loss_kl_train: 0.1398 loss_x_train: 0.0010 loss_val: 0.0010 time: 289.9065s\n",
      "Epoch: 0030 loss_train: 0.0010 loss_kl_train: 0.1416 loss_x_train: 0.0010 loss_val: 0.0010 time: 289.6729s\n",
      "Epoch: 0031 loss_train: 0.0010 loss_kl_train: 0.1433 loss_x_train: 0.0010 loss_val: 0.0010 time: 289.8243s\n",
      "Epoch: 0032 loss_train: 0.0010 loss_kl_train: 0.1449 loss_x_train: 0.0010 loss_val: 0.0010 time: 289.9505s\n",
      "Epoch: 0033 loss_train: 0.0010 loss_kl_train: 0.1464 loss_x_train: 0.0010 loss_val: 0.0009 time: 289.7125s\n",
      "Epoch: 0034 loss_train: 0.0009 loss_kl_train: 0.1478 loss_x_train: 0.0009 loss_val: 0.0009 time: 290.0648s\n",
      "Epoch: 0035 loss_train: 0.0009 loss_kl_train: 0.1491 loss_x_train: 0.0009 loss_val: 0.0009 time: 289.9337s\n",
      "Epoch: 0036 loss_train: 0.0009 loss_kl_train: 0.1503 loss_x_train: 0.0009 loss_val: 0.0009 time: 289.9322s\n",
      "Epoch: 0037 loss_train: 0.0009 loss_kl_train: 0.1515 loss_x_train: 0.0009 loss_val: 0.0009 time: 290.1597s\n",
      "Epoch: 0038 loss_train: 0.0009 loss_kl_train: 0.1525 loss_x_train: 0.0009 loss_val: 0.0009 time: 289.9284s\n",
      "Epoch: 0039 loss_train: 0.0009 loss_kl_train: 0.1535 loss_x_train: 0.0009 loss_val: 0.0009 time: 290.2065s\n",
      "Epoch: 0040 loss_train: 0.0009 loss_kl_train: 0.1545 loss_x_train: 0.0009 loss_val: 0.0009 time: 290.1296s\n",
      "Epoch: 0041 loss_train: 0.0009 loss_kl_train: 0.1554 loss_x_train: 0.0009 loss_val: 0.0009 time: 290.2270s\n",
      "Epoch: 0042 loss_train: 0.0009 loss_kl_train: 0.1562 loss_x_train: 0.0009 loss_val: 0.0009 time: 290.3222s\n",
      "Epoch: 0043 loss_train: 0.0009 loss_kl_train: 0.1570 loss_x_train: 0.0009 loss_val: 0.0009 time: 310.6630s\n",
      "Epoch: 0044 loss_train: 0.0009 loss_kl_train: 0.1577 loss_x_train: 0.0009 loss_val: 0.0008 time: 324.3081s\n",
      "Epoch: 0045 loss_train: 0.0008 loss_kl_train: 0.1584 loss_x_train: 0.0008 loss_val: 0.0008 time: 314.5454s\n",
      "Epoch: 0046 loss_train: 0.0008 loss_kl_train: 0.1591 loss_x_train: 0.0008 loss_val: 0.0008 time: 333.0953s\n",
      "Epoch: 0047 loss_train: 0.0008 loss_kl_train: 0.1597 loss_x_train: 0.0008 loss_val: 0.0008 time: 298.0753s\n",
      "Epoch: 0048 loss_train: 0.0008 loss_kl_train: 0.1603 loss_x_train: 0.0008 loss_val: 0.0008 time: 287.4529s\n",
      "Epoch: 0049 loss_train: 0.0008 loss_kl_train: 0.1609 loss_x_train: 0.0008 loss_val: 0.0008 time: 287.1534s\n",
      "Epoch: 0050 loss_train: 0.0008 loss_kl_train: 0.1615 loss_x_train: 0.0008 loss_val: 0.0008 time: 287.0751s\n",
      "Epoch: 0051 loss_train: 0.0008 loss_kl_train: 0.1621 loss_x_train: 0.0008 loss_val: 0.0008 time: 287.6453s\n",
      "Epoch: 0052 loss_train: 0.0008 loss_kl_train: 0.1626 loss_x_train: 0.0008 loss_val: 0.0008 time: 288.0063s\n",
      "Epoch: 0053 loss_train: 0.0008 loss_kl_train: 0.1631 loss_x_train: 0.0008 loss_val: 0.0008 time: 287.9201s\n",
      "Epoch: 0054 loss_train: 0.0008 loss_kl_train: 0.1636 loss_x_train: 0.0008 loss_val: 0.0008 time: 287.7449s\n",
      "Epoch: 0055 loss_train: 0.0008 loss_kl_train: 0.1641 loss_x_train: 0.0008 loss_val: 0.0008 time: 287.5769s\n",
      "Epoch: 0056 loss_train: 0.0008 loss_kl_train: 0.1645 loss_x_train: 0.0008 loss_val: 0.0008 time: 287.5879s\n",
      "Epoch: 0057 loss_train: 0.0008 loss_kl_train: 0.1650 loss_x_train: 0.0008 loss_val: 0.0008 time: 287.6932s\n",
      "Epoch: 0058 loss_train: 0.0008 loss_kl_train: 0.1654 loss_x_train: 0.0008 loss_val: 0.0008 time: 287.6000s\n",
      "Epoch: 0059 loss_train: 0.0008 loss_kl_train: 0.1659 loss_x_train: 0.0008 loss_val: 0.0008 time: 287.6368s\n",
      "Epoch: 0060 loss_train: 0.0008 loss_kl_train: 0.1663 loss_x_train: 0.0008 loss_val: 0.0008 time: 287.6178s\n",
      "Epoch: 0061 loss_train: 0.0008 loss_kl_train: 0.1667 loss_x_train: 0.0008 loss_val: 0.0008 time: 287.7376s\n",
      "Epoch: 0062 loss_train: 0.0008 loss_kl_train: 0.1671 loss_x_train: 0.0008 loss_val: 0.0007 time: 287.6514s\n",
      "Epoch: 0063 loss_train: 0.0008 loss_kl_train: 0.1674 loss_x_train: 0.0008 loss_val: 0.0007 time: 287.6516s\n",
      "Epoch: 0064 loss_train: 0.0007 loss_kl_train: 0.1678 loss_x_train: 0.0007 loss_val: 0.0007 time: 287.5865s\n",
      "Epoch: 0065 loss_train: 0.0007 loss_kl_train: 0.1682 loss_x_train: 0.0007 loss_val: 0.0007 time: 287.7286s\n",
      "Epoch: 0066 loss_train: 0.0007 loss_kl_train: 0.1685 loss_x_train: 0.0007 loss_val: 0.0007 time: 287.8699s\n",
      "Epoch: 0067 loss_train: 0.0007 loss_kl_train: 0.1688 loss_x_train: 0.0007 loss_val: 0.0007 time: 287.6250s\n",
      "Epoch: 0068 loss_train: 0.0007 loss_kl_train: 0.1692 loss_x_train: 0.0007 loss_val: 0.0007 time: 287.5881s\n",
      "Epoch: 0069 loss_train: 0.0007 loss_kl_train: 0.1695 loss_x_train: 0.0007 loss_val: 0.0007 time: 287.5081s\n",
      "Epoch: 0070 loss_train: 0.0007 loss_kl_train: 0.1698 loss_x_train: 0.0007 loss_val: 0.0007 time: 287.4557s\n",
      "Epoch: 0071 loss_train: 0.0007 loss_kl_train: 0.1702 loss_x_train: 0.0007 loss_val: 0.0007 time: 287.3996s\n",
      "Epoch: 0072 loss_train: 0.0007 loss_kl_train: 0.1705 loss_x_train: 0.0007 loss_val: 0.0007 time: 287.4009s\n",
      "Epoch: 0073 loss_train: 0.0007 loss_kl_train: 0.1708 loss_x_train: 0.0007 loss_val: 0.0007 time: 287.2653s\n",
      "Epoch: 0074 loss_train: 0.0007 loss_kl_train: 0.1711 loss_x_train: 0.0007 loss_val: 0.0007 time: 287.3685s\n",
      "Epoch: 0075 loss_train: 0.0007 loss_kl_train: 0.1713 loss_x_train: 0.0007 loss_val: 0.0007 time: 287.2043s\n",
      "Epoch: 0076 loss_train: 0.0007 loss_kl_train: 0.1716 loss_x_train: 0.0007 loss_val: 0.0007 time: 287.3385s\n"
     ]
    },
    {
     "name": "stdout",
     "output_type": "stream",
     "text": [
      "Epoch: 0077 loss_train: 0.0007 loss_kl_train: 0.1719 loss_x_train: 0.0007 loss_val: 0.0007 time: 287.3238s\n",
      "Epoch: 0078 loss_train: 0.0007 loss_kl_train: 0.1721 loss_x_train: 0.0007 loss_val: 0.0007 time: 287.3446s\n",
      "Epoch: 0079 loss_train: 0.0007 loss_kl_train: 0.1724 loss_x_train: 0.0007 loss_val: 0.0007 time: 287.3342s\n",
      "Epoch: 0080 loss_train: 0.0007 loss_kl_train: 0.1726 loss_x_train: 0.0007 loss_val: 0.0007 time: 287.2346s\n",
      "Epoch: 0081 loss_train: 0.0007 loss_kl_train: 0.1729 loss_x_train: 0.0007 loss_val: 0.0007 time: 287.3663s\n",
      "Epoch: 0082 loss_train: 0.0007 loss_kl_train: 0.1731 loss_x_train: 0.0007 loss_val: 0.0007 time: 287.4985s\n",
      "Epoch: 0083 loss_train: 0.0007 loss_kl_train: 0.1733 loss_x_train: 0.0007 loss_val: 0.0007 time: 287.3691s\n",
      "Epoch: 0084 loss_train: 0.0007 loss_kl_train: 0.1736 loss_x_train: 0.0007 loss_val: 0.0007 time: 287.3795s\n",
      "Epoch: 0085 loss_train: 0.0007 loss_kl_train: 0.1738 loss_x_train: 0.0007 loss_val: 0.0007 time: 287.4761s\n",
      "Epoch: 0086 loss_train: 0.0007 loss_kl_train: 0.1740 loss_x_train: 0.0007 loss_val: 0.0007 time: 287.2919s\n",
      "Epoch: 0087 loss_train: 0.0007 loss_kl_train: 0.1742 loss_x_train: 0.0007 loss_val: 0.0007 time: 287.4012s\n",
      "Epoch: 0088 loss_train: 0.0007 loss_kl_train: 0.1744 loss_x_train: 0.0007 loss_val: 0.0007 time: 287.3869s\n",
      "Epoch: 0089 loss_train: 0.0007 loss_kl_train: 0.1746 loss_x_train: 0.0007 loss_val: 0.0007 time: 287.3377s\n",
      "Epoch: 0090 loss_train: 0.0007 loss_kl_train: 0.1748 loss_x_train: 0.0007 loss_val: 0.0007 time: 287.3065s\n",
      "Epoch: 0091 loss_train: 0.0007 loss_kl_train: 0.1750 loss_x_train: 0.0007 loss_val: 0.0007 time: 287.2456s\n",
      "Epoch: 0092 loss_train: 0.0007 loss_kl_train: 0.1753 loss_x_train: 0.0007 loss_val: 0.0007 time: 287.5287s\n",
      "Epoch: 0093 loss_train: 0.0007 loss_kl_train: 0.1755 loss_x_train: 0.0007 loss_val: 0.0006 time: 287.4441s\n",
      "Epoch: 0094 loss_train: 0.0007 loss_kl_train: 0.1756 loss_x_train: 0.0007 loss_val: 0.0006 time: 287.4792s\n",
      "Epoch: 0095 loss_train: 0.0006 loss_kl_train: 0.1758 loss_x_train: 0.0006 loss_val: 0.0006 time: 287.2739s\n",
      "Epoch: 0096 loss_train: 0.0006 loss_kl_train: 0.1760 loss_x_train: 0.0006 loss_val: 0.0006 time: 287.0443s\n",
      "Epoch: 0097 loss_train: 0.0006 loss_kl_train: 0.1762 loss_x_train: 0.0006 loss_val: 0.0006 time: 287.0044s\n",
      "Epoch: 0098 loss_train: 0.0006 loss_kl_train: 0.1764 loss_x_train: 0.0006 loss_val: 0.0006 time: 286.7739s\n",
      "Epoch: 0099 loss_train: 0.0006 loss_kl_train: 0.1765 loss_x_train: 0.0006 loss_val: 0.0006 time: 287.0280s\n",
      "Epoch: 0100 loss_train: 0.0006 loss_kl_train: 0.1767 loss_x_train: 0.0006 loss_val: 0.0006 time: 286.7856s\n",
      "Epoch: 0101 loss_train: 0.0006 loss_kl_train: 0.1768 loss_x_train: 0.0006 loss_val: 0.0006 time: 286.9164s\n",
      "Epoch: 0102 loss_train: 0.0006 loss_kl_train: 0.1770 loss_x_train: 0.0006 loss_val: 0.0006 time: 286.8879s\n",
      "Epoch: 0103 loss_train: 0.0006 loss_kl_train: 0.1772 loss_x_train: 0.0006 loss_val: 0.0006 time: 286.8454s\n",
      "Epoch: 0104 loss_train: 0.0006 loss_kl_train: 0.1773 loss_x_train: 0.0006 loss_val: 0.0006 time: 287.0167s\n",
      "Epoch: 0105 loss_train: 0.0006 loss_kl_train: 0.1775 loss_x_train: 0.0006 loss_val: 0.0006 time: 286.9824s\n",
      "Epoch: 0106 loss_train: 0.0006 loss_kl_train: 0.1776 loss_x_train: 0.0006 loss_val: 0.0006 time: 286.9781s\n",
      "Epoch: 0107 loss_train: 0.0006 loss_kl_train: 0.1777 loss_x_train: 0.0006 loss_val: 0.0006 time: 286.9238s\n",
      "Epoch: 0108 loss_train: 0.0006 loss_kl_train: 0.1779 loss_x_train: 0.0006 loss_val: 0.0006 time: 286.9328s\n",
      "Epoch: 0109 loss_train: 0.0006 loss_kl_train: 0.1780 loss_x_train: 0.0006 loss_val: 0.0006 time: 286.8044s\n",
      "Epoch: 0110 loss_train: 0.0006 loss_kl_train: 0.1782 loss_x_train: 0.0006 loss_val: 0.0006 time: 286.9393s\n",
      "Epoch: 0111 loss_train: 0.0006 loss_kl_train: 0.1783 loss_x_train: 0.0006 loss_val: 0.0006 time: 286.8165s\n",
      "Epoch: 0112 loss_train: 0.0006 loss_kl_train: 0.1784 loss_x_train: 0.0006 loss_val: 0.0006 time: 286.4869s\n",
      "Epoch: 0113 loss_train: 0.0006 loss_kl_train: 0.1786 loss_x_train: 0.0006 loss_val: 0.0006 time: 286.6085s\n",
      "Epoch: 0114 loss_train: 0.0006 loss_kl_train: 0.1787 loss_x_train: 0.0006 loss_val: 0.0006 time: 286.8008s\n",
      "Epoch: 0115 loss_train: 0.0006 loss_kl_train: 0.1788 loss_x_train: 0.0006 loss_val: 0.0006 time: 286.4979s\n",
      "Epoch: 0116 loss_train: 0.0006 loss_kl_train: 0.1789 loss_x_train: 0.0006 loss_val: 0.0006 time: 286.8757s\n",
      "Epoch: 0117 loss_train: 0.0006 loss_kl_train: 0.1790 loss_x_train: 0.0006 loss_val: 0.0006 time: 286.8625s\n",
      "Epoch: 0118 loss_train: 0.0006 loss_kl_train: 0.1792 loss_x_train: 0.0006 loss_val: 0.0006 time: 287.0775s\n",
      "Epoch: 0119 loss_train: 0.0006 loss_kl_train: 0.1793 loss_x_train: 0.0006 loss_val: 0.0006 time: 286.8829s\n",
      "Epoch: 0120 loss_train: 0.0006 loss_kl_train: 0.1794 loss_x_train: 0.0006 loss_val: 0.0006 time: 286.9775s\n",
      "Epoch: 0121 loss_train: 0.0006 loss_kl_train: 0.1795 loss_x_train: 0.0006 loss_val: 0.0006 time: 287.0420s\n",
      "Epoch: 0122 loss_train: 0.0006 loss_kl_train: 0.1796 loss_x_train: 0.0006 loss_val: 0.0006 time: 287.1298s\n",
      "Epoch: 0123 loss_train: 0.0006 loss_kl_train: 0.1797 loss_x_train: 0.0006 loss_val: 0.0006 time: 286.7763s\n",
      "Epoch: 0124 loss_train: 0.0006 loss_kl_train: 0.1798 loss_x_train: 0.0006 loss_val: 0.0006 time: 287.0646s\n",
      "Epoch: 0125 loss_train: 0.0006 loss_kl_train: 0.1799 loss_x_train: 0.0006 loss_val: 0.0006 time: 286.7542s\n",
      "Epoch: 0126 loss_train: 0.0006 loss_kl_train: 0.1800 loss_x_train: 0.0006 loss_val: 0.0006 time: 286.6203s\n",
      "Epoch: 0127 loss_train: 0.0006 loss_kl_train: 0.1801 loss_x_train: 0.0006 loss_val: 0.0006 time: 286.7486s\n",
      "Epoch: 0128 loss_train: 0.0006 loss_kl_train: 0.1802 loss_x_train: 0.0006 loss_val: 0.0006 time: 286.9629s\n",
      "Epoch: 0129 loss_train: 0.0006 loss_kl_train: 0.1803 loss_x_train: 0.0006 loss_val: 0.0006 time: 286.8086s\n",
      "Epoch: 0130 loss_train: 0.0006 loss_kl_train: 0.1804 loss_x_train: 0.0006 loss_val: 0.0006 time: 286.8674s\n",
      "Epoch: 0131 loss_train: 0.0006 loss_kl_train: 0.1805 loss_x_train: 0.0006 loss_val: 0.0006 time: 286.9613s\n",
      "Epoch: 0132 loss_train: 0.0006 loss_kl_train: 0.1805 loss_x_train: 0.0006 loss_val: 0.0006 time: 287.0677s\n",
      "Epoch: 0133 loss_train: 0.0006 loss_kl_train: 0.1806 loss_x_train: 0.0006 loss_val: 0.0006 time: 287.2431s\n",
      "Epoch: 0134 loss_train: 0.0006 loss_kl_train: 0.1807 loss_x_train: 0.0006 loss_val: 0.0006 time: 287.1018s\n",
      "Epoch: 0135 loss_train: 0.0006 loss_kl_train: 0.1808 loss_x_train: 0.0006 loss_val: 0.0006 time: 287.0061s\n",
      "Epoch: 0136 loss_train: 0.0006 loss_kl_train: 0.1809 loss_x_train: 0.0006 loss_val: 0.0006 time: 287.1075s\n",
      "Epoch: 0137 loss_train: 0.0006 loss_kl_train: 0.1810 loss_x_train: 0.0006 loss_val: 0.0006 time: 287.1028s\n",
      "Epoch: 0138 loss_train: 0.0006 loss_kl_train: 0.1810 loss_x_train: 0.0006 loss_val: 0.0006 time: 287.1013s\n",
      "Epoch: 0139 loss_train: 0.0006 loss_kl_train: 0.1811 loss_x_train: 0.0006 loss_val: 0.0006 time: 287.1117s\n",
      "Epoch: 0140 loss_train: 0.0006 loss_kl_train: 0.1812 loss_x_train: 0.0006 loss_val: 0.0006 time: 287.0683s\n",
      "Epoch: 0141 loss_train: 0.0006 loss_kl_train: 0.1812 loss_x_train: 0.0006 loss_val: 0.0006 time: 287.3511s\n",
      "Epoch: 0142 loss_train: 0.0006 loss_kl_train: 0.1813 loss_x_train: 0.0006 loss_val: 0.0006 time: 287.0332s\n",
      "Epoch: 0143 loss_train: 0.0006 loss_kl_train: 0.1814 loss_x_train: 0.0006 loss_val: 0.0006 time: 287.2321s\n",
      "Epoch: 0144 loss_train: 0.0006 loss_kl_train: 0.1815 loss_x_train: 0.0006 loss_val: 0.0006 time: 286.9163s\n",
      "Epoch: 0145 loss_train: 0.0006 loss_kl_train: 0.1815 loss_x_train: 0.0006 loss_val: 0.0006 time: 286.9472s\n",
      "Epoch: 0146 loss_train: 0.0006 loss_kl_train: 0.1816 loss_x_train: 0.0006 loss_val: 0.0006 time: 286.9828s\n",
      "Epoch: 0147 loss_train: 0.0006 loss_kl_train: 0.1817 loss_x_train: 0.0006 loss_val: 0.0006 time: 286.9359s\n",
      "Epoch: 0148 loss_train: 0.0006 loss_kl_train: 0.1817 loss_x_train: 0.0006 loss_val: 0.0006 time: 287.1557s\n",
      "Epoch: 0149 loss_train: 0.0006 loss_kl_train: 0.1818 loss_x_train: 0.0006 loss_val: 0.0006 time: 287.2640s\n",
      "Epoch: 0150 loss_train: 0.0006 loss_kl_train: 0.1819 loss_x_train: 0.0006 loss_val: 0.0006 time: 287.2645s\n",
      "Epoch: 0151 loss_train: 0.0006 loss_kl_train: 0.1819 loss_x_train: 0.0006 loss_val: 0.0006 time: 287.0003s\n",
      "Epoch: 0152 loss_train: 0.0006 loss_kl_train: 0.1820 loss_x_train: 0.0006 loss_val: 0.0006 time: 287.0028s\n",
      "Epoch: 0153 loss_train: 0.0006 loss_kl_train: 0.1821 loss_x_train: 0.0006 loss_val: 0.0005 time: 287.2075s\n"
     ]
    },
    {
     "name": "stdout",
     "output_type": "stream",
     "text": [
      "Epoch: 0154 loss_train: 0.0005 loss_kl_train: 0.1821 loss_x_train: 0.0005 loss_val: 0.0005 time: 287.2263s\n",
      "Epoch: 0155 loss_train: 0.0005 loss_kl_train: 0.1822 loss_x_train: 0.0005 loss_val: 0.0005 time: 287.4739s\n",
      "Epoch: 0156 loss_train: 0.0005 loss_kl_train: 0.1822 loss_x_train: 0.0005 loss_val: 0.0005 time: 287.3022s\n",
      "Epoch: 0157 loss_train: 0.0005 loss_kl_train: 0.1823 loss_x_train: 0.0005 loss_val: 0.0005 time: 287.3139s\n",
      "Epoch: 0158 loss_train: 0.0005 loss_kl_train: 0.1823 loss_x_train: 0.0005 loss_val: 0.0005 time: 287.2020s\n",
      "Epoch: 0159 loss_train: 0.0005 loss_kl_train: 0.1824 loss_x_train: 0.0005 loss_val: 0.0005 time: 287.3069s\n",
      "Epoch: 0160 loss_train: 0.0005 loss_kl_train: 0.1824 loss_x_train: 0.0005 loss_val: 0.0005 time: 287.0903s\n",
      "Epoch: 0161 loss_train: 0.0005 loss_kl_train: 0.1825 loss_x_train: 0.0005 loss_val: 0.0005 time: 287.0622s\n",
      "Epoch: 0162 loss_train: 0.0005 loss_kl_train: 0.1825 loss_x_train: 0.0005 loss_val: 0.0005 time: 287.1049s\n",
      "Epoch: 0163 loss_train: 0.0005 loss_kl_train: 0.1826 loss_x_train: 0.0005 loss_val: 0.0005 time: 286.8929s\n",
      "Epoch: 0164 loss_train: 0.0005 loss_kl_train: 0.1827 loss_x_train: 0.0005 loss_val: 0.0005 time: 286.9643s\n",
      "Epoch: 0165 loss_train: 0.0005 loss_kl_train: 0.1827 loss_x_train: 0.0005 loss_val: 0.0005 time: 286.9337s\n",
      "Epoch: 0166 loss_train: 0.0005 loss_kl_train: 0.1828 loss_x_train: 0.0005 loss_val: 0.0005 time: 287.0474s\n",
      "Epoch: 0167 loss_train: 0.0005 loss_kl_train: 0.1828 loss_x_train: 0.0005 loss_val: 0.0005 time: 286.8741s\n",
      "Epoch: 0168 loss_train: 0.0005 loss_kl_train: 0.1829 loss_x_train: 0.0005 loss_val: 0.0005 time: 287.0679s\n",
      "Epoch: 0169 loss_train: 0.0005 loss_kl_train: 0.1829 loss_x_train: 0.0005 loss_val: 0.0005 time: 287.2034s\n",
      "Epoch: 0170 loss_train: 0.0005 loss_kl_train: 0.1829 loss_x_train: 0.0005 loss_val: 0.0005 time: 286.8621s\n",
      "Epoch: 0171 loss_train: 0.0005 loss_kl_train: 0.1830 loss_x_train: 0.0005 loss_val: 0.0005 time: 287.2537s\n",
      "Epoch: 0172 loss_train: 0.0005 loss_kl_train: 0.1830 loss_x_train: 0.0005 loss_val: 0.0005 time: 286.9895s\n",
      "Epoch: 0173 loss_train: 0.0005 loss_kl_train: 0.1831 loss_x_train: 0.0005 loss_val: 0.0005 time: 287.1703s\n",
      "Epoch: 0174 loss_train: 0.0005 loss_kl_train: 0.1831 loss_x_train: 0.0005 loss_val: 0.0005 time: 287.1082s\n",
      "Epoch: 0175 loss_train: 0.0005 loss_kl_train: 0.1832 loss_x_train: 0.0005 loss_val: 0.0005 time: 286.8854s\n",
      "Epoch: 0176 loss_train: 0.0005 loss_kl_train: 0.1832 loss_x_train: 0.0005 loss_val: 0.0005 time: 286.9333s\n",
      "Epoch: 0177 loss_train: 0.0005 loss_kl_train: 0.1833 loss_x_train: 0.0005 loss_val: 0.0005 time: 286.9078s\n",
      "Epoch: 0178 loss_train: 0.0005 loss_kl_train: 0.1833 loss_x_train: 0.0005 loss_val: 0.0005 time: 286.6691s\n",
      "Epoch: 0179 loss_train: 0.0005 loss_kl_train: 0.1833 loss_x_train: 0.0005 loss_val: 0.0005 time: 286.8208s\n",
      "Epoch: 0180 loss_train: 0.0005 loss_kl_train: 0.1834 loss_x_train: 0.0005 loss_val: 0.0005 time: 286.9404s\n",
      "Epoch: 0181 loss_train: 0.0005 loss_kl_train: 0.1834 loss_x_train: 0.0005 loss_val: 0.0005 time: 286.7508s\n",
      "Epoch: 0182 loss_train: 0.0005 loss_kl_train: 0.1835 loss_x_train: 0.0005 loss_val: 0.0005 time: 286.9604s\n",
      "Epoch: 0183 loss_train: 0.0005 loss_kl_train: 0.1835 loss_x_train: 0.0005 loss_val: 0.0005 time: 286.8390s\n",
      "Epoch: 0184 loss_train: 0.0005 loss_kl_train: 0.1835 loss_x_train: 0.0005 loss_val: 0.0005 time: 286.6665s\n",
      "Epoch: 0185 loss_train: 0.0005 loss_kl_train: 0.1836 loss_x_train: 0.0005 loss_val: 0.0005 time: 286.8564s\n",
      "Epoch: 0186 loss_train: 0.0005 loss_kl_train: 0.1836 loss_x_train: 0.0005 loss_val: 0.0005 time: 287.2237s\n",
      "Epoch: 0187 loss_train: 0.0005 loss_kl_train: 0.1836 loss_x_train: 0.0005 loss_val: 0.0005 time: 286.9479s\n",
      "Epoch: 0188 loss_train: 0.0005 loss_kl_train: 0.1837 loss_x_train: 0.0005 loss_val: 0.0005 time: 286.8117s\n",
      "Epoch: 0189 loss_train: 0.0005 loss_kl_train: 0.1837 loss_x_train: 0.0005 loss_val: 0.0005 time: 286.9291s\n",
      "Epoch: 0190 loss_train: 0.0005 loss_kl_train: 0.1837 loss_x_train: 0.0005 loss_val: 0.0005 time: 287.0328s\n",
      "Epoch: 0191 loss_train: 0.0005 loss_kl_train: 0.1838 loss_x_train: 0.0005 loss_val: 0.0005 time: 287.1350s\n",
      "Epoch: 0192 loss_train: 0.0005 loss_kl_train: 0.1838 loss_x_train: 0.0005 loss_val: 0.0005 time: 286.8765s\n",
      "Epoch: 0193 loss_train: 0.0005 loss_kl_train: 0.1838 loss_x_train: 0.0005 loss_val: 0.0005 time: 287.0672s\n",
      "Epoch: 0194 loss_train: 0.0005 loss_kl_train: 0.1839 loss_x_train: 0.0005 loss_val: 0.0005 time: 287.0717s\n",
      "Epoch: 0195 loss_train: 0.0005 loss_kl_train: 0.1839 loss_x_train: 0.0005 loss_val: 0.0005 time: 287.0852s\n",
      "Epoch: 0196 loss_train: 0.0005 loss_kl_train: 0.1839 loss_x_train: 0.0005 loss_val: 0.0005 time: 287.0400s\n",
      "Epoch: 0197 loss_train: 0.0005 loss_kl_train: 0.1839 loss_x_train: 0.0005 loss_val: 0.0005 time: 287.1889s\n",
      "Epoch: 0198 loss_train: 0.0005 loss_kl_train: 0.1840 loss_x_train: 0.0005 loss_val: 0.0005 time: 287.3159s\n",
      "Epoch: 0199 loss_train: 0.0005 loss_kl_train: 0.1840 loss_x_train: 0.0005 loss_val: 0.0005 time: 287.0645s\n",
      "Epoch: 0200 loss_train: 0.0005 loss_kl_train: 0.1840 loss_x_train: 0.0005 loss_val: 0.0005 time: 287.0598s\n",
      "Epoch: 0201 loss_train: 0.0005 loss_kl_train: 0.1840 loss_x_train: 0.0005 loss_val: 0.0005 time: 287.0287s\n",
      "Epoch: 0202 loss_train: 0.0005 loss_kl_train: 0.1841 loss_x_train: 0.0005 loss_val: 0.0005 time: 287.0852s\n",
      "Epoch: 0203 loss_train: 0.0005 loss_kl_train: 0.1841 loss_x_train: 0.0005 loss_val: 0.0005 time: 287.1178s\n",
      "Epoch: 0204 loss_train: 0.0005 loss_kl_train: 0.1841 loss_x_train: 0.0005 loss_val: 0.0005 time: 287.3959s\n",
      "Epoch: 0205 loss_train: 0.0005 loss_kl_train: 0.1841 loss_x_train: 0.0005 loss_val: 0.0005 time: 287.4007s\n",
      "Epoch: 0206 loss_train: 0.0005 loss_kl_train: 0.1842 loss_x_train: 0.0005 loss_val: 0.0005 time: 287.2413s\n",
      "Epoch: 0207 loss_train: 0.0005 loss_kl_train: 0.1842 loss_x_train: 0.0005 loss_val: 0.0005 time: 287.3704s\n",
      "Epoch: 0208 loss_train: 0.0005 loss_kl_train: 0.1842 loss_x_train: 0.0005 loss_val: 0.0005 time: 287.3159s\n",
      "Epoch: 0209 loss_train: 0.0005 loss_kl_train: 0.1842 loss_x_train: 0.0005 loss_val: 0.0005 time: 287.0371s\n",
      "Epoch: 0210 loss_train: 0.0005 loss_kl_train: 0.1843 loss_x_train: 0.0005 loss_val: 0.0005 time: 287.2391s\n",
      "Epoch: 0211 loss_train: 0.0005 loss_kl_train: 0.1843 loss_x_train: 0.0005 loss_val: 0.0005 time: 287.2812s\n",
      "Epoch: 0212 loss_train: 0.0005 loss_kl_train: 0.1843 loss_x_train: 0.0005 loss_val: 0.0005 time: 287.3458s\n",
      "Epoch: 0213 loss_train: 0.0005 loss_kl_train: 0.1843 loss_x_train: 0.0005 loss_val: 0.0005 time: 287.3776s\n",
      "Epoch: 0214 loss_train: 0.0005 loss_kl_train: 0.1844 loss_x_train: 0.0005 loss_val: 0.0005 time: 287.3493s\n",
      "Epoch: 0215 loss_train: 0.0005 loss_kl_train: 0.1844 loss_x_train: 0.0005 loss_val: 0.0005 time: 287.1756s\n",
      "Epoch: 0216 loss_train: 0.0005 loss_kl_train: 0.1844 loss_x_train: 0.0005 loss_val: 0.0005 time: 287.1726s\n",
      "Epoch: 0217 loss_train: 0.0005 loss_kl_train: 0.1844 loss_x_train: 0.0005 loss_val: 0.0005 time: 287.2117s\n",
      "Epoch: 0218 loss_train: 0.0005 loss_kl_train: 0.1845 loss_x_train: 0.0005 loss_val: 0.0005 time: 287.3217s\n",
      "Epoch: 0219 loss_train: 0.0005 loss_kl_train: 0.1845 loss_x_train: 0.0005 loss_val: 0.0005 time: 287.2507s\n",
      "Epoch: 0220 loss_train: 0.0005 loss_kl_train: 0.1845 loss_x_train: 0.0005 loss_val: 0.0005 time: 286.9997s\n",
      "Epoch: 0221 loss_train: 0.0005 loss_kl_train: 0.1845 loss_x_train: 0.0005 loss_val: 0.0005 time: 286.8128s\n",
      "Epoch: 0222 loss_train: 0.0005 loss_kl_train: 0.1845 loss_x_train: 0.0005 loss_val: 0.0005 time: 286.6910s\n",
      "Epoch: 0223 loss_train: 0.0005 loss_kl_train: 0.1846 loss_x_train: 0.0005 loss_val: 0.0005 time: 287.1175s\n",
      "Epoch: 0224 loss_train: 0.0005 loss_kl_train: 0.1846 loss_x_train: 0.0005 loss_val: 0.0005 time: 287.5637s\n",
      "Epoch: 0225 loss_train: 0.0005 loss_kl_train: 0.1846 loss_x_train: 0.0005 loss_val: 0.0005 time: 287.7598s\n",
      "Epoch: 0226 loss_train: 0.0005 loss_kl_train: 0.1846 loss_x_train: 0.0005 loss_val: 0.0005 time: 287.9561s\n",
      "Epoch: 0227 loss_train: 0.0005 loss_kl_train: 0.1846 loss_x_train: 0.0005 loss_val: 0.0005 time: 287.6952s\n",
      "Epoch: 0228 loss_train: 0.0005 loss_kl_train: 0.1847 loss_x_train: 0.0005 loss_val: 0.0005 time: 287.0242s\n",
      "Epoch: 0229 loss_train: 0.0005 loss_kl_train: 0.1847 loss_x_train: 0.0005 loss_val: 0.0005 time: 286.9428s\n",
      "Epoch: 0230 loss_train: 0.0005 loss_kl_train: 0.1847 loss_x_train: 0.0005 loss_val: 0.0005 time: 286.5994s\n"
     ]
    },
    {
     "name": "stdout",
     "output_type": "stream",
     "text": [
      "Epoch: 0231 loss_train: 0.0005 loss_kl_train: 0.1847 loss_x_train: 0.0005 loss_val: 0.0005 time: 286.7448s\n",
      "Epoch: 0232 loss_train: 0.0005 loss_kl_train: 0.1847 loss_x_train: 0.0005 loss_val: 0.0005 time: 286.3478s\n",
      "Epoch: 0233 loss_train: 0.0005 loss_kl_train: 0.1847 loss_x_train: 0.0005 loss_val: 0.0005 time: 286.0300s\n",
      "Epoch: 0234 loss_train: 0.0005 loss_kl_train: 0.1848 loss_x_train: 0.0005 loss_val: 0.0005 time: 286.2468s\n",
      "Epoch: 0235 loss_train: 0.0005 loss_kl_train: 0.1848 loss_x_train: 0.0005 loss_val: 0.0005 time: 286.1872s\n",
      "Epoch: 0236 loss_train: 0.0005 loss_kl_train: 0.1848 loss_x_train: 0.0005 loss_val: 0.0005 time: 286.1593s\n",
      "Epoch: 0237 loss_train: 0.0005 loss_kl_train: 0.1848 loss_x_train: 0.0005 loss_val: 0.0005 time: 286.4468s\n",
      "Epoch: 0238 loss_train: 0.0005 loss_kl_train: 0.1848 loss_x_train: 0.0005 loss_val: 0.0005 time: 286.4312s\n",
      "Epoch: 0239 loss_train: 0.0005 loss_kl_train: 0.1849 loss_x_train: 0.0005 loss_val: 0.0005 time: 286.5589s\n",
      "Epoch: 0240 loss_train: 0.0005 loss_kl_train: 0.1849 loss_x_train: 0.0005 loss_val: 0.0005 time: 286.5664s\n",
      "Epoch: 0241 loss_train: 0.0005 loss_kl_train: 0.1849 loss_x_train: 0.0005 loss_val: 0.0005 time: 286.8225s\n",
      "Epoch: 0242 loss_train: 0.0005 loss_kl_train: 0.1849 loss_x_train: 0.0005 loss_val: 0.0005 time: 286.7764s\n",
      "Epoch: 0243 loss_train: 0.0005 loss_kl_train: 0.1849 loss_x_train: 0.0005 loss_val: 0.0005 time: 286.7055s\n",
      "Epoch: 0244 loss_train: 0.0005 loss_kl_train: 0.1849 loss_x_train: 0.0005 loss_val: 0.0005 time: 286.8009s\n",
      "Epoch: 0245 loss_train: 0.0005 loss_kl_train: 0.1850 loss_x_train: 0.0005 loss_val: 0.0005 time: 286.6880s\n",
      "Epoch: 0246 loss_train: 0.0005 loss_kl_train: 0.1850 loss_x_train: 0.0005 loss_val: 0.0005 time: 286.7431s\n",
      "Epoch: 0247 loss_train: 0.0005 loss_kl_train: 0.1850 loss_x_train: 0.0005 loss_val: 0.0005 time: 286.9308s\n",
      "Epoch: 0248 loss_train: 0.0005 loss_kl_train: 0.1850 loss_x_train: 0.0005 loss_val: 0.0005 time: 286.8587s\n",
      "Epoch: 0249 loss_train: 0.0005 loss_kl_train: 0.1850 loss_x_train: 0.0005 loss_val: 0.0005 time: 286.6922s\n",
      "Epoch: 0250 loss_train: 0.0005 loss_kl_train: 0.1850 loss_x_train: 0.0005 loss_val: 0.0005 time: 286.9488s\n",
      "Epoch: 0251 loss_train: 0.0005 loss_kl_train: 0.1850 loss_x_train: 0.0005 loss_val: 0.0005 time: 287.1735s\n",
      "Epoch: 0252 loss_train: 0.0005 loss_kl_train: 0.1851 loss_x_train: 0.0005 loss_val: 0.0005 time: 287.1306s\n",
      "Epoch: 0253 loss_train: 0.0005 loss_kl_train: 0.1851 loss_x_train: 0.0005 loss_val: 0.0005 time: 287.0567s\n",
      "Epoch: 0254 loss_train: 0.0005 loss_kl_train: 0.1851 loss_x_train: 0.0005 loss_val: 0.0005 time: 286.7948s\n",
      "Epoch: 0255 loss_train: 0.0005 loss_kl_train: 0.1851 loss_x_train: 0.0005 loss_val: 0.0005 time: 287.0701s\n",
      "Epoch: 0256 loss_train: 0.0005 loss_kl_train: 0.1851 loss_x_train: 0.0005 loss_val: 0.0005 time: 287.1387s\n",
      "Epoch: 0257 loss_train: 0.0005 loss_kl_train: 0.1851 loss_x_train: 0.0005 loss_val: 0.0005 time: 287.0240s\n",
      "Epoch: 0258 loss_train: 0.0005 loss_kl_train: 0.1851 loss_x_train: 0.0005 loss_val: 0.0005 time: 286.8093s\n",
      "Epoch: 0259 loss_train: 0.0005 loss_kl_train: 0.1851 loss_x_train: 0.0005 loss_val: 0.0005 time: 287.1201s\n",
      "Epoch: 0260 loss_train: 0.0005 loss_kl_train: 0.1852 loss_x_train: 0.0005 loss_val: 0.0005 time: 289.2015s\n",
      "Epoch: 0261 loss_train: 0.0005 loss_kl_train: 0.1852 loss_x_train: 0.0005 loss_val: 0.0005 time: 289.6955s\n",
      "Epoch: 0262 loss_train: 0.0005 loss_kl_train: 0.1852 loss_x_train: 0.0005 loss_val: 0.0005 time: 289.8014s\n",
      "Epoch: 0263 loss_train: 0.0005 loss_kl_train: 0.1852 loss_x_train: 0.0005 loss_val: 0.0005 time: 289.8713s\n",
      "Epoch: 0264 loss_train: 0.0005 loss_kl_train: 0.1852 loss_x_train: 0.0005 loss_val: 0.0005 time: 289.5399s\n",
      "Epoch: 0265 loss_train: 0.0005 loss_kl_train: 0.1852 loss_x_train: 0.0005 loss_val: 0.0005 time: 289.8495s\n",
      "Epoch: 0266 loss_train: 0.0005 loss_kl_train: 0.1852 loss_x_train: 0.0005 loss_val: 0.0005 time: 289.8609s\n",
      "Epoch: 0267 loss_train: 0.0005 loss_kl_train: 0.1852 loss_x_train: 0.0005 loss_val: 0.0005 time: 289.8546s\n",
      "Epoch: 0268 loss_train: 0.0005 loss_kl_train: 0.1852 loss_x_train: 0.0005 loss_val: 0.0005 time: 289.8556s\n",
      "Epoch: 0269 loss_train: 0.0005 loss_kl_train: 0.1852 loss_x_train: 0.0005 loss_val: 0.0005 time: 289.8147s\n",
      "Epoch: 0270 loss_train: 0.0005 loss_kl_train: 0.1852 loss_x_train: 0.0005 loss_val: 0.0005 time: 289.5350s\n",
      "Epoch: 0271 loss_train: 0.0005 loss_kl_train: 0.1852 loss_x_train: 0.0005 loss_val: 0.0005 time: 289.5587s\n",
      "Epoch: 0272 loss_train: 0.0005 loss_kl_train: 0.1852 loss_x_train: 0.0005 loss_val: 0.0005 time: 289.8464s\n",
      "Epoch: 0273 loss_train: 0.0005 loss_kl_train: 0.1852 loss_x_train: 0.0005 loss_val: 0.0005 time: 289.8058s\n",
      "Epoch: 0274 loss_train: 0.0004 loss_kl_train: 0.1853 loss_x_train: 0.0004 loss_val: 0.0005 time: 290.1345s\n",
      "Epoch: 0275 loss_train: 0.0004 loss_kl_train: 0.1853 loss_x_train: 0.0004 loss_val: 0.0005 time: 290.1290s\n",
      "Epoch: 0276 loss_train: 0.0004 loss_kl_train: 0.1853 loss_x_train: 0.0004 loss_val: 0.0005 time: 290.2856s\n",
      "Epoch: 0277 loss_train: 0.0004 loss_kl_train: 0.1853 loss_x_train: 0.0004 loss_val: 0.0005 time: 290.0860s\n",
      "Epoch: 0278 loss_train: 0.0004 loss_kl_train: 0.1853 loss_x_train: 0.0004 loss_val: 0.0005 time: 290.0024s\n",
      "Epoch: 0279 loss_train: 0.0004 loss_kl_train: 0.1853 loss_x_train: 0.0004 loss_val: 0.0005 time: 290.0481s\n",
      "Epoch: 0280 loss_train: 0.0004 loss_kl_train: 0.1853 loss_x_train: 0.0004 loss_val: 0.0005 time: 289.6889s\n",
      "Epoch: 0281 loss_train: 0.0004 loss_kl_train: 0.1853 loss_x_train: 0.0004 loss_val: 0.0005 time: 289.7410s\n",
      "Epoch: 0282 loss_train: 0.0004 loss_kl_train: 0.1853 loss_x_train: 0.0004 loss_val: 0.0005 time: 289.5886s\n",
      "Epoch: 0283 loss_train: 0.0004 loss_kl_train: 0.1853 loss_x_train: 0.0004 loss_val: 0.0005 time: 289.6719s\n",
      "Epoch: 0284 loss_train: 0.0004 loss_kl_train: 0.1853 loss_x_train: 0.0004 loss_val: 0.0005 time: 289.9068s\n",
      "Epoch: 0285 loss_train: 0.0004 loss_kl_train: 0.1853 loss_x_train: 0.0004 loss_val: 0.0005 time: 289.2243s\n",
      "Epoch: 0286 loss_train: 0.0004 loss_kl_train: 0.1853 loss_x_train: 0.0004 loss_val: 0.0005 time: 289.1194s\n",
      "Epoch: 0287 loss_train: 0.0004 loss_kl_train: 0.1853 loss_x_train: 0.0004 loss_val: 0.0005 time: 289.0215s\n",
      "Epoch: 0288 loss_train: 0.0004 loss_kl_train: 0.1853 loss_x_train: 0.0004 loss_val: 0.0005 time: 289.3303s\n",
      "Epoch: 0289 loss_train: 0.0004 loss_kl_train: 0.1853 loss_x_train: 0.0004 loss_val: 0.0005 time: 292.6035s\n",
      "Epoch: 0290 loss_train: 0.0004 loss_kl_train: 0.1854 loss_x_train: 0.0004 loss_val: 0.0004 time: 286.3962s\n",
      "Epoch: 0291 loss_train: 0.0004 loss_kl_train: 0.1854 loss_x_train: 0.0004 loss_val: 0.0004 time: 286.5521s\n",
      "Epoch: 0292 loss_train: 0.0004 loss_kl_train: 0.1854 loss_x_train: 0.0004 loss_val: 0.0004 time: 286.7771s\n",
      "Epoch: 0293 loss_train: 0.0004 loss_kl_train: 0.1854 loss_x_train: 0.0004 loss_val: 0.0004 time: 286.5313s\n",
      "Epoch: 0294 loss_train: 0.0004 loss_kl_train: 0.1854 loss_x_train: 0.0004 loss_val: 0.0004 time: 286.8861s\n",
      "Epoch: 0295 loss_train: 0.0004 loss_kl_train: 0.1854 loss_x_train: 0.0004 loss_val: 0.0004 time: 286.8411s\n",
      "Epoch: 0296 loss_train: 0.0004 loss_kl_train: 0.1854 loss_x_train: 0.0004 loss_val: 0.0004 time: 286.9272s\n",
      "Epoch: 0297 loss_train: 0.0004 loss_kl_train: 0.1854 loss_x_train: 0.0004 loss_val: 0.0004 time: 287.2536s\n",
      "Epoch: 0298 loss_train: 0.0004 loss_kl_train: 0.1854 loss_x_train: 0.0004 loss_val: 0.0004 time: 286.6846s\n",
      "Epoch: 0299 loss_train: 0.0004 loss_kl_train: 0.1854 loss_x_train: 0.0004 loss_val: 0.0004 time: 286.5931s\n",
      "Epoch: 0300 loss_train: 0.0004 loss_kl_train: 0.1854 loss_x_train: 0.0004 loss_val: 0.0004 time: 286.4326s\n",
      "Epoch: 0301 loss_train: 0.0004 loss_kl_train: 0.1854 loss_x_train: 0.0004 loss_val: 0.0004 time: 286.2936s\n",
      "Epoch: 0302 loss_train: 0.0004 loss_kl_train: 0.1854 loss_x_train: 0.0004 loss_val: 0.0004 time: 286.7614s\n",
      "Epoch: 0303 loss_train: 0.0004 loss_kl_train: 0.1854 loss_x_train: 0.0004 loss_val: 0.0004 time: 286.4712s\n",
      "Epoch: 0304 loss_train: 0.0004 loss_kl_train: 0.1854 loss_x_train: 0.0004 loss_val: 0.0004 time: 286.6144s\n",
      "Epoch: 0305 loss_train: 0.0004 loss_kl_train: 0.1854 loss_x_train: 0.0004 loss_val: 0.0004 time: 286.3465s\n",
      "Epoch: 0306 loss_train: 0.0004 loss_kl_train: 0.1854 loss_x_train: 0.0004 loss_val: 0.0004 time: 286.5440s\n",
      "Epoch: 0307 loss_train: 0.0004 loss_kl_train: 0.1854 loss_x_train: 0.0004 loss_val: 0.0004 time: 286.7288s\n"
     ]
    },
    {
     "name": "stdout",
     "output_type": "stream",
     "text": [
      "Epoch: 0308 loss_train: 0.0004 loss_kl_train: 0.1854 loss_x_train: 0.0004 loss_val: 0.0004 time: 286.4245s\n",
      "Epoch: 0309 loss_train: 0.0004 loss_kl_train: 0.1854 loss_x_train: 0.0004 loss_val: 0.0004 time: 286.4739s\n",
      "Epoch: 0310 loss_train: 0.0004 loss_kl_train: 0.1854 loss_x_train: 0.0004 loss_val: 0.0004 time: 286.6604s\n"
     ]
    },
    {
     "ename": "KeyboardInterrupt",
     "evalue": "",
     "output_type": "error",
     "traceback": [
      "\u001b[0;31m---------------------------------------------------------------------------\u001b[0m",
      "\u001b[0;31mKeyboardInterrupt\u001b[0m                         Traceback (most recent call last)",
      "\u001b[0;32m<ipython-input-7-5c5a8ad2afce>\u001b[0m in \u001b[0;36m<module>\u001b[0;34m\u001b[0m\n\u001b[1;32m     73\u001b[0m \u001b[0;32mfor\u001b[0m \u001b[0mep\u001b[0m \u001b[0;32min\u001b[0m \u001b[0mrange\u001b[0m\u001b[0;34m(\u001b[0m\u001b[0mepochs\u001b[0m\u001b[0;34m)\u001b[0m\u001b[0;34m:\u001b[0m\u001b[0;34m\u001b[0m\u001b[0;34m\u001b[0m\u001b[0m\n\u001b[1;32m     74\u001b[0m \u001b[0;31m# for ep in range(10000,20000):\u001b[0m\u001b[0;34m\u001b[0m\u001b[0;34m\u001b[0m\u001b[0;34m\u001b[0m\u001b[0m\n\u001b[0;32m---> 75\u001b[0;31m     \u001b[0mtrain_loss_ep\u001b[0m\u001b[0;34m[\u001b[0m\u001b[0mep\u001b[0m\u001b[0;34m]\u001b[0m\u001b[0;34m,\u001b[0m\u001b[0mtrain_loss_kl_ep\u001b[0m\u001b[0;34m[\u001b[0m\u001b[0mep\u001b[0m\u001b[0;34m]\u001b[0m\u001b[0;34m,\u001b[0m\u001b[0mtrain_loss_x_ep\u001b[0m\u001b[0;34m[\u001b[0m\u001b[0mep\u001b[0m\u001b[0;34m]\u001b[0m\u001b[0;34m,\u001b[0m\u001b[0mval_loss_ep\u001b[0m\u001b[0;34m[\u001b[0m\u001b[0mep\u001b[0m\u001b[0;34m]\u001b[0m\u001b[0;34m=\u001b[0m\u001b[0mtrain\u001b[0m\u001b[0;34m(\u001b[0m\u001b[0mep\u001b[0m\u001b[0;34m)\u001b[0m\u001b[0;34m\u001b[0m\u001b[0;34m\u001b[0m\u001b[0m\n\u001b[0m\u001b[1;32m     76\u001b[0m \u001b[0;34m\u001b[0m\u001b[0m\n\u001b[1;32m     77\u001b[0m \u001b[0;34m\u001b[0m\u001b[0m\n",
      "\u001b[0;32m<ipython-input-7-5c5a8ad2afce>\u001b[0m in \u001b[0;36mtrain\u001b[0;34m(epoch)\u001b[0m\n\u001b[1;32m     19\u001b[0m         \u001b[0moptimizerCNN\u001b[0m\u001b[0;34m.\u001b[0m\u001b[0mzero_grad\u001b[0m\u001b[0;34m(\u001b[0m\u001b[0;34m)\u001b[0m\u001b[0;34m\u001b[0m\u001b[0;34m\u001b[0m\u001b[0m\n\u001b[1;32m     20\u001b[0m \u001b[0;34m\u001b[0m\u001b[0m\n\u001b[0;32m---> 21\u001b[0;31m         \u001b[0mrecon\u001b[0m\u001b[0;34m,\u001b[0m \u001b[0mz\u001b[0m\u001b[0;34m,\u001b[0m \u001b[0mmu\u001b[0m\u001b[0;34m,\u001b[0m \u001b[0mlogvar\u001b[0m \u001b[0;34m=\u001b[0m \u001b[0mmodelcnn\u001b[0m\u001b[0;34m(\u001b[0m\u001b[0mtrainInput\u001b[0m\u001b[0;34m)\u001b[0m\u001b[0;34m\u001b[0m\u001b[0;34m\u001b[0m\u001b[0m\n\u001b[0m\u001b[1;32m     22\u001b[0m \u001b[0;34m\u001b[0m\u001b[0m\n\u001b[1;32m     23\u001b[0m         \u001b[0mloss_kl_train\u001b[0m\u001b[0;34m=\u001b[0m\u001b[0mloss_kl\u001b[0m\u001b[0;34m(\u001b[0m\u001b[0mmu\u001b[0m\u001b[0;34m,\u001b[0m \u001b[0mlogvar\u001b[0m\u001b[0;34m)\u001b[0m\u001b[0;34m\u001b[0m\u001b[0;34m\u001b[0m\u001b[0m\n",
      "\u001b[0;32m/usr/lib/python3/dist-packages/torch/nn/modules/module.py\u001b[0m in \u001b[0;36m_call_impl\u001b[0;34m(self, *input, **kwargs)\u001b[0m\n\u001b[1;32m   1049\u001b[0m         if not (self._backward_hooks or self._forward_hooks or self._forward_pre_hooks or _global_backward_hooks\n\u001b[1;32m   1050\u001b[0m                 or _global_forward_hooks or _global_forward_pre_hooks):\n\u001b[0;32m-> 1051\u001b[0;31m             \u001b[0;32mreturn\u001b[0m \u001b[0mforward_call\u001b[0m\u001b[0;34m(\u001b[0m\u001b[0;34m*\u001b[0m\u001b[0minput\u001b[0m\u001b[0;34m,\u001b[0m \u001b[0;34m**\u001b[0m\u001b[0mkwargs\u001b[0m\u001b[0;34m)\u001b[0m\u001b[0;34m\u001b[0m\u001b[0;34m\u001b[0m\u001b[0m\n\u001b[0m\u001b[1;32m   1052\u001b[0m         \u001b[0;31m# Do not call functions when jit is used\u001b[0m\u001b[0;34m\u001b[0m\u001b[0;34m\u001b[0m\u001b[0;34m\u001b[0m\u001b[0m\n\u001b[1;32m   1053\u001b[0m         \u001b[0mfull_backward_hooks\u001b[0m\u001b[0;34m,\u001b[0m \u001b[0mnon_full_backward_hooks\u001b[0m \u001b[0;34m=\u001b[0m \u001b[0;34m[\u001b[0m\u001b[0;34m]\u001b[0m\u001b[0;34m,\u001b[0m \u001b[0;34m[\u001b[0m\u001b[0;34m]\u001b[0m\u001b[0;34m\u001b[0m\u001b[0;34m\u001b[0m\u001b[0m\n",
      "\u001b[0;32m~/DCIS_clean/models/modelsCNN.py\u001b[0m in \u001b[0;36mforward\u001b[0;34m(self, x)\u001b[0m\n\u001b[1;32m     81\u001b[0m         \u001b[0mmu\u001b[0m\u001b[0;34m,\u001b[0m \u001b[0mlogvar\u001b[0m \u001b[0;34m=\u001b[0m \u001b[0mself\u001b[0m\u001b[0;34m.\u001b[0m\u001b[0mencode\u001b[0m\u001b[0;34m(\u001b[0m\u001b[0mx\u001b[0m\u001b[0;34m)\u001b[0m\u001b[0;34m\u001b[0m\u001b[0;34m\u001b[0m\u001b[0m\n\u001b[1;32m     82\u001b[0m         \u001b[0mz\u001b[0m \u001b[0;34m=\u001b[0m \u001b[0mself\u001b[0m\u001b[0;34m.\u001b[0m\u001b[0mreparameterize\u001b[0m\u001b[0;34m(\u001b[0m\u001b[0mmu\u001b[0m\u001b[0;34m,\u001b[0m \u001b[0mlogvar\u001b[0m\u001b[0;34m)\u001b[0m\u001b[0;34m\u001b[0m\u001b[0;34m\u001b[0m\u001b[0m\n\u001b[0;32m---> 83\u001b[0;31m         \u001b[0mres\u001b[0m \u001b[0;34m=\u001b[0m \u001b[0mself\u001b[0m\u001b[0;34m.\u001b[0m\u001b[0mdecode\u001b[0m\u001b[0;34m(\u001b[0m\u001b[0mz\u001b[0m\u001b[0;34m)\u001b[0m\u001b[0;34m\u001b[0m\u001b[0;34m\u001b[0m\u001b[0m\n\u001b[0m\u001b[1;32m     84\u001b[0m         \u001b[0;32mreturn\u001b[0m \u001b[0mres\u001b[0m\u001b[0;34m,\u001b[0m \u001b[0mz\u001b[0m\u001b[0;34m,\u001b[0m \u001b[0mmu\u001b[0m\u001b[0;34m,\u001b[0m \u001b[0mlogvar\u001b[0m\u001b[0;34m\u001b[0m\u001b[0;34m\u001b[0m\u001b[0m\n\u001b[1;32m     85\u001b[0m \u001b[0;34m\u001b[0m\u001b[0m\n",
      "\u001b[0;32m~/DCIS_clean/models/modelsCNN.py\u001b[0m in \u001b[0;36mdecode\u001b[0;34m(self, z)\u001b[0m\n\u001b[1;32m     76\u001b[0m         \u001b[0mh\u001b[0m \u001b[0;34m=\u001b[0m \u001b[0mself\u001b[0m\u001b[0;34m.\u001b[0m\u001b[0mfcD1\u001b[0m\u001b[0;34m(\u001b[0m\u001b[0mz\u001b[0m\u001b[0;34m)\u001b[0m\u001b[0;34m\u001b[0m\u001b[0;34m\u001b[0m\u001b[0m\n\u001b[1;32m     77\u001b[0m         \u001b[0mh\u001b[0m \u001b[0;34m=\u001b[0m \u001b[0mh\u001b[0m\u001b[0;34m.\u001b[0m\u001b[0mview\u001b[0m\u001b[0;34m(\u001b[0m\u001b[0;34m-\u001b[0m\u001b[0;36m1\u001b[0m\u001b[0;34m,\u001b[0m \u001b[0mself\u001b[0m\u001b[0;34m.\u001b[0m\u001b[0mhidden5\u001b[0m\u001b[0;34m,\u001b[0m \u001b[0mint\u001b[0m\u001b[0;34m(\u001b[0m\u001b[0mnp\u001b[0m\u001b[0;34m.\u001b[0m\u001b[0msqrt\u001b[0m\u001b[0;34m(\u001b[0m\u001b[0mself\u001b[0m\u001b[0;34m.\u001b[0m\u001b[0mfc1\u001b[0m\u001b[0;34m/\u001b[0m\u001b[0mself\u001b[0m\u001b[0;34m.\u001b[0m\u001b[0mhidden5\u001b[0m\u001b[0;34m)\u001b[0m\u001b[0;34m)\u001b[0m\u001b[0;34m,\u001b[0m \u001b[0mint\u001b[0m\u001b[0;34m(\u001b[0m\u001b[0mnp\u001b[0m\u001b[0;34m.\u001b[0m\u001b[0msqrt\u001b[0m\u001b[0;34m(\u001b[0m\u001b[0mself\u001b[0m\u001b[0;34m.\u001b[0m\u001b[0mfc1\u001b[0m\u001b[0;34m/\u001b[0m\u001b[0mself\u001b[0m\u001b[0;34m.\u001b[0m\u001b[0mhidden5\u001b[0m\u001b[0;34m)\u001b[0m\u001b[0;34m)\u001b[0m\u001b[0;34m)\u001b[0m\u001b[0;34m\u001b[0m\u001b[0;34m\u001b[0m\u001b[0m\n\u001b[0;32m---> 78\u001b[0;31m         \u001b[0;32mreturn\u001b[0m \u001b[0mself\u001b[0m\u001b[0;34m.\u001b[0m\u001b[0mdecoder\u001b[0m\u001b[0;34m(\u001b[0m\u001b[0mh\u001b[0m\u001b[0;34m)\u001b[0m\u001b[0;34m\u001b[0m\u001b[0;34m\u001b[0m\u001b[0m\n\u001b[0m\u001b[1;32m     79\u001b[0m \u001b[0;34m\u001b[0m\u001b[0m\n\u001b[1;32m     80\u001b[0m     \u001b[0;32mdef\u001b[0m \u001b[0mforward\u001b[0m\u001b[0;34m(\u001b[0m\u001b[0mself\u001b[0m\u001b[0;34m,\u001b[0m \u001b[0mx\u001b[0m\u001b[0;34m)\u001b[0m\u001b[0;34m:\u001b[0m\u001b[0;34m\u001b[0m\u001b[0;34m\u001b[0m\u001b[0m\n",
      "\u001b[0;32m/usr/lib/python3/dist-packages/torch/nn/modules/module.py\u001b[0m in \u001b[0;36m_call_impl\u001b[0;34m(self, *input, **kwargs)\u001b[0m\n\u001b[1;32m   1049\u001b[0m         if not (self._backward_hooks or self._forward_hooks or self._forward_pre_hooks or _global_backward_hooks\n\u001b[1;32m   1050\u001b[0m                 or _global_forward_hooks or _global_forward_pre_hooks):\n\u001b[0;32m-> 1051\u001b[0;31m             \u001b[0;32mreturn\u001b[0m \u001b[0mforward_call\u001b[0m\u001b[0;34m(\u001b[0m\u001b[0;34m*\u001b[0m\u001b[0minput\u001b[0m\u001b[0;34m,\u001b[0m \u001b[0;34m**\u001b[0m\u001b[0mkwargs\u001b[0m\u001b[0;34m)\u001b[0m\u001b[0;34m\u001b[0m\u001b[0;34m\u001b[0m\u001b[0m\n\u001b[0m\u001b[1;32m   1052\u001b[0m         \u001b[0;31m# Do not call functions when jit is used\u001b[0m\u001b[0;34m\u001b[0m\u001b[0;34m\u001b[0m\u001b[0;34m\u001b[0m\u001b[0m\n\u001b[1;32m   1053\u001b[0m         \u001b[0mfull_backward_hooks\u001b[0m\u001b[0;34m,\u001b[0m \u001b[0mnon_full_backward_hooks\u001b[0m \u001b[0;34m=\u001b[0m \u001b[0;34m[\u001b[0m\u001b[0;34m]\u001b[0m\u001b[0;34m,\u001b[0m \u001b[0;34m[\u001b[0m\u001b[0;34m]\u001b[0m\u001b[0;34m\u001b[0m\u001b[0;34m\u001b[0m\u001b[0m\n",
      "\u001b[0;32m/usr/lib/python3/dist-packages/torch/nn/parallel/data_parallel.py\u001b[0m in \u001b[0;36mforward\u001b[0;34m(self, *inputs, **kwargs)\u001b[0m\n\u001b[1;32m    164\u001b[0m \u001b[0;34m\u001b[0m\u001b[0m\n\u001b[1;32m    165\u001b[0m             \u001b[0;32mif\u001b[0m \u001b[0mlen\u001b[0m\u001b[0;34m(\u001b[0m\u001b[0mself\u001b[0m\u001b[0;34m.\u001b[0m\u001b[0mdevice_ids\u001b[0m\u001b[0;34m)\u001b[0m \u001b[0;34m==\u001b[0m \u001b[0;36m1\u001b[0m\u001b[0;34m:\u001b[0m\u001b[0;34m\u001b[0m\u001b[0;34m\u001b[0m\u001b[0m\n\u001b[0;32m--> 166\u001b[0;31m                 \u001b[0;32mreturn\u001b[0m \u001b[0mself\u001b[0m\u001b[0;34m.\u001b[0m\u001b[0mmodule\u001b[0m\u001b[0;34m(\u001b[0m\u001b[0;34m*\u001b[0m\u001b[0minputs\u001b[0m\u001b[0;34m[\u001b[0m\u001b[0;36m0\u001b[0m\u001b[0;34m]\u001b[0m\u001b[0;34m,\u001b[0m \u001b[0;34m**\u001b[0m\u001b[0mkwargs\u001b[0m\u001b[0;34m[\u001b[0m\u001b[0;36m0\u001b[0m\u001b[0;34m]\u001b[0m\u001b[0;34m)\u001b[0m\u001b[0;34m\u001b[0m\u001b[0;34m\u001b[0m\u001b[0m\n\u001b[0m\u001b[1;32m    167\u001b[0m             \u001b[0mreplicas\u001b[0m \u001b[0;34m=\u001b[0m \u001b[0mself\u001b[0m\u001b[0;34m.\u001b[0m\u001b[0mreplicate\u001b[0m\u001b[0;34m(\u001b[0m\u001b[0mself\u001b[0m\u001b[0;34m.\u001b[0m\u001b[0mmodule\u001b[0m\u001b[0;34m,\u001b[0m \u001b[0mself\u001b[0m\u001b[0;34m.\u001b[0m\u001b[0mdevice_ids\u001b[0m\u001b[0;34m[\u001b[0m\u001b[0;34m:\u001b[0m\u001b[0mlen\u001b[0m\u001b[0;34m(\u001b[0m\u001b[0minputs\u001b[0m\u001b[0;34m)\u001b[0m\u001b[0;34m]\u001b[0m\u001b[0;34m)\u001b[0m\u001b[0;34m\u001b[0m\u001b[0;34m\u001b[0m\u001b[0m\n\u001b[1;32m    168\u001b[0m             \u001b[0moutputs\u001b[0m \u001b[0;34m=\u001b[0m \u001b[0mself\u001b[0m\u001b[0;34m.\u001b[0m\u001b[0mparallel_apply\u001b[0m\u001b[0;34m(\u001b[0m\u001b[0mreplicas\u001b[0m\u001b[0;34m,\u001b[0m \u001b[0minputs\u001b[0m\u001b[0;34m,\u001b[0m \u001b[0mkwargs\u001b[0m\u001b[0;34m)\u001b[0m\u001b[0;34m\u001b[0m\u001b[0;34m\u001b[0m\u001b[0m\n",
      "\u001b[0;32m/usr/lib/python3/dist-packages/torch/nn/modules/module.py\u001b[0m in \u001b[0;36m_call_impl\u001b[0;34m(self, *input, **kwargs)\u001b[0m\n\u001b[1;32m   1049\u001b[0m         if not (self._backward_hooks or self._forward_hooks or self._forward_pre_hooks or _global_backward_hooks\n\u001b[1;32m   1050\u001b[0m                 or _global_forward_hooks or _global_forward_pre_hooks):\n\u001b[0;32m-> 1051\u001b[0;31m             \u001b[0;32mreturn\u001b[0m \u001b[0mforward_call\u001b[0m\u001b[0;34m(\u001b[0m\u001b[0;34m*\u001b[0m\u001b[0minput\u001b[0m\u001b[0;34m,\u001b[0m \u001b[0;34m**\u001b[0m\u001b[0mkwargs\u001b[0m\u001b[0;34m)\u001b[0m\u001b[0;34m\u001b[0m\u001b[0;34m\u001b[0m\u001b[0m\n\u001b[0m\u001b[1;32m   1052\u001b[0m         \u001b[0;31m# Do not call functions when jit is used\u001b[0m\u001b[0;34m\u001b[0m\u001b[0;34m\u001b[0m\u001b[0;34m\u001b[0m\u001b[0m\n\u001b[1;32m   1053\u001b[0m         \u001b[0mfull_backward_hooks\u001b[0m\u001b[0;34m,\u001b[0m \u001b[0mnon_full_backward_hooks\u001b[0m \u001b[0;34m=\u001b[0m \u001b[0;34m[\u001b[0m\u001b[0;34m]\u001b[0m\u001b[0;34m,\u001b[0m \u001b[0;34m[\u001b[0m\u001b[0;34m]\u001b[0m\u001b[0;34m\u001b[0m\u001b[0;34m\u001b[0m\u001b[0m\n",
      "\u001b[0;32m/usr/lib/python3/dist-packages/torch/nn/modules/container.py\u001b[0m in \u001b[0;36mforward\u001b[0;34m(self, input)\u001b[0m\n\u001b[1;32m    137\u001b[0m     \u001b[0;32mdef\u001b[0m \u001b[0mforward\u001b[0m\u001b[0;34m(\u001b[0m\u001b[0mself\u001b[0m\u001b[0;34m,\u001b[0m \u001b[0minput\u001b[0m\u001b[0;34m)\u001b[0m\u001b[0;34m:\u001b[0m\u001b[0;34m\u001b[0m\u001b[0;34m\u001b[0m\u001b[0m\n\u001b[1;32m    138\u001b[0m         \u001b[0;32mfor\u001b[0m \u001b[0mmodule\u001b[0m \u001b[0;32min\u001b[0m \u001b[0mself\u001b[0m\u001b[0;34m:\u001b[0m\u001b[0;34m\u001b[0m\u001b[0;34m\u001b[0m\u001b[0m\n\u001b[0;32m--> 139\u001b[0;31m             \u001b[0minput\u001b[0m \u001b[0;34m=\u001b[0m \u001b[0mmodule\u001b[0m\u001b[0;34m(\u001b[0m\u001b[0minput\u001b[0m\u001b[0;34m)\u001b[0m\u001b[0;34m\u001b[0m\u001b[0;34m\u001b[0m\u001b[0m\n\u001b[0m\u001b[1;32m    140\u001b[0m         \u001b[0;32mreturn\u001b[0m \u001b[0minput\u001b[0m\u001b[0;34m\u001b[0m\u001b[0;34m\u001b[0m\u001b[0m\n\u001b[1;32m    141\u001b[0m \u001b[0;34m\u001b[0m\u001b[0m\n",
      "\u001b[0;32m/usr/lib/python3/dist-packages/torch/nn/modules/module.py\u001b[0m in \u001b[0;36m_call_impl\u001b[0;34m(self, *input, **kwargs)\u001b[0m\n\u001b[1;32m   1049\u001b[0m         if not (self._backward_hooks or self._forward_hooks or self._forward_pre_hooks or _global_backward_hooks\n\u001b[1;32m   1050\u001b[0m                 or _global_forward_hooks or _global_forward_pre_hooks):\n\u001b[0;32m-> 1051\u001b[0;31m             \u001b[0;32mreturn\u001b[0m \u001b[0mforward_call\u001b[0m\u001b[0;34m(\u001b[0m\u001b[0;34m*\u001b[0m\u001b[0minput\u001b[0m\u001b[0;34m,\u001b[0m \u001b[0;34m**\u001b[0m\u001b[0mkwargs\u001b[0m\u001b[0;34m)\u001b[0m\u001b[0;34m\u001b[0m\u001b[0;34m\u001b[0m\u001b[0m\n\u001b[0m\u001b[1;32m   1052\u001b[0m         \u001b[0;31m# Do not call functions when jit is used\u001b[0m\u001b[0;34m\u001b[0m\u001b[0;34m\u001b[0m\u001b[0;34m\u001b[0m\u001b[0m\n\u001b[1;32m   1053\u001b[0m         \u001b[0mfull_backward_hooks\u001b[0m\u001b[0;34m,\u001b[0m \u001b[0mnon_full_backward_hooks\u001b[0m \u001b[0;34m=\u001b[0m \u001b[0;34m[\u001b[0m\u001b[0;34m]\u001b[0m\u001b[0;34m,\u001b[0m \u001b[0;34m[\u001b[0m\u001b[0;34m]\u001b[0m\u001b[0;34m\u001b[0m\u001b[0;34m\u001b[0m\u001b[0m\n",
      "\u001b[0;32m/usr/lib/python3/dist-packages/torch/nn/modules/conv.py\u001b[0m in \u001b[0;36mforward\u001b[0;34m(self, input, output_size)\u001b[0m\n\u001b[1;32m    914\u001b[0m             input, output_size, self.stride, self.padding, self.kernel_size, self.dilation)  # type: ignore[arg-type]\n\u001b[1;32m    915\u001b[0m \u001b[0;34m\u001b[0m\u001b[0m\n\u001b[0;32m--> 916\u001b[0;31m         return F.conv_transpose2d(\n\u001b[0m\u001b[1;32m    917\u001b[0m             \u001b[0minput\u001b[0m\u001b[0;34m,\u001b[0m \u001b[0mself\u001b[0m\u001b[0;34m.\u001b[0m\u001b[0mweight\u001b[0m\u001b[0;34m,\u001b[0m \u001b[0mself\u001b[0m\u001b[0;34m.\u001b[0m\u001b[0mbias\u001b[0m\u001b[0;34m,\u001b[0m \u001b[0mself\u001b[0m\u001b[0;34m.\u001b[0m\u001b[0mstride\u001b[0m\u001b[0;34m,\u001b[0m \u001b[0mself\u001b[0m\u001b[0;34m.\u001b[0m\u001b[0mpadding\u001b[0m\u001b[0;34m,\u001b[0m\u001b[0;34m\u001b[0m\u001b[0;34m\u001b[0m\u001b[0m\n\u001b[1;32m    918\u001b[0m             output_padding, self.groups, self.dilation)\n",
      "\u001b[0;31mKeyboardInterrupt\u001b[0m: "
     ]
    }
   ],
   "source": [
    "use_cuda=True\n",
    "def train(epoch):\n",
    "    t = time.time()\n",
    "    modelcnn.train()\n",
    "    \n",
    "    loss_kl_train_all=0\n",
    "    loss_x_train_all=0\n",
    "    loss_all=0\n",
    "    ntrainBatches=int(np.ceil(trainIdx.shape[0]/batchsize))\n",
    "    for i in range(ntrainBatches):\n",
    "#         if i%200==0:\n",
    "#         print(i)\n",
    "        trainIdx_i=trainIdx[i*batchsize:min((i+1)*batchsize,trainIdx.shape[0])]\n",
    "        trainInput=torch.tensor(allImg[trainIdx_i])\n",
    "#         print(trainInput.shape)\n",
    "\n",
    "        if use_cuda:\n",
    "            trainInput=trainInput.cuda().float()\n",
    "        optimizerCNN.zero_grad()\n",
    "\n",
    "        recon, z, mu, logvar = modelcnn(trainInput)\n",
    "\n",
    "        loss_kl_train=loss_kl(mu, logvar)\n",
    "        loss_x_train=loss_x(recon, trainInput)\n",
    "        loss=loss_kl_train*kl_weight+loss_x_train\n",
    "        \n",
    "        \n",
    "        loss_kl_train_all+=loss_kl_train.item()\n",
    "        loss_x_train_all+=loss_x_train.item()\n",
    "        loss_all+=loss.item()\n",
    "        \n",
    "        loss.backward()\n",
    "        optimizerCNN.step()\n",
    "\n",
    "    loss_kl_train_all=loss_kl_train_all/ntrainBatches\n",
    "    loss_x_train_all=loss_x_train_all/ntrainBatches\n",
    "    loss_all=loss_all/ntrainBatches\n",
    "    \n",
    "    with torch.no_grad():\n",
    "        modelcnn.eval()\n",
    "        loss_val_all=0\n",
    "        nvalBatches=int(np.ceil(valIdx.shape[0]/batchsize))\n",
    "        for i in range(nvalBatches):\n",
    "            valIdx_i=valIdx[i*batchsize:min((i+1)*batchsize,valIdx.shape[0])]\n",
    "            valInput=torch.tensor(allImg[valIdx_i])\n",
    "            if use_cuda:\n",
    "                valInput=valInput.cuda().float()\n",
    "            recon,z, mu, logvar = modelcnn(valInput)\n",
    "\n",
    "            loss_val=loss_x(recon, valInput).item()\n",
    "\n",
    "            loss_val_all+=loss_val\n",
    "\n",
    "        loss_val_all=loss_val_all/nvalBatches\n",
    "    \n",
    "    print('Epoch: {:04d}'.format(epoch),\n",
    "          'loss_train: {:.4f}'.format(loss_all),\n",
    "          'loss_kl_train: {:.4f}'.format(loss_kl_train_all),\n",
    "          'loss_x_train: {:.4f}'.format(loss_x_train_all),\n",
    "          'loss_val: {:.4f}'.format(loss_val_all),\n",
    "          'time: {:.4f}s'.format(time.time() - t))\n",
    "    return loss_all,loss_kl_train_all,loss_x_train_all,loss_val_all\n",
    "\n",
    "    \n",
    "train_loss_ep=[None]*epochs\n",
    "train_loss_kl_ep=[None]*epochs\n",
    "train_loss_x_ep=[None]*epochs\n",
    "val_loss_ep=[None]*epochs\n",
    "t_ep=time.time()\n",
    "\n",
    "# pre_t=4\n",
    "pre_t=-1\n",
    "for ep in range(epochs):\n",
    "# for ep in range(10000,20000):\n",
    "    train_loss_ep[ep],train_loss_kl_ep[ep],train_loss_x_ep[ep],val_loss_ep[ep]=train(ep)\n",
    "\n",
    "        \n",
    "    if ep%saveFreq == (saveFreq-1):\n",
    "        torch.save(modelcnn.cpu().state_dict(), os.path.join(modelsavepath,str(ep)+'.pt'))\n",
    "    if use_cuda:\n",
    "        modelcnn.cuda()\n",
    "        torch.cuda.empty_cache()\n",
    "print(' total time: {:.4f}s'.format(time.time() - t_ep))"
   ]
  },
  {
   "cell_type": "code",
   "execution_count": 8,
   "metadata": {},
   "outputs": [],
   "source": [
    "torch.save(modelcnn.cpu().state_dict(), os.path.join(modelsavepath,str(ep)+'.pt'))"
   ]
  },
  {
   "cell_type": "code",
   "execution_count": 9,
   "metadata": {},
   "outputs": [],
   "source": [
    "with open(os.path.join(logsavepath,'train_loss'), 'wb') as output:\n",
    "    pickle.dump(train_loss_ep, output, pickle.HIGHEST_PROTOCOL)\n",
    "with open(os.path.join(logsavepath,'train_loss_kl'), 'wb') as output:\n",
    "    pickle.dump(train_loss_kl_ep, output, pickle.HIGHEST_PROTOCOL)\n",
    "with open(os.path.join(logsavepath,'train_loss_x'), 'wb') as output:\n",
    "    pickle.dump(train_loss_x_ep, output, pickle.HIGHEST_PROTOCOL)\n",
    "with open(os.path.join(logsavepath,'val_loss'), 'wb') as output:\n",
    "    pickle.dump(val_loss_ep, output, pickle.HIGHEST_PROTOCOL)\n"
   ]
  },
  {
   "cell_type": "code",
   "execution_count": 10,
   "metadata": {},
   "outputs": [
    {
     "data": {
      "image/png": "[encoded data removed]",
      "text/plain": [
       "<Figure size 432x288 with 1 Axes>"
      ]
     },
     "metadata": {
      "needs_background": "light"
     },
     "output_type": "display_data"
    }
   ],
   "source": [
    "plt.plot(np.arange(epochs),train_loss_x_ep)\n",
    "plt.plot(np.arange(epochs),val_loss_ep)\n",
    "# plt.plot(np.arange(epochs),train_loss_kl_ep)\n",
    "plt.legend(['training x recon loss','validation x recon loss','training kl loss'],loc='upper right')\n",
    "plt.savefig(os.path.join(plotsavepath,'loss_seed3_x.jpg'))\n",
    "plt.show()\n"
   ]
  },
  {
   "cell_type": "code",
   "execution_count": 16,
   "metadata": {},
   "outputs": [
    {
     "name": "stdout",
     "output_type": "stream",
     "text": [
      "0.0004398554564461172\n"
     ]
    }
   ],
   "source": [
    "#test loss\n",
    "with torch.no_grad():\n",
    "    modelcnn.cuda()\n",
    "    modelcnn.eval()\n",
    "    loss_test_all=0\n",
    "    ntestBatches=int(np.ceil(testIdx.shape[0]/batchsize))\n",
    "    for i in range(ntestBatches):\n",
    "        testIdx_i=testIdx[i*batchsize:min((i+1)*batchsize,testIdx.shape[0])]\n",
    "        testInput=torch.tensor(allImg[testIdx_i])\n",
    "        if use_cuda:\n",
    "            testInput=testInput.cuda().float()\n",
    "        recon,z, mu, logvar = modelcnn(testInput)\n",
    "\n",
    "        loss_test=loss_x(recon, testInput).item()\n",
    "\n",
    "        loss_test_all+=loss_test\n",
    "\n",
    "    loss_test_all=loss_test_all/ntestBatches\n",
    "print(loss_test_all)"
   ]
  },
  {
   "cell_type": "code",
   "execution_count": 19,
   "metadata": {},
   "outputs": [
    {
     "name": "stdout",
     "output_type": "stream",
     "text": [
      "0\n"
     ]
    },
    {
     "data": {
      "image/png": "[encoded data removed]",
      "text/plain": [
       "<Figure size 432x288 with 1 Axes>"
      ]
     },
     "metadata": {
      "needs_background": "light"
     },
     "output_type": "display_data"
    },
    {
     "data": {
      "image/png": "[encoded data removed]",
      "text/plain": [
       "<Figure size 432x288 with 1 Axes>"
      ]
     },
     "metadata": {
      "needs_background": "light"
     },
     "output_type": "display_data"
    },
    {
     "name": "stdout",
     "output_type": "stream",
     "text": [
      "1\n"
     ]
    },
    {
     "data": {
      "image/png": "[encoded data removed]",
      "text/plain": [
       "<Figure size 432x288 with 1 Axes>"
      ]
     },
     "metadata": {
      "needs_background": "light"
     },
     "output_type": "display_data"
    },
    {
     "data": {
      "image/png": "[encoded data removed]",
      "text/plain": [
       "<Figure size 432x288 with 1 Axes>"
      ]
     },
     "metadata": {
      "needs_background": "light"
     },
     "output_type": "display_data"
    },
    {
     "name": "stdout",
     "output_type": "stream",
     "text": [
      "2\n"
     ]
    },
    {
     "data": {
      "image/png": "[encoded data removed]",
      "text/plain": [
       "<Figure size 432x288 with 1 Axes>"
      ]
     },
     "metadata": {
      "needs_background": "light"
     },
     "output_type": "display_data"
    },
    {
     "data": {
      "image/png": "[encoded data removed]",
      "text/plain": [
       "<Figure size 432x288 with 1 Axes>"
      ]
     },
     "metadata": {
      "needs_background": "light"
     },
     "output_type": "display_data"
    },
    {
     "name": "stdout",
     "output_type": "stream",
     "text": [
      "3\n"
     ]
    },
    {
     "data": {
      "image/png": "[encoded data removed]",
      "text/plain": [
       "<Figure size 432x288 with 1 Axes>"
      ]
     },
     "metadata": {
      "needs_background": "light"
     },
     "output_type": "display_data"
    },
    {
     "data": {
      "image/png": "[encoded data removed]",
      "text/plain": [
       "<Figure size 432x288 with 1 Axes>"
      ]
     },
     "metadata": {
      "needs_background": "light"
     },
     "output_type": "display_data"
    },
    {
     "name": "stdout",
     "output_type": "stream",
     "text": [
      "4\n"
     ]
    },
    {
     "data": {
      "image/png": "[encoded data removed]",
      "text/plain": [
       "<Figure size 432x288 with 1 Axes>"
      ]
     },
     "metadata": {
      "needs_background": "light"
     },
     "output_type": "display_data"
    },
    {
     "data": {
      "image/png": "[encoded data removed]",
      "text/plain": [
       "<Figure size 432x288 with 1 Axes>"
      ]
     },
     "metadata": {
      "needs_background": "light"
     },
     "output_type": "display_data"
    },
    {
     "name": "stdout",
     "output_type": "stream",
     "text": [
      "5\n"
     ]
    },
    {
     "data": {
      "image/png": "[encoded data removed]",
      "text/plain": [
       "<Figure size 432x288 with 1 Axes>"
      ]
     },
     "metadata": {
      "needs_background": "light"
     },
     "output_type": "display_data"
    },
    {
     "data": {
      "image/png": "[encoded data removed]",
      "text/plain": [
       "<Figure size 432x288 with 1 Axes>"
      ]
     },
     "metadata": {
      "needs_background": "light"
     },
     "output_type": "display_data"
    },
    {
     "name": "stdout",
     "output_type": "stream",
     "text": [
      "6\n"
     ]
    },
    {
     "data": {
      "image/png": "[encoded data removed]",
      "text/plain": [
       "<Figure size 432x288 with 1 Axes>"
      ]
     },
     "metadata": {
      "needs_background": "light"
     },
     "output_type": "display_data"
    },
    {
     "data": {
      "image/png": "[encoded data removed]",
      "text/plain": [
       "<Figure size 432x288 with 1 Axes>"
      ]
     },
     "metadata": {
      "needs_background": "light"
     },
     "output_type": "display_data"
    },
    {
     "name": "stdout",
     "output_type": "stream",
     "text": [
      "7\n"
     ]
    },
    {
     "data": {
      "image/png": "[encoded data removed]",
      "text/plain": [
       "<Figure size 432x288 with 1 Axes>"
      ]
     },
     "metadata": {
      "needs_background": "light"
     },
     "output_type": "display_data"
    },
    {
     "data": {
      "image/png": "[encoded data removed]",
      "text/plain": [
       "<Figure size 432x288 with 1 Axes>"
      ]
     },
     "metadata": {
      "needs_background": "light"
     },
     "output_type": "display_data"
    },
    {
     "name": "stdout",
     "output_type": "stream",
     "text": [
      "8\n"
     ]
    },
    {
     "data": {
      "image/png": "[encoded data removed]",
      "text/plain": [
       "<Figure size 432x288 with 1 Axes>"
      ]
     },
     "metadata": {
      "needs_background": "light"
     },
     "output_type": "display_data"
    },
    {
     "data": {
      "image/png": "[encoded data removed]",
      "text/plain": [
       "<Figure size 432x288 with 1 Axes>"
      ]
     },
     "metadata": {
      "needs_background": "light"
     },
     "output_type": "display_data"
    },
    {
     "name": "stdout",
     "output_type": "stream",
     "text": [
      "9\n"
     ]
    },
    {
     "data": {
      "image/png": "[encoded data removed]",
      "text/plain": [
       "<Figure size 432x288 with 1 Axes>"
      ]
     },
     "metadata": {
      "needs_background": "light"
     },
     "output_type": "display_data"
    },
    {
     "data": {
      "image/png": "[encoded data removed]",
      "text/plain": [
       "<Figure size 432x288 with 1 Axes>"
      ]
     },
     "metadata": {
      "needs_background": "light"
     },
     "output_type": "display_data"
    }
   ],
   "source": [
    "with torch.no_grad():\n",
    "    testIdx_i=np.array([ 946042,  268296, 1680734,  610892, 1732454,   41777,  820490,145414, 1635248,  697208])\n",
    "    testInput=torch.tensor(allImg[testIdx_i])\n",
    "    if use_cuda:\n",
    "        testInput=testInput.cuda().float()\n",
    "    recon,z, mu, logvar = modelcnn(testInput)\n",
    "    for i in range(10):\n",
    "        print(i)\n",
    "        plt.imshow(testInput[i][0].cpu().detach().numpy())\n",
    "        plt.show()\n",
    "        plt.imshow(recon[i][0].cpu().detach().numpy())\n",
    "        plt.show()"
   ]
  },
  {
   "cell_type": "code",
   "execution_count": 13,
   "metadata": {},
   "outputs": [],
   "source": [
    "#compute latent\n",
    "ep=311\n",
    "use_cuda=True\n",
    "modelcnn.load_state_dict(torch.load(os.path.join(modelsavepath,str(ep)+'.pt')))\n",
    "latent=np.zeros((allImg.shape[0],fc_dim2))\n",
    "with torch.no_grad():\n",
    "    modelcnn.cuda()\n",
    "    modelcnn.eval()\n",
    "    nplotBatches=int(np.ceil(allImg.shape[0]/batchsize))\n",
    "    for i in range(nplotBatches):\n",
    "        plotInput=torch.tensor(allImg[i*batchsize:min((i+1)*batchsize,allImg.shape[0])])\n",
    "        if use_cuda:\n",
    "            plotInput=plotInput.cuda().float()\n",
    "        recon,z, mu, logvar = modelcnn(plotInput)\n",
    "        latent[i*batchsize:min((i+1)*batchsize,allImg.shape[0])]=mu.cpu().detach().numpy()\n"
   ]
  },
  {
   "cell_type": "code",
   "execution_count": 20,
   "metadata": {},
   "outputs": [],
   "source": [
    "import umap\n",
    "from sklearn.decomposition import PCA\n",
    "from sklearn.cluster import MiniBatchKMeans\n",
    "\n",
    "np.random.seed(seed)\n",
    "def plotembeddingbyCT(ctlist,savename,excludelist,embedding,savepath,plotname,plotdimx=0,plotdimy=1,savenameAdd='',img=None,ncolors=None):\n",
    "    \n",
    "    celltypes=np.unique(ctlist)\n",
    "    if ncolors is None:\n",
    "        colortest=sns.color_palette(\"husl\", celltypes.size)\n",
    "    else:\n",
    "        colortest=sns.color_palette(\"husl\", ncolors)\n",
    "    fig, ax = plt.subplots(dpi=400)\n",
    "    if not img is None:\n",
    "        plt.imshow(img)\n",
    "    for ct in celltypes:\n",
    "        if ct in excludelist:\n",
    "            continue\n",
    "        idx=(ctlist==ct)\n",
    "        if not img is None:\n",
    "            ax.scatter(\n",
    "                embedding[idx, plotdimy],\n",
    "                embedding[idx, plotdimx],\n",
    "#                 color=colortest[celltypes_dict[ct]],label=ct,s=1.5,alpha=0.5\n",
    "                color=colortest[int(ct)],label=ct,s=1.5,alpha=0.5\n",
    "                )\n",
    "        else:\n",
    "            ax.scatter(\n",
    "                embedding[idx, plotdimx],\n",
    "                embedding[idx, plotdimy],\n",
    "#                 color=colortest[celltypes_dict[ct]],label=ct,s=1.5,alpha=0.5\n",
    "                color=colortest[int(ct)],label=ct,s=2.5,alpha=1\n",
    "                )\n",
    "\n",
    "    plt.gca().set_aspect('equal', 'datalim')\n",
    "    fig.set_figheight(5)\n",
    "    fig.set_figwidth(5)\n",
    "    box = ax.get_position()\n",
    "    ax.set_position([box.x0, box.y0 + box.height * 0.1,\n",
    "                     box.width, box.height * 0.9])\n",
    "    # Put a legend below current axis\n",
    "#     ax.legend(loc='upper center', bbox_to_anchor=(0.5, -0.05),\n",
    "#               fancybox=True, shadow=True, ncol=2,prop={'size': 6})\n",
    "    ax.legend(loc='upper center', bbox_to_anchor=(0.5, -0.05),\n",
    "              fancybox=True,ncol=5, shadow=True,prop={'size': 6})\n",
    "#     ax.legend(ncol=3)\n",
    "    plt.title(plotname+' embedding', fontsize=12)\n",
    "    plt.savefig(os.path.join(savepath,savename+savenameAdd+'.jpg'))\n",
    "#     plt.show()\n",
    "    \n",
    "#     fig.clf()\n",
    "    plt.close('all')\n",
    "    \n",
    "    gc.collect()\n",
    "    \n",
    "def plotembeddingbyCT_str(ctlist,savename,excludelist,embedding,savepath,plotname,plotdimx=0,plotdimy=1,savenameAdd=''):\n",
    "    celltypes=np.unique(ctlist)\n",
    "    celltypes_dict={}\n",
    "    idx=0\n",
    "    for ct in celltypes:\n",
    "        celltypes_dict[ct]=idx\n",
    "        idx+=1\n",
    "        \n",
    "    colortest=sns.color_palette(\"husl\", celltypes.size)\n",
    "#     colortest=sns.color_palette(\"husl\", 4)\n",
    "#     np.random.shuffle(colortest)\n",
    "    fig, ax = plt.subplots(dpi=400)\n",
    "    for ct in celltypes:\n",
    "        if ct in excludelist:\n",
    "            continue\n",
    "        idx=(ctlist==ct)\n",
    "        ax.scatter(\n",
    "            embedding[idx, plotdimx],\n",
    "            embedding[idx, plotdimy],\n",
    "            color=colortest[celltypes_dict[ct]],label=ct,s=1.5,alpha=0.5\n",
    "#             color=colortest[int(ct)],label=ct,s=1.5,alpha=0.5\n",
    "            )\n",
    "\n",
    "    plt.gca().set_aspect('equal', 'datalim')\n",
    "    fig.set_figheight(5)\n",
    "    fig.set_figwidth(5)\n",
    "    box = ax.get_position()\n",
    "    ax.set_position([box.x0, box.y0 + box.height * 0.1,\n",
    "                     box.width, box.height * 0.9])\n",
    "    # Put a legend below current axis\n",
    "    ax.legend(loc='upper center', bbox_to_anchor=(0.5, -0.05),\n",
    "              fancybox=True,ncol=2, shadow=True,prop={'size': 6})\n",
    "#     ax.legend(ncol=3)\n",
    "    plt.title(plotname+' embedding', fontsize=24)\n",
    "#     plt.tight_layout()\n",
    "    plt.savefig(os.path.join(savepath,savename+savenameAdd+'.jpg'))\n",
    "#     plt.show()\n",
    "    \n",
    "#     fig.clf()\n",
    "    plt.close('all')\n",
    "    \n",
    "    gc.collect()\n",
    "    \n",
    "np.random.seed(seed)\n",
    "def plotembeddingbyCT_contrast(ctlist,savename,excludelist,embedding,savepath,plotname,plotdimx=0,plotdimy=1,savenameAdd='',maxplot=None): \n",
    "    celltypes=np.unique(ctlist)\n",
    "    celltypes_dict={}\n",
    "    idx=0\n",
    "    for ct in celltypes:\n",
    "        celltypes_dict[ct]=idx\n",
    "        idx+=1\n",
    "\n",
    "    colortest=sns.color_palette(\"tab10\")\n",
    "    if not os.path.exists(os.path.join(savepath)):\n",
    "        os.makedirs(savepath)\n",
    "\n",
    "    for ct in celltypes:\n",
    "        if maxplot and int(ct)>maxplot:\n",
    "            continue\n",
    "        fig, ax = plt.subplots()\n",
    "        if ct == 'Unassigned':\n",
    "            continue\n",
    "\n",
    "        idx=(ctlist!=ct)\n",
    "        ax.scatter(\n",
    "            embedding[idx, plotdimx],\n",
    "            embedding[idx, plotdimy],\n",
    "            color=colortest[1],label='others',s=1,alpha=0.5\n",
    "            )\n",
    "\n",
    "        idx=(ctlist==ct)\n",
    "        ax.scatter(\n",
    "            embedding[idx, plotdimx],\n",
    "            embedding[idx, plotdimy],\n",
    "            color=colortest[0],label=ct,s=3,alpha=0.5\n",
    "            )\n",
    "\n",
    "        plt.gca().set_aspect('equal', 'datalim')\n",
    "        fig.set_figheight(10)\n",
    "        fig.set_figwidth(10)\n",
    "        ax.legend()\n",
    "#         plt.title(plotname+' embedding', fontsize=24)\n",
    "        plt.gcf().savefig(os.path.join(savepath,savename+'_'+str(ct)+savenameAdd+'.jpg'))\n",
    "#         plt.show()\n",
    "#         nplot+=1\n",
    "        \n",
    "    \n",
    "#         fig.clf()\n",
    "        plt.close('all')\n",
    "        gc.collect()"
   ]
  },
  {
   "cell_type": "code",
   "execution_count": 21,
   "metadata": {},
   "outputs": [],
   "source": [
    "with open(os.path.join(datadir,'processed','train_cnnvae_names'), 'rb') as input:\n",
    "    allImgNames=pickle.load(input)\n",
    "    \n",
    "n_neighbors=10\n",
    "min_dist=0.25\n",
    "\n",
    "savenameAdd='_nn'+str(n_neighbors)+'mdist0'+str(int(min_dist*100))+'epoch'+str(ep)\n",
    "\n",
    "plottype='umap'\n",
    "sampledir=plotsavepath\n",
    "savedir=os.path.join(sampledir,'embedding_'+plottype)\n",
    "clustersavedir=os.path.join(sampledir,'cluster')\n",
    "if not os.path.exists(sampledir):\n",
    "    os.mkdir(sampledir)\n",
    "if not os.path.exists(savedir):\n",
    "    os.mkdir(savedir)\n",
    "if not os.path.exists(clustersavedir):\n",
    "    os.mkdir(clustersavedir)\n",
    "    \n",
    "#plot by disease progression\n",
    "br1003aSpecs=pd.read_excel('/media/xinyi/dcis2idc1/data/BR1003a specs.xlsx',header=10)\n",
    "br301Specs=pd.read_excel('/media/xinyi/dcis2idc1/data/BR301 specs.xlsx',header=10)\n",
    "br8018aSpecs=pd.read_excel('/media/xinyi/dcis2idc1/data/BR8018a specs.xlsx',header=10)\n",
    "br1003aSpecs.index=br1003aSpecs.loc[:,'Position']\n",
    "br301Specs.index=br301Specs.loc[:,'Position']\n",
    "br8018aSpecs.index=br8018aSpecs.loc[:,'Position']\n",
    "\n",
    "progList=np.copy(allImgNames)\n",
    "for s in np.unique(allImgNames):\n",
    "    ssplit=s.split('_')\n",
    "    if 'br1003a'==ssplit[0]:\n",
    "        prog_s=br1003aSpecs.loc[(ssplit[-1],'Pathology diagnosis')]\n",
    "    elif 'br301'==ssplit[0]:\n",
    "        prog_s=br301Specs.loc[(ssplit[-1],'Pathology diagnosis')]\n",
    "    elif 'br8018a'==ssplit[0]:\n",
    "        prog_s=br8018aSpecs.loc[(ssplit[-1],'Pathology diagnosis')]\n",
    "    progList[allImgNames==s]=prog_s\n",
    "    \n"
   ]
  },
  {
   "cell_type": "code",
   "execution_count": 22,
   "metadata": {},
   "outputs": [],
   "source": [
    "plotepoch=str(ep)\n",
    "def clusterMinibatchKmean_single(inArray,ncluster,n_pcs,batchsize=400):\n",
    "    n_pcs=np.min([inArray.shape[0]-1,inArray.shape[1]-1,n_pcs])\n",
    "    batchsize=int(np.min([(inArray.shape[0]-1)/3,(inArray.shape[1]-1)/3,batchsize]))\n",
    "    \n",
    "    kmeansestimator= MiniBatchKMeans(n_clusters=ncluster,random_state=seed,batch_size=batchsize).fit(inArray[:,:n_pcs])\n",
    "    return kmeansestimator\n",
    "\n",
    "def clusterMinibatchKmean_allsample(savedir,clustersavedir,inArray,nclusterL,n_pcs,sobj_coord_np,samplenameList,savenameAdd='',plotOnly=False,plotUpdate=True,clusterOnly=False,embeddingSub=None):\n",
    "    if not plotOnly:\n",
    "        pca=PCA(copy=True) \n",
    "        pca=pca.fit(inArray)\n",
    "        inArray=pca.transform(inArray)\n",
    "        savenamepca='pca_epoch'+str(plotepoch)+savenameAdd\n",
    "        with open(os.path.join(clustersavedir,savenamepca), 'wb') as output:\n",
    "            pickle.dump(pca, output, pickle.HIGHEST_PROTOCOL)\n",
    "    \n",
    "    inertiaList=np.zeros(len(nclusterL))\n",
    "    for nclusterIdx in range(len(nclusterL)):\n",
    "        ncluster=nclusterL[nclusterIdx]\n",
    "        gc.collect()\n",
    "        print(ncluster)\n",
    "        savenamecluster='minibatchkmean_ncluster'+str(ncluster)+'n_pcs'+str(n_pcs)+'epoch'+str(plotepoch)+savenameAdd\n",
    "        if plotOnly and os.path.exists(os.path.join(clustersavedir,savenamecluster)):\n",
    "            with open(os.path.join(clustersavedir,savenamecluster), 'rb') as output:\n",
    "                clusterRes=pickle.load(output)\n",
    "        else:\n",
    "            kmeansestimator=clusterMinibatchKmean_single(inArray,ncluster,n_pcs)\n",
    "            clusterRes=kmeansestimator.labels_\n",
    "            savenamecluster='minibatchkmean_ncluster'+str(ncluster)+'n_pcs'+str(n_pcs)+'epoch'+str(plotepoch)+savenameAdd\n",
    "            with open(os.path.join(clustersavedir,savenamecluster), 'wb') as output:\n",
    "                pickle.dump(kmeansestimator.labels_, output, pickle.HIGHEST_PROTOCOL)\n",
    "            with open(os.path.join(clustersavedir,savenamecluster+'_estimator'), 'wb') as output:\n",
    "                pickle.dump(kmeansestimator, output, pickle.HIGHEST_PROTOCOL)\n",
    "            if embeddingSub is None:\n",
    "                plotembeddingbyCT(clusterRes,'minibatchkmean',[],embedding,savedir,plottype+' of all samples',savenameAdd=savenamecluster)\n",
    "                plotembeddingbyCT_contrast(clusterRes,'minibatchkmean',[],embedding,os.path.join(savedir,'contrast'),plottype+' of all samples',savenameAdd=savenamecluster,maxplot=50)\n",
    "            else:\n",
    "                plotembeddingbyCT(clusterRes,'minibatchkmean',[],embeddingSub,savedir,plottype+' of all samples',savenameAdd=savenamecluster)\n",
    "                plotembeddingbyCT_contrast(clusterRes,'minibatchkmean',[],embeddingSub,os.path.join(savedir,'contrast'),plottype+' of all samples',savenameAdd=savenamecluster,maxplot=50)\n",
    "\n",
    "        \n",
    "        if not plotOnly:\n",
    "            inertiaList[nclusterIdx]=kmeansestimator.inertia_\n",
    "            \n",
    "    if not plotOnly:\n",
    "        plt.plot(nclusterL, inertiaList, 'bx-')\n",
    "        plt.xlabel('Values of K')\n",
    "        plt.ylabel('Inertia')\n",
    "        plt.savefig(os.path.join(savedir,'minibatchkmean'+savenamecluster+'_elbow.jpg'))\n",
    "        plt.close()\n",
    "         "
   ]
  },
  {
   "cell_type": "code",
   "execution_count": 23,
   "metadata": {},
   "outputs": [],
   "source": [
    "progNames,progCounts=np.unique(progList,return_counts=True)\n",
    "progSampleRate={}\n",
    "for p in range(progNames.size):\n",
    "    progSampleRate[progNames[p]]=np.min(progCounts)/progCounts[p]"
   ]
  },
  {
   "cell_type": "code",
   "execution_count": 24,
   "metadata": {},
   "outputs": [
    {
     "name": "stdout",
     "output_type": "stream",
     "text": [
      "br1003a_1_cytokeratin_555_aSMA_647_hoechst_A1 Hyperplasia\n",
      "br1003a_1_cytokeratin_555_aSMA_647_hoechst_A2 Hyperplasia\n",
      "br1003a_1_cytokeratin_555_aSMA_647_hoechst_A4 Hyperplasia\n",
      "br1003a_1_cytokeratin_555_aSMA_647_hoechst_A5 Hyperplasia\n",
      "br1003a_1_cytokeratin_555_aSMA_647_hoechst_A6 Hyperplasia\n",
      "br1003a_1_cytokeratin_555_aSMA_647_hoechst_A7 Hyperplasia\n",
      "br1003a_1_cytokeratin_555_aSMA_647_hoechst_A8 Hyperplasia\n",
      "br1003a_1_cytokeratin_555_aSMA_647_hoechst_A9 Hyperplasia\n",
      "br1003a_1_cytokeratin_555_aSMA_647_hoechst_C1 Atypical hyperplasia\n",
      "br1003a_1_cytokeratin_555_aSMA_647_hoechst_C10 Hyperplasia\n",
      "br1003a_1_cytokeratin_555_aSMA_647_hoechst_C2 Hyperplasia\n",
      "br1003a_1_cytokeratin_555_aSMA_647_hoechst_C3 Atypical hyperplasia\n",
      "br1003a_1_cytokeratin_555_aSMA_647_hoechst_C4 Atypical hyperplasia\n",
      "br1003a_1_cytokeratin_555_aSMA_647_hoechst_C5 Atypical hyperplasia\n",
      "br1003a_1_cytokeratin_555_aSMA_647_hoechst_C6 Atypical hyperplasia\n",
      "br1003a_1_cytokeratin_555_aSMA_647_hoechst_C7 Hyperplasia\n",
      "br1003a_1_cytokeratin_555_aSMA_647_hoechst_C8 Hyperplasia\n",
      "br1003a_1_cytokeratin_555_aSMA_647_hoechst_C9 Hyperplasia\n",
      "br1003a_1_cytokeratin_555_aSMA_647_hoechst_I1 Breast tissue\n",
      "br1003a_1_cytokeratin_555_aSMA_647_hoechst_I10 Breast tissue\n",
      "br1003a_1_cytokeratin_555_aSMA_647_hoechst_I2 Breast tissue\n",
      "br1003a_1_cytokeratin_555_aSMA_647_hoechst_I3 Breast tissue\n",
      "br1003a_1_cytokeratin_555_aSMA_647_hoechst_I7 Breast tissue\n",
      "br1003a_1_cytokeratin_555_aSMA_647_hoechst_I8 Breast tissue\n",
      "br1003a_1_cytokeratin_555_aSMA_647_hoechst_I9 Breast tissue\n",
      "br1003a_3_collagen1_647_hoechst_A1 Hyperplasia\n",
      "br1003a_3_collagen1_647_hoechst_A2 Hyperplasia\n",
      "br1003a_3_collagen1_647_hoechst_A3 Hyperplasia\n",
      "br1003a_3_collagen1_647_hoechst_A5 Hyperplasia\n",
      "br1003a_3_collagen1_647_hoechst_A6 Hyperplasia\n",
      "br1003a_3_collagen1_647_hoechst_A7 Hyperplasia\n",
      "br1003a_3_collagen1_647_hoechst_A8 Hyperplasia\n",
      "br1003a_3_collagen1_647_hoechst_A9 Hyperplasia\n",
      "br1003a_3_collagen1_647_hoechst_C1 Atypical hyperplasia\n",
      "br1003a_3_collagen1_647_hoechst_C10 Hyperplasia\n",
      "br1003a_3_collagen1_647_hoechst_C2 Hyperplasia\n",
      "br1003a_3_collagen1_647_hoechst_C3 Atypical hyperplasia\n",
      "br1003a_3_collagen1_647_hoechst_C4 Atypical hyperplasia\n",
      "br1003a_3_collagen1_647_hoechst_C5 Atypical hyperplasia\n",
      "br1003a_3_collagen1_647_hoechst_C6 Atypical hyperplasia\n",
      "br1003a_3_collagen1_647_hoechst_C7 Hyperplasia\n",
      "br1003a_3_collagen1_647_hoechst_C8 Hyperplasia\n",
      "br1003a_3_collagen1_647_hoechst_C9 Hyperplasia\n",
      "br1003a_3_collagen1_647_hoechst_I1 Breast tissue\n",
      "br1003a_3_collagen1_647_hoechst_I10 Breast tissue\n",
      "br1003a_3_collagen1_647_hoechst_I2 Breast tissue\n",
      "br1003a_3_collagen1_647_hoechst_I3 Breast tissue\n",
      "br1003a_3_collagen1_647_hoechst_I7 Breast tissue\n",
      "br1003a_3_collagen1_647_hoechst_I8 Breast tissue\n",
      "br1003a_3_collagen1_647_hoechst_I9 Breast tissue\n",
      "br1003a_4_cytokeratin_555_gh2ax_647_hoechst_A1 Hyperplasia\n",
      "br1003a_4_cytokeratin_555_gh2ax_647_hoechst_A10 Hyperplasia\n",
      "br1003a_4_cytokeratin_555_gh2ax_647_hoechst_A2 Hyperplasia\n",
      "br1003a_4_cytokeratin_555_gh2ax_647_hoechst_A3 Hyperplasia\n",
      "br1003a_4_cytokeratin_555_gh2ax_647_hoechst_A4 Hyperplasia\n",
      "br1003a_4_cytokeratin_555_gh2ax_647_hoechst_A5 Hyperplasia\n",
      "br1003a_4_cytokeratin_555_gh2ax_647_hoechst_A6 Hyperplasia\n",
      "br1003a_4_cytokeratin_555_gh2ax_647_hoechst_A7 Hyperplasia\n",
      "br1003a_4_cytokeratin_555_gh2ax_647_hoechst_A8 Hyperplasia\n",
      "br1003a_4_cytokeratin_555_gh2ax_647_hoechst_A9 Hyperplasia\n",
      "br1003a_4_cytokeratin_555_gh2ax_647_hoechst_C1 Atypical hyperplasia\n",
      "br1003a_4_cytokeratin_555_gh2ax_647_hoechst_C10 Hyperplasia\n",
      "br1003a_4_cytokeratin_555_gh2ax_647_hoechst_C2 Hyperplasia\n",
      "br1003a_4_cytokeratin_555_gh2ax_647_hoechst_C4 Atypical hyperplasia\n",
      "br1003a_4_cytokeratin_555_gh2ax_647_hoechst_C5 Atypical hyperplasia\n",
      "br1003a_4_cytokeratin_555_gh2ax_647_hoechst_C6 Atypical hyperplasia\n",
      "br1003a_4_cytokeratin_555_gh2ax_647_hoechst_C7 Hyperplasia\n",
      "br1003a_4_cytokeratin_555_gh2ax_647_hoechst_C8 Hyperplasia\n",
      "br1003a_4_cytokeratin_555_gh2ax_647_hoechst_C9 Hyperplasia\n",
      "br1003a_4_cytokeratin_555_gh2ax_647_hoechst_I1 Breast tissue\n",
      "br1003a_4_cytokeratin_555_gh2ax_647_hoechst_I2 Breast tissue\n",
      "br1003a_4_cytokeratin_555_gh2ax_647_hoechst_I3 Breast tissue\n",
      "br1003a_4_cytokeratin_555_gh2ax_647_hoechst_I7 Breast tissue\n",
      "br1003a_4_cytokeratin_555_gh2ax_647_hoechst_I8 Breast tissue\n",
      "br1003a_4_cytokeratin_555_gh2ax_647_hoechst_I9 Breast tissue\n",
      "br301_4_cytokeratin_555_aSMA_647_hoechst_A1 Ductal carcinoma in situ and breast tissue\n",
      "br301_4_cytokeratin_555_aSMA_647_hoechst_A2 Ductal carcinoma in situ with early infiltratio\n",
      "br301_4_cytokeratin_555_aSMA_647_hoechst_A3 Ductal carcinoma in situ\n",
      "br301_4_cytokeratin_555_aSMA_647_hoechst_A4 Ductal carcinoma in situ\n",
      "br301_4_cytokeratin_555_aSMA_647_hoechst_A5 Ductal carcinoma in situ and breast tissue\n",
      "br301_4_cytokeratin_555_aSMA_647_hoechst_A6 Ductal carcinoma in situ and breast tissue\n",
      "br301_4_cytokeratin_555_aSMA_647_hoechst_B1 Invasive ductal carcinoma\n",
      "br301_4_cytokeratin_555_aSMA_647_hoechst_B2 Ductal carcinoma in situ and breast tissue\n",
      "br301_4_cytokeratin_555_aSMA_647_hoechst_B3 Ductal carcinoma in situ and breast tissue\n",
      "br301_4_cytokeratin_555_aSMA_647_hoechst_B4 Ductal carcinoma in situ and breast tissue\n",
      "br301_4_cytokeratin_555_aSMA_647_hoechst_B5 Invasive ductal carcinoma and breast tissue\n",
      "br301_4_cytokeratin_555_aSMA_647_hoechst_B6 Invasive ductal carcinoma and breast tissue\n",
      "br301_4_cytokeratin_555_aSMA_647_hoechst_C1 Ductal carcinoma in situ with early infiltratio\n",
      "br301_4_cytokeratin_555_aSMA_647_hoechst_C2 Ductal carcinoma in situ with early infiltratio\n",
      "br301_4_cytokeratin_555_aSMA_647_hoechst_C3 Micropapillary type ductal carcinoma in situ wi\n",
      "br301_4_cytokeratin_555_aSMA_647_hoechst_C4 Micropapillary type ductal carcinoma in situ wi\n",
      "br301_4_cytokeratin_555_aSMA_647_hoechst_C5 Ductal carcinoma in situ with early infiltratio\n",
      "br301_4_cytokeratin_555_aSMA_647_hoechst_C6 Ductal carcinoma in situ with early infiltratio\n",
      "br301_4_cytokeratin_555_aSMA_647_hoechst_D1 Ductal carcinoma in situ with early infiltratio\n",
      "br301_4_cytokeratin_555_aSMA_647_hoechst_D2 Ductal carcinoma in situ with early infiltratio\n",
      "br301_4_cytokeratin_555_aSMA_647_hoechst_D3 Invasive ductal carcinoma and breast tissue\n",
      "br301_4_cytokeratin_555_aSMA_647_hoechst_D4 Invasive ductal carcinoma\n",
      "br301_4_cytokeratin_555_aSMA_647_hoechst_D5 Ductal carcinoma in situ with early infiltratio\n",
      "br301_4_cytokeratin_555_aSMA_647_hoechst_D6 Ductal carcinoma in situ with early infiltratio\n",
      "br301_4_cytokeratin_555_aSMA_647_hoechst_E1 Ductal carcinoma in situ with early infiltratio\n",
      "br301_4_cytokeratin_555_aSMA_647_hoechst_E2 Ductal carcinoma in situ with early infiltratio\n",
      "br301_4_cytokeratin_555_aSMA_647_hoechst_E3 Invasive ductal carcinoma and breast tissue\n",
      "br301_4_cytokeratin_555_aSMA_647_hoechst_E4 Invasive ductal carcinoma\n",
      "br301_4_cytokeratin_555_aSMA_647_hoechst_E5 Ductal carcinoma in situ with early infiltratio\n",
      "br301_4_cytokeratin_555_aSMA_647_hoechst_E6 Ductal carcinoma in situ with early infiltratio\n",
      "br301_6_collagen1_647_hoechst_A1 Ductal carcinoma in situ and breast tissue\n",
      "br301_6_collagen1_647_hoechst_A2 Ductal carcinoma in situ with early infiltratio\n",
      "br301_6_collagen1_647_hoechst_A3 Ductal carcinoma in situ\n",
      "br301_6_collagen1_647_hoechst_A4 Ductal carcinoma in situ\n",
      "br301_6_collagen1_647_hoechst_A5 Ductal carcinoma in situ and breast tissue\n",
      "br301_6_collagen1_647_hoechst_A6 Ductal carcinoma in situ and breast tissue\n",
      "br301_6_collagen1_647_hoechst_B1 Invasive ductal carcinoma\n",
      "br301_6_collagen1_647_hoechst_B2 Ductal carcinoma in situ and breast tissue\n",
      "br301_6_collagen1_647_hoechst_B3 Ductal carcinoma in situ and breast tissue\n",
      "br301_6_collagen1_647_hoechst_B4 Ductal carcinoma in situ and breast tissue\n",
      "br301_6_collagen1_647_hoechst_B5 Invasive ductal carcinoma and breast tissue\n",
      "br301_6_collagen1_647_hoechst_B6 Invasive ductal carcinoma and breast tissue\n",
      "br301_6_collagen1_647_hoechst_C1 Ductal carcinoma in situ with early infiltratio\n",
      "br301_6_collagen1_647_hoechst_C2 Ductal carcinoma in situ with early infiltratio\n",
      "br301_6_collagen1_647_hoechst_C3 Micropapillary type ductal carcinoma in situ wi\n",
      "br301_6_collagen1_647_hoechst_C4 Micropapillary type ductal carcinoma in situ wi\n",
      "br301_6_collagen1_647_hoechst_C5 Ductal carcinoma in situ with early infiltratio\n",
      "br301_6_collagen1_647_hoechst_C6 Ductal carcinoma in situ with early infiltratio\n",
      "br301_6_collagen1_647_hoechst_D1 Ductal carcinoma in situ with early infiltratio\n"
     ]
    },
    {
     "name": "stdout",
     "output_type": "stream",
     "text": [
      "br301_6_collagen1_647_hoechst_D2 Ductal carcinoma in situ with early infiltratio\n",
      "br301_6_collagen1_647_hoechst_D3 Invasive ductal carcinoma and breast tissue\n",
      "br301_6_collagen1_647_hoechst_D4 Invasive ductal carcinoma\n",
      "br301_6_collagen1_647_hoechst_D5 Ductal carcinoma in situ with early infiltratio\n",
      "br301_6_collagen1_647_hoechst_D6 Ductal carcinoma in situ with early infiltratio\n",
      "br301_6_collagen1_647_hoechst_E1 Ductal carcinoma in situ with early infiltratio\n",
      "br301_6_collagen1_647_hoechst_E2 Ductal carcinoma in situ with early infiltratio\n",
      "br301_6_collagen1_647_hoechst_E3 Invasive ductal carcinoma and breast tissue\n",
      "br301_6_collagen1_647_hoechst_E4 Invasive ductal carcinoma\n",
      "br301_6_collagen1_647_hoechst_E5 Ductal carcinoma in situ with early infiltratio\n",
      "br301_6_collagen1_647_hoechst_E6 Ductal carcinoma in situ with early infiltratio\n",
      "br8018a_1_cytokeratin_555_aSMA_647_hoechst_A1 Invasive ductal carcinoma\n",
      "br8018a_1_cytokeratin_555_aSMA_647_hoechst_A10 Invasive ductal carcinoma\n",
      "br8018a_1_cytokeratin_555_aSMA_647_hoechst_A2 Invasive ductal carcinoma\n",
      "br8018a_1_cytokeratin_555_aSMA_647_hoechst_A3 Invasive ductal carcinoma\n",
      "br8018a_1_cytokeratin_555_aSMA_647_hoechst_A4 Invasive ductal carcinoma\n",
      "br8018a_1_cytokeratin_555_aSMA_647_hoechst_A5 Invasive ductal carcinoma\n",
      "br8018a_1_cytokeratin_555_aSMA_647_hoechst_A6 Invasive ductal carcinoma\n",
      "br8018a_1_cytokeratin_555_aSMA_647_hoechst_A7 Invasive ductal carcinoma\n",
      "br8018a_1_cytokeratin_555_aSMA_647_hoechst_A8 Invasive ductal carcinoma\n",
      "br8018a_1_cytokeratin_555_aSMA_647_hoechst_A9 Invasive ductal carcinoma\n",
      "br8018a_1_cytokeratin_555_aSMA_647_hoechst_B1 Invasive ductal carcinoma\n",
      "br8018a_1_cytokeratin_555_aSMA_647_hoechst_B10 Invasive ductal carcinoma\n",
      "br8018a_1_cytokeratin_555_aSMA_647_hoechst_B2 Invasive ductal carcinoma\n",
      "br8018a_1_cytokeratin_555_aSMA_647_hoechst_B3 Invasive ductal carcinoma\n",
      "br8018a_1_cytokeratin_555_aSMA_647_hoechst_B4 Invasive ductal carcinoma\n",
      "br8018a_1_cytokeratin_555_aSMA_647_hoechst_B5 Invasive ductal carcinoma\n",
      "br8018a_1_cytokeratin_555_aSMA_647_hoechst_B6 Invasive ductal carcinoma (breast tissue)\n",
      "br8018a_1_cytokeratin_555_aSMA_647_hoechst_B7 Invasive ductal carcinoma\n",
      "br8018a_1_cytokeratin_555_aSMA_647_hoechst_B8 Invasive ductal carcinoma\n",
      "br8018a_1_cytokeratin_555_aSMA_647_hoechst_F1 Invasive ductal carcinoma\n",
      "br8018a_1_cytokeratin_555_aSMA_647_hoechst_F10 Invasive ductal carcinoma\n",
      "br8018a_1_cytokeratin_555_aSMA_647_hoechst_F2 Invasive ductal carcinoma\n",
      "br8018a_1_cytokeratin_555_aSMA_647_hoechst_F3 Invasive ductal carcinoma\n",
      "br8018a_1_cytokeratin_555_aSMA_647_hoechst_F4 Invasive ductal carcinoma\n",
      "br8018a_1_cytokeratin_555_aSMA_647_hoechst_F5 Invasive ductal carcinoma\n",
      "br8018a_1_cytokeratin_555_aSMA_647_hoechst_F6 Invasive ductal carcinoma\n",
      "br8018a_1_cytokeratin_555_aSMA_647_hoechst_F7 Invasive ductal carcinoma\n",
      "br8018a_1_cytokeratin_555_aSMA_647_hoechst_F8 Invasive ductal carcinoma\n",
      "br8018a_1_cytokeratin_555_aSMA_647_hoechst_F9 Invasive ductal carcinoma\n",
      "br8018a_1_cytokeratin_555_aSMA_647_hoechst_H1 Cancer adjacent normal breast tissue\n",
      "br8018a_1_cytokeratin_555_aSMA_647_hoechst_H2 Cancer adjacent normal breast tissue\n",
      "br8018a_1_cytokeratin_555_aSMA_647_hoechst_H3 Cancer adjacent normal breast tissue\n",
      "br8018a_1_cytokeratin_555_aSMA_647_hoechst_H4 Cancer adjacent normal breast tissue\n",
      "br8018a_1_cytokeratin_555_aSMA_647_hoechst_H5 Cancer adjacent normal breast tissue\n",
      "br8018a_1_cytokeratin_555_aSMA_647_hoechst_H6 Cancer adjacent normal breast tissue\n",
      "br8018a_1_cytokeratin_555_aSMA_647_hoechst_H7 Cancer adjacent normal breast tissue\n",
      "br8018a_1_cytokeratin_555_aSMA_647_hoechst_H8 Cancer adjacent normal breast tissue\n",
      "br8018a_3_collagen1_647_hoechst_A1 Invasive ductal carcinoma\n",
      "br8018a_3_collagen1_647_hoechst_A2 Invasive ductal carcinoma\n",
      "br8018a_3_collagen1_647_hoechst_A3 Invasive ductal carcinoma\n",
      "br8018a_3_collagen1_647_hoechst_A4 Invasive ductal carcinoma\n",
      "br8018a_3_collagen1_647_hoechst_A6 Invasive ductal carcinoma\n",
      "br8018a_3_collagen1_647_hoechst_A7 Invasive ductal carcinoma\n",
      "br8018a_3_collagen1_647_hoechst_A8 Invasive ductal carcinoma\n",
      "br8018a_3_collagen1_647_hoechst_A9 Invasive ductal carcinoma\n",
      "br8018a_3_collagen1_647_hoechst_B1 Invasive ductal carcinoma\n",
      "br8018a_3_collagen1_647_hoechst_B10 Invasive ductal carcinoma\n",
      "br8018a_3_collagen1_647_hoechst_B2 Invasive ductal carcinoma\n",
      "br8018a_3_collagen1_647_hoechst_B3 Invasive ductal carcinoma\n",
      "br8018a_3_collagen1_647_hoechst_B4 Invasive ductal carcinoma\n",
      "br8018a_3_collagen1_647_hoechst_B5 Invasive ductal carcinoma\n",
      "br8018a_3_collagen1_647_hoechst_B6 Invasive ductal carcinoma (breast tissue)\n",
      "br8018a_3_collagen1_647_hoechst_B7 Invasive ductal carcinoma\n",
      "br8018a_3_collagen1_647_hoechst_B8 Invasive ductal carcinoma\n",
      "br8018a_3_collagen1_647_hoechst_B9 Invasive ductal carcinoma\n",
      "br8018a_3_collagen1_647_hoechst_F10 Invasive ductal carcinoma\n",
      "br8018a_3_collagen1_647_hoechst_F3 Invasive ductal carcinoma\n",
      "br8018a_3_collagen1_647_hoechst_F4 Invasive ductal carcinoma\n",
      "br8018a_3_collagen1_647_hoechst_F6 Invasive ductal carcinoma\n",
      "br8018a_3_collagen1_647_hoechst_F7 Invasive ductal carcinoma\n",
      "br8018a_3_collagen1_647_hoechst_F8 Invasive ductal carcinoma\n",
      "br8018a_3_collagen1_647_hoechst_F9 Invasive ductal carcinoma\n",
      "br8018a_4_cytokeratin_555_gh2ax_647_hoechst_A2 Invasive ductal carcinoma\n",
      "br8018a_4_cytokeratin_555_gh2ax_647_hoechst_A3 Invasive ductal carcinoma\n",
      "br8018a_4_cytokeratin_555_gh2ax_647_hoechst_A5 Invasive ductal carcinoma\n",
      "br8018a_4_cytokeratin_555_gh2ax_647_hoechst_A7 Invasive ductal carcinoma\n",
      "br8018a_4_cytokeratin_555_gh2ax_647_hoechst_A8 Invasive ductal carcinoma\n",
      "br8018a_4_cytokeratin_555_gh2ax_647_hoechst_B4 Invasive ductal carcinoma\n",
      "br8018a_4_cytokeratin_555_gh2ax_647_hoechst_B5 Invasive ductal carcinoma\n",
      "br8018a_4_cytokeratin_555_gh2ax_647_hoechst_B6 Invasive ductal carcinoma (breast tissue)\n",
      "br8018a_4_cytokeratin_555_gh2ax_647_hoechst_B7 Invasive ductal carcinoma\n",
      "br8018a_4_cytokeratin_555_gh2ax_647_hoechst_F3 Invasive ductal carcinoma\n",
      "br8018a_4_cytokeratin_555_gh2ax_647_hoechst_F4 Invasive ductal carcinoma\n",
      "br8018a_4_cytokeratin_555_gh2ax_647_hoechst_F7 Invasive ductal carcinoma\n",
      "br8018a_4_cytokeratin_555_gh2ax_647_hoechst_F8 Invasive ductal carcinoma\n",
      "br8018a_4_cytokeratin_555_gh2ax_647_hoechst_H1 Cancer adjacent normal breast tissue\n",
      "br8018a_4_cytokeratin_555_gh2ax_647_hoechst_H3 Cancer adjacent normal breast tissue\n",
      "br8018a_4_cytokeratin_555_gh2ax_647_hoechst_H5 Cancer adjacent normal breast tissue\n",
      "br8018a_4_cytokeratin_555_gh2ax_647_hoechst_H6 Cancer adjacent normal breast tissue\n",
      "br8018a_4_cytokeratin_555_gh2ax_647_hoechst_H8 Cancer adjacent normal breast tissue\n",
      "8\n"
     ]
    }
   ],
   "source": [
    "np.random.seed(6)\n",
    "# plotPCT=4500\n",
    "plottingIdx_i=np.array([])\n",
    "n_pcs=50\n",
    "uniqueImgNames,imgNameIdx=np.unique(allImgNames,return_index=True)\n",
    "for i in range(1):\n",
    "    for sidx in range(uniqueImgNames.size):\n",
    "        s=uniqueImgNames[sidx]\n",
    "        p=progList[imgNameIdx[sidx]]\n",
    "        print(s+' '+p)\n",
    "        nsamples=int(np.sum(allImgNames==s)*progSampleRate[p])\n",
    "        plottingIdx_i=np.concatenate((plottingIdx_i,\n",
    "                                    np.random.choice(np.arange(allImgNames.shape[0])[allImgNames==s],nsamples,replace=False)))\n",
    "    \n",
    "    np.random.seed(6)\n",
    "    n_neighbors=10\n",
    "    min_dist=0.25\n",
    "    reducer = umap.UMAP(n_neighbors=n_neighbors,min_dist=min_dist,random_state=seed).fit(latent[plottingIdx_i.astype(int)])\n",
    "    savenameAdd='_nn'+str(n_neighbors)+'mdist0'+str(int(min_dist*100))+'epoch'+str(ep)\n",
    "\n",
    "    with open(os.path.join(modelsavepath,'umap_plottingIdx_progBalanced_'+str(i)+savenameAdd), 'wb') as output:\n",
    "        pickle.dump(reducer, output, pickle.HIGHEST_PROTOCOL)\n",
    "        \n",
    "    embedding=reducer.embedding_    \n",
    "    clusterMinibatchKmean_allsample(savedir,clustersavedir,latent[plottingIdx_i.astype(int)],[8],n_pcs,None,allImgNames[plottingIdx_i.astype(int)],'_plottingIdx_progBalanced_'+str(i))\n",
    "    gc.collect()"
   ]
  },
  {
   "cell_type": "code",
   "execution_count": 25,
   "metadata": {},
   "outputs": [],
   "source": [
    "def plotCTcomp_hist(labels,ctlist,savepath,savenamecluster,byCT,addname=''):\n",
    "    res=np.zeros((np.unique(labels).size,np.unique(ctlist).size))\n",
    "    for li in range(res.shape[0]):\n",
    "        l=np.unique(labels)[li]\n",
    "        nl=np.sum(labels==l)\n",
    "        ctlist_l=ctlist[labels==l]\n",
    "        for ci in range(res.shape[1]):\n",
    "            c=np.unique(ctlist)[ci]\n",
    "            res[li,ci]=np.sum(ctlist_l==c)\n",
    "#             res[li,ci]=np.sum(ctlist_l==c)/nl\n",
    "    if not byCT:\n",
    "        addname+=''\n",
    "        for li in range(res.shape[0]):\n",
    "            l=np.unique(labels)[li]\n",
    "            nl=np.sum(labels==l)\n",
    "            res[li]=res[li]/nl\n",
    "    else:\n",
    "        addname+='_normbyCT'\n",
    "        for ci in range(res.shape[1]):\n",
    "            c=np.unique(ctlist)[ci]\n",
    "            nc=np.sum(ctlist==c)\n",
    "            res[:,ci]=res[:,ci]/nc\n",
    "    \n",
    "    fig, ax = plt.subplots(nrows=res.shape[0], ncols=1,figsize=(10, 10),sharex=True,sharey=True)\n",
    "    for r in range(res.shape[0]):\n",
    "        ax[r].bar(np.arange(res.shape[1]),res[r])\n",
    "        ax[r].set_xticks(np.arange(np.unique(ctlist).size))\n",
    "        ax[r].set_xticklabels(np.unique(ctlist))\n",
    "        ax[r].set_ylim(0,1)\n",
    "        ax[r].set_ylabel(np.unique(labels)[r])\n",
    "        \n",
    "#         ax.set_yticks(np.arange(np.unique(labels).size))\n",
    "#         ax.set_yticklabels(np.unique(labels))\n",
    "#         ax.set_xticks(np.arange(np.unique(ctlist).size))\n",
    "#         ax.set_xticklabels(np.unique(ctlist))\n",
    "#         plt.setp(ax.get_xticklabels(), rotation=45, ha=\"right\",rotation_mode=\"anchor\")\n",
    "    fig.tight_layout()\n",
    "    plt.savefig(os.path.join(savepath,savenamecluster+addname+'.jpg'))\n",
    "    plt.close()"
   ]
  },
  {
   "cell_type": "code",
   "execution_count": 26,
   "metadata": {},
   "outputs": [],
   "source": [
    "plotsavenameAdd='_plottingIdx_progBalanced_'+str(i)"
   ]
  },
  {
   "cell_type": "code",
   "execution_count": 27,
   "metadata": {},
   "outputs": [],
   "source": [
    "import util.plot_new"
   ]
  },
  {
   "cell_type": "code",
   "execution_count": 29,
   "metadata": {},
   "outputs": [],
   "source": [
    "progList_comb=np.copy(progList)\n",
    "for p in np.unique(progList):\n",
    "    if p=='Ductal carcinoma in situ':\n",
    "        progList_comb[progList==p]='DCIS and breast tissue'\n",
    "        progList[progList==p]='DCIS'\n",
    "    elif p=='Ductal carcinoma in situ and breast tissue':\n",
    "        progList_comb[progList==p]='DCIS and breast tissue'\n",
    "        progList[progList==p]='DCIS and breast tissue'\n",
    "    elif p=='Ductal carcinoma in situ with early infiltratio':\n",
    "        progList_comb[progList==p]='DCIS with early infiltration'\n",
    "        progList[progList==p]='DCIS with early infiltration'\n",
    "    elif p=='Micropapillary type ductal carcinoma in situ wi':\n",
    "        progList_comb[progList==p]='DCIS with early infiltration'\n",
    "        progList[progList==p]='Micropapillary DCIS with early infiltration'\n",
    "    elif p=='Atypical hyperlasia':\n",
    "        progList_comb[progList==p]='Hyperplasia'"
   ]
  },
  {
   "cell_type": "code",
   "execution_count": 30,
   "metadata": {},
   "outputs": [],
   "source": [
    "ctorder=np.array(['Breast tissue','Cancer adjacent normal breast tissue','Invasive ductal carcinoma (breast tissue)','Hyperplasia','Atypical hyperplasia','DCIS and breast tissue','DCIS','DCIS with early infiltration', 'Micropapillary DCIS with early infiltration','Invasive ductal carcinoma and breast tissue','Invasive ductal carcinoma'])\n",
    "nclusterL=[8]\n",
    "for ncluster in nclusterL:\n",
    "    savenamecluster='minibatchkmean_ncluster'+str(ncluster)+'n_pcs'+str(n_pcs)+'epoch'+str(plotepoch)+plotsavenameAdd\n",
    "    with open(os.path.join(clustersavedir,savenamecluster), 'rb') as output:\n",
    "        clusterRes=pickle.load(output)\n",
    "    clusterplotsavepath=os.path.join(clustersavedir,savenamecluster+'_plots')\n",
    "    if not os.path.exists(clusterplotsavepath):\n",
    "        os.mkdir(clusterplotsavepath)\n",
    "    util.plot_new.plotCTcomp(clusterRes,progList[plottingIdx_i.astype(int)],clusterplotsavepath,'pathologyHeatmap_rename',False,ctorder=ctorder,vmin=0)\n",
    "    util.plot_new.plotCTcomp(clusterRes,progList[plottingIdx_i.astype(int)],clusterplotsavepath,'pathologyHeatmap_rename',True,ctorder=ctorder,vmin=0)"
   ]
  },
  {
   "cell_type": "code",
   "execution_count": 31,
   "metadata": {},
   "outputs": [],
   "source": [
    "neworder=[1,6,5,3,0,2,4,7]\n",
    "clusterRes_reordered=np.zeros_like(clusterRes)\n",
    "for c in range(ncluster):\n",
    "    cold=neworder[c]\n",
    "    clusterRes_reordered[clusterRes==cold]=c\n"
   ]
  },
  {
   "cell_type": "code",
   "execution_count": 32,
   "metadata": {},
   "outputs": [],
   "source": [
    "for ncluster in nclusterL:\n",
    "    savenamecluster='minibatchkmean_ncluster'+str(ncluster)+'n_pcs'+str(n_pcs)+'epoch'+str(plotepoch)+plotsavenameAdd\n",
    "    clusterplotsavepath=os.path.join(clustersavedir,savenamecluster+'_plots')\n",
    "    util.plot_new.plotCTcomp(clusterRes_reordered,progList[plottingIdx_i.astype(int)],clusterplotsavepath,'pathologyHeatmap_rename_reordered',False,ctorder=ctorder,vmin=0)\n",
    "    util.plot_new.plotCTcomp(clusterRes_reordered,progList[plottingIdx_i.astype(int)],clusterplotsavepath,'pathologyHeatmap_rename_reordered',True,ctorder=ctorder,vmin=0)"
   ]
  },
  {
   "cell_type": "code",
   "execution_count": 33,
   "metadata": {},
   "outputs": [],
   "source": [
    "refDir=os.path.join('/media/xinyi/dcis2idc1/plots/cnnvaeexp0','cluster')\n",
    "savenamecluster='minibatchkmean_ncluster'+str(ncluster)+'n_pcs'+str(n_pcs)+'epoch'+str(plotepoch)+'_plottingIdx_progBalanced_'+str(i)+'_reordered'\n",
    "with open(os.path.join(refDir,savenamecluster), 'rb') as output:\n",
    "    clusterRes_ref=pickle.load(output)"
   ]
  },
  {
   "cell_type": "code",
   "execution_count": 34,
   "metadata": {},
   "outputs": [],
   "source": [
    "util.plot_new.plotCTcomp(clusterRes_reordered,clusterRes_ref,clusterplotsavepath,'compareToOriginal',False,vmin=0)\n"
   ]
  }
 ],
 "metadata": {
  "kernelspec": {
   "display_name": "Python 3",
   "language": "python",
   "name": "python3"
  },
  "language_info": {
   "codemirror_mode": {
    "name": "ipython",
    "version": 3
   },
   "file_extension": ".py",
   "mimetype": "text/x-python",
   "name": "python",
   "nbconvert_exporter": "python",
   "pygments_lexer": "ipython3",
   "version": "3.8.10"
  }
 },
 "nbformat": 4,
 "nbformat_minor": 5
}
